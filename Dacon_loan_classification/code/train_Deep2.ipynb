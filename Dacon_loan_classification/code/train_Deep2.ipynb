{
 "cells": [
  {
   "cell_type": "code",
   "execution_count": 126,
   "id": "initial_id",
   "metadata": {
    "collapsed": true,
    "ExecuteTime": {
     "end_time": "2024-01-17T07:51:49.588516100Z",
     "start_time": "2024-01-17T07:51:49.570528600Z"
    }
   },
   "outputs": [
    {
     "name": "stdout",
     "output_type": "stream",
     "text": [
      "cuda:0\n"
     ]
    }
   ],
   "source": [
    "import torch\n",
    "device = torch.device('cuda:0' if torch.cuda.is_available() else 'cpu')\n",
    "\n",
    "print(device)"
   ]
  },
  {
   "cell_type": "code",
   "execution_count": 127,
   "outputs": [],
   "source": [
    "import matplotlib.pyplot as plt\n",
    "import pandas as pd\n",
    "import numpy as np\n",
    "import seaborn as sns\n",
    "from sklearn.model_selection import GridSearchCV\n",
    "import xgboost as xgb\n",
    "from sklearn.svm import SVC\n",
    "from sklearn.ensemble import VotingClassifier\n",
    "from catboost import CatBoostClassifier\n",
    "\n",
    "from sklearn.model_selection import train_test_split\n",
    "from sklearn.cluster import DBSCAN\n",
    "from sklearn.preprocessing import MinMaxScaler\n",
    "from sklearn.metrics import f1_score\n",
    "from sklearn.ensemble import RandomForestClassifier\n",
    "from sklearn.metrics import accuracy_score\n",
    "from sklearn.ensemble import GradientBoostingClassifier\n",
    "import lightgbm as lgb\n",
    "from sklearn.linear_model import SGDClassifier\n",
    "from sklearn.ensemble import AdaBoostClassifier\n",
    "from sklearn.preprocessing import OneHotEncoder\n",
    "import pandas as pd\n",
    "from sklearn.metrics import f1_score, make_scorer\n",
    "from sklearn.model_selection import GridSearchCV, StratifiedKFold\n",
    "\n",
    "import warnings\n",
    "\n",
    "# 경고 무시\n",
    "warnings.filterwarnings(\"ignore\", category=FutureWarning)\n",
    "\n",
    "import os\n",
    "os.environ['KMP_DUPLICATE_LIB_OK']='True'\n",
    "\n",
    "import matplotlib.pyplot as plt\n",
    "import pandas as pd\n",
    "import numpy as np\n",
    "import seaborn as sns\n",
    "\n",
    "from sklearn.model_selection import train_test_split\n",
    "from sklearn.cluster import DBSCAN\n",
    "from sklearn.model_selection import train_test_split\n",
    "\n",
    "from sklearn.preprocessing import MinMaxScaler\n",
    "\n",
    "\n",
    "\n",
    "\n",
    "import torch\n",
    "from torch.utils.data import TensorDataset, DataLoader\n",
    "import torch.nn as nn\n",
    "import torch.optim as optim\n",
    "from torch.optim.lr_scheduler import StepLR\n"
   ],
   "metadata": {
    "collapsed": false,
    "ExecuteTime": {
     "end_time": "2024-01-17T07:51:49.819865100Z",
     "start_time": "2024-01-17T07:51:49.794932100Z"
    }
   },
   "id": "b5da86c4f41eaa10"
  },
  {
   "cell_type": "code",
   "execution_count": 128,
   "outputs": [],
   "source": [
    "train = pd.read_csv(\"../data/train_preprocessing.csv\")\n",
    "test = pd.read_csv(\"../data/test_preprocessing.csv\")\n",
    "sample_submission_id = pd.read_csv(\"../data/sample_submission.csv\")['ID'].values"
   ],
   "metadata": {
    "collapsed": false,
    "ExecuteTime": {
     "end_time": "2024-01-17T07:51:50.336620900Z",
     "start_time": "2024-01-17T07:51:50.057758800Z"
    }
   },
   "id": "db6e55bc1b88ca41"
  },
  {
   "cell_type": "code",
   "execution_count": 129,
   "outputs": [
    {
     "data": {
      "text/plain": "           대출금액  대출기간  근로기간  주택소유상태       연간소득  부채_대비_소득_비율      총계좌수  대출목적  \\\n0      12480000     0   3.0       3  18.092177     2.990720  2.772589     1   \n1      14400000     1   4.0       1  18.689180     3.149740  3.091042    10   \n2      12000000     0   2.0       1  18.379859     2.261763  2.708050     1   \n3      14400000     0   3.0       1  18.698312     2.778198  2.772589     1   \n4      18000000     1   0.0       3  18.088503     3.272985  2.995732     8   \n...         ...   ...   ...     ...        ...          ...       ...   ...   \n96289  14400000     0   4.0       1  19.162618     2.335052  3.526361     3   \n96290  28800000     1   4.0       1  18.698312     1.818077  3.258097    10   \n96291  14400000     0   1.0       1  18.246327     2.504709  3.135494     3   \n96292  15600000     0   2.0       1  18.010153     2.906901  3.091042     1   \n96293   8640000     0   4.0       3  17.735502     2.549445  2.708050     3   \n\n       최근_2년간_연체_횟수      총상환원금      총상환이자  총연체금액  연체계좌수  대출등급  \n0          0.000000   0.000000   0.000000    0.0    0.0     2  \n1          0.000000  12.830869  12.363337    0.0    0.0     1  \n2          0.000000  13.741482  11.931274    0.0    0.0     0  \n3          0.000000  12.694116  11.938905    0.0    0.0     2  \n4          0.000000  12.339471  11.911413    0.0    0.0     1  \n...             ...        ...        ...    ...    ...   ...  \n96289      0.000000  13.789763  13.106577    0.0    0.0     2  \n96290      0.000000  13.277192  13.658956    0.0    0.0     4  \n96291      0.000000  14.213702  12.393535    0.0    0.0     0  \n96292      1.098612  14.136411  13.614712    0.0    0.0     3  \n96293      0.000000  13.298246  12.524370    0.0    0.0     2  \n\n[96294 rows x 14 columns]",
      "text/html": "<div>\n<style scoped>\n    .dataframe tbody tr th:only-of-type {\n        vertical-align: middle;\n    }\n\n    .dataframe tbody tr th {\n        vertical-align: top;\n    }\n\n    .dataframe thead th {\n        text-align: right;\n    }\n</style>\n<table border=\"1\" class=\"dataframe\">\n  <thead>\n    <tr style=\"text-align: right;\">\n      <th></th>\n      <th>대출금액</th>\n      <th>대출기간</th>\n      <th>근로기간</th>\n      <th>주택소유상태</th>\n      <th>연간소득</th>\n      <th>부채_대비_소득_비율</th>\n      <th>총계좌수</th>\n      <th>대출목적</th>\n      <th>최근_2년간_연체_횟수</th>\n      <th>총상환원금</th>\n      <th>총상환이자</th>\n      <th>총연체금액</th>\n      <th>연체계좌수</th>\n      <th>대출등급</th>\n    </tr>\n  </thead>\n  <tbody>\n    <tr>\n      <th>0</th>\n      <td>12480000</td>\n      <td>0</td>\n      <td>3.0</td>\n      <td>3</td>\n      <td>18.092177</td>\n      <td>2.990720</td>\n      <td>2.772589</td>\n      <td>1</td>\n      <td>0.000000</td>\n      <td>0.000000</td>\n      <td>0.000000</td>\n      <td>0.0</td>\n      <td>0.0</td>\n      <td>2</td>\n    </tr>\n    <tr>\n      <th>1</th>\n      <td>14400000</td>\n      <td>1</td>\n      <td>4.0</td>\n      <td>1</td>\n      <td>18.689180</td>\n      <td>3.149740</td>\n      <td>3.091042</td>\n      <td>10</td>\n      <td>0.000000</td>\n      <td>12.830869</td>\n      <td>12.363337</td>\n      <td>0.0</td>\n      <td>0.0</td>\n      <td>1</td>\n    </tr>\n    <tr>\n      <th>2</th>\n      <td>12000000</td>\n      <td>0</td>\n      <td>2.0</td>\n      <td>1</td>\n      <td>18.379859</td>\n      <td>2.261763</td>\n      <td>2.708050</td>\n      <td>1</td>\n      <td>0.000000</td>\n      <td>13.741482</td>\n      <td>11.931274</td>\n      <td>0.0</td>\n      <td>0.0</td>\n      <td>0</td>\n    </tr>\n    <tr>\n      <th>3</th>\n      <td>14400000</td>\n      <td>0</td>\n      <td>3.0</td>\n      <td>1</td>\n      <td>18.698312</td>\n      <td>2.778198</td>\n      <td>2.772589</td>\n      <td>1</td>\n      <td>0.000000</td>\n      <td>12.694116</td>\n      <td>11.938905</td>\n      <td>0.0</td>\n      <td>0.0</td>\n      <td>2</td>\n    </tr>\n    <tr>\n      <th>4</th>\n      <td>18000000</td>\n      <td>1</td>\n      <td>0.0</td>\n      <td>3</td>\n      <td>18.088503</td>\n      <td>3.272985</td>\n      <td>2.995732</td>\n      <td>8</td>\n      <td>0.000000</td>\n      <td>12.339471</td>\n      <td>11.911413</td>\n      <td>0.0</td>\n      <td>0.0</td>\n      <td>1</td>\n    </tr>\n    <tr>\n      <th>...</th>\n      <td>...</td>\n      <td>...</td>\n      <td>...</td>\n      <td>...</td>\n      <td>...</td>\n      <td>...</td>\n      <td>...</td>\n      <td>...</td>\n      <td>...</td>\n      <td>...</td>\n      <td>...</td>\n      <td>...</td>\n      <td>...</td>\n      <td>...</td>\n    </tr>\n    <tr>\n      <th>96289</th>\n      <td>14400000</td>\n      <td>0</td>\n      <td>4.0</td>\n      <td>1</td>\n      <td>19.162618</td>\n      <td>2.335052</td>\n      <td>3.526361</td>\n      <td>3</td>\n      <td>0.000000</td>\n      <td>13.789763</td>\n      <td>13.106577</td>\n      <td>0.0</td>\n      <td>0.0</td>\n      <td>2</td>\n    </tr>\n    <tr>\n      <th>96290</th>\n      <td>28800000</td>\n      <td>1</td>\n      <td>4.0</td>\n      <td>1</td>\n      <td>18.698312</td>\n      <td>1.818077</td>\n      <td>3.258097</td>\n      <td>10</td>\n      <td>0.000000</td>\n      <td>13.277192</td>\n      <td>13.658956</td>\n      <td>0.0</td>\n      <td>0.0</td>\n      <td>4</td>\n    </tr>\n    <tr>\n      <th>96291</th>\n      <td>14400000</td>\n      <td>0</td>\n      <td>1.0</td>\n      <td>1</td>\n      <td>18.246327</td>\n      <td>2.504709</td>\n      <td>3.135494</td>\n      <td>3</td>\n      <td>0.000000</td>\n      <td>14.213702</td>\n      <td>12.393535</td>\n      <td>0.0</td>\n      <td>0.0</td>\n      <td>0</td>\n    </tr>\n    <tr>\n      <th>96292</th>\n      <td>15600000</td>\n      <td>0</td>\n      <td>2.0</td>\n      <td>1</td>\n      <td>18.010153</td>\n      <td>2.906901</td>\n      <td>3.091042</td>\n      <td>1</td>\n      <td>1.098612</td>\n      <td>14.136411</td>\n      <td>13.614712</td>\n      <td>0.0</td>\n      <td>0.0</td>\n      <td>3</td>\n    </tr>\n    <tr>\n      <th>96293</th>\n      <td>8640000</td>\n      <td>0</td>\n      <td>4.0</td>\n      <td>3</td>\n      <td>17.735502</td>\n      <td>2.549445</td>\n      <td>2.708050</td>\n      <td>3</td>\n      <td>0.000000</td>\n      <td>13.298246</td>\n      <td>12.524370</td>\n      <td>0.0</td>\n      <td>0.0</td>\n      <td>2</td>\n    </tr>\n  </tbody>\n</table>\n<p>96294 rows × 14 columns</p>\n</div>"
     },
     "execution_count": 129,
     "metadata": {},
     "output_type": "execute_result"
    }
   ],
   "source": [
    "train"
   ],
   "metadata": {
    "collapsed": false,
    "ExecuteTime": {
     "end_time": "2024-01-17T07:51:50.380293100Z",
     "start_time": "2024-01-17T07:51:50.337578400Z"
    }
   },
   "id": "42caf82dcb6acb70"
  },
  {
   "cell_type": "code",
   "execution_count": 130,
   "outputs": [
    {
     "name": "stdout",
     "output_type": "stream",
     "text": [
      "<class 'pandas.core.frame.DataFrame'>\n",
      "RangeIndex: 96294 entries, 0 to 96293\n",
      "Data columns (total 14 columns):\n",
      " #   Column        Non-Null Count  Dtype  \n",
      "---  ------        --------------  -----  \n",
      " 0   대출금액          96294 non-null  int64  \n",
      " 1   대출기간          96294 non-null  int64  \n",
      " 2   근로기간          96294 non-null  float64\n",
      " 3   주택소유상태        96294 non-null  int64  \n",
      " 4   연간소득          96294 non-null  float64\n",
      " 5   부채_대비_소득_비율   96294 non-null  float64\n",
      " 6   총계좌수          96294 non-null  float64\n",
      " 7   대출목적          96294 non-null  int64  \n",
      " 8   최근_2년간_연체_횟수  96294 non-null  float64\n",
      " 9   총상환원금         96294 non-null  float64\n",
      " 10  총상환이자         96294 non-null  float64\n",
      " 11  총연체금액         96294 non-null  float64\n",
      " 12  연체계좌수         96294 non-null  float64\n",
      " 13  대출등급          96294 non-null  int64  \n",
      "dtypes: float64(9), int64(5)\n",
      "memory usage: 10.3 MB\n"
     ]
    }
   ],
   "source": [
    "train.info()"
   ],
   "metadata": {
    "collapsed": false,
    "ExecuteTime": {
     "end_time": "2024-01-17T07:51:50.442128Z",
     "start_time": "2024-01-17T07:51:50.400241600Z"
    }
   },
   "id": "a53c5c70f99f4101"
  },
  {
   "cell_type": "code",
   "execution_count": 131,
   "outputs": [
    {
     "name": "stdout",
     "output_type": "stream",
     "text": [
      "<class 'pandas.core.frame.DataFrame'>\n",
      "RangeIndex: 64197 entries, 0 to 64196\n",
      "Data columns (total 13 columns):\n",
      " #   Column        Non-Null Count  Dtype  \n",
      "---  ------        --------------  -----  \n",
      " 0   대출금액          64197 non-null  int64  \n",
      " 1   대출기간          64197 non-null  int64  \n",
      " 2   근로기간          64197 non-null  float64\n",
      " 3   주택소유상태        64197 non-null  int64  \n",
      " 4   연간소득          64197 non-null  float64\n",
      " 5   부채_대비_소득_비율   64197 non-null  float64\n",
      " 6   총계좌수          64197 non-null  float64\n",
      " 7   대출목적          64197 non-null  int64  \n",
      " 8   최근_2년간_연체_횟수  64197 non-null  float64\n",
      " 9   총상환원금         64197 non-null  float64\n",
      " 10  총상환이자         64197 non-null  float64\n",
      " 11  총연체금액         64197 non-null  float64\n",
      " 12  연체계좌수         64197 non-null  float64\n",
      "dtypes: float64(9), int64(4)\n",
      "memory usage: 6.4 MB\n"
     ]
    }
   ],
   "source": [
    "test.info()"
   ],
   "metadata": {
    "collapsed": false,
    "ExecuteTime": {
     "end_time": "2024-01-17T07:51:51.089133600Z",
     "start_time": "2024-01-17T07:51:51.044254600Z"
    }
   },
   "id": "4bac5474089a12b4"
  },
  {
   "cell_type": "code",
   "execution_count": 132,
   "outputs": [],
   "source": [
    "\n",
    "# 인코더를 초기화할 때 handle_unknown='ignore' 옵션 추가\n",
    "encoder = OneHotEncoder(sparse=False, handle_unknown='ignore')\n",
    "\n",
    "# train 데이터셋에 대해 fit_transform을 적용\n",
    "encoded_train = encoder.fit_transform(train[['주택소유상태','대출목적','근로기간']])\n",
    "columns_train = encoder.get_feature_names_out(['주택소유상태','대출목적','근로기간'])\n",
    "\n",
    "# 원-핫 인코딩된 데이터프레임 생성\n",
    "one_hot_encoded_train_df = pd.DataFrame(encoded_train, columns=columns_train)\n",
    "\n",
    "# test 데이터셋에 대해서는 transform을 적용\n",
    "encoded_test = encoder.transform(test[['주택소유상태','대출목적','근로기간']])\n",
    "\n",
    "# 새로운 컬럼 이름 생성\n",
    "columns_test = encoder.get_feature_names_out(['주택소유상태','대출목적','근로기간'])\n",
    "\n",
    "# 원-핫 인코딩된 데이터프레임 생성\n",
    "one_hot_encoded_test_df = pd.DataFrame(encoded_test, columns=columns_train)\n",
    "\n",
    "# 원본 train 데이터프레임과 인코딩된 데이터프레임을 합치기\n",
    "train_without_columns = train.drop(columns=['주택소유상태', '대출목적', '근로기간'])\n",
    "one_hot_encoded_train_df = pd.concat([train_without_columns.reset_index(drop=True), one_hot_encoded_train_df], axis=1)\n",
    "\n",
    "# 원본 test 데이터프레임과 인코딩된 데이터프레임을 합치기\n",
    "test_without_columns = test.drop(columns=['주택소유상태', '대출목적', '근로기간'])\n",
    "one_hot_encoded_test_df = pd.concat([test_without_columns.reset_index(drop=True), one_hot_encoded_test_df], axis=1)\n",
    "\n",
    "train = one_hot_encoded_train_df\n",
    "test = one_hot_encoded_test_df"
   ],
   "metadata": {
    "collapsed": false,
    "ExecuteTime": {
     "end_time": "2024-01-17T07:51:51.645875Z",
     "start_time": "2024-01-17T07:51:51.562037200Z"
    }
   },
   "id": "f9e90275a5c69871"
  },
  {
   "cell_type": "code",
   "execution_count": 133,
   "outputs": [],
   "source": [
    "# train = train[train['최근_2년간_연체_횟수']<2.5]\n",
    "# train = train[train['총연체금액']<1]\n",
    "# train = train[train['부채_대비_소득_비율']<6]"
   ],
   "metadata": {
    "collapsed": false,
    "ExecuteTime": {
     "end_time": "2024-01-17T07:51:52.103328900Z",
     "start_time": "2024-01-17T07:51:52.083382900Z"
    }
   },
   "id": "f9b372174f9adb79"
  },
  {
   "cell_type": "code",
   "execution_count": 134,
   "outputs": [],
   "source": [
    "# MinMaxScaler 초기화\n",
    "scaler = MinMaxScaler()\n",
    "\n",
    "# '대출등급' 열을 제외하고 train 데이터에 스케일링 적용\n",
    "train_columns = train.columns.drop('대출등급')\n",
    "train_scaled = scaler.fit_transform(train[train_columns])\n",
    "\n",
    "# 스케일링된 train 데이터를 DataFrame으로 변환하고 '대출등급' 열 추가\n",
    "train_scaled = pd.DataFrame(train_scaled, columns=train_columns, index=train.index)\n",
    "train_scaled['대출등급'] = train['대출등급']\n",
    "\n",
    "# 동일한 scaler를 사용하여 test 데이터에 스케일링 적용\n",
    "test_scaled = scaler.transform(test)\n",
    "\n",
    "# 스케일링된 test 데이터를 DataFrame으로 변환\n",
    "test = pd.DataFrame(test_scaled, columns=test.columns)\n",
    "\n",
    "# train 데이터 업데이트\n",
    "train = train_scaled"
   ],
   "metadata": {
    "collapsed": false,
    "ExecuteTime": {
     "end_time": "2024-01-17T07:51:52.476331500Z",
     "start_time": "2024-01-17T07:51:52.391559Z"
    }
   },
   "id": "9f40ff58688755"
  },
  {
   "cell_type": "code",
   "execution_count": 135,
   "outputs": [
    {
     "data": {
      "text/plain": "           대출금액  대출기간      연간소득  부채_대비_소득_비율      총계좌수  최근_2년간_연체_횟수  \\\n0      0.276471   0.0  0.783116     0.324713  0.329845      0.000000   \n1      0.323529   1.0  0.808957     0.341979  0.420151      0.000000   \n2      0.264706   0.0  0.795568     0.245568  0.311543      0.000000   \n3      0.323529   0.0  0.809352     0.301639  0.329845      0.000000   \n4      0.411765   1.0  0.782957     0.355360  0.393123      0.000000   \n...         ...   ...       ...          ...       ...           ...   \n96289  0.323529   0.0  0.829450     0.253525  0.543598      0.000000   \n96290  0.676471   1.0  0.809352     0.197395  0.467524      0.000000   \n96291  0.323529   0.0  0.789788     0.271945  0.432757      0.000000   \n96292  0.352941   0.0  0.779565     0.315613  0.420151      0.319923   \n96293  0.182353   0.0  0.767677     0.276802  0.311543      0.000000   \n\n          총상환원금     총상환이자  총연체금액  연체계좌수  ...  대출목적_8  대출목적_9  대출목적_10  \\\n0      0.000000  0.000000    0.0    0.0  ...     0.0     0.0      0.0   \n1      0.731015  0.795184    0.0    0.0  ...     0.0     0.0      1.0   \n2      0.782895  0.767395    0.0    0.0  ...     0.0     0.0      0.0   \n3      0.723224  0.767885    0.0    0.0  ...     0.0     0.0      0.0   \n4      0.703018  0.766117    0.0    0.0  ...     1.0     0.0      0.0   \n...         ...       ...    ...    ...  ...     ...     ...      ...   \n96289  0.785646  0.842988    0.0    0.0  ...     0.0     0.0      0.0   \n96290  0.756443  0.878515    0.0    0.0  ...     0.0     0.0      1.0   \n96291  0.809799  0.797126    0.0    0.0  ...     0.0     0.0      0.0   \n96292  0.805396  0.875670    0.0    0.0  ...     0.0     0.0      0.0   \n96293  0.757643  0.805541    0.0    0.0  ...     0.0     0.0      0.0   \n\n       대출목적_11  근로기간_0.0  근로기간_1.0  근로기간_2.0  근로기간_3.0  근로기간_4.0  대출등급  \n0          0.0       0.0       0.0       0.0       1.0       0.0     2  \n1          0.0       0.0       0.0       0.0       0.0       1.0     1  \n2          0.0       0.0       0.0       1.0       0.0       0.0     0  \n3          0.0       0.0       0.0       0.0       1.0       0.0     2  \n4          0.0       1.0       0.0       0.0       0.0       0.0     1  \n...        ...       ...       ...       ...       ...       ...   ...  \n96289      0.0       0.0       0.0       0.0       0.0       1.0     2  \n96290      0.0       0.0       0.0       0.0       0.0       1.0     4  \n96291      0.0       0.0       1.0       0.0       0.0       0.0     0  \n96292      0.0       0.0       0.0       1.0       0.0       0.0     3  \n96293      0.0       0.0       0.0       0.0       0.0       1.0     2  \n\n[96294 rows x 32 columns]",
      "text/html": "<div>\n<style scoped>\n    .dataframe tbody tr th:only-of-type {\n        vertical-align: middle;\n    }\n\n    .dataframe tbody tr th {\n        vertical-align: top;\n    }\n\n    .dataframe thead th {\n        text-align: right;\n    }\n</style>\n<table border=\"1\" class=\"dataframe\">\n  <thead>\n    <tr style=\"text-align: right;\">\n      <th></th>\n      <th>대출금액</th>\n      <th>대출기간</th>\n      <th>연간소득</th>\n      <th>부채_대비_소득_비율</th>\n      <th>총계좌수</th>\n      <th>최근_2년간_연체_횟수</th>\n      <th>총상환원금</th>\n      <th>총상환이자</th>\n      <th>총연체금액</th>\n      <th>연체계좌수</th>\n      <th>...</th>\n      <th>대출목적_8</th>\n      <th>대출목적_9</th>\n      <th>대출목적_10</th>\n      <th>대출목적_11</th>\n      <th>근로기간_0.0</th>\n      <th>근로기간_1.0</th>\n      <th>근로기간_2.0</th>\n      <th>근로기간_3.0</th>\n      <th>근로기간_4.0</th>\n      <th>대출등급</th>\n    </tr>\n  </thead>\n  <tbody>\n    <tr>\n      <th>0</th>\n      <td>0.276471</td>\n      <td>0.0</td>\n      <td>0.783116</td>\n      <td>0.324713</td>\n      <td>0.329845</td>\n      <td>0.000000</td>\n      <td>0.000000</td>\n      <td>0.000000</td>\n      <td>0.0</td>\n      <td>0.0</td>\n      <td>...</td>\n      <td>0.0</td>\n      <td>0.0</td>\n      <td>0.0</td>\n      <td>0.0</td>\n      <td>0.0</td>\n      <td>0.0</td>\n      <td>0.0</td>\n      <td>1.0</td>\n      <td>0.0</td>\n      <td>2</td>\n    </tr>\n    <tr>\n      <th>1</th>\n      <td>0.323529</td>\n      <td>1.0</td>\n      <td>0.808957</td>\n      <td>0.341979</td>\n      <td>0.420151</td>\n      <td>0.000000</td>\n      <td>0.731015</td>\n      <td>0.795184</td>\n      <td>0.0</td>\n      <td>0.0</td>\n      <td>...</td>\n      <td>0.0</td>\n      <td>0.0</td>\n      <td>1.0</td>\n      <td>0.0</td>\n      <td>0.0</td>\n      <td>0.0</td>\n      <td>0.0</td>\n      <td>0.0</td>\n      <td>1.0</td>\n      <td>1</td>\n    </tr>\n    <tr>\n      <th>2</th>\n      <td>0.264706</td>\n      <td>0.0</td>\n      <td>0.795568</td>\n      <td>0.245568</td>\n      <td>0.311543</td>\n      <td>0.000000</td>\n      <td>0.782895</td>\n      <td>0.767395</td>\n      <td>0.0</td>\n      <td>0.0</td>\n      <td>...</td>\n      <td>0.0</td>\n      <td>0.0</td>\n      <td>0.0</td>\n      <td>0.0</td>\n      <td>0.0</td>\n      <td>0.0</td>\n      <td>1.0</td>\n      <td>0.0</td>\n      <td>0.0</td>\n      <td>0</td>\n    </tr>\n    <tr>\n      <th>3</th>\n      <td>0.323529</td>\n      <td>0.0</td>\n      <td>0.809352</td>\n      <td>0.301639</td>\n      <td>0.329845</td>\n      <td>0.000000</td>\n      <td>0.723224</td>\n      <td>0.767885</td>\n      <td>0.0</td>\n      <td>0.0</td>\n      <td>...</td>\n      <td>0.0</td>\n      <td>0.0</td>\n      <td>0.0</td>\n      <td>0.0</td>\n      <td>0.0</td>\n      <td>0.0</td>\n      <td>0.0</td>\n      <td>1.0</td>\n      <td>0.0</td>\n      <td>2</td>\n    </tr>\n    <tr>\n      <th>4</th>\n      <td>0.411765</td>\n      <td>1.0</td>\n      <td>0.782957</td>\n      <td>0.355360</td>\n      <td>0.393123</td>\n      <td>0.000000</td>\n      <td>0.703018</td>\n      <td>0.766117</td>\n      <td>0.0</td>\n      <td>0.0</td>\n      <td>...</td>\n      <td>1.0</td>\n      <td>0.0</td>\n      <td>0.0</td>\n      <td>0.0</td>\n      <td>1.0</td>\n      <td>0.0</td>\n      <td>0.0</td>\n      <td>0.0</td>\n      <td>0.0</td>\n      <td>1</td>\n    </tr>\n    <tr>\n      <th>...</th>\n      <td>...</td>\n      <td>...</td>\n      <td>...</td>\n      <td>...</td>\n      <td>...</td>\n      <td>...</td>\n      <td>...</td>\n      <td>...</td>\n      <td>...</td>\n      <td>...</td>\n      <td>...</td>\n      <td>...</td>\n      <td>...</td>\n      <td>...</td>\n      <td>...</td>\n      <td>...</td>\n      <td>...</td>\n      <td>...</td>\n      <td>...</td>\n      <td>...</td>\n      <td>...</td>\n    </tr>\n    <tr>\n      <th>96289</th>\n      <td>0.323529</td>\n      <td>0.0</td>\n      <td>0.829450</td>\n      <td>0.253525</td>\n      <td>0.543598</td>\n      <td>0.000000</td>\n      <td>0.785646</td>\n      <td>0.842988</td>\n      <td>0.0</td>\n      <td>0.0</td>\n      <td>...</td>\n      <td>0.0</td>\n      <td>0.0</td>\n      <td>0.0</td>\n      <td>0.0</td>\n      <td>0.0</td>\n      <td>0.0</td>\n      <td>0.0</td>\n      <td>0.0</td>\n      <td>1.0</td>\n      <td>2</td>\n    </tr>\n    <tr>\n      <th>96290</th>\n      <td>0.676471</td>\n      <td>1.0</td>\n      <td>0.809352</td>\n      <td>0.197395</td>\n      <td>0.467524</td>\n      <td>0.000000</td>\n      <td>0.756443</td>\n      <td>0.878515</td>\n      <td>0.0</td>\n      <td>0.0</td>\n      <td>...</td>\n      <td>0.0</td>\n      <td>0.0</td>\n      <td>1.0</td>\n      <td>0.0</td>\n      <td>0.0</td>\n      <td>0.0</td>\n      <td>0.0</td>\n      <td>0.0</td>\n      <td>1.0</td>\n      <td>4</td>\n    </tr>\n    <tr>\n      <th>96291</th>\n      <td>0.323529</td>\n      <td>0.0</td>\n      <td>0.789788</td>\n      <td>0.271945</td>\n      <td>0.432757</td>\n      <td>0.000000</td>\n      <td>0.809799</td>\n      <td>0.797126</td>\n      <td>0.0</td>\n      <td>0.0</td>\n      <td>...</td>\n      <td>0.0</td>\n      <td>0.0</td>\n      <td>0.0</td>\n      <td>0.0</td>\n      <td>0.0</td>\n      <td>1.0</td>\n      <td>0.0</td>\n      <td>0.0</td>\n      <td>0.0</td>\n      <td>0</td>\n    </tr>\n    <tr>\n      <th>96292</th>\n      <td>0.352941</td>\n      <td>0.0</td>\n      <td>0.779565</td>\n      <td>0.315613</td>\n      <td>0.420151</td>\n      <td>0.319923</td>\n      <td>0.805396</td>\n      <td>0.875670</td>\n      <td>0.0</td>\n      <td>0.0</td>\n      <td>...</td>\n      <td>0.0</td>\n      <td>0.0</td>\n      <td>0.0</td>\n      <td>0.0</td>\n      <td>0.0</td>\n      <td>0.0</td>\n      <td>1.0</td>\n      <td>0.0</td>\n      <td>0.0</td>\n      <td>3</td>\n    </tr>\n    <tr>\n      <th>96293</th>\n      <td>0.182353</td>\n      <td>0.0</td>\n      <td>0.767677</td>\n      <td>0.276802</td>\n      <td>0.311543</td>\n      <td>0.000000</td>\n      <td>0.757643</td>\n      <td>0.805541</td>\n      <td>0.0</td>\n      <td>0.0</td>\n      <td>...</td>\n      <td>0.0</td>\n      <td>0.0</td>\n      <td>0.0</td>\n      <td>0.0</td>\n      <td>0.0</td>\n      <td>0.0</td>\n      <td>0.0</td>\n      <td>0.0</td>\n      <td>1.0</td>\n      <td>2</td>\n    </tr>\n  </tbody>\n</table>\n<p>96294 rows × 32 columns</p>\n</div>"
     },
     "execution_count": 135,
     "metadata": {},
     "output_type": "execute_result"
    }
   ],
   "source": [
    "train"
   ],
   "metadata": {
    "collapsed": false,
    "ExecuteTime": {
     "end_time": "2024-01-17T07:51:52.944081400Z",
     "start_time": "2024-01-17T07:51:52.868284700Z"
    }
   },
   "id": "56012e25e6aaf49f"
  },
  {
   "cell_type": "code",
   "execution_count": 136,
   "outputs": [
    {
     "data": {
      "text/plain": "           대출금액  대출기간      연간소득  부채_대비_소득_비율      총계좌수  최근_2년간_연체_횟수  \\\n0      0.382353   0.0  0.809352     0.328677  0.270962      0.000000   \n1      0.176471   0.0  0.792761     0.306586  0.467524      0.000000   \n2      0.394118   0.0  0.814885     0.243397  0.406959      0.000000   \n3      0.323529   0.0  0.779350     0.291977  0.517403      0.201849   \n4      0.647059   0.0  0.771615     0.374578  0.270962      0.000000   \n...         ...   ...       ...          ...       ...           ...   \n64192  0.705882   0.0  0.786580     0.340809  0.488540      0.319923   \n64193  0.705882   1.0  0.801145     0.278986  0.478226      0.000000   \n64194  0.120588   0.0  0.757239     0.368554  0.543598      0.000000   \n64195  0.252941   0.0  0.779350     0.355565  0.603521      0.201849   \n64196  0.117647   0.0  0.822777     0.250757  0.223590      0.000000   \n\n          총상환원금     총상환이자  총연체금액  연체계좌수  ...  대출목적_7  대출목적_8  대출목적_9  대출목적_10  \\\n0      0.734148  0.765093    0.0    0.0  ...     0.0     0.0     0.0      0.0   \n1      0.000000  0.000000    0.0    0.0  ...     0.0     0.0     0.0      0.0   \n2      0.820188  0.807127    0.0    0.0  ...     0.0     0.0     0.0      0.0   \n3      0.764214  0.807105    0.0    0.0  ...     0.0     0.0     0.0      0.0   \n4      0.799829  0.857301    0.0    0.0  ...     0.0     0.0     0.0      0.0   \n...         ...       ...    ...    ...  ...     ...     ...     ...      ...   \n64192  0.802390  0.871219    0.0    0.0  ...     0.0     0.0     0.0      0.0   \n64193  0.784824  0.902692    0.0    0.0  ...     0.0     0.0     0.0      0.0   \n64194  0.671538  0.726840    0.0    0.0  ...     0.0     0.0     0.0      0.0   \n64195  0.803768  0.855930    0.0    0.0  ...     0.0     0.0     0.0      0.0   \n64196  0.720181  0.694555    0.0    0.0  ...     0.0     0.0     0.0      0.0   \n\n       대출목적_11  근로기간_0.0  근로기간_1.0  근로기간_2.0  근로기간_3.0  근로기간_4.0  \n0          1.0       0.0       0.0       0.0       1.0       0.0  \n1          0.0       0.0       0.0       1.0       0.0       0.0  \n2          0.0       0.0       0.0       0.0       1.0       0.0  \n3          0.0       0.0       0.0       1.0       0.0       0.0  \n4          0.0       0.0       0.0       1.0       0.0       0.0  \n...        ...       ...       ...       ...       ...       ...  \n64192      0.0       0.0       0.0       1.0       0.0       0.0  \n64193      0.0       0.0       0.0       0.0       0.0       1.0  \n64194      0.0       0.0       0.0       0.0       0.0       1.0  \n64195      0.0       0.0       0.0       0.0       0.0       1.0  \n64196      0.0       0.0       0.0       0.0       1.0       0.0  \n\n[64197 rows x 31 columns]",
      "text/html": "<div>\n<style scoped>\n    .dataframe tbody tr th:only-of-type {\n        vertical-align: middle;\n    }\n\n    .dataframe tbody tr th {\n        vertical-align: top;\n    }\n\n    .dataframe thead th {\n        text-align: right;\n    }\n</style>\n<table border=\"1\" class=\"dataframe\">\n  <thead>\n    <tr style=\"text-align: right;\">\n      <th></th>\n      <th>대출금액</th>\n      <th>대출기간</th>\n      <th>연간소득</th>\n      <th>부채_대비_소득_비율</th>\n      <th>총계좌수</th>\n      <th>최근_2년간_연체_횟수</th>\n      <th>총상환원금</th>\n      <th>총상환이자</th>\n      <th>총연체금액</th>\n      <th>연체계좌수</th>\n      <th>...</th>\n      <th>대출목적_7</th>\n      <th>대출목적_8</th>\n      <th>대출목적_9</th>\n      <th>대출목적_10</th>\n      <th>대출목적_11</th>\n      <th>근로기간_0.0</th>\n      <th>근로기간_1.0</th>\n      <th>근로기간_2.0</th>\n      <th>근로기간_3.0</th>\n      <th>근로기간_4.0</th>\n    </tr>\n  </thead>\n  <tbody>\n    <tr>\n      <th>0</th>\n      <td>0.382353</td>\n      <td>0.0</td>\n      <td>0.809352</td>\n      <td>0.328677</td>\n      <td>0.270962</td>\n      <td>0.000000</td>\n      <td>0.734148</td>\n      <td>0.765093</td>\n      <td>0.0</td>\n      <td>0.0</td>\n      <td>...</td>\n      <td>0.0</td>\n      <td>0.0</td>\n      <td>0.0</td>\n      <td>0.0</td>\n      <td>1.0</td>\n      <td>0.0</td>\n      <td>0.0</td>\n      <td>0.0</td>\n      <td>1.0</td>\n      <td>0.0</td>\n    </tr>\n    <tr>\n      <th>1</th>\n      <td>0.176471</td>\n      <td>0.0</td>\n      <td>0.792761</td>\n      <td>0.306586</td>\n      <td>0.467524</td>\n      <td>0.000000</td>\n      <td>0.000000</td>\n      <td>0.000000</td>\n      <td>0.0</td>\n      <td>0.0</td>\n      <td>...</td>\n      <td>0.0</td>\n      <td>0.0</td>\n      <td>0.0</td>\n      <td>0.0</td>\n      <td>0.0</td>\n      <td>0.0</td>\n      <td>0.0</td>\n      <td>1.0</td>\n      <td>0.0</td>\n      <td>0.0</td>\n    </tr>\n    <tr>\n      <th>2</th>\n      <td>0.394118</td>\n      <td>0.0</td>\n      <td>0.814885</td>\n      <td>0.243397</td>\n      <td>0.406959</td>\n      <td>0.000000</td>\n      <td>0.820188</td>\n      <td>0.807127</td>\n      <td>0.0</td>\n      <td>0.0</td>\n      <td>...</td>\n      <td>0.0</td>\n      <td>0.0</td>\n      <td>0.0</td>\n      <td>0.0</td>\n      <td>0.0</td>\n      <td>0.0</td>\n      <td>0.0</td>\n      <td>0.0</td>\n      <td>1.0</td>\n      <td>0.0</td>\n    </tr>\n    <tr>\n      <th>3</th>\n      <td>0.323529</td>\n      <td>0.0</td>\n      <td>0.779350</td>\n      <td>0.291977</td>\n      <td>0.517403</td>\n      <td>0.201849</td>\n      <td>0.764214</td>\n      <td>0.807105</td>\n      <td>0.0</td>\n      <td>0.0</td>\n      <td>...</td>\n      <td>0.0</td>\n      <td>0.0</td>\n      <td>0.0</td>\n      <td>0.0</td>\n      <td>0.0</td>\n      <td>0.0</td>\n      <td>0.0</td>\n      <td>1.0</td>\n      <td>0.0</td>\n      <td>0.0</td>\n    </tr>\n    <tr>\n      <th>4</th>\n      <td>0.647059</td>\n      <td>0.0</td>\n      <td>0.771615</td>\n      <td>0.374578</td>\n      <td>0.270962</td>\n      <td>0.000000</td>\n      <td>0.799829</td>\n      <td>0.857301</td>\n      <td>0.0</td>\n      <td>0.0</td>\n      <td>...</td>\n      <td>0.0</td>\n      <td>0.0</td>\n      <td>0.0</td>\n      <td>0.0</td>\n      <td>0.0</td>\n      <td>0.0</td>\n      <td>0.0</td>\n      <td>1.0</td>\n      <td>0.0</td>\n      <td>0.0</td>\n    </tr>\n    <tr>\n      <th>...</th>\n      <td>...</td>\n      <td>...</td>\n      <td>...</td>\n      <td>...</td>\n      <td>...</td>\n      <td>...</td>\n      <td>...</td>\n      <td>...</td>\n      <td>...</td>\n      <td>...</td>\n      <td>...</td>\n      <td>...</td>\n      <td>...</td>\n      <td>...</td>\n      <td>...</td>\n      <td>...</td>\n      <td>...</td>\n      <td>...</td>\n      <td>...</td>\n      <td>...</td>\n      <td>...</td>\n    </tr>\n    <tr>\n      <th>64192</th>\n      <td>0.705882</td>\n      <td>0.0</td>\n      <td>0.786580</td>\n      <td>0.340809</td>\n      <td>0.488540</td>\n      <td>0.319923</td>\n      <td>0.802390</td>\n      <td>0.871219</td>\n      <td>0.0</td>\n      <td>0.0</td>\n      <td>...</td>\n      <td>0.0</td>\n      <td>0.0</td>\n      <td>0.0</td>\n      <td>0.0</td>\n      <td>0.0</td>\n      <td>0.0</td>\n      <td>0.0</td>\n      <td>1.0</td>\n      <td>0.0</td>\n      <td>0.0</td>\n    </tr>\n    <tr>\n      <th>64193</th>\n      <td>0.705882</td>\n      <td>1.0</td>\n      <td>0.801145</td>\n      <td>0.278986</td>\n      <td>0.478226</td>\n      <td>0.000000</td>\n      <td>0.784824</td>\n      <td>0.902692</td>\n      <td>0.0</td>\n      <td>0.0</td>\n      <td>...</td>\n      <td>0.0</td>\n      <td>0.0</td>\n      <td>0.0</td>\n      <td>0.0</td>\n      <td>0.0</td>\n      <td>0.0</td>\n      <td>0.0</td>\n      <td>0.0</td>\n      <td>0.0</td>\n      <td>1.0</td>\n    </tr>\n    <tr>\n      <th>64194</th>\n      <td>0.120588</td>\n      <td>0.0</td>\n      <td>0.757239</td>\n      <td>0.368554</td>\n      <td>0.543598</td>\n      <td>0.000000</td>\n      <td>0.671538</td>\n      <td>0.726840</td>\n      <td>0.0</td>\n      <td>0.0</td>\n      <td>...</td>\n      <td>0.0</td>\n      <td>0.0</td>\n      <td>0.0</td>\n      <td>0.0</td>\n      <td>0.0</td>\n      <td>0.0</td>\n      <td>0.0</td>\n      <td>0.0</td>\n      <td>0.0</td>\n      <td>1.0</td>\n    </tr>\n    <tr>\n      <th>64195</th>\n      <td>0.252941</td>\n      <td>0.0</td>\n      <td>0.779350</td>\n      <td>0.355565</td>\n      <td>0.603521</td>\n      <td>0.201849</td>\n      <td>0.803768</td>\n      <td>0.855930</td>\n      <td>0.0</td>\n      <td>0.0</td>\n      <td>...</td>\n      <td>0.0</td>\n      <td>0.0</td>\n      <td>0.0</td>\n      <td>0.0</td>\n      <td>0.0</td>\n      <td>0.0</td>\n      <td>0.0</td>\n      <td>0.0</td>\n      <td>0.0</td>\n      <td>1.0</td>\n    </tr>\n    <tr>\n      <th>64196</th>\n      <td>0.117647</td>\n      <td>0.0</td>\n      <td>0.822777</td>\n      <td>0.250757</td>\n      <td>0.223590</td>\n      <td>0.000000</td>\n      <td>0.720181</td>\n      <td>0.694555</td>\n      <td>0.0</td>\n      <td>0.0</td>\n      <td>...</td>\n      <td>0.0</td>\n      <td>0.0</td>\n      <td>0.0</td>\n      <td>0.0</td>\n      <td>0.0</td>\n      <td>0.0</td>\n      <td>0.0</td>\n      <td>0.0</td>\n      <td>1.0</td>\n      <td>0.0</td>\n    </tr>\n  </tbody>\n</table>\n<p>64197 rows × 31 columns</p>\n</div>"
     },
     "execution_count": 136,
     "metadata": {},
     "output_type": "execute_result"
    }
   ],
   "source": [
    "test"
   ],
   "metadata": {
    "collapsed": false,
    "ExecuteTime": {
     "end_time": "2024-01-17T07:51:53.645289400Z",
     "start_time": "2024-01-17T07:51:53.596419600Z"
    }
   },
   "id": "c19be4d076cd0747"
  },
  {
   "cell_type": "code",
   "execution_count": 137,
   "outputs": [],
   "source": [
    "train_x = train.drop('대출등급', axis=1)\n",
    "train_y = train['대출등급']\n",
    "test_x = test\n",
    "\n",
    "# 데이터 분할\n",
    "X_train, X_test, y_train, y_test = train_test_split(train_x, train_y, test_size=0.2, random_state=43)"
   ],
   "metadata": {
    "collapsed": false,
    "ExecuteTime": {
     "end_time": "2024-01-17T07:51:54.759996500Z",
     "start_time": "2024-01-17T07:51:54.716114Z"
    }
   },
   "id": "4c4d446953f918b3"
  },
  {
   "cell_type": "code",
   "execution_count": 138,
   "outputs": [],
   "source": [
    "from torch.utils.data import TensorDataset, DataLoader\n",
    "\n",
    "# X_train, X_test, y_train, y_test를 PyTorch Tensor로 변환\n",
    "X_train_tensor = torch.tensor(X_train.values, dtype=torch.float32)\n",
    "y_train_tensor = torch.tensor(y_train.values, dtype=torch.long)\n",
    "X_test_tensor = torch.tensor(X_test.values, dtype=torch.float32)\n",
    "y_test_tensor = torch.tensor(y_test.values, dtype=torch.long)\n",
    "real_test_tensor = torch.tensor(test_x.values, dtype=torch.float32)\n",
    "\n",
    "# TensorDataset과 DataLoader 생성\n",
    "train_dataset = TensorDataset(X_train_tensor, y_train_tensor)\n",
    "train_loader = DataLoader(train_dataset, batch_size=1024, shuffle=True)\n",
    "\n",
    "test_dataset = TensorDataset(X_test_tensor, y_test_tensor)\n",
    "test_loader = DataLoader(test_dataset, batch_size=1024, shuffle=False)\n",
    "\n",
    "real_test_dataset = TensorDataset(real_test_tensor)\n",
    "real_test_loader = DataLoader(real_test_dataset, batch_size=1024, shuffle=False)"
   ],
   "metadata": {
    "collapsed": false,
    "ExecuteTime": {
     "end_time": "2024-01-17T07:51:55.587237200Z",
     "start_time": "2024-01-17T07:51:55.562306Z"
    }
   },
   "id": "8e5718231cf5831c"
  },
  {
   "cell_type": "code",
   "execution_count": 139,
   "outputs": [
    {
     "data": {
      "text/plain": "tensor[77035, 31] n=2388085 (9.1Mb) x∈[0., 1.000] μ=0.220 σ=0.368"
     },
     "execution_count": 139,
     "metadata": {},
     "output_type": "execute_result"
    }
   ],
   "source": [
    "import lovely_tensors as lt\n",
    "lt.monkey_patch()\n",
    "X_train_tensor"
   ],
   "metadata": {
    "collapsed": false,
    "ExecuteTime": {
     "end_time": "2024-01-17T07:51:55.935307100Z",
     "start_time": "2024-01-17T07:51:55.908379Z"
    }
   },
   "id": "333b96718d35ee6"
  },
  {
   "cell_type": "code",
   "execution_count": 140,
   "outputs": [],
   "source": [
    "class NeuralNet(nn.Module):\n",
    "    def __init__(self):\n",
    "        super(NeuralNet, self).__init__()\n",
    "        self.layer1 = nn.Linear(X_train.shape[1], 64)\n",
    "        self.bn1 = nn.BatchNorm1d(64)  # 첫 번째 레이어의 배치 정규화\n",
    "        self.layer2 = nn.Linear(64, 128)\n",
    "        self.bn2 = nn.BatchNorm1d(128)  # 두 번째 레이어의 배치 정규화\n",
    "        self.layer3 = nn.Linear(128, 256)\n",
    "        self.bn3 = nn.BatchNorm1d(256)  # 세 번째 레이어의 배치 정규화\n",
    "        self.layer4 = nn.Linear(256, 512)\n",
    "        self.bn4 = nn.BatchNorm1d(512)   # 네 번째 레이어의 배치 정규화\n",
    "        self.layer5 = nn.Linear(512,1024)\n",
    "        self.bn5 = nn.BatchNorm1d(1024)   # 다섯 번째 레이어의 배치 정규화\n",
    "        self.layer6 = nn.Linear(1024,256)\n",
    "        self.bn6 = nn.BatchNorm1d(256)   # 다섯 번째 레이어의 배치 정규화\n",
    "        self.layer7 = nn.Linear(256, 64)\n",
    "        self.bn7 = nn.BatchNorm1d(64)   # 다섯 번째 레이어의 배치 정규화\n",
    "        self.output_layer = nn.Linear(64, 7)  # 7개 클래스에 대한 출력\n",
    "\n",
    "    def forward(self, x):\n",
    "        x = torch.relu(self.bn1(self.layer1(x)))\n",
    "        x = torch.relu(self.bn2(self.layer2(x)))\n",
    "        x = torch.relu(self.bn3(self.layer3(x)))\n",
    "        x = torch.relu(self.bn4(self.layer4(x)))\n",
    "        x = torch.relu(self.bn5(self.layer5(x)))\n",
    "        x = torch.relu(self.bn6(self.layer6(x)))\n",
    "        x = torch.relu(self.bn7(self.layer7(x)))\n",
    "        x = self.output_layer(x)\n",
    "        return x\n",
    "    \n",
    "def get_lr(opt):\n",
    "    for param_group in opt.param_groups:\n",
    "        return param_group['lr']\n",
    "    \n",
    "# 모델, 손실 함수, 옵티마이저 초기화\n",
    "model = NeuralNet()\n",
    "model = model.to(device)\n",
    "criterion = nn.CrossEntropyLoss()"
   ],
   "metadata": {
    "collapsed": false,
    "ExecuteTime": {
     "end_time": "2024-01-17T07:51:56.831307700Z",
     "start_time": "2024-01-17T07:51:56.786385800Z"
    }
   },
   "id": "bc6d48cac985946"
  },
  {
   "cell_type": "code",
   "execution_count": 148,
   "outputs": [
    {
     "name": "stdout",
     "output_type": "stream",
     "text": [
      "Epoch 1/100, current lr=0.003\n",
      "Epoch 1/100, Loss: 0.6297, Validation Accuracy: 61.44%, F1 Macro: 0.5300\n",
      "Model saved at epoch 1\n",
      "Epoch 2/100, current lr=0.00285\n",
      "Epoch 2/100, Loss: 0.6570, Validation Accuracy: 53.63%, F1 Macro: 0.3888\n",
      "Epoch 3/100, current lr=0.0027075\n",
      "Epoch 3/100, Loss: 0.5589, Validation Accuracy: 57.54%, F1 Macro: 0.4487\n",
      "Epoch 4/100, current lr=0.0025721249999999998\n",
      "Epoch 4/100, Loss: 0.5558, Validation Accuracy: 75.55%, F1 Macro: 0.6272\n",
      "Model saved at epoch 4\n",
      "Epoch 5/100, current lr=0.0024435187499999996\n",
      "Epoch 5/100, Loss: 0.5475, Validation Accuracy: 68.15%, F1 Macro: 0.6082\n",
      "Epoch 6/100, current lr=0.0023213428124999997\n",
      "Epoch 6/100, Loss: 0.5181, Validation Accuracy: 74.29%, F1 Macro: 0.6948\n",
      "Model saved at epoch 6\n",
      "Epoch 7/100, current lr=0.0022052756718749997\n",
      "Epoch 7/100, Loss: 0.5948, Validation Accuracy: 71.22%, F1 Macro: 0.6873\n",
      "Epoch 8/100, current lr=0.0020950118882812497\n",
      "Epoch 8/100, Loss: 0.5161, Validation Accuracy: 76.97%, F1 Macro: 0.6753\n",
      "Epoch 9/100, current lr=0.001990261293867187\n",
      "Epoch 9/100, Loss: 0.6087, Validation Accuracy: 75.14%, F1 Macro: 0.6858\n",
      "Epoch 10/100, current lr=0.0018907482291738277\n",
      "Epoch 10/100, Loss: 0.5478, Validation Accuracy: 69.62%, F1 Macro: 0.6420\n",
      "Epoch 11/100, current lr=0.0017962108177151362\n",
      "Epoch 11/100, Loss: 0.4543, Validation Accuracy: 64.41%, F1 Macro: 0.4994\n",
      "Epoch 12/100, current lr=0.0017064002768293794\n",
      "Epoch 12/100, Loss: 0.4299, Validation Accuracy: 76.06%, F1 Macro: 0.6469\n",
      "Epoch 13/100, current lr=0.0016210802629879103\n",
      "Epoch 13/100, Loss: 0.5248, Validation Accuracy: 77.55%, F1 Macro: 0.6384\n",
      "Epoch 14/100, current lr=0.0015400262498385148\n",
      "Epoch 14/100, Loss: 0.6207, Validation Accuracy: 80.04%, F1 Macro: 0.7580\n",
      "Model saved at epoch 14\n",
      "Epoch 15/100, current lr=0.001463024937346589\n",
      "Epoch 15/100, Loss: 0.6462, Validation Accuracy: 78.36%, F1 Macro: 0.7514\n",
      "Epoch 16/100, current lr=0.0013898736904792595\n",
      "Epoch 16/100, Loss: 0.4827, Validation Accuracy: 80.19%, F1 Macro: 0.7634\n",
      "Model saved at epoch 16\n",
      "Epoch 17/100, current lr=0.0013203800059552965\n",
      "Epoch 17/100, Loss: 0.4931, Validation Accuracy: 81.29%, F1 Macro: 0.7646\n",
      "Model saved at epoch 17\n",
      "Epoch 18/100, current lr=0.0012543610056575316\n",
      "Epoch 18/100, Loss: 0.4202, Validation Accuracy: 81.01%, F1 Macro: 0.7693\n",
      "Model saved at epoch 18\n",
      "Epoch 19/100, current lr=0.001191642955374655\n",
      "Epoch 19/100, Loss: 0.4555, Validation Accuracy: 70.77%, F1 Macro: 0.6332\n",
      "Epoch 20/100, current lr=0.001132060807605922\n",
      "Epoch 20/100, Loss: 0.5630, Validation Accuracy: 80.92%, F1 Macro: 0.7610\n",
      "Epoch 21/100, current lr=0.0010754577672256258\n",
      "Epoch 21/100, Loss: 0.4595, Validation Accuracy: 72.82%, F1 Macro: 0.7142\n",
      "Epoch 22/100, current lr=0.0010216848788643445\n",
      "Epoch 22/100, Loss: 0.5251, Validation Accuracy: 74.61%, F1 Macro: 0.6222\n",
      "Epoch 23/100, current lr=0.0009706006349211272\n",
      "Epoch 23/100, Loss: 0.5909, Validation Accuracy: 72.51%, F1 Macro: 0.6640\n",
      "Epoch 24/100, current lr=0.0009220706031750709\n",
      "Epoch 24/100, Loss: 0.6661, Validation Accuracy: 81.95%, F1 Macro: 0.7777\n",
      "Model saved at epoch 24\n",
      "Epoch 25/100, current lr=0.0008759670730163172\n"
     ]
    },
    {
     "ename": "KeyboardInterrupt",
     "evalue": "",
     "output_type": "error",
     "traceback": [
      "\u001B[1;31m---------------------------------------------------------------------------\u001B[0m",
      "\u001B[1;31mKeyboardInterrupt\u001B[0m                         Traceback (most recent call last)",
      "Cell \u001B[1;32mIn[148], line 16\u001B[0m\n\u001B[0;32m     14\u001B[0m \u001B[38;5;28mprint\u001B[39m(\u001B[38;5;124m'\u001B[39m\u001B[38;5;124mEpoch \u001B[39m\u001B[38;5;132;01m{}\u001B[39;00m\u001B[38;5;124m/\u001B[39m\u001B[38;5;132;01m{}\u001B[39;00m\u001B[38;5;124m, current lr=\u001B[39m\u001B[38;5;132;01m{}\u001B[39;00m\u001B[38;5;124m'\u001B[39m\u001B[38;5;241m.\u001B[39mformat(epoch\u001B[38;5;241m+\u001B[39m\u001B[38;5;241m1\u001B[39m,num_epochs, current_lr))\n\u001B[0;32m     15\u001B[0m model\u001B[38;5;241m.\u001B[39mtrain()\n\u001B[1;32m---> 16\u001B[0m \u001B[38;5;28;01mfor\u001B[39;00m inputs, targets \u001B[38;5;129;01min\u001B[39;00m train_loader:\n\u001B[0;32m     17\u001B[0m     inputs, targets \u001B[38;5;241m=\u001B[39m inputs\u001B[38;5;241m.\u001B[39mto(device), targets\u001B[38;5;241m.\u001B[39mto(device)  \u001B[38;5;66;03m# 데이터를 GPU로 이동\u001B[39;00m\n\u001B[0;32m     18\u001B[0m     optimizer\u001B[38;5;241m.\u001B[39mzero_grad()\n",
      "File \u001B[1;32m~\\anaconda3\\envs\\study\\lib\\site-packages\\torch\\utils\\data\\dataloader.py:630\u001B[0m, in \u001B[0;36m_BaseDataLoaderIter.__next__\u001B[1;34m(self)\u001B[0m\n\u001B[0;32m    627\u001B[0m \u001B[38;5;28;01mif\u001B[39;00m \u001B[38;5;28mself\u001B[39m\u001B[38;5;241m.\u001B[39m_sampler_iter \u001B[38;5;129;01mis\u001B[39;00m \u001B[38;5;28;01mNone\u001B[39;00m:\n\u001B[0;32m    628\u001B[0m     \u001B[38;5;66;03m# TODO(https://github.com/pytorch/pytorch/issues/76750)\u001B[39;00m\n\u001B[0;32m    629\u001B[0m     \u001B[38;5;28mself\u001B[39m\u001B[38;5;241m.\u001B[39m_reset()  \u001B[38;5;66;03m# type: ignore[call-arg]\u001B[39;00m\n\u001B[1;32m--> 630\u001B[0m data \u001B[38;5;241m=\u001B[39m \u001B[38;5;28;43mself\u001B[39;49m\u001B[38;5;241;43m.\u001B[39;49m\u001B[43m_next_data\u001B[49m\u001B[43m(\u001B[49m\u001B[43m)\u001B[49m\n\u001B[0;32m    631\u001B[0m \u001B[38;5;28mself\u001B[39m\u001B[38;5;241m.\u001B[39m_num_yielded \u001B[38;5;241m+\u001B[39m\u001B[38;5;241m=\u001B[39m \u001B[38;5;241m1\u001B[39m\n\u001B[0;32m    632\u001B[0m \u001B[38;5;28;01mif\u001B[39;00m \u001B[38;5;28mself\u001B[39m\u001B[38;5;241m.\u001B[39m_dataset_kind \u001B[38;5;241m==\u001B[39m _DatasetKind\u001B[38;5;241m.\u001B[39mIterable \u001B[38;5;129;01mand\u001B[39;00m \\\n\u001B[0;32m    633\u001B[0m         \u001B[38;5;28mself\u001B[39m\u001B[38;5;241m.\u001B[39m_IterableDataset_len_called \u001B[38;5;129;01mis\u001B[39;00m \u001B[38;5;129;01mnot\u001B[39;00m \u001B[38;5;28;01mNone\u001B[39;00m \u001B[38;5;129;01mand\u001B[39;00m \\\n\u001B[0;32m    634\u001B[0m         \u001B[38;5;28mself\u001B[39m\u001B[38;5;241m.\u001B[39m_num_yielded \u001B[38;5;241m>\u001B[39m \u001B[38;5;28mself\u001B[39m\u001B[38;5;241m.\u001B[39m_IterableDataset_len_called:\n",
      "File \u001B[1;32m~\\anaconda3\\envs\\study\\lib\\site-packages\\torch\\utils\\data\\dataloader.py:674\u001B[0m, in \u001B[0;36m_SingleProcessDataLoaderIter._next_data\u001B[1;34m(self)\u001B[0m\n\u001B[0;32m    672\u001B[0m \u001B[38;5;28;01mdef\u001B[39;00m \u001B[38;5;21m_next_data\u001B[39m(\u001B[38;5;28mself\u001B[39m):\n\u001B[0;32m    673\u001B[0m     index \u001B[38;5;241m=\u001B[39m \u001B[38;5;28mself\u001B[39m\u001B[38;5;241m.\u001B[39m_next_index()  \u001B[38;5;66;03m# may raise StopIteration\u001B[39;00m\n\u001B[1;32m--> 674\u001B[0m     data \u001B[38;5;241m=\u001B[39m \u001B[38;5;28;43mself\u001B[39;49m\u001B[38;5;241;43m.\u001B[39;49m\u001B[43m_dataset_fetcher\u001B[49m\u001B[38;5;241;43m.\u001B[39;49m\u001B[43mfetch\u001B[49m\u001B[43m(\u001B[49m\u001B[43mindex\u001B[49m\u001B[43m)\u001B[49m  \u001B[38;5;66;03m# may raise StopIteration\u001B[39;00m\n\u001B[0;32m    675\u001B[0m     \u001B[38;5;28;01mif\u001B[39;00m \u001B[38;5;28mself\u001B[39m\u001B[38;5;241m.\u001B[39m_pin_memory:\n\u001B[0;32m    676\u001B[0m         data \u001B[38;5;241m=\u001B[39m _utils\u001B[38;5;241m.\u001B[39mpin_memory\u001B[38;5;241m.\u001B[39mpin_memory(data, \u001B[38;5;28mself\u001B[39m\u001B[38;5;241m.\u001B[39m_pin_memory_device)\n",
      "File \u001B[1;32m~\\anaconda3\\envs\\study\\lib\\site-packages\\torch\\utils\\data\\_utils\\fetch.py:51\u001B[0m, in \u001B[0;36m_MapDatasetFetcher.fetch\u001B[1;34m(self, possibly_batched_index)\u001B[0m\n\u001B[0;32m     49\u001B[0m         data \u001B[38;5;241m=\u001B[39m \u001B[38;5;28mself\u001B[39m\u001B[38;5;241m.\u001B[39mdataset\u001B[38;5;241m.\u001B[39m__getitems__(possibly_batched_index)\n\u001B[0;32m     50\u001B[0m     \u001B[38;5;28;01melse\u001B[39;00m:\n\u001B[1;32m---> 51\u001B[0m         data \u001B[38;5;241m=\u001B[39m [\u001B[38;5;28mself\u001B[39m\u001B[38;5;241m.\u001B[39mdataset[idx] \u001B[38;5;28;01mfor\u001B[39;00m idx \u001B[38;5;129;01min\u001B[39;00m possibly_batched_index]\n\u001B[0;32m     52\u001B[0m \u001B[38;5;28;01melse\u001B[39;00m:\n\u001B[0;32m     53\u001B[0m     data \u001B[38;5;241m=\u001B[39m \u001B[38;5;28mself\u001B[39m\u001B[38;5;241m.\u001B[39mdataset[possibly_batched_index]\n",
      "File \u001B[1;32m~\\anaconda3\\envs\\study\\lib\\site-packages\\torch\\utils\\data\\_utils\\fetch.py:51\u001B[0m, in \u001B[0;36m<listcomp>\u001B[1;34m(.0)\u001B[0m\n\u001B[0;32m     49\u001B[0m         data \u001B[38;5;241m=\u001B[39m \u001B[38;5;28mself\u001B[39m\u001B[38;5;241m.\u001B[39mdataset\u001B[38;5;241m.\u001B[39m__getitems__(possibly_batched_index)\n\u001B[0;32m     50\u001B[0m     \u001B[38;5;28;01melse\u001B[39;00m:\n\u001B[1;32m---> 51\u001B[0m         data \u001B[38;5;241m=\u001B[39m [\u001B[38;5;28;43mself\u001B[39;49m\u001B[38;5;241;43m.\u001B[39;49m\u001B[43mdataset\u001B[49m\u001B[43m[\u001B[49m\u001B[43midx\u001B[49m\u001B[43m]\u001B[49m \u001B[38;5;28;01mfor\u001B[39;00m idx \u001B[38;5;129;01min\u001B[39;00m possibly_batched_index]\n\u001B[0;32m     52\u001B[0m \u001B[38;5;28;01melse\u001B[39;00m:\n\u001B[0;32m     53\u001B[0m     data \u001B[38;5;241m=\u001B[39m \u001B[38;5;28mself\u001B[39m\u001B[38;5;241m.\u001B[39mdataset[possibly_batched_index]\n",
      "File \u001B[1;32m~\\anaconda3\\envs\\study\\lib\\site-packages\\torch\\utils\\data\\dataset.py:208\u001B[0m, in \u001B[0;36mTensorDataset.__getitem__\u001B[1;34m(self, index)\u001B[0m\n\u001B[0;32m    207\u001B[0m \u001B[38;5;28;01mdef\u001B[39;00m \u001B[38;5;21m__getitem__\u001B[39m(\u001B[38;5;28mself\u001B[39m, index):\n\u001B[1;32m--> 208\u001B[0m     \u001B[38;5;28;01mreturn\u001B[39;00m \u001B[38;5;28;43mtuple\u001B[39;49m\u001B[43m(\u001B[49m\u001B[43mtensor\u001B[49m\u001B[43m[\u001B[49m\u001B[43mindex\u001B[49m\u001B[43m]\u001B[49m\u001B[43m \u001B[49m\u001B[38;5;28;43;01mfor\u001B[39;49;00m\u001B[43m \u001B[49m\u001B[43mtensor\u001B[49m\u001B[43m \u001B[49m\u001B[38;5;129;43;01min\u001B[39;49;00m\u001B[43m \u001B[49m\u001B[38;5;28;43mself\u001B[39;49m\u001B[38;5;241;43m.\u001B[39;49m\u001B[43mtensors\u001B[49m\u001B[43m)\u001B[49m\n",
      "File \u001B[1;32m~\\anaconda3\\envs\\study\\lib\\site-packages\\torch\\utils\\data\\dataset.py:208\u001B[0m, in \u001B[0;36m<genexpr>\u001B[1;34m(.0)\u001B[0m\n\u001B[0;32m    207\u001B[0m \u001B[38;5;28;01mdef\u001B[39;00m \u001B[38;5;21m__getitem__\u001B[39m(\u001B[38;5;28mself\u001B[39m, index):\n\u001B[1;32m--> 208\u001B[0m     \u001B[38;5;28;01mreturn\u001B[39;00m \u001B[38;5;28mtuple\u001B[39m(tensor[index] \u001B[38;5;28;01mfor\u001B[39;00m tensor \u001B[38;5;129;01min\u001B[39;00m \u001B[38;5;28mself\u001B[39m\u001B[38;5;241m.\u001B[39mtensors)\n",
      "\u001B[1;31mKeyboardInterrupt\u001B[0m: "
     ]
    }
   ],
   "source": [
    "# optimizer = optim.Adam(model.parameters(), lr=0.003)\n",
    "optimizer = optim.AdamW(model.parameters(), lr=0.003)\n",
    "lr_scheduler = StepLR(optimizer, step_size=1, gamma=0.95)\n",
    "\n",
    "# 학습 및 검증 과정\n",
    "# Early stopping을 위한 설정\n",
    "patience = 20  # 성능 개선이 없는 에포크 수\n",
    "best_f1 = 0.0\n",
    "counter = 0\n",
    "num_epochs = 100  # 에포크 수 설정\n",
    "for epoch in range(num_epochs):\n",
    "    # 학습 과정\n",
    "    current_lr = get_lr(optimizer)\n",
    "    print('Epoch {}/{}, current lr={}'.format(epoch+1,num_epochs, current_lr))\n",
    "    model.train()\n",
    "    for inputs, targets in train_loader:\n",
    "        inputs, targets = inputs.to(device), targets.to(device)  # 데이터를 GPU로 이동\n",
    "        optimizer.zero_grad()\n",
    "        outputs = model(inputs)\n",
    "        loss = criterion(outputs, targets)\n",
    "        loss.backward()\n",
    "        optimizer.step()\n",
    "    lr_scheduler.step()\n",
    "\n",
    "    # 검증 과정\n",
    "    model.eval()\n",
    "    total = 0\n",
    "    correct = 0\n",
    "    all_predicted = []\n",
    "    all_targets = []\n",
    "    with torch.no_grad():\n",
    "        for inputs, targets in test_loader:\n",
    "            inputs, targets = inputs.to(device), targets.to(device)\n",
    "            outputs = model(inputs)\n",
    "            _, predicted = torch.max(outputs.data, 1)\n",
    "            total += targets.size(0)\n",
    "            correct += (predicted == targets).sum().item()\n",
    "            all_predicted.extend(predicted.cpu().numpy())\n",
    "            all_targets.extend(targets.cpu().numpy())\n",
    "\n",
    "    accuracy = 100 * correct / total\n",
    "    f1_macro = f1_score(all_targets, all_predicted, average='macro')\n",
    "    print(f'Epoch {epoch+1}/{num_epochs}, Loss: {loss.item():.4f}, Validation Accuracy: {accuracy:.2f}%, F1 Macro: {f1_macro:.4f}')\n",
    "\n",
    "    # Early stopping 체크\n",
    "    if f1_macro > best_f1:\n",
    "        best_f1 = f1_macro\n",
    "        counter = 0\n",
    "        torch.save(model.state_dict(), '../data/best_weight.pth')  # 모델 가중치 저장\n",
    "        print(f'Model saved at epoch {epoch+1}')\n",
    "    else:\n",
    "        counter += 1\n",
    "        if counter >= patience:\n",
    "            print(f'Early stopping triggered at epoch {epoch+1}')\n",
    "            break"
   ],
   "metadata": {
    "collapsed": false,
    "ExecuteTime": {
     "end_time": "2024-01-17T07:54:10.597822600Z",
     "start_time": "2024-01-17T07:53:40.690320Z"
    }
   },
   "id": "deb1340c6c2ecb29"
  },
  {
   "cell_type": "code",
   "execution_count": 151,
   "outputs": [
    {
     "name": "stdout",
     "output_type": "stream",
     "text": [
      "Epoch 25/100, Loss: 0.4250, Validation Accuracy: 81.94%, F1 Macro: 0.7762\n"
     ]
    }
   ],
   "source": [
    "model.eval()\n",
    "with torch.no_grad():\n",
    "    for inputs, targets in test_loader:\n",
    "        inputs, targets = inputs.to(device), targets.to(device)\n",
    "        outputs = model(inputs)\n",
    "        _, predicted = torch.max(outputs.data, 1)\n",
    "        total += targets.size(0)\n",
    "        correct += (predicted == targets).sum().item()\n",
    "        all_predicted.extend(predicted.cpu().numpy())\n",
    "        all_targets.extend(targets.cpu().numpy())\n",
    "\n",
    "accuracy = 100 * correct / total\n",
    "f1_macro = f1_score(all_targets, all_predicted, average='macro')\n",
    "print(f'Epoch {epoch+1}/{num_epochs}, Loss: {loss.item():.4f}, Validation Accuracy: {accuracy:.2f}%, F1 Macro: {f1_macro:.4f}')"
   ],
   "metadata": {
    "collapsed": false,
    "ExecuteTime": {
     "end_time": "2024-01-17T07:54:16.284615500Z",
     "start_time": "2024-01-17T07:54:15.672125500Z"
    }
   },
   "id": "64f9d75dc9710964"
  },
  {
   "cell_type": "markdown",
   "source": [
    "# Prediciton"
   ],
   "metadata": {
    "collapsed": false
   },
   "id": "c7501f1c50b16e1a"
  },
  {
   "cell_type": "code",
   "execution_count": 150,
   "outputs": [
    {
     "data": {
      "text/plain": "<All keys matched successfully>"
     },
     "execution_count": 150,
     "metadata": {},
     "output_type": "execute_result"
    }
   ],
   "source": [
    "model.load_state_dict(torch.load('../data/best_weight.pth'))"
   ],
   "metadata": {
    "collapsed": false,
    "ExecuteTime": {
     "end_time": "2024-01-17T07:54:15.132857200Z",
     "start_time": "2024-01-17T07:54:15.084985800Z"
    }
   },
   "id": "be75e14ed67ec1d7"
  },
  {
   "cell_type": "code",
   "execution_count": 152,
   "outputs": [],
   "source": [
    "model.eval()  # 모델을 평가 모드로 설정\n",
    "predictions = []\n",
    "\n",
    "with torch.no_grad():\n",
    "    for inputs in real_test_loader:  # 레이블 데이터 없음\n",
    "        inputs = inputs[0].to(device)  # 첫 번째 원소가 입력 데이터\n",
    "        outputs = model(inputs)\n",
    "        _, predicted = torch.max(outputs, 1)\n",
    "        predictions.extend(predicted.cpu().numpy())"
   ],
   "metadata": {
    "collapsed": false,
    "ExecuteTime": {
     "end_time": "2024-01-17T07:54:19.773053700Z",
     "start_time": "2024-01-17T07:54:19.392241600Z"
    }
   },
   "id": "826b718fc61e7648"
  },
  {
   "cell_type": "code",
   "execution_count": 153,
   "outputs": [],
   "source": [
    "pred_final = np.array(predictions)"
   ],
   "metadata": {
    "collapsed": false,
    "ExecuteTime": {
     "end_time": "2024-01-17T07:54:19.790037200Z",
     "start_time": "2024-01-17T07:54:19.775049100Z"
    }
   },
   "id": "f9c7f08edf06d1a9"
  },
  {
   "cell_type": "code",
   "execution_count": 154,
   "outputs": [],
   "source": [
    "submit = pd.DataFrame({\n",
    "    'ID': sample_submission_id,\n",
    "    '대출등급': pred_final.flatten()\n",
    "})"
   ],
   "metadata": {
    "collapsed": false,
    "ExecuteTime": {
     "end_time": "2024-01-17T07:54:20.037634800Z",
     "start_time": "2024-01-17T07:54:20.010705500Z"
    }
   },
   "id": "37dfc896498e09c1"
  },
  {
   "cell_type": "code",
   "execution_count": 155,
   "outputs": [
    {
     "data": {
      "text/plain": "               ID  대출등급\n0      TEST_00000     2\n1      TEST_00001     3\n2      TEST_00002     0\n3      TEST_00003     3\n4      TEST_00004     2\n...           ...   ...\n64192  TEST_64192     2\n64193  TEST_64193     4\n64194  TEST_64194     3\n64195  TEST_64195     4\n64196  TEST_64196     0\n\n[64197 rows x 2 columns]",
      "text/html": "<div>\n<style scoped>\n    .dataframe tbody tr th:only-of-type {\n        vertical-align: middle;\n    }\n\n    .dataframe tbody tr th {\n        vertical-align: top;\n    }\n\n    .dataframe thead th {\n        text-align: right;\n    }\n</style>\n<table border=\"1\" class=\"dataframe\">\n  <thead>\n    <tr style=\"text-align: right;\">\n      <th></th>\n      <th>ID</th>\n      <th>대출등급</th>\n    </tr>\n  </thead>\n  <tbody>\n    <tr>\n      <th>0</th>\n      <td>TEST_00000</td>\n      <td>2</td>\n    </tr>\n    <tr>\n      <th>1</th>\n      <td>TEST_00001</td>\n      <td>3</td>\n    </tr>\n    <tr>\n      <th>2</th>\n      <td>TEST_00002</td>\n      <td>0</td>\n    </tr>\n    <tr>\n      <th>3</th>\n      <td>TEST_00003</td>\n      <td>3</td>\n    </tr>\n    <tr>\n      <th>4</th>\n      <td>TEST_00004</td>\n      <td>2</td>\n    </tr>\n    <tr>\n      <th>...</th>\n      <td>...</td>\n      <td>...</td>\n    </tr>\n    <tr>\n      <th>64192</th>\n      <td>TEST_64192</td>\n      <td>2</td>\n    </tr>\n    <tr>\n      <th>64193</th>\n      <td>TEST_64193</td>\n      <td>4</td>\n    </tr>\n    <tr>\n      <th>64194</th>\n      <td>TEST_64194</td>\n      <td>3</td>\n    </tr>\n    <tr>\n      <th>64195</th>\n      <td>TEST_64195</td>\n      <td>4</td>\n    </tr>\n    <tr>\n      <th>64196</th>\n      <td>TEST_64196</td>\n      <td>0</td>\n    </tr>\n  </tbody>\n</table>\n<p>64197 rows × 2 columns</p>\n</div>"
     },
     "execution_count": 155,
     "metadata": {},
     "output_type": "execute_result"
    }
   ],
   "source": [
    "submit"
   ],
   "metadata": {
    "collapsed": false,
    "ExecuteTime": {
     "end_time": "2024-01-17T07:54:20.702857100Z",
     "start_time": "2024-01-17T07:54:20.679919100Z"
    }
   },
   "id": "5ab3b600dd9e2913"
  },
  {
   "cell_type": "code",
   "execution_count": 122,
   "outputs": [],
   "source": [
    "# 숫자를 문자로 매핑할 딕셔너리를 생성합니다.\n",
    "num_to_letter = {0: 'A', 1: 'B', 2: 'C', 3: 'D', 4: 'E', 5: 'F', 6: 'G'}\n",
    "\n",
    "# '대출등급' 컬럼에 map 함수를 적용하여 숫자를 문자로 변환합니다.\n",
    "submit['대출등급'] = submit['대출등급'].map(num_to_letter)"
   ],
   "metadata": {
    "collapsed": false,
    "ExecuteTime": {
     "end_time": "2024-01-17T07:20:34.772192900Z",
     "start_time": "2024-01-17T07:20:34.752246300Z"
    }
   },
   "id": "5992a4ced836671f"
  },
  {
   "cell_type": "code",
   "execution_count": 304,
   "outputs": [],
   "source": [
    "submit.to_csv(\"../submission/test5_deep.csv\", index = False)"
   ],
   "metadata": {
    "collapsed": false,
    "ExecuteTime": {
     "end_time": "2024-01-17T06:33:04.177385800Z",
     "start_time": "2024-01-17T06:33:04.103403600Z"
    }
   },
   "id": "28bdbae124063a01"
  },
  {
   "cell_type": "code",
   "execution_count": null,
   "outputs": [],
   "source": [],
   "metadata": {
    "collapsed": false
   },
   "id": "6ddb17cc7055b46c"
  }
 ],
 "metadata": {
  "kernelspec": {
   "display_name": "Python 3",
   "language": "python",
   "name": "python3"
  },
  "language_info": {
   "codemirror_mode": {
    "name": "ipython",
    "version": 2
   },
   "file_extension": ".py",
   "mimetype": "text/x-python",
   "name": "python",
   "nbconvert_exporter": "python",
   "pygments_lexer": "ipython2",
   "version": "2.7.6"
  }
 },
 "nbformat": 4,
 "nbformat_minor": 5
}

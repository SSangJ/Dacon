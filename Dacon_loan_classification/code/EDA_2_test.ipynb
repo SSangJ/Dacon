{
 "cells": [
  {
   "cell_type": "code",
   "execution_count": 1,
   "id": "initial_id",
   "metadata": {
    "collapsed": true,
    "ExecuteTime": {
     "end_time": "2024-01-17T03:03:03.243454800Z",
     "start_time": "2024-01-17T03:03:00.868414400Z"
    }
   },
   "outputs": [
    {
     "name": "stdout",
     "output_type": "stream",
     "text": [
      "cuda:0\n"
     ]
    }
   ],
   "source": [
    "import torch\n",
    "device = torch.device('cuda:0' if torch.cuda.is_available() else 'cpu')\n",
    "\n",
    "print(device)"
   ]
  },
  {
   "cell_type": "code",
   "execution_count": 2,
   "outputs": [],
   "source": [
    "import matplotlib.pyplot as plt\n",
    "import pandas as pd\n",
    "import numpy as np\n",
    "import seaborn as sns\n",
    "\n",
    "from sklearn.cluster import DBSCAN\n",
    "from sklearn.preprocessing import LabelEncoder\n",
    "from sklearn.preprocessing import OneHotEncoder\n",
    "from sklearn.linear_model import LinearRegression\n",
    "from sklearn.ensemble import RandomForestRegressor\n",
    "from xgboost import XGBRegressor\n",
    "from catboost import CatBoostRegressor\n",
    "from sklearn.model_selection import train_test_split\n",
    "from sklearn.metrics import mean_absolute_error, r2_score\n",
    "from sklearn.model_selection import GridSearchCV\n",
    "from lightgbm import LGBMRegressor\n",
    "from catboost import CatBoostClassifier\n",
    "\n",
    "\n",
    "import warnings\n",
    "\n",
    "# 경고 무시\n",
    "warnings.filterwarnings(\"ignore\", category=FutureWarning)\n",
    "\n",
    "import os\n",
    "os.environ['KMP_DUPLICATE_LIB_OK']='True'\n",
    "\n",
    "# 한글 폰트 설정\n",
    "plt.rcParams['font.family'] = 'Malgun Gothic'  # 예시로 'NanumGothic'을 사용"
   ],
   "metadata": {
    "collapsed": false,
    "ExecuteTime": {
     "end_time": "2024-01-17T03:03:10.170673600Z",
     "start_time": "2024-01-17T03:03:09.737223900Z"
    }
   },
   "id": "155aa713a2c8acef"
  },
  {
   "cell_type": "code",
   "execution_count": 3,
   "outputs": [],
   "source": [
    "# train = pd.read_csv(\"../data/test.csv\")\n",
    "test = pd.read_csv(\"../data/test.csv\")"
   ],
   "metadata": {
    "collapsed": false,
    "ExecuteTime": {
     "end_time": "2024-01-17T03:03:10.271403200Z",
     "start_time": "2024-01-17T03:03:10.161696400Z"
    }
   },
   "id": "5354616e4a3c430c"
  },
  {
   "cell_type": "code",
   "execution_count": 4,
   "outputs": [],
   "source": [
    "test = test.drop(['ID'], axis=1)"
   ],
   "metadata": {
    "collapsed": false,
    "ExecuteTime": {
     "end_time": "2024-01-17T03:03:10.382511600Z",
     "start_time": "2024-01-17T03:03:10.364559800Z"
    }
   },
   "id": "3dec8f1dba22f187"
  },
  {
   "cell_type": "code",
   "execution_count": 5,
   "outputs": [
    {
     "data": {
      "text/plain": "           대출금액        대출기간       근로기간    주택소유상태       연간소득  부채_대비_소득_비율  \\\n0      16800000   36 months    8 years  MORTGAGE  132000000        19.64   \n1       8400000   36 months    5 years      RENT   89971200        15.84   \n2      17280000   36 months    6 years      RENT  150000000         8.41   \n3      14400000   36 months    5 years  MORTGAGE   66000000        13.72   \n4      27600000   36 months    5 years      RENT   55200000        30.50   \n...         ...         ...        ...       ...        ...          ...   \n64192  30000000   36 months    3 years  MORTGAGE   78000000        22.08   \n64193  30000000   60 months  10+ years  MORTGAGE  109200000        12.06   \n64194   6120000   36 months  10+ years      RENT   39600000        28.80   \n64195  11520000   36 months  10+ years  MORTGAGE   66000000        25.44   \n64196   6000000   36 months    9 years      RENT  180000000         9.07   \n\n       총계좌수   대출목적  최근_2년간_연체_횟수    총상환원금      총상환이자  총연체금액  연체계좌수  \n0        12  주택 개선             0   394692   146604.0    0.0    0.0  \n1        25  부채 통합             0        0        0.0    0.0    0.0  \n2        20  신용 카드             0  1786980   281820.0    0.0    0.0  \n3        30  신용 카드             1   669024   281724.0    0.0    0.0  \n4        12  신용 카드             0  1250052   614844.0    0.0    0.0  \n...     ...    ...           ...      ...        ...    ...    ...  \n64192    27  부채 통합             2  1307532   763380.0    0.0    0.0  \n64193    26  부채 통합             0   960612  1245252.0    0.0    0.0  \n64194    33  부채 통합             0   131520    80880.0    0.0    0.0  \n64195    41  부채 통합             1  1339536   601872.0    0.0    0.0  \n64196    10  부채 통합             0   308880    48960.0    0.0    0.0  \n\n[64197 rows x 13 columns]",
      "text/html": "<div>\n<style scoped>\n    .dataframe tbody tr th:only-of-type {\n        vertical-align: middle;\n    }\n\n    .dataframe tbody tr th {\n        vertical-align: top;\n    }\n\n    .dataframe thead th {\n        text-align: right;\n    }\n</style>\n<table border=\"1\" class=\"dataframe\">\n  <thead>\n    <tr style=\"text-align: right;\">\n      <th></th>\n      <th>대출금액</th>\n      <th>대출기간</th>\n      <th>근로기간</th>\n      <th>주택소유상태</th>\n      <th>연간소득</th>\n      <th>부채_대비_소득_비율</th>\n      <th>총계좌수</th>\n      <th>대출목적</th>\n      <th>최근_2년간_연체_횟수</th>\n      <th>총상환원금</th>\n      <th>총상환이자</th>\n      <th>총연체금액</th>\n      <th>연체계좌수</th>\n    </tr>\n  </thead>\n  <tbody>\n    <tr>\n      <th>0</th>\n      <td>16800000</td>\n      <td>36 months</td>\n      <td>8 years</td>\n      <td>MORTGAGE</td>\n      <td>132000000</td>\n      <td>19.64</td>\n      <td>12</td>\n      <td>주택 개선</td>\n      <td>0</td>\n      <td>394692</td>\n      <td>146604.0</td>\n      <td>0.0</td>\n      <td>0.0</td>\n    </tr>\n    <tr>\n      <th>1</th>\n      <td>8400000</td>\n      <td>36 months</td>\n      <td>5 years</td>\n      <td>RENT</td>\n      <td>89971200</td>\n      <td>15.84</td>\n      <td>25</td>\n      <td>부채 통합</td>\n      <td>0</td>\n      <td>0</td>\n      <td>0.0</td>\n      <td>0.0</td>\n      <td>0.0</td>\n    </tr>\n    <tr>\n      <th>2</th>\n      <td>17280000</td>\n      <td>36 months</td>\n      <td>6 years</td>\n      <td>RENT</td>\n      <td>150000000</td>\n      <td>8.41</td>\n      <td>20</td>\n      <td>신용 카드</td>\n      <td>0</td>\n      <td>1786980</td>\n      <td>281820.0</td>\n      <td>0.0</td>\n      <td>0.0</td>\n    </tr>\n    <tr>\n      <th>3</th>\n      <td>14400000</td>\n      <td>36 months</td>\n      <td>5 years</td>\n      <td>MORTGAGE</td>\n      <td>66000000</td>\n      <td>13.72</td>\n      <td>30</td>\n      <td>신용 카드</td>\n      <td>1</td>\n      <td>669024</td>\n      <td>281724.0</td>\n      <td>0.0</td>\n      <td>0.0</td>\n    </tr>\n    <tr>\n      <th>4</th>\n      <td>27600000</td>\n      <td>36 months</td>\n      <td>5 years</td>\n      <td>RENT</td>\n      <td>55200000</td>\n      <td>30.50</td>\n      <td>12</td>\n      <td>신용 카드</td>\n      <td>0</td>\n      <td>1250052</td>\n      <td>614844.0</td>\n      <td>0.0</td>\n      <td>0.0</td>\n    </tr>\n    <tr>\n      <th>...</th>\n      <td>...</td>\n      <td>...</td>\n      <td>...</td>\n      <td>...</td>\n      <td>...</td>\n      <td>...</td>\n      <td>...</td>\n      <td>...</td>\n      <td>...</td>\n      <td>...</td>\n      <td>...</td>\n      <td>...</td>\n      <td>...</td>\n    </tr>\n    <tr>\n      <th>64192</th>\n      <td>30000000</td>\n      <td>36 months</td>\n      <td>3 years</td>\n      <td>MORTGAGE</td>\n      <td>78000000</td>\n      <td>22.08</td>\n      <td>27</td>\n      <td>부채 통합</td>\n      <td>2</td>\n      <td>1307532</td>\n      <td>763380.0</td>\n      <td>0.0</td>\n      <td>0.0</td>\n    </tr>\n    <tr>\n      <th>64193</th>\n      <td>30000000</td>\n      <td>60 months</td>\n      <td>10+ years</td>\n      <td>MORTGAGE</td>\n      <td>109200000</td>\n      <td>12.06</td>\n      <td>26</td>\n      <td>부채 통합</td>\n      <td>0</td>\n      <td>960612</td>\n      <td>1245252.0</td>\n      <td>0.0</td>\n      <td>0.0</td>\n    </tr>\n    <tr>\n      <th>64194</th>\n      <td>6120000</td>\n      <td>36 months</td>\n      <td>10+ years</td>\n      <td>RENT</td>\n      <td>39600000</td>\n      <td>28.80</td>\n      <td>33</td>\n      <td>부채 통합</td>\n      <td>0</td>\n      <td>131520</td>\n      <td>80880.0</td>\n      <td>0.0</td>\n      <td>0.0</td>\n    </tr>\n    <tr>\n      <th>64195</th>\n      <td>11520000</td>\n      <td>36 months</td>\n      <td>10+ years</td>\n      <td>MORTGAGE</td>\n      <td>66000000</td>\n      <td>25.44</td>\n      <td>41</td>\n      <td>부채 통합</td>\n      <td>1</td>\n      <td>1339536</td>\n      <td>601872.0</td>\n      <td>0.0</td>\n      <td>0.0</td>\n    </tr>\n    <tr>\n      <th>64196</th>\n      <td>6000000</td>\n      <td>36 months</td>\n      <td>9 years</td>\n      <td>RENT</td>\n      <td>180000000</td>\n      <td>9.07</td>\n      <td>10</td>\n      <td>부채 통합</td>\n      <td>0</td>\n      <td>308880</td>\n      <td>48960.0</td>\n      <td>0.0</td>\n      <td>0.0</td>\n    </tr>\n  </tbody>\n</table>\n<p>64197 rows × 13 columns</p>\n</div>"
     },
     "execution_count": 5,
     "metadata": {},
     "output_type": "execute_result"
    }
   ],
   "source": [
    "test"
   ],
   "metadata": {
    "collapsed": false,
    "ExecuteTime": {
     "end_time": "2024-01-17T03:03:10.808476300Z",
     "start_time": "2024-01-17T03:03:10.781520800Z"
    }
   },
   "id": "675ce875e2eca237"
  },
  {
   "cell_type": "code",
   "execution_count": 6,
   "outputs": [
    {
     "name": "stdout",
     "output_type": "stream",
     "text": [
      "<class 'pandas.core.frame.DataFrame'>\n",
      "RangeIndex: 64197 entries, 0 to 64196\n",
      "Data columns (total 13 columns):\n",
      " #   Column        Non-Null Count  Dtype  \n",
      "---  ------        --------------  -----  \n",
      " 0   대출금액          64197 non-null  int64  \n",
      " 1   대출기간          64197 non-null  object \n",
      " 2   근로기간          64197 non-null  object \n",
      " 3   주택소유상태        64197 non-null  object \n",
      " 4   연간소득          64197 non-null  int64  \n",
      " 5   부채_대비_소득_비율   64197 non-null  float64\n",
      " 6   총계좌수          64197 non-null  int64  \n",
      " 7   대출목적          64197 non-null  object \n",
      " 8   최근_2년간_연체_횟수  64197 non-null  int64  \n",
      " 9   총상환원금         64197 non-null  int64  \n",
      " 10  총상환이자         64197 non-null  float64\n",
      " 11  총연체금액         64197 non-null  float64\n",
      " 12  연체계좌수         64197 non-null  float64\n",
      "dtypes: float64(4), int64(5), object(4)\n",
      "memory usage: 6.4+ MB\n"
     ]
    }
   ],
   "source": [
    "test.info()"
   ],
   "metadata": {
    "collapsed": false,
    "ExecuteTime": {
     "end_time": "2024-01-17T03:03:11.792710200Z",
     "start_time": "2024-01-17T03:03:11.764785600Z"
    }
   },
   "id": "20bb4ce5f94c7b62"
  },
  {
   "cell_type": "code",
   "execution_count": 7,
   "outputs": [],
   "source": [
    "label_encoder = LabelEncoder()\n",
    "\n",
    "test['대출기간'] = label_encoder.fit_transform(test['대출기간'])\n",
    "test['대출목적'] = label_encoder.fit_transform(test['대출목적'])\n",
    "test['주택소유상태'] = label_encoder.fit_transform(test['주택소유상태'])"
   ],
   "metadata": {
    "collapsed": false,
    "ExecuteTime": {
     "end_time": "2024-01-17T03:03:13.823869800Z",
     "start_time": "2024-01-17T03:03:13.776990100Z"
    }
   },
   "id": "7802ad83d0129ea7"
  },
  {
   "cell_type": "code",
   "execution_count": 8,
   "outputs": [],
   "source": [
    "# test[test['근로기간'] == '10+years']['근로기간'] = '10+ years'\n",
    "test.loc[test['근로기간'] == '10+years','근로기간'] = '10+ years'\n",
    "test.loc[test['근로기간'] == '<1 year','근로기간'] = '< 1 year'\n",
    "test.loc[test['근로기간'] == '1 years','근로기간'] = '1 year'\n",
    "test.loc[test['근로기간'] == '3','근로기간'] = '3 years'\n",
    "test.loc[test['근로기간'] == 'Unknown','근로기간'] = 0\n",
    "test.loc[test['근로기간'] == '1 year','근로기간'] = 1\n",
    "test.loc[test['근로기간'] == '2 years','근로기간'] = 1\n",
    "test.loc[test['근로기간'] == '3 years','근로기간'] = 2\n",
    "test.loc[test['근로기간'] == '4 years','근로기간'] = 2\n",
    "test.loc[test['근로기간'] == '5 years','근로기간'] =2\n",
    "test.loc[test['근로기간'] == '6 years','근로기간'] = 3\n",
    "test.loc[test['근로기간'] == '7 years','근로기간'] = 3\n",
    "test.loc[test['근로기간'] == '8 years','근로기간'] =3\n",
    "test.loc[test['근로기간'] == '9 years','근로기간'] = 3\n",
    "test.loc[test['근로기간'] == '10+ years','근로기간'] = 4\n",
    "test.loc[test['근로기간'] == '< 1 year','근로기간'] = 1\n",
    "\n",
    "\n",
    "\n",
    "test['대출기간'] = test['대출기간'].astype('category')\n",
    "test['주택소유상태'] =  test['주택소유상태'].astype('category')\n",
    "test['대출목적'] =  test['대출목적'].astype('category')\n",
    "test['근로기간']= test['근로기간'].astype(float)"
   ],
   "metadata": {
    "collapsed": false,
    "ExecuteTime": {
     "end_time": "2024-01-17T03:03:14.056719200Z",
     "start_time": "2024-01-17T03:03:13.995100Z"
    }
   },
   "id": "8c26bddc49ee02e4"
  },
  {
   "cell_type": "code",
   "execution_count": 56,
   "outputs": [],
   "source": [],
   "metadata": {
    "collapsed": false,
    "ExecuteTime": {
     "end_time": "2024-01-16T14:38:02.877425600Z",
     "start_time": "2024-01-16T14:38:02.866981Z"
    }
   },
   "id": "2cfc306ab65c31b7"
  },
  {
   "cell_type": "code",
   "execution_count": 57,
   "outputs": [
    {
     "name": "stdout",
     "output_type": "stream",
     "text": [
      "<class 'pandas.core.frame.DataFrame'>\n",
      "RangeIndex: 64197 entries, 0 to 64196\n",
      "Data columns (total 13 columns):\n",
      " #   Column        Non-Null Count  Dtype   \n",
      "---  ------        --------------  -----   \n",
      " 0   대출금액          64197 non-null  int64   \n",
      " 1   대출기간          64197 non-null  category\n",
      " 2   근로기간          64197 non-null  float64 \n",
      " 3   주택소유상태        64197 non-null  category\n",
      " 4   연간소득          64197 non-null  int64   \n",
      " 5   부채_대비_소득_비율   64197 non-null  float64 \n",
      " 6   총계좌수          64197 non-null  int64   \n",
      " 7   대출목적          64197 non-null  category\n",
      " 8   최근_2년간_연체_횟수  64197 non-null  int64   \n",
      " 9   총상환원금         64197 non-null  int64   \n",
      " 10  총상환이자         64197 non-null  float64 \n",
      " 11  총연체금액         64197 non-null  float64 \n",
      " 12  연체계좌수         64197 non-null  float64 \n",
      "dtypes: category(3), float64(5), int64(5)\n",
      "memory usage: 5.1 MB\n"
     ]
    }
   ],
   "source": [
    "test.info()"
   ],
   "metadata": {
    "collapsed": false,
    "ExecuteTime": {
     "end_time": "2024-01-16T14:38:03.249515400Z",
     "start_time": "2024-01-16T14:38:03.219590700Z"
    }
   },
   "id": "6d454653a3b6f281"
  },
  {
   "cell_type": "code",
   "execution_count": 10,
   "outputs": [
    {
     "ename": "ValueError",
     "evalue": "Could not interpret value `대출등급` for `x`. An entry with this name does not appear in `data`.",
     "output_type": "error",
     "traceback": [
      "\u001B[1;31m---------------------------------------------------------------------------\u001B[0m",
      "\u001B[1;31mValueError\u001B[0m                                Traceback (most recent call last)",
      "Cell \u001B[1;32mIn[10], line 17\u001B[0m\n\u001B[0;32m     15\u001B[0m \u001B[38;5;28;01mfor\u001B[39;00m j \u001B[38;5;129;01min\u001B[39;00m \u001B[38;5;28mrange\u001B[39m(\u001B[38;5;241m3\u001B[39m):\n\u001B[0;32m     16\u001B[0m     \u001B[38;5;28;01mif\u001B[39;00m a \u001B[38;5;241m<\u001B[39m \u001B[38;5;28mlen\u001B[39m(numeric_cols):\n\u001B[1;32m---> 17\u001B[0m         \u001B[43msns\u001B[49m\u001B[38;5;241;43m.\u001B[39;49m\u001B[43mboxplot\u001B[49m\u001B[43m(\u001B[49m\u001B[43mx\u001B[49m\u001B[38;5;241;43m=\u001B[39;49m\u001B[43mnumeric_cols\u001B[49m\u001B[43m[\u001B[49m\u001B[43ma\u001B[49m\u001B[43m]\u001B[49m\u001B[43m,\u001B[49m\u001B[43m \u001B[49m\u001B[43mdata\u001B[49m\u001B[38;5;241;43m=\u001B[39;49m\u001B[43mtest\u001B[49m\u001B[43m,\u001B[49m\u001B[43m \u001B[49m\u001B[43max\u001B[49m\u001B[38;5;241;43m=\u001B[39;49m\u001B[43maxes\u001B[49m\u001B[43m[\u001B[49m\u001B[43mi\u001B[49m\u001B[43m,\u001B[49m\u001B[43m \u001B[49m\u001B[43mj\u001B[49m\u001B[43m]\u001B[49m\u001B[43m)\u001B[49m\n\u001B[0;32m     18\u001B[0m         a \u001B[38;5;241m+\u001B[39m\u001B[38;5;241m=\u001B[39m \u001B[38;5;241m1\u001B[39m\n\u001B[0;32m     19\u001B[0m     \u001B[38;5;28;01melse\u001B[39;00m:\n",
      "File \u001B[1;32m~\\anaconda3\\envs\\study\\lib\\site-packages\\seaborn\\categorical.py:1582\u001B[0m, in \u001B[0;36mboxplot\u001B[1;34m(data, x, y, hue, order, hue_order, orient, color, palette, saturation, fill, dodge, width, gap, whis, linecolor, linewidth, fliersize, hue_norm, native_scale, log_scale, formatter, legend, ax, **kwargs)\u001B[0m\n\u001B[0;32m   1574\u001B[0m \u001B[38;5;28;01mdef\u001B[39;00m \u001B[38;5;21mboxplot\u001B[39m(\n\u001B[0;32m   1575\u001B[0m     data\u001B[38;5;241m=\u001B[39m\u001B[38;5;28;01mNone\u001B[39;00m, \u001B[38;5;241m*\u001B[39m, x\u001B[38;5;241m=\u001B[39m\u001B[38;5;28;01mNone\u001B[39;00m, y\u001B[38;5;241m=\u001B[39m\u001B[38;5;28;01mNone\u001B[39;00m, hue\u001B[38;5;241m=\u001B[39m\u001B[38;5;28;01mNone\u001B[39;00m, order\u001B[38;5;241m=\u001B[39m\u001B[38;5;28;01mNone\u001B[39;00m, hue_order\u001B[38;5;241m=\u001B[39m\u001B[38;5;28;01mNone\u001B[39;00m,\n\u001B[0;32m   1576\u001B[0m     orient\u001B[38;5;241m=\u001B[39m\u001B[38;5;28;01mNone\u001B[39;00m, color\u001B[38;5;241m=\u001B[39m\u001B[38;5;28;01mNone\u001B[39;00m, palette\u001B[38;5;241m=\u001B[39m\u001B[38;5;28;01mNone\u001B[39;00m, saturation\u001B[38;5;241m=\u001B[39m\u001B[38;5;241m.75\u001B[39m, fill\u001B[38;5;241m=\u001B[39m\u001B[38;5;28;01mTrue\u001B[39;00m,\n\u001B[1;32m   (...)\u001B[0m\n\u001B[0;32m   1579\u001B[0m     legend\u001B[38;5;241m=\u001B[39m\u001B[38;5;124m\"\u001B[39m\u001B[38;5;124mauto\u001B[39m\u001B[38;5;124m\"\u001B[39m, ax\u001B[38;5;241m=\u001B[39m\u001B[38;5;28;01mNone\u001B[39;00m, \u001B[38;5;241m*\u001B[39m\u001B[38;5;241m*\u001B[39mkwargs\n\u001B[0;32m   1580\u001B[0m ):\n\u001B[1;32m-> 1582\u001B[0m     p \u001B[38;5;241m=\u001B[39m \u001B[43m_CategoricalPlotter\u001B[49m\u001B[43m(\u001B[49m\n\u001B[0;32m   1583\u001B[0m \u001B[43m        \u001B[49m\u001B[43mdata\u001B[49m\u001B[38;5;241;43m=\u001B[39;49m\u001B[43mdata\u001B[49m\u001B[43m,\u001B[49m\n\u001B[0;32m   1584\u001B[0m \u001B[43m        \u001B[49m\u001B[43mvariables\u001B[49m\u001B[38;5;241;43m=\u001B[39;49m\u001B[38;5;28;43mdict\u001B[39;49m\u001B[43m(\u001B[49m\u001B[43mx\u001B[49m\u001B[38;5;241;43m=\u001B[39;49m\u001B[43mx\u001B[49m\u001B[43m,\u001B[49m\u001B[43m \u001B[49m\u001B[43my\u001B[49m\u001B[38;5;241;43m=\u001B[39;49m\u001B[43my\u001B[49m\u001B[43m,\u001B[49m\u001B[43m \u001B[49m\u001B[43mhue\u001B[49m\u001B[38;5;241;43m=\u001B[39;49m\u001B[43mhue\u001B[49m\u001B[43m)\u001B[49m\u001B[43m,\u001B[49m\n\u001B[0;32m   1585\u001B[0m \u001B[43m        \u001B[49m\u001B[43morder\u001B[49m\u001B[38;5;241;43m=\u001B[39;49m\u001B[43morder\u001B[49m\u001B[43m,\u001B[49m\n\u001B[0;32m   1586\u001B[0m \u001B[43m        \u001B[49m\u001B[43morient\u001B[49m\u001B[38;5;241;43m=\u001B[39;49m\u001B[43morient\u001B[49m\u001B[43m,\u001B[49m\n\u001B[0;32m   1587\u001B[0m \u001B[43m        \u001B[49m\u001B[43mcolor\u001B[49m\u001B[38;5;241;43m=\u001B[39;49m\u001B[43mcolor\u001B[49m\u001B[43m,\u001B[49m\n\u001B[0;32m   1588\u001B[0m \u001B[43m        \u001B[49m\u001B[43mlegend\u001B[49m\u001B[38;5;241;43m=\u001B[39;49m\u001B[43mlegend\u001B[49m\u001B[43m,\u001B[49m\n\u001B[0;32m   1589\u001B[0m \u001B[43m    \u001B[49m\u001B[43m)\u001B[49m\n\u001B[0;32m   1591\u001B[0m     \u001B[38;5;28;01mif\u001B[39;00m ax \u001B[38;5;129;01mis\u001B[39;00m \u001B[38;5;28;01mNone\u001B[39;00m:\n\u001B[0;32m   1592\u001B[0m         ax \u001B[38;5;241m=\u001B[39m plt\u001B[38;5;241m.\u001B[39mgca()\n",
      "File \u001B[1;32m~\\anaconda3\\envs\\study\\lib\\site-packages\\seaborn\\categorical.py:62\u001B[0m, in \u001B[0;36m_CategoricalPlotter.__init__\u001B[1;34m(self, data, variables, order, orient, require_numeric, color, legend)\u001B[0m\n\u001B[0;32m     51\u001B[0m \u001B[38;5;28;01mdef\u001B[39;00m \u001B[38;5;21m__init__\u001B[39m(\n\u001B[0;32m     52\u001B[0m     \u001B[38;5;28mself\u001B[39m,\n\u001B[0;32m     53\u001B[0m     data\u001B[38;5;241m=\u001B[39m\u001B[38;5;28;01mNone\u001B[39;00m,\n\u001B[1;32m   (...)\u001B[0m\n\u001B[0;32m     59\u001B[0m     legend\u001B[38;5;241m=\u001B[39m\u001B[38;5;124m\"\u001B[39m\u001B[38;5;124mauto\u001B[39m\u001B[38;5;124m\"\u001B[39m,\n\u001B[0;32m     60\u001B[0m ):\n\u001B[1;32m---> 62\u001B[0m     \u001B[38;5;28;43msuper\u001B[39;49m\u001B[43m(\u001B[49m\u001B[43m)\u001B[49m\u001B[38;5;241;43m.\u001B[39;49m\u001B[38;5;21;43m__init__\u001B[39;49m\u001B[43m(\u001B[49m\u001B[43mdata\u001B[49m\u001B[38;5;241;43m=\u001B[39;49m\u001B[43mdata\u001B[49m\u001B[43m,\u001B[49m\u001B[43m \u001B[49m\u001B[43mvariables\u001B[49m\u001B[38;5;241;43m=\u001B[39;49m\u001B[43mvariables\u001B[49m\u001B[43m)\u001B[49m\n\u001B[0;32m     64\u001B[0m     \u001B[38;5;66;03m# This method takes care of some bookkeeping that is necessary because the\u001B[39;00m\n\u001B[0;32m     65\u001B[0m     \u001B[38;5;66;03m# original categorical plots (prior to the 2021 refactor) had some rules that\u001B[39;00m\n\u001B[0;32m     66\u001B[0m     \u001B[38;5;66;03m# don't fit exactly into VectorPlotter logic. It may be wise to have a second\u001B[39;00m\n\u001B[1;32m   (...)\u001B[0m\n\u001B[0;32m     71\u001B[0m     \u001B[38;5;66;03m# default VectorPlotter rules. If we do decide to make orient part of the\u001B[39;00m\n\u001B[0;32m     72\u001B[0m     \u001B[38;5;66;03m# _base variable assignment, we'll want to figure out how to express that.\u001B[39;00m\n\u001B[0;32m     73\u001B[0m     \u001B[38;5;28;01mif\u001B[39;00m \u001B[38;5;28mself\u001B[39m\u001B[38;5;241m.\u001B[39minput_format \u001B[38;5;241m==\u001B[39m \u001B[38;5;124m\"\u001B[39m\u001B[38;5;124mwide\u001B[39m\u001B[38;5;124m\"\u001B[39m \u001B[38;5;129;01mand\u001B[39;00m orient \u001B[38;5;129;01min\u001B[39;00m [\u001B[38;5;124m\"\u001B[39m\u001B[38;5;124mh\u001B[39m\u001B[38;5;124m\"\u001B[39m, \u001B[38;5;124m\"\u001B[39m\u001B[38;5;124my\u001B[39m\u001B[38;5;124m\"\u001B[39m]:\n",
      "File \u001B[1;32m~\\anaconda3\\envs\\study\\lib\\site-packages\\seaborn\\_base.py:634\u001B[0m, in \u001B[0;36mVectorPlotter.__init__\u001B[1;34m(self, data, variables)\u001B[0m\n\u001B[0;32m    629\u001B[0m \u001B[38;5;66;03m# var_ordered is relevant only for categorical axis variables, and may\u001B[39;00m\n\u001B[0;32m    630\u001B[0m \u001B[38;5;66;03m# be better handled by an internal axis information object that tracks\u001B[39;00m\n\u001B[0;32m    631\u001B[0m \u001B[38;5;66;03m# such information and is set up by the scale_* methods. The analogous\u001B[39;00m\n\u001B[0;32m    632\u001B[0m \u001B[38;5;66;03m# information for numeric axes would be information about log scales.\u001B[39;00m\n\u001B[0;32m    633\u001B[0m \u001B[38;5;28mself\u001B[39m\u001B[38;5;241m.\u001B[39m_var_ordered \u001B[38;5;241m=\u001B[39m {\u001B[38;5;124m\"\u001B[39m\u001B[38;5;124mx\u001B[39m\u001B[38;5;124m\"\u001B[39m: \u001B[38;5;28;01mFalse\u001B[39;00m, \u001B[38;5;124m\"\u001B[39m\u001B[38;5;124my\u001B[39m\u001B[38;5;124m\"\u001B[39m: \u001B[38;5;28;01mFalse\u001B[39;00m}  \u001B[38;5;66;03m# alt., used DefaultDict\u001B[39;00m\n\u001B[1;32m--> 634\u001B[0m \u001B[38;5;28;43mself\u001B[39;49m\u001B[38;5;241;43m.\u001B[39;49m\u001B[43massign_variables\u001B[49m\u001B[43m(\u001B[49m\u001B[43mdata\u001B[49m\u001B[43m,\u001B[49m\u001B[43m \u001B[49m\u001B[43mvariables\u001B[49m\u001B[43m)\u001B[49m\n\u001B[0;32m    636\u001B[0m \u001B[38;5;66;03m# TODO Lots of tests assume that these are called to initialize the\u001B[39;00m\n\u001B[0;32m    637\u001B[0m \u001B[38;5;66;03m# mappings to default values on class initialization. I'd prefer to\u001B[39;00m\n\u001B[0;32m    638\u001B[0m \u001B[38;5;66;03m# move away from that and only have a mapping when explicitly called.\u001B[39;00m\n\u001B[0;32m    639\u001B[0m \u001B[38;5;28;01mfor\u001B[39;00m var \u001B[38;5;129;01min\u001B[39;00m [\u001B[38;5;124m\"\u001B[39m\u001B[38;5;124mhue\u001B[39m\u001B[38;5;124m\"\u001B[39m, \u001B[38;5;124m\"\u001B[39m\u001B[38;5;124msize\u001B[39m\u001B[38;5;124m\"\u001B[39m, \u001B[38;5;124m\"\u001B[39m\u001B[38;5;124mstyle\u001B[39m\u001B[38;5;124m\"\u001B[39m]:\n",
      "File \u001B[1;32m~\\anaconda3\\envs\\study\\lib\\site-packages\\seaborn\\_base.py:679\u001B[0m, in \u001B[0;36mVectorPlotter.assign_variables\u001B[1;34m(self, data, variables)\u001B[0m\n\u001B[0;32m    674\u001B[0m \u001B[38;5;28;01melse\u001B[39;00m:\n\u001B[0;32m    675\u001B[0m     \u001B[38;5;66;03m# When dealing with long-form input, use the newer PlotData\u001B[39;00m\n\u001B[0;32m    676\u001B[0m     \u001B[38;5;66;03m# object (internal but introduced for the objects interface)\u001B[39;00m\n\u001B[0;32m    677\u001B[0m     \u001B[38;5;66;03m# to centralize / standardize data consumption logic.\u001B[39;00m\n\u001B[0;32m    678\u001B[0m     \u001B[38;5;28mself\u001B[39m\u001B[38;5;241m.\u001B[39minput_format \u001B[38;5;241m=\u001B[39m \u001B[38;5;124m\"\u001B[39m\u001B[38;5;124mlong\u001B[39m\u001B[38;5;124m\"\u001B[39m\n\u001B[1;32m--> 679\u001B[0m     plot_data \u001B[38;5;241m=\u001B[39m \u001B[43mPlotData\u001B[49m\u001B[43m(\u001B[49m\u001B[43mdata\u001B[49m\u001B[43m,\u001B[49m\u001B[43m \u001B[49m\u001B[43mvariables\u001B[49m\u001B[43m)\u001B[49m\n\u001B[0;32m    680\u001B[0m     frame \u001B[38;5;241m=\u001B[39m plot_data\u001B[38;5;241m.\u001B[39mframe\n\u001B[0;32m    681\u001B[0m     names \u001B[38;5;241m=\u001B[39m plot_data\u001B[38;5;241m.\u001B[39mnames\n",
      "File \u001B[1;32m~\\anaconda3\\envs\\study\\lib\\site-packages\\seaborn\\_core\\data.py:58\u001B[0m, in \u001B[0;36mPlotData.__init__\u001B[1;34m(self, data, variables)\u001B[0m\n\u001B[0;32m     51\u001B[0m \u001B[38;5;28;01mdef\u001B[39;00m \u001B[38;5;21m__init__\u001B[39m(\n\u001B[0;32m     52\u001B[0m     \u001B[38;5;28mself\u001B[39m,\n\u001B[0;32m     53\u001B[0m     data: DataSource,\n\u001B[0;32m     54\u001B[0m     variables: \u001B[38;5;28mdict\u001B[39m[\u001B[38;5;28mstr\u001B[39m, VariableSpec],\n\u001B[0;32m     55\u001B[0m ):\n\u001B[0;32m     57\u001B[0m     data \u001B[38;5;241m=\u001B[39m handle_data_source(data)\n\u001B[1;32m---> 58\u001B[0m     frame, names, ids \u001B[38;5;241m=\u001B[39m \u001B[38;5;28;43mself\u001B[39;49m\u001B[38;5;241;43m.\u001B[39;49m\u001B[43m_assign_variables\u001B[49m\u001B[43m(\u001B[49m\u001B[43mdata\u001B[49m\u001B[43m,\u001B[49m\u001B[43m \u001B[49m\u001B[43mvariables\u001B[49m\u001B[43m)\u001B[49m\n\u001B[0;32m     60\u001B[0m     \u001B[38;5;28mself\u001B[39m\u001B[38;5;241m.\u001B[39mframe \u001B[38;5;241m=\u001B[39m frame\n\u001B[0;32m     61\u001B[0m     \u001B[38;5;28mself\u001B[39m\u001B[38;5;241m.\u001B[39mnames \u001B[38;5;241m=\u001B[39m names\n",
      "File \u001B[1;32m~\\anaconda3\\envs\\study\\lib\\site-packages\\seaborn\\_core\\data.py:232\u001B[0m, in \u001B[0;36mPlotData._assign_variables\u001B[1;34m(self, data, variables)\u001B[0m\n\u001B[0;32m    230\u001B[0m     \u001B[38;5;28;01melse\u001B[39;00m:\n\u001B[0;32m    231\u001B[0m         err \u001B[38;5;241m+\u001B[39m\u001B[38;5;241m=\u001B[39m \u001B[38;5;124m\"\u001B[39m\u001B[38;5;124mAn entry with this name does not appear in `data`.\u001B[39m\u001B[38;5;124m\"\u001B[39m\n\u001B[1;32m--> 232\u001B[0m     \u001B[38;5;28;01mraise\u001B[39;00m \u001B[38;5;167;01mValueError\u001B[39;00m(err)\n\u001B[0;32m    234\u001B[0m \u001B[38;5;28;01melse\u001B[39;00m:\n\u001B[0;32m    235\u001B[0m \n\u001B[0;32m    236\u001B[0m     \u001B[38;5;66;03m# Otherwise, assume the value somehow represents data\u001B[39;00m\n\u001B[0;32m    237\u001B[0m \n\u001B[0;32m    238\u001B[0m     \u001B[38;5;66;03m# Ignore empty data structures\u001B[39;00m\n\u001B[0;32m    239\u001B[0m     \u001B[38;5;28;01mif\u001B[39;00m \u001B[38;5;28misinstance\u001B[39m(val, Sized) \u001B[38;5;129;01mand\u001B[39;00m \u001B[38;5;28mlen\u001B[39m(val) \u001B[38;5;241m==\u001B[39m \u001B[38;5;241m0\u001B[39m:\n",
      "\u001B[1;31mValueError\u001B[0m: Could not interpret value `대출등급` for `x`. An entry with this name does not appear in `data`."
     ]
    },
    {
     "data": {
      "text/plain": "<Figure size 1500x1500 with 15 Axes>",
      "image/png": "[encoded data removed]"
     },
     "metadata": {},
     "output_type": "display_data"
    }
   ],
   "source": [
    "import matplotlib.pyplot as plt\n",
    "import seaborn as sns\n",
    "\n",
    "# 수치형 열 리스트\n",
    "numeric_cols = ['대출기간', '주택소유상태','대출목적','대출등급','대출금액', '연간소득', '부채_대비_소득_비율', '총계좌수',\n",
    "                '최근_2년간_연체_횟수', '총상환원금', '총상환이자', '총연체금액',\n",
    "                '연체계좌수']\n",
    "\n",
    "# 4x3 박스플롯 그리기\n",
    "fig, axes = plt.subplots(nrows=5, ncols=3, figsize=(15, 15))\n",
    "a = 0\n",
    "\n",
    "# 각각의 subplot에 박스플롯 그리기\n",
    "for i in range(4):\n",
    "    for j in range(3):\n",
    "        if a < len(numeric_cols):\n",
    "            sns.boxplot(x=numeric_cols[a], data=test, ax=axes[i, j])\n",
    "            a += 1\n",
    "        else:\n",
    "            axes[i, j].set_visible(False)  # 비어있는 서브플롯 숨기기\n",
    "\n",
    "# 레이아웃 조정\n",
    "plt.tight_layout()\n",
    "\n",
    "# 그래프 표시\n",
    "plt.show()"
   ],
   "metadata": {
    "collapsed": false,
    "ExecuteTime": {
     "end_time": "2024-01-16T13:28:05.883412600Z",
     "start_time": "2024-01-16T13:28:02.566340300Z"
    }
   },
   "id": "e64044b3948977a3"
  },
  {
   "cell_type": "code",
   "execution_count": null,
   "outputs": [],
   "source": [
    "# 4x3 히스토그램 그리기\n",
    "fig, axes = plt.subplots(nrows=4, ncols=3, figsize=(15, 15))\n",
    "a = 0\n",
    "numeric_cols = ['대출기간', '주택소유상태','대출목적','대출등급','대출금액', '연간소득', '부채_대비_소득_비율', '총계좌수',\n",
    "                '최근_2년간_연체_횟수', '총상환원금', '총상환이자', '총연체금액',\n",
    "                '연체계좌수']\n",
    "\n",
    "# 각각의 subplot에 히스토그램 그리기\n",
    "for i in range(4):\n",
    "    for j in range(3):\n",
    "        if a < len(numeric_cols):\n",
    "            axes[i, j].hist(test[numeric_cols[a]], bins=30)\n",
    "            axes[i, j].set_title(numeric_cols[a])\n",
    "            a += 1\n",
    "        else:\n",
    "            axes[i, j].set_visible(False)  # 비어있는 서브플롯 숨기기\n",
    "\n",
    "# 레이아웃 조정\n",
    "plt.tight_layout()\n",
    "\n",
    "# 그래프 표시\n",
    "plt.show()"
   ],
   "metadata": {
    "collapsed": false,
    "ExecuteTime": {
     "end_time": "2024-01-16T13:28:05.885406700Z",
     "start_time": "2024-01-16T13:28:05.884410200Z"
    }
   },
   "id": "18e043311b446361"
  },
  {
   "cell_type": "code",
   "execution_count": 58,
   "outputs": [],
   "source": [
    "import numpy as np\n",
    "\n",
    "# 로그 변환 적용\n",
    "test['연간소득'] = np.log1p(test['연간소득'])\n",
    "test['부채_대비_소득_비율'] = np.log1p(test['부채_대비_소득_비율'])\n",
    "test['총상환원금'] = np.log1p(test['총상환원금'])\n",
    "test['총상환이자'] = np.log1p(test['총상환이자'])\n",
    "test['총연체금액'] = np.log1p(test['총연체금액'])\n",
    "test['총계좌수'] = np.log1p(test['총계좌수'])\n",
    "test['총연체금액'] = np.log1p(test['총연체금액'])\n",
    "test['최근_2년간_연체_횟수'] = np.log1p(test['최근_2년간_연체_횟수'])\n"
   ],
   "metadata": {
    "collapsed": false,
    "ExecuteTime": {
     "end_time": "2024-01-16T14:38:09.971696200Z",
     "start_time": "2024-01-16T14:38:09.942774300Z"
    }
   },
   "id": "791fd96b1f7fee9e"
  },
  {
   "cell_type": "code",
   "execution_count": 26,
   "outputs": [
    {
     "ename": "KeyError",
     "evalue": "'대출등급'",
     "output_type": "error",
     "traceback": [
      "\u001B[1;31m---------------------------------------------------------------------------\u001B[0m",
      "\u001B[1;31mKeyError\u001B[0m                                  Traceback (most recent call last)",
      "File \u001B[1;32m~\\anaconda3\\envs\\study\\lib\\site-packages\\pandas\\core\\indexes\\base.py:3791\u001B[0m, in \u001B[0;36mIndex.get_loc\u001B[1;34m(self, key)\u001B[0m\n\u001B[0;32m   3790\u001B[0m \u001B[38;5;28;01mtry\u001B[39;00m:\n\u001B[1;32m-> 3791\u001B[0m     \u001B[38;5;28;01mreturn\u001B[39;00m \u001B[38;5;28;43mself\u001B[39;49m\u001B[38;5;241;43m.\u001B[39;49m\u001B[43m_engine\u001B[49m\u001B[38;5;241;43m.\u001B[39;49m\u001B[43mget_loc\u001B[49m\u001B[43m(\u001B[49m\u001B[43mcasted_key\u001B[49m\u001B[43m)\u001B[49m\n\u001B[0;32m   3792\u001B[0m \u001B[38;5;28;01mexcept\u001B[39;00m \u001B[38;5;167;01mKeyError\u001B[39;00m \u001B[38;5;28;01mas\u001B[39;00m err:\n",
      "File \u001B[1;32mindex.pyx:152\u001B[0m, in \u001B[0;36mpandas._libs.index.IndexEngine.get_loc\u001B[1;34m()\u001B[0m\n",
      "File \u001B[1;32mindex.pyx:181\u001B[0m, in \u001B[0;36mpandas._libs.index.IndexEngine.get_loc\u001B[1;34m()\u001B[0m\n",
      "File \u001B[1;32mpandas\\_libs\\hashtable_class_helper.pxi:7080\u001B[0m, in \u001B[0;36mpandas._libs.hashtable.PyObjectHashTable.get_item\u001B[1;34m()\u001B[0m\n",
      "File \u001B[1;32mpandas\\_libs\\hashtable_class_helper.pxi:7088\u001B[0m, in \u001B[0;36mpandas._libs.hashtable.PyObjectHashTable.get_item\u001B[1;34m()\u001B[0m\n",
      "\u001B[1;31mKeyError\u001B[0m: '대출등급'",
      "\nThe above exception was the direct cause of the following exception:\n",
      "\u001B[1;31mKeyError\u001B[0m                                  Traceback (most recent call last)",
      "Cell \u001B[1;32mIn[26], line 12\u001B[0m\n\u001B[0;32m     10\u001B[0m \u001B[38;5;28;01mfor\u001B[39;00m j \u001B[38;5;129;01min\u001B[39;00m \u001B[38;5;28mrange\u001B[39m(\u001B[38;5;241m3\u001B[39m):\n\u001B[0;32m     11\u001B[0m     \u001B[38;5;28;01mif\u001B[39;00m a \u001B[38;5;241m<\u001B[39m \u001B[38;5;28mlen\u001B[39m(numeric_cols):\n\u001B[1;32m---> 12\u001B[0m         axes[i, j]\u001B[38;5;241m.\u001B[39mhist(\u001B[43mtest\u001B[49m\u001B[43m[\u001B[49m\u001B[43mnumeric_cols\u001B[49m\u001B[43m[\u001B[49m\u001B[43ma\u001B[49m\u001B[43m]\u001B[49m\u001B[43m]\u001B[49m, bins\u001B[38;5;241m=\u001B[39m\u001B[38;5;241m30\u001B[39m)\n\u001B[0;32m     13\u001B[0m         axes[i, j]\u001B[38;5;241m.\u001B[39mset_title(numeric_cols[a])\n\u001B[0;32m     14\u001B[0m         a \u001B[38;5;241m+\u001B[39m\u001B[38;5;241m=\u001B[39m \u001B[38;5;241m1\u001B[39m\n",
      "File \u001B[1;32m~\\anaconda3\\envs\\study\\lib\\site-packages\\pandas\\core\\frame.py:3893\u001B[0m, in \u001B[0;36mDataFrame.__getitem__\u001B[1;34m(self, key)\u001B[0m\n\u001B[0;32m   3891\u001B[0m \u001B[38;5;28;01mif\u001B[39;00m \u001B[38;5;28mself\u001B[39m\u001B[38;5;241m.\u001B[39mcolumns\u001B[38;5;241m.\u001B[39mnlevels \u001B[38;5;241m>\u001B[39m \u001B[38;5;241m1\u001B[39m:\n\u001B[0;32m   3892\u001B[0m     \u001B[38;5;28;01mreturn\u001B[39;00m \u001B[38;5;28mself\u001B[39m\u001B[38;5;241m.\u001B[39m_getitem_multilevel(key)\n\u001B[1;32m-> 3893\u001B[0m indexer \u001B[38;5;241m=\u001B[39m \u001B[38;5;28;43mself\u001B[39;49m\u001B[38;5;241;43m.\u001B[39;49m\u001B[43mcolumns\u001B[49m\u001B[38;5;241;43m.\u001B[39;49m\u001B[43mget_loc\u001B[49m\u001B[43m(\u001B[49m\u001B[43mkey\u001B[49m\u001B[43m)\u001B[49m\n\u001B[0;32m   3894\u001B[0m \u001B[38;5;28;01mif\u001B[39;00m is_integer(indexer):\n\u001B[0;32m   3895\u001B[0m     indexer \u001B[38;5;241m=\u001B[39m [indexer]\n",
      "File \u001B[1;32m~\\anaconda3\\envs\\study\\lib\\site-packages\\pandas\\core\\indexes\\base.py:3798\u001B[0m, in \u001B[0;36mIndex.get_loc\u001B[1;34m(self, key)\u001B[0m\n\u001B[0;32m   3793\u001B[0m     \u001B[38;5;28;01mif\u001B[39;00m \u001B[38;5;28misinstance\u001B[39m(casted_key, \u001B[38;5;28mslice\u001B[39m) \u001B[38;5;129;01mor\u001B[39;00m (\n\u001B[0;32m   3794\u001B[0m         \u001B[38;5;28misinstance\u001B[39m(casted_key, abc\u001B[38;5;241m.\u001B[39mIterable)\n\u001B[0;32m   3795\u001B[0m         \u001B[38;5;129;01mand\u001B[39;00m \u001B[38;5;28many\u001B[39m(\u001B[38;5;28misinstance\u001B[39m(x, \u001B[38;5;28mslice\u001B[39m) \u001B[38;5;28;01mfor\u001B[39;00m x \u001B[38;5;129;01min\u001B[39;00m casted_key)\n\u001B[0;32m   3796\u001B[0m     ):\n\u001B[0;32m   3797\u001B[0m         \u001B[38;5;28;01mraise\u001B[39;00m InvalidIndexError(key)\n\u001B[1;32m-> 3798\u001B[0m     \u001B[38;5;28;01mraise\u001B[39;00m \u001B[38;5;167;01mKeyError\u001B[39;00m(key) \u001B[38;5;28;01mfrom\u001B[39;00m \u001B[38;5;21;01merr\u001B[39;00m\n\u001B[0;32m   3799\u001B[0m \u001B[38;5;28;01mexcept\u001B[39;00m \u001B[38;5;167;01mTypeError\u001B[39;00m:\n\u001B[0;32m   3800\u001B[0m     \u001B[38;5;66;03m# If we have a listlike key, _check_indexing_error will raise\u001B[39;00m\n\u001B[0;32m   3801\u001B[0m     \u001B[38;5;66;03m#  InvalidIndexError. Otherwise we fall through and re-raise\u001B[39;00m\n\u001B[0;32m   3802\u001B[0m     \u001B[38;5;66;03m#  the TypeError.\u001B[39;00m\n\u001B[0;32m   3803\u001B[0m     \u001B[38;5;28mself\u001B[39m\u001B[38;5;241m.\u001B[39m_check_indexing_error(key)\n",
      "\u001B[1;31mKeyError\u001B[0m: '대출등급'"
     ]
    },
    {
     "data": {
      "text/plain": "<Figure size 1500x1500 with 12 Axes>",
      "image/png": "[encoded data removed]"
     },
     "metadata": {},
     "output_type": "display_data"
    }
   ],
   "source": [
    "# 4x3 히스토그램 그리기\n",
    "fig, axes = plt.subplots(nrows=4, ncols=3, figsize=(15, 15))\n",
    "a = 0\n",
    "numeric_cols = ['대출기간', '주택소유상태','대출목적','대출등급','대출금액', '연간소득', '부채_대비_소득_비율', '총계좌수',\n",
    "                '최근_2년간_연체_횟수', '총상환원금', '총상환이자', '총연체금액',\n",
    "                '연체계좌수']\n",
    "\n",
    "# 각각의 subplot에 히스토그램 그리기\n",
    "for i in range(4):\n",
    "    for j in range(3):\n",
    "        if a < len(numeric_cols):\n",
    "            axes[i, j].hist(test[numeric_cols[a]], bins=30)\n",
    "            axes[i, j].set_title(numeric_cols[a])\n",
    "            a += 1\n",
    "        else:\n",
    "            axes[i, j].set_visible(False)  # 비어있는 서브플롯 숨기기\n",
    "\n",
    "# 레이아웃 조정\n",
    "plt.tight_layout()\n",
    "\n",
    "# 그래프 표시\n",
    "plt.show()"
   ],
   "metadata": {
    "collapsed": false,
    "ExecuteTime": {
     "end_time": "2024-01-16T13:27:44.452725700Z",
     "start_time": "2024-01-16T13:27:42.424539Z"
    }
   },
   "id": "4c558801e1172154"
  },
  {
   "cell_type": "code",
   "execution_count": 12,
   "outputs": [
    {
     "name": "stderr",
     "output_type": "stream",
     "text": [
      "C:\\Users\\SJ\\AppData\\Local\\Temp\\ipykernel_38696\\4096017740.py:2: SettingWithCopyWarning: \n",
      "A value is trying to be set on a copy of a slice from a DataFrame\n",
      "\n",
      "See the caveats in the documentation: https://pandas.pydata.org/pandas-docs/stable/user_guide/indexing.html#returning-a-view-versus-a-copy\n",
      "  pred.drop('근로기간', axis = 1 ,inplace = True)\n"
     ]
    }
   ],
   "source": [
    "pred = test[test['근로기간'] == -999]\n",
    "pred.drop('근로기간', axis = 1 ,inplace = True)"
   ],
   "metadata": {
    "collapsed": false,
    "ExecuteTime": {
     "end_time": "2024-01-16T13:28:18.740258Z",
     "start_time": "2024-01-16T13:28:18.712284Z"
    }
   },
   "id": "639c3233bba5bee"
  },
  {
   "cell_type": "code",
   "execution_count": 13,
   "outputs": [],
   "source": [
    "test_1 = test[test['근로기간'] != -999]"
   ],
   "metadata": {
    "collapsed": false,
    "ExecuteTime": {
     "end_time": "2024-01-16T13:28:18.973007300Z",
     "start_time": "2024-01-16T13:28:18.946673900Z"
    }
   },
   "id": "ce3f0b142973ca34"
  },
  {
   "cell_type": "code",
   "execution_count": 13,
   "outputs": [],
   "source": [],
   "metadata": {
    "collapsed": false,
    "ExecuteTime": {
     "end_time": "2024-01-16T13:28:19.584417400Z",
     "start_time": "2024-01-16T13:28:19.566464400Z"
    }
   },
   "id": "3704b0a3291aea4e"
  },
  {
   "cell_type": "code",
   "execution_count": 14,
   "outputs": [
    {
     "data": {
      "text/plain": "           대출금액 대출기간 주택소유상태       연간소득  부채_대비_소득_비율      총계좌수 대출목적  \\\n0      16800000    0      0  18.698312     3.027231  2.564949   11   \n1       8400000    0      2  18.315000     2.823757  3.258097    2   \n2      17280000    0      2  18.826146     2.241773  3.044522    4   \n3      14400000    0      0  18.005165     2.689207  3.433987    4   \n4      27600000    0      2  17.826474     3.449988  2.564949    4   \n...         ...  ...    ...        ...          ...       ...  ...   \n64192  30000000    0      0  18.172219     3.138966  3.332205    2   \n64193  30000000    1      0  18.508692     2.569554  3.295837    2   \n64194   6120000    0      2  17.494340     3.394508  3.526361    2   \n64195  11520000    0      0  18.005165     3.274878  3.737670    2   \n64196   6000000    0      2  19.008467     2.309561  2.397895    2   \n\n       최근_2년간_연체_횟수      총상환원금      총상환이자  총연체금액  연체계좌수 근로기간_unknown  \n0                 0  12.885864  11.895497    0.0    0.0            0  \n1                 0   0.000000   0.000000    0.0    0.0            0  \n2                 0  14.396038  12.549027    0.0    0.0            0  \n3                 1  13.413577  12.548687    0.0    0.0            0  \n4                 0  14.038697  13.329125    0.0    0.0            0  \n...             ...        ...        ...    ...    ...          ...  \n64192             2  14.083653  13.545513    0.0    0.0            0  \n64193             0  13.775327  14.034849    0.0    0.0            0  \n64194             0  11.786922  11.300734    0.0    0.0            0  \n64195             1  14.107835  13.307802    0.0    0.0            0  \n64196             0  12.640711  10.798779    0.0    0.0            0  \n\n[60335 rows x 13 columns]",
      "text/html": "<div>\n<style scoped>\n    .dataframe tbody tr th:only-of-type {\n        vertical-align: middle;\n    }\n\n    .dataframe tbody tr th {\n        vertical-align: top;\n    }\n\n    .dataframe thead th {\n        text-align: right;\n    }\n</style>\n<table border=\"1\" class=\"dataframe\">\n  <thead>\n    <tr style=\"text-align: right;\">\n      <th></th>\n      <th>대출금액</th>\n      <th>대출기간</th>\n      <th>주택소유상태</th>\n      <th>연간소득</th>\n      <th>부채_대비_소득_비율</th>\n      <th>총계좌수</th>\n      <th>대출목적</th>\n      <th>최근_2년간_연체_횟수</th>\n      <th>총상환원금</th>\n      <th>총상환이자</th>\n      <th>총연체금액</th>\n      <th>연체계좌수</th>\n      <th>근로기간_unknown</th>\n    </tr>\n  </thead>\n  <tbody>\n    <tr>\n      <th>0</th>\n      <td>16800000</td>\n      <td>0</td>\n      <td>0</td>\n      <td>18.698312</td>\n      <td>3.027231</td>\n      <td>2.564949</td>\n      <td>11</td>\n      <td>0</td>\n      <td>12.885864</td>\n      <td>11.895497</td>\n      <td>0.0</td>\n      <td>0.0</td>\n      <td>0</td>\n    </tr>\n    <tr>\n      <th>1</th>\n      <td>8400000</td>\n      <td>0</td>\n      <td>2</td>\n      <td>18.315000</td>\n      <td>2.823757</td>\n      <td>3.258097</td>\n      <td>2</td>\n      <td>0</td>\n      <td>0.000000</td>\n      <td>0.000000</td>\n      <td>0.0</td>\n      <td>0.0</td>\n      <td>0</td>\n    </tr>\n    <tr>\n      <th>2</th>\n      <td>17280000</td>\n      <td>0</td>\n      <td>2</td>\n      <td>18.826146</td>\n      <td>2.241773</td>\n      <td>3.044522</td>\n      <td>4</td>\n      <td>0</td>\n      <td>14.396038</td>\n      <td>12.549027</td>\n      <td>0.0</td>\n      <td>0.0</td>\n      <td>0</td>\n    </tr>\n    <tr>\n      <th>3</th>\n      <td>14400000</td>\n      <td>0</td>\n      <td>0</td>\n      <td>18.005165</td>\n      <td>2.689207</td>\n      <td>3.433987</td>\n      <td>4</td>\n      <td>1</td>\n      <td>13.413577</td>\n      <td>12.548687</td>\n      <td>0.0</td>\n      <td>0.0</td>\n      <td>0</td>\n    </tr>\n    <tr>\n      <th>4</th>\n      <td>27600000</td>\n      <td>0</td>\n      <td>2</td>\n      <td>17.826474</td>\n      <td>3.449988</td>\n      <td>2.564949</td>\n      <td>4</td>\n      <td>0</td>\n      <td>14.038697</td>\n      <td>13.329125</td>\n      <td>0.0</td>\n      <td>0.0</td>\n      <td>0</td>\n    </tr>\n    <tr>\n      <th>...</th>\n      <td>...</td>\n      <td>...</td>\n      <td>...</td>\n      <td>...</td>\n      <td>...</td>\n      <td>...</td>\n      <td>...</td>\n      <td>...</td>\n      <td>...</td>\n      <td>...</td>\n      <td>...</td>\n      <td>...</td>\n      <td>...</td>\n    </tr>\n    <tr>\n      <th>64192</th>\n      <td>30000000</td>\n      <td>0</td>\n      <td>0</td>\n      <td>18.172219</td>\n      <td>3.138966</td>\n      <td>3.332205</td>\n      <td>2</td>\n      <td>2</td>\n      <td>14.083653</td>\n      <td>13.545513</td>\n      <td>0.0</td>\n      <td>0.0</td>\n      <td>0</td>\n    </tr>\n    <tr>\n      <th>64193</th>\n      <td>30000000</td>\n      <td>1</td>\n      <td>0</td>\n      <td>18.508692</td>\n      <td>2.569554</td>\n      <td>3.295837</td>\n      <td>2</td>\n      <td>0</td>\n      <td>13.775327</td>\n      <td>14.034849</td>\n      <td>0.0</td>\n      <td>0.0</td>\n      <td>0</td>\n    </tr>\n    <tr>\n      <th>64194</th>\n      <td>6120000</td>\n      <td>0</td>\n      <td>2</td>\n      <td>17.494340</td>\n      <td>3.394508</td>\n      <td>3.526361</td>\n      <td>2</td>\n      <td>0</td>\n      <td>11.786922</td>\n      <td>11.300734</td>\n      <td>0.0</td>\n      <td>0.0</td>\n      <td>0</td>\n    </tr>\n    <tr>\n      <th>64195</th>\n      <td>11520000</td>\n      <td>0</td>\n      <td>0</td>\n      <td>18.005165</td>\n      <td>3.274878</td>\n      <td>3.737670</td>\n      <td>2</td>\n      <td>1</td>\n      <td>14.107835</td>\n      <td>13.307802</td>\n      <td>0.0</td>\n      <td>0.0</td>\n      <td>0</td>\n    </tr>\n    <tr>\n      <th>64196</th>\n      <td>6000000</td>\n      <td>0</td>\n      <td>2</td>\n      <td>19.008467</td>\n      <td>2.309561</td>\n      <td>2.397895</td>\n      <td>2</td>\n      <td>0</td>\n      <td>12.640711</td>\n      <td>10.798779</td>\n      <td>0.0</td>\n      <td>0.0</td>\n      <td>0</td>\n    </tr>\n  </tbody>\n</table>\n<p>60335 rows × 13 columns</p>\n</div>"
     },
     "execution_count": 14,
     "metadata": {},
     "output_type": "execute_result"
    }
   ],
   "source": [
    "X_test1 = test_1.drop('근로기간',axis=1)\n",
    "X_test1"
   ],
   "metadata": {
    "collapsed": false,
    "ExecuteTime": {
     "end_time": "2024-01-16T13:28:19.912540700Z",
     "start_time": "2024-01-16T13:28:19.858685100Z"
    }
   },
   "id": "f44b93f3bdc2c275"
  },
  {
   "cell_type": "code",
   "execution_count": 15,
   "outputs": [
    {
     "data": {
      "text/plain": "0         8.0\n1         5.0\n2         6.0\n3         5.0\n4         5.0\n         ... \n64192     3.0\n64193    15.0\n64194    15.0\n64195    15.0\n64196     9.0\nName: 근로기간, Length: 60335, dtype: float64"
     },
     "execution_count": 15,
     "metadata": {},
     "output_type": "execute_result"
    }
   ],
   "source": [
    "y_test1 = test_1['근로기간']\n",
    "y_test1"
   ],
   "metadata": {
    "collapsed": false,
    "ExecuteTime": {
     "end_time": "2024-01-16T13:28:21.061126600Z",
     "start_time": "2024-01-16T13:28:21.042176300Z"
    }
   },
   "id": "cf867fb22af94565"
  },
  {
   "cell_type": "code",
   "execution_count": 16,
   "outputs": [],
   "source": [
    "# 훈련 세트와 검증 세트로 나누기 (비율 80:20)\n",
    "X_test, X_valid, y_test, y_valid = train_test_split(\n",
    "    X_test1, y_test1, test_size=0.2, random_state=42)"
   ],
   "metadata": {
    "collapsed": false,
    "ExecuteTime": {
     "end_time": "2024-01-16T13:28:21.658469700Z",
     "start_time": "2024-01-16T13:28:21.618575200Z"
    }
   },
   "id": "83bdf3189234677c"
  },
  {
   "cell_type": "code",
   "execution_count": 17,
   "outputs": [
    {
     "name": "stdout",
     "output_type": "stream",
     "text": [
      "<class 'pandas.core.frame.DataFrame'>\n",
      "RangeIndex: 64197 entries, 0 to 64196\n",
      "Data columns (total 14 columns):\n",
      " #   Column        Non-Null Count  Dtype   \n",
      "---  ------        --------------  -----   \n",
      " 0   대출금액          64197 non-null  int64   \n",
      " 1   대출기간          64197 non-null  category\n",
      " 2   근로기간          64197 non-null  float64 \n",
      " 3   주택소유상태        64197 non-null  category\n",
      " 4   연간소득          64197 non-null  float64 \n",
      " 5   부채_대비_소득_비율   64197 non-null  float64 \n",
      " 6   총계좌수          64197 non-null  float64 \n",
      " 7   대출목적          64197 non-null  category\n",
      " 8   최근_2년간_연체_횟수  64197 non-null  int64   \n",
      " 9   총상환원금         64197 non-null  float64 \n",
      " 10  총상환이자         64197 non-null  float64 \n",
      " 11  총연체금액         64197 non-null  float64 \n",
      " 12  연체계좌수         64197 non-null  float64 \n",
      " 13  근로기간_unknown  64197 non-null  category\n",
      "dtypes: category(4), float64(8), int64(2)\n",
      "memory usage: 5.1 MB\n"
     ]
    }
   ],
   "source": [
    "test.info()"
   ],
   "metadata": {
    "collapsed": false,
    "ExecuteTime": {
     "end_time": "2024-01-16T13:28:22.712673800Z",
     "start_time": "2024-01-16T13:28:22.683750100Z"
    }
   },
   "id": "2c9ab3650dc39406"
  },
  {
   "cell_type": "code",
   "execution_count": 18,
   "outputs": [
    {
     "data": {
      "text/plain": "<catboost.core.CatBoostRegressor at 0x25dbc5da8b0>"
     },
     "execution_count": 18,
     "metadata": {},
     "output_type": "execute_result"
    }
   ],
   "source": [
    "# 범주형 특성의 열 인덱스를 찾습니다.\n",
    "cat_features_index = [X_test.columns.get_loc(col) for col in ['대출기간', '주택소유상태', '대출목적','근로기간_unknown']]\n",
    "\n",
    "# CatBoost 분류 모델을 생성하고 훈련합니다.\n",
    "cat_model = CatBoostRegressor(silent=True, iterations=100, cat_features=cat_features_index)\n",
    "cat_model.fit(X_test, y_test)"
   ],
   "metadata": {
    "collapsed": false,
    "ExecuteTime": {
     "end_time": "2024-01-16T13:28:31.336594900Z",
     "start_time": "2024-01-16T13:28:28.052373500Z"
    }
   },
   "id": "d2cbccecaa9b65ef"
  },
  {
   "cell_type": "code",
   "execution_count": 19,
   "outputs": [],
   "source": [
    "cat_predictions = cat_model.predict(X_valid)"
   ],
   "metadata": {
    "collapsed": false,
    "ExecuteTime": {
     "end_time": "2024-01-16T13:28:34.110938500Z",
     "start_time": "2024-01-16T13:28:34.086005700Z"
    }
   },
   "id": "c0144cb8016f6df8"
  },
  {
   "cell_type": "code",
   "execution_count": 20,
   "outputs": [
    {
     "name": "stdout",
     "output_type": "stream",
     "text": [
      "MAE: 5.068022402666739\n",
      "R^2: 0.04822360982613649\n"
     ]
    }
   ],
   "source": [
    "# 평균 절대 오차 (MAE) 계산\n",
    "mae = mean_absolute_error(y_valid, cat_predictions)\n",
    "\n",
    "# R^2 (결정 계수) 계산\n",
    "r2 = r2_score(y_valid, cat_predictions)\n",
    "\n",
    "print(f\"MAE: {mae}\")\n",
    "print(f\"R^2: {r2}\")"
   ],
   "metadata": {
    "collapsed": false,
    "ExecuteTime": {
     "end_time": "2024-01-16T13:28:34.322025300Z",
     "start_time": "2024-01-16T13:28:34.296024800Z"
    }
   },
   "id": "7233b9e1b0388abb"
  },
  {
   "cell_type": "code",
   "execution_count": 194,
   "outputs": [
    {
     "data": {
      "text/plain": "RandomForestRegressor(random_state=42)",
      "text/html": "<style>#sk-container-id-1 {color: black;}#sk-container-id-1 pre{padding: 0;}#sk-container-id-1 div.sk-toggleable {background-color: white;}#sk-container-id-1 label.sk-toggleable__label {cursor: pointer;display: block;width: 100%;margin-bottom: 0;padding: 0.3em;box-sizing: border-box;text-align: center;}#sk-container-id-1 label.sk-toggleable__label-arrow:before {content: \"▸\";float: left;margin-right: 0.25em;color: #696969;}#sk-container-id-1 label.sk-toggleable__label-arrow:hover:before {color: black;}#sk-container-id-1 div.sk-estimator:hover label.sk-toggleable__label-arrow:before {color: black;}#sk-container-id-1 div.sk-toggleable__content {max-height: 0;max-width: 0;overflow: hidden;text-align: left;background-color: #f0f8ff;}#sk-container-id-1 div.sk-toggleable__content pre {margin: 0.2em;color: black;border-radius: 0.25em;background-color: #f0f8ff;}#sk-container-id-1 input.sk-toggleable__control:checked~div.sk-toggleable__content {max-height: 200px;max-width: 100%;overflow: auto;}#sk-container-id-1 input.sk-toggleable__control:checked~label.sk-toggleable__label-arrow:before {content: \"▾\";}#sk-container-id-1 div.sk-estimator input.sk-toggleable__control:checked~label.sk-toggleable__label {background-color: #d4ebff;}#sk-container-id-1 div.sk-label input.sk-toggleable__control:checked~label.sk-toggleable__label {background-color: #d4ebff;}#sk-container-id-1 input.sk-hidden--visually {border: 0;clip: rect(1px 1px 1px 1px);clip: rect(1px, 1px, 1px, 1px);height: 1px;margin: -1px;overflow: hidden;padding: 0;position: absolute;width: 1px;}#sk-container-id-1 div.sk-estimator {font-family: monospace;background-color: #f0f8ff;border: 1px dotted black;border-radius: 0.25em;box-sizing: border-box;margin-bottom: 0.5em;}#sk-container-id-1 div.sk-estimator:hover {background-color: #d4ebff;}#sk-container-id-1 div.sk-parallel-item::after {content: \"\";width: 100%;border-bottom: 1px solid gray;flex-grow: 1;}#sk-container-id-1 div.sk-label:hover label.sk-toggleable__label {background-color: #d4ebff;}#sk-container-id-1 div.sk-serial::before {content: \"\";position: absolute;border-left: 1px solid gray;box-sizing: border-box;top: 0;bottom: 0;left: 50%;z-index: 0;}#sk-container-id-1 div.sk-serial {display: flex;flex-direction: column;align-items: center;background-color: white;padding-right: 0.2em;padding-left: 0.2em;position: relative;}#sk-container-id-1 div.sk-item {position: relative;z-index: 1;}#sk-container-id-1 div.sk-parallel {display: flex;align-items: stretch;justify-content: center;background-color: white;position: relative;}#sk-container-id-1 div.sk-item::before, #sk-container-id-1 div.sk-parallel-item::before {content: \"\";position: absolute;border-left: 1px solid gray;box-sizing: border-box;top: 0;bottom: 0;left: 50%;z-index: -1;}#sk-container-id-1 div.sk-parallel-item {display: flex;flex-direction: column;z-index: 1;position: relative;background-color: white;}#sk-container-id-1 div.sk-parallel-item:first-child::after {align-self: flex-end;width: 50%;}#sk-container-id-1 div.sk-parallel-item:last-child::after {align-self: flex-start;width: 50%;}#sk-container-id-1 div.sk-parallel-item:only-child::after {width: 0;}#sk-container-id-1 div.sk-dashed-wrapped {border: 1px dashed gray;margin: 0 0.4em 0.5em 0.4em;box-sizing: border-box;padding-bottom: 0.4em;background-color: white;}#sk-container-id-1 div.sk-label label {font-family: monospace;font-weight: bold;display: inline-block;line-height: 1.2em;}#sk-container-id-1 div.sk-label-container {text-align: center;}#sk-container-id-1 div.sk-container {/* jupyter's `normalize.less` sets `[hidden] { display: none; }` but bootstrap.min.css set `[hidden] { display: none !important; }` so we also need the `!important` here to be able to override the default hidden behavior on the sphinx rendered scikit-learn.org. See: https://github.com/scikit-learn/scikit-learn/issues/21755 */display: inline-block !important;position: relative;}#sk-container-id-1 div.sk-text-repr-fallback {display: none;}</style><div id=\"sk-container-id-1\" class=\"sk-top-container\"><div class=\"sk-text-repr-fallback\"><pre>RandomForestRegressor(random_state=42)</pre><b>In a Jupyter environment, please rerun this cell to show the HTML representation or trust the notebook. <br />On GitHub, the HTML representation is unable to render, please try loading this page with nbviewer.org.</b></div><div class=\"sk-container\" hidden><div class=\"sk-item\"><div class=\"sk-estimator sk-toggleable\"><input class=\"sk-toggleable__control sk-hidden--visually\" id=\"sk-estimator-id-1\" type=\"checkbox\" checked><label for=\"sk-estimator-id-1\" class=\"sk-toggleable__label sk-toggleable__label-arrow\">RandomForestRegressor</label><div class=\"sk-toggleable__content\"><pre>RandomForestRegressor(random_state=42)</pre></div></div></div></div></div>"
     },
     "execution_count": 194,
     "metadata": {},
     "output_type": "execute_result"
    }
   ],
   "source": [
    "# 랜덤 포레스트 회귀 모델을 생성합니다.\n",
    "rf_model = RandomForestRegressor(n_estimators=100, random_state=42)  # n_estimators는 모델에 사용할 트리의 개수입니다.\n",
    "\n",
    "# 모델을 훈련 데이터에 맞춥니다.\n",
    "rf_model.fit(X_test, y_test)"
   ],
   "metadata": {
    "collapsed": false,
    "ExecuteTime": {
     "end_time": "2024-01-15T11:34:10.741421200Z",
     "start_time": "2024-01-15T11:32:11.560605Z"
    }
   },
   "id": "71a070f76d2ab6aa"
  },
  {
   "cell_type": "code",
   "execution_count": 195,
   "outputs": [
    {
     "name": "stdout",
     "output_type": "stream",
     "text": [
      "Random Forest MAE: 5.118625103448276\n",
      "Random Forest R^2: 0.02001072823987604\n"
     ]
    }
   ],
   "source": [
    "# 검증 데이터에 대한 예측을 수행합니다.\n",
    "rf_predictions = rf_model.predict(X_valid)\n",
    "\n",
    "# 평균 절대 오차 (MAE)를 계산합니다.\n",
    "rf_mae = mean_absolute_error(y_valid, rf_predictions)\n",
    "\n",
    "# 결정 계수 (R^2)를 계산합니다.\n",
    "rf_r2 = r2_score(y_valid, rf_predictions)\n",
    "\n",
    "print(f\"Random Forest MAE: {rf_mae}\")\n",
    "print(f\"Random Forest R^2: {rf_r2}\")"
   ],
   "metadata": {
    "collapsed": false,
    "ExecuteTime": {
     "end_time": "2024-01-15T11:34:36.974334900Z",
     "start_time": "2024-01-15T11:34:36.263834500Z"
    }
   },
   "id": "f1ef31dc78aff33"
  },
  {
   "cell_type": "code",
   "execution_count": 198,
   "outputs": [
    {
     "data": {
      "text/plain": "18125"
     },
     "execution_count": 198,
     "metadata": {},
     "output_type": "execute_result"
    }
   ],
   "source": [
    "len(y_valid)"
   ],
   "metadata": {
    "collapsed": false,
    "ExecuteTime": {
     "end_time": "2024-01-15T11:37:31.477351700Z",
     "start_time": "2024-01-15T11:37:31.431446600Z"
    }
   },
   "id": "9f0ea5234ca2c1e2"
  },
  {
   "cell_type": "code",
   "execution_count": 199,
   "outputs": [
    {
     "data": {
      "text/plain": "pandas.core.series.Series"
     },
     "execution_count": 199,
     "metadata": {},
     "output_type": "execute_result"
    }
   ],
   "source": [
    "type(y_valid)"
   ],
   "metadata": {
    "collapsed": false,
    "ExecuteTime": {
     "end_time": "2024-01-15T11:37:52.420776100Z",
     "start_time": "2024-01-15T11:37:52.373896600Z"
    }
   },
   "id": "4225807347554572"
  },
  {
   "cell_type": "code",
   "execution_count": 202,
   "outputs": [
    {
     "data": {
      "text/plain": "numpy.ndarray"
     },
     "execution_count": 202,
     "metadata": {},
     "output_type": "execute_result"
    }
   ],
   "source": [
    "type(rf_predictions)"
   ],
   "metadata": {
    "collapsed": false,
    "ExecuteTime": {
     "end_time": "2024-01-15T11:38:51.697307500Z",
     "start_time": "2024-01-15T11:38:51.649437100Z"
    }
   },
   "id": "74aa4864287b784d"
  },
  {
   "cell_type": "code",
   "execution_count": 203,
   "outputs": [],
   "source": [
    "series = pd.Series(7.75, index=range(18125))"
   ],
   "metadata": {
    "collapsed": false,
    "ExecuteTime": {
     "end_time": "2024-01-15T11:39:51.018609200Z",
     "start_time": "2024-01-15T11:39:50.969696800Z"
    }
   },
   "id": "22c3c926e9fee02a"
  },
  {
   "cell_type": "code",
   "execution_count": 205,
   "outputs": [
    {
     "name": "stdout",
     "output_type": "stream",
     "text": [
      "Random Forest MAE: 5.262\n",
      "Random Forest R^2: -1.1269692830495615e-05\n"
     ]
    }
   ],
   "source": [
    "# 평균 절대 오차 (MAE)를 계산합니다.\n",
    "rf_mae = mean_absolute_error(y_valid, series)\n",
    "\n",
    "# 결정 계수 (R^2)를 계산합니다.\n",
    "rf_r2 = r2_score(y_valid, series)\n",
    "\n",
    "print(f\"Random Forest MAE: {rf_mae}\")\n",
    "print(f\"Random Forest R^2: {rf_r2}\")"
   ],
   "metadata": {
    "collapsed": false,
    "ExecuteTime": {
     "end_time": "2024-01-15T11:40:15.360814400Z",
     "start_time": "2024-01-15T11:40:15.291970200Z"
    }
   },
   "id": "556e7e4e38a017d2"
  },
  {
   "cell_type": "code",
   "execution_count": 21,
   "outputs": [],
   "source": [
    "predicted_values_rainfall = cat_model.predict(pred)"
   ],
   "metadata": {
    "collapsed": false,
    "ExecuteTime": {
     "end_time": "2024-01-16T13:28:40.600681300Z",
     "start_time": "2024-01-16T13:28:40.579027100Z"
    }
   },
   "id": "2e17abea7496b3ba"
  },
  {
   "cell_type": "code",
   "execution_count": 22,
   "outputs": [
    {
     "data": {
      "text/plain": "array([11.51039679,  6.34337126,  5.53073507, ...,  7.12872393,\n        9.94652302,  4.82002501])"
     },
     "execution_count": 22,
     "metadata": {},
     "output_type": "execute_result"
    }
   ],
   "source": [
    "predicted_values_rainfall"
   ],
   "metadata": {
    "collapsed": false,
    "ExecuteTime": {
     "end_time": "2024-01-16T13:28:40.975112600Z",
     "start_time": "2024-01-16T13:28:40.947425400Z"
    }
   },
   "id": "272168793946a731"
  },
  {
   "cell_type": "code",
   "execution_count": 23,
   "outputs": [],
   "source": [
    "test.loc[test['근로기간'] == -999, '근로기간'] = predicted_values_rainfall"
   ],
   "metadata": {
    "collapsed": false,
    "ExecuteTime": {
     "end_time": "2024-01-16T13:28:42.641488800Z",
     "start_time": "2024-01-16T13:28:42.619515600Z"
    }
   },
   "id": "b3af4ff690ae3c31"
  },
  {
   "cell_type": "code",
   "execution_count": 59,
   "outputs": [
    {
     "data": {
      "text/plain": "           대출금액 대출기간  근로기간 주택소유상태       연간소득  부채_대비_소득_비율      총계좌수 대출목적  \\\n0      16800000    0   3.0      0  18.698312     3.027231  2.564949   11   \n1       8400000    0   2.0      2  18.315000     2.823757  3.258097    2   \n2      17280000    0   3.0      2  18.826146     2.241773  3.044522    4   \n3      14400000    0   2.0      0  18.005165     2.689207  3.433987    4   \n4      27600000    0   2.0      2  17.826474     3.449988  2.564949    4   \n...         ...  ...   ...    ...        ...          ...       ...  ...   \n64192  30000000    0   2.0      0  18.172219     3.138966  3.332205    2   \n64193  30000000    1   4.0      0  18.508692     2.569554  3.295837    2   \n64194   6120000    0   4.0      2  17.494340     3.394508  3.526361    2   \n64195  11520000    0   4.0      0  18.005165     3.274878  3.737670    2   \n64196   6000000    0   3.0      2  19.008467     2.309561  2.397895    2   \n\n       최근_2년간_연체_횟수      총상환원금      총상환이자  총연체금액  연체계좌수  \n0          0.000000  12.885864  11.895497    0.0    0.0  \n1          0.000000   0.000000   0.000000    0.0    0.0  \n2          0.000000  14.396038  12.549027    0.0    0.0  \n3          0.693147  13.413577  12.548687    0.0    0.0  \n4          0.000000  14.038697  13.329125    0.0    0.0  \n...             ...        ...        ...    ...    ...  \n64192      1.098612  14.083653  13.545513    0.0    0.0  \n64193      0.000000  13.775327  14.034849    0.0    0.0  \n64194      0.000000  11.786922  11.300734    0.0    0.0  \n64195      0.693147  14.107835  13.307802    0.0    0.0  \n64196      0.000000  12.640711  10.798779    0.0    0.0  \n\n[64197 rows x 13 columns]",
      "text/html": "<div>\n<style scoped>\n    .dataframe tbody tr th:only-of-type {\n        vertical-align: middle;\n    }\n\n    .dataframe tbody tr th {\n        vertical-align: top;\n    }\n\n    .dataframe thead th {\n        text-align: right;\n    }\n</style>\n<table border=\"1\" class=\"dataframe\">\n  <thead>\n    <tr style=\"text-align: right;\">\n      <th></th>\n      <th>대출금액</th>\n      <th>대출기간</th>\n      <th>근로기간</th>\n      <th>주택소유상태</th>\n      <th>연간소득</th>\n      <th>부채_대비_소득_비율</th>\n      <th>총계좌수</th>\n      <th>대출목적</th>\n      <th>최근_2년간_연체_횟수</th>\n      <th>총상환원금</th>\n      <th>총상환이자</th>\n      <th>총연체금액</th>\n      <th>연체계좌수</th>\n    </tr>\n  </thead>\n  <tbody>\n    <tr>\n      <th>0</th>\n      <td>16800000</td>\n      <td>0</td>\n      <td>3.0</td>\n      <td>0</td>\n      <td>18.698312</td>\n      <td>3.027231</td>\n      <td>2.564949</td>\n      <td>11</td>\n      <td>0.000000</td>\n      <td>12.885864</td>\n      <td>11.895497</td>\n      <td>0.0</td>\n      <td>0.0</td>\n    </tr>\n    <tr>\n      <th>1</th>\n      <td>8400000</td>\n      <td>0</td>\n      <td>2.0</td>\n      <td>2</td>\n      <td>18.315000</td>\n      <td>2.823757</td>\n      <td>3.258097</td>\n      <td>2</td>\n      <td>0.000000</td>\n      <td>0.000000</td>\n      <td>0.000000</td>\n      <td>0.0</td>\n      <td>0.0</td>\n    </tr>\n    <tr>\n      <th>2</th>\n      <td>17280000</td>\n      <td>0</td>\n      <td>3.0</td>\n      <td>2</td>\n      <td>18.826146</td>\n      <td>2.241773</td>\n      <td>3.044522</td>\n      <td>4</td>\n      <td>0.000000</td>\n      <td>14.396038</td>\n      <td>12.549027</td>\n      <td>0.0</td>\n      <td>0.0</td>\n    </tr>\n    <tr>\n      <th>3</th>\n      <td>14400000</td>\n      <td>0</td>\n      <td>2.0</td>\n      <td>0</td>\n      <td>18.005165</td>\n      <td>2.689207</td>\n      <td>3.433987</td>\n      <td>4</td>\n      <td>0.693147</td>\n      <td>13.413577</td>\n      <td>12.548687</td>\n      <td>0.0</td>\n      <td>0.0</td>\n    </tr>\n    <tr>\n      <th>4</th>\n      <td>27600000</td>\n      <td>0</td>\n      <td>2.0</td>\n      <td>2</td>\n      <td>17.826474</td>\n      <td>3.449988</td>\n      <td>2.564949</td>\n      <td>4</td>\n      <td>0.000000</td>\n      <td>14.038697</td>\n      <td>13.329125</td>\n      <td>0.0</td>\n      <td>0.0</td>\n    </tr>\n    <tr>\n      <th>...</th>\n      <td>...</td>\n      <td>...</td>\n      <td>...</td>\n      <td>...</td>\n      <td>...</td>\n      <td>...</td>\n      <td>...</td>\n      <td>...</td>\n      <td>...</td>\n      <td>...</td>\n      <td>...</td>\n      <td>...</td>\n      <td>...</td>\n    </tr>\n    <tr>\n      <th>64192</th>\n      <td>30000000</td>\n      <td>0</td>\n      <td>2.0</td>\n      <td>0</td>\n      <td>18.172219</td>\n      <td>3.138966</td>\n      <td>3.332205</td>\n      <td>2</td>\n      <td>1.098612</td>\n      <td>14.083653</td>\n      <td>13.545513</td>\n      <td>0.0</td>\n      <td>0.0</td>\n    </tr>\n    <tr>\n      <th>64193</th>\n      <td>30000000</td>\n      <td>1</td>\n      <td>4.0</td>\n      <td>0</td>\n      <td>18.508692</td>\n      <td>2.569554</td>\n      <td>3.295837</td>\n      <td>2</td>\n      <td>0.000000</td>\n      <td>13.775327</td>\n      <td>14.034849</td>\n      <td>0.0</td>\n      <td>0.0</td>\n    </tr>\n    <tr>\n      <th>64194</th>\n      <td>6120000</td>\n      <td>0</td>\n      <td>4.0</td>\n      <td>2</td>\n      <td>17.494340</td>\n      <td>3.394508</td>\n      <td>3.526361</td>\n      <td>2</td>\n      <td>0.000000</td>\n      <td>11.786922</td>\n      <td>11.300734</td>\n      <td>0.0</td>\n      <td>0.0</td>\n    </tr>\n    <tr>\n      <th>64195</th>\n      <td>11520000</td>\n      <td>0</td>\n      <td>4.0</td>\n      <td>0</td>\n      <td>18.005165</td>\n      <td>3.274878</td>\n      <td>3.737670</td>\n      <td>2</td>\n      <td>0.693147</td>\n      <td>14.107835</td>\n      <td>13.307802</td>\n      <td>0.0</td>\n      <td>0.0</td>\n    </tr>\n    <tr>\n      <th>64196</th>\n      <td>6000000</td>\n      <td>0</td>\n      <td>3.0</td>\n      <td>2</td>\n      <td>19.008467</td>\n      <td>2.309561</td>\n      <td>2.397895</td>\n      <td>2</td>\n      <td>0.000000</td>\n      <td>12.640711</td>\n      <td>10.798779</td>\n      <td>0.0</td>\n      <td>0.0</td>\n    </tr>\n  </tbody>\n</table>\n<p>64197 rows × 13 columns</p>\n</div>"
     },
     "execution_count": 59,
     "metadata": {},
     "output_type": "execute_result"
    }
   ],
   "source": [
    "test"
   ],
   "metadata": {
    "collapsed": false,
    "ExecuteTime": {
     "end_time": "2024-01-16T14:38:29.526225100Z",
     "start_time": "2024-01-16T14:38:29.499296200Z"
    }
   },
   "id": "32aa0f1f7b93ff36"
  },
  {
   "cell_type": "code",
   "execution_count": 9,
   "outputs": [],
   "source": [
    "test.to_csv('../data/test_preprocessing_test.csv', index=False)"
   ],
   "metadata": {
    "collapsed": false,
    "ExecuteTime": {
     "end_time": "2024-01-17T03:03:23.280576300Z",
     "start_time": "2024-01-17T03:03:22.992448900Z"
    }
   },
   "id": "b949c58ce23e9aed"
  },
  {
   "cell_type": "code",
   "execution_count": null,
   "outputs": [],
   "source": [],
   "metadata": {
    "collapsed": false
   },
   "id": "48ae9e3236050ac6"
  }
 ],
 "metadata": {
  "kernelspec": {
   "display_name": "Python 3",
   "language": "python",
   "name": "python3"
  },
  "language_info": {
   "codemirror_mode": {
    "name": "ipython",
    "version": 2
   },
   "file_extension": ".py",
   "mimetype": "text/x-python",
   "name": "python",
   "nbconvert_exporter": "python",
   "pygments_lexer": "ipython2",
   "version": "2.7.6"
  }
 },
 "nbformat": 4,
 "nbformat_minor": 5
}

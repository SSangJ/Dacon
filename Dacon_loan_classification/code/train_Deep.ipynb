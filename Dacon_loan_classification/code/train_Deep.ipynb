{
 "cells": [
  {
   "cell_type": "code",
   "execution_count": 1,
   "id": "initial_id",
   "metadata": {
    "collapsed": true,
    "ExecuteTime": {
     "end_time": "2024-02-05T10:34:34.840886300Z",
     "start_time": "2024-02-05T10:34:32.197917900Z"
    }
   },
   "outputs": [
    {
     "name": "stdout",
     "output_type": "stream",
     "text": [
      "cuda:0\n"
     ]
    }
   ],
   "source": [
    "import torch\n",
    "device = torch.device('cuda:0' if torch.cuda.is_available() else 'cpu')\n",
    "\n",
    "print(device)"
   ]
  },
  {
   "cell_type": "code",
   "execution_count": 282,
   "outputs": [],
   "source": [
    "import matplotlib.pyplot as plt\n",
    "import pandas as pd\n",
    "import numpy as np\n",
    "import seaborn as sns\n",
    "from sklearn.model_selection import GridSearchCV\n",
    "import xgboost as xgb\n",
    "from sklearn.svm import SVC\n",
    "from sklearn.ensemble import VotingClassifier\n",
    "from catboost import CatBoostClassifier\n",
    "\n",
    "from sklearn.model_selection import train_test_split\n",
    "from sklearn.cluster import DBSCAN\n",
    "from sklearn.preprocessing import MinMaxScaler\n",
    "from sklearn.metrics import f1_score\n",
    "from sklearn.ensemble import RandomForestClassifier\n",
    "from sklearn.metrics import accuracy_score\n",
    "from sklearn.ensemble import GradientBoostingClassifier\n",
    "import lightgbm as lgb\n",
    "from sklearn.linear_model import SGDClassifier\n",
    "from sklearn.ensemble import AdaBoostClassifier\n",
    "from sklearn.preprocessing import OneHotEncoder\n",
    "import pandas as pd\n",
    "from sklearn.metrics import f1_score, make_scorer\n",
    "from sklearn.model_selection import GridSearchCV, StratifiedKFold\n",
    "\n",
    "import warnings\n",
    "\n",
    "# 경고 무시\n",
    "warnings.filterwarnings(\"ignore\", category=FutureWarning)\n",
    "\n",
    "import os\n",
    "os.environ['KMP_DUPLICATE_LIB_OK']='True'\n",
    "\n",
    "import matplotlib.pyplot as plt\n",
    "import pandas as pd\n",
    "import numpy as np\n",
    "import seaborn as sns\n",
    "\n",
    "from sklearn.model_selection import train_test_split\n",
    "from sklearn.cluster import DBSCAN\n",
    "from sklearn.model_selection import train_test_split\n",
    "\n",
    "from sklearn.preprocessing import MinMaxScaler\n",
    "\n",
    "\n",
    "\n",
    "\n",
    "import torch\n",
    "from torch.utils.data import TensorDataset, DataLoader\n",
    "import torch.nn as nn\n",
    "import torch.optim as optim\n",
    "from torch.optim.lr_scheduler import StepLR\n"
   ],
   "metadata": {
    "collapsed": false,
    "ExecuteTime": {
     "end_time": "2024-01-17T06:28:59.156578900Z",
     "start_time": "2024-01-17T06:28:59.112664300Z"
    }
   },
   "id": "b5da86c4f41eaa10"
  },
  {
   "cell_type": "code",
   "execution_count": 283,
   "outputs": [],
   "source": [
    "train = pd.read_csv(\"../data/train_preprocessing.csv\")\n",
    "test = pd.read_csv(\"../data/test_preprocessing.csv\")\n",
    "sample_submission_id = pd.read_csv(\"../data/sample_submission.csv\")['ID'].values"
   ],
   "metadata": {
    "collapsed": false,
    "ExecuteTime": {
     "end_time": "2024-01-17T06:28:59.724146900Z",
     "start_time": "2024-01-17T06:28:59.443807200Z"
    }
   },
   "id": "db6e55bc1b88ca41"
  },
  {
   "cell_type": "code",
   "execution_count": 284,
   "outputs": [
    {
     "data": {
      "text/plain": "           대출금액  대출기간  근로기간  주택소유상태       연간소득  부채_대비_소득_비율      총계좌수  대출목적  \\\n0      12480000     0   3.0       3  18.092177     2.990720  2.772589     1   \n1      14400000     1   4.0       1  18.689180     3.149740  3.091042    10   \n2      12000000     0   2.0       1  18.379859     2.261763  2.708050     1   \n3      14400000     0   3.0       1  18.698312     2.778198  2.772589     1   \n4      18000000     1   0.0       3  18.088503     3.272985  2.995732     8   \n...         ...   ...   ...     ...        ...          ...       ...   ...   \n96289  14400000     0   4.0       1  19.162618     2.335052  3.526361     3   \n96290  28800000     1   4.0       1  18.698312     1.818077  3.258097    10   \n96291  14400000     0   1.0       1  18.246327     2.504709  3.135494     3   \n96292  15600000     0   2.0       1  18.010153     2.906901  3.091042     1   \n96293   8640000     0   4.0       3  17.735502     2.549445  2.708050     3   \n\n       최근_2년간_연체_횟수      총상환원금      총상환이자  총연체금액  연체계좌수  대출등급  \n0          0.000000   0.000000   0.000000    0.0    0.0     2  \n1          0.000000  12.830869  12.363337    0.0    0.0     1  \n2          0.000000  13.741482  11.931274    0.0    0.0     0  \n3          0.000000  12.694116  11.938905    0.0    0.0     2  \n4          0.000000  12.339471  11.911413    0.0    0.0     1  \n...             ...        ...        ...    ...    ...   ...  \n96289      0.000000  13.789763  13.106577    0.0    0.0     2  \n96290      0.000000  13.277192  13.658956    0.0    0.0     4  \n96291      0.000000  14.213702  12.393535    0.0    0.0     0  \n96292      1.098612  14.136411  13.614712    0.0    0.0     3  \n96293      0.000000  13.298246  12.524370    0.0    0.0     2  \n\n[96294 rows x 14 columns]",
      "text/html": "<div>\n<style scoped>\n    .dataframe tbody tr th:only-of-type {\n        vertical-align: middle;\n    }\n\n    .dataframe tbody tr th {\n        vertical-align: top;\n    }\n\n    .dataframe thead th {\n        text-align: right;\n    }\n</style>\n<table border=\"1\" class=\"dataframe\">\n  <thead>\n    <tr style=\"text-align: right;\">\n      <th></th>\n      <th>대출금액</th>\n      <th>대출기간</th>\n      <th>근로기간</th>\n      <th>주택소유상태</th>\n      <th>연간소득</th>\n      <th>부채_대비_소득_비율</th>\n      <th>총계좌수</th>\n      <th>대출목적</th>\n      <th>최근_2년간_연체_횟수</th>\n      <th>총상환원금</th>\n      <th>총상환이자</th>\n      <th>총연체금액</th>\n      <th>연체계좌수</th>\n      <th>대출등급</th>\n    </tr>\n  </thead>\n  <tbody>\n    <tr>\n      <th>0</th>\n      <td>12480000</td>\n      <td>0</td>\n      <td>3.0</td>\n      <td>3</td>\n      <td>18.092177</td>\n      <td>2.990720</td>\n      <td>2.772589</td>\n      <td>1</td>\n      <td>0.000000</td>\n      <td>0.000000</td>\n      <td>0.000000</td>\n      <td>0.0</td>\n      <td>0.0</td>\n      <td>2</td>\n    </tr>\n    <tr>\n      <th>1</th>\n      <td>14400000</td>\n      <td>1</td>\n      <td>4.0</td>\n      <td>1</td>\n      <td>18.689180</td>\n      <td>3.149740</td>\n      <td>3.091042</td>\n      <td>10</td>\n      <td>0.000000</td>\n      <td>12.830869</td>\n      <td>12.363337</td>\n      <td>0.0</td>\n      <td>0.0</td>\n      <td>1</td>\n    </tr>\n    <tr>\n      <th>2</th>\n      <td>12000000</td>\n      <td>0</td>\n      <td>2.0</td>\n      <td>1</td>\n      <td>18.379859</td>\n      <td>2.261763</td>\n      <td>2.708050</td>\n      <td>1</td>\n      <td>0.000000</td>\n      <td>13.741482</td>\n      <td>11.931274</td>\n      <td>0.0</td>\n      <td>0.0</td>\n      <td>0</td>\n    </tr>\n    <tr>\n      <th>3</th>\n      <td>14400000</td>\n      <td>0</td>\n      <td>3.0</td>\n      <td>1</td>\n      <td>18.698312</td>\n      <td>2.778198</td>\n      <td>2.772589</td>\n      <td>1</td>\n      <td>0.000000</td>\n      <td>12.694116</td>\n      <td>11.938905</td>\n      <td>0.0</td>\n      <td>0.0</td>\n      <td>2</td>\n    </tr>\n    <tr>\n      <th>4</th>\n      <td>18000000</td>\n      <td>1</td>\n      <td>0.0</td>\n      <td>3</td>\n      <td>18.088503</td>\n      <td>3.272985</td>\n      <td>2.995732</td>\n      <td>8</td>\n      <td>0.000000</td>\n      <td>12.339471</td>\n      <td>11.911413</td>\n      <td>0.0</td>\n      <td>0.0</td>\n      <td>1</td>\n    </tr>\n    <tr>\n      <th>...</th>\n      <td>...</td>\n      <td>...</td>\n      <td>...</td>\n      <td>...</td>\n      <td>...</td>\n      <td>...</td>\n      <td>...</td>\n      <td>...</td>\n      <td>...</td>\n      <td>...</td>\n      <td>...</td>\n      <td>...</td>\n      <td>...</td>\n      <td>...</td>\n    </tr>\n    <tr>\n      <th>96289</th>\n      <td>14400000</td>\n      <td>0</td>\n      <td>4.0</td>\n      <td>1</td>\n      <td>19.162618</td>\n      <td>2.335052</td>\n      <td>3.526361</td>\n      <td>3</td>\n      <td>0.000000</td>\n      <td>13.789763</td>\n      <td>13.106577</td>\n      <td>0.0</td>\n      <td>0.0</td>\n      <td>2</td>\n    </tr>\n    <tr>\n      <th>96290</th>\n      <td>28800000</td>\n      <td>1</td>\n      <td>4.0</td>\n      <td>1</td>\n      <td>18.698312</td>\n      <td>1.818077</td>\n      <td>3.258097</td>\n      <td>10</td>\n      <td>0.000000</td>\n      <td>13.277192</td>\n      <td>13.658956</td>\n      <td>0.0</td>\n      <td>0.0</td>\n      <td>4</td>\n    </tr>\n    <tr>\n      <th>96291</th>\n      <td>14400000</td>\n      <td>0</td>\n      <td>1.0</td>\n      <td>1</td>\n      <td>18.246327</td>\n      <td>2.504709</td>\n      <td>3.135494</td>\n      <td>3</td>\n      <td>0.000000</td>\n      <td>14.213702</td>\n      <td>12.393535</td>\n      <td>0.0</td>\n      <td>0.0</td>\n      <td>0</td>\n    </tr>\n    <tr>\n      <th>96292</th>\n      <td>15600000</td>\n      <td>0</td>\n      <td>2.0</td>\n      <td>1</td>\n      <td>18.010153</td>\n      <td>2.906901</td>\n      <td>3.091042</td>\n      <td>1</td>\n      <td>1.098612</td>\n      <td>14.136411</td>\n      <td>13.614712</td>\n      <td>0.0</td>\n      <td>0.0</td>\n      <td>3</td>\n    </tr>\n    <tr>\n      <th>96293</th>\n      <td>8640000</td>\n      <td>0</td>\n      <td>4.0</td>\n      <td>3</td>\n      <td>17.735502</td>\n      <td>2.549445</td>\n      <td>2.708050</td>\n      <td>3</td>\n      <td>0.000000</td>\n      <td>13.298246</td>\n      <td>12.524370</td>\n      <td>0.0</td>\n      <td>0.0</td>\n      <td>2</td>\n    </tr>\n  </tbody>\n</table>\n<p>96294 rows × 14 columns</p>\n</div>"
     },
     "execution_count": 284,
     "metadata": {},
     "output_type": "execute_result"
    }
   ],
   "source": [
    "train"
   ],
   "metadata": {
    "collapsed": false,
    "ExecuteTime": {
     "end_time": "2024-01-17T06:28:59.800978Z",
     "start_time": "2024-01-17T06:28:59.726141200Z"
    }
   },
   "id": "42caf82dcb6acb70"
  },
  {
   "cell_type": "code",
   "execution_count": 285,
   "outputs": [
    {
     "name": "stdout",
     "output_type": "stream",
     "text": [
      "<class 'pandas.core.frame.DataFrame'>\n",
      "RangeIndex: 96294 entries, 0 to 96293\n",
      "Data columns (total 14 columns):\n",
      " #   Column        Non-Null Count  Dtype  \n",
      "---  ------        --------------  -----  \n",
      " 0   대출금액          96294 non-null  int64  \n",
      " 1   대출기간          96294 non-null  int64  \n",
      " 2   근로기간          96294 non-null  float64\n",
      " 3   주택소유상태        96294 non-null  int64  \n",
      " 4   연간소득          96294 non-null  float64\n",
      " 5   부채_대비_소득_비율   96294 non-null  float64\n",
      " 6   총계좌수          96294 non-null  float64\n",
      " 7   대출목적          96294 non-null  int64  \n",
      " 8   최근_2년간_연체_횟수  96294 non-null  float64\n",
      " 9   총상환원금         96294 non-null  float64\n",
      " 10  총상환이자         96294 non-null  float64\n",
      " 11  총연체금액         96294 non-null  float64\n",
      " 12  연체계좌수         96294 non-null  float64\n",
      " 13  대출등급          96294 non-null  int64  \n",
      "dtypes: float64(9), int64(5)\n",
      "memory usage: 10.3 MB\n"
     ]
    }
   ],
   "source": [
    "train.info()"
   ],
   "metadata": {
    "collapsed": false,
    "ExecuteTime": {
     "end_time": "2024-01-17T06:28:59.809954100Z",
     "start_time": "2024-01-17T06:28:59.756060900Z"
    }
   },
   "id": "a53c5c70f99f4101"
  },
  {
   "cell_type": "code",
   "execution_count": 286,
   "outputs": [
    {
     "name": "stdout",
     "output_type": "stream",
     "text": [
      "<class 'pandas.core.frame.DataFrame'>\n",
      "RangeIndex: 64197 entries, 0 to 64196\n",
      "Data columns (total 13 columns):\n",
      " #   Column        Non-Null Count  Dtype  \n",
      "---  ------        --------------  -----  \n",
      " 0   대출금액          64197 non-null  int64  \n",
      " 1   대출기간          64197 non-null  int64  \n",
      " 2   근로기간          64197 non-null  float64\n",
      " 3   주택소유상태        64197 non-null  int64  \n",
      " 4   연간소득          64197 non-null  float64\n",
      " 5   부채_대비_소득_비율   64197 non-null  float64\n",
      " 6   총계좌수          64197 non-null  float64\n",
      " 7   대출목적          64197 non-null  int64  \n",
      " 8   최근_2년간_연체_횟수  64197 non-null  float64\n",
      " 9   총상환원금         64197 non-null  float64\n",
      " 10  총상환이자         64197 non-null  float64\n",
      " 11  총연체금액         64197 non-null  float64\n",
      " 12  연체계좌수         64197 non-null  float64\n",
      "dtypes: float64(9), int64(4)\n",
      "memory usage: 6.4 MB\n"
     ]
    }
   ],
   "source": [
    "test.info()"
   ],
   "metadata": {
    "collapsed": false,
    "ExecuteTime": {
     "end_time": "2024-01-17T06:28:59.846778100Z",
     "start_time": "2024-01-17T06:28:59.772018400Z"
    }
   },
   "id": "4bac5474089a12b4"
  },
  {
   "cell_type": "code",
   "execution_count": 287,
   "outputs": [],
   "source": [
    "\n",
    "# 인코더를 초기화할 때 handle_unknown='ignore' 옵션 추가\n",
    "encoder = OneHotEncoder(sparse=False, handle_unknown='ignore')\n",
    "\n",
    "# train 데이터셋에 대해 fit_transform을 적용\n",
    "encoded_train = encoder.fit_transform(train[['주택소유상태','대출목적','근로기간']])\n",
    "columns_train = encoder.get_feature_names_out(['주택소유상태','대출목적','근로기간'])\n",
    "\n",
    "# 원-핫 인코딩된 데이터프레임 생성\n",
    "one_hot_encoded_train_df = pd.DataFrame(encoded_train, columns=columns_train)\n",
    "\n",
    "# test 데이터셋에 대해서는 transform을 적용\n",
    "encoded_test = encoder.transform(test[['주택소유상태','대출목적','근로기간']])\n",
    "\n",
    "# 새로운 컬럼 이름 생성\n",
    "columns_test = encoder.get_feature_names_out(['주택소유상태','대출목적','근로기간'])\n",
    "\n",
    "# 원-핫 인코딩된 데이터프레임 생성\n",
    "one_hot_encoded_test_df = pd.DataFrame(encoded_test, columns=columns_train)\n",
    "\n",
    "# 원본 train 데이터프레임과 인코딩된 데이터프레임을 합치기\n",
    "train_without_columns = train.drop(columns=['주택소유상태', '대출목적', '근로기간'])\n",
    "one_hot_encoded_train_df = pd.concat([train_without_columns.reset_index(drop=True), one_hot_encoded_train_df], axis=1)\n",
    "\n",
    "# 원본 test 데이터프레임과 인코딩된 데이터프레임을 합치기\n",
    "test_without_columns = test.drop(columns=['주택소유상태', '대출목적', '근로기간'])\n",
    "one_hot_encoded_test_df = pd.concat([test_without_columns.reset_index(drop=True), one_hot_encoded_test_df], axis=1)\n",
    "\n",
    "train = one_hot_encoded_train_df\n",
    "test = one_hot_encoded_test_df"
   ],
   "metadata": {
    "collapsed": false,
    "ExecuteTime": {
     "end_time": "2024-01-17T06:29:00.001366Z",
     "start_time": "2024-01-17T06:28:59.917588800Z"
    }
   },
   "id": "f9e90275a5c69871"
  },
  {
   "cell_type": "code",
   "execution_count": 288,
   "outputs": [],
   "source": [
    "train = train[train['최근_2년간_연체_횟수']<2.5]\n",
    "train = train[train['총연체금액']<1]\n",
    "train = train[train['부채_대비_소득_비율']<6]"
   ],
   "metadata": {
    "collapsed": false,
    "ExecuteTime": {
     "end_time": "2024-01-17T06:29:00.184873500Z",
     "start_time": "2024-01-17T06:29:00.098106100Z"
    }
   },
   "id": "f9b372174f9adb79"
  },
  {
   "cell_type": "code",
   "execution_count": 289,
   "outputs": [],
   "source": [
    "# # MinMaxScaler 초기화\n",
    "# scaler = MinMaxScaler()\n",
    "# \n",
    "# # '대출등급' 열을 제외하고 스케일링 적용\n",
    "# train_columns = train.columns.drop('대출등급')\n",
    "# test_scaled = scaler.fit_transform(test)\n",
    "# \n",
    "# train_scaled = scaler.fit_transform(train[train_columns])\n",
    "# \n",
    "# \n",
    "# # 스케일링된 데이터를 DataFrame으로 변환하고 '대출등급' 열 추가\n",
    "# train_scaled = pd.DataFrame(train_scaled, columns=train_columns, index=train.index)\n",
    "# train_scaled['대출등급'] = train['대출등급']\n",
    "# \n",
    "# train = train_scaled\n",
    "# test = pd.DataFrame(test_scaled, columns=test.columns)"
   ],
   "metadata": {
    "collapsed": false,
    "ExecuteTime": {
     "end_time": "2024-01-17T06:29:00.470616900Z",
     "start_time": "2024-01-17T06:29:00.456654500Z"
    }
   },
   "id": "4ea5547e080188ed"
  },
  {
   "cell_type": "code",
   "execution_count": 290,
   "outputs": [],
   "source": [
    "# MinMaxScaler 초기화\n",
    "scaler = MinMaxScaler()\n",
    "\n",
    "# '대출등급' 열을 제외하고 train 데이터에 스케일링 적용\n",
    "train_columns = train.columns.drop('대출등급')\n",
    "train_scaled = scaler.fit_transform(train[train_columns])\n",
    "\n",
    "# 스케일링된 train 데이터를 DataFrame으로 변환하고 '대출등급' 열 추가\n",
    "train_scaled = pd.DataFrame(train_scaled, columns=train_columns, index=train.index)\n",
    "train_scaled['대출등급'] = train['대출등급']\n",
    "\n",
    "# 동일한 scaler를 사용하여 test 데이터에 스케일링 적용\n",
    "test_scaled = scaler.transform(test)\n",
    "\n",
    "# 스케일링된 test 데이터를 DataFrame으로 변환\n",
    "test = pd.DataFrame(test_scaled, columns=test.columns)\n",
    "\n",
    "# train 데이터 업데이트\n",
    "train = train_scaled"
   ],
   "metadata": {
    "collapsed": false,
    "ExecuteTime": {
     "end_time": "2024-01-17T06:29:00.841350900Z",
     "start_time": "2024-01-17T06:29:00.754856800Z"
    }
   },
   "id": "9f40ff58688755"
  },
  {
   "cell_type": "code",
   "execution_count": 291,
   "outputs": [],
   "source": [
    "X = train[train.columns.drop('대출등급')]\n",
    "Y = train['대출등급']"
   ],
   "metadata": {
    "collapsed": false,
    "ExecuteTime": {
     "end_time": "2024-01-17T06:29:01.316476700Z",
     "start_time": "2024-01-17T06:29:01.229116100Z"
    }
   },
   "id": "d0294784d7551b5d"
  },
  {
   "cell_type": "code",
   "execution_count": 292,
   "outputs": [
    {
     "data": {
      "text/plain": "           대출금액  대출기간      연간소득  부채_대비_소득_비율      총계좌수  최근_2년간_연체_횟수  \\\n0      0.276471   0.0  0.331518     0.618139  0.329845      0.000000   \n1      0.323529   1.0  0.411166     0.651006  0.420151      0.000000   \n2      0.264706   0.0  0.369898     0.467474  0.311543      0.000000   \n3      0.323529   0.0  0.412384     0.574214  0.329845      0.000000   \n4      0.411765   1.0  0.331028     0.676479  0.393123      0.000000   \n...         ...   ...       ...          ...       ...           ...   \n96289  0.323529   0.0  0.474328     0.482622  0.543598      0.000000   \n96290  0.676471   1.0  0.412384     0.375770  0.467524      0.000000   \n96291  0.323529   0.0  0.352084     0.517688  0.432757      0.000000   \n96292  0.352941   0.0  0.320575     0.600815  0.420151      0.442114   \n96293  0.182353   0.0  0.283933     0.526934  0.311543      0.000000   \n\n          총상환원금     총상환이자  총연체금액  연체계좌수  ...  대출목적_8  대출목적_9  대출목적_10  \\\n0      0.000000  0.000000    0.0    0.0  ...     0.0     0.0      0.0   \n1      0.731015  0.808397    0.0    0.0  ...     0.0     0.0      1.0   \n2      0.782895  0.780145    0.0    0.0  ...     0.0     0.0      0.0   \n3      0.723224  0.780644    0.0    0.0  ...     0.0     0.0      0.0   \n4      0.703018  0.778847    0.0    0.0  ...     1.0     0.0      0.0   \n...         ...       ...    ...    ...  ...     ...     ...      ...   \n96289  0.785646  0.856994    0.0    0.0  ...     0.0     0.0      0.0   \n96290  0.756443  0.893113    0.0    0.0  ...     0.0     0.0      1.0   \n96291  0.809799  0.810371    0.0    0.0  ...     0.0     0.0      0.0   \n96292  0.805396  0.890220    0.0    0.0  ...     0.0     0.0      0.0   \n96293  0.757643  0.818926    0.0    0.0  ...     0.0     0.0      0.0   \n\n       대출목적_11  근로기간_0.0  근로기간_1.0  근로기간_2.0  근로기간_3.0  근로기간_4.0  대출등급  \n0          0.0       0.0       0.0       0.0       1.0       0.0     2  \n1          0.0       0.0       0.0       0.0       0.0       1.0     1  \n2          0.0       0.0       0.0       1.0       0.0       0.0     0  \n3          0.0       0.0       0.0       0.0       1.0       0.0     2  \n4          0.0       1.0       0.0       0.0       0.0       0.0     1  \n...        ...       ...       ...       ...       ...       ...   ...  \n96289      0.0       0.0       0.0       0.0       0.0       1.0     2  \n96290      0.0       0.0       0.0       0.0       0.0       1.0     4  \n96291      0.0       0.0       1.0       0.0       0.0       0.0     0  \n96292      0.0       0.0       0.0       1.0       0.0       0.0     3  \n96293      0.0       0.0       0.0       0.0       0.0       1.0     2  \n\n[96075 rows x 32 columns]",
      "text/html": "<div>\n<style scoped>\n    .dataframe tbody tr th:only-of-type {\n        vertical-align: middle;\n    }\n\n    .dataframe tbody tr th {\n        vertical-align: top;\n    }\n\n    .dataframe thead th {\n        text-align: right;\n    }\n</style>\n<table border=\"1\" class=\"dataframe\">\n  <thead>\n    <tr style=\"text-align: right;\">\n      <th></th>\n      <th>대출금액</th>\n      <th>대출기간</th>\n      <th>연간소득</th>\n      <th>부채_대비_소득_비율</th>\n      <th>총계좌수</th>\n      <th>최근_2년간_연체_횟수</th>\n      <th>총상환원금</th>\n      <th>총상환이자</th>\n      <th>총연체금액</th>\n      <th>연체계좌수</th>\n      <th>...</th>\n      <th>대출목적_8</th>\n      <th>대출목적_9</th>\n      <th>대출목적_10</th>\n      <th>대출목적_11</th>\n      <th>근로기간_0.0</th>\n      <th>근로기간_1.0</th>\n      <th>근로기간_2.0</th>\n      <th>근로기간_3.0</th>\n      <th>근로기간_4.0</th>\n      <th>대출등급</th>\n    </tr>\n  </thead>\n  <tbody>\n    <tr>\n      <th>0</th>\n      <td>0.276471</td>\n      <td>0.0</td>\n      <td>0.331518</td>\n      <td>0.618139</td>\n      <td>0.329845</td>\n      <td>0.000000</td>\n      <td>0.000000</td>\n      <td>0.000000</td>\n      <td>0.0</td>\n      <td>0.0</td>\n      <td>...</td>\n      <td>0.0</td>\n      <td>0.0</td>\n      <td>0.0</td>\n      <td>0.0</td>\n      <td>0.0</td>\n      <td>0.0</td>\n      <td>0.0</td>\n      <td>1.0</td>\n      <td>0.0</td>\n      <td>2</td>\n    </tr>\n    <tr>\n      <th>1</th>\n      <td>0.323529</td>\n      <td>1.0</td>\n      <td>0.411166</td>\n      <td>0.651006</td>\n      <td>0.420151</td>\n      <td>0.000000</td>\n      <td>0.731015</td>\n      <td>0.808397</td>\n      <td>0.0</td>\n      <td>0.0</td>\n      <td>...</td>\n      <td>0.0</td>\n      <td>0.0</td>\n      <td>1.0</td>\n      <td>0.0</td>\n      <td>0.0</td>\n      <td>0.0</td>\n      <td>0.0</td>\n      <td>0.0</td>\n      <td>1.0</td>\n      <td>1</td>\n    </tr>\n    <tr>\n      <th>2</th>\n      <td>0.264706</td>\n      <td>0.0</td>\n      <td>0.369898</td>\n      <td>0.467474</td>\n      <td>0.311543</td>\n      <td>0.000000</td>\n      <td>0.782895</td>\n      <td>0.780145</td>\n      <td>0.0</td>\n      <td>0.0</td>\n      <td>...</td>\n      <td>0.0</td>\n      <td>0.0</td>\n      <td>0.0</td>\n      <td>0.0</td>\n      <td>0.0</td>\n      <td>0.0</td>\n      <td>1.0</td>\n      <td>0.0</td>\n      <td>0.0</td>\n      <td>0</td>\n    </tr>\n    <tr>\n      <th>3</th>\n      <td>0.323529</td>\n      <td>0.0</td>\n      <td>0.412384</td>\n      <td>0.574214</td>\n      <td>0.329845</td>\n      <td>0.000000</td>\n      <td>0.723224</td>\n      <td>0.780644</td>\n      <td>0.0</td>\n      <td>0.0</td>\n      <td>...</td>\n      <td>0.0</td>\n      <td>0.0</td>\n      <td>0.0</td>\n      <td>0.0</td>\n      <td>0.0</td>\n      <td>0.0</td>\n      <td>0.0</td>\n      <td>1.0</td>\n      <td>0.0</td>\n      <td>2</td>\n    </tr>\n    <tr>\n      <th>4</th>\n      <td>0.411765</td>\n      <td>1.0</td>\n      <td>0.331028</td>\n      <td>0.676479</td>\n      <td>0.393123</td>\n      <td>0.000000</td>\n      <td>0.703018</td>\n      <td>0.778847</td>\n      <td>0.0</td>\n      <td>0.0</td>\n      <td>...</td>\n      <td>1.0</td>\n      <td>0.0</td>\n      <td>0.0</td>\n      <td>0.0</td>\n      <td>1.0</td>\n      <td>0.0</td>\n      <td>0.0</td>\n      <td>0.0</td>\n      <td>0.0</td>\n      <td>1</td>\n    </tr>\n    <tr>\n      <th>...</th>\n      <td>...</td>\n      <td>...</td>\n      <td>...</td>\n      <td>...</td>\n      <td>...</td>\n      <td>...</td>\n      <td>...</td>\n      <td>...</td>\n      <td>...</td>\n      <td>...</td>\n      <td>...</td>\n      <td>...</td>\n      <td>...</td>\n      <td>...</td>\n      <td>...</td>\n      <td>...</td>\n      <td>...</td>\n      <td>...</td>\n      <td>...</td>\n      <td>...</td>\n      <td>...</td>\n    </tr>\n    <tr>\n      <th>96289</th>\n      <td>0.323529</td>\n      <td>0.0</td>\n      <td>0.474328</td>\n      <td>0.482622</td>\n      <td>0.543598</td>\n      <td>0.000000</td>\n      <td>0.785646</td>\n      <td>0.856994</td>\n      <td>0.0</td>\n      <td>0.0</td>\n      <td>...</td>\n      <td>0.0</td>\n      <td>0.0</td>\n      <td>0.0</td>\n      <td>0.0</td>\n      <td>0.0</td>\n      <td>0.0</td>\n      <td>0.0</td>\n      <td>0.0</td>\n      <td>1.0</td>\n      <td>2</td>\n    </tr>\n    <tr>\n      <th>96290</th>\n      <td>0.676471</td>\n      <td>1.0</td>\n      <td>0.412384</td>\n      <td>0.375770</td>\n      <td>0.467524</td>\n      <td>0.000000</td>\n      <td>0.756443</td>\n      <td>0.893113</td>\n      <td>0.0</td>\n      <td>0.0</td>\n      <td>...</td>\n      <td>0.0</td>\n      <td>0.0</td>\n      <td>1.0</td>\n      <td>0.0</td>\n      <td>0.0</td>\n      <td>0.0</td>\n      <td>0.0</td>\n      <td>0.0</td>\n      <td>1.0</td>\n      <td>4</td>\n    </tr>\n    <tr>\n      <th>96291</th>\n      <td>0.323529</td>\n      <td>0.0</td>\n      <td>0.352084</td>\n      <td>0.517688</td>\n      <td>0.432757</td>\n      <td>0.000000</td>\n      <td>0.809799</td>\n      <td>0.810371</td>\n      <td>0.0</td>\n      <td>0.0</td>\n      <td>...</td>\n      <td>0.0</td>\n      <td>0.0</td>\n      <td>0.0</td>\n      <td>0.0</td>\n      <td>0.0</td>\n      <td>1.0</td>\n      <td>0.0</td>\n      <td>0.0</td>\n      <td>0.0</td>\n      <td>0</td>\n    </tr>\n    <tr>\n      <th>96292</th>\n      <td>0.352941</td>\n      <td>0.0</td>\n      <td>0.320575</td>\n      <td>0.600815</td>\n      <td>0.420151</td>\n      <td>0.442114</td>\n      <td>0.805396</td>\n      <td>0.890220</td>\n      <td>0.0</td>\n      <td>0.0</td>\n      <td>...</td>\n      <td>0.0</td>\n      <td>0.0</td>\n      <td>0.0</td>\n      <td>0.0</td>\n      <td>0.0</td>\n      <td>0.0</td>\n      <td>1.0</td>\n      <td>0.0</td>\n      <td>0.0</td>\n      <td>3</td>\n    </tr>\n    <tr>\n      <th>96293</th>\n      <td>0.182353</td>\n      <td>0.0</td>\n      <td>0.283933</td>\n      <td>0.526934</td>\n      <td>0.311543</td>\n      <td>0.000000</td>\n      <td>0.757643</td>\n      <td>0.818926</td>\n      <td>0.0</td>\n      <td>0.0</td>\n      <td>...</td>\n      <td>0.0</td>\n      <td>0.0</td>\n      <td>0.0</td>\n      <td>0.0</td>\n      <td>0.0</td>\n      <td>0.0</td>\n      <td>0.0</td>\n      <td>0.0</td>\n      <td>1.0</td>\n      <td>2</td>\n    </tr>\n  </tbody>\n</table>\n<p>96075 rows × 32 columns</p>\n</div>"
     },
     "execution_count": 292,
     "metadata": {},
     "output_type": "execute_result"
    }
   ],
   "source": [
    "train"
   ],
   "metadata": {
    "collapsed": false,
    "ExecuteTime": {
     "end_time": "2024-01-17T06:29:01.647999500Z",
     "start_time": "2024-01-17T06:29:01.571694100Z"
    }
   },
   "id": "56012e25e6aaf49f"
  },
  {
   "cell_type": "code",
   "execution_count": 293,
   "outputs": [
    {
     "data": {
      "text/plain": "           대출금액  대출기간      연간소득  부채_대비_소득_비율      총계좌수  최근_2년간_연체_횟수  \\\n0      0.382353   0.0  0.412384     0.625685  0.270962      0.000000   \n1      0.176471   0.0  0.361245     0.583630  0.467524      0.000000   \n2      0.394118   0.0  0.429439     0.463342  0.406959      0.000000   \n3      0.323529   0.0  0.319910     0.555821  0.517403      0.278943   \n4      0.647059   0.0  0.296070     0.713063  0.270962      0.000000   \n...         ...   ...       ...          ...       ...           ...   \n64192  0.705882   0.0  0.342197     0.648779  0.488540      0.442114   \n64193  0.705882   1.0  0.387086     0.531090  0.478226      0.000000   \n64194  0.120588   0.0  0.251759     0.701596  0.543598      0.000000   \n64195  0.252941   0.0  0.319910     0.676870  0.603521      0.278943   \n64196  0.117647   0.0  0.453763     0.477353  0.223590      0.000000   \n\n          총상환원금     총상환이자  총연체금액  연체계좌수  ...  대출목적_7  대출목적_8  대출목적_9  대출목적_10  \\\n0      0.734148  0.777806    0.0    0.0  ...     0.0     0.0     0.0      0.0   \n1      0.000000  0.000000    0.0    0.0  ...     0.0     0.0     0.0      0.0   \n2      0.820188  0.820538    0.0    0.0  ...     0.0     0.0     0.0      0.0   \n3      0.764214  0.820516    0.0    0.0  ...     0.0     0.0     0.0      0.0   \n4      0.799829  0.871546    0.0    0.0  ...     0.0     0.0     0.0      0.0   \n...         ...       ...    ...    ...  ...     ...     ...     ...      ...   \n64192  0.802390  0.885695    0.0    0.0  ...     0.0     0.0     0.0      0.0   \n64193  0.784824  0.917691    0.0    0.0  ...     0.0     0.0     0.0      0.0   \n64194  0.671538  0.738917    0.0    0.0  ...     0.0     0.0     0.0      0.0   \n64195  0.803768  0.870152    0.0    0.0  ...     0.0     0.0     0.0      0.0   \n64196  0.720181  0.706095    0.0    0.0  ...     0.0     0.0     0.0      0.0   \n\n       대출목적_11  근로기간_0.0  근로기간_1.0  근로기간_2.0  근로기간_3.0  근로기간_4.0  \n0          1.0       0.0       0.0       0.0       1.0       0.0  \n1          0.0       0.0       0.0       1.0       0.0       0.0  \n2          0.0       0.0       0.0       0.0       1.0       0.0  \n3          0.0       0.0       0.0       1.0       0.0       0.0  \n4          0.0       0.0       0.0       1.0       0.0       0.0  \n...        ...       ...       ...       ...       ...       ...  \n64192      0.0       0.0       0.0       1.0       0.0       0.0  \n64193      0.0       0.0       0.0       0.0       0.0       1.0  \n64194      0.0       0.0       0.0       0.0       0.0       1.0  \n64195      0.0       0.0       0.0       0.0       0.0       1.0  \n64196      0.0       0.0       0.0       0.0       1.0       0.0  \n\n[64197 rows x 31 columns]",
      "text/html": "<div>\n<style scoped>\n    .dataframe tbody tr th:only-of-type {\n        vertical-align: middle;\n    }\n\n    .dataframe tbody tr th {\n        vertical-align: top;\n    }\n\n    .dataframe thead th {\n        text-align: right;\n    }\n</style>\n<table border=\"1\" class=\"dataframe\">\n  <thead>\n    <tr style=\"text-align: right;\">\n      <th></th>\n      <th>대출금액</th>\n      <th>대출기간</th>\n      <th>연간소득</th>\n      <th>부채_대비_소득_비율</th>\n      <th>총계좌수</th>\n      <th>최근_2년간_연체_횟수</th>\n      <th>총상환원금</th>\n      <th>총상환이자</th>\n      <th>총연체금액</th>\n      <th>연체계좌수</th>\n      <th>...</th>\n      <th>대출목적_7</th>\n      <th>대출목적_8</th>\n      <th>대출목적_9</th>\n      <th>대출목적_10</th>\n      <th>대출목적_11</th>\n      <th>근로기간_0.0</th>\n      <th>근로기간_1.0</th>\n      <th>근로기간_2.0</th>\n      <th>근로기간_3.0</th>\n      <th>근로기간_4.0</th>\n    </tr>\n  </thead>\n  <tbody>\n    <tr>\n      <th>0</th>\n      <td>0.382353</td>\n      <td>0.0</td>\n      <td>0.412384</td>\n      <td>0.625685</td>\n      <td>0.270962</td>\n      <td>0.000000</td>\n      <td>0.734148</td>\n      <td>0.777806</td>\n      <td>0.0</td>\n      <td>0.0</td>\n      <td>...</td>\n      <td>0.0</td>\n      <td>0.0</td>\n      <td>0.0</td>\n      <td>0.0</td>\n      <td>1.0</td>\n      <td>0.0</td>\n      <td>0.0</td>\n      <td>0.0</td>\n      <td>1.0</td>\n      <td>0.0</td>\n    </tr>\n    <tr>\n      <th>1</th>\n      <td>0.176471</td>\n      <td>0.0</td>\n      <td>0.361245</td>\n      <td>0.583630</td>\n      <td>0.467524</td>\n      <td>0.000000</td>\n      <td>0.000000</td>\n      <td>0.000000</td>\n      <td>0.0</td>\n      <td>0.0</td>\n      <td>...</td>\n      <td>0.0</td>\n      <td>0.0</td>\n      <td>0.0</td>\n      <td>0.0</td>\n      <td>0.0</td>\n      <td>0.0</td>\n      <td>0.0</td>\n      <td>1.0</td>\n      <td>0.0</td>\n      <td>0.0</td>\n    </tr>\n    <tr>\n      <th>2</th>\n      <td>0.394118</td>\n      <td>0.0</td>\n      <td>0.429439</td>\n      <td>0.463342</td>\n      <td>0.406959</td>\n      <td>0.000000</td>\n      <td>0.820188</td>\n      <td>0.820538</td>\n      <td>0.0</td>\n      <td>0.0</td>\n      <td>...</td>\n      <td>0.0</td>\n      <td>0.0</td>\n      <td>0.0</td>\n      <td>0.0</td>\n      <td>0.0</td>\n      <td>0.0</td>\n      <td>0.0</td>\n      <td>0.0</td>\n      <td>1.0</td>\n      <td>0.0</td>\n    </tr>\n    <tr>\n      <th>3</th>\n      <td>0.323529</td>\n      <td>0.0</td>\n      <td>0.319910</td>\n      <td>0.555821</td>\n      <td>0.517403</td>\n      <td>0.278943</td>\n      <td>0.764214</td>\n      <td>0.820516</td>\n      <td>0.0</td>\n      <td>0.0</td>\n      <td>...</td>\n      <td>0.0</td>\n      <td>0.0</td>\n      <td>0.0</td>\n      <td>0.0</td>\n      <td>0.0</td>\n      <td>0.0</td>\n      <td>0.0</td>\n      <td>1.0</td>\n      <td>0.0</td>\n      <td>0.0</td>\n    </tr>\n    <tr>\n      <th>4</th>\n      <td>0.647059</td>\n      <td>0.0</td>\n      <td>0.296070</td>\n      <td>0.713063</td>\n      <td>0.270962</td>\n      <td>0.000000</td>\n      <td>0.799829</td>\n      <td>0.871546</td>\n      <td>0.0</td>\n      <td>0.0</td>\n      <td>...</td>\n      <td>0.0</td>\n      <td>0.0</td>\n      <td>0.0</td>\n      <td>0.0</td>\n      <td>0.0</td>\n      <td>0.0</td>\n      <td>0.0</td>\n      <td>1.0</td>\n      <td>0.0</td>\n      <td>0.0</td>\n    </tr>\n    <tr>\n      <th>...</th>\n      <td>...</td>\n      <td>...</td>\n      <td>...</td>\n      <td>...</td>\n      <td>...</td>\n      <td>...</td>\n      <td>...</td>\n      <td>...</td>\n      <td>...</td>\n      <td>...</td>\n      <td>...</td>\n      <td>...</td>\n      <td>...</td>\n      <td>...</td>\n      <td>...</td>\n      <td>...</td>\n      <td>...</td>\n      <td>...</td>\n      <td>...</td>\n      <td>...</td>\n      <td>...</td>\n    </tr>\n    <tr>\n      <th>64192</th>\n      <td>0.705882</td>\n      <td>0.0</td>\n      <td>0.342197</td>\n      <td>0.648779</td>\n      <td>0.488540</td>\n      <td>0.442114</td>\n      <td>0.802390</td>\n      <td>0.885695</td>\n      <td>0.0</td>\n      <td>0.0</td>\n      <td>...</td>\n      <td>0.0</td>\n      <td>0.0</td>\n      <td>0.0</td>\n      <td>0.0</td>\n      <td>0.0</td>\n      <td>0.0</td>\n      <td>0.0</td>\n      <td>1.0</td>\n      <td>0.0</td>\n      <td>0.0</td>\n    </tr>\n    <tr>\n      <th>64193</th>\n      <td>0.705882</td>\n      <td>1.0</td>\n      <td>0.387086</td>\n      <td>0.531090</td>\n      <td>0.478226</td>\n      <td>0.000000</td>\n      <td>0.784824</td>\n      <td>0.917691</td>\n      <td>0.0</td>\n      <td>0.0</td>\n      <td>...</td>\n      <td>0.0</td>\n      <td>0.0</td>\n      <td>0.0</td>\n      <td>0.0</td>\n      <td>0.0</td>\n      <td>0.0</td>\n      <td>0.0</td>\n      <td>0.0</td>\n      <td>0.0</td>\n      <td>1.0</td>\n    </tr>\n    <tr>\n      <th>64194</th>\n      <td>0.120588</td>\n      <td>0.0</td>\n      <td>0.251759</td>\n      <td>0.701596</td>\n      <td>0.543598</td>\n      <td>0.000000</td>\n      <td>0.671538</td>\n      <td>0.738917</td>\n      <td>0.0</td>\n      <td>0.0</td>\n      <td>...</td>\n      <td>0.0</td>\n      <td>0.0</td>\n      <td>0.0</td>\n      <td>0.0</td>\n      <td>0.0</td>\n      <td>0.0</td>\n      <td>0.0</td>\n      <td>0.0</td>\n      <td>0.0</td>\n      <td>1.0</td>\n    </tr>\n    <tr>\n      <th>64195</th>\n      <td>0.252941</td>\n      <td>0.0</td>\n      <td>0.319910</td>\n      <td>0.676870</td>\n      <td>0.603521</td>\n      <td>0.278943</td>\n      <td>0.803768</td>\n      <td>0.870152</td>\n      <td>0.0</td>\n      <td>0.0</td>\n      <td>...</td>\n      <td>0.0</td>\n      <td>0.0</td>\n      <td>0.0</td>\n      <td>0.0</td>\n      <td>0.0</td>\n      <td>0.0</td>\n      <td>0.0</td>\n      <td>0.0</td>\n      <td>0.0</td>\n      <td>1.0</td>\n    </tr>\n    <tr>\n      <th>64196</th>\n      <td>0.117647</td>\n      <td>0.0</td>\n      <td>0.453763</td>\n      <td>0.477353</td>\n      <td>0.223590</td>\n      <td>0.000000</td>\n      <td>0.720181</td>\n      <td>0.706095</td>\n      <td>0.0</td>\n      <td>0.0</td>\n      <td>...</td>\n      <td>0.0</td>\n      <td>0.0</td>\n      <td>0.0</td>\n      <td>0.0</td>\n      <td>0.0</td>\n      <td>0.0</td>\n      <td>0.0</td>\n      <td>0.0</td>\n      <td>1.0</td>\n      <td>0.0</td>\n    </tr>\n  </tbody>\n</table>\n<p>64197 rows × 31 columns</p>\n</div>"
     },
     "execution_count": 293,
     "metadata": {},
     "output_type": "execute_result"
    }
   ],
   "source": [
    "test"
   ],
   "metadata": {
    "collapsed": false,
    "ExecuteTime": {
     "end_time": "2024-01-17T06:29:01.693876100Z",
     "start_time": "2024-01-17T06:29:01.635034100Z"
    }
   },
   "id": "c19be4d076cd0747"
  },
  {
   "cell_type": "code",
   "execution_count": 305,
   "outputs": [],
   "source": [
    "train_x = train.drop('대출등급', axis=1)\n",
    "train_y = train['대출등급']\n",
    "test_x = test\n",
    "\n",
    "# 데이터 분할\n",
    "X_train, X_test, y_train, y_test = train_test_split(train_x, train_y, test_size=0.2, random_state=43)"
   ],
   "metadata": {
    "collapsed": false,
    "ExecuteTime": {
     "end_time": "2024-01-17T06:35:35.674618800Z",
     "start_time": "2024-01-17T06:35:35.611784300Z"
    }
   },
   "id": "4c4d446953f918b3"
  },
  {
   "cell_type": "code",
   "execution_count": 306,
   "outputs": [],
   "source": [
    "from torch.utils.data import TensorDataset, DataLoader\n",
    "\n",
    "# X_train, X_test, y_train, y_test를 PyTorch Tensor로 변환\n",
    "X_train_tensor = torch.tensor(X_train.values, dtype=torch.float32)\n",
    "y_train_tensor = torch.tensor(y_train.values, dtype=torch.long)\n",
    "X_test_tensor = torch.tensor(X_test.values, dtype=torch.float32)\n",
    "y_test_tensor = torch.tensor(y_test.values, dtype=torch.long)\n",
    "real_test_tensor = torch.tensor(test_x.values, dtype=torch.float32)\n",
    "\n",
    "# TensorDataset과 DataLoader 생성\n",
    "train_dataset = TensorDataset(X_train_tensor, y_train_tensor)\n",
    "train_loader = DataLoader(train_dataset, batch_size=1024, shuffle=True)\n",
    "\n",
    "test_dataset = TensorDataset(X_test_tensor, y_test_tensor)\n",
    "test_loader = DataLoader(test_dataset, batch_size=1024, shuffle=False)\n",
    "\n",
    "real_test_dataset = TensorDataset(real_test_tensor)\n",
    "real_test_loader = DataLoader(real_test_dataset, batch_size=1024, shuffle=False)"
   ],
   "metadata": {
    "collapsed": false,
    "ExecuteTime": {
     "end_time": "2024-01-17T06:35:36.051064700Z",
     "start_time": "2024-01-17T06:35:36.016158300Z"
    }
   },
   "id": "8e5718231cf5831c"
  },
  {
   "cell_type": "code",
   "execution_count": 324,
   "outputs": [],
   "source": [
    "class NeuralNet(nn.Module):\n",
    "    def __init__(self):\n",
    "        super(NeuralNet, self).__init__()\n",
    "        self.layer1 = nn.Linear(X_train.shape[1], 128)  # 첫 번째 레이어\n",
    "        self.bn1 = nn.BatchNorm1d(128)  # 첫 번째 레이어의 배치 정규화\n",
    "        self.layer2 = nn.Linear(128, 256)  # 두 번째 레이어\n",
    "        self.bn2 = nn.BatchNorm1d(256)  # 두 번째 레이어의 배치 정규화\n",
    "        self.layer3 = nn.Linear(256, 128)  # 세 번째 레이어\n",
    "        self.bn3 = nn.BatchNorm1d(128)  # 세 번째 레이어의 배치 정규화\n",
    "        self.output_layer = nn.Linear(128, 7)  # 출력 레이어: 7개 클래스에 대한 출력\n",
    "\n",
    "    def forward(self, x):\n",
    "        x = torch.relu(self.bn1(self.layer1(x)))  # 첫 번째 레이어 + 활성화 함수 + 배치 정규화\n",
    "        x = torch.relu(self.bn2(self.layer2(x)))  # 두 번째 레이어 + 활성화 함수 + 배치 정규화\n",
    "        x = torch.relu(self.bn3(self.layer3(x)))  # 세 번째 레이어 + 활성화 함수 + 배치 정규화\n",
    "        x = self.output_layer(x)  # 출력 레이어\n",
    "        return x\n",
    "    \n",
    "def get_lr(opt):\n",
    "    for param_group in opt.param_groups:\n",
    "        return param_group['lr']\n",
    "    \n",
    "# 모델, 손실 함수, 옵티마이저 초기화\n",
    "model = NeuralNet()\n",
    "model = model.to(device)\n",
    "criterion = nn.CrossEntropyLoss()"
   ],
   "metadata": {
    "collapsed": false,
    "ExecuteTime": {
     "end_time": "2024-01-17T07:40:26.413211100Z",
     "start_time": "2024-01-17T07:40:26.375291300Z"
    }
   },
   "id": "bc6d48cac985946"
  },
  {
   "cell_type": "code",
   "execution_count": 325,
   "outputs": [
    {
     "name": "stdout",
     "output_type": "stream",
     "text": [
      "Epoch 1/100, current lr=0.003\n",
      "Epoch 1/100, Loss: 0.9830, Validation Accuracy: 32.64%, F1 Macro: 0.1809\n",
      "Model saved at epoch 1\n",
      "Epoch 2/100, current lr=0.0027600000000000003\n",
      "Epoch 2/100, Loss: 0.7839, Validation Accuracy: 48.29%, F1 Macro: 0.3151\n",
      "Model saved at epoch 2\n",
      "Epoch 3/100, current lr=0.0025392000000000006\n",
      "Epoch 3/100, Loss: 0.5517, Validation Accuracy: 69.05%, F1 Macro: 0.5765\n",
      "Model saved at epoch 3\n",
      "Epoch 4/100, current lr=0.0023360640000000005\n",
      "Epoch 4/100, Loss: 0.8472, Validation Accuracy: 76.47%, F1 Macro: 0.6142\n",
      "Model saved at epoch 4\n",
      "Epoch 5/100, current lr=0.0021491788800000007\n",
      "Epoch 5/100, Loss: 0.6048, Validation Accuracy: 65.53%, F1 Macro: 0.5745\n",
      "Epoch 6/100, current lr=0.001977244569600001\n",
      "Epoch 6/100, Loss: 0.6307, Validation Accuracy: 74.60%, F1 Macro: 0.6205\n",
      "Model saved at epoch 6\n",
      "Epoch 7/100, current lr=0.0018190650040320008\n",
      "Epoch 7/100, Loss: 0.6576, Validation Accuracy: 64.49%, F1 Macro: 0.4899\n",
      "Epoch 8/100, current lr=0.0016735398037094407\n",
      "Epoch 8/100, Loss: 0.5511, Validation Accuracy: 73.57%, F1 Macro: 0.6815\n",
      "Model saved at epoch 8\n",
      "Epoch 9/100, current lr=0.0015396566194126856\n",
      "Epoch 9/100, Loss: 0.5867, Validation Accuracy: 79.18%, F1 Macro: 0.6800\n",
      "Epoch 10/100, current lr=0.0014164840898596707\n",
      "Epoch 10/100, Loss: 0.5564, Validation Accuracy: 76.41%, F1 Macro: 0.7210\n",
      "Model saved at epoch 10\n",
      "Epoch 11/100, current lr=0.001303165362670897\n",
      "Epoch 11/100, Loss: 0.8038, Validation Accuracy: 79.72%, F1 Macro: 0.7351\n",
      "Model saved at epoch 11\n",
      "Epoch 12/100, current lr=0.0011989121336572254\n",
      "Epoch 12/100, Loss: 0.7633, Validation Accuracy: 69.11%, F1 Macro: 0.6508\n",
      "Epoch 13/100, current lr=0.0011029991629646473\n",
      "Epoch 13/100, Loss: 0.6976, Validation Accuracy: 78.92%, F1 Macro: 0.6543\n",
      "Epoch 14/100, current lr=0.0010147592299274756\n",
      "Epoch 14/100, Loss: 0.5238, Validation Accuracy: 77.25%, F1 Macro: 0.7090\n",
      "Epoch 15/100, current lr=0.0009335784915332775\n",
      "Epoch 15/100, Loss: 0.6370, Validation Accuracy: 81.37%, F1 Macro: 0.7512\n",
      "Model saved at epoch 15\n",
      "Epoch 16/100, current lr=0.0008588922122106154\n",
      "Epoch 16/100, Loss: 0.4602, Validation Accuracy: 78.80%, F1 Macro: 0.6851\n",
      "Epoch 17/100, current lr=0.0007901808352337662\n",
      "Epoch 17/100, Loss: 0.5125, Validation Accuracy: 75.25%, F1 Macro: 0.7168\n",
      "Epoch 18/100, current lr=0.000726966368415065\n",
      "Epoch 18/100, Loss: 0.6890, Validation Accuracy: 82.22%, F1 Macro: 0.7618\n",
      "Model saved at epoch 18\n",
      "Epoch 19/100, current lr=0.0006688090589418598\n",
      "Epoch 19/100, Loss: 0.5397, Validation Accuracy: 74.41%, F1 Macro: 0.6551\n",
      "Epoch 20/100, current lr=0.000615304334226511\n",
      "Epoch 20/100, Loss: 0.4327, Validation Accuracy: 80.61%, F1 Macro: 0.7542\n",
      "Epoch 21/100, current lr=0.0005660799874883901\n",
      "Epoch 21/100, Loss: 0.9824, Validation Accuracy: 81.61%, F1 Macro: 0.7692\n",
      "Model saved at epoch 21\n",
      "Epoch 22/100, current lr=0.000520793588489319\n",
      "Epoch 22/100, Loss: 0.6682, Validation Accuracy: 79.06%, F1 Macro: 0.7079\n",
      "Epoch 23/100, current lr=0.0004791301014101735\n",
      "Epoch 23/100, Loss: 0.4586, Validation Accuracy: 81.70%, F1 Macro: 0.7246\n",
      "Epoch 24/100, current lr=0.0004407996932973596\n",
      "Epoch 24/100, Loss: 0.3925, Validation Accuracy: 81.99%, F1 Macro: 0.7394\n",
      "Epoch 25/100, current lr=0.00040553571783357085\n",
      "Epoch 25/100, Loss: 0.5778, Validation Accuracy: 80.39%, F1 Macro: 0.7151\n",
      "Epoch 26/100, current lr=0.0003730928604068852\n",
      "Epoch 26/100, Loss: 0.5166, Validation Accuracy: 81.64%, F1 Macro: 0.7307\n",
      "Epoch 27/100, current lr=0.0003432454315743344\n",
      "Epoch 27/100, Loss: 0.4210, Validation Accuracy: 76.66%, F1 Macro: 0.7259\n",
      "Epoch 28/100, current lr=0.0003157857970483877\n",
      "Epoch 28/100, Loss: 0.6437, Validation Accuracy: 82.53%, F1 Macro: 0.7514\n",
      "Epoch 29/100, current lr=0.0002905229332845167\n",
      "Epoch 29/100, Loss: 0.4685, Validation Accuracy: 82.91%, F1 Macro: 0.7813\n",
      "Model saved at epoch 29\n",
      "Epoch 30/100, current lr=0.00026728109862175537\n",
      "Epoch 30/100, Loss: 0.4695, Validation Accuracy: 82.90%, F1 Macro: 0.7674\n",
      "Epoch 31/100, current lr=0.00024589861073201496\n",
      "Epoch 31/100, Loss: 0.6270, Validation Accuracy: 82.34%, F1 Macro: 0.7374\n",
      "Epoch 32/100, current lr=0.00022622672187345378\n",
      "Epoch 32/100, Loss: 0.3334, Validation Accuracy: 82.92%, F1 Macro: 0.7693\n",
      "Epoch 33/100, current lr=0.0002081285841235775\n",
      "Epoch 33/100, Loss: 0.7541, Validation Accuracy: 83.04%, F1 Macro: 0.7757\n",
      "Epoch 34/100, current lr=0.0001914782973936913\n",
      "Epoch 34/100, Loss: 0.6920, Validation Accuracy: 82.97%, F1 Macro: 0.7722\n",
      "Epoch 35/100, current lr=0.000176160033602196\n",
      "Epoch 35/100, Loss: 0.3299, Validation Accuracy: 83.37%, F1 Macro: 0.7809\n",
      "Epoch 36/100, current lr=0.00016206723091402033\n",
      "Epoch 36/100, Loss: 0.4248, Validation Accuracy: 83.44%, F1 Macro: 0.7787\n",
      "Epoch 37/100, current lr=0.00014910185244089872\n",
      "Epoch 37/100, Loss: 0.3517, Validation Accuracy: 83.37%, F1 Macro: 0.7813\n",
      "Epoch 38/100, current lr=0.00013717370424562683\n",
      "Epoch 38/100, Loss: 0.7367, Validation Accuracy: 83.21%, F1 Macro: 0.7865\n",
      "Model saved at epoch 38\n",
      "Epoch 39/100, current lr=0.0001261998079059767\n",
      "Epoch 39/100, Loss: 0.8219, Validation Accuracy: 83.37%, F1 Macro: 0.7886\n",
      "Model saved at epoch 39\n",
      "Epoch 40/100, current lr=0.00011610382327349856\n",
      "Epoch 40/100, Loss: 0.3932, Validation Accuracy: 82.74%, F1 Macro: 0.7641\n",
      "Epoch 41/100, current lr=0.00010681551741161869\n",
      "Epoch 41/100, Loss: 0.5007, Validation Accuracy: 83.33%, F1 Macro: 0.7712\n",
      "Epoch 42/100, current lr=9.82702760186892e-05\n",
      "Epoch 42/100, Loss: 0.6615, Validation Accuracy: 83.47%, F1 Macro: 0.7830\n",
      "Epoch 43/100, current lr=9.040865393719406e-05\n",
      "Epoch 43/100, Loss: 0.6207, Validation Accuracy: 83.29%, F1 Macro: 0.7792\n",
      "Epoch 44/100, current lr=8.317596162221854e-05\n",
      "Epoch 44/100, Loss: 0.3384, Validation Accuracy: 83.19%, F1 Macro: 0.7758\n",
      "Epoch 45/100, current lr=7.652188469244106e-05\n",
      "Epoch 45/100, Loss: 0.4769, Validation Accuracy: 83.15%, F1 Macro: 0.7725\n",
      "Epoch 46/100, current lr=7.040013391704578e-05\n",
      "Epoch 46/100, Loss: 0.4179, Validation Accuracy: 83.27%, F1 Macro: 0.7819\n",
      "Epoch 47/100, current lr=6.476812320368212e-05\n",
      "Epoch 47/100, Loss: 0.9233, Validation Accuracy: 82.31%, F1 Macro: 0.7536\n",
      "Epoch 48/100, current lr=5.9586673347387554e-05\n",
      "Epoch 48/100, Loss: 0.6010, Validation Accuracy: 82.90%, F1 Macro: 0.7675\n",
      "Epoch 49/100, current lr=5.481973947959655e-05\n",
      "Epoch 49/100, Loss: 1.1415, Validation Accuracy: 83.11%, F1 Macro: 0.7715\n",
      "Epoch 50/100, current lr=5.043416032122883e-05\n",
      "Epoch 50/100, Loss: 0.6668, Validation Accuracy: 83.22%, F1 Macro: 0.7813\n",
      "Epoch 51/100, current lr=4.6399427495530526e-05\n",
      "Epoch 51/100, Loss: 0.9294, Validation Accuracy: 82.95%, F1 Macro: 0.7616\n",
      "Epoch 52/100, current lr=4.2687473295888084e-05\n",
      "Epoch 52/100, Loss: 0.9630, Validation Accuracy: 83.40%, F1 Macro: 0.7844\n",
      "Epoch 53/100, current lr=3.927247543221704e-05\n",
      "Epoch 53/100, Loss: 1.5355, Validation Accuracy: 82.63%, F1 Macro: 0.7498\n",
      "Epoch 54/100, current lr=3.613067739763968e-05\n",
      "Epoch 54/100, Loss: 0.3918, Validation Accuracy: 83.16%, F1 Macro: 0.7718\n",
      "Epoch 55/100, current lr=3.324022320582851e-05\n",
      "Epoch 55/100, Loss: 0.7098, Validation Accuracy: 83.49%, F1 Macro: 0.7812\n",
      "Epoch 56/100, current lr=3.058100534936223e-05\n",
      "Epoch 56/100, Loss: 0.5851, Validation Accuracy: 83.44%, F1 Macro: 0.7744\n",
      "Epoch 57/100, current lr=2.813452492141325e-05\n",
      "Epoch 57/100, Loss: 0.5774, Validation Accuracy: 83.33%, F1 Macro: 0.7823\n",
      "Epoch 58/100, current lr=2.588376292770019e-05\n",
      "Epoch 58/100, Loss: 0.5657, Validation Accuracy: 83.32%, F1 Macro: 0.7800\n",
      "Epoch 59/100, current lr=2.3813061893484177e-05\n",
      "Epoch 59/100, Loss: 0.7878, Validation Accuracy: 83.05%, F1 Macro: 0.7616\n",
      "Early stopping triggered at epoch 59\n"
     ]
    }
   ],
   "source": [
    "# optimizer = optim.Adam(model.parameters(), lr=0.003)\n",
    "optimizer = optim.AdamW(model.parameters(), lr=0.003, weight_decay=0.01)\n",
    "lr_scheduler = StepLR(optimizer, step_size=1, gamma=0.92)\n",
    "\n",
    "# 학습 및 검증 과정\n",
    "# Early stopping을 위한 설정\n",
    "patience = 20  # 성능 개선이 없는 에포크 수\n",
    "best_f1 = 0.0\n",
    "counter = 0\n",
    "num_epochs = 100  # 에포크 수 설정\n",
    "for epoch in range(num_epochs):\n",
    "    # 학습 과정\n",
    "    current_lr = get_lr(optimizer)\n",
    "    print('Epoch {}/{}, current lr={}'.format(epoch+1,num_epochs, current_lr))\n",
    "    model.train()\n",
    "    for inputs, targets in train_loader:\n",
    "        inputs, targets = inputs.to(device), targets.to(device)  # 데이터를 GPU로 이동\n",
    "        optimizer.zero_grad()\n",
    "        outputs = model(inputs)\n",
    "        loss = criterion(outputs, targets)\n",
    "        loss.backward()\n",
    "        optimizer.step()\n",
    "    lr_scheduler.step()\n",
    "\n",
    "    # 검증 과정\n",
    "    model.eval()\n",
    "    total = 0\n",
    "    correct = 0\n",
    "    all_predicted = []\n",
    "    all_targets = []\n",
    "    with torch.no_grad():\n",
    "        for inputs, targets in test_loader:\n",
    "            inputs, targets = inputs.to(device), targets.to(device)\n",
    "            outputs = model(inputs)\n",
    "            _, predicted = torch.max(outputs.data, 1)\n",
    "            total += targets.size(0)\n",
    "            correct += (predicted == targets).sum().item()\n",
    "            all_predicted.extend(predicted.cpu().numpy())\n",
    "            all_targets.extend(targets.cpu().numpy())\n",
    "\n",
    "    accuracy = 100 * correct / total\n",
    "    f1_macro = f1_score(all_targets, all_predicted, average='macro')\n",
    "    print(f'Epoch {epoch+1}/{num_epochs}, Loss: {loss.item():.4f}, Validation Accuracy: {accuracy:.2f}%, F1 Macro: {f1_macro:.4f}')\n",
    "\n",
    "    # Early stopping 체크\n",
    "    if f1_macro > best_f1:\n",
    "        best_f1 = f1_macro\n",
    "        counter = 0\n",
    "        torch.save(model.state_dict(), '../data/best_weight.pth')  # 모델 가중치 저장\n",
    "        print(f'Model saved at epoch {epoch+1}')\n",
    "    else:\n",
    "        counter += 1\n",
    "        if counter >= patience:\n",
    "            print(f'Early stopping triggered at epoch {epoch+1}')\n",
    "            break"
   ],
   "metadata": {
    "collapsed": false,
    "ExecuteTime": {
     "end_time": "2024-01-17T07:41:30.246268800Z",
     "start_time": "2024-01-17T07:40:28.176513200Z"
    }
   },
   "id": "deb1340c6c2ecb29"
  },
  {
   "cell_type": "code",
   "execution_count": 325,
   "outputs": [],
   "source": [],
   "metadata": {
    "collapsed": false,
    "ExecuteTime": {
     "end_time": "2024-01-17T07:41:37.024152200Z",
     "start_time": "2024-01-17T07:41:36.992342900Z"
    }
   },
   "id": "64f9d75dc9710964"
  },
  {
   "cell_type": "markdown",
   "source": [
    "# Prediciton"
   ],
   "metadata": {
    "collapsed": false
   },
   "id": "c7501f1c50b16e1a"
  },
  {
   "cell_type": "code",
   "execution_count": 326,
   "outputs": [
    {
     "data": {
      "text/plain": "<All keys matched successfully>"
     },
     "execution_count": 326,
     "metadata": {},
     "output_type": "execute_result"
    }
   ],
   "source": [
    "model.load_state_dict(torch.load('../data/best_weight.pth'))"
   ],
   "metadata": {
    "collapsed": false,
    "ExecuteTime": {
     "end_time": "2024-01-17T07:41:38.140563700Z",
     "start_time": "2024-01-17T07:41:38.115630400Z"
    }
   },
   "id": "be75e14ed67ec1d7"
  },
  {
   "cell_type": "code",
   "execution_count": 326,
   "outputs": [],
   "source": [],
   "metadata": {
    "collapsed": false,
    "ExecuteTime": {
     "end_time": "2024-01-17T07:41:39.144991200Z",
     "start_time": "2024-01-17T07:41:39.115924400Z"
    }
   },
   "id": "9fd679f0116effc4"
  },
  {
   "cell_type": "code",
   "execution_count": 327,
   "outputs": [],
   "source": [
    "model.eval()  # 모델을 평가 모드로 설정\n",
    "predictions = []\n",
    "\n",
    "with torch.no_grad():\n",
    "    for inputs in real_test_loader:  # 레이블 데이터 없음\n",
    "        inputs = inputs[0].to(device)  # 첫 번째 원소가 입력 데이터\n",
    "        outputs = model(inputs)\n",
    "        _, predicted = torch.max(outputs, 1)\n",
    "        predictions.extend(predicted.cpu().numpy())"
   ],
   "metadata": {
    "collapsed": false,
    "ExecuteTime": {
     "end_time": "2024-01-17T07:41:40.060874500Z",
     "start_time": "2024-01-17T07:41:39.531352800Z"
    }
   },
   "id": "72475d4180dd7f6d"
  },
  {
   "cell_type": "code",
   "execution_count": 328,
   "outputs": [],
   "source": [
    "pred_final = np.array(predictions)"
   ],
   "metadata": {
    "collapsed": false,
    "ExecuteTime": {
     "end_time": "2024-01-17T07:41:40.060874500Z",
     "start_time": "2024-01-17T07:41:40.044917Z"
    }
   },
   "id": "f9c7f08edf06d1a9"
  },
  {
   "cell_type": "code",
   "execution_count": 329,
   "outputs": [],
   "source": [
    "submit = pd.DataFrame({\n",
    "    'ID': sample_submission_id,\n",
    "    '대출등급': pred_final.flatten()\n",
    "})"
   ],
   "metadata": {
    "collapsed": false,
    "ExecuteTime": {
     "end_time": "2024-01-17T07:41:40.085807300Z",
     "start_time": "2024-01-17T07:41:40.057882400Z"
    }
   },
   "id": "37dfc896498e09c1"
  },
  {
   "cell_type": "code",
   "execution_count": 330,
   "outputs": [
    {
     "data": {
      "text/plain": "               ID  대출등급\n0      TEST_00000     2\n1      TEST_00001     4\n2      TEST_00002     0\n3      TEST_00003     0\n4      TEST_00004     2\n...           ...   ...\n64192  TEST_64192     1\n64193  TEST_64193     2\n64194  TEST_64194     3\n64195  TEST_64195     1\n64196  TEST_64196     0\n\n[64197 rows x 2 columns]",
      "text/html": "<div>\n<style scoped>\n    .dataframe tbody tr th:only-of-type {\n        vertical-align: middle;\n    }\n\n    .dataframe tbody tr th {\n        vertical-align: top;\n    }\n\n    .dataframe thead th {\n        text-align: right;\n    }\n</style>\n<table border=\"1\" class=\"dataframe\">\n  <thead>\n    <tr style=\"text-align: right;\">\n      <th></th>\n      <th>ID</th>\n      <th>대출등급</th>\n    </tr>\n  </thead>\n  <tbody>\n    <tr>\n      <th>0</th>\n      <td>TEST_00000</td>\n      <td>2</td>\n    </tr>\n    <tr>\n      <th>1</th>\n      <td>TEST_00001</td>\n      <td>4</td>\n    </tr>\n    <tr>\n      <th>2</th>\n      <td>TEST_00002</td>\n      <td>0</td>\n    </tr>\n    <tr>\n      <th>3</th>\n      <td>TEST_00003</td>\n      <td>0</td>\n    </tr>\n    <tr>\n      <th>4</th>\n      <td>TEST_00004</td>\n      <td>2</td>\n    </tr>\n    <tr>\n      <th>...</th>\n      <td>...</td>\n      <td>...</td>\n    </tr>\n    <tr>\n      <th>64192</th>\n      <td>TEST_64192</td>\n      <td>1</td>\n    </tr>\n    <tr>\n      <th>64193</th>\n      <td>TEST_64193</td>\n      <td>2</td>\n    </tr>\n    <tr>\n      <th>64194</th>\n      <td>TEST_64194</td>\n      <td>3</td>\n    </tr>\n    <tr>\n      <th>64195</th>\n      <td>TEST_64195</td>\n      <td>1</td>\n    </tr>\n    <tr>\n      <th>64196</th>\n      <td>TEST_64196</td>\n      <td>0</td>\n    </tr>\n  </tbody>\n</table>\n<p>64197 rows × 2 columns</p>\n</div>"
     },
     "execution_count": 330,
     "metadata": {},
     "output_type": "execute_result"
    }
   ],
   "source": [
    "submit"
   ],
   "metadata": {
    "collapsed": false,
    "ExecuteTime": {
     "end_time": "2024-01-17T07:41:40.577420500Z",
     "start_time": "2024-01-17T07:41:40.538353700Z"
    }
   },
   "id": "5ab3b600dd9e2913"
  },
  {
   "cell_type": "code",
   "execution_count": 331,
   "outputs": [],
   "source": [
    "# 숫자를 문자로 매핑할 딕셔너리를 생성합니다.\n",
    "num_to_letter = {0: 'A', 1: 'B', 2: 'C', 3: 'D', 4: 'E', 5: 'F', 6: 'G'}\n",
    "\n",
    "# '대출등급' 컬럼에 map 함수를 적용하여 숫자를 문자로 변환합니다.\n",
    "submit['대출등급'] = submit['대출등급'].map(num_to_letter)"
   ],
   "metadata": {
    "collapsed": false,
    "ExecuteTime": {
     "end_time": "2024-01-17T07:41:43.245721600Z",
     "start_time": "2024-01-17T07:41:43.217797100Z"
    }
   },
   "id": "5992a4ced836671f"
  },
  {
   "cell_type": "code",
   "execution_count": 332,
   "outputs": [],
   "source": [
    "submit.to_csv(\"../submission/test5_deep.csv\", index = False)"
   ],
   "metadata": {
    "collapsed": false,
    "ExecuteTime": {
     "end_time": "2024-01-17T07:41:44.348897100Z",
     "start_time": "2024-01-17T07:41:44.264086500Z"
    }
   },
   "id": "28bdbae124063a01"
  },
  {
   "cell_type": "code",
   "execution_count": null,
   "outputs": [],
   "source": [],
   "metadata": {
    "collapsed": false
   },
   "id": "85796c8dc4a99f70"
  }
 ],
 "metadata": {
  "kernelspec": {
   "display_name": "Python 3",
   "language": "python",
   "name": "python3"
  },
  "language_info": {
   "codemirror_mode": {
    "name": "ipython",
    "version": 2
   },
   "file_extension": ".py",
   "mimetype": "text/x-python",
   "name": "python",
   "nbconvert_exporter": "python",
   "pygments_lexer": "ipython2",
   "version": "2.7.6"
  }
 },
 "nbformat": 4,
 "nbformat_minor": 5
}

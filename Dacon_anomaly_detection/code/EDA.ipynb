{
 "cells": [
  {
   "cell_type": "code",
   "execution_count": 1,
   "outputs": [
    {
     "name": "stdout",
     "output_type": "stream",
     "text": [
      "cuda:0\n"
     ]
    }
   ],
   "source": [
    "import torch\n",
    "device = torch.device('cuda:0' if torch.cuda.is_available() else 'cpu')\n",
    "\n",
    "print(device)"
   ],
   "metadata": {
    "collapsed": false,
    "ExecuteTime": {
     "end_time": "2024-02-19T02:23:14.636916400Z",
     "start_time": "2024-02-19T02:23:11.393283200Z"
    }
   },
   "id": "e8899d492dada60f"
  },
  {
   "cell_type": "code",
   "execution_count": 8,
   "id": "initial_id",
   "metadata": {
    "collapsed": true,
    "ExecuteTime": {
     "end_time": "2024-02-19T02:24:03.153660700Z",
     "start_time": "2024-02-19T02:24:03.138702800Z"
    }
   },
   "outputs": [],
   "source": [
    "import pandas as pd\n",
    "import numpy as np\n",
    "import torch\n",
    "from torchvision import models, transforms\n",
    "from torch.utils.data import DataLoader, Dataset\n",
    "from PIL import Image\n",
    "from sklearn.ensemble import IsolationForest\n",
    "from tqdm import tqdm\n",
    "import torch.optim as optim\n",
    "\n",
    "\n",
    "# GPU 사용 설정\n",
    "device = torch.device(\"cuda\" if torch.cuda.is_available() else \"cpu\")\n",
    "\n",
    "import torch.nn as nn"
   ]
  },
  {
   "cell_type": "code",
   "execution_count": 47,
   "outputs": [],
   "source": [
    "# 데이터 로딩 클래스 정의\n",
    "class CustomDataset(Dataset):\n",
    "    def __init__(self, csv_file, transform=None):\n",
    "        \"\"\"\n",
    "        Args:\n",
    "            csv_file (string): csv 파일의 경로.\n",
    "            transform (callable, optional): 샘플에 적용될 Optional transform.\n",
    "        \"\"\"\n",
    "        self.df = pd.read_csv(csv_file)\n",
    "        self.transform = transform\n",
    "\n",
    "    def __len__(self):\n",
    "        return len(self.df)\n",
    "\n",
    "    def __getitem__(self, idx):\n",
    "        img_path = self.df['img_path'].iloc[idx]\n",
    "        image = Image.open(img_path)\n",
    "        if self.transform:\n",
    "            image = self.transform(image)\n",
    "        return image\n",
    "\n",
    "# 이미지 전처리 및 임베딩\n",
    "transform = transforms.Compose([\n",
    "    transforms.Resize((224, 224)),\n",
    "    transforms.ToTensor(),\n",
    "    transforms.Normalize(mean=[0.485, 0.456, 0.406], std=[0.229, 0.224, 0.225]),\n",
    "])\n",
    "\n",
    "train_data = CustomDataset(csv_file='../data/train.csv', transform=transform)\n",
    "train_loader = DataLoader(train_data, batch_size=16, shuffle=False)"
   ],
   "metadata": {
    "collapsed": false,
    "ExecuteTime": {
     "end_time": "2024-02-19T02:51:39.341792800Z",
     "start_time": "2024-02-19T02:51:39.323839500Z"
    }
   },
   "id": "4ba2e7d7842656c5"
  },
  {
   "cell_type": "code",
   "execution_count": 48,
   "outputs": [],
   "source": [
    "class Autoencoder(nn.Module):\n",
    "    def __init__(self):\n",
    "        super(Autoencoder, self).__init__()\n",
    "        self.encoder = nn.Sequential(\n",
    "            nn.Conv2d(3, 16, 3, stride=2, padding=1),  # [batch_size, 16, 112, 112]\n",
    "            nn.ReLU(True),\n",
    "            nn.Conv2d(16, 32, 3, stride=2, padding=1), # [batch_size, 32, 56, 56]\n",
    "            nn.ReLU(True),\n",
    "            nn.Conv2d(32, 64, 7) # [batch_size, 64, 25, 25]\n",
    "        )\n",
    "\n",
    "        self.decoder = nn.Sequential(\n",
    "            nn.ConvTranspose2d(64, 32, 7),             # [batch_size, 32, 31, 31]\n",
    "            nn.ReLU(True),\n",
    "            nn.ConvTranspose2d(32, 16, 5, stride=2, padding=1, output_padding=1),  # [batch_size, 16, 64, 64]\n",
    "            nn.ReLU(True),\n",
    "            nn.ConvTranspose2d(16, 8, 5, stride=2, padding=1, output_padding=1),   # [batch_size, 8, 128, 128]\n",
    "            nn.ReLU(True),\n",
    "            nn.ConvTranspose2d(8, 3, 2, stride=2, padding=1, output_padding=1),    # [batch_size, 3, 256, 256]\n",
    "            nn.ReLU(True),\n",
    "            nn.Conv2d(3, 3, 3, padding=1),                                       # [batch_size, 3, 256, 256]\n",
    "            nn.Tanh()\n",
    "        )\n",
    "\n",
    "    def forward(self, x):\n",
    "        x = self.encoder(x)\n",
    "        x = self.decoder(x)\n",
    "        x = nn.functional.interpolate(x, size=(224, 224), mode='bilinear', align_corners=False)\n",
    "        return x\n"
   ],
   "metadata": {
    "collapsed": false,
    "ExecuteTime": {
     "end_time": "2024-02-19T02:51:40.156761800Z",
     "start_time": "2024-02-19T02:51:40.142771400Z"
    }
   },
   "id": "6ab133591db50091"
  },
  {
   "cell_type": "code",
   "execution_count": 53,
   "outputs": [],
   "source": [
    "from torch.optim.lr_scheduler import StepLR\n",
    "\n",
    "model = Autoencoder()\n",
    "criterion = nn.MSELoss()\n",
    "optimizer = optim.Adam(model.parameters(), lr=1e-2)\n",
    "scheduler = StepLR(optimizer, step_size=1, gamma=0.88)"
   ],
   "metadata": {
    "collapsed": false,
    "ExecuteTime": {
     "end_time": "2024-02-19T02:52:04.185461300Z",
     "start_time": "2024-02-19T02:52:04.168813200Z"
    }
   },
   "id": "e8a00ba7cd1c13da"
  },
  {
   "cell_type": "code",
   "execution_count": 54,
   "outputs": [],
   "source": [
    "# 훈련 루프\n",
    "def train(model, train_loader, criterion, optimizer, scheduler, num_epochs=30):\n",
    "    model.train()\n",
    "    for epoch in range(num_epochs):\n",
    "        total_loss = 0\n",
    "        for data in train_loader:\n",
    "            imgs = data\n",
    "            optimizer.zero_grad()\n",
    "            outputs = model(imgs)\n",
    "            loss = criterion(outputs, imgs)\n",
    "            loss.backward()\n",
    "            optimizer.step()\n",
    "            total_loss += loss.item()\n",
    "        # 에포크가 끝난 후 스케줄러의 step()을 호출하여 학습률을 업데이트\n",
    "        scheduler.step()\n",
    "        # 현재 학습률 출력\n",
    "        current_lr = scheduler.get_last_lr()[0]\n",
    "        print(f'Epoch {epoch+1}, Loss: {total_loss/len(train_loader)}, LR: {current_lr}')"
   ],
   "metadata": {
    "collapsed": false,
    "ExecuteTime": {
     "end_time": "2024-02-19T02:52:04.454429100Z",
     "start_time": "2024-02-19T02:52:04.435450500Z"
    }
   },
   "id": "b7d3cf42b57121d6"
  },
  {
   "cell_type": "code",
   "execution_count": 55,
   "outputs": [
    {
     "name": "stdout",
     "output_type": "stream",
     "text": [
      "Epoch 1, Loss: 0.5061256225619998, LR: 0.0088\n",
      "Epoch 2, Loss: 0.275914449776922, LR: 0.007744000000000001\n",
      "Epoch 3, Loss: 0.1987355032137462, LR: 0.006814720000000001\n",
      "Epoch 4, Loss: 0.172599943620818, LR: 0.0059969536\n",
      "Epoch 5, Loss: 0.15746333769389562, LR: 0.005277319168\n",
      "Epoch 6, Loss: 0.1492643037012645, LR: 0.00464404086784\n",
      "Epoch 7, Loss: 0.14372549312455313, LR: 0.0040867559636991995\n",
      "Epoch 8, Loss: 0.13963812589645386, LR: 0.0035963452480552954\n",
      "Epoch 9, Loss: 0.13666887049164092, LR: 0.00316478381828866\n",
      "Epoch 10, Loss: 0.1346004945891244, LR: 0.002785009760094021\n",
      "Epoch 11, Loss: 0.1321566967027528, LR: 0.002450808588882738\n",
      "Epoch 12, Loss: 0.13058671142373765, LR: 0.0021567115582168095\n",
      "Epoch 13, Loss: 0.12939434977514402, LR: 0.0018979061712307923\n",
      "Epoch 14, Loss: 0.1281086334160396, LR: 0.0016701574306830973\n",
      "Epoch 15, Loss: 0.12725058730159486, LR: 0.0014697385390011256\n",
      "Epoch 16, Loss: 0.126565620303154, LR: 0.0012933699143209906\n",
      "Epoch 17, Loss: 0.12606502217905863, LR: 0.0011381655246024717\n",
      "Epoch 18, Loss: 0.12573801460010664, LR: 0.0010015856616501751\n",
      "Epoch 19, Loss: 0.12541084470493452, LR: 0.0008813953822521541\n",
      "Epoch 20, Loss: 0.12479273070182119, LR: 0.0007756279363818956\n",
      "Epoch 21, Loss: 0.12449654990008899, LR: 0.0006825525840160682\n",
      "Epoch 22, Loss: 0.12416694153632436, LR: 0.00060064627393414\n",
      "Epoch 23, Loss: 0.12393133395484515, LR: 0.0005285687210620432\n",
      "Epoch 24, Loss: 0.12375355139374733, LR: 0.000465140474534598\n",
      "Epoch 25, Loss: 0.12360849816884313, LR: 0.00040932361759044624\n",
      "Epoch 26, Loss: 0.12349957227706909, LR: 0.0003602047834795927\n",
      "Epoch 27, Loss: 0.12334280673946653, LR: 0.0003169802094620416\n",
      "Epoch 28, Loss: 0.12315656138317925, LR: 0.0002789425843265966\n",
      "Epoch 29, Loss: 0.1230470421058791, LR: 0.000245469474207405\n",
      "Epoch 30, Loss: 0.12294813298753329, LR: 0.00021601313730251642\n"
     ]
    }
   ],
   "source": [
    "# 훈련 시작\n",
    "train(model, train_loader, criterion, optimizer, scheduler)"
   ],
   "metadata": {
    "collapsed": false,
    "ExecuteTime": {
     "end_time": "2024-02-19T02:55:50.284214600Z",
     "start_time": "2024-02-19T02:52:04.773528600Z"
    }
   },
   "id": "86632ab45d6e298"
  },
  {
   "cell_type": "code",
   "execution_count": 70,
   "outputs": [],
   "source": [
    "test_data = CustomDataset(csv_file='../data/test.csv', transform=transform)\n",
    "test_loader = DataLoader(test_data, batch_size=16 ,shuffle=False)"
   ],
   "metadata": {
    "collapsed": false,
    "ExecuteTime": {
     "end_time": "2024-02-19T02:57:56.012687900Z",
     "start_time": "2024-02-19T02:57:55.991745Z"
    }
   },
   "id": "9413399eec632880"
  },
  {
   "cell_type": "code",
   "execution_count": 142,
   "outputs": [],
   "source": [
    "# 추론 모드 설정\n",
    "model.eval()\n",
    "\n",
    "# 임계값 설정\n",
    "threshold = 0.120  # 이 값을 적절한 값으로 조정해야 합니다.\n",
    "\n",
    "# 추론 결과 저장을 위한 리스트\n",
    "anomaly_labels = []\n",
    "\n",
    "criterion = nn.MSELoss(reduction='none')\n",
    "\n",
    "# 데이터 로더에서 배치를 가져옵니다.\n",
    "for data in test_loader:\n",
    "    imgs = data\n",
    "    with torch.no_grad():\n",
    "        # 모델에 이미지를 전달하여 재구성된 이미지를 얻습니다.\n",
    "        reconstructed_imgs = model(imgs)\n",
    "\n",
    "        # 재구성 오차를 계산합니다.\n",
    "        loss = criterion(reconstructed_imgs, imgs)\n",
    "\n",
    "        # 배치 내의 각 이미지에 대해 이상치 여부를 판별합니다.\n",
    "        batch_loss = loss.view(loss.size(0), -1).mean(1)\n",
    "        batch_anomalies = batch_loss > threshold\n",
    "\n",
    "        # 이상치면 1, 정상이면 0을 넘파이 배열에 추가합니다.\n",
    "        labels = batch_anomalies.int().numpy()\n",
    "        anomaly_labels.extend(labels)"
   ],
   "metadata": {
    "collapsed": false,
    "ExecuteTime": {
     "end_time": "2024-02-19T03:16:25.845589200Z",
     "start_time": "2024-02-19T03:16:23.706599700Z"
    }
   },
   "id": "77d319ad1bedaae5"
  },
  {
   "cell_type": "code",
   "execution_count": 143,
   "outputs": [],
   "source": [
    "anomaly_labels = np.array(anomaly_labels)"
   ],
   "metadata": {
    "collapsed": false,
    "ExecuteTime": {
     "end_time": "2024-02-19T03:16:25.862543100Z",
     "start_time": "2024-02-19T03:16:25.847583300Z"
    }
   },
   "id": "abbe22ee97061caa"
  },
  {
   "cell_type": "code",
   "execution_count": 144,
   "outputs": [
    {
     "data": {
      "text/plain": "63"
     },
     "execution_count": 144,
     "metadata": {},
     "output_type": "execute_result"
    }
   ],
   "source": [
    "anomaly_labels.sum()"
   ],
   "metadata": {
    "collapsed": false,
    "ExecuteTime": {
     "end_time": "2024-02-19T03:16:25.906425Z",
     "start_time": "2024-02-19T03:16:25.862543100Z"
    }
   },
   "id": "b89f95ba8696c102"
  },
  {
   "cell_type": "code",
   "execution_count": 145,
   "outputs": [],
   "source": [
    "submission = pd.read_csv(\"../submission/sample_submission.csv\")\n",
    "submission['label'] = anomaly_labels"
   ],
   "metadata": {
    "collapsed": false,
    "ExecuteTime": {
     "end_time": "2024-02-19T03:16:30.010311100Z",
     "start_time": "2024-02-19T03:16:29.991361400Z"
    }
   },
   "id": "8f8fd63618a2baa"
  },
  {
   "cell_type": "code",
   "execution_count": 146,
   "outputs": [
    {
     "data": {
      "text/plain": "          id  label\n0   TEST_000      1\n1   TEST_001      0\n2   TEST_002      1\n3   TEST_003      0\n4   TEST_004      1\n..       ...    ...\n95  TEST_095      1\n96  TEST_096      0\n97  TEST_097      1\n98  TEST_098      0\n99  TEST_099      1\n\n[100 rows x 2 columns]",
      "text/html": "<div>\n<style scoped>\n    .dataframe tbody tr th:only-of-type {\n        vertical-align: middle;\n    }\n\n    .dataframe tbody tr th {\n        vertical-align: top;\n    }\n\n    .dataframe thead th {\n        text-align: right;\n    }\n</style>\n<table border=\"1\" class=\"dataframe\">\n  <thead>\n    <tr style=\"text-align: right;\">\n      <th></th>\n      <th>id</th>\n      <th>label</th>\n    </tr>\n  </thead>\n  <tbody>\n    <tr>\n      <th>0</th>\n      <td>TEST_000</td>\n      <td>1</td>\n    </tr>\n    <tr>\n      <th>1</th>\n      <td>TEST_001</td>\n      <td>0</td>\n    </tr>\n    <tr>\n      <th>2</th>\n      <td>TEST_002</td>\n      <td>1</td>\n    </tr>\n    <tr>\n      <th>3</th>\n      <td>TEST_003</td>\n      <td>0</td>\n    </tr>\n    <tr>\n      <th>4</th>\n      <td>TEST_004</td>\n      <td>1</td>\n    </tr>\n    <tr>\n      <th>...</th>\n      <td>...</td>\n      <td>...</td>\n    </tr>\n    <tr>\n      <th>95</th>\n      <td>TEST_095</td>\n      <td>1</td>\n    </tr>\n    <tr>\n      <th>96</th>\n      <td>TEST_096</td>\n      <td>0</td>\n    </tr>\n    <tr>\n      <th>97</th>\n      <td>TEST_097</td>\n      <td>1</td>\n    </tr>\n    <tr>\n      <th>98</th>\n      <td>TEST_098</td>\n      <td>0</td>\n    </tr>\n    <tr>\n      <th>99</th>\n      <td>TEST_099</td>\n      <td>1</td>\n    </tr>\n  </tbody>\n</table>\n<p>100 rows × 2 columns</p>\n</div>"
     },
     "execution_count": 146,
     "metadata": {},
     "output_type": "execute_result"
    }
   ],
   "source": [
    "submission"
   ],
   "metadata": {
    "collapsed": false,
    "ExecuteTime": {
     "end_time": "2024-02-19T03:16:30.764655800Z",
     "start_time": "2024-02-19T03:16:30.746974500Z"
    }
   },
   "id": "e8acc305264f1256"
  },
  {
   "cell_type": "code",
   "execution_count": 141,
   "outputs": [],
   "source": [
    "submission.to_csv(\"../submission/submission_2.csv\",index = False)"
   ],
   "metadata": {
    "collapsed": false,
    "ExecuteTime": {
     "end_time": "2024-02-19T03:12:47.037132400Z",
     "start_time": "2024-02-19T03:12:47.023169Z"
    }
   },
   "id": "559dc0872a806984"
  },
  {
   "cell_type": "code",
   "execution_count": null,
   "outputs": [],
   "source": [],
   "metadata": {
    "collapsed": false
   },
   "id": "b4479a66f58e7bcd"
  }
 ],
 "metadata": {
  "kernelspec": {
   "name": "study",
   "language": "python",
   "display_name": "study"
  },
  "language_info": {
   "codemirror_mode": {
    "name": "ipython",
    "version": 2
   },
   "file_extension": ".py",
   "mimetype": "text/x-python",
   "name": "python",
   "nbconvert_exporter": "python",
   "pygments_lexer": "ipython2",
   "version": "2.7.6"
  }
 },
 "nbformat": 4,
 "nbformat_minor": 5
}

{
 "cells": [
  {
   "cell_type": "code",
   "execution_count": 39,
   "outputs": [],
   "source": [
    "import pandas as pd\n",
    "import numpy as np\n",
    "import torch\n",
    "from torchvision import models, transforms\n",
    "from torch.utils.data import DataLoader, Dataset\n",
    "from PIL import Image\n",
    "from sklearn.ensemble import IsolationForest\n",
    "from tqdm import tqdm\n",
    "import torch.optim as optim\n",
    "\n",
    "\n",
    "# GPU 사용 설정\n",
    "device = torch.device(\"cuda\" if torch.cuda.is_available() else \"cpu\")"
   ],
   "metadata": {
    "collapsed": false,
    "ExecuteTime": {
     "end_time": "2024-03-03T08:34:04.930282800Z",
     "start_time": "2024-03-03T08:34:04.916262900Z"
    }
   },
   "id": "44b5aef5f0f296a2"
  },
  {
   "cell_type": "code",
   "execution_count": 40,
   "id": "initial_id",
   "metadata": {
    "collapsed": true,
    "ExecuteTime": {
     "end_time": "2024-03-03T08:34:07.946880700Z",
     "start_time": "2024-03-03T08:34:07.928814100Z"
    }
   },
   "outputs": [],
   "source": [
    "import sys\n",
    "\n",
    "sys.path.append('../anomalib')\n",
    "from anomalib.data import MVTec\n",
    "from anomalib.models import Patchcore\n",
    "from anomalib.engine import Engine\n",
    "from anomalib.data import Folder\n",
    "from anomalib.data.utils import TestSplitMode\n"
   ]
  },
  {
   "cell_type": "code",
   "execution_count": 3,
   "outputs": [],
   "source": [
    "# Create the datamodule\n",
    "datamodule = Folder(\n",
    "    name=\"abc\",\n",
    "    root=\"\",\n",
    "    normal_dir=\"train\",\n",
    "    test_split_mode=TestSplitMode.SYNTHETIC,\n",
    ")\n",
    "\n",
    "# Setup the datamodule\n",
    "datamodule.setup()"
   ],
   "metadata": {
    "collapsed": false,
    "ExecuteTime": {
     "end_time": "2024-03-03T07:55:14.066357200Z",
     "start_time": "2024-03-03T07:55:10.106243600Z"
    }
   },
   "id": "32de4fcbc54eb21f"
  },
  {
   "cell_type": "code",
   "execution_count": 41,
   "outputs": [],
   "source": [
    "# Create the datamodule\n",
    "datamodule_test = Folder(\n",
    "    name=\"abc\",\n",
    "    root=\"\",\n",
    "    normal_dir=\"train\",\n",
    "    # normal_test_dir=  \"test\",\n",
    "    task = 'classification',\n",
    ")\n",
    "\n",
    "# Setup the datamodule\n",
    "datamodule.setup()"
   ],
   "metadata": {
    "collapsed": false,
    "ExecuteTime": {
     "end_time": "2024-03-03T08:34:14.310528500Z",
     "start_time": "2024-03-03T08:34:10.710674300Z"
    }
   },
   "id": "5bb494d32bf77b2d"
  },
  {
   "cell_type": "code",
   "execution_count": 38,
   "outputs": [
    {
     "data": {
      "text/plain": "<anomalib.data.image.folder.Folder at 0x17f521d6a70>"
     },
     "execution_count": 38,
     "metadata": {},
     "output_type": "execute_result"
    }
   ],
   "source": [
    "datamodule_test"
   ],
   "metadata": {
    "collapsed": false,
    "ExecuteTime": {
     "end_time": "2024-03-03T08:32:18.203936600Z",
     "start_time": "2024-03-03T08:32:18.190972100Z"
    }
   },
   "id": "6515b659a80f643b"
  },
  {
   "cell_type": "code",
   "execution_count": 42,
   "outputs": [],
   "source": [
    "# Initialize the datamodule, model and engine\n",
    "model = Patchcore()\n",
    "engine = Engine(task = \"classification\",default_root_dir='results')"
   ],
   "metadata": {
    "collapsed": false,
    "ExecuteTime": {
     "end_time": "2024-03-03T08:34:16.557988600Z",
     "start_time": "2024-03-03T08:34:14.910394400Z"
    }
   },
   "id": "a02721fad4608fc"
  },
  {
   "cell_type": "code",
   "execution_count": 43,
   "outputs": [
    {
     "data": {
      "text/plain": "<anomalib.data.image.folder.Folder at 0x17f49e0a6b0>"
     },
     "execution_count": 43,
     "metadata": {},
     "output_type": "execute_result"
    }
   ],
   "source": [
    "datamodule"
   ],
   "metadata": {
    "collapsed": false,
    "ExecuteTime": {
     "end_time": "2024-03-03T08:34:16.987465Z",
     "start_time": "2024-03-03T08:34:16.972505500Z"
    }
   },
   "id": "ef3a86eaa330acd6"
  },
  {
   "cell_type": "code",
   "execution_count": 44,
   "outputs": [
    {
     "name": "stderr",
     "output_type": "stream",
     "text": [
      "C:\\Users\\SJ\\anaconda3\\envs\\anomalib\\lib\\site-packages\\torchmetrics\\utilities\\prints.py:36: UserWarning: Metric `PrecisionRecallCurve` will save all targets and predictions in buffer. For large datasets this may lead to large memory footprint.\n",
      "  warnings.warn(*args, **kwargs)\n",
      "GPU available: False, used: False\n",
      "TPU available: False, using: 0 TPU cores\n",
      "IPU available: False, using: 0 IPUs\n",
      "HPU available: False, using: 0 HPUs\n",
      "C:\\Users\\SJ\\anaconda3\\envs\\anomalib\\lib\\site-packages\\torchmetrics\\utilities\\prints.py:36: UserWarning: Metric `ROC` will save all targets and predictions in buffer. For large datasets this may lead to large memory footprint.\n",
      "  warnings.warn(*args, **kwargs)\n",
      "C:\\Users\\SJ\\anaconda3\\envs\\anomalib\\lib\\site-packages\\lightning\\pytorch\\core\\optimizer.py:180: `LightningModule.configure_optimizers` returned `None`, this fit will run with no optimizer\n",
      "\n",
      "  | Name                  | Type                     | Params\n",
      "-------------------------------------------------------------------\n",
      "0 | model                 | PatchcoreModel           | 24.9 M\n",
      "1 | _transform            | Compose                  | 0     \n",
      "2 | normalization_metrics | MinMax                   | 0     \n",
      "3 | image_threshold       | F1AdaptiveThreshold      | 0     \n",
      "4 | pixel_threshold       | F1AdaptiveThreshold      | 0     \n",
      "5 | image_metrics         | AnomalibMetricCollection | 0     \n",
      "6 | pixel_metrics         | AnomalibMetricCollection | 0     \n",
      "-------------------------------------------------------------------\n",
      "24.9 M    Trainable params\n",
      "0         Non-trainable params\n",
      "24.9 M    Total params\n",
      "99.450    Total estimated model params size (MB)\n",
      "C:\\Users\\SJ\\anaconda3\\envs\\anomalib\\lib\\site-packages\\lightning\\pytorch\\trainer\\connectors\\data_connector.py:436: Consider setting `persistent_workers=True` in 'train_dataloader' to speed up the dataloader worker initialization.\n",
      "C:\\Users\\SJ\\anaconda3\\envs\\anomalib\\lib\\site-packages\\lightning\\pytorch\\trainer\\connectors\\data_connector.py:436: Consider setting `persistent_workers=True` in 'val_dataloader' to speed up the dataloader worker initialization.\n"
     ]
    },
    {
     "data": {
      "text/plain": "Training: |          | 0/? [00:00<?, ?it/s]",
      "application/vnd.jupyter.widget-view+json": {
       "version_major": 2,
       "version_minor": 0,
       "model_id": "8dbb9951d16648cbb44277eb3c87dd32"
      }
     },
     "metadata": {},
     "output_type": "display_data"
    },
    {
     "name": "stderr",
     "output_type": "stream",
     "text": [
      "C:\\Users\\SJ\\anaconda3\\envs\\anomalib\\lib\\site-packages\\lightning\\pytorch\\loops\\optimization\\automatic.py:129: `training_step` returned `None`. If this was on purpose, ignore this warning...\n"
     ]
    },
    {
     "data": {
      "text/plain": "Validation: |          | 0/? [00:00<?, ?it/s]",
      "application/vnd.jupyter.widget-view+json": {
       "version_major": 2,
       "version_minor": 0,
       "model_id": "40add93fca1048d3a6a46b9973777e2b"
      }
     },
     "metadata": {},
     "output_type": "display_data"
    },
    {
     "data": {
      "text/plain": "Output()",
      "application/vnd.jupyter.widget-view+json": {
       "version_major": 2,
       "version_minor": 0,
       "model_id": "6714e5bb830f48399afe4d47c1625c6d"
      }
     },
     "metadata": {},
     "output_type": "display_data"
    },
    {
     "data": {
      "text/plain": "",
      "text/html": "<pre style=\"white-space:pre;overflow-x:auto;line-height:normal;font-family:Menlo,'DejaVu Sans Mono',consolas,'Courier New',monospace\"></pre>\n"
     },
     "metadata": {},
     "output_type": "display_data"
    },
    {
     "data": {
      "text/plain": "\n",
      "text/html": "<pre style=\"white-space:pre;overflow-x:auto;line-height:normal;font-family:Menlo,'DejaVu Sans Mono',consolas,'Courier New',monospace\">\n</pre>\n"
     },
     "metadata": {},
     "output_type": "display_data"
    },
    {
     "name": "stderr",
     "output_type": "stream",
     "text": [
      "WARNING:root:The validation set does not contain any anomalous images. As a result, the adaptive threshold will take the value of the highest anomaly score observed in the normal validation images, which may lead to poor predictions. For a more reliable adaptive threshold computation, please add some anomalous images to the validation set.\n",
      "C:\\Users\\SJ\\anaconda3\\envs\\anomalib\\lib\\site-packages\\torchmetrics\\utilities\\prints.py:36: UserWarning: No positive samples in targets, true positive value should be meaningless. Returning zero tensor in true positive score\n",
      "  warnings.warn(*args, **kwargs)\n",
      "`Trainer.fit` stopped: `max_epochs=1` reached.\n"
     ]
    }
   ],
   "source": [
    "# Train the model\n",
    "engine.fit(datamodule=datamodule_test, model=model)"
   ],
   "metadata": {
    "collapsed": false,
    "ExecuteTime": {
     "end_time": "2024-03-03T08:42:33.248484700Z",
     "start_time": "2024-03-03T08:34:17.336096200Z"
    }
   },
   "id": "ef0154ee30354488"
  },
  {
   "cell_type": "code",
   "execution_count": 56,
   "outputs": [],
   "source": [
    "from anomalib.data.utils import read_image\n",
    "from matplotlib import pyplot as plt\n",
    "from pathlib import Path\n",
    "from anomalib.deploy import ExportType, OpenVINOInferencer"
   ],
   "metadata": {
    "collapsed": false,
    "ExecuteTime": {
     "end_time": "2024-03-03T09:03:35.670849200Z",
     "start_time": "2024-03-03T09:03:35.654891800Z"
    }
   },
   "id": "77ad5648d2e51563"
  },
  {
   "cell_type": "code",
   "execution_count": 66,
   "outputs": [
    {
     "data": {
      "text/plain": "WindowsPath('C:/Users/SJ/Documents/code/test/code/results/Patchcore/abc/latest/weights/openvino/model.xml')"
     },
     "execution_count": 66,
     "metadata": {},
     "output_type": "execute_result"
    }
   ],
   "source": [
    "engine.export(\n",
    "    model=model,\n",
    "    export_type=ExportType.OPENVINO,\n",
    ")"
   ],
   "metadata": {
    "collapsed": false,
    "ExecuteTime": {
     "end_time": "2024-03-03T09:08:09.527750300Z",
     "start_time": "2024-03-03T09:07:59.656294800Z"
    }
   },
   "id": "7bf087b0ff93a356"
  },
  {
   "cell_type": "code",
   "execution_count": 98,
   "outputs": [],
   "source": [
    "image_path =\"test/TEST_006.png\""
   ],
   "metadata": {
    "collapsed": false,
    "ExecuteTime": {
     "end_time": "2024-03-03T09:12:23.094391200Z",
     "start_time": "2024-03-03T09:12:23.068460400Z"
    }
   },
   "id": "a4894f29aa77e863"
  },
  {
   "cell_type": "code",
   "execution_count": 67,
   "outputs": [
    {
     "name": "stdout",
     "output_type": "stream",
     "text": [
      "C:\\Users\\SJ\\Documents\\code\\test\\code\\results\\Patchcore\\abc\\latest\n"
     ]
    }
   ],
   "source": [
    "output_path = Path(engine.trainer.default_root_dir)\n",
    "print(output_path)\n"
   ],
   "metadata": {
    "collapsed": false,
    "ExecuteTime": {
     "end_time": "2024-03-03T09:08:22.352858900Z",
     "start_time": "2024-03-03T09:08:22.338897900Z"
    }
   },
   "id": "48ebe694fdd21bda"
  },
  {
   "cell_type": "code",
   "execution_count": 68,
   "outputs": [
    {
     "name": "stdout",
     "output_type": "stream",
     "text": [
      "True True\n"
     ]
    }
   ],
   "source": [
    "openvino_model_path = output_path / \"weights\" / \"openvino\" / \"model.bin\"\n",
    "metadata = output_path / \"weights\" / \"openvino\" / \"metadata.json\"\n",
    "print(openvino_model_path.exists(), metadata.exists())"
   ],
   "metadata": {
    "collapsed": false,
    "ExecuteTime": {
     "end_time": "2024-03-03T09:08:35.750455800Z",
     "start_time": "2024-03-03T09:08:35.737490Z"
    }
   },
   "id": "ea00994722bc41ff"
  },
  {
   "cell_type": "code",
   "execution_count": 69,
   "outputs": [],
   "source": [
    "inferencer = OpenVINOInferencer(\n",
    "    path=openvino_model_path,  # Path to the OpenVINO IR model.\n",
    "    metadata=metadata,  # Path to the metadata file.\n",
    "    device=\"CPU\",  # We would like to run it on an Intel CPU.\n",
    ")"
   ],
   "metadata": {
    "collapsed": false,
    "ExecuteTime": {
     "end_time": "2024-03-03T09:08:43.427421400Z",
     "start_time": "2024-03-03T09:08:41.858921100Z"
    }
   },
   "id": "bd40aba9bd15c2fd"
  },
  {
   "cell_type": "code",
   "execution_count": 100,
   "outputs": [],
   "source": [
    "predictions = inferencer.predict(image=image_path)"
   ],
   "metadata": {
    "collapsed": false,
    "ExecuteTime": {
     "end_time": "2024-03-03T09:12:26.263607Z",
     "start_time": "2024-03-03T09:12:26.105056300Z"
    }
   },
   "id": "18c3fe0afb1adf4b"
  },
  {
   "cell_type": "code",
   "execution_count": 101,
   "outputs": [
    {
     "name": "stdout",
     "output_type": "stream",
     "text": [
      "0.8005872450743634 True\n"
     ]
    }
   ],
   "source": [
    "print(predictions.pred_score, predictions.pred_label)"
   ],
   "metadata": {
    "collapsed": false,
    "ExecuteTime": {
     "end_time": "2024-03-03T09:12:26.311159500Z",
     "start_time": "2024-03-03T09:12:26.300187900Z"
    }
   },
   "id": "d14cf1a3257a819"
  },
  {
   "cell_type": "code",
   "execution_count": 111,
   "outputs": [
    {
     "name": "stdout",
     "output_type": "stream",
     "text": [
      "[False, True, False, False, False, False, True, False, False, True, False, True, False, False, True, True, False, False, False, False, False, False, True, True, True, False, True, False, False, True, True, True, False, False, True, False, False, False, True, True, False, False, False, False, True, False, False, True, False, False, False, False, False, True, False, True, False, True, False, False, False, False, False, True, False, False, True, False, False, True, False, False, False, False, True, False, False, True, False, True, False, True, False, False, False, True, True, False, True, False, True, True, True, True, True, True, False, False, True, True]\n"
     ]
    }
   ],
   "source": [
    "# 예측 레이블을 저장할 리스트 초기화\n",
    "pred_labels = []\n",
    "pred_score = []\n",
    "# TEST_000.png부터 TEST_099.png까지 반복\n",
    "for i in range(100):\n",
    "    # 이미지 파일 이름 생성\n",
    "    image_path = f\"test/TEST_{i:03d}.png\"\n",
    "\n",
    "    # 이미지에 대해 추론 수행\n",
    "    predictions = inferencer.predict(image=image_path)\n",
    "\n",
    "    # pred_score가 0.6보다 크면 True, 그렇지 않으면 False를 리스트에 추가\n",
    "    if predictions.pred_score > 0.6:\n",
    "        pred_labels.append(True)\n",
    "        pred_score.append(predictions.pred_score)\n",
    "    else:\n",
    "        pred_labels.append(False)\n",
    "        pred_score.append(predictions.pred_score)\n",
    "\n",
    "# 결과 출력\n",
    "print(pred_labels)\n",
    "converted_labels = [1 if label else 0 for label in pred_labels]"
   ],
   "metadata": {
    "collapsed": false,
    "ExecuteTime": {
     "end_time": "2024-03-03T09:30:59.874102100Z",
     "start_time": "2024-03-03T09:30:47.779559100Z"
    }
   },
   "id": "8502bd45c6c4f195"
  },
  {
   "cell_type": "code",
   "execution_count": 131,
   "outputs": [
    {
     "name": "stdout",
     "output_type": "stream",
     "text": [
      "[0, 25, 34, 38, 54, 83, 84, 91]\n"
     ]
    }
   ],
   "source": [
    "# 값이 0.4와 0.6 사이인 원소들의 인덱스 찾기\n",
    "indices = [index for index, value in enumerate(pred_score) if 0.5 <= value <= 0.7]\n",
    "\n",
    "# 찾은 인덱스 출력\n",
    "print(indices)"
   ],
   "metadata": {
    "collapsed": false,
    "ExecuteTime": {
     "end_time": "2024-03-03T09:42:02.885112400Z",
     "start_time": "2024-03-03T09:42:02.870127100Z"
    }
   },
   "id": "4a2598a10af7fe8e"
  },
  {
   "cell_type": "code",
   "execution_count": 135,
   "outputs": [
    {
     "data": {
      "text/plain": "0.5018101939550735"
     },
     "execution_count": 135,
     "metadata": {},
     "output_type": "execute_result"
    }
   ],
   "source": [
    "pred_score[84]"
   ],
   "metadata": {
    "collapsed": false,
    "ExecuteTime": {
     "end_time": "2024-03-03T09:43:08.387943500Z",
     "start_time": "2024-03-03T09:43:08.373980500Z"
    }
   },
   "id": "3f8bb19ad2bb4b2a"
  },
  {
   "cell_type": "code",
   "execution_count": 105,
   "outputs": [],
   "source": [
    "submission = pd.read_csv(\"../submission/sample_submission.csv\")\n",
    "submission['label'] = converted_labels"
   ],
   "metadata": {
    "collapsed": false,
    "ExecuteTime": {
     "end_time": "2024-03-03T09:20:24.940588200Z",
     "start_time": "2024-03-03T09:20:24.927634200Z"
    }
   },
   "id": "9427977613dbbd27"
  },
  {
   "cell_type": "code",
   "execution_count": 106,
   "outputs": [
    {
     "data": {
      "text/plain": "          id  label\n0   TEST_000      0\n1   TEST_001      1\n2   TEST_002      0\n3   TEST_003      0\n4   TEST_004      0\n..       ...    ...\n95  TEST_095      1\n96  TEST_096      0\n97  TEST_097      0\n98  TEST_098      1\n99  TEST_099      1\n\n[100 rows x 2 columns]",
      "text/html": "<div>\n<style scoped>\n    .dataframe tbody tr th:only-of-type {\n        vertical-align: middle;\n    }\n\n    .dataframe tbody tr th {\n        vertical-align: top;\n    }\n\n    .dataframe thead th {\n        text-align: right;\n    }\n</style>\n<table border=\"1\" class=\"dataframe\">\n  <thead>\n    <tr style=\"text-align: right;\">\n      <th></th>\n      <th>id</th>\n      <th>label</th>\n    </tr>\n  </thead>\n  <tbody>\n    <tr>\n      <th>0</th>\n      <td>TEST_000</td>\n      <td>0</td>\n    </tr>\n    <tr>\n      <th>1</th>\n      <td>TEST_001</td>\n      <td>1</td>\n    </tr>\n    <tr>\n      <th>2</th>\n      <td>TEST_002</td>\n      <td>0</td>\n    </tr>\n    <tr>\n      <th>3</th>\n      <td>TEST_003</td>\n      <td>0</td>\n    </tr>\n    <tr>\n      <th>4</th>\n      <td>TEST_004</td>\n      <td>0</td>\n    </tr>\n    <tr>\n      <th>...</th>\n      <td>...</td>\n      <td>...</td>\n    </tr>\n    <tr>\n      <th>95</th>\n      <td>TEST_095</td>\n      <td>1</td>\n    </tr>\n    <tr>\n      <th>96</th>\n      <td>TEST_096</td>\n      <td>0</td>\n    </tr>\n    <tr>\n      <th>97</th>\n      <td>TEST_097</td>\n      <td>0</td>\n    </tr>\n    <tr>\n      <th>98</th>\n      <td>TEST_098</td>\n      <td>1</td>\n    </tr>\n    <tr>\n      <th>99</th>\n      <td>TEST_099</td>\n      <td>1</td>\n    </tr>\n  </tbody>\n</table>\n<p>100 rows × 2 columns</p>\n</div>"
     },
     "execution_count": 106,
     "metadata": {},
     "output_type": "execute_result"
    }
   ],
   "source": [
    "submission"
   ],
   "metadata": {
    "collapsed": false,
    "ExecuteTime": {
     "end_time": "2024-03-03T09:20:33.728058Z",
     "start_time": "2024-03-03T09:20:33.704122100Z"
    }
   },
   "id": "6132ceb370da9c31"
  },
  {
   "cell_type": "code",
   "execution_count": 107,
   "outputs": [],
   "source": [
    "submission.to_csv(\"../submission/submission_6.csv\",index = False)"
   ],
   "metadata": {
    "collapsed": false,
    "ExecuteTime": {
     "end_time": "2024-03-03T09:20:42.012022700Z",
     "start_time": "2024-03-03T09:20:41.989084400Z"
    }
   },
   "id": "6d2c52c9ad4e20e6"
  },
  {
   "cell_type": "code",
   "execution_count": null,
   "outputs": [],
   "source": [],
   "metadata": {
    "collapsed": false
   },
   "id": "dae7d5483edd5310"
  }
 ],
 "metadata": {
  "kernelspec": {
   "name": "anomalib",
   "language": "python",
   "display_name": "anomalib"
  },
  "language_info": {
   "codemirror_mode": {
    "name": "ipython",
    "version": 2
   },
   "file_extension": ".py",
   "mimetype": "text/x-python",
   "name": "python",
   "nbconvert_exporter": "python",
   "pygments_lexer": "ipython2",
   "version": "2.7.6"
  }
 },
 "nbformat": 4,
 "nbformat_minor": 5
}

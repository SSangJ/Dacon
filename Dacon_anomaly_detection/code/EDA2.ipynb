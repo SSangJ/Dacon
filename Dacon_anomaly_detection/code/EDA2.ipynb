{
 "cells": [
  {
   "cell_type": "code",
   "execution_count": 1,
   "outputs": [
    {
     "name": "stdout",
     "output_type": "stream",
     "text": [
      "cuda:0\n"
     ]
    }
   ],
   "source": [
    "import torch\n",
    "device = torch.device('cuda:0' if torch.cuda.is_available() else 'cpu')\n",
    "\n",
    "print(device)"
   ],
   "metadata": {
    "collapsed": false,
    "ExecuteTime": {
     "end_time": "2024-02-19T05:36:31.036631300Z",
     "start_time": "2024-02-19T05:36:28.846713600Z"
    }
   },
   "id": "e8899d492dada60f"
  },
  {
   "cell_type": "code",
   "execution_count": 1,
   "outputs": [
    {
     "name": "stdout",
     "output_type": "stream",
     "text": [
      "cuda:0\n"
     ]
    }
   ],
   "source": [
    "import torch\n",
    "device = torch.device('cuda:0' if torch.cuda.is_available() else 'cpu')\n",
    "\n",
    "print(device)"
   ],
   "metadata": {
    "collapsed": false
   },
   "id": "20585c486fff3b96"
  },
  {
   "cell_type": "code",
   "execution_count": 2,
   "id": "initial_id",
   "metadata": {
    "collapsed": true,
    "ExecuteTime": {
     "end_time": "2024-02-19T05:36:33.685793600Z",
     "start_time": "2024-02-19T05:36:31.036631300Z"
    }
   },
   "outputs": [],
   "source": [
    "import pandas as pd\n",
    "import numpy as np\n",
    "import torch\n",
    "from torchvision import models, transforms\n",
    "from torch.utils.data import DataLoader, Dataset\n",
    "from PIL import Image\n",
    "from sklearn.ensemble import IsolationForest\n",
    "from tqdm import tqdm\n",
    "import torch.optim as optim\n",
    "\n",
    "\n",
    "# GPU 사용 설정\n",
    "device = torch.device(\"cuda\" if torch.cuda.is_available() else \"cpu\")\n",
    "\n",
    "import torch.nn as nn"
   ]
  },
  {
   "cell_type": "code",
   "execution_count": 3,
   "outputs": [],
   "source": [
    "# 데이터 로딩 클래스 정의\n",
    "class CustomDataset(Dataset):\n",
    "    def __init__(self, csv_file, transform=None):\n",
    "        \"\"\"\n",
    "        Args:\n",
    "            csv_file (string): csv 파일의 경로.\n",
    "            transform (callable, optional): 샘플에 적용될 Optional transform.\n",
    "        \"\"\"\n",
    "        self.df = pd.read_csv(csv_file)\n",
    "        self.transform = transform\n",
    "\n",
    "    def __len__(self):\n",
    "        return len(self.df)\n",
    "\n",
    "    def __getitem__(self, idx):\n",
    "        img_path = self.df['img_path'].iloc[idx]\n",
    "        image = Image.open(img_path)\n",
    "        if self.transform:\n",
    "            image = self.transform(image)\n",
    "        target = torch.tensor([0.]).float()\n",
    "        return image, target\n",
    "\n",
    "# 이미지 전처리 및 임베딩\n",
    "transform = transforms.Compose([\n",
    "    transforms.Resize((512, 512)),\n",
    "    transforms.ToTensor(),\n",
    "    transforms.Normalize(mean=[0.485, 0.456, 0.406], std=[0.229, 0.224, 0.225]),\n",
    "])\n",
    "\n",
    "train_data = CustomDataset(csv_file='../data/train.csv', transform=transform)\n",
    "train_loader = DataLoader(train_data, batch_size=32, shuffle=False)\n",
    "\n",
    "test_data = CustomDataset(csv_file='../data/test.csv', transform=transform)\n",
    "test_loader = DataLoader(test_data, batch_size=32 ,shuffle=False)"
   ],
   "metadata": {
    "collapsed": false,
    "ExecuteTime": {
     "end_time": "2024-02-19T05:36:33.715714100Z",
     "start_time": "2024-02-19T05:36:33.685793600Z"
    }
   },
   "id": "2da6f77c3ba29f87"
  },
  {
   "cell_type": "code",
   "execution_count": 4,
   "outputs": [
    {
     "name": "stderr",
     "output_type": "stream",
     "text": [
      "C:\\Users\\SJ\\anaconda3\\envs\\study\\lib\\site-packages\\torchvision\\models\\_utils.py:208: UserWarning: The parameter 'pretrained' is deprecated since 0.13 and may be removed in the future, please use 'weights' instead.\n",
      "  warnings.warn(\n",
      "C:\\Users\\SJ\\anaconda3\\envs\\study\\lib\\site-packages\\torchvision\\models\\_utils.py:223: UserWarning: Arguments other than a weight enum or `None` for 'weights' are deprecated since 0.13 and may be removed in the future. The current behavior is equivalent to passing `weights=ResNet18_Weights.IMAGENET1K_V1`. You can also use `weights=ResNet18_Weights.DEFAULT` to get the most up-to-date weights.\n",
      "  warnings.warn(msg)\n"
     ]
    }
   ],
   "source": [
    "# ResNet 모델을 특징 추출기로 사용\n",
    "class FeatureExtractor(nn.Module):\n",
    "    def __init__(self, model):\n",
    "        super(FeatureExtractor, self).__init__()\n",
    "        # ResNet의 마지막 fc 레이어를 제외한 모든 레이어를 가져옵니다.\n",
    "        self.features = nn.Sequential(*list(model.children())[:-1])\n",
    "\n",
    "    def forward(self, x):\n",
    "        x = self.features(x)\n",
    "        x = torch.flatten(x, 1)\n",
    "        return x\n",
    "\n",
    "\n",
    "\n",
    "class Autoencoder(nn.Module):\n",
    "    def __init__(self, input_dim, encoding_dim):\n",
    "        super(Autoencoder, self).__init__()\n",
    "        # 인코더 정의\n",
    "        self.encoder = nn.Sequential(\n",
    "            nn.Linear(input_dim, 1024),\n",
    "            nn.ReLU(True),\n",
    "            nn.Linear(1024, 512),\n",
    "            nn.ReLU(True),\n",
    "            nn.Linear(512, encoding_dim),\n",
    "            nn.ReLU(True)\n",
    "        )\n",
    "        # 디코더 정의\n",
    "        self.decoder = nn.Sequential(\n",
    "            nn.Linear(encoding_dim, 512),\n",
    "            nn.ReLU(True),\n",
    "            nn.Linear(512, 1024),\n",
    "            nn.ReLU(True),\n",
    "            nn.Linear(1024, input_dim),\n",
    "            nn.Sigmoid()\n",
    "        )\n",
    "\n",
    "    def forward(self, x):\n",
    "        x = self.encoder(x)\n",
    "        x = self.decoder(x)\n",
    "        return x\n",
    "\n",
    "# ResNet101 모델 로드 및 특징 추출기 생성\n",
    "resnet_model = models.resnet18(pretrained=True)\n",
    "feature_extractor = FeatureExtractor(resnet_model).to(device)\n",
    "\n",
    "# Autoencoder 모델 생성\n",
    "autoencoder = Autoencoder(input_dim=512, encoding_dim=256).to(device)"
   ],
   "metadata": {
    "collapsed": false,
    "ExecuteTime": {
     "end_time": "2024-02-19T05:36:37.407886600Z",
     "start_time": "2024-02-19T05:36:35.426079600Z"
    }
   },
   "id": "b5769af4e24f64a"
  },
  {
   "cell_type": "code",
   "execution_count": 5,
   "outputs": [],
   "source": [
    "# ResNet101 모델 로드 및 특징 추출기 생성\n",
    "resnet_model = models.resnet18(pretrained=True)\n",
    "feature_extractor = FeatureExtractor(resnet_model).to(device)\n",
    "\n",
    "# Autoencoder 모델 생성\n",
    "autoencoder = Autoencoder(input_dim=512, encoding_dim=256).to(device)"
   ],
   "metadata": {
    "collapsed": false,
    "ExecuteTime": {
     "end_time": "2024-02-19T05:36:38.127145300Z",
     "start_time": "2024-02-19T05:36:37.925686200Z"
    }
   },
   "id": "4ed6c7796ec79853"
  },
  {
   "cell_type": "code",
   "execution_count": 6,
   "outputs": [],
   "source": [
    "from torch.optim.lr_scheduler import ReduceLROnPlateau\n",
    "\n",
    "def train_autoencoder(model, train_loader, criterion, optimizer, scheduler, num_epochs=100):\n",
    "    model.train()\n",
    "    best_loss = None\n",
    "\n",
    "    for epoch in range(num_epochs):\n",
    "        total_loss = 0\n",
    "        for images, _ in train_loader:\n",
    "            images = images.to(device)\n",
    "\n",
    "            # 특징 추출\n",
    "            features = feature_extractor(images)\n",
    "            # Autoencoder를 통한 재구성\n",
    "            reconstructed = model(features)\n",
    "            # 재구성 손실 계산\n",
    "            loss = criterion(reconstructed, features)\n",
    "\n",
    "            optimizer.zero_grad()\n",
    "            loss.backward()\n",
    "            optimizer.step()\n",
    "\n",
    "            total_loss += loss.item()\n",
    "\n",
    "        # 평균 손실 계산\n",
    "        avg_loss = total_loss / len(train_loader)\n",
    "        print(f'Epoch {epoch+1}/{num_epochs}, Loss: {avg_loss:.4f}')\n",
    "\n",
    "        # scheduler.step()에 평균 손실 전달\n",
    "        scheduler.step(avg_loss)\n",
    "\n",
    "        # Early stopping 조건 확인\n",
    "        if best_loss is None or avg_loss < best_loss:\n",
    "            best_loss = avg_loss\n",
    "        else:\n",
    "            print(\"No improvement in loss. Adjusting learning rate...\")\n",
    "            # 학습률 조정 로그는 ReduceLROnPlateau의 verbose=True를 통해 출력됩니다."
   ],
   "metadata": {
    "collapsed": false,
    "ExecuteTime": {
     "end_time": "2024-02-19T05:36:38.472326800Z",
     "start_time": "2024-02-19T05:36:38.449344200Z"
    }
   },
   "id": "d6a333a0dbab7e6b"
  },
  {
   "cell_type": "code",
   "execution_count": 7,
   "outputs": [
    {
     "name": "stderr",
     "output_type": "stream",
     "text": [
      "C:\\Users\\SJ\\anaconda3\\envs\\study\\lib\\site-packages\\torch\\optim\\lr_scheduler.py:28: UserWarning: The verbose parameter is deprecated. Please use get_last_lr() to access the learning rate.\n",
      "  warnings.warn(\"The verbose parameter is deprecated. Please use get_last_lr() \"\n"
     ]
    }
   ],
   "source": [
    "\n",
    "# Autoencoder 모델, 손실 함수, 옵티마이저 설정\n",
    "autoencoder_criterion = nn.MSELoss()\n",
    "autoencoder_optimizer = optim.AdamW(autoencoder.parameters(), lr=0.001)\n",
    "autoencoder_scheduler = ReduceLROnPlateau(autoencoder_optimizer, mode='min', factor=0.1, patience=10, verbose=True)\n",
    "\n",
    "\n",
    "# # Autoencoder 모델 학습\n",
    "# train_autoencoder(autoencoder, train_loader, autoencoder_criterion, autoencoder_optimizer,autoencoder_scheduler)"
   ],
   "metadata": {
    "collapsed": false,
    "ExecuteTime": {
     "end_time": "2024-02-19T05:36:38.982245400Z",
     "start_time": "2024-02-19T05:36:38.933375400Z"
    }
   },
   "id": "999a914064ea98d1"
  },
  {
   "cell_type": "code",
   "execution_count": 8,
   "outputs": [
    {
     "name": "stdout",
     "output_type": "stream",
     "text": [
      "Epoch 1/100, Loss: 0.1479\n",
      "Epoch 2/100, Loss: 0.0834\n",
      "Epoch 3/100, Loss: 0.0834\n",
      "No improvement in loss. Adjusting learning rate...\n",
      "Epoch 4/100, Loss: 0.0834\n",
      "No improvement in loss. Adjusting learning rate...\n",
      "Epoch 5/100, Loss: 0.0834\n",
      "No improvement in loss. Adjusting learning rate...\n",
      "Epoch 6/100, Loss: 0.0834\n",
      "No improvement in loss. Adjusting learning rate...\n",
      "Epoch 7/100, Loss: 0.0834\n",
      "No improvement in loss. Adjusting learning rate...\n",
      "Epoch 8/100, Loss: 0.0834\n",
      "No improvement in loss. Adjusting learning rate...\n",
      "Epoch 9/100, Loss: 0.0834\n",
      "No improvement in loss. Adjusting learning rate...\n",
      "Epoch 10/100, Loss: 0.0834\n",
      "No improvement in loss. Adjusting learning rate...\n",
      "Epoch 11/100, Loss: 0.0834\n",
      "No improvement in loss. Adjusting learning rate...\n",
      "Epoch 12/100, Loss: 0.0834\n",
      "No improvement in loss. Adjusting learning rate...\n"
     ]
    },
    {
     "ename": "KeyboardInterrupt",
     "evalue": "",
     "output_type": "error",
     "traceback": [
      "\u001B[1;31m---------------------------------------------------------------------------\u001B[0m",
      "\u001B[1;31mKeyboardInterrupt\u001B[0m                         Traceback (most recent call last)",
      "Cell \u001B[1;32mIn[8], line 1\u001B[0m\n\u001B[1;32m----> 1\u001B[0m \u001B[43mtrain_autoencoder\u001B[49m\u001B[43m(\u001B[49m\u001B[43mautoencoder\u001B[49m\u001B[43m,\u001B[49m\u001B[43m \u001B[49m\u001B[43mtrain_loader\u001B[49m\u001B[43m,\u001B[49m\u001B[43m \u001B[49m\u001B[43mautoencoder_criterion\u001B[49m\u001B[43m,\u001B[49m\u001B[43m \u001B[49m\u001B[43mautoencoder_optimizer\u001B[49m\u001B[43m,\u001B[49m\u001B[43m \u001B[49m\u001B[43mautoencoder_scheduler\u001B[49m\u001B[43m)\u001B[49m\n",
      "Cell \u001B[1;32mIn[6], line 23\u001B[0m, in \u001B[0;36mtrain_autoencoder\u001B[1;34m(model, train_loader, criterion, optimizer, scheduler, num_epochs)\u001B[0m\n\u001B[0;32m     20\u001B[0m     loss\u001B[38;5;241m.\u001B[39mbackward()\n\u001B[0;32m     21\u001B[0m     optimizer\u001B[38;5;241m.\u001B[39mstep()\n\u001B[1;32m---> 23\u001B[0m     total_loss \u001B[38;5;241m+\u001B[39m\u001B[38;5;241m=\u001B[39m \u001B[43mloss\u001B[49m\u001B[38;5;241;43m.\u001B[39;49m\u001B[43mitem\u001B[49m\u001B[43m(\u001B[49m\u001B[43m)\u001B[49m\n\u001B[0;32m     25\u001B[0m \u001B[38;5;66;03m# 평균 손실 계산\u001B[39;00m\n\u001B[0;32m     26\u001B[0m avg_loss \u001B[38;5;241m=\u001B[39m total_loss \u001B[38;5;241m/\u001B[39m \u001B[38;5;28mlen\u001B[39m(train_loader)\n",
      "\u001B[1;31mKeyboardInterrupt\u001B[0m: "
     ]
    }
   ],
   "source": [
    "train_autoencoder(autoencoder, train_loader, autoencoder_criterion, autoencoder_optimizer, autoencoder_scheduler)"
   ],
   "metadata": {
    "collapsed": false,
    "ExecuteTime": {
     "end_time": "2024-02-19T05:37:26.891425300Z",
     "start_time": "2024-02-19T05:36:39.388933Z"
    }
   },
   "id": "ba9d7e0076046865"
  },
  {
   "cell_type": "code",
   "execution_count": 9,
   "outputs": [
    {
     "data": {
      "text/plain": "<Figure size 640x480 with 1 Axes>",
      "image/png": "[encoded data removed]"
     },
     "metadata": {},
     "output_type": "display_data"
    }
   ],
   "source": [
    "import matplotlib.pyplot as plt\n",
    "\n",
    "def calculate_losses(train_loader, model):\n",
    "    model.eval()  # 평가 모드 전환\n",
    "    losses = []  # 손실 초기화\n",
    "    with torch.no_grad():\n",
    "        for images, _ in train_loader:\n",
    "            images = images.to(device)\n",
    "            features = feature_extractor(images)\n",
    "            reconstructed = model(features)\n",
    "            loss = nn.MSELoss(reduction='none')(reconstructed, features).mean(1)  # 손실 계산\n",
    "            losses.extend(loss.cpu().numpy())\n",
    "    return losses\n",
    "\n",
    "# 학습 데이터의 손실 계산\n",
    "losses = calculate_losses(train_loader, autoencoder)\n",
    "\n",
    "# 손실 분포 시각화\n",
    "plt.hist(losses, bins=50)\n",
    "plt.xlabel('Loss')\n",
    "plt.ylabel('Frequency')\n",
    "plt.title('Distribution of Losses')\n",
    "plt.show()"
   ],
   "metadata": {
    "collapsed": false,
    "ExecuteTime": {
     "end_time": "2024-02-19T05:37:31.733641Z",
     "start_time": "2024-02-19T05:37:28.815070800Z"
    }
   },
   "id": "682fc3966deb7813"
  },
  {
   "cell_type": "code",
   "execution_count": 10,
   "outputs": [
    {
     "name": "stdout",
     "output_type": "stream",
     "text": [
      "Threshold for anomaly detection: 0.10863772630691527\n"
     ]
    }
   ],
   "source": [
    "# 손실 값의 상위 95%에 해당하는 분위수를 임계값으로 설정\n",
    "threshold = np.quantile(losses, 0.95)\n",
    "print(f\"Threshold for anomaly detection: {threshold}\")"
   ],
   "metadata": {
    "collapsed": false,
    "ExecuteTime": {
     "end_time": "2024-02-19T05:37:33.765772600Z",
     "start_time": "2024-02-19T05:37:33.744829500Z"
    }
   },
   "id": "a6935bc5bc655de5"
  },
  {
   "cell_type": "code",
   "execution_count": 44,
   "outputs": [],
   "source": [
    "threshold= 0.0826"
   ],
   "metadata": {
    "collapsed": false,
    "ExecuteTime": {
     "end_time": "2024-02-19T05:39:32.409383500Z",
     "start_time": "2024-02-19T05:39:32.388439600Z"
    }
   },
   "id": "3843d7c53ddbb705"
  },
  {
   "cell_type": "code",
   "execution_count": 45,
   "outputs": [
    {
     "data": {
      "text/plain": "          id  label\n0   TEST_000      1\n1   TEST_001      0\n2   TEST_002      0\n3   TEST_003      1\n4   TEST_004      0\n..       ...    ...\n95  TEST_095      0\n96  TEST_096      0\n97  TEST_097      0\n98  TEST_098      0\n99  TEST_099      0\n\n[100 rows x 2 columns]",
      "text/html": "<div>\n<style scoped>\n    .dataframe tbody tr th:only-of-type {\n        vertical-align: middle;\n    }\n\n    .dataframe tbody tr th {\n        vertical-align: top;\n    }\n\n    .dataframe thead th {\n        text-align: right;\n    }\n</style>\n<table border=\"1\" class=\"dataframe\">\n  <thead>\n    <tr style=\"text-align: right;\">\n      <th></th>\n      <th>id</th>\n      <th>label</th>\n    </tr>\n  </thead>\n  <tbody>\n    <tr>\n      <th>0</th>\n      <td>TEST_000</td>\n      <td>1</td>\n    </tr>\n    <tr>\n      <th>1</th>\n      <td>TEST_001</td>\n      <td>0</td>\n    </tr>\n    <tr>\n      <th>2</th>\n      <td>TEST_002</td>\n      <td>0</td>\n    </tr>\n    <tr>\n      <th>3</th>\n      <td>TEST_003</td>\n      <td>1</td>\n    </tr>\n    <tr>\n      <th>4</th>\n      <td>TEST_004</td>\n      <td>0</td>\n    </tr>\n    <tr>\n      <th>...</th>\n      <td>...</td>\n      <td>...</td>\n    </tr>\n    <tr>\n      <th>95</th>\n      <td>TEST_095</td>\n      <td>0</td>\n    </tr>\n    <tr>\n      <th>96</th>\n      <td>TEST_096</td>\n      <td>0</td>\n    </tr>\n    <tr>\n      <th>97</th>\n      <td>TEST_097</td>\n      <td>0</td>\n    </tr>\n    <tr>\n      <th>98</th>\n      <td>TEST_098</td>\n      <td>0</td>\n    </tr>\n    <tr>\n      <th>99</th>\n      <td>TEST_099</td>\n      <td>0</td>\n    </tr>\n  </tbody>\n</table>\n<p>100 rows × 2 columns</p>\n</div>"
     },
     "execution_count": 45,
     "metadata": {},
     "output_type": "execute_result"
    }
   ],
   "source": [
    "# 제출 파일 로드\n",
    "submit = pd.read_csv('../submission/sample_submission.csv')\n",
    "\n",
    "def detect_anomalies(loader, model, threshold):\n",
    "    model.eval()\n",
    "    anomaly_scores = []\n",
    "    with torch.no_grad():\n",
    "        for images, _ in loader:\n",
    "            images = images.to(device)\n",
    "            features = feature_extractor(images)\n",
    "            reconstructed = model(features)\n",
    "            loss = torch.mean((features - reconstructed) ** 2, dim=1)\n",
    "            anomaly_scores.extend(loss.cpu().numpy())\n",
    "    return anomaly_scores\n",
    "\n",
    "\n",
    "\n",
    "# 이상 탐지 수행 및 anomaly_scores 계산\n",
    "anomaly_scores = detect_anomalies(test_loader, autoencoder, threshold)\n",
    "\n",
    "# anomaly_scores를 사용하여 정상(0) 또는 이상(1) 레이블 결정\n",
    "submit['label'] = [1 if score > threshold else 0 for score in anomaly_scores]\n",
    "\n",
    "# 변경된 submit DataFrame 확인\n",
    "submit"
   ],
   "metadata": {
    "collapsed": false,
    "ExecuteTime": {
     "end_time": "2024-02-19T05:39:33.889066600Z",
     "start_time": "2024-02-19T05:39:32.575900100Z"
    }
   },
   "id": "7a06f8a58f305727"
  },
  {
   "cell_type": "code",
   "execution_count": 46,
   "outputs": [
    {
     "data": {
      "text/plain": "41"
     },
     "execution_count": 46,
     "metadata": {},
     "output_type": "execute_result"
    }
   ],
   "source": [
    "submit['label'].sum()"
   ],
   "metadata": {
    "collapsed": false,
    "ExecuteTime": {
     "end_time": "2024-02-19T05:39:33.915994800Z",
     "start_time": "2024-02-19T05:39:33.888069700Z"
    }
   },
   "id": "f6dc7557edbc3beb"
  },
  {
   "cell_type": "code",
   "execution_count": 145,
   "outputs": [],
   "source": [
    "submission = pd.read_csv(\"../submission/sample_submission.csv\")\n",
    "submission['label'] = anomaly_labels"
   ],
   "metadata": {
    "collapsed": false,
    "ExecuteTime": {
     "end_time": "2024-02-19T03:16:30.010311100Z",
     "start_time": "2024-02-19T03:16:29.991361400Z"
    }
   },
   "id": "8f8fd63618a2baa"
  },
  {
   "cell_type": "code",
   "execution_count": 146,
   "outputs": [
    {
     "data": {
      "text/plain": "          id  label\n0   TEST_000      1\n1   TEST_001      0\n2   TEST_002      1\n3   TEST_003      0\n4   TEST_004      1\n..       ...    ...\n95  TEST_095      1\n96  TEST_096      0\n97  TEST_097      1\n98  TEST_098      0\n99  TEST_099      1\n\n[100 rows x 2 columns]",
      "text/html": "<div>\n<style scoped>\n    .dataframe tbody tr th:only-of-type {\n        vertical-align: middle;\n    }\n\n    .dataframe tbody tr th {\n        vertical-align: top;\n    }\n\n    .dataframe thead th {\n        text-align: right;\n    }\n</style>\n<table border=\"1\" class=\"dataframe\">\n  <thead>\n    <tr style=\"text-align: right;\">\n      <th></th>\n      <th>id</th>\n      <th>label</th>\n    </tr>\n  </thead>\n  <tbody>\n    <tr>\n      <th>0</th>\n      <td>TEST_000</td>\n      <td>1</td>\n    </tr>\n    <tr>\n      <th>1</th>\n      <td>TEST_001</td>\n      <td>0</td>\n    </tr>\n    <tr>\n      <th>2</th>\n      <td>TEST_002</td>\n      <td>1</td>\n    </tr>\n    <tr>\n      <th>3</th>\n      <td>TEST_003</td>\n      <td>0</td>\n    </tr>\n    <tr>\n      <th>4</th>\n      <td>TEST_004</td>\n      <td>1</td>\n    </tr>\n    <tr>\n      <th>...</th>\n      <td>...</td>\n      <td>...</td>\n    </tr>\n    <tr>\n      <th>95</th>\n      <td>TEST_095</td>\n      <td>1</td>\n    </tr>\n    <tr>\n      <th>96</th>\n      <td>TEST_096</td>\n      <td>0</td>\n    </tr>\n    <tr>\n      <th>97</th>\n      <td>TEST_097</td>\n      <td>1</td>\n    </tr>\n    <tr>\n      <th>98</th>\n      <td>TEST_098</td>\n      <td>0</td>\n    </tr>\n    <tr>\n      <th>99</th>\n      <td>TEST_099</td>\n      <td>1</td>\n    </tr>\n  </tbody>\n</table>\n<p>100 rows × 2 columns</p>\n</div>"
     },
     "execution_count": 146,
     "metadata": {},
     "output_type": "execute_result"
    }
   ],
   "source": [
    "submission"
   ],
   "metadata": {
    "collapsed": false,
    "ExecuteTime": {
     "end_time": "2024-02-19T03:16:30.764655800Z",
     "start_time": "2024-02-19T03:16:30.746974500Z"
    }
   },
   "id": "e8acc305264f1256"
  },
  {
   "cell_type": "code",
   "execution_count": 323,
   "outputs": [
    {
     "ename": "NameError",
     "evalue": "name 'submission' is not defined",
     "output_type": "error",
     "traceback": [
      "\u001B[1;31m---------------------------------------------------------------------------\u001B[0m",
      "\u001B[1;31mNameError\u001B[0m                                 Traceback (most recent call last)",
      "Cell \u001B[1;32mIn[323], line 1\u001B[0m\n\u001B[1;32m----> 1\u001B[0m \u001B[43msubmission\u001B[49m\u001B[38;5;241m.\u001B[39mto_csv(\u001B[38;5;124m\"\u001B[39m\u001B[38;5;124m../submission/submission_3.csv\u001B[39m\u001B[38;5;124m\"\u001B[39m,index \u001B[38;5;241m=\u001B[39m \u001B[38;5;28;01mFalse\u001B[39;00m)\n",
      "\u001B[1;31mNameError\u001B[0m: name 'submission' is not defined"
     ]
    }
   ],
   "source": [
    "submission.to_csv(\"../submission/submission_3.csv\",index = False)"
   ],
   "metadata": {
    "collapsed": false,
    "ExecuteTime": {
     "end_time": "2024-02-19T05:25:32.845682700Z",
     "start_time": "2024-02-19T05:25:32.786959600Z"
    }
   },
   "id": "559dc0872a806984"
  },
  {
   "cell_type": "code",
   "execution_count": 47,
   "outputs": [],
   "source": [
    "submit.to_csv(\"../submission/submission_4.csv\",index = False)"
   ],
   "metadata": {
    "collapsed": false,
    "ExecuteTime": {
     "end_time": "2024-02-19T05:39:45.515633300Z",
     "start_time": "2024-02-19T05:39:45.501671300Z"
    }
   },
   "id": "b4479a66f58e7bcd"
  },
  {
   "cell_type": "code",
   "execution_count": null,
   "outputs": [],
   "source": [],
   "metadata": {
    "collapsed": false
   },
   "id": "f4bb152f517d8c9"
  }
 ],
 "metadata": {
  "kernelspec": {
   "name": "study",
   "language": "python",
   "display_name": "study"
  },
  "language_info": {
   "codemirror_mode": {
    "name": "ipython",
    "version": 2
   },
   "file_extension": ".py",
   "mimetype": "text/x-python",
   "name": "python",
   "nbconvert_exporter": "python",
   "pygments_lexer": "ipython2",
   "version": "2.7.6"
  }
 },
 "nbformat": 4,
 "nbformat_minor": 5
}

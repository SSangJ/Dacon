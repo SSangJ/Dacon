{
 "cells": [
  {
   "cell_type": "code",
   "execution_count": 1,
   "id": "initial_id",
   "metadata": {
    "collapsed": true,
    "ExecuteTime": {
     "end_time": "2024-04-15T14:46:35.108327600Z",
     "start_time": "2024-04-15T14:46:26.235025900Z"
    }
   },
   "outputs": [],
   "source": [
    "from fastai.vision.all import *\n",
    "from fastai.vision.data import *\n",
    "from fastai.vision.learner import unet_learner\n",
    "from pathlib import Path"
   ]
  },
  {
   "cell_type": "code",
   "execution_count": 11,
   "outputs": [],
   "source": [
    "# 데이터 경로 설정\n",
    "input_path = './train'\n",
    "output_path = '.'"
   ],
   "metadata": {
    "collapsed": false,
    "ExecuteTime": {
     "end_time": "2024-04-15T14:55:40.943455200Z",
     "start_time": "2024-04-15T14:55:40.923677100Z"
    }
   },
   "id": "c9ebe5ca401dafb"
  },
  {
   "cell_type": "code",
   "execution_count": 27,
   "outputs": [],
   "source": [
    "# 레이블을 생성하는 함수 정의\n",
    "def label_func(x):\n",
    "    return Path(x).parent.name  # Path 객체로 변환\n",
    "\n",
    "# 데이터 로더 설정\n",
    "dls = ImageDataLoaders.from_name_func(\n",
    "    path=input_path, fnames=get_image_files(input_path),\n",
    "    label_func=label_func, valid_pct=0,\n",
    "    item_tfms=Resize(64), batch_tfms=aug_transforms(mult=2))"
   ],
   "metadata": {
    "collapsed": false,
    "ExecuteTime": {
     "end_time": "2024-04-15T15:01:39.415053100Z",
     "start_time": "2024-04-15T15:01:39.171811Z"
    }
   },
   "id": "505125fc88f1ffb6"
  },
  {
   "cell_type": "code",
   "execution_count": 28,
   "outputs": [],
   "source": [
    "# 모델 학습기 생성\n",
    "learn = vision_learner(dls, resnet34, metrics=error_rate)"
   ],
   "metadata": {
    "collapsed": false,
    "ExecuteTime": {
     "end_time": "2024-04-15T15:01:40.005435200Z",
     "start_time": "2024-04-15T15:01:39.595080800Z"
    }
   },
   "id": "c836cfe5c5423e6b"
  },
  {
   "cell_type": "code",
   "execution_count": 29,
   "outputs": [],
   "source": [
    "# 모델 평가를 위한 이미지 선택\n",
    "img = PILImage.create(input_path + '/TRAIN_00003.jpg')"
   ],
   "metadata": {
    "collapsed": false,
    "ExecuteTime": {
     "end_time": "2024-04-15T15:01:40.882146600Z",
     "start_time": "2024-04-15T15:01:40.876162900Z"
    }
   },
   "id": "8e49569a110fbe11"
  },
  {
   "cell_type": "code",
   "execution_count": 30,
   "outputs": [
    {
     "data": {
      "text/plain": "<IPython.core.display.HTML object>",
      "text/html": "\n<style>\n    /* Turns off some styling */\n    progress {\n        /* gets rid of default border in Firefox and Opera. */\n        border: none;\n        /* Needs to be in here for Safari polyfill so background images work as expected. */\n        background-size: auto;\n    }\n    progress:not([value]), progress:not([value])::-webkit-progress-bar {\n        background: repeating-linear-gradient(45deg, #7e7e7e, #7e7e7e 10px, #5c5c5c 10px, #5c5c5c 20px);\n    }\n    .progress-bar-interrupted, .progress-bar-interrupted::-webkit-progress-bar {\n        background: #F44336;\n    }\n</style>\n"
     },
     "metadata": {},
     "output_type": "display_data"
    },
    {
     "data": {
      "text/plain": "<IPython.core.display.HTML object>",
      "text/html": "\n    <div>\n      <progress value='0' class='' max='1' style='width:300px; height:20px; vertical-align: middle;'></progress>\n      \n    </div>\n    "
     },
     "metadata": {},
     "output_type": "display_data"
    }
   ],
   "source": [
    "# 이미지 업스케일링 실행\n",
    "pred, pred_idx, probs = learn.predict(img)"
   ],
   "metadata": {
    "collapsed": false,
    "ExecuteTime": {
     "end_time": "2024-04-15T15:01:41.699201300Z",
     "start_time": "2024-04-15T15:01:41.287621100Z"
    }
   },
   "id": "6d76ad76711ba9a7"
  },
  {
   "cell_type": "code",
   "execution_count": 31,
   "outputs": [
    {
     "data": {
      "text/plain": "''"
     },
     "execution_count": 31,
     "metadata": {},
     "output_type": "execute_result"
    }
   ],
   "source": [
    "pred"
   ],
   "metadata": {
    "collapsed": false,
    "ExecuteTime": {
     "end_time": "2024-04-15T15:01:45.599477800Z",
     "start_time": "2024-04-15T15:01:45.579265800Z"
    }
   },
   "id": "200f1d2069541c58"
  },
  {
   "cell_type": "code",
   "execution_count": 21,
   "outputs": [
    {
     "ename": "AttributeError",
     "evalue": "'Category' object has no attribute 'save'",
     "output_type": "error",
     "traceback": [
      "\u001B[1;31m---------------------------------------------------------------------------\u001B[0m",
      "\u001B[1;31mAttributeError\u001B[0m                            Traceback (most recent call last)",
      "Cell \u001B[1;32mIn[21], line 2\u001B[0m\n\u001B[0;32m      1\u001B[0m \u001B[38;5;66;03m# 결과 이미지 저장\u001B[39;00m\n\u001B[1;32m----> 2\u001B[0m \u001B[43mpred\u001B[49m\u001B[38;5;241;43m.\u001B[39;49m\u001B[43msave\u001B[49m(\u001B[38;5;124mf\u001B[39m\u001B[38;5;124m'\u001B[39m\u001B[38;5;132;01m{\u001B[39;00moutput_path\u001B[38;5;132;01m}\u001B[39;00m\u001B[38;5;124m/upscaled_image.jpg\u001B[39m\u001B[38;5;124m'\u001B[39m)\n",
      "\u001B[1;31mAttributeError\u001B[0m: 'Category' object has no attribute 'save'"
     ]
    }
   ],
   "source": [
    "# 결과 이미지 저장\n",
    "pred.save(f'{output_path}/upscaled_image.jpg')"
   ],
   "metadata": {
    "collapsed": false,
    "ExecuteTime": {
     "end_time": "2024-04-15T15:00:27.528866100Z",
     "start_time": "2024-04-15T15:00:27.492963Z"
    }
   },
   "id": "b4eb9281bc87b20d"
  },
  {
   "cell_type": "code",
   "execution_count": null,
   "outputs": [],
   "source": [],
   "metadata": {
    "collapsed": false
   },
   "id": "3533861e0606d90e"
  }
 ],
 "metadata": {
  "kernelspec": {
   "display_name": "Python 3",
   "language": "python",
   "name": "python3"
  },
  "language_info": {
   "codemirror_mode": {
    "name": "ipython",
    "version": 2
   },
   "file_extension": ".py",
   "mimetype": "text/x-python",
   "name": "python",
   "nbconvert_exporter": "python",
   "pygments_lexer": "ipython2",
   "version": "2.7.6"
  }
 },
 "nbformat": 4,
 "nbformat_minor": 5
}

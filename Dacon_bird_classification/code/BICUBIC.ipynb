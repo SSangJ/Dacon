{
 "cells": [
  {
   "cell_type": "code",
   "execution_count": 4,
   "id": "initial_id",
   "metadata": {
    "collapsed": true,
    "ExecuteTime": {
     "end_time": "2024-04-15T15:14:31.484614700Z",
     "start_time": "2024-04-15T15:14:27.562208600Z"
    }
   },
   "outputs": [],
   "source": [
    "from PIL import Image\n",
    "\n",
    "# 이미지 로드\n",
    "img = Image.open('./train/TRAIN_00003.jpg')  # 이미지 파일 경로를 정확히 입력하세요\n",
    "\n",
    "# Bicubic 업스케일링으로 이미지 크기 조정\n",
    "upscaled_img = img.resize((256, 256), Image.BICUBIC)\n",
    "\n",
    "# 결과 이미지 저장\n",
    "upscaled_img.save('upscaled_image.png')\n",
    "\n",
    "# 결과 이미지 표시\n",
    "upscaled_img.show()"
   ]
  },
  {
   "cell_type": "code",
   "execution_count": 6,
   "outputs": [],
   "source": [
    "from PIL import Image\n",
    "\n",
    "# 이미지 파일을 엽니다\n",
    "img = Image.open('./train/TRAIN_00003.jpg')  # 이미지 파일 경로를 정확히 입력하세요\n",
    "\n",
    "# Lanczos 리샘플링을 사용하여 이미지의 크기를 조정합니다\n",
    "upscaled_img = img.resize((128, 128), Image.LANCZOS)\n",
    "\n",
    "# 결과 이미지를 저장합니다\n",
    "upscaled_img.save('upscaled_image.png')\n",
    "\n",
    "# 결과 이미지를 보여줍니다\n",
    "upscaled_img.show()"
   ],
   "metadata": {
    "collapsed": false,
    "ExecuteTime": {
     "end_time": "2024-04-15T15:21:15.178788100Z",
     "start_time": "2024-04-15T15:21:11.210359200Z"
    }
   },
   "id": "3355ac70261bf764"
  },
  {
   "cell_type": "code",
   "execution_count": null,
   "outputs": [],
   "source": [],
   "metadata": {
    "collapsed": false
   },
   "id": "671fd1aa200933a4"
  },
  {
   "cell_type": "code",
   "execution_count": 7,
   "outputs": [],
   "source": [
    "import torch\n",
    "from PIL import Image\n",
    "from torchvision import transforms"
   ],
   "metadata": {
    "collapsed": false,
    "ExecuteTime": {
     "end_time": "2024-04-15T15:33:22.951742400Z",
     "start_time": "2024-04-15T15:33:18.730719600Z"
    }
   },
   "id": "9abda418cc761493"
  },
  {
   "cell_type": "code",
   "execution_count": 8,
   "outputs": [],
   "source": [
    "def upscale_image(input_image_path, output_size):\n",
    "    # 이미지를 로드합니다\n",
    "    img = Image.open(input_image_path).convert('RGB')\n",
    "\n",
    "    # 업스케일링을 위한 Transform 정의\n",
    "    transform = transforms.Compose([\n",
    "        transforms.Resize(output_size, interpolation=transforms.InterpolationMode.BICUBIC),\n",
    "        transforms.ToTensor()\n",
    "    ])\n",
    "\n",
    "    # 이미지에 Transform 적용\n",
    "    img_tensor = transform(img)\n",
    "\n",
    "    # Tensor를 PIL Image로 변환 (시각화나 저장을 위해)\n",
    "    to_pil = transforms.ToPILImage()\n",
    "    upscaled_img = to_pil(img_tensor)\n",
    "\n",
    "    # 업스케일된 이미지 반환\n",
    "    return upscaled_img"
   ],
   "metadata": {
    "collapsed": false,
    "ExecuteTime": {
     "end_time": "2024-04-15T15:33:25.408756900Z",
     "start_time": "2024-04-15T15:33:25.393862600Z"
    }
   },
   "id": "e4bfa493cb318d37"
  },
  {
   "cell_type": "code",
   "execution_count": 11,
   "outputs": [],
   "source": [
    "# 입력 이미지 경로와 출력 크기 설정\n",
    "input_image_path = './train/TRAIN_00003.jpg'\n",
    "output_size = (224, 224)  # 변경할 이미지의 크기를 설정하세요\n",
    "\n",
    "# 함수를 호출하여 이미지 업스케일\n",
    "upscaled_image = upscale_image(input_image_path, output_size)\n",
    "\n",
    "# 결과 이미지를 저장하거나 보여주기\n",
    "upscaled_image.save('upscaled_image.png')\n",
    "upscaled_image.show()"
   ],
   "metadata": {
    "collapsed": false,
    "ExecuteTime": {
     "end_time": "2024-04-15T15:38:05.011890100Z",
     "start_time": "2024-04-15T15:38:01.099469300Z"
    }
   },
   "id": "1f27fa42eeb1247c"
  },
  {
   "cell_type": "code",
   "execution_count": null,
   "outputs": [],
   "source": [],
   "metadata": {
    "collapsed": false
   },
   "id": "20c35876fba0ad22"
  }
 ],
 "metadata": {
  "kernelspec": {
   "display_name": "Python 3",
   "language": "python",
   "name": "python3"
  },
  "language_info": {
   "codemirror_mode": {
    "name": "ipython",
    "version": 2
   },
   "file_extension": ".py",
   "mimetype": "text/x-python",
   "name": "python",
   "nbconvert_exporter": "python",
   "pygments_lexer": "ipython2",
   "version": "2.7.6"
  }
 },
 "nbformat": 4,
 "nbformat_minor": 5
}

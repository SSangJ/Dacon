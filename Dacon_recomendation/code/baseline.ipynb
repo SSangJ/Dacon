{
 "cells": [
  {
   "cell_type": "code",
   "execution_count": 1,
   "id": "initial_id",
   "metadata": {
    "collapsed": true,
    "ExecuteTime": {
     "end_time": "2024-06-05T15:24:11.860371200Z",
     "start_time": "2024-06-05T15:24:08.387844300Z"
    }
   },
   "outputs": [],
   "source": [
    "import pandas as pd\n",
    "import numpy as np\n",
    "from sklearn.metrics.pairwise import cosine_similarity\n",
    "\n",
    "view_log_train = pd.read_csv('../data/view_log.csv')\n",
    "article_info = pd.read_csv('../data/article_info.csv')\n",
    "submission = pd.read_csv('../submission/sample_submission.csv')"
   ]
  },
  {
   "cell_type": "code",
   "execution_count": 5,
   "outputs": [
    {
     "data": {
      "text/plain": "      userID     articleID userRegion userCountry\n0  USER_0000  ARTICLE_0661         NY          US\n1  USER_0000  ARTICLE_2316         NY          US\n2  USER_0000  ARTICLE_1345         NY          US\n3  USER_0000  ARTICLE_1089         NY          US\n4  USER_0000  ARTICLE_1484         NY          US",
      "text/html": "<div>\n<style scoped>\n    .dataframe tbody tr th:only-of-type {\n        vertical-align: middle;\n    }\n\n    .dataframe tbody tr th {\n        vertical-align: top;\n    }\n\n    .dataframe thead th {\n        text-align: right;\n    }\n</style>\n<table border=\"1\" class=\"dataframe\">\n  <thead>\n    <tr style=\"text-align: right;\">\n      <th></th>\n      <th>userID</th>\n      <th>articleID</th>\n      <th>userRegion</th>\n      <th>userCountry</th>\n    </tr>\n  </thead>\n  <tbody>\n    <tr>\n      <th>0</th>\n      <td>USER_0000</td>\n      <td>ARTICLE_0661</td>\n      <td>NY</td>\n      <td>US</td>\n    </tr>\n    <tr>\n      <th>1</th>\n      <td>USER_0000</td>\n      <td>ARTICLE_2316</td>\n      <td>NY</td>\n      <td>US</td>\n    </tr>\n    <tr>\n      <th>2</th>\n      <td>USER_0000</td>\n      <td>ARTICLE_1345</td>\n      <td>NY</td>\n      <td>US</td>\n    </tr>\n    <tr>\n      <th>3</th>\n      <td>USER_0000</td>\n      <td>ARTICLE_1089</td>\n      <td>NY</td>\n      <td>US</td>\n    </tr>\n    <tr>\n      <th>4</th>\n      <td>USER_0000</td>\n      <td>ARTICLE_1484</td>\n      <td>NY</td>\n      <td>US</td>\n    </tr>\n  </tbody>\n</table>\n</div>"
     },
     "execution_count": 5,
     "metadata": {},
     "output_type": "execute_result"
    }
   ],
   "source": [
    "view_log_train.head()"
   ],
   "metadata": {
    "collapsed": false,
    "ExecuteTime": {
     "end_time": "2024-06-05T15:25:42.354516800Z",
     "start_time": "2024-06-05T15:25:42.331577200Z"
    }
   },
   "id": "753224c31e586387"
  },
  {
   "cell_type": "code",
   "execution_count": 6,
   "outputs": [
    {
     "data": {
      "text/plain": "      articleID                                              Title  \\\n0  ARTICLE_0000                       19 Tips For Everyday Git Use   \n1  ARTICLE_0001  Intel buys computer vision startup Itseez to i...   \n2  ARTICLE_0002       Practical End-to-End Testing with Protractor   \n3  ARTICLE_0003  Corporate venture growth in Brazil is another ...   \n4  ARTICLE_0004  Cross-channel user experiences with Drupal (aw...   \n\n                                             Content Format Language  \\\n0  I've been using git full time for the past 4 y...   HTML       en   \n1  Intel has acquired computer vision and machine...   HTML       en   \n2  One of the reasons AngularJS is so great to wo...   HTML       en   \n3  Despite recent positive news and a renewed int...   HTML       en   \n4  Last year around this time, I wrote that The B...   HTML       en   \n\n      userID userCountry userRegion  \n0  USER_0683         NaN        NaN  \n1  USER_1129         NaN        NaN  \n2  USER_0256         NaN        NaN  \n3  USER_1304         NaN        NaN  \n4  USER_0336         NaN        NaN  ",
      "text/html": "<div>\n<style scoped>\n    .dataframe tbody tr th:only-of-type {\n        vertical-align: middle;\n    }\n\n    .dataframe tbody tr th {\n        vertical-align: top;\n    }\n\n    .dataframe thead th {\n        text-align: right;\n    }\n</style>\n<table border=\"1\" class=\"dataframe\">\n  <thead>\n    <tr style=\"text-align: right;\">\n      <th></th>\n      <th>articleID</th>\n      <th>Title</th>\n      <th>Content</th>\n      <th>Format</th>\n      <th>Language</th>\n      <th>userID</th>\n      <th>userCountry</th>\n      <th>userRegion</th>\n    </tr>\n  </thead>\n  <tbody>\n    <tr>\n      <th>0</th>\n      <td>ARTICLE_0000</td>\n      <td>19 Tips For Everyday Git Use</td>\n      <td>I've been using git full time for the past 4 y...</td>\n      <td>HTML</td>\n      <td>en</td>\n      <td>USER_0683</td>\n      <td>NaN</td>\n      <td>NaN</td>\n    </tr>\n    <tr>\n      <th>1</th>\n      <td>ARTICLE_0001</td>\n      <td>Intel buys computer vision startup Itseez to i...</td>\n      <td>Intel has acquired computer vision and machine...</td>\n      <td>HTML</td>\n      <td>en</td>\n      <td>USER_1129</td>\n      <td>NaN</td>\n      <td>NaN</td>\n    </tr>\n    <tr>\n      <th>2</th>\n      <td>ARTICLE_0002</td>\n      <td>Practical End-to-End Testing with Protractor</td>\n      <td>One of the reasons AngularJS is so great to wo...</td>\n      <td>HTML</td>\n      <td>en</td>\n      <td>USER_0256</td>\n      <td>NaN</td>\n      <td>NaN</td>\n    </tr>\n    <tr>\n      <th>3</th>\n      <td>ARTICLE_0003</td>\n      <td>Corporate venture growth in Brazil is another ...</td>\n      <td>Despite recent positive news and a renewed int...</td>\n      <td>HTML</td>\n      <td>en</td>\n      <td>USER_1304</td>\n      <td>NaN</td>\n      <td>NaN</td>\n    </tr>\n    <tr>\n      <th>4</th>\n      <td>ARTICLE_0004</td>\n      <td>Cross-channel user experiences with Drupal (aw...</td>\n      <td>Last year around this time, I wrote that The B...</td>\n      <td>HTML</td>\n      <td>en</td>\n      <td>USER_0336</td>\n      <td>NaN</td>\n      <td>NaN</td>\n    </tr>\n  </tbody>\n</table>\n</div>"
     },
     "execution_count": 6,
     "metadata": {},
     "output_type": "execute_result"
    }
   ],
   "source": [
    "article_info.head()"
   ],
   "metadata": {
    "collapsed": false,
    "ExecuteTime": {
     "end_time": "2024-06-05T15:25:49.152514300Z",
     "start_time": "2024-06-05T15:25:49.135558400Z"
    }
   },
   "id": "c5c676fe06afdd29"
  },
  {
   "cell_type": "code",
   "execution_count": 2,
   "outputs": [],
   "source": [
    "user_article_matrix = view_log_train.groupby(['userID', 'articleID']).size().unstack(fill_value=0)"
   ],
   "metadata": {
    "collapsed": false,
    "ExecuteTime": {
     "end_time": "2024-06-05T15:24:18.069667700Z",
     "start_time": "2024-06-05T15:24:18.023137800Z"
    }
   },
   "id": "2390c8f3d3818040"
  },
  {
   "cell_type": "code",
   "execution_count": 4,
   "outputs": [
    {
     "data": {
      "text/plain": "articleID  ARTICLE_0000  ARTICLE_0001  ARTICLE_0002  ARTICLE_0003  \\\nuserID                                                              \nUSER_0000             0             0             0             0   \nUSER_0001             0             0             0             0   \nUSER_0002             0             0             0             0   \nUSER_0003             0             0             0             0   \nUSER_0004             0             0             0             0   \n\narticleID  ARTICLE_0004  ARTICLE_0005  ARTICLE_0006  ARTICLE_0007  \\\nuserID                                                              \nUSER_0000             0             0             0             0   \nUSER_0001             0             0             0             0   \nUSER_0002             0             0             0             0   \nUSER_0003             0             0             0             0   \nUSER_0004             0             0             0             0   \n\narticleID  ARTICLE_0008  ARTICLE_0009  ...  ARTICLE_2998  ARTICLE_2999  \\\nuserID                                 ...                               \nUSER_0000             0             0  ...             0             0   \nUSER_0001             0             0  ...             0             0   \nUSER_0002             0             0  ...             0             0   \nUSER_0003             0             0  ...             0             0   \nUSER_0004             0             0  ...             0             0   \n\narticleID  ARTICLE_3000  ARTICLE_3001  ARTICLE_3002  ARTICLE_3003  \\\nuserID                                                              \nUSER_0000             0             0             0             0   \nUSER_0001             0             0             0             0   \nUSER_0002             0             0             0             0   \nUSER_0003             0             0             0             0   \nUSER_0004             0             0             0             0   \n\narticleID  ARTICLE_3004  ARTICLE_3005  ARTICLE_3006  ARTICLE_3007  \nuserID                                                             \nUSER_0000             0             0             0             0  \nUSER_0001             0             0             0             0  \nUSER_0002             0             0             0             0  \nUSER_0003             0             0             0             0  \nUSER_0004             0             0             0             0  \n\n[5 rows x 2879 columns]",
      "text/html": "<div>\n<style scoped>\n    .dataframe tbody tr th:only-of-type {\n        vertical-align: middle;\n    }\n\n    .dataframe tbody tr th {\n        vertical-align: top;\n    }\n\n    .dataframe thead th {\n        text-align: right;\n    }\n</style>\n<table border=\"1\" class=\"dataframe\">\n  <thead>\n    <tr style=\"text-align: right;\">\n      <th>articleID</th>\n      <th>ARTICLE_0000</th>\n      <th>ARTICLE_0001</th>\n      <th>ARTICLE_0002</th>\n      <th>ARTICLE_0003</th>\n      <th>ARTICLE_0004</th>\n      <th>ARTICLE_0005</th>\n      <th>ARTICLE_0006</th>\n      <th>ARTICLE_0007</th>\n      <th>ARTICLE_0008</th>\n      <th>ARTICLE_0009</th>\n      <th>...</th>\n      <th>ARTICLE_2998</th>\n      <th>ARTICLE_2999</th>\n      <th>ARTICLE_3000</th>\n      <th>ARTICLE_3001</th>\n      <th>ARTICLE_3002</th>\n      <th>ARTICLE_3003</th>\n      <th>ARTICLE_3004</th>\n      <th>ARTICLE_3005</th>\n      <th>ARTICLE_3006</th>\n      <th>ARTICLE_3007</th>\n    </tr>\n    <tr>\n      <th>userID</th>\n      <th></th>\n      <th></th>\n      <th></th>\n      <th></th>\n      <th></th>\n      <th></th>\n      <th></th>\n      <th></th>\n      <th></th>\n      <th></th>\n      <th></th>\n      <th></th>\n      <th></th>\n      <th></th>\n      <th></th>\n      <th></th>\n      <th></th>\n      <th></th>\n      <th></th>\n      <th></th>\n      <th></th>\n    </tr>\n  </thead>\n  <tbody>\n    <tr>\n      <th>USER_0000</th>\n      <td>0</td>\n      <td>0</td>\n      <td>0</td>\n      <td>0</td>\n      <td>0</td>\n      <td>0</td>\n      <td>0</td>\n      <td>0</td>\n      <td>0</td>\n      <td>0</td>\n      <td>...</td>\n      <td>0</td>\n      <td>0</td>\n      <td>0</td>\n      <td>0</td>\n      <td>0</td>\n      <td>0</td>\n      <td>0</td>\n      <td>0</td>\n      <td>0</td>\n      <td>0</td>\n    </tr>\n    <tr>\n      <th>USER_0001</th>\n      <td>0</td>\n      <td>0</td>\n      <td>0</td>\n      <td>0</td>\n      <td>0</td>\n      <td>0</td>\n      <td>0</td>\n      <td>0</td>\n      <td>0</td>\n      <td>0</td>\n      <td>...</td>\n      <td>0</td>\n      <td>0</td>\n      <td>0</td>\n      <td>0</td>\n      <td>0</td>\n      <td>0</td>\n      <td>0</td>\n      <td>0</td>\n      <td>0</td>\n      <td>0</td>\n    </tr>\n    <tr>\n      <th>USER_0002</th>\n      <td>0</td>\n      <td>0</td>\n      <td>0</td>\n      <td>0</td>\n      <td>0</td>\n      <td>0</td>\n      <td>0</td>\n      <td>0</td>\n      <td>0</td>\n      <td>0</td>\n      <td>...</td>\n      <td>0</td>\n      <td>0</td>\n      <td>0</td>\n      <td>0</td>\n      <td>0</td>\n      <td>0</td>\n      <td>0</td>\n      <td>0</td>\n      <td>0</td>\n      <td>0</td>\n    </tr>\n    <tr>\n      <th>USER_0003</th>\n      <td>0</td>\n      <td>0</td>\n      <td>0</td>\n      <td>0</td>\n      <td>0</td>\n      <td>0</td>\n      <td>0</td>\n      <td>0</td>\n      <td>0</td>\n      <td>0</td>\n      <td>...</td>\n      <td>0</td>\n      <td>0</td>\n      <td>0</td>\n      <td>0</td>\n      <td>0</td>\n      <td>0</td>\n      <td>0</td>\n      <td>0</td>\n      <td>0</td>\n      <td>0</td>\n    </tr>\n    <tr>\n      <th>USER_0004</th>\n      <td>0</td>\n      <td>0</td>\n      <td>0</td>\n      <td>0</td>\n      <td>0</td>\n      <td>0</td>\n      <td>0</td>\n      <td>0</td>\n      <td>0</td>\n      <td>0</td>\n      <td>...</td>\n      <td>0</td>\n      <td>0</td>\n      <td>0</td>\n      <td>0</td>\n      <td>0</td>\n      <td>0</td>\n      <td>0</td>\n      <td>0</td>\n      <td>0</td>\n      <td>0</td>\n    </tr>\n  </tbody>\n</table>\n<p>5 rows × 2879 columns</p>\n</div>"
     },
     "execution_count": 4,
     "metadata": {},
     "output_type": "execute_result"
    }
   ],
   "source": [
    "user_article_matrix.head()"
   ],
   "metadata": {
    "collapsed": false,
    "ExecuteTime": {
     "end_time": "2024-06-05T15:24:44.685099500Z",
     "start_time": "2024-06-05T15:24:44.653186Z"
    }
   },
   "id": "b0c3dba16fd0788c"
  },
  {
   "cell_type": "code",
   "execution_count": 7,
   "outputs": [],
   "source": [
    "user_similarity = cosine_similarity(user_article_matrix)\n"
   ],
   "metadata": {
    "collapsed": false,
    "ExecuteTime": {
     "end_time": "2024-06-05T15:34:43.194416600Z",
     "start_time": "2024-06-05T15:34:43.104664Z"
    }
   },
   "id": "783716a19e89fb57"
  },
  {
   "cell_type": "code",
   "execution_count": 8,
   "outputs": [
    {
     "data": {
      "text/plain": "array([[1.        , 0.        , 0.        , ..., 0.02571722, 0.        ,\n        0.01028689],\n       [0.        , 1.        , 0.        , ..., 0.        , 0.00847884,\n        0.02581989],\n       [0.        , 0.        , 1.        , ..., 0.        , 0.06495046,\n        0.        ],\n       ...,\n       [0.02571722, 0.        , 0.        , ..., 1.        , 0.        ,\n        0.        ],\n       [0.        , 0.00847884, 0.06495046, ..., 0.        , 1.        ,\n        0.        ],\n       [0.01028689, 0.02581989, 0.        , ..., 0.        , 0.        ,\n        1.        ]])"
     },
     "execution_count": 8,
     "metadata": {},
     "output_type": "execute_result"
    }
   ],
   "source": [
    "user_similarity"
   ],
   "metadata": {
    "collapsed": false,
    "ExecuteTime": {
     "end_time": "2024-06-05T15:34:47.976616300Z",
     "start_time": "2024-06-05T15:34:47.961943400Z"
    }
   },
   "id": "b02366a44d0c6240"
  },
  {
   "cell_type": "code",
   "execution_count": 10,
   "outputs": [],
   "source": [
    "user_predicted_scores = user_similarity.dot(user_article_matrix) / np.array([np.abs(user_similarity).sum(axis=1)]).T\n"
   ],
   "metadata": {
    "collapsed": false,
    "ExecuteTime": {
     "end_time": "2024-06-05T15:35:55.837753400Z",
     "start_time": "2024-06-05T15:35:55.676881600Z"
    }
   },
   "id": "5a450d5c8f62ca20"
  },
  {
   "cell_type": "code",
   "execution_count": 11,
   "outputs": [
    {
     "data": {
      "text/plain": "array([[0.01635677, 0.03922991, 0.00452033, ..., 0.00937059, 0.02394942,\n        0.02622418],\n       [0.01945815, 0.00598531, 0.0004365 , ..., 0.01538668, 0.02710833,\n        0.00398137],\n       [0.03393534, 0.01010633, 0.00108347, ..., 0.06788127, 0.03008129,\n        0.0098929 ],\n       ...,\n       [0.01438303, 0.00844972, 0.00021909, ..., 0.03515472, 0.08179751,\n        0.00730041],\n       [0.0373851 , 0.00141859, 0.00021209, ..., 0.02351579, 0.06250373,\n        0.00406303],\n       [0.01883932, 0.02046381, 0.00180259, ..., 0.01480964, 0.02338439,\n        0.02576106]])"
     },
     "execution_count": 11,
     "metadata": {},
     "output_type": "execute_result"
    }
   ],
   "source": [
    "user_predicted_scores"
   ],
   "metadata": {
    "collapsed": false,
    "ExecuteTime": {
     "end_time": "2024-06-05T15:35:59.810686900Z",
     "start_time": "2024-06-05T15:35:59.795724300Z"
    }
   },
   "id": "9bd42fd42b9e82fd"
  },
  {
   "cell_type": "code",
   "execution_count": 12,
   "outputs": [],
   "source": [
    "recommendations = []\n",
    "for idx, user in enumerate(user_article_matrix.index):\n",
    "    sorted_indices = user_predicted_scores[idx].argsort()[::-1]\n",
    "    top5recommend = [article for article in user_article_matrix.columns[sorted_indices]][:5]\n",
    "\n",
    "    for article in top5recommend:\n",
    "        recommendations.append([user, article])\n"
   ],
   "metadata": {
    "collapsed": false,
    "ExecuteTime": {
     "end_time": "2024-06-05T15:45:02.112995500Z",
     "start_time": "2024-06-05T15:45:01.623764800Z"
    }
   },
   "id": "35157073ff7ac8ac"
  },
  {
   "cell_type": "code",
   "execution_count": 13,
   "outputs": [],
   "source": [
    "top_recommendations = pd.DataFrame(recommendations, columns=['userID', 'articleID'])\n",
    "\n",
    "submission['articleID'] = top_recommendations['articleID']\n",
    "\n",
    "submission.to_csv('../submission/baseline_submission.csv', index=False)\n"
   ],
   "metadata": {
    "collapsed": false,
    "ExecuteTime": {
     "end_time": "2024-06-05T15:45:18.314223500Z",
     "start_time": "2024-06-05T15:45:18.277056800Z"
    }
   },
   "id": "457851268332d194"
  },
  {
   "cell_type": "code",
   "execution_count": 14,
   "outputs": [
    {
     "data": {
      "text/plain": "         userID     articleID\n0     USER_0000  ARTICLE_0411\n1     USER_0000  ARTICLE_0664\n2     USER_0000  ARTICLE_1568\n3     USER_0000  ARTICLE_1230\n4     USER_0000  ARTICLE_2255\n...         ...           ...\n7070  USER_1420  ARTICLE_0030\n7071  USER_1420  ARTICLE_0614\n7072  USER_1420  ARTICLE_1901\n7073  USER_1420  ARTICLE_0714\n7074  USER_1420  ARTICLE_2865\n\n[7075 rows x 2 columns]",
      "text/html": "<div>\n<style scoped>\n    .dataframe tbody tr th:only-of-type {\n        vertical-align: middle;\n    }\n\n    .dataframe tbody tr th {\n        vertical-align: top;\n    }\n\n    .dataframe thead th {\n        text-align: right;\n    }\n</style>\n<table border=\"1\" class=\"dataframe\">\n  <thead>\n    <tr style=\"text-align: right;\">\n      <th></th>\n      <th>userID</th>\n      <th>articleID</th>\n    </tr>\n  </thead>\n  <tbody>\n    <tr>\n      <th>0</th>\n      <td>USER_0000</td>\n      <td>ARTICLE_0411</td>\n    </tr>\n    <tr>\n      <th>1</th>\n      <td>USER_0000</td>\n      <td>ARTICLE_0664</td>\n    </tr>\n    <tr>\n      <th>2</th>\n      <td>USER_0000</td>\n      <td>ARTICLE_1568</td>\n    </tr>\n    <tr>\n      <th>3</th>\n      <td>USER_0000</td>\n      <td>ARTICLE_1230</td>\n    </tr>\n    <tr>\n      <th>4</th>\n      <td>USER_0000</td>\n      <td>ARTICLE_2255</td>\n    </tr>\n    <tr>\n      <th>...</th>\n      <td>...</td>\n      <td>...</td>\n    </tr>\n    <tr>\n      <th>7070</th>\n      <td>USER_1420</td>\n      <td>ARTICLE_0030</td>\n    </tr>\n    <tr>\n      <th>7071</th>\n      <td>USER_1420</td>\n      <td>ARTICLE_0614</td>\n    </tr>\n    <tr>\n      <th>7072</th>\n      <td>USER_1420</td>\n      <td>ARTICLE_1901</td>\n    </tr>\n    <tr>\n      <th>7073</th>\n      <td>USER_1420</td>\n      <td>ARTICLE_0714</td>\n    </tr>\n    <tr>\n      <th>7074</th>\n      <td>USER_1420</td>\n      <td>ARTICLE_2865</td>\n    </tr>\n  </tbody>\n</table>\n<p>7075 rows × 2 columns</p>\n</div>"
     },
     "execution_count": 14,
     "metadata": {},
     "output_type": "execute_result"
    }
   ],
   "source": [
    "submission"
   ],
   "metadata": {
    "collapsed": false,
    "ExecuteTime": {
     "end_time": "2024-06-05T15:45:23.372625700Z",
     "start_time": "2024-06-05T15:45:23.345697200Z"
    }
   },
   "id": "412874391ab89e98"
  },
  {
   "cell_type": "code",
   "execution_count": null,
   "outputs": [],
   "source": [],
   "metadata": {
    "collapsed": false
   },
   "id": "8ebd850688b9aab7"
  }
 ],
 "metadata": {
  "kernelspec": {
   "display_name": "Python 3",
   "language": "python",
   "name": "python3"
  },
  "language_info": {
   "codemirror_mode": {
    "name": "ipython",
    "version": 2
   },
   "file_extension": ".py",
   "mimetype": "text/x-python",
   "name": "python",
   "nbconvert_exporter": "python",
   "pygments_lexer": "ipython2",
   "version": "2.7.6"
  }
 },
 "nbformat": 4,
 "nbformat_minor": 5
}

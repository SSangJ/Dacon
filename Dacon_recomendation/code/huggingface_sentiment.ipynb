{
 "cells": [
  {
   "cell_type": "code",
   "execution_count": 23,
   "id": "initial_id",
   "metadata": {
    "collapsed": true,
    "ExecuteTime": {
     "end_time": "2024-06-06T09:04:30.060743Z",
     "start_time": "2024-06-06T09:04:29.876909600Z"
    }
   },
   "outputs": [],
   "source": [
    "import pandas as pd\n",
    "import numpy as np\n",
    "from sklearn.metrics.pairwise import cosine_similarity\n",
    "\n",
    "view_log_train = pd.read_csv('../data/view_log.csv')\n",
    "article_info = pd.read_csv('../data/article_info.csv')\n",
    "submission = pd.read_csv('../submission/sample_submission.csv')"
   ]
  },
  {
   "cell_type": "code",
   "execution_count": 24,
   "outputs": [
    {
     "data": {
      "text/plain": "      articleID                                              Title  \\\n0  ARTICLE_0000                       19 Tips For Everyday Git Use   \n1  ARTICLE_0001  Intel buys computer vision startup Itseez to i...   \n2  ARTICLE_0002       Practical End-to-End Testing with Protractor   \n3  ARTICLE_0003  Corporate venture growth in Brazil is another ...   \n4  ARTICLE_0004  Cross-channel user experiences with Drupal (aw...   \n\n                                             Content Format Language  \\\n0  I've been using git full time for the past 4 y...   HTML       en   \n1  Intel has acquired computer vision and machine...   HTML       en   \n2  One of the reasons AngularJS is so great to wo...   HTML       en   \n3  Despite recent positive news and a renewed int...   HTML       en   \n4  Last year around this time, I wrote that The B...   HTML       en   \n\n      userID userCountry userRegion  \n0  USER_0683         NaN        NaN  \n1  USER_1129         NaN        NaN  \n2  USER_0256         NaN        NaN  \n3  USER_1304         NaN        NaN  \n4  USER_0336         NaN        NaN  ",
      "text/html": "<div>\n<style scoped>\n    .dataframe tbody tr th:only-of-type {\n        vertical-align: middle;\n    }\n\n    .dataframe tbody tr th {\n        vertical-align: top;\n    }\n\n    .dataframe thead th {\n        text-align: right;\n    }\n</style>\n<table border=\"1\" class=\"dataframe\">\n  <thead>\n    <tr style=\"text-align: right;\">\n      <th></th>\n      <th>articleID</th>\n      <th>Title</th>\n      <th>Content</th>\n      <th>Format</th>\n      <th>Language</th>\n      <th>userID</th>\n      <th>userCountry</th>\n      <th>userRegion</th>\n    </tr>\n  </thead>\n  <tbody>\n    <tr>\n      <th>0</th>\n      <td>ARTICLE_0000</td>\n      <td>19 Tips For Everyday Git Use</td>\n      <td>I've been using git full time for the past 4 y...</td>\n      <td>HTML</td>\n      <td>en</td>\n      <td>USER_0683</td>\n      <td>NaN</td>\n      <td>NaN</td>\n    </tr>\n    <tr>\n      <th>1</th>\n      <td>ARTICLE_0001</td>\n      <td>Intel buys computer vision startup Itseez to i...</td>\n      <td>Intel has acquired computer vision and machine...</td>\n      <td>HTML</td>\n      <td>en</td>\n      <td>USER_1129</td>\n      <td>NaN</td>\n      <td>NaN</td>\n    </tr>\n    <tr>\n      <th>2</th>\n      <td>ARTICLE_0002</td>\n      <td>Practical End-to-End Testing with Protractor</td>\n      <td>One of the reasons AngularJS is so great to wo...</td>\n      <td>HTML</td>\n      <td>en</td>\n      <td>USER_0256</td>\n      <td>NaN</td>\n      <td>NaN</td>\n    </tr>\n    <tr>\n      <th>3</th>\n      <td>ARTICLE_0003</td>\n      <td>Corporate venture growth in Brazil is another ...</td>\n      <td>Despite recent positive news and a renewed int...</td>\n      <td>HTML</td>\n      <td>en</td>\n      <td>USER_1304</td>\n      <td>NaN</td>\n      <td>NaN</td>\n    </tr>\n    <tr>\n      <th>4</th>\n      <td>ARTICLE_0004</td>\n      <td>Cross-channel user experiences with Drupal (aw...</td>\n      <td>Last year around this time, I wrote that The B...</td>\n      <td>HTML</td>\n      <td>en</td>\n      <td>USER_0336</td>\n      <td>NaN</td>\n      <td>NaN</td>\n    </tr>\n  </tbody>\n</table>\n</div>"
     },
     "execution_count": 24,
     "metadata": {},
     "output_type": "execute_result"
    }
   ],
   "source": [
    "article_info.head()"
   ],
   "metadata": {
    "collapsed": false,
    "ExecuteTime": {
     "end_time": "2024-06-06T09:04:30.158221200Z",
     "start_time": "2024-06-06T09:04:30.114600100Z"
    }
   },
   "id": "8ebd850688b9aab7"
  },
  {
   "cell_type": "code",
   "execution_count": 32,
   "outputs": [],
   "source": [
    "from transformers import BertTokenizer, BertForSequenceClassification\n",
    "import torch"
   ],
   "metadata": {
    "collapsed": false,
    "ExecuteTime": {
     "end_time": "2024-06-06T09:07:31.404194Z",
     "start_time": "2024-06-06T09:07:31.380260200Z"
    }
   },
   "id": "9b441f417d85ef2e"
  },
  {
   "cell_type": "code",
   "execution_count": 33,
   "outputs": [
    {
     "data": {
      "text/plain": "tokenizer_config.json:   0%|          | 0.00/39.0 [00:00<?, ?B/s]",
      "application/vnd.jupyter.widget-view+json": {
       "version_major": 2,
       "version_minor": 0,
       "model_id": "b264b5fcb4144fbdbaa79e3b8c0f0c23"
      }
     },
     "metadata": {},
     "output_type": "display_data"
    },
    {
     "name": "stderr",
     "output_type": "stream",
     "text": [
      "C:\\Users\\SJ\\anaconda3\\envs\\study\\lib\\site-packages\\huggingface_hub\\file_download.py:149: UserWarning: `huggingface_hub` cache-system uses symlinks by default to efficiently store duplicated files but your machine does not support them in C:\\Users\\SJ\\.cache\\huggingface\\hub\\models--nlptown--bert-base-multilingual-uncased-sentiment. Caching files will still work but in a degraded version that might require more space on your disk. This warning can be disabled by setting the `HF_HUB_DISABLE_SYMLINKS_WARNING` environment variable. For more details, see https://huggingface.co/docs/huggingface_hub/how-to-cache#limitations.\n",
      "To support symlinks on Windows, you either need to activate Developer Mode or to run Python as an administrator. In order to see activate developer mode, see this article: https://docs.microsoft.com/en-us/windows/apps/get-started/enable-your-device-for-development\n",
      "  warnings.warn(message)\n"
     ]
    },
    {
     "data": {
      "text/plain": "vocab.txt:   0%|          | 0.00/872k [00:00<?, ?B/s]",
      "application/vnd.jupyter.widget-view+json": {
       "version_major": 2,
       "version_minor": 0,
       "model_id": "f1672c584ffd4c0ca98eb092f5ab0bcf"
      }
     },
     "metadata": {},
     "output_type": "display_data"
    },
    {
     "data": {
      "text/plain": "special_tokens_map.json:   0%|          | 0.00/112 [00:00<?, ?B/s]",
      "application/vnd.jupyter.widget-view+json": {
       "version_major": 2,
       "version_minor": 0,
       "model_id": "192b4ecb15794d079b188472d0360f69"
      }
     },
     "metadata": {},
     "output_type": "display_data"
    },
    {
     "data": {
      "text/plain": "config.json:   0%|          | 0.00/953 [00:00<?, ?B/s]",
      "application/vnd.jupyter.widget-view+json": {
       "version_major": 2,
       "version_minor": 0,
       "model_id": "85f582b7e2124f75b060433fbd240902"
      }
     },
     "metadata": {},
     "output_type": "display_data"
    },
    {
     "data": {
      "text/plain": "pytorch_model.bin:   0%|          | 0.00/669M [00:00<?, ?B/s]",
      "application/vnd.jupyter.widget-view+json": {
       "version_major": 2,
       "version_minor": 0,
       "model_id": "cb53c0c7737040e884a114bdc5ac786b"
      }
     },
     "metadata": {},
     "output_type": "display_data"
    }
   ],
   "source": [
    "# 사전학습된 모델과 토크나이저 로드\n",
    "model_name = 'nlptown/bert-base-multilingual-uncased-sentiment'\n",
    "tokenizer = BertTokenizer.from_pretrained(model_name)\n",
    "model = BertForSequenceClassification.from_pretrained(model_name)"
   ],
   "metadata": {
    "collapsed": false,
    "ExecuteTime": {
     "end_time": "2024-06-06T09:08:40.648871300Z",
     "start_time": "2024-06-06T09:07:36.928673400Z"
    }
   },
   "id": "3ac9d7cab2007a01"
  },
  {
   "cell_type": "code",
   "execution_count": 34,
   "outputs": [
    {
     "data": {
      "text/plain": "BertForSequenceClassification(\n  (bert): BertModel(\n    (embeddings): BertEmbeddings(\n      (word_embeddings): Embedding(105879, 768, padding_idx=0)\n      (position_embeddings): Embedding(512, 768)\n      (token_type_embeddings): Embedding(2, 768)\n      (LayerNorm): LayerNorm((768,), eps=1e-12, elementwise_affine=True)\n      (dropout): Dropout(p=0.1, inplace=False)\n    )\n    (encoder): BertEncoder(\n      (layer): ModuleList(\n        (0-11): 12 x BertLayer(\n          (attention): BertAttention(\n            (self): BertSelfAttention(\n              (query): Linear(in_features=768, out_features=768, bias=True)\n              (key): Linear(in_features=768, out_features=768, bias=True)\n              (value): Linear(in_features=768, out_features=768, bias=True)\n              (dropout): Dropout(p=0.1, inplace=False)\n            )\n            (output): BertSelfOutput(\n              (dense): Linear(in_features=768, out_features=768, bias=True)\n              (LayerNorm): LayerNorm((768,), eps=1e-12, elementwise_affine=True)\n              (dropout): Dropout(p=0.1, inplace=False)\n            )\n          )\n          (intermediate): BertIntermediate(\n            (dense): Linear(in_features=768, out_features=3072, bias=True)\n            (intermediate_act_fn): GELUActivation()\n          )\n          (output): BertOutput(\n            (dense): Linear(in_features=3072, out_features=768, bias=True)\n            (LayerNorm): LayerNorm((768,), eps=1e-12, elementwise_affine=True)\n            (dropout): Dropout(p=0.1, inplace=False)\n          )\n        )\n      )\n    )\n    (pooler): BertPooler(\n      (dense): Linear(in_features=768, out_features=768, bias=True)\n      (activation): Tanh()\n    )\n  )\n  (dropout): Dropout(p=0.1, inplace=False)\n  (classifier): Linear(in_features=768, out_features=5, bias=True)\n)"
     },
     "execution_count": 34,
     "metadata": {},
     "output_type": "execute_result"
    }
   ],
   "source": [
    "# GPU 사용 여부 설정\n",
    "device = torch.device('cuda' if torch.cuda.is_available() else 'cpu')\n",
    "model.to(device)"
   ],
   "metadata": {
    "collapsed": false,
    "ExecuteTime": {
     "end_time": "2024-06-06T09:08:48.022729100Z",
     "start_time": "2024-06-06T09:08:46.631708600Z"
    }
   },
   "id": "dbad6ea7cde0d8ef"
  },
  {
   "cell_type": "code",
   "execution_count": 35,
   "outputs": [],
   "source": [
    "# 예측 함수 정의\n",
    "def predict(text):\n",
    "    inputs = tokenizer(text, return_tensors='pt', padding=True, truncation=True, max_length=512)\n",
    "    inputs = {k: v.to(device) for k, v in inputs.items()}\n",
    "    with torch.no_grad():\n",
    "        outputs = model(**inputs)\n",
    "    logits = outputs.logits\n",
    "    predictions = torch.argmax(logits, dim=-1)\n",
    "    return predictions.item()"
   ],
   "metadata": {
    "collapsed": false,
    "ExecuteTime": {
     "end_time": "2024-06-06T09:08:57.619197Z",
     "start_time": "2024-06-06T09:08:57.597254600Z"
    }
   },
   "id": "2b7d9538588334c5"
  },
  {
   "cell_type": "code",
   "execution_count": 43,
   "outputs": [],
   "source": [
    "predicted_labels = []\n",
    "\n",
    "for text in article_info['Content']:\n",
    "    label = predict(text)\n",
    "    predicted_labels.append(label)"
   ],
   "metadata": {
    "collapsed": false,
    "ExecuteTime": {
     "end_time": "2024-06-06T09:13:56.501186500Z",
     "start_time": "2024-06-06T09:12:02.787896Z"
    }
   },
   "id": "dbeca52331153f4"
  },
  {
   "cell_type": "code",
   "execution_count": 44,
   "outputs": [
    {
     "data": {
      "text/plain": "[3,\n 3,\n 3,\n 3,\n 1,\n 3,\n 3,\n 3,\n 3,\n 3,\n 4,\n 3,\n 3,\n 1,\n 1,\n 4,\n 4,\n 4,\n 0,\n 2,\n 4,\n 3,\n 1,\n 1,\n 3,\n 0,\n 4,\n 4,\n 1,\n 1,\n 1,\n 2,\n 3,\n 2,\n 1,\n 3,\n 3,\n 3,\n 3,\n 3,\n 1,\n 3,\n 1,\n 3,\n 3,\n 3,\n 3,\n 3,\n 1,\n 3,\n 1,\n 4,\n 4,\n 3,\n 4,\n 0,\n 3,\n 3,\n 3,\n 2,\n 1,\n 1,\n 3,\n 1,\n 4,\n 0,\n 2,\n 4,\n 1,\n 4,\n 0,\n 3,\n 3,\n 3,\n 3,\n 3,\n 1,\n 3,\n 3,\n 3,\n 0,\n 1,\n 2,\n 1,\n 0,\n 3,\n 3,\n 4,\n 1,\n 4,\n 1,\n 0,\n 1,\n 2,\n 4,\n 1,\n 3,\n 4,\n 3,\n 3,\n 3,\n 0,\n 1,\n 1,\n 3,\n 0,\n 1,\n 1,\n 1,\n 1,\n 3,\n 0,\n 3,\n 1,\n 3,\n 1,\n 3,\n 3,\n 3,\n 3,\n 1,\n 3,\n 4,\n 3,\n 2,\n 4,\n 4,\n 1,\n 3,\n 3,\n 3,\n 3,\n 4,\n 4,\n 3,\n 3,\n 3,\n 2,\n 1,\n 3,\n 3,\n 3,\n 1,\n 1,\n 3,\n 2,\n 1,\n 1,\n 1,\n 3,\n 3,\n 1,\n 0,\n 4,\n 0,\n 4,\n 1,\n 3,\n 2,\n 3,\n 3,\n 0,\n 1,\n 3,\n 4,\n 3,\n 1,\n 1,\n 3,\n 0,\n 3,\n 4,\n 3,\n 3,\n 3,\n 1,\n 1,\n 1,\n 3,\n 3,\n 3,\n 3,\n 1,\n 3,\n 3,\n 1,\n 3,\n 4,\n 1,\n 1,\n 1,\n 1,\n 3,\n 1,\n 3,\n 3,\n 3,\n 3,\n 3,\n 1,\n 1,\n 0,\n 3,\n 1,\n 0,\n 3,\n 4,\n 1,\n 3,\n 4,\n 0,\n 1,\n 1,\n 4,\n 0,\n 3,\n 3,\n 4,\n 4,\n 3,\n 1,\n 3,\n 3,\n 3,\n 3,\n 3,\n 3,\n 3,\n 0,\n 3,\n 3,\n 1,\n 3,\n 1,\n 3,\n 0,\n 3,\n 0,\n 0,\n 3,\n 4,\n 2,\n 4,\n 3,\n 2,\n 0,\n 2,\n 2,\n 0,\n 1,\n 1,\n 3,\n 1,\n 3,\n 2,\n 4,\n 0,\n 1,\n 2,\n 1,\n 3,\n 3,\n 3,\n 3,\n 2,\n 3,\n 3,\n 0,\n 3,\n 3,\n 4,\n 4,\n 1,\n 3,\n 1,\n 0,\n 3,\n 0,\n 1,\n 1,\n 3,\n 2,\n 2,\n 3,\n 4,\n 3,\n 3,\n 1,\n 0,\n 4,\n 3,\n 3,\n 1,\n 0,\n 3,\n 3,\n 3,\n 3,\n 0,\n 1,\n 4,\n 1,\n 2,\n 3,\n 4,\n 1,\n 3,\n 3,\n 1,\n 3,\n 4,\n 3,\n 1,\n 1,\n 3,\n 4,\n 1,\n 3,\n 1,\n 3,\n 3,\n 4,\n 1,\n 3,\n 1,\n 3,\n 3,\n 3,\n 3,\n 1,\n 4,\n 3,\n 3,\n 3,\n 0,\n 0,\n 0,\n 3,\n 3,\n 3,\n 4,\n 0,\n 4,\n 0,\n 4,\n 4,\n 3,\n 3,\n 3,\n 1,\n 3,\n 1,\n 1,\n 4,\n 3,\n 3,\n 1,\n 4,\n 3,\n 3,\n 0,\n 0,\n 1,\n 3,\n 4,\n 1,\n 3,\n 4,\n 3,\n 3,\n 3,\n 3,\n 1,\n 3,\n 1,\n 3,\n 3,\n 3,\n 3,\n 3,\n 1,\n 3,\n 0,\n 0,\n 3,\n 2,\n 3,\n 3,\n 1,\n 3,\n 3,\n 3,\n 2,\n 3,\n 3,\n 3,\n 3,\n 4,\n 4,\n 1,\n 2,\n 2,\n 1,\n 3,\n 1,\n 3,\n 4,\n 4,\n 3,\n 3,\n 4,\n 1,\n 0,\n 3,\n 1,\n 4,\n 3,\n 4,\n 3,\n 0,\n 3,\n 3,\n 3,\n 1,\n 2,\n 4,\n 0,\n 0,\n 1,\n 3,\n 4,\n 3,\n 3,\n 3,\n 3,\n 3,\n 0,\n 0,\n 0,\n 3,\n 4,\n 1,\n 1,\n 3,\n 3,\n 3,\n 3,\n 3,\n 3,\n 3,\n 3,\n 0,\n 2,\n 3,\n 3,\n 1,\n 0,\n 3,\n 3,\n 1,\n 1,\n 1,\n 0,\n 3,\n 3,\n 3,\n 3,\n 2,\n 0,\n 1,\n 4,\n 1,\n 3,\n 0,\n 3,\n 2,\n 1,\n 3,\n 0,\n 4,\n 3,\n 3,\n 3,\n 3,\n 3,\n 1,\n 3,\n 0,\n 4,\n 3,\n 4,\n 3,\n 1,\n 3,\n 2,\n 3,\n 4,\n 2,\n 3,\n 4,\n 2,\n 3,\n 0,\n 4,\n 0,\n 3,\n 3,\n 0,\n 1,\n 4,\n 3,\n 1,\n 4,\n 3,\n 3,\n 3,\n 3,\n 4,\n 3,\n 4,\n 3,\n 3,\n 3,\n 1,\n 3,\n 3,\n 3,\n 2,\n 0,\n 1,\n 1,\n 3,\n 1,\n 1,\n 4,\n 1,\n 3,\n 3,\n 3,\n 3,\n 3,\n 4,\n 2,\n 3,\n 1,\n 2,\n 3,\n 4,\n 0,\n 3,\n 2,\n 0,\n 3,\n 1,\n 2,\n 0,\n 2,\n 3,\n 0,\n 3,\n 4,\n 3,\n 1,\n 1,\n 3,\n 3,\n 3,\n 3,\n 1,\n 3,\n 1,\n 1,\n 1,\n 3,\n 3,\n 1,\n 1,\n 3,\n 3,\n 3,\n 4,\n 1,\n 2,\n 3,\n 2,\n 3,\n 1,\n 3,\n 3,\n 3,\n 3,\n 1,\n 1,\n 3,\n 3,\n 1,\n 3,\n 3,\n 0,\n 3,\n 3,\n 4,\n 3,\n 4,\n 2,\n 0,\n 1,\n 3,\n 0,\n 1,\n 2,\n 2,\n 3,\n 0,\n 1,\n 3,\n 4,\n 1,\n 3,\n 3,\n 3,\n 3,\n 3,\n 2,\n 3,\n 4,\n 0,\n 2,\n 3,\n 1,\n 3,\n 4,\n 4,\n 0,\n 1,\n 1,\n 4,\n 3,\n 2,\n 3,\n 1,\n 3,\n 2,\n 3,\n 1,\n 0,\n 3,\n 3,\n 3,\n 1,\n 3,\n 3,\n 1,\n 3,\n 4,\n 3,\n 2,\n 1,\n 3,\n 2,\n 3,\n 3,\n 1,\n 3,\n 3,\n 3,\n 1,\n 3,\n 3,\n 3,\n 1,\n 3,\n 1,\n 3,\n 3,\n 3,\n 1,\n 2,\n 2,\n 1,\n 2,\n 0,\n 1,\n 4,\n 0,\n 3,\n 2,\n 3,\n 3,\n 3,\n 4,\n 3,\n 3,\n 0,\n 3,\n 0,\n 3,\n 3,\n 3,\n 3,\n 2,\n 3,\n 2,\n 3,\n 3,\n 2,\n 0,\n 3,\n 1,\n 4,\n 1,\n 3,\n 0,\n 0,\n 0,\n 3,\n 1,\n 3,\n 3,\n 1,\n 1,\n 3,\n 2,\n 4,\n 3,\n 4,\n 3,\n 2,\n 1,\n 1,\n 3,\n 3,\n 3,\n 3,\n 2,\n 3,\n 3,\n 3,\n 1,\n 4,\n 3,\n 1,\n 1,\n 3,\n 1,\n 3,\n 1,\n 0,\n 3,\n 0,\n 4,\n 4,\n 2,\n 3,\n 3,\n 1,\n 3,\n 0,\n 3,\n 1,\n 3,\n 4,\n 3,\n 3,\n 0,\n 2,\n 3,\n 3,\n 1,\n 0,\n 3,\n 3,\n 3,\n 1,\n 4,\n 1,\n 0,\n 1,\n 3,\n 0,\n 3,\n 1,\n 3,\n 4,\n 3,\n 3,\n 0,\n 1,\n 3,\n 1,\n 3,\n 3,\n 3,\n 4,\n 3,\n 1,\n 3,\n 1,\n 0,\n 3,\n 2,\n 4,\n 3,\n 3,\n 3,\n 3,\n 4,\n 1,\n 0,\n 1,\n 2,\n 2,\n 2,\n 1,\n 1,\n 3,\n 2,\n 2,\n 4,\n 2,\n 4,\n 3,\n 2,\n 3,\n 4,\n 3,\n 3,\n 3,\n 2,\n 3,\n 3,\n 0,\n 3,\n 3,\n 1,\n 3,\n 4,\n 3,\n 0,\n 3,\n 1,\n 3,\n 3,\n 3,\n 3,\n 2,\n 3,\n 3,\n 0,\n 4,\n 3,\n 1,\n 3,\n 4,\n 3,\n 2,\n 3,\n 4,\n 3,\n 1,\n 3,\n 3,\n 3,\n 1,\n 3,\n 3,\n 4,\n 4,\n 0,\n 3,\n 2,\n 0,\n 3,\n 3,\n 1,\n 4,\n 1,\n 3,\n 3,\n 3,\n 3,\n 4,\n 4,\n 3,\n 3,\n 4,\n 3,\n 3,\n 1,\n 1,\n 3,\n 0,\n 3,\n 3,\n 3,\n 1,\n 3,\n 3,\n 0,\n 3,\n 2,\n 3,\n 3,\n 1,\n 3,\n 3,\n 1,\n 0,\n 3,\n 3,\n 3,\n 4,\n 1,\n 4,\n 3,\n 0,\n 0,\n 0,\n 1,\n 0,\n 3,\n 1,\n 3,\n 4,\n 3,\n 3,\n 3,\n 3,\n 3,\n 3,\n 0,\n 3,\n 3,\n 3,\n 1,\n 3,\n 3,\n 1,\n 1,\n 4,\n 0,\n 1,\n 3,\n 3,\n 3,\n 1,\n 1,\n 3,\n 1,\n 3,\n 4,\n 3,\n 2,\n 3,\n 4,\n 0,\n 4,\n 3,\n 1,\n 3,\n 1,\n 3,\n 3,\n 3,\n 3,\n 1,\n 3,\n 3,\n 1,\n 3,\n 1,\n 3,\n 3,\n 0,\n 4,\n 0,\n 1,\n 1,\n 3,\n 3,\n 3,\n 3,\n 3,\n 1,\n 4,\n 1,\n 3,\n 3,\n 0,\n 3,\n 4,\n 3,\n 3,\n 3,\n 3,\n 3,\n 3,\n 3,\n 3,\n 3,\n ...]"
     },
     "execution_count": 44,
     "metadata": {},
     "output_type": "execute_result"
    }
   ],
   "source": [
    "predicted_labels"
   ],
   "metadata": {
    "collapsed": false,
    "ExecuteTime": {
     "end_time": "2024-06-06T09:34:52.096478900Z",
     "start_time": "2024-06-06T09:34:52.041621300Z"
    }
   },
   "id": "82275c9d0faee52b"
  },
  {
   "cell_type": "code",
   "execution_count": null,
   "outputs": [],
   "source": [],
   "metadata": {
    "collapsed": false
   },
   "id": "3fa76d66a23e0e63"
  }
 ],
 "metadata": {
  "kernelspec": {
   "display_name": "Python 3",
   "language": "python",
   "name": "python3"
  },
  "language_info": {
   "codemirror_mode": {
    "name": "ipython",
    "version": 2
   },
   "file_extension": ".py",
   "mimetype": "text/x-python",
   "name": "python",
   "nbconvert_exporter": "python",
   "pygments_lexer": "ipython2",
   "version": "2.7.6"
  }
 },
 "nbformat": 4,
 "nbformat_minor": 5
}

{
 "cells": [
  {
   "cell_type": "code",
   "execution_count": 2,
   "id": "initial_id",
   "metadata": {
    "collapsed": true,
    "ExecuteTime": {
     "end_time": "2024-06-08T07:16:11.121723600Z",
     "start_time": "2024-06-08T07:16:10.287912700Z"
    }
   },
   "outputs": [],
   "source": [
    "import pandas as pd\n",
    "from scipy.sparse import csr_matrix\n",
    "from sklearn.neighbors import NearestNeighbors\n",
    "import numpy as np\n",
    "from sklearn.decomposition import TruncatedSVD\n",
    "\n",
    "view_log_train = pd.read_csv('../data/view_log.csv')\n",
    "article_info = pd.read_csv('../data/article_info.csv')\n",
    "submission = pd.read_csv('../submission/sample_submission.csv')"
   ]
  },
  {
   "cell_type": "code",
   "execution_count": 3,
   "outputs": [
    {
     "data": {
      "text/plain": "       userID     articleID userRegion userCountry\n0   USER_0000  ARTICLE_0661         NY          US\n1   USER_0000  ARTICLE_2316         NY          US\n2   USER_0000  ARTICLE_1345         NY          US\n3   USER_0000  ARTICLE_1089         NY          US\n4   USER_0000  ARTICLE_1484         NY          US\n..        ...           ...        ...         ...\n95  USER_0005  ARTICLE_0564         MG          BR\n96  USER_0005  ARTICLE_0931         MG          BR\n97  USER_0005  ARTICLE_2223         MG          BR\n98  USER_0005  ARTICLE_1577         MG          BR\n99  USER_0005  ARTICLE_3003         MG          BR\n\n[100 rows x 4 columns]",
      "text/html": "<div>\n<style scoped>\n    .dataframe tbody tr th:only-of-type {\n        vertical-align: middle;\n    }\n\n    .dataframe tbody tr th {\n        vertical-align: top;\n    }\n\n    .dataframe thead th {\n        text-align: right;\n    }\n</style>\n<table border=\"1\" class=\"dataframe\">\n  <thead>\n    <tr style=\"text-align: right;\">\n      <th></th>\n      <th>userID</th>\n      <th>articleID</th>\n      <th>userRegion</th>\n      <th>userCountry</th>\n    </tr>\n  </thead>\n  <tbody>\n    <tr>\n      <th>0</th>\n      <td>USER_0000</td>\n      <td>ARTICLE_0661</td>\n      <td>NY</td>\n      <td>US</td>\n    </tr>\n    <tr>\n      <th>1</th>\n      <td>USER_0000</td>\n      <td>ARTICLE_2316</td>\n      <td>NY</td>\n      <td>US</td>\n    </tr>\n    <tr>\n      <th>2</th>\n      <td>USER_0000</td>\n      <td>ARTICLE_1345</td>\n      <td>NY</td>\n      <td>US</td>\n    </tr>\n    <tr>\n      <th>3</th>\n      <td>USER_0000</td>\n      <td>ARTICLE_1089</td>\n      <td>NY</td>\n      <td>US</td>\n    </tr>\n    <tr>\n      <th>4</th>\n      <td>USER_0000</td>\n      <td>ARTICLE_1484</td>\n      <td>NY</td>\n      <td>US</td>\n    </tr>\n    <tr>\n      <th>...</th>\n      <td>...</td>\n      <td>...</td>\n      <td>...</td>\n      <td>...</td>\n    </tr>\n    <tr>\n      <th>95</th>\n      <td>USER_0005</td>\n      <td>ARTICLE_0564</td>\n      <td>MG</td>\n      <td>BR</td>\n    </tr>\n    <tr>\n      <th>96</th>\n      <td>USER_0005</td>\n      <td>ARTICLE_0931</td>\n      <td>MG</td>\n      <td>BR</td>\n    </tr>\n    <tr>\n      <th>97</th>\n      <td>USER_0005</td>\n      <td>ARTICLE_2223</td>\n      <td>MG</td>\n      <td>BR</td>\n    </tr>\n    <tr>\n      <th>98</th>\n      <td>USER_0005</td>\n      <td>ARTICLE_1577</td>\n      <td>MG</td>\n      <td>BR</td>\n    </tr>\n    <tr>\n      <th>99</th>\n      <td>USER_0005</td>\n      <td>ARTICLE_3003</td>\n      <td>MG</td>\n      <td>BR</td>\n    </tr>\n  </tbody>\n</table>\n<p>100 rows × 4 columns</p>\n</div>"
     },
     "execution_count": 3,
     "metadata": {},
     "output_type": "execute_result"
    }
   ],
   "source": [
    "view_log_train.head(100)"
   ],
   "metadata": {
    "collapsed": false,
    "ExecuteTime": {
     "end_time": "2024-06-08T07:16:19.332752100Z",
     "start_time": "2024-06-08T07:16:19.314800900Z"
    }
   },
   "id": "753224c31e586387"
  },
  {
   "cell_type": "code",
   "execution_count": 4,
   "outputs": [],
   "source": [
    "# 사용자-아이템 행렬 생성\n",
    "view_log_train.drop(['userRegion', 'userCountry'], axis=1, inplace=True)\n",
    "df = view_log_train\n",
    "user_item_matrix = df.pivot_table(index='userID', columns='articleID', aggfunc='size', fill_value=0)"
   ],
   "metadata": {
    "collapsed": false,
    "ExecuteTime": {
     "end_time": "2024-06-08T07:16:20.204591500Z",
     "start_time": "2024-06-08T07:16:20.129279800Z"
    }
   },
   "id": "aa2407e8612d106"
  },
  {
   "cell_type": "code",
   "execution_count": 7,
   "outputs": [
    {
     "data": {
      "text/plain": "          userID     articleID\n0      USER_0000  ARTICLE_0661\n1      USER_0000  ARTICLE_2316\n2      USER_0000  ARTICLE_1345\n3      USER_0000  ARTICLE_1089\n4      USER_0000  ARTICLE_1484\n...          ...           ...\n42712  USER_1420  ARTICLE_0682\n42713  USER_1420  ARTICLE_2179\n42714  USER_1420  ARTICLE_1848\n42715  USER_1420  ARTICLE_0030\n42716  USER_1420  ARTICLE_2423\n\n[42717 rows x 2 columns]",
      "text/html": "<div>\n<style scoped>\n    .dataframe tbody tr th:only-of-type {\n        vertical-align: middle;\n    }\n\n    .dataframe tbody tr th {\n        vertical-align: top;\n    }\n\n    .dataframe thead th {\n        text-align: right;\n    }\n</style>\n<table border=\"1\" class=\"dataframe\">\n  <thead>\n    <tr style=\"text-align: right;\">\n      <th></th>\n      <th>userID</th>\n      <th>articleID</th>\n    </tr>\n  </thead>\n  <tbody>\n    <tr>\n      <th>0</th>\n      <td>USER_0000</td>\n      <td>ARTICLE_0661</td>\n    </tr>\n    <tr>\n      <th>1</th>\n      <td>USER_0000</td>\n      <td>ARTICLE_2316</td>\n    </tr>\n    <tr>\n      <th>2</th>\n      <td>USER_0000</td>\n      <td>ARTICLE_1345</td>\n    </tr>\n    <tr>\n      <th>3</th>\n      <td>USER_0000</td>\n      <td>ARTICLE_1089</td>\n    </tr>\n    <tr>\n      <th>4</th>\n      <td>USER_0000</td>\n      <td>ARTICLE_1484</td>\n    </tr>\n    <tr>\n      <th>...</th>\n      <td>...</td>\n      <td>...</td>\n    </tr>\n    <tr>\n      <th>42712</th>\n      <td>USER_1420</td>\n      <td>ARTICLE_0682</td>\n    </tr>\n    <tr>\n      <th>42713</th>\n      <td>USER_1420</td>\n      <td>ARTICLE_2179</td>\n    </tr>\n    <tr>\n      <th>42714</th>\n      <td>USER_1420</td>\n      <td>ARTICLE_1848</td>\n    </tr>\n    <tr>\n      <th>42715</th>\n      <td>USER_1420</td>\n      <td>ARTICLE_0030</td>\n    </tr>\n    <tr>\n      <th>42716</th>\n      <td>USER_1420</td>\n      <td>ARTICLE_2423</td>\n    </tr>\n  </tbody>\n</table>\n<p>42717 rows × 2 columns</p>\n</div>"
     },
     "execution_count": 7,
     "metadata": {},
     "output_type": "execute_result"
    }
   ],
   "source": [
    "df"
   ],
   "metadata": {
    "collapsed": false,
    "ExecuteTime": {
     "end_time": "2024-06-08T07:17:06.025551700Z",
     "start_time": "2024-06-08T07:17:06.002613400Z"
    }
   },
   "id": "452431d5c42c405b"
  },
  {
   "cell_type": "code",
   "execution_count": 91,
   "outputs": [],
   "source": [
    "from sklearn.decomposition import TruncatedSVD\n",
    "\n",
    "# 사용자-아이템 행렬 생성\n",
    "user_item_matrix = df.pivot_table(index='userID', columns='articleID', aggfunc='size', fill_value=0)\n",
    "\n",
    "# SVD 모델 생성\n",
    "svd = TruncatedSVD(n_components=50, random_state=42)\n",
    "user_item_matrix_svd = svd.fit_transform(user_item_matrix)"
   ],
   "metadata": {
    "collapsed": false,
    "ExecuteTime": {
     "end_time": "2024-06-09T01:17:25.923769800Z",
     "start_time": "2024-06-09T01:17:25.517344100Z"
    }
   },
   "id": "96b035d9113319ed"
  },
  {
   "cell_type": "code",
   "execution_count": 92,
   "outputs": [],
   "source": [
    "def get_svd_recommendations(user_id, n_recommendations=5):\n",
    "    user_index = user_item_matrix.index.tolist().index(user_id)\n",
    "    user_vector = user_item_matrix_svd[user_index]\n",
    "    # 모든 기사에 대해 점수 계산\n",
    "    scores = np.dot(user_item_matrix_svd, user_vector)\n",
    "    # 상위 n개의 기사 추천\n",
    "    recommended_indices = np.argsort(scores)[::-1][:n_recommendations]\n",
    "    return user_item_matrix.columns[recommended_indices].tolist()\n",
    "\n"
   ],
   "metadata": {
    "collapsed": false,
    "ExecuteTime": {
     "end_time": "2024-06-09T01:17:25.939727400Z",
     "start_time": "2024-06-09T01:17:25.926761900Z"
    }
   },
   "id": "eff4887ef07ba1ca"
  },
  {
   "cell_type": "code",
   "execution_count": 93,
   "outputs": [
    {
     "name": "stdout",
     "output_type": "stream",
     "text": [
      "Recommended articles for USER_0001 (SVD): ['ARTICLE_0553', 'ARTICLE_1385', 'ARTICLE_1101', 'ARTICLE_0843', 'ARTICLE_1131']\n"
     ]
    }
   ],
   "source": [
    "# 예시: USER_0001에 대한 추천\n",
    "recommended_articles_svd = get_svd_recommendations('USER_0001', n_recommendations=5)\n",
    "print(f\"Recommended articles for USER_0001 (SVD): {recommended_articles_svd}\")"
   ],
   "metadata": {
    "collapsed": false,
    "ExecuteTime": {
     "end_time": "2024-06-09T01:17:25.980618300Z",
     "start_time": "2024-06-09T01:17:25.940725300Z"
    }
   },
   "id": "46b259d89f8097d8"
  },
  {
   "cell_type": "code",
   "execution_count": null,
   "outputs": [],
   "source": [
    "|"
   ],
   "metadata": {
    "collapsed": false
   },
   "id": "6508a7b0d6892d83"
  }
 ],
 "metadata": {
  "kernelspec": {
   "display_name": "Python 3",
   "language": "python",
   "name": "python3"
  },
  "language_info": {
   "codemirror_mode": {
    "name": "ipython",
    "version": 2
   },
   "file_extension": ".py",
   "mimetype": "text/x-python",
   "name": "python",
   "nbconvert_exporter": "python",
   "pygments_lexer": "ipython2",
   "version": "2.7.6"
  }
 },
 "nbformat": 4,
 "nbformat_minor": 5
}

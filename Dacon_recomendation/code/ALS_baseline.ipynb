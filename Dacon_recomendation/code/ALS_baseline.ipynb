{
 "cells": [
  {
   "cell_type": "code",
   "execution_count": 52,
   "id": "initial_id",
   "metadata": {
    "collapsed": true,
    "ExecuteTime": {
     "end_time": "2024-06-09T02:30:08.033222900Z",
     "start_time": "2024-06-09T02:30:07.829187100Z"
    }
   },
   "outputs": [],
   "source": [
    "import pandas as pd\n",
    "from sklearn.feature_extraction.text import TfidfVectorizer\n",
    "from sklearn.metrics.pairwise import linear_kernel\n",
    "\n",
    "\n",
    "view_log_train = pd.read_csv('../data/view_log.csv')\n",
    "article_info = pd.read_csv('../data/article_info.csv')\n",
    "submission = pd.read_csv('../submission/sample_submission.csv')\n",
    "view_log = view_log_train"
   ]
  },
  {
   "cell_type": "code",
   "execution_count": 53,
   "outputs": [
    {
     "data": {
      "text/plain": "       userID     articleID userRegion userCountry\n0   USER_0000  ARTICLE_0661         NY          US\n1   USER_0000  ARTICLE_2316         NY          US\n2   USER_0000  ARTICLE_1345         NY          US\n3   USER_0000  ARTICLE_1089         NY          US\n4   USER_0000  ARTICLE_1484         NY          US\n..        ...           ...        ...         ...\n95  USER_0005  ARTICLE_0564         MG          BR\n96  USER_0005  ARTICLE_0931         MG          BR\n97  USER_0005  ARTICLE_2223         MG          BR\n98  USER_0005  ARTICLE_1577         MG          BR\n99  USER_0005  ARTICLE_3003         MG          BR\n\n[100 rows x 4 columns]",
      "text/html": "<div>\n<style scoped>\n    .dataframe tbody tr th:only-of-type {\n        vertical-align: middle;\n    }\n\n    .dataframe tbody tr th {\n        vertical-align: top;\n    }\n\n    .dataframe thead th {\n        text-align: right;\n    }\n</style>\n<table border=\"1\" class=\"dataframe\">\n  <thead>\n    <tr style=\"text-align: right;\">\n      <th></th>\n      <th>userID</th>\n      <th>articleID</th>\n      <th>userRegion</th>\n      <th>userCountry</th>\n    </tr>\n  </thead>\n  <tbody>\n    <tr>\n      <th>0</th>\n      <td>USER_0000</td>\n      <td>ARTICLE_0661</td>\n      <td>NY</td>\n      <td>US</td>\n    </tr>\n    <tr>\n      <th>1</th>\n      <td>USER_0000</td>\n      <td>ARTICLE_2316</td>\n      <td>NY</td>\n      <td>US</td>\n    </tr>\n    <tr>\n      <th>2</th>\n      <td>USER_0000</td>\n      <td>ARTICLE_1345</td>\n      <td>NY</td>\n      <td>US</td>\n    </tr>\n    <tr>\n      <th>3</th>\n      <td>USER_0000</td>\n      <td>ARTICLE_1089</td>\n      <td>NY</td>\n      <td>US</td>\n    </tr>\n    <tr>\n      <th>4</th>\n      <td>USER_0000</td>\n      <td>ARTICLE_1484</td>\n      <td>NY</td>\n      <td>US</td>\n    </tr>\n    <tr>\n      <th>...</th>\n      <td>...</td>\n      <td>...</td>\n      <td>...</td>\n      <td>...</td>\n    </tr>\n    <tr>\n      <th>95</th>\n      <td>USER_0005</td>\n      <td>ARTICLE_0564</td>\n      <td>MG</td>\n      <td>BR</td>\n    </tr>\n    <tr>\n      <th>96</th>\n      <td>USER_0005</td>\n      <td>ARTICLE_0931</td>\n      <td>MG</td>\n      <td>BR</td>\n    </tr>\n    <tr>\n      <th>97</th>\n      <td>USER_0005</td>\n      <td>ARTICLE_2223</td>\n      <td>MG</td>\n      <td>BR</td>\n    </tr>\n    <tr>\n      <th>98</th>\n      <td>USER_0005</td>\n      <td>ARTICLE_1577</td>\n      <td>MG</td>\n      <td>BR</td>\n    </tr>\n    <tr>\n      <th>99</th>\n      <td>USER_0005</td>\n      <td>ARTICLE_3003</td>\n      <td>MG</td>\n      <td>BR</td>\n    </tr>\n  </tbody>\n</table>\n<p>100 rows × 4 columns</p>\n</div>"
     },
     "execution_count": 53,
     "metadata": {},
     "output_type": "execute_result"
    }
   ],
   "source": [
    "view_log_train.head(100)"
   ],
   "metadata": {
    "collapsed": false,
    "ExecuteTime": {
     "end_time": "2024-06-09T02:30:08.495907400Z",
     "start_time": "2024-06-09T02:30:08.458302Z"
    }
   },
   "id": "753224c31e586387"
  },
  {
   "cell_type": "code",
   "execution_count": 55,
   "outputs": [],
   "source": [
    "# TF-IDF 벡터화\n",
    "tfidf = TfidfVectorizer(stop_words='english')\n",
    "tfidf_matrix = tfidf.fit_transform(article_info['Content'])\n",
    "# 기사 ID와 인덱스 매핑\n",
    "indices = pd.Series(article_info.index, index=article_info['articleID']).drop_duplicates()\n"
   ],
   "metadata": {
    "collapsed": false,
    "ExecuteTime": {
     "end_time": "2024-06-09T02:30:36.549016600Z",
     "start_time": "2024-06-09T02:30:34.837574200Z"
    }
   },
   "id": "c8b218fac486ec3b"
  },
  {
   "cell_type": "code",
   "execution_count": 70,
   "outputs": [],
   "source": [
    "# 사용자 프로필 벡터 생성\n",
    "def create_user_profile(user_id):\n",
    "    user_articles = view_log[view_log['userID'] == user_id]['articleID']\n",
    "    user_article_indices = [indices[article] for article in user_articles if article in indices]\n",
    "\n",
    "    if len(user_article_indices) == 0:\n",
    "        return np.zeros((1, tfidf_matrix.shape[1]))\n",
    "\n",
    "    user_tfidf_matrix = tfidf_matrix[user_article_indices]\n",
    "    user_profile = np.asarray(user_tfidf_matrix.mean(axis=0)).flatten()\n",
    "\n",
    "    return user_profile"
   ],
   "metadata": {
    "collapsed": false,
    "ExecuteTime": {
     "end_time": "2024-06-09T02:40:35.302971800Z",
     "start_time": "2024-06-09T02:40:35.292000900Z"
    }
   },
   "id": "eff3c14ea87c4919"
  },
  {
   "cell_type": "code",
   "execution_count": 71,
   "outputs": [],
   "source": [
    "# 특정 사용자에 대한 추천 생성\n",
    "def get_user_recommendations(user_id, n_recommendations=5):\n",
    "    user_profile = create_user_profile(user_id)\n",
    "\n",
    "    cosine_similarities = linear_kernel([user_profile], tfidf_matrix).flatten()\n",
    "\n",
    "    # 유사도에 따라 기사 정렬\n",
    "    sorted_similar_articles = sorted(enumerate(cosine_similarities), key=lambda x: x[1], reverse=True)\n",
    "\n",
    "    # 상위 n개의 기사 추천\n",
    "    top_article_indices = [i[0] for i in sorted_similar_articles[:n_recommendations]]\n",
    "    top_article_ids = article_info['articleID'].iloc[top_article_indices].tolist()\n",
    "\n",
    "    return top_article_ids"
   ],
   "metadata": {
    "collapsed": false,
    "ExecuteTime": {
     "end_time": "2024-06-09T02:40:35.602231200Z",
     "start_time": "2024-06-09T02:40:35.581874200Z"
    }
   },
   "id": "c8c33520d413134b"
  },
  {
   "cell_type": "code",
   "execution_count": 72,
   "outputs": [],
   "source": [
    "import numpy as np\n",
    "# 모든 사용자에 대해 추천 항목 생성\n",
    "recommendations = []\n",
    "for user in view_log['userID'].unique():\n",
    "    top5recommend = get_user_recommendations(user, n_recommendations=5)\n",
    "    for article in top5recommend:\n",
    "        recommendations.append([user, article])"
   ],
   "metadata": {
    "collapsed": false,
    "ExecuteTime": {
     "end_time": "2024-06-09T02:40:45.734838700Z",
     "start_time": "2024-06-09T02:40:36.109691900Z"
    }
   },
   "id": "d012f2025fdab4a8"
  },
  {
   "cell_type": "code",
   "execution_count": 76,
   "outputs": [],
   "source": [
    "# 추천 결과를 데이터프레임으로 변환\n",
    "top_recommendations = pd.DataFrame(recommendations, columns=['userID', 'articleID'])"
   ],
   "metadata": {
    "collapsed": false,
    "ExecuteTime": {
     "end_time": "2024-06-09T02:42:52.396823400Z",
     "start_time": "2024-06-09T02:42:52.382862100Z"
    }
   },
   "id": "84bf93d5c0433c4a"
  },
  {
   "cell_type": "code",
   "execution_count": 77,
   "outputs": [
    {
     "data": {
      "text/plain": "         userID     articleID\n0     USER_0000  ARTICLE_2255\n1     USER_0000  ARTICLE_0411\n2     USER_0000  ARTICLE_1270\n3     USER_0000  ARTICLE_2081\n4     USER_0000  ARTICLE_1809\n...         ...           ...\n7070  USER_1420  ARTICLE_0030\n7071  USER_1420  ARTICLE_2622\n7072  USER_1420  ARTICLE_1848\n7073  USER_1420  ARTICLE_0614\n7074  USER_1420  ARTICLE_1732\n\n[7075 rows x 2 columns]",
      "text/html": "<div>\n<style scoped>\n    .dataframe tbody tr th:only-of-type {\n        vertical-align: middle;\n    }\n\n    .dataframe tbody tr th {\n        vertical-align: top;\n    }\n\n    .dataframe thead th {\n        text-align: right;\n    }\n</style>\n<table border=\"1\" class=\"dataframe\">\n  <thead>\n    <tr style=\"text-align: right;\">\n      <th></th>\n      <th>userID</th>\n      <th>articleID</th>\n    </tr>\n  </thead>\n  <tbody>\n    <tr>\n      <th>0</th>\n      <td>USER_0000</td>\n      <td>ARTICLE_2255</td>\n    </tr>\n    <tr>\n      <th>1</th>\n      <td>USER_0000</td>\n      <td>ARTICLE_0411</td>\n    </tr>\n    <tr>\n      <th>2</th>\n      <td>USER_0000</td>\n      <td>ARTICLE_1270</td>\n    </tr>\n    <tr>\n      <th>3</th>\n      <td>USER_0000</td>\n      <td>ARTICLE_2081</td>\n    </tr>\n    <tr>\n      <th>4</th>\n      <td>USER_0000</td>\n      <td>ARTICLE_1809</td>\n    </tr>\n    <tr>\n      <th>...</th>\n      <td>...</td>\n      <td>...</td>\n    </tr>\n    <tr>\n      <th>7070</th>\n      <td>USER_1420</td>\n      <td>ARTICLE_0030</td>\n    </tr>\n    <tr>\n      <th>7071</th>\n      <td>USER_1420</td>\n      <td>ARTICLE_2622</td>\n    </tr>\n    <tr>\n      <th>7072</th>\n      <td>USER_1420</td>\n      <td>ARTICLE_1848</td>\n    </tr>\n    <tr>\n      <th>7073</th>\n      <td>USER_1420</td>\n      <td>ARTICLE_0614</td>\n    </tr>\n    <tr>\n      <th>7074</th>\n      <td>USER_1420</td>\n      <td>ARTICLE_1732</td>\n    </tr>\n  </tbody>\n</table>\n<p>7075 rows × 2 columns</p>\n</div>"
     },
     "execution_count": 77,
     "metadata": {},
     "output_type": "execute_result"
    }
   ],
   "source": [
    "top_recommendations"
   ],
   "metadata": {
    "collapsed": false,
    "ExecuteTime": {
     "end_time": "2024-06-09T02:42:53.772608Z",
     "start_time": "2024-06-09T02:42:53.749109Z"
    }
   },
   "id": "7196695850117950"
  },
  {
   "cell_type": "code",
   "execution_count": null,
   "outputs": [],
   "source": [],
   "metadata": {
    "collapsed": false
   },
   "id": "5dd43560a7e84c2c"
  },
  {
   "cell_type": "code",
   "execution_count": 78,
   "outputs": [],
   "source": [
    "top_recommendations.to_csv('../submission/tf_idf_baseline_2.csv', index=False)"
   ],
   "metadata": {
    "collapsed": false,
    "ExecuteTime": {
     "end_time": "2024-06-09T02:43:17.379889500Z",
     "start_time": "2024-06-09T02:43:17.352291600Z"
    }
   },
   "id": "13cbf56244c58131"
  },
  {
   "cell_type": "code",
   "execution_count": null,
   "outputs": [],
   "source": [],
   "metadata": {
    "collapsed": false
   },
   "id": "53115fe239cf98a7"
  }
 ],
 "metadata": {
  "kernelspec": {
   "display_name": "Python 3",
   "language": "python",
   "name": "python3"
  },
  "language_info": {
   "codemirror_mode": {
    "name": "ipython",
    "version": 2
   },
   "file_extension": ".py",
   "mimetype": "text/x-python",
   "name": "python",
   "nbconvert_exporter": "python",
   "pygments_lexer": "ipython2",
   "version": "2.7.6"
  }
 },
 "nbformat": 4,
 "nbformat_minor": 5
}

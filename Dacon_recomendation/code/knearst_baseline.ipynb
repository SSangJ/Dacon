{
 "cells": [
  {
   "cell_type": "code",
   "execution_count": 1,
   "id": "initial_id",
   "metadata": {
    "collapsed": true,
    "ExecuteTime": {
     "end_time": "2024-06-09T00:48:45.199449300Z",
     "start_time": "2024-06-09T00:48:41.717102400Z"
    }
   },
   "outputs": [],
   "source": [
    "import pandas as pd\n",
    "from scipy.sparse import csr_matrix\n",
    "from sklearn.neighbors import NearestNeighbors\n",
    "\n",
    "view_log_train = pd.read_csv('../data/view_log.csv')\n",
    "article_info = pd.read_csv('../data/article_info.csv')\n",
    "submission = pd.read_csv('../submission/sample_submission.csv')"
   ]
  },
  {
   "cell_type": "code",
   "execution_count": 2,
   "outputs": [
    {
     "data": {
      "text/plain": "       userID     articleID userRegion userCountry\n0   USER_0000  ARTICLE_0661         NY          US\n1   USER_0000  ARTICLE_2316         NY          US\n2   USER_0000  ARTICLE_1345         NY          US\n3   USER_0000  ARTICLE_1089         NY          US\n4   USER_0000  ARTICLE_1484         NY          US\n..        ...           ...        ...         ...\n95  USER_0005  ARTICLE_0564         MG          BR\n96  USER_0005  ARTICLE_0931         MG          BR\n97  USER_0005  ARTICLE_2223         MG          BR\n98  USER_0005  ARTICLE_1577         MG          BR\n99  USER_0005  ARTICLE_3003         MG          BR\n\n[100 rows x 4 columns]",
      "text/html": "<div>\n<style scoped>\n    .dataframe tbody tr th:only-of-type {\n        vertical-align: middle;\n    }\n\n    .dataframe tbody tr th {\n        vertical-align: top;\n    }\n\n    .dataframe thead th {\n        text-align: right;\n    }\n</style>\n<table border=\"1\" class=\"dataframe\">\n  <thead>\n    <tr style=\"text-align: right;\">\n      <th></th>\n      <th>userID</th>\n      <th>articleID</th>\n      <th>userRegion</th>\n      <th>userCountry</th>\n    </tr>\n  </thead>\n  <tbody>\n    <tr>\n      <th>0</th>\n      <td>USER_0000</td>\n      <td>ARTICLE_0661</td>\n      <td>NY</td>\n      <td>US</td>\n    </tr>\n    <tr>\n      <th>1</th>\n      <td>USER_0000</td>\n      <td>ARTICLE_2316</td>\n      <td>NY</td>\n      <td>US</td>\n    </tr>\n    <tr>\n      <th>2</th>\n      <td>USER_0000</td>\n      <td>ARTICLE_1345</td>\n      <td>NY</td>\n      <td>US</td>\n    </tr>\n    <tr>\n      <th>3</th>\n      <td>USER_0000</td>\n      <td>ARTICLE_1089</td>\n      <td>NY</td>\n      <td>US</td>\n    </tr>\n    <tr>\n      <th>4</th>\n      <td>USER_0000</td>\n      <td>ARTICLE_1484</td>\n      <td>NY</td>\n      <td>US</td>\n    </tr>\n    <tr>\n      <th>...</th>\n      <td>...</td>\n      <td>...</td>\n      <td>...</td>\n      <td>...</td>\n    </tr>\n    <tr>\n      <th>95</th>\n      <td>USER_0005</td>\n      <td>ARTICLE_0564</td>\n      <td>MG</td>\n      <td>BR</td>\n    </tr>\n    <tr>\n      <th>96</th>\n      <td>USER_0005</td>\n      <td>ARTICLE_0931</td>\n      <td>MG</td>\n      <td>BR</td>\n    </tr>\n    <tr>\n      <th>97</th>\n      <td>USER_0005</td>\n      <td>ARTICLE_2223</td>\n      <td>MG</td>\n      <td>BR</td>\n    </tr>\n    <tr>\n      <th>98</th>\n      <td>USER_0005</td>\n      <td>ARTICLE_1577</td>\n      <td>MG</td>\n      <td>BR</td>\n    </tr>\n    <tr>\n      <th>99</th>\n      <td>USER_0005</td>\n      <td>ARTICLE_3003</td>\n      <td>MG</td>\n      <td>BR</td>\n    </tr>\n  </tbody>\n</table>\n<p>100 rows × 4 columns</p>\n</div>"
     },
     "execution_count": 2,
     "metadata": {},
     "output_type": "execute_result"
    }
   ],
   "source": [
    "view_log_train.head(100)"
   ],
   "metadata": {
    "collapsed": false,
    "ExecuteTime": {
     "end_time": "2024-06-09T00:48:55.237620700Z",
     "start_time": "2024-06-09T00:48:55.209381200Z"
    }
   },
   "id": "753224c31e586387"
  },
  {
   "cell_type": "code",
   "execution_count": 3,
   "outputs": [],
   "source": [
    "view_log_train.drop(['userRegion','userCountry'],axis =1 , inplace=True)\n",
    "df = view_log_train"
   ],
   "metadata": {
    "collapsed": false,
    "ExecuteTime": {
     "end_time": "2024-06-09T00:48:56.473188200Z",
     "start_time": "2024-06-09T00:48:56.456234100Z"
    }
   },
   "id": "aa2407e8612d106"
  },
  {
   "cell_type": "code",
   "execution_count": 4,
   "outputs": [],
   "source": [
    "# 사용자-아이템 행렬 생성\n",
    "user_item_matrix = df.pivot_table(index='userID', columns='articleID', aggfunc='size', fill_value=0)"
   ],
   "metadata": {
    "collapsed": false,
    "ExecuteTime": {
     "end_time": "2024-06-09T00:48:56.757815500Z",
     "start_time": "2024-06-09T00:48:56.680895700Z"
    }
   },
   "id": "a65555e38111bc1"
  },
  {
   "cell_type": "code",
   "execution_count": 5,
   "outputs": [],
   "source": [
    "# 희소 행렬로 변환\n",
    "user_item_sparse_matrix = csr_matrix(user_item_matrix.values)\n",
    "\n",
    "# 모델 생성\n",
    "model_knn = NearestNeighbors(metric='cosine', algorithm='brute')\n",
    "model_knn.fit(user_item_sparse_matrix)\n",
    "\n",
    "# 특정 사용자에 대한 추천 생성\n",
    "def get_recommendations(user_id, n_recommendations=3):\n",
    "    # 사용자 인덱스 찾기\n",
    "    user_index = user_item_matrix.index.tolist().index(user_id)\n",
    "\n",
    "    # 사용자 벡터 가져오기\n",
    "    user_vector = user_item_sparse_matrix[user_index]\n",
    "\n",
    "    # 유사 사용자 찾기\n",
    "    distances, indices = model_knn.kneighbors(user_vector, n_neighbors=n_recommendations+1)\n",
    "\n",
    "    # 유사 사용자들의 기사 ID 추출\n",
    "    similar_users = indices.flatten()[1:]  # 자기 자신 제외\n",
    "    similar_user_ids = [user_item_matrix.index[i] for i in similar_users]\n",
    "\n",
    "    # 유사 사용자들이 본 기사 ID 모으기\n",
    "    articles_seen = user_item_matrix.loc[similar_user_ids].sum(axis=0)\n",
    "\n",
    "    # 추천 기사 정렬\n",
    "    recommendations = articles_seen.sort_values(ascending=False)\n",
    "\n",
    "    return recommendations.head(n_recommendations).index.tolist()\n",
    "\n"
   ],
   "metadata": {
    "collapsed": false,
    "ExecuteTime": {
     "end_time": "2024-06-09T00:48:56.952163Z",
     "start_time": "2024-06-09T00:48:56.899067300Z"
    }
   },
   "id": "be1830fe880b2b41"
  },
  {
   "cell_type": "code",
   "execution_count": 7,
   "outputs": [
    {
     "name": "stdout",
     "output_type": "stream",
     "text": [
      "Recommended articles for USER_0000: ['ARTICLE_2868', 'ARTICLE_2493', 'ARTICLE_2087', 'ARTICLE_1418', 'ARTICLE_1536']\n"
     ]
    }
   ],
   "source": [
    "# 예시: USER_0000에 대한 추천\n",
    "recommended_articles = get_recommendations('USER_0001', n_recommendations=5)\n",
    "print(f\"Recommended articles for USER_0000: {recommended_articles}\")"
   ],
   "metadata": {
    "collapsed": false,
    "ExecuteTime": {
     "end_time": "2024-06-09T00:49:00.054968Z",
     "start_time": "2024-06-09T00:49:00.036018500Z"
    }
   },
   "id": "87ac1649dcb88bdc"
  },
  {
   "cell_type": "code",
   "execution_count": 19,
   "outputs": [],
   "source": [
    "# 모든 사용자에 대해 추천 항목 생성\n",
    "recommendations = []\n",
    "for user in user_item_matrix.index:\n",
    "    top5recommend = get_recommendations(user, n_recommendations=5)\n",
    "    for article in top5recommend:\n",
    "        recommendations.append([user, article])"
   ],
   "metadata": {
    "collapsed": false,
    "ExecuteTime": {
     "end_time": "2024-06-07T11:54:33.059090200Z",
     "start_time": "2024-06-07T11:54:29.164790400Z"
    }
   },
   "id": "d561e376a39abfe"
  },
  {
   "cell_type": "code",
   "execution_count": null,
   "outputs": [],
   "source": [],
   "metadata": {
    "collapsed": false
   },
   "id": "6add9213fc27e58f"
  },
  {
   "cell_type": "code",
   "execution_count": 20,
   "outputs": [],
   "source": [
    "# 추천 결과를 데이터프레임으로 변환\n",
    "top_recommendations = pd.DataFrame(recommendations, columns=['userID', 'articleID'])\n",
    "\n",
    "# 제출 파일 생성\n",
    "submission = pd.DataFrame(columns=['userID', 'articleID'])\n",
    "submission['userID'] = top_recommendations['userID']\n",
    "submission['articleID'] = top_recommendations['articleID']\n",
    "\n",
    "# 파일 저장\n",
    "submission.to_csv('../submission/baseline_knearst.csv', index=False)"
   ],
   "metadata": {
    "collapsed": false,
    "ExecuteTime": {
     "end_time": "2024-06-07T11:54:59.688649Z",
     "start_time": "2024-06-07T11:54:59.660723700Z"
    }
   },
   "id": "6f127427103e2190"
  },
  {
   "cell_type": "code",
   "execution_count": null,
   "outputs": [],
   "source": [],
   "metadata": {
    "collapsed": false
   },
   "id": "9e772ea9e70a84c1"
  }
 ],
 "metadata": {
  "kernelspec": {
   "display_name": "Python 3",
   "language": "python",
   "name": "python3"
  },
  "language_info": {
   "codemirror_mode": {
    "name": "ipython",
    "version": 2
   },
   "file_extension": ".py",
   "mimetype": "text/x-python",
   "name": "python",
   "nbconvert_exporter": "python",
   "pygments_lexer": "ipython2",
   "version": "2.7.6"
  }
 },
 "nbformat": 4,
 "nbformat_minor": 5
}

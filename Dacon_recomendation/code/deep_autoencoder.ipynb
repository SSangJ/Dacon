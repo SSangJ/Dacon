{
 "cells": [
  {
   "cell_type": "code",
   "id": "initial_id",
   "metadata": {
    "collapsed": true,
    "ExecuteTime": {
     "end_time": "2024-07-03T08:54:38.284294Z",
     "start_time": "2024-07-03T08:54:38.100849Z"
    }
   },
   "source": [
    "import pandas as pd\n",
    "import numpy as np\n",
    "import torch\n",
    "from torch import nn, optim\n",
    "from torch.utils.data import DataLoader, Dataset\n",
    "\n",
    "view_log_train = pd.read_csv('../data/view_log.csv')\n",
    "article_info = pd.read_csv('../data/article_info.csv')\n",
    "submission = pd.read_csv('../submission/sample_submission.csv')"
   ],
   "outputs": [],
   "execution_count": 2
  },
  {
   "cell_type": "code",
   "source": [
    "view_log_train.head(100)"
   ],
   "metadata": {
    "collapsed": false,
    "ExecuteTime": {
     "end_time": "2024-07-03T08:54:38.450432Z",
     "start_time": "2024-07-03T08:54:38.421509Z"
    }
   },
   "id": "753224c31e586387",
   "outputs": [
    {
     "data": {
      "text/plain": [
       "       userID     articleID userRegion userCountry\n",
       "0   USER_0000  ARTICLE_0661         NY          US\n",
       "1   USER_0000  ARTICLE_2316         NY          US\n",
       "2   USER_0000  ARTICLE_1345         NY          US\n",
       "3   USER_0000  ARTICLE_1089         NY          US\n",
       "4   USER_0000  ARTICLE_1484         NY          US\n",
       "..        ...           ...        ...         ...\n",
       "95  USER_0005  ARTICLE_0564         MG          BR\n",
       "96  USER_0005  ARTICLE_0931         MG          BR\n",
       "97  USER_0005  ARTICLE_2223         MG          BR\n",
       "98  USER_0005  ARTICLE_1577         MG          BR\n",
       "99  USER_0005  ARTICLE_3003         MG          BR\n",
       "\n",
       "[100 rows x 4 columns]"
      ],
      "text/html": [
       "<div>\n",
       "<style scoped>\n",
       "    .dataframe tbody tr th:only-of-type {\n",
       "        vertical-align: middle;\n",
       "    }\n",
       "\n",
       "    .dataframe tbody tr th {\n",
       "        vertical-align: top;\n",
       "    }\n",
       "\n",
       "    .dataframe thead th {\n",
       "        text-align: right;\n",
       "    }\n",
       "</style>\n",
       "<table border=\"1\" class=\"dataframe\">\n",
       "  <thead>\n",
       "    <tr style=\"text-align: right;\">\n",
       "      <th></th>\n",
       "      <th>userID</th>\n",
       "      <th>articleID</th>\n",
       "      <th>userRegion</th>\n",
       "      <th>userCountry</th>\n",
       "    </tr>\n",
       "  </thead>\n",
       "  <tbody>\n",
       "    <tr>\n",
       "      <th>0</th>\n",
       "      <td>USER_0000</td>\n",
       "      <td>ARTICLE_0661</td>\n",
       "      <td>NY</td>\n",
       "      <td>US</td>\n",
       "    </tr>\n",
       "    <tr>\n",
       "      <th>1</th>\n",
       "      <td>USER_0000</td>\n",
       "      <td>ARTICLE_2316</td>\n",
       "      <td>NY</td>\n",
       "      <td>US</td>\n",
       "    </tr>\n",
       "    <tr>\n",
       "      <th>2</th>\n",
       "      <td>USER_0000</td>\n",
       "      <td>ARTICLE_1345</td>\n",
       "      <td>NY</td>\n",
       "      <td>US</td>\n",
       "    </tr>\n",
       "    <tr>\n",
       "      <th>3</th>\n",
       "      <td>USER_0000</td>\n",
       "      <td>ARTICLE_1089</td>\n",
       "      <td>NY</td>\n",
       "      <td>US</td>\n",
       "    </tr>\n",
       "    <tr>\n",
       "      <th>4</th>\n",
       "      <td>USER_0000</td>\n",
       "      <td>ARTICLE_1484</td>\n",
       "      <td>NY</td>\n",
       "      <td>US</td>\n",
       "    </tr>\n",
       "    <tr>\n",
       "      <th>...</th>\n",
       "      <td>...</td>\n",
       "      <td>...</td>\n",
       "      <td>...</td>\n",
       "      <td>...</td>\n",
       "    </tr>\n",
       "    <tr>\n",
       "      <th>95</th>\n",
       "      <td>USER_0005</td>\n",
       "      <td>ARTICLE_0564</td>\n",
       "      <td>MG</td>\n",
       "      <td>BR</td>\n",
       "    </tr>\n",
       "    <tr>\n",
       "      <th>96</th>\n",
       "      <td>USER_0005</td>\n",
       "      <td>ARTICLE_0931</td>\n",
       "      <td>MG</td>\n",
       "      <td>BR</td>\n",
       "    </tr>\n",
       "    <tr>\n",
       "      <th>97</th>\n",
       "      <td>USER_0005</td>\n",
       "      <td>ARTICLE_2223</td>\n",
       "      <td>MG</td>\n",
       "      <td>BR</td>\n",
       "    </tr>\n",
       "    <tr>\n",
       "      <th>98</th>\n",
       "      <td>USER_0005</td>\n",
       "      <td>ARTICLE_1577</td>\n",
       "      <td>MG</td>\n",
       "      <td>BR</td>\n",
       "    </tr>\n",
       "    <tr>\n",
       "      <th>99</th>\n",
       "      <td>USER_0005</td>\n",
       "      <td>ARTICLE_3003</td>\n",
       "      <td>MG</td>\n",
       "      <td>BR</td>\n",
       "    </tr>\n",
       "  </tbody>\n",
       "</table>\n",
       "<p>100 rows × 4 columns</p>\n",
       "</div>"
      ]
     },
     "execution_count": 3,
     "metadata": {},
     "output_type": "execute_result"
    }
   ],
   "execution_count": 3
  },
  {
   "cell_type": "code",
   "execution_count": 10,
   "outputs": [
    {
     "data": {
      "text/plain": "      articleID                                              Title  \\\n0  ARTICLE_0000                       19 Tips For Everyday Git Use   \n1  ARTICLE_0001  Intel buys computer vision startup Itseez to i...   \n2  ARTICLE_0002       Practical End-to-End Testing with Protractor   \n3  ARTICLE_0003  Corporate venture growth in Brazil is another ...   \n4  ARTICLE_0004  Cross-channel user experiences with Drupal (aw...   \n\n                                             Content Format Language  \\\n0  I've been using git full time for the past 4 y...   HTML       en   \n1  Intel has acquired computer vision and machine...   HTML       en   \n2  One of the reasons AngularJS is so great to wo...   HTML       en   \n3  Despite recent positive news and a renewed int...   HTML       en   \n4  Last year around this time, I wrote that The B...   HTML       en   \n\n      userID userCountry userRegion  \n0  USER_0683         NaN        NaN  \n1  USER_1129         NaN        NaN  \n2  USER_0256         NaN        NaN  \n3  USER_1304         NaN        NaN  \n4  USER_0336         NaN        NaN  ",
      "text/html": "<div>\n<style scoped>\n    .dataframe tbody tr th:only-of-type {\n        vertical-align: middle;\n    }\n\n    .dataframe tbody tr th {\n        vertical-align: top;\n    }\n\n    .dataframe thead th {\n        text-align: right;\n    }\n</style>\n<table border=\"1\" class=\"dataframe\">\n  <thead>\n    <tr style=\"text-align: right;\">\n      <th></th>\n      <th>articleID</th>\n      <th>Title</th>\n      <th>Content</th>\n      <th>Format</th>\n      <th>Language</th>\n      <th>userID</th>\n      <th>userCountry</th>\n      <th>userRegion</th>\n    </tr>\n  </thead>\n  <tbody>\n    <tr>\n      <th>0</th>\n      <td>ARTICLE_0000</td>\n      <td>19 Tips For Everyday Git Use</td>\n      <td>I've been using git full time for the past 4 y...</td>\n      <td>HTML</td>\n      <td>en</td>\n      <td>USER_0683</td>\n      <td>NaN</td>\n      <td>NaN</td>\n    </tr>\n    <tr>\n      <th>1</th>\n      <td>ARTICLE_0001</td>\n      <td>Intel buys computer vision startup Itseez to i...</td>\n      <td>Intel has acquired computer vision and machine...</td>\n      <td>HTML</td>\n      <td>en</td>\n      <td>USER_1129</td>\n      <td>NaN</td>\n      <td>NaN</td>\n    </tr>\n    <tr>\n      <th>2</th>\n      <td>ARTICLE_0002</td>\n      <td>Practical End-to-End Testing with Protractor</td>\n      <td>One of the reasons AngularJS is so great to wo...</td>\n      <td>HTML</td>\n      <td>en</td>\n      <td>USER_0256</td>\n      <td>NaN</td>\n      <td>NaN</td>\n    </tr>\n    <tr>\n      <th>3</th>\n      <td>ARTICLE_0003</td>\n      <td>Corporate venture growth in Brazil is another ...</td>\n      <td>Despite recent positive news and a renewed int...</td>\n      <td>HTML</td>\n      <td>en</td>\n      <td>USER_1304</td>\n      <td>NaN</td>\n      <td>NaN</td>\n    </tr>\n    <tr>\n      <th>4</th>\n      <td>ARTICLE_0004</td>\n      <td>Cross-channel user experiences with Drupal (aw...</td>\n      <td>Last year around this time, I wrote that The B...</td>\n      <td>HTML</td>\n      <td>en</td>\n      <td>USER_0336</td>\n      <td>NaN</td>\n      <td>NaN</td>\n    </tr>\n  </tbody>\n</table>\n</div>"
     },
     "execution_count": 10,
     "metadata": {},
     "output_type": "execute_result"
    }
   ],
   "source": [
    "article_info.head()"
   ],
   "metadata": {
    "collapsed": false,
    "ExecuteTime": {
     "end_time": "2024-06-23T06:31:38.046240600Z",
     "start_time": "2024-06-23T06:31:38.007345300Z"
    }
   },
   "id": "c5c676fe06afdd29"
  },
  {
   "cell_type": "code",
   "execution_count": 11,
   "outputs": [],
   "source": [
    "# 사용자와 기사 ID 추출\n",
    "users = view_log_train['userID'].unique()\n",
    "articles = view_log_train['articleID'].unique()"
   ],
   "metadata": {
    "collapsed": false,
    "ExecuteTime": {
     "end_time": "2024-06-23T06:31:39.665671700Z",
     "start_time": "2024-06-23T06:31:39.647720100Z"
    }
   },
   "id": "ffc6ecd8684b2007"
  },
  {
   "cell_type": "code",
   "execution_count": 23,
   "outputs": [],
   "source": [
    "# 사용자와 기사 ID를 인덱스로 변환\n",
    "user_id_map = {user: idx for idx, user in enumerate(users)}\n",
    "article_id_map = {article: idx for idx, article in enumerate(articles)}\n",
    "reverse_article_id_map = {idx: article for article, idx in article_id_map.items()}"
   ],
   "metadata": {
    "collapsed": false,
    "ExecuteTime": {
     "end_time": "2024-06-23T06:37:39.393839800Z",
     "start_time": "2024-06-23T06:37:39.380874300Z"
    }
   },
   "id": "c660b135bdf96f4e"
  },
  {
   "cell_type": "code",
   "execution_count": 13,
   "outputs": [],
   "source": [
    "# 사용자-기사 상호작용 매트릭스 생성\n",
    "num_users = len(users)\n",
    "num_articles = len(articles)\n",
    "interaction_matrix = np.zeros((num_users, num_articles))"
   ],
   "metadata": {
    "collapsed": false,
    "ExecuteTime": {
     "end_time": "2024-06-23T06:31:40.534423100Z",
     "start_time": "2024-06-23T06:31:40.517468500Z"
    }
   },
   "id": "9008e3aa3b17e552"
  },
  {
   "cell_type": "code",
   "execution_count": 14,
   "outputs": [],
   "source": [
    "for _, row in view_log_train.iterrows():\n",
    "    user_idx = user_id_map[row['userID']]\n",
    "    article_idx = article_id_map[row['articleID']]\n",
    "    interaction_matrix[user_idx, article_idx] = 1"
   ],
   "metadata": {
    "collapsed": false,
    "ExecuteTime": {
     "end_time": "2024-06-23T06:31:44.727808400Z",
     "start_time": "2024-06-23T06:31:42.739490300Z"
    }
   },
   "id": "ff9c279ae96f8f32"
  },
  {
   "cell_type": "code",
   "execution_count": 15,
   "outputs": [],
   "source": [
    "class InteractionDataset(Dataset):\n",
    "    def __init__(self, interaction_matrix):\n",
    "        self.interaction_matrix = interaction_matrix\n",
    "\n",
    "    def __len__(self):\n",
    "        return len(self.interaction_matrix)\n",
    "\n",
    "    def __getitem__(self, idx):\n",
    "        return torch.tensor(self.interaction_matrix[idx], dtype=torch.float32)\n",
    "\n",
    "# 데이터셋 및 데이터로더\n",
    "dataset = InteractionDataset(interaction_matrix)\n",
    "dataloader = DataLoader(dataset, batch_size=256, shuffle=True)\n"
   ],
   "metadata": {
    "collapsed": false,
    "ExecuteTime": {
     "end_time": "2024-06-23T06:31:50.198626500Z",
     "start_time": "2024-06-23T06:31:50.181670Z"
    }
   },
   "id": "35608e825420dd8"
  },
  {
   "cell_type": "code",
   "execution_count": 16,
   "outputs": [],
   "source": [
    "# 오토인코더 모델 구축\n",
    "class Autoencoder(nn.Module):\n",
    "    def __init__(self, input_dim, encoding_dim):\n",
    "        super(Autoencoder, self).__init__()\n",
    "        self.encoder = nn.Linear(input_dim, encoding_dim)\n",
    "        self.decoder = nn.Linear(encoding_dim, input_dim)\n",
    "\n",
    "    def forward(self, x):\n",
    "        encoded = torch.relu(self.encoder(x))\n",
    "        decoded = torch.sigmoid(self.decoder(encoded))\n",
    "        return decoded"
   ],
   "metadata": {
    "collapsed": false,
    "ExecuteTime": {
     "end_time": "2024-06-23T06:31:55.734358500Z",
     "start_time": "2024-06-23T06:31:55.711800600Z"
    }
   },
   "id": "86598029167236a5"
  },
  {
   "cell_type": "code",
   "execution_count": 17,
   "outputs": [],
   "source": [
    "input_dim = num_articles\n",
    "encoding_dim = 64\n",
    "model = Autoencoder(input_dim, encoding_dim)\n",
    "criterion = nn.BCELoss()\n",
    "optimizer = optim.Adam(model.parameters(), lr=0.001)"
   ],
   "metadata": {
    "collapsed": false,
    "ExecuteTime": {
     "end_time": "2024-06-23T06:32:07.967974400Z",
     "start_time": "2024-06-23T06:32:04.682594Z"
    }
   },
   "id": "dc4ec3c1d208961a"
  },
  {
   "cell_type": "code",
   "execution_count": 18,
   "outputs": [
    {
     "name": "stdout",
     "output_type": "stream",
     "text": [
      "Epoch [1/10], Loss: 0.6824\n",
      "Epoch [2/10], Loss: 0.6541\n",
      "Epoch [3/10], Loss: 0.6040\n",
      "Epoch [4/10], Loss: 0.5400\n",
      "Epoch [5/10], Loss: 0.4266\n",
      "Epoch [6/10], Loss: 0.3910\n",
      "Epoch [7/10], Loss: 0.3548\n",
      "Epoch [8/10], Loss: 0.3156\n",
      "Epoch [9/10], Loss: 0.3709\n",
      "Epoch [10/10], Loss: 0.2588\n"
     ]
    }
   ],
   "source": [
    "num_epochs = 10\n",
    "for epoch in range(num_epochs):\n",
    "    for data in dataloader:\n",
    "        output = model(data)\n",
    "        loss = criterion(output, data)\n",
    "        optimizer.zero_grad()\n",
    "        loss.backward()\n",
    "        optimizer.step()\n",
    "    print(f'Epoch [{epoch+1}/{num_epochs}], Loss: {loss.item():.4f}')"
   ],
   "metadata": {
    "collapsed": false,
    "ExecuteTime": {
     "end_time": "2024-06-23T06:32:16.631719400Z",
     "start_time": "2024-06-23T06:32:15.033516400Z"
    }
   },
   "id": "182957c83b5d829b"
  },
  {
   "cell_type": "code",
   "execution_count": 19,
   "outputs": [],
   "source": [
    "# 특정 사용자의 아이템 선호도 예측\n",
    "user_id = 'USER_0000'\n",
    "user_idx = user_id_map[user_id]\n",
    "user_input = torch.tensor(interaction_matrix[user_idx], dtype=torch.float32).unsqueeze(0)\n",
    "predicted_preferences = model(user_input).detach().numpy().flatten()"
   ],
   "metadata": {
    "collapsed": false,
    "ExecuteTime": {
     "end_time": "2024-06-23T06:32:33.480884600Z",
     "start_time": "2024-06-23T06:32:33.464928200Z"
    }
   },
   "id": "a37b810c04eb3b09"
  },
  {
   "cell_type": "code",
   "execution_count": 24,
   "outputs": [
    {
     "name": "stdout",
     "output_type": "stream",
     "text": [
      "추천 아이템 ID: ['ARTICLE_2868', 'ARTICLE_1568', 'ARTICLE_2259', 'ARTICLE_2045', 'ARTICLE_2865', 'ARTICLE_0061', 'ARTICLE_2782', 'ARTICLE_1267', 'ARTICLE_0446', 'ARTICLE_2698']\n"
     ]
    }
   ],
   "source": [
    "# 상위 N개의 추천 아이템 선택\n",
    "top_n = 10\n",
    "recommended_articles_idx = np.argsort(predicted_preferences)[-top_n:][::-1]\n",
    "\n",
    "# 추천 아이템 ID 출력\n",
    "recommended_article_ids = [reverse_article_id_map[idx] for idx in recommended_articles_idx]\n",
    "print(f\"추천 아이템 ID: {recommended_article_ids}\")"
   ],
   "metadata": {
    "collapsed": false,
    "ExecuteTime": {
     "end_time": "2024-06-23T06:37:42.030279900Z",
     "start_time": "2024-06-23T06:37:42.023299300Z"
    }
   },
   "id": "44ec49b180e197c"
  },
  {
   "cell_type": "code",
   "execution_count": null,
   "outputs": [],
   "source": [],
   "metadata": {
    "collapsed": false
   },
   "id": "7caa9f65cf1ddf05"
  },
  {
   "cell_type": "code",
   "execution_count": 13,
   "outputs": [],
   "source": [
    "top_recommendations = pd.DataFrame(recommendations, columns=['userID', 'articleID'])\n",
    "\n",
    "submission['articleID'] = top_recommendations['articleID']\n",
    "\n",
    "submission.to_csv('../submission/baseline_submission.csv', index=False)\n"
   ],
   "metadata": {
    "collapsed": false
   },
   "id": "457851268332d194"
  },
  {
   "cell_type": "code",
   "execution_count": 14,
   "outputs": [
    {
     "data": {
      "text/plain": "         userID     articleID\n0     USER_0000  ARTICLE_0411\n1     USER_0000  ARTICLE_0664\n2     USER_0000  ARTICLE_1568\n3     USER_0000  ARTICLE_1230\n4     USER_0000  ARTICLE_2255\n...         ...           ...\n7070  USER_1420  ARTICLE_0030\n7071  USER_1420  ARTICLE_0614\n7072  USER_1420  ARTICLE_1901\n7073  USER_1420  ARTICLE_0714\n7074  USER_1420  ARTICLE_2865\n\n[7075 rows x 2 columns]",
      "text/html": "<div>\n<style scoped>\n    .dataframe tbody tr th:only-of-type {\n        vertical-align: middle;\n    }\n\n    .dataframe tbody tr th {\n        vertical-align: top;\n    }\n\n    .dataframe thead th {\n        text-align: right;\n    }\n</style>\n<table border=\"1\" class=\"dataframe\">\n  <thead>\n    <tr style=\"text-align: right;\">\n      <th></th>\n      <th>userID</th>\n      <th>articleID</th>\n    </tr>\n  </thead>\n  <tbody>\n    <tr>\n      <th>0</th>\n      <td>USER_0000</td>\n      <td>ARTICLE_0411</td>\n    </tr>\n    <tr>\n      <th>1</th>\n      <td>USER_0000</td>\n      <td>ARTICLE_0664</td>\n    </tr>\n    <tr>\n      <th>2</th>\n      <td>USER_0000</td>\n      <td>ARTICLE_1568</td>\n    </tr>\n    <tr>\n      <th>3</th>\n      <td>USER_0000</td>\n      <td>ARTICLE_1230</td>\n    </tr>\n    <tr>\n      <th>4</th>\n      <td>USER_0000</td>\n      <td>ARTICLE_2255</td>\n    </tr>\n    <tr>\n      <th>...</th>\n      <td>...</td>\n      <td>...</td>\n    </tr>\n    <tr>\n      <th>7070</th>\n      <td>USER_1420</td>\n      <td>ARTICLE_0030</td>\n    </tr>\n    <tr>\n      <th>7071</th>\n      <td>USER_1420</td>\n      <td>ARTICLE_0614</td>\n    </tr>\n    <tr>\n      <th>7072</th>\n      <td>USER_1420</td>\n      <td>ARTICLE_1901</td>\n    </tr>\n    <tr>\n      <th>7073</th>\n      <td>USER_1420</td>\n      <td>ARTICLE_0714</td>\n    </tr>\n    <tr>\n      <th>7074</th>\n      <td>USER_1420</td>\n      <td>ARTICLE_2865</td>\n    </tr>\n  </tbody>\n</table>\n<p>7075 rows × 2 columns</p>\n</div>"
     },
     "execution_count": 14,
     "metadata": {},
     "output_type": "execute_result"
    }
   ],
   "source": [
    "submission"
   ],
   "metadata": {
    "collapsed": false
   },
   "id": "412874391ab89e98"
  },
  {
   "cell_type": "code",
   "execution_count": null,
   "outputs": [],
   "source": [],
   "metadata": {
    "collapsed": false
   },
   "id": "8ebd850688b9aab7"
  }
 ],
 "metadata": {
  "kernelspec": {
   "name": "python3",
   "language": "python",
   "display_name": "Python 3 (ipykernel)"
  },
  "language_info": {
   "codemirror_mode": {
    "name": "ipython",
    "version": 2
   },
   "file_extension": ".py",
   "mimetype": "text/x-python",
   "name": "python",
   "nbconvert_exporter": "python",
   "pygments_lexer": "ipython2",
   "version": "2.7.6"
  }
 },
 "nbformat": 4,
 "nbformat_minor": 5
}

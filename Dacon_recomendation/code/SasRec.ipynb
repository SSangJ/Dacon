{
 "cells": [
  {
   "cell_type": "code",
   "execution_count": 69,
   "id": "initial_id",
   "metadata": {
    "collapsed": true,
    "ExecuteTime": {
     "end_time": "2024-06-07T10:32:26.953258Z",
     "start_time": "2024-06-07T10:32:26.759467100Z"
    }
   },
   "outputs": [],
   "source": [
    "import pandas as pd\n",
    "import numpy as np\n",
    "from sklearn.metrics.pairwise import cosine_similarity\n",
    "\n",
    "view_log_train = pd.read_csv('../data/view_log.csv')\n",
    "article_info = pd.read_csv('../data/article_info.csv')\n",
    "submission = pd.read_csv('../submission/sample_submission.csv')"
   ]
  },
  {
   "cell_type": "code",
   "execution_count": 70,
   "outputs": [
    {
     "data": {
      "text/plain": "42717"
     },
     "execution_count": 70,
     "metadata": {},
     "output_type": "execute_result"
    }
   ],
   "source": [
    "len(view_log_train)"
   ],
   "metadata": {
    "collapsed": false,
    "ExecuteTime": {
     "end_time": "2024-06-07T10:32:27.025371Z",
     "start_time": "2024-06-07T10:32:27.006421500Z"
    }
   },
   "id": "10b80afa78913ba1"
  },
  {
   "cell_type": "code",
   "execution_count": 71,
   "outputs": [
    {
     "data": {
      "text/plain": "userID         1415\narticleID      2879\nuserRegion       56\nuserCountry      21\ndtype: int64"
     },
     "execution_count": 71,
     "metadata": {},
     "output_type": "execute_result"
    }
   ],
   "source": [
    "view_log_train.nunique()"
   ],
   "metadata": {
    "collapsed": false,
    "ExecuteTime": {
     "end_time": "2024-06-07T10:32:27.345968500Z",
     "start_time": "2024-06-07T10:32:27.301087300Z"
    }
   },
   "id": "236f48b4c7257865"
  },
  {
   "cell_type": "code",
   "execution_count": 72,
   "outputs": [
    {
     "data": {
      "text/plain": "       userID     articleID userRegion userCountry\n0   USER_0000  ARTICLE_0661         NY          US\n1   USER_0000  ARTICLE_2316         NY          US\n2   USER_0000  ARTICLE_1345         NY          US\n3   USER_0000  ARTICLE_1089         NY          US\n4   USER_0000  ARTICLE_1484         NY          US\n5   USER_0000  ARTICLE_1033         NY          US\n6   USER_0000  ARTICLE_1033         NY          US\n7   USER_0000  ARTICLE_2255         NY          US\n8   USER_0000  ARTICLE_1260         NY          US\n9   USER_0000  ARTICLE_0090         NY          US\n10  USER_0000  ARTICLE_2255         NY          US\n11  USER_0000  ARTICLE_0938         NY          US\n12  USER_0000  ARTICLE_2286         NY          US\n13  USER_0000  ARTICLE_1769         NY          US\n14  USER_0000  ARTICLE_2316         NY          US\n15  USER_0000  ARTICLE_0884         NY          US\n16  USER_0000  ARTICLE_1198         CA          US\n17  USER_0000  ARTICLE_2255         NY          US\n18  USER_0000  ARTICLE_2834         NY          US\n19  USER_0000  ARTICLE_1345         NY          US",
      "text/html": "<div>\n<style scoped>\n    .dataframe tbody tr th:only-of-type {\n        vertical-align: middle;\n    }\n\n    .dataframe tbody tr th {\n        vertical-align: top;\n    }\n\n    .dataframe thead th {\n        text-align: right;\n    }\n</style>\n<table border=\"1\" class=\"dataframe\">\n  <thead>\n    <tr style=\"text-align: right;\">\n      <th></th>\n      <th>userID</th>\n      <th>articleID</th>\n      <th>userRegion</th>\n      <th>userCountry</th>\n    </tr>\n  </thead>\n  <tbody>\n    <tr>\n      <th>0</th>\n      <td>USER_0000</td>\n      <td>ARTICLE_0661</td>\n      <td>NY</td>\n      <td>US</td>\n    </tr>\n    <tr>\n      <th>1</th>\n      <td>USER_0000</td>\n      <td>ARTICLE_2316</td>\n      <td>NY</td>\n      <td>US</td>\n    </tr>\n    <tr>\n      <th>2</th>\n      <td>USER_0000</td>\n      <td>ARTICLE_1345</td>\n      <td>NY</td>\n      <td>US</td>\n    </tr>\n    <tr>\n      <th>3</th>\n      <td>USER_0000</td>\n      <td>ARTICLE_1089</td>\n      <td>NY</td>\n      <td>US</td>\n    </tr>\n    <tr>\n      <th>4</th>\n      <td>USER_0000</td>\n      <td>ARTICLE_1484</td>\n      <td>NY</td>\n      <td>US</td>\n    </tr>\n    <tr>\n      <th>5</th>\n      <td>USER_0000</td>\n      <td>ARTICLE_1033</td>\n      <td>NY</td>\n      <td>US</td>\n    </tr>\n    <tr>\n      <th>6</th>\n      <td>USER_0000</td>\n      <td>ARTICLE_1033</td>\n      <td>NY</td>\n      <td>US</td>\n    </tr>\n    <tr>\n      <th>7</th>\n      <td>USER_0000</td>\n      <td>ARTICLE_2255</td>\n      <td>NY</td>\n      <td>US</td>\n    </tr>\n    <tr>\n      <th>8</th>\n      <td>USER_0000</td>\n      <td>ARTICLE_1260</td>\n      <td>NY</td>\n      <td>US</td>\n    </tr>\n    <tr>\n      <th>9</th>\n      <td>USER_0000</td>\n      <td>ARTICLE_0090</td>\n      <td>NY</td>\n      <td>US</td>\n    </tr>\n    <tr>\n      <th>10</th>\n      <td>USER_0000</td>\n      <td>ARTICLE_2255</td>\n      <td>NY</td>\n      <td>US</td>\n    </tr>\n    <tr>\n      <th>11</th>\n      <td>USER_0000</td>\n      <td>ARTICLE_0938</td>\n      <td>NY</td>\n      <td>US</td>\n    </tr>\n    <tr>\n      <th>12</th>\n      <td>USER_0000</td>\n      <td>ARTICLE_2286</td>\n      <td>NY</td>\n      <td>US</td>\n    </tr>\n    <tr>\n      <th>13</th>\n      <td>USER_0000</td>\n      <td>ARTICLE_1769</td>\n      <td>NY</td>\n      <td>US</td>\n    </tr>\n    <tr>\n      <th>14</th>\n      <td>USER_0000</td>\n      <td>ARTICLE_2316</td>\n      <td>NY</td>\n      <td>US</td>\n    </tr>\n    <tr>\n      <th>15</th>\n      <td>USER_0000</td>\n      <td>ARTICLE_0884</td>\n      <td>NY</td>\n      <td>US</td>\n    </tr>\n    <tr>\n      <th>16</th>\n      <td>USER_0000</td>\n      <td>ARTICLE_1198</td>\n      <td>CA</td>\n      <td>US</td>\n    </tr>\n    <tr>\n      <th>17</th>\n      <td>USER_0000</td>\n      <td>ARTICLE_2255</td>\n      <td>NY</td>\n      <td>US</td>\n    </tr>\n    <tr>\n      <th>18</th>\n      <td>USER_0000</td>\n      <td>ARTICLE_2834</td>\n      <td>NY</td>\n      <td>US</td>\n    </tr>\n    <tr>\n      <th>19</th>\n      <td>USER_0000</td>\n      <td>ARTICLE_1345</td>\n      <td>NY</td>\n      <td>US</td>\n    </tr>\n  </tbody>\n</table>\n</div>"
     },
     "execution_count": 72,
     "metadata": {},
     "output_type": "execute_result"
    }
   ],
   "source": [
    "view_log_train.head(20)"
   ],
   "metadata": {
    "collapsed": false,
    "ExecuteTime": {
     "end_time": "2024-06-07T10:32:27.546937600Z",
     "start_time": "2024-06-07T10:32:27.515022700Z"
    }
   },
   "id": "753224c31e586387"
  },
  {
   "cell_type": "code",
   "execution_count": 73,
   "outputs": [],
   "source": [
    "view_log_train = view_log_train.rename(columns={'userID': 'viewuserID'})\n",
    "view_log_train = view_log_train.rename(columns={'userRegion': 'viewuserRegion'})\n",
    "view_log_train = view_log_train.rename(columns={'userCountry': 'viewuserCountry'})\n"
   ],
   "metadata": {
    "collapsed": false,
    "ExecuteTime": {
     "end_time": "2024-06-07T10:32:27.876939300Z",
     "start_time": "2024-06-07T10:32:27.854000300Z"
    }
   },
   "id": "3733a3c6e928132d"
  },
  {
   "cell_type": "code",
   "execution_count": 74,
   "outputs": [
    {
     "data": {
      "text/plain": "         articleID                                              Title  \\\n0     ARTICLE_0000                       19 Tips For Everyday Git Use   \n1     ARTICLE_0001  Intel buys computer vision startup Itseez to i...   \n2     ARTICLE_0002       Practical End-to-End Testing with Protractor   \n3     ARTICLE_0003  Corporate venture growth in Brazil is another ...   \n4     ARTICLE_0004  Cross-channel user experiences with Drupal (aw...   \n...            ...                                                ...   \n3003  ARTICLE_3003  Como consumir conteúdo de qualidade em iOS - C...   \n3004  ARTICLE_3004                             Aurelia 1.0 is Here!!!   \n3005  ARTICLE_3005  Lessons from converting an app to 100% Kotlin ...   \n3006  ARTICLE_3006  ITA está oferecendo 10 cursos gratuitos a dist...   \n3007  ARTICLE_3007            Analytics startup Amplitude raises $15M   \n\n                                                Content Format Language  \\\n0     I've been using git full time for the past 4 y...   HTML       en   \n1     Intel has acquired computer vision and machine...   HTML       en   \n2     One of the reasons AngularJS is so great to wo...   HTML       en   \n3     Despite recent positive news and a renewed int...   HTML       en   \n4     Last year around this time, I wrote that The B...   HTML       en   \n...                                                 ...    ...      ...   \n3003  Quando iniciei minha jornada em Swift, saindo ...   HTML       pt   \n3004  It's been an amazing journey to get here and i...   HTML       en   \n3005  This is part one in a series of posts about Ko...   HTML       en   \n3006  O Instituto Tecnológico de Aeronáutica (ITA) ,...   HTML       pt   \n3007  Amplitude announced this morning that it has r...   HTML       en   \n\n         userID userCountry userRegion  \n0     USER_0683         NaN        NaN  \n1     USER_1129         NaN        NaN  \n2     USER_0256         NaN        NaN  \n3     USER_1304         NaN        NaN  \n4     USER_0336         NaN        NaN  \n...         ...         ...        ...  \n3003  USER_0882          BR         MG  \n3004  USER_0220         NaN        NaN  \n3005  USER_1010          BR         SP  \n3006  USER_1210         NaN        NaN  \n3007  USER_0067         NaN        NaN  \n\n[3008 rows x 8 columns]",
      "text/html": "<div>\n<style scoped>\n    .dataframe tbody tr th:only-of-type {\n        vertical-align: middle;\n    }\n\n    .dataframe tbody tr th {\n        vertical-align: top;\n    }\n\n    .dataframe thead th {\n        text-align: right;\n    }\n</style>\n<table border=\"1\" class=\"dataframe\">\n  <thead>\n    <tr style=\"text-align: right;\">\n      <th></th>\n      <th>articleID</th>\n      <th>Title</th>\n      <th>Content</th>\n      <th>Format</th>\n      <th>Language</th>\n      <th>userID</th>\n      <th>userCountry</th>\n      <th>userRegion</th>\n    </tr>\n  </thead>\n  <tbody>\n    <tr>\n      <th>0</th>\n      <td>ARTICLE_0000</td>\n      <td>19 Tips For Everyday Git Use</td>\n      <td>I've been using git full time for the past 4 y...</td>\n      <td>HTML</td>\n      <td>en</td>\n      <td>USER_0683</td>\n      <td>NaN</td>\n      <td>NaN</td>\n    </tr>\n    <tr>\n      <th>1</th>\n      <td>ARTICLE_0001</td>\n      <td>Intel buys computer vision startup Itseez to i...</td>\n      <td>Intel has acquired computer vision and machine...</td>\n      <td>HTML</td>\n      <td>en</td>\n      <td>USER_1129</td>\n      <td>NaN</td>\n      <td>NaN</td>\n    </tr>\n    <tr>\n      <th>2</th>\n      <td>ARTICLE_0002</td>\n      <td>Practical End-to-End Testing with Protractor</td>\n      <td>One of the reasons AngularJS is so great to wo...</td>\n      <td>HTML</td>\n      <td>en</td>\n      <td>USER_0256</td>\n      <td>NaN</td>\n      <td>NaN</td>\n    </tr>\n    <tr>\n      <th>3</th>\n      <td>ARTICLE_0003</td>\n      <td>Corporate venture growth in Brazil is another ...</td>\n      <td>Despite recent positive news and a renewed int...</td>\n      <td>HTML</td>\n      <td>en</td>\n      <td>USER_1304</td>\n      <td>NaN</td>\n      <td>NaN</td>\n    </tr>\n    <tr>\n      <th>4</th>\n      <td>ARTICLE_0004</td>\n      <td>Cross-channel user experiences with Drupal (aw...</td>\n      <td>Last year around this time, I wrote that The B...</td>\n      <td>HTML</td>\n      <td>en</td>\n      <td>USER_0336</td>\n      <td>NaN</td>\n      <td>NaN</td>\n    </tr>\n    <tr>\n      <th>...</th>\n      <td>...</td>\n      <td>...</td>\n      <td>...</td>\n      <td>...</td>\n      <td>...</td>\n      <td>...</td>\n      <td>...</td>\n      <td>...</td>\n    </tr>\n    <tr>\n      <th>3003</th>\n      <td>ARTICLE_3003</td>\n      <td>Como consumir conteúdo de qualidade em iOS - C...</td>\n      <td>Quando iniciei minha jornada em Swift, saindo ...</td>\n      <td>HTML</td>\n      <td>pt</td>\n      <td>USER_0882</td>\n      <td>BR</td>\n      <td>MG</td>\n    </tr>\n    <tr>\n      <th>3004</th>\n      <td>ARTICLE_3004</td>\n      <td>Aurelia 1.0 is Here!!!</td>\n      <td>It's been an amazing journey to get here and i...</td>\n      <td>HTML</td>\n      <td>en</td>\n      <td>USER_0220</td>\n      <td>NaN</td>\n      <td>NaN</td>\n    </tr>\n    <tr>\n      <th>3005</th>\n      <td>ARTICLE_3005</td>\n      <td>Lessons from converting an app to 100% Kotlin ...</td>\n      <td>This is part one in a series of posts about Ko...</td>\n      <td>HTML</td>\n      <td>en</td>\n      <td>USER_1010</td>\n      <td>BR</td>\n      <td>SP</td>\n    </tr>\n    <tr>\n      <th>3006</th>\n      <td>ARTICLE_3006</td>\n      <td>ITA está oferecendo 10 cursos gratuitos a dist...</td>\n      <td>O Instituto Tecnológico de Aeronáutica (ITA) ,...</td>\n      <td>HTML</td>\n      <td>pt</td>\n      <td>USER_1210</td>\n      <td>NaN</td>\n      <td>NaN</td>\n    </tr>\n    <tr>\n      <th>3007</th>\n      <td>ARTICLE_3007</td>\n      <td>Analytics startup Amplitude raises $15M</td>\n      <td>Amplitude announced this morning that it has r...</td>\n      <td>HTML</td>\n      <td>en</td>\n      <td>USER_0067</td>\n      <td>NaN</td>\n      <td>NaN</td>\n    </tr>\n  </tbody>\n</table>\n<p>3008 rows × 8 columns</p>\n</div>"
     },
     "execution_count": 74,
     "metadata": {},
     "output_type": "execute_result"
    }
   ],
   "source": [
    "article_info"
   ],
   "metadata": {
    "collapsed": false,
    "ExecuteTime": {
     "end_time": "2024-06-07T10:32:28.431068700Z",
     "start_time": "2024-06-07T10:32:28.398637600Z"
    }
   },
   "id": "c5c676fe06afdd29"
  },
  {
   "cell_type": "code",
   "execution_count": 75,
   "outputs": [],
   "source": [
    "# 데이터프레임 병합\n",
    "merged_df = pd.merge(view_log_train, article_info, on='articleID', how='inner')"
   ],
   "metadata": {
    "collapsed": false,
    "ExecuteTime": {
     "end_time": "2024-06-07T10:32:29.373608900Z",
     "start_time": "2024-06-07T10:32:29.341695300Z"
    }
   },
   "id": "6c08df57409e23a8"
  },
  {
   "cell_type": "code",
   "execution_count": 76,
   "outputs": [],
   "source": [
    "merged_df.drop(['Title', 'Content', 'userCountry', 'userRegion'], axis=1, inplace=True)"
   ],
   "metadata": {
    "collapsed": false,
    "ExecuteTime": {
     "end_time": "2024-06-07T10:32:30.327662Z",
     "start_time": "2024-06-07T10:32:30.301730300Z"
    }
   },
   "id": "d3256253a2e53577"
  },
  {
   "cell_type": "code",
   "execution_count": 77,
   "outputs": [
    {
     "data": {
      "text/plain": "      viewuserID     articleID viewuserRegion viewuserCountry Format Language  \\\n0      USER_0000  ARTICLE_0661             NY              US   HTML       en   \n1      USER_0067  ARTICLE_0661             SP              BR   HTML       en   \n2      USER_0414  ARTICLE_0661             SP              BR   HTML       en   \n3      USER_0557  ARTICLE_0661             SP              BR   HTML       en   \n4      USER_1163  ARTICLE_0661             SP              BR   HTML       en   \n...          ...           ...            ...             ...    ...      ...   \n42712  USER_1420  ARTICLE_0714             SP              BR   HTML       en   \n42713  USER_1420  ARTICLE_1711             SP              BR   HTML       pt   \n42714  USER_1420  ARTICLE_1732             SP              BR   HTML       en   \n42715  USER_1420  ARTICLE_1732             SP              BR   HTML       en   \n42716  USER_1420  ARTICLE_1732             SP              BR   HTML       en   \n\n          userID  \n0      USER_1304  \n1      USER_1304  \n2      USER_1304  \n3      USER_1304  \n4      USER_1304  \n...          ...  \n42712  USER_1420  \n42713  USER_1420  \n42714  USER_1420  \n42715  USER_1420  \n42716  USER_1420  \n\n[42717 rows x 7 columns]",
      "text/html": "<div>\n<style scoped>\n    .dataframe tbody tr th:only-of-type {\n        vertical-align: middle;\n    }\n\n    .dataframe tbody tr th {\n        vertical-align: top;\n    }\n\n    .dataframe thead th {\n        text-align: right;\n    }\n</style>\n<table border=\"1\" class=\"dataframe\">\n  <thead>\n    <tr style=\"text-align: right;\">\n      <th></th>\n      <th>viewuserID</th>\n      <th>articleID</th>\n      <th>viewuserRegion</th>\n      <th>viewuserCountry</th>\n      <th>Format</th>\n      <th>Language</th>\n      <th>userID</th>\n    </tr>\n  </thead>\n  <tbody>\n    <tr>\n      <th>0</th>\n      <td>USER_0000</td>\n      <td>ARTICLE_0661</td>\n      <td>NY</td>\n      <td>US</td>\n      <td>HTML</td>\n      <td>en</td>\n      <td>USER_1304</td>\n    </tr>\n    <tr>\n      <th>1</th>\n      <td>USER_0067</td>\n      <td>ARTICLE_0661</td>\n      <td>SP</td>\n      <td>BR</td>\n      <td>HTML</td>\n      <td>en</td>\n      <td>USER_1304</td>\n    </tr>\n    <tr>\n      <th>2</th>\n      <td>USER_0414</td>\n      <td>ARTICLE_0661</td>\n      <td>SP</td>\n      <td>BR</td>\n      <td>HTML</td>\n      <td>en</td>\n      <td>USER_1304</td>\n    </tr>\n    <tr>\n      <th>3</th>\n      <td>USER_0557</td>\n      <td>ARTICLE_0661</td>\n      <td>SP</td>\n      <td>BR</td>\n      <td>HTML</td>\n      <td>en</td>\n      <td>USER_1304</td>\n    </tr>\n    <tr>\n      <th>4</th>\n      <td>USER_1163</td>\n      <td>ARTICLE_0661</td>\n      <td>SP</td>\n      <td>BR</td>\n      <td>HTML</td>\n      <td>en</td>\n      <td>USER_1304</td>\n    </tr>\n    <tr>\n      <th>...</th>\n      <td>...</td>\n      <td>...</td>\n      <td>...</td>\n      <td>...</td>\n      <td>...</td>\n      <td>...</td>\n      <td>...</td>\n    </tr>\n    <tr>\n      <th>42712</th>\n      <td>USER_1420</td>\n      <td>ARTICLE_0714</td>\n      <td>SP</td>\n      <td>BR</td>\n      <td>HTML</td>\n      <td>en</td>\n      <td>USER_1420</td>\n    </tr>\n    <tr>\n      <th>42713</th>\n      <td>USER_1420</td>\n      <td>ARTICLE_1711</td>\n      <td>SP</td>\n      <td>BR</td>\n      <td>HTML</td>\n      <td>pt</td>\n      <td>USER_1420</td>\n    </tr>\n    <tr>\n      <th>42714</th>\n      <td>USER_1420</td>\n      <td>ARTICLE_1732</td>\n      <td>SP</td>\n      <td>BR</td>\n      <td>HTML</td>\n      <td>en</td>\n      <td>USER_1420</td>\n    </tr>\n    <tr>\n      <th>42715</th>\n      <td>USER_1420</td>\n      <td>ARTICLE_1732</td>\n      <td>SP</td>\n      <td>BR</td>\n      <td>HTML</td>\n      <td>en</td>\n      <td>USER_1420</td>\n    </tr>\n    <tr>\n      <th>42716</th>\n      <td>USER_1420</td>\n      <td>ARTICLE_1732</td>\n      <td>SP</td>\n      <td>BR</td>\n      <td>HTML</td>\n      <td>en</td>\n      <td>USER_1420</td>\n    </tr>\n  </tbody>\n</table>\n<p>42717 rows × 7 columns</p>\n</div>"
     },
     "execution_count": 77,
     "metadata": {},
     "output_type": "execute_result"
    }
   ],
   "source": [
    "merged_df"
   ],
   "metadata": {
    "collapsed": false,
    "ExecuteTime": {
     "end_time": "2024-06-07T10:32:30.711227700Z",
     "start_time": "2024-06-07T10:32:30.686506900Z"
    }
   },
   "id": "fb680f8689d934d1"
  },
  {
   "cell_type": "code",
   "execution_count": 78,
   "outputs": [],
   "source": [
    "df = merged_df"
   ],
   "metadata": {
    "collapsed": false,
    "ExecuteTime": {
     "end_time": "2024-06-07T10:32:31.415820100Z",
     "start_time": "2024-06-07T10:32:31.387894700Z"
    }
   },
   "id": "8ebd850688b9aab7"
  },
  {
   "cell_type": "code",
   "execution_count": 79,
   "outputs": [
    {
     "data": {
      "text/plain": "      viewuserID     articleID viewuserRegion viewuserCountry Format Language  \\\n0      USER_0000  ARTICLE_0661             NY              US   HTML       en   \n1      USER_0067  ARTICLE_0661             SP              BR   HTML       en   \n2      USER_0414  ARTICLE_0661             SP              BR   HTML       en   \n3      USER_0557  ARTICLE_0661             SP              BR   HTML       en   \n4      USER_1163  ARTICLE_0661             SP              BR   HTML       en   \n...          ...           ...            ...             ...    ...      ...   \n42712  USER_1420  ARTICLE_0714             SP              BR   HTML       en   \n42713  USER_1420  ARTICLE_1711             SP              BR   HTML       pt   \n42714  USER_1420  ARTICLE_1732             SP              BR   HTML       en   \n42715  USER_1420  ARTICLE_1732             SP              BR   HTML       en   \n42716  USER_1420  ARTICLE_1732             SP              BR   HTML       en   \n\n          userID  \n0      USER_1304  \n1      USER_1304  \n2      USER_1304  \n3      USER_1304  \n4      USER_1304  \n...          ...  \n42712  USER_1420  \n42713  USER_1420  \n42714  USER_1420  \n42715  USER_1420  \n42716  USER_1420  \n\n[42717 rows x 7 columns]",
      "text/html": "<div>\n<style scoped>\n    .dataframe tbody tr th:only-of-type {\n        vertical-align: middle;\n    }\n\n    .dataframe tbody tr th {\n        vertical-align: top;\n    }\n\n    .dataframe thead th {\n        text-align: right;\n    }\n</style>\n<table border=\"1\" class=\"dataframe\">\n  <thead>\n    <tr style=\"text-align: right;\">\n      <th></th>\n      <th>viewuserID</th>\n      <th>articleID</th>\n      <th>viewuserRegion</th>\n      <th>viewuserCountry</th>\n      <th>Format</th>\n      <th>Language</th>\n      <th>userID</th>\n    </tr>\n  </thead>\n  <tbody>\n    <tr>\n      <th>0</th>\n      <td>USER_0000</td>\n      <td>ARTICLE_0661</td>\n      <td>NY</td>\n      <td>US</td>\n      <td>HTML</td>\n      <td>en</td>\n      <td>USER_1304</td>\n    </tr>\n    <tr>\n      <th>1</th>\n      <td>USER_0067</td>\n      <td>ARTICLE_0661</td>\n      <td>SP</td>\n      <td>BR</td>\n      <td>HTML</td>\n      <td>en</td>\n      <td>USER_1304</td>\n    </tr>\n    <tr>\n      <th>2</th>\n      <td>USER_0414</td>\n      <td>ARTICLE_0661</td>\n      <td>SP</td>\n      <td>BR</td>\n      <td>HTML</td>\n      <td>en</td>\n      <td>USER_1304</td>\n    </tr>\n    <tr>\n      <th>3</th>\n      <td>USER_0557</td>\n      <td>ARTICLE_0661</td>\n      <td>SP</td>\n      <td>BR</td>\n      <td>HTML</td>\n      <td>en</td>\n      <td>USER_1304</td>\n    </tr>\n    <tr>\n      <th>4</th>\n      <td>USER_1163</td>\n      <td>ARTICLE_0661</td>\n      <td>SP</td>\n      <td>BR</td>\n      <td>HTML</td>\n      <td>en</td>\n      <td>USER_1304</td>\n    </tr>\n    <tr>\n      <th>...</th>\n      <td>...</td>\n      <td>...</td>\n      <td>...</td>\n      <td>...</td>\n      <td>...</td>\n      <td>...</td>\n      <td>...</td>\n    </tr>\n    <tr>\n      <th>42712</th>\n      <td>USER_1420</td>\n      <td>ARTICLE_0714</td>\n      <td>SP</td>\n      <td>BR</td>\n      <td>HTML</td>\n      <td>en</td>\n      <td>USER_1420</td>\n    </tr>\n    <tr>\n      <th>42713</th>\n      <td>USER_1420</td>\n      <td>ARTICLE_1711</td>\n      <td>SP</td>\n      <td>BR</td>\n      <td>HTML</td>\n      <td>pt</td>\n      <td>USER_1420</td>\n    </tr>\n    <tr>\n      <th>42714</th>\n      <td>USER_1420</td>\n      <td>ARTICLE_1732</td>\n      <td>SP</td>\n      <td>BR</td>\n      <td>HTML</td>\n      <td>en</td>\n      <td>USER_1420</td>\n    </tr>\n    <tr>\n      <th>42715</th>\n      <td>USER_1420</td>\n      <td>ARTICLE_1732</td>\n      <td>SP</td>\n      <td>BR</td>\n      <td>HTML</td>\n      <td>en</td>\n      <td>USER_1420</td>\n    </tr>\n    <tr>\n      <th>42716</th>\n      <td>USER_1420</td>\n      <td>ARTICLE_1732</td>\n      <td>SP</td>\n      <td>BR</td>\n      <td>HTML</td>\n      <td>en</td>\n      <td>USER_1420</td>\n    </tr>\n  </tbody>\n</table>\n<p>42717 rows × 7 columns</p>\n</div>"
     },
     "execution_count": 79,
     "metadata": {},
     "output_type": "execute_result"
    }
   ],
   "source": [
    "df"
   ],
   "metadata": {
    "collapsed": false,
    "ExecuteTime": {
     "end_time": "2024-06-07T10:32:32.638924200Z",
     "start_time": "2024-06-07T10:32:32.611995700Z"
    }
   },
   "id": "f72e55ef456a5fac"
  },
  {
   "cell_type": "code",
   "execution_count": 80,
   "outputs": [],
   "source": [
    "# 사용자 및 기사 인덱스 생성\n",
    "df['user_id'] = df['viewuserID'].astype('category').cat.codes\n",
    "df['article_id'] = df['articleID'].astype('category').cat.codes"
   ],
   "metadata": {
    "collapsed": false,
    "ExecuteTime": {
     "end_time": "2024-06-07T10:32:34.014724800Z",
     "start_time": "2024-06-07T10:32:33.992784600Z"
    }
   },
   "id": "a65555e38111bc1"
  },
  {
   "cell_type": "code",
   "execution_count": 83,
   "outputs": [],
   "source": [
    "import torch\n",
    "import torch.nn as nn\n",
    "import torch.nn.functional as F\n",
    "import numpy as np\n",
    "import pandas as pd\n",
    "from sklearn.model_selection import train_test_split\n",
    "from torch.utils.data import DataLoader, Dataset\n",
    "\n",
    "# 학습 및 테스트 데이터셋 분할\n",
    "train, test = train_test_split(df, test_size=0.2, random_state=42)"
   ],
   "metadata": {
    "collapsed": false,
    "ExecuteTime": {
     "end_time": "2024-06-07T10:33:04.980012500Z",
     "start_time": "2024-06-07T10:32:57.808034700Z"
    }
   },
   "id": "f8e49ab228ce5bf6"
  },
  {
   "cell_type": "code",
   "execution_count": 96,
   "outputs": [],
   "source": [
    "# PyTorch 데이터셋 생성\n",
    "class InteractionDataset(Dataset):\n",
    "    def __init__(self, df):\n",
    "        self.users = torch.tensor(df['user_id'].values, dtype=torch.long)\n",
    "        self.articles = torch.tensor(df['article_id'].values, dtype=torch.long)\n",
    "        self.labels = torch.tensor([1] * len(df), dtype=torch.float32)  # 여기에 레이블(상호작용)을 지정\n",
    "\n",
    "    def __len__(self):\n",
    "        return len(self.users)\n",
    "\n",
    "    def __getitem__(self, idx):\n",
    "        return self.users[idx], self.articles[idx], self.labels[idx]"
   ],
   "metadata": {
    "collapsed": false,
    "ExecuteTime": {
     "end_time": "2024-06-07T10:38:54.892831200Z",
     "start_time": "2024-06-07T10:38:54.879866300Z"
    }
   },
   "id": "837bf7eeaa56e96d"
  },
  {
   "cell_type": "code",
   "execution_count": 119,
   "outputs": [],
   "source": [
    "train_dataset = InteractionDataset(train)\n",
    "test_dataset = InteractionDataset(test)\n",
    "\n",
    "train_loader = DataLoader(train_dataset, batch_size=64, shuffle=True)\n",
    "val_loader = DataLoader(test_dataset, batch_size=64, shuffle=False)"
   ],
   "metadata": {
    "collapsed": false,
    "ExecuteTime": {
     "end_time": "2024-06-07T10:59:00.530340900Z",
     "start_time": "2024-06-07T10:59:00.513385700Z"
    }
   },
   "id": "cd1291c27947ff12"
  },
  {
   "cell_type": "code",
   "execution_count": 120,
   "outputs": [],
   "source": [
    "# SASRec 모델 정의\n",
    "class SASRec(nn.Module):\n",
    "    def __init__(self, num_users, num_articles, embedding_size, max_seq_length, num_heads, num_layers, dropout_rate):\n",
    "        super(SASRec, self).__init__()\n",
    "        self.user_embedding = nn.Embedding(num_users, embedding_size)\n",
    "        self.article_embedding = nn.Embedding(num_articles, embedding_size)\n",
    "        self.positional_embedding = nn.Embedding(max_seq_length, embedding_size)\n",
    "        self.layers = nn.ModuleList([\n",
    "            nn.TransformerEncoderLayer(d_model=embedding_size, nhead=num_heads, dropout=dropout_rate)\n",
    "            for _ in range(num_layers)\n",
    "        ])\n",
    "        self.dropout = nn.Dropout(dropout_rate)\n",
    "        self.fc = nn.Linear(embedding_size, 1)\n",
    "\n",
    "    def forward(self, user_ids, article_ids):\n",
    "        user_emb = self.user_embedding(user_ids)\n",
    "        article_emb = self.article_embedding(article_ids)\n",
    "        position_ids = torch.arange(article_emb.size(1), device=article_emb.device).unsqueeze(0).expand_as(article_ids)\n",
    "        position_emb = self.positional_embedding(position_ids)\n",
    "        x = user_emb + article_emb + position_emb\n",
    "        x = self.dropout(x)\n",
    "        for layer in self.layers:\n",
    "            x = layer(x)\n",
    "        x = x.mean(dim=1)\n",
    "        x = self.fc(x)\n",
    "        return torch.sigmoid(x)"
   ],
   "metadata": {
    "collapsed": false,
    "ExecuteTime": {
     "end_time": "2024-06-07T10:59:03.924525Z",
     "start_time": "2024-06-07T10:59:03.918541100Z"
    }
   },
   "id": "32f7b9befc38df53"
  },
  {
   "cell_type": "code",
   "execution_count": 121,
   "outputs": [],
   "source": [
    "# 하이퍼파라미터 설정\n",
    "num_users = df['user_id'].nunique()\n",
    "num_articles = df['article_id'].nunique()\n",
    "embedding_size = 50\n",
    "max_seq_length = 10\n",
    "num_heads = 2\n",
    "num_layers = 2\n",
    "dropout_rate = 0.1"
   ],
   "metadata": {
    "collapsed": false,
    "ExecuteTime": {
     "end_time": "2024-06-07T10:59:04.411736300Z",
     "start_time": "2024-06-07T10:59:04.401762800Z"
    }
   },
   "id": "39ab4d95f69931a7"
  },
  {
   "cell_type": "code",
   "execution_count": 130,
   "outputs": [],
   "source": [
    "import torch\n",
    "import torch.nn as nn\n",
    "import torch.nn.functional as F\n",
    "import numpy as np\n",
    "import pandas as pd\n",
    "from sklearn.model_selection import train_test_split\n",
    "from torch.utils.data import DataLoader, Dataset\n",
    "from torch import optim\n",
    "# 모델 인스턴스 생성 및 컴파일\n",
    "model = SASRec(num_users, num_articles, embedding_size, max_seq_length, num_heads, num_layers, dropout_rate)\n",
    "criterion = nn.BCELoss()\n",
    "optimizer = optim.Adam(model.parameters(), lr=0.001)"
   ],
   "metadata": {
    "collapsed": false,
    "ExecuteTime": {
     "end_time": "2024-06-07T11:05:28.096640600Z",
     "start_time": "2024-06-07T11:05:28.073574400Z"
    }
   },
   "id": "4e5421261c40ddcd"
  },
  {
   "cell_type": "code",
   "execution_count": 131,
   "outputs": [
    {
     "name": "stdout",
     "output_type": "stream",
     "text": [
      "Epoch 1/5, Loss: 0.00339261, Validation Loss: 0.00016737\n",
      "Epoch 2/5, Loss: 0.00010798, Validation Loss: 0.00004445\n",
      "Epoch 3/5, Loss: 0.00003620, Validation Loss: 0.00001857\n",
      "Epoch 4/5, Loss: 0.00001664, Validation Loss: 0.00000924\n",
      "Epoch 5/5, Loss: 0.00000873, Validation Loss: 0.00000501\n"
     ]
    }
   ],
   "source": [
    "# 모델 학습\n",
    "def train_model(model, criterion, optimizer, num_epochs=5):\n",
    "    for epoch in range(num_epochs):\n",
    "        # Training phase\n",
    "        model.train()\n",
    "        running_loss = 0.0\n",
    "        for users, articles, labels in train_loader:\n",
    "            optimizer.zero_grad()\n",
    "            outputs = model(users.unsqueeze(1), articles.unsqueeze(1))\n",
    "            loss = criterion(outputs.squeeze(), labels)\n",
    "            loss.backward()\n",
    "            optimizer.step()\n",
    "            running_loss += loss.item() * users.size(0)\n",
    "\n",
    "        epoch_loss = running_loss / len(train_loader.dataset)\n",
    "\n",
    "        # Validation phase\n",
    "        model.eval()\n",
    "        val_loss = 0.0\n",
    "        with torch.no_grad():\n",
    "            for users, articles, labels in val_loader:\n",
    "                outputs = model(users.unsqueeze(1), articles.unsqueeze(1))\n",
    "                loss = criterion(outputs.squeeze(), labels)\n",
    "                val_loss += loss.item() * users.size(0)\n",
    "\n",
    "        val_loss /= len(val_loader.dataset)\n",
    "        print(f'Epoch {epoch+1}/{num_epochs}, Loss: {epoch_loss:.8f}, Validation Loss: {val_loss:.8f}')\n",
    "\n",
    "train_model(model, criterion, optimizer, num_epochs=5)"
   ],
   "metadata": {
    "collapsed": false,
    "ExecuteTime": {
     "end_time": "2024-06-07T11:06:06.442762200Z",
     "start_time": "2024-06-07T11:05:32.349698300Z"
    }
   },
   "id": "7665a78f49f6fc19"
  },
  {
   "cell_type": "code",
   "execution_count": 126,
   "outputs": [
    {
     "name": "stdout",
     "output_type": "stream",
     "text": [
      "추천 기사: ['ARTICLE_3007', 'ARTICLE_0985', 'ARTICLE_1006', 'ARTICLE_1005', 'ARTICLE_1004']\n"
     ]
    }
   ],
   "source": [
    "\n",
    "# 특정 사용자에 대한 추천 생성 함수\n",
    "def recommend_articles(user_id, num_recommendations=5):\n",
    "    user_index = df[df['viewuserID'] == user_id]['user_id'].iloc[0]\n",
    "    article_indices = torch.tensor([i for i in range(num_articles)], dtype=torch.long)\n",
    "\n",
    "    user_indices = torch.tensor([user_index] * num_articles, dtype=torch.long)\n",
    "    with torch.no_grad():\n",
    "        predictions = model(user_indices.unsqueeze(1), article_indices.unsqueeze(1)).squeeze().numpy()\n",
    "    top_articles = predictions.argsort()[-num_recommendations:][::-1]\n",
    "\n",
    "    recommended_article_ids = df['articleID'].astype('category').cat.categories[top_articles].tolist()\n",
    "    return recommended_article_ids\n",
    "\n",
    "# 예시 사용자에 대한 추천\n",
    "recommended_articles = recommend_articles('USER_1420', 5)\n",
    "print(f\"추천 기사: {recommended_articles}\")"
   ],
   "metadata": {
    "collapsed": false,
    "ExecuteTime": {
     "end_time": "2024-06-07T11:01:08.456625900Z",
     "start_time": "2024-06-07T11:01:08.330959Z"
    }
   },
   "id": "238f3471bd805f4a"
  },
  {
   "cell_type": "code",
   "execution_count": 127,
   "outputs": [],
   "source": [
    "# 모든 사용자에 대한 추천 생성\n",
    "recommendations = []\n",
    "for user in user_article_matrix.index:\n",
    "    recommended_articles = recommend_articles(user, 5)\n",
    "    for article in recommended_articles:\n",
    "        recommendations.append([user, article])\n",
    "\n",
    "# 추천 결과를 데이터프레임으로 변환\n",
    "top_recommendations = pd.DataFrame(recommendations, columns=['userID', 'articleID'])"
   ],
   "metadata": {
    "collapsed": false,
    "ExecuteTime": {
     "end_time": "2024-06-07T11:03:52.815418600Z",
     "start_time": "2024-06-07T11:01:12.097466700Z"
    }
   },
   "id": "cb716808bee2c8a8"
  },
  {
   "cell_type": "code",
   "execution_count": 128,
   "outputs": [],
   "source": [
    "# 제출 파일 생성\n",
    "submission = pd.DataFrame(columns=['userID', 'articleID'])\n",
    "submission['userID'] = top_recommendations['userID']\n",
    "submission['articleID'] = top_recommendations['articleID']"
   ],
   "metadata": {
    "collapsed": false,
    "ExecuteTime": {
     "end_time": "2024-06-07T11:03:56.676242500Z",
     "start_time": "2024-06-07T11:03:56.653302700Z"
    }
   },
   "id": "eeb5498b7d5dfd33"
  },
  {
   "cell_type": "code",
   "execution_count": 129,
   "outputs": [],
   "source": [
    "submission.to_csv('../submission/SASRec3.csv', index=False)"
   ],
   "metadata": {
    "collapsed": false,
    "ExecuteTime": {
     "end_time": "2024-06-07T11:03:58.208846900Z",
     "start_time": "2024-06-07T11:03:58.178096800Z"
    }
   },
   "id": "28885bbadc894cd5"
  },
  {
   "cell_type": "code",
   "execution_count": null,
   "outputs": [],
   "source": [],
   "metadata": {
    "collapsed": false
   },
   "id": "542948cd27f07eb"
  }
 ],
 "metadata": {
  "kernelspec": {
   "display_name": "Python 3",
   "language": "python",
   "name": "python3"
  },
  "language_info": {
   "codemirror_mode": {
    "name": "ipython",
    "version": 2
   },
   "file_extension": ".py",
   "mimetype": "text/x-python",
   "name": "python",
   "nbconvert_exporter": "python",
   "pygments_lexer": "ipython2",
   "version": "2.7.6"
  }
 },
 "nbformat": 4,
 "nbformat_minor": 5
}

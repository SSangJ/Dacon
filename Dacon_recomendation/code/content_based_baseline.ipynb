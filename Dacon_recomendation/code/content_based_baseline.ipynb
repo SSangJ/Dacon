{
 "cells": [
  {
   "cell_type": "code",
   "execution_count": 21,
   "id": "initial_id",
   "metadata": {
    "collapsed": true,
    "ExecuteTime": {
     "end_time": "2024-06-07T12:20:06.595562600Z",
     "start_time": "2024-06-07T12:20:06.420015300Z"
    }
   },
   "outputs": [],
   "source": [
    "import pandas as pd\n",
    "from scipy.sparse import csr_matrix\n",
    "from sklearn.neighbors import NearestNeighbors\n",
    "from sklearn.metrics.pairwise import cosine_similarity\n",
    "from sklearn.decomposition import TruncatedSVD\n",
    "import numpy as np\n",
    "view_log_train = pd.read_csv('../data/view_log.csv')\n",
    "article_info = pd.read_csv('../data/article_info.csv')\n",
    "submission = pd.read_csv('../submission/sample_submission.csv')"
   ]
  },
  {
   "cell_type": "code",
   "execution_count": 22,
   "outputs": [
    {
     "data": {
      "text/plain": "       userID     articleID userRegion userCountry\n0   USER_0000  ARTICLE_0661         NY          US\n1   USER_0000  ARTICLE_2316         NY          US\n2   USER_0000  ARTICLE_1345         NY          US\n3   USER_0000  ARTICLE_1089         NY          US\n4   USER_0000  ARTICLE_1484         NY          US\n..        ...           ...        ...         ...\n95  USER_0005  ARTICLE_0564         MG          BR\n96  USER_0005  ARTICLE_0931         MG          BR\n97  USER_0005  ARTICLE_2223         MG          BR\n98  USER_0005  ARTICLE_1577         MG          BR\n99  USER_0005  ARTICLE_3003         MG          BR\n\n[100 rows x 4 columns]",
      "text/html": "<div>\n<style scoped>\n    .dataframe tbody tr th:only-of-type {\n        vertical-align: middle;\n    }\n\n    .dataframe tbody tr th {\n        vertical-align: top;\n    }\n\n    .dataframe thead th {\n        text-align: right;\n    }\n</style>\n<table border=\"1\" class=\"dataframe\">\n  <thead>\n    <tr style=\"text-align: right;\">\n      <th></th>\n      <th>userID</th>\n      <th>articleID</th>\n      <th>userRegion</th>\n      <th>userCountry</th>\n    </tr>\n  </thead>\n  <tbody>\n    <tr>\n      <th>0</th>\n      <td>USER_0000</td>\n      <td>ARTICLE_0661</td>\n      <td>NY</td>\n      <td>US</td>\n    </tr>\n    <tr>\n      <th>1</th>\n      <td>USER_0000</td>\n      <td>ARTICLE_2316</td>\n      <td>NY</td>\n      <td>US</td>\n    </tr>\n    <tr>\n      <th>2</th>\n      <td>USER_0000</td>\n      <td>ARTICLE_1345</td>\n      <td>NY</td>\n      <td>US</td>\n    </tr>\n    <tr>\n      <th>3</th>\n      <td>USER_0000</td>\n      <td>ARTICLE_1089</td>\n      <td>NY</td>\n      <td>US</td>\n    </tr>\n    <tr>\n      <th>4</th>\n      <td>USER_0000</td>\n      <td>ARTICLE_1484</td>\n      <td>NY</td>\n      <td>US</td>\n    </tr>\n    <tr>\n      <th>...</th>\n      <td>...</td>\n      <td>...</td>\n      <td>...</td>\n      <td>...</td>\n    </tr>\n    <tr>\n      <th>95</th>\n      <td>USER_0005</td>\n      <td>ARTICLE_0564</td>\n      <td>MG</td>\n      <td>BR</td>\n    </tr>\n    <tr>\n      <th>96</th>\n      <td>USER_0005</td>\n      <td>ARTICLE_0931</td>\n      <td>MG</td>\n      <td>BR</td>\n    </tr>\n    <tr>\n      <th>97</th>\n      <td>USER_0005</td>\n      <td>ARTICLE_2223</td>\n      <td>MG</td>\n      <td>BR</td>\n    </tr>\n    <tr>\n      <th>98</th>\n      <td>USER_0005</td>\n      <td>ARTICLE_1577</td>\n      <td>MG</td>\n      <td>BR</td>\n    </tr>\n    <tr>\n      <th>99</th>\n      <td>USER_0005</td>\n      <td>ARTICLE_3003</td>\n      <td>MG</td>\n      <td>BR</td>\n    </tr>\n  </tbody>\n</table>\n<p>100 rows × 4 columns</p>\n</div>"
     },
     "execution_count": 22,
     "metadata": {},
     "output_type": "execute_result"
    }
   ],
   "source": [
    "view_log_train.head(100)"
   ],
   "metadata": {
    "collapsed": false,
    "ExecuteTime": {
     "end_time": "2024-06-07T12:20:07.180394Z",
     "start_time": "2024-06-07T12:20:07.142945800Z"
    }
   },
   "id": "753224c31e586387"
  },
  {
   "cell_type": "code",
   "execution_count": 23,
   "outputs": [],
   "source": [
    "view_log_train.drop(['userRegion','userCountry'],axis =1 , inplace=True)\n",
    "df = view_log_train"
   ],
   "metadata": {
    "collapsed": false,
    "ExecuteTime": {
     "end_time": "2024-06-07T12:20:07.381255400Z",
     "start_time": "2024-06-07T12:20:07.358315Z"
    }
   },
   "id": "aa2407e8612d106"
  },
  {
   "cell_type": "code",
   "execution_count": 24,
   "outputs": [],
   "source": [
    "# SVD 모델 생성\n",
    "svd = TruncatedSVD(n_components=50, random_state=42)\n",
    "user_factors = svd.fit_transform(user_item_matrix)\n",
    "item_factors = svd.components_.T"
   ],
   "metadata": {
    "collapsed": false,
    "ExecuteTime": {
     "end_time": "2024-06-07T12:20:08.254863600Z",
     "start_time": "2024-06-07T12:20:07.732206Z"
    }
   },
   "id": "37cce8223037cae1"
  },
  {
   "cell_type": "code",
   "execution_count": 25,
   "outputs": [],
   "source": [
    "# 특정 사용자에 대한 추천 생성 함수\n",
    "def get_svd_recommendations(user_id, n_recommendations=5):\n",
    "    user_index = user_item_matrix.index.tolist().index(user_id)\n",
    "    user_vector = user_factors[user_index]\n",
    "    scores = user_vector.dot(item_factors.T)\n",
    "    sorted_indices = np.argsort(scores)[::-1]\n",
    "    recommendations = [user_item_matrix.columns[i] for i in sorted_indices if user_item_matrix.iloc[user_index, i] == 0][:n_recommendations]\n",
    "    return recommendations"
   ],
   "metadata": {
    "collapsed": false,
    "ExecuteTime": {
     "end_time": "2024-06-07T12:20:12.533454300Z",
     "start_time": "2024-06-07T12:20:12.515504700Z"
    }
   },
   "id": "5a627fd779d471cc"
  },
  {
   "cell_type": "code",
   "execution_count": 26,
   "outputs": [],
   "source": [
    "# 모든 사용자에 대해 추천 항목 생성\n",
    "recommendations = []\n",
    "for user in user_item_matrix.index:\n",
    "    top5recommend = get_svd_recommendations(user, n_recommendations=5)\n",
    "    for article in top5recommend:\n",
    "        recommendations.append([user, article])"
   ],
   "metadata": {
    "collapsed": false,
    "ExecuteTime": {
     "end_time": "2024-06-07T12:21:47.399324800Z",
     "start_time": "2024-06-07T12:20:16.507977800Z"
    }
   },
   "id": "de1b1f5096942235"
  },
  {
   "cell_type": "code",
   "execution_count": 27,
   "outputs": [],
   "source": [
    "# 추천 결과를 데이터프레임으로 변환\n",
    "top_recommendations = pd.DataFrame(recommendations, columns=['userID', 'articleID'])\n",
    "\n",
    "# 제출 파일 생성\n",
    "submission = pd.DataFrame(columns=['userID', 'articleID'])\n",
    "submission['userID'] = top_recommendations['userID']\n",
    "submission['articleID'] = top_recommendations['articleID']\n",
    "\n",
    "# 파일 저장\n",
    "# submission.to_csv('svd_submission.csv', index=False)"
   ],
   "metadata": {
    "collapsed": false,
    "ExecuteTime": {
     "end_time": "2024-06-07T12:21:47.415142200Z",
     "start_time": "2024-06-07T12:21:47.402316700Z"
    }
   },
   "id": "4e5d7b0e9ed08236"
  },
  {
   "cell_type": "code",
   "execution_count": 28,
   "outputs": [
    {
     "data": {
      "text/plain": "         userID     articleID\n0     USER_0000  ARTICLE_1568\n1     USER_0000  ARTICLE_2720\n2     USER_0000  ARTICLE_1948\n3     USER_0000  ARTICLE_0561\n4     USER_0000  ARTICLE_2147\n...         ...           ...\n7070  USER_1420  ARTICLE_0017\n7071  USER_1420  ARTICLE_0436\n7072  USER_1420  ARTICLE_0411\n7073  USER_1420  ARTICLE_1089\n7074  USER_1420  ARTICLE_1150\n\n[7075 rows x 2 columns]",
      "text/html": "<div>\n<style scoped>\n    .dataframe tbody tr th:only-of-type {\n        vertical-align: middle;\n    }\n\n    .dataframe tbody tr th {\n        vertical-align: top;\n    }\n\n    .dataframe thead th {\n        text-align: right;\n    }\n</style>\n<table border=\"1\" class=\"dataframe\">\n  <thead>\n    <tr style=\"text-align: right;\">\n      <th></th>\n      <th>userID</th>\n      <th>articleID</th>\n    </tr>\n  </thead>\n  <tbody>\n    <tr>\n      <th>0</th>\n      <td>USER_0000</td>\n      <td>ARTICLE_1568</td>\n    </tr>\n    <tr>\n      <th>1</th>\n      <td>USER_0000</td>\n      <td>ARTICLE_2720</td>\n    </tr>\n    <tr>\n      <th>2</th>\n      <td>USER_0000</td>\n      <td>ARTICLE_1948</td>\n    </tr>\n    <tr>\n      <th>3</th>\n      <td>USER_0000</td>\n      <td>ARTICLE_0561</td>\n    </tr>\n    <tr>\n      <th>4</th>\n      <td>USER_0000</td>\n      <td>ARTICLE_2147</td>\n    </tr>\n    <tr>\n      <th>...</th>\n      <td>...</td>\n      <td>...</td>\n    </tr>\n    <tr>\n      <th>7070</th>\n      <td>USER_1420</td>\n      <td>ARTICLE_0017</td>\n    </tr>\n    <tr>\n      <th>7071</th>\n      <td>USER_1420</td>\n      <td>ARTICLE_0436</td>\n    </tr>\n    <tr>\n      <th>7072</th>\n      <td>USER_1420</td>\n      <td>ARTICLE_0411</td>\n    </tr>\n    <tr>\n      <th>7073</th>\n      <td>USER_1420</td>\n      <td>ARTICLE_1089</td>\n    </tr>\n    <tr>\n      <th>7074</th>\n      <td>USER_1420</td>\n      <td>ARTICLE_1150</td>\n    </tr>\n  </tbody>\n</table>\n<p>7075 rows × 2 columns</p>\n</div>"
     },
     "execution_count": 28,
     "metadata": {},
     "output_type": "execute_result"
    }
   ],
   "source": [
    "submission"
   ],
   "metadata": {
    "collapsed": false,
    "ExecuteTime": {
     "end_time": "2024-06-07T12:21:47.443426200Z",
     "start_time": "2024-06-07T12:21:47.415142200Z"
    }
   },
   "id": "72cdd8b50e3be195"
  },
  {
   "cell_type": "code",
   "execution_count": null,
   "outputs": [],
   "source": [],
   "metadata": {
    "collapsed": false
   },
   "id": "1b88ff745005ea9b"
  }
 ],
 "metadata": {
  "kernelspec": {
   "display_name": "Python 3",
   "language": "python",
   "name": "python3"
  },
  "language_info": {
   "codemirror_mode": {
    "name": "ipython",
    "version": 2
   },
   "file_extension": ".py",
   "mimetype": "text/x-python",
   "name": "python",
   "nbconvert_exporter": "python",
   "pygments_lexer": "ipython2",
   "version": "2.7.6"
  }
 },
 "nbformat": 4,
 "nbformat_minor": 5
}

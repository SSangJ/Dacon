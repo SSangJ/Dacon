{
 "cells": [
  {
   "cell_type": "code",
   "execution_count": 1,
   "outputs": [],
   "source": [
    "# train3에서 deeplearning\n"
   ],
   "metadata": {
    "collapsed": false,
    "ExecuteTime": {
     "end_time": "2023-11-30T12:11:40.315352200Z",
     "start_time": "2023-11-30T12:11:40.300426100Z"
    }
   },
   "id": "74f713adb0ed743b"
  },
  {
   "cell_type": "code",
   "execution_count": 21,
   "id": "initial_id",
   "metadata": {
    "collapsed": true,
    "ExecuteTime": {
     "end_time": "2023-12-01T00:33:17.030562700Z",
     "start_time": "2023-12-01T00:33:17.012278700Z"
    }
   },
   "outputs": [
    {
     "name": "stdout",
     "output_type": "stream",
     "text": [
      "cuda:0\n"
     ]
    }
   ],
   "source": [
    "import torch\n",
    "device = torch.device('cuda:0' if torch.cuda.is_available() else 'cpu')\n",
    "print(device)"
   ]
  },
  {
   "cell_type": "code",
   "execution_count": 59,
   "outputs": [],
   "source": [
    "import matplotlib.pyplot as plt\n",
    "import pandas as pd\n",
    "import numpy as np\n",
    "import seaborn as sns\n",
    "\n",
    "from sklearn.model_selection import train_test_split\n",
    "from sklearn.cluster import DBSCAN\n",
    "from imblearn.over_sampling import RandomOverSampler\n",
    "from sklearn.model_selection import train_test_split\n",
    "from sklearn.metrics import confusion_matrix, accuracy_score, f1_score\n",
    "from sklearn.model_selection import GridSearchCV\n",
    "from sklearn.preprocessing import MinMaxScaler\n",
    "from keras import metrics\n",
    "\n",
    "import tensorflow_addons.metrics"
   ],
   "metadata": {
    "collapsed": false,
    "ExecuteTime": {
     "end_time": "2023-12-01T00:57:58.262274600Z",
     "start_time": "2023-12-01T00:57:58.232495500Z"
    }
   },
   "id": "55a17efe969dce4a"
  },
  {
   "cell_type": "code",
   "execution_count": 23,
   "outputs": [],
   "source": [
    "import warnings\n",
    "\n",
    "# 경고 무시\n",
    "warnings.filterwarnings(\"ignore\", category=FutureWarning)"
   ],
   "metadata": {
    "collapsed": false,
    "ExecuteTime": {
     "end_time": "2023-12-01T00:33:18.504533500Z",
     "start_time": "2023-12-01T00:33:18.472109600Z"
    }
   },
   "id": "1b0336f4ab645e18"
  },
  {
   "cell_type": "code",
   "execution_count": 24,
   "outputs": [],
   "source": [
    "import os\n",
    "os.environ['KMP_DUPLICATE_LIB_OK']='True'"
   ],
   "metadata": {
    "collapsed": false,
    "ExecuteTime": {
     "end_time": "2023-12-01T00:33:18.813986800Z",
     "start_time": "2023-12-01T00:33:18.784423100Z"
    }
   },
   "id": "83740237a18a3c40"
  },
  {
   "cell_type": "code",
   "execution_count": 25,
   "outputs": [],
   "source": [
    "train = pd.read_csv(\"../data/train.csv\")\n",
    "test = pd.read_csv(\"../data/test.csv\")\n",
    "train = train.drop(['user_id'], axis=1)\n",
    "test_id = test['user_id'].values\n",
    "test = test.drop(['user_id'], axis=1)\n",
    "\n"
   ],
   "metadata": {
    "collapsed": false,
    "ExecuteTime": {
     "end_time": "2023-12-01T00:33:19.106978200Z",
     "start_time": "2023-12-01T00:33:19.060263900Z"
    }
   },
   "id": "3b1f82b6884d36a4"
  },
  {
   "cell_type": "code",
   "execution_count": 26,
   "outputs": [
    {
     "name": "stdout",
     "output_type": "stream",
     "text": [
      "<class 'pandas.core.frame.DataFrame'>\n",
      "RangeIndex: 10000 entries, 0 to 9999\n",
      "Data columns (total 14 columns):\n",
      " #   Column                             Non-Null Count  Dtype  \n",
      "---  ------                             --------------  -----  \n",
      " 0   subscription_duration              10000 non-null  int64  \n",
      " 1   recent_login_time                  10000 non-null  int64  \n",
      " 2   average_login_time                 10000 non-null  float64\n",
      " 3   average_time_per_learning_session  10000 non-null  float64\n",
      " 4   monthly_active_learning_days       10000 non-null  int64  \n",
      " 5   total_completed_courses            10000 non-null  int64  \n",
      " 6   recent_learning_achievement        10000 non-null  float64\n",
      " 7   abandoned_learning_sessions        10000 non-null  int64  \n",
      " 8   community_engagement_level         10000 non-null  int64  \n",
      " 9   preferred_difficulty_level         10000 non-null  object \n",
      " 10  subscription_type                  10000 non-null  object \n",
      " 11  customer_inquiry_history           10000 non-null  int64  \n",
      " 12  payment_pattern                    10000 non-null  int64  \n",
      " 13  target                             10000 non-null  int64  \n",
      "dtypes: float64(3), int64(9), object(2)\n",
      "memory usage: 1.1+ MB\n"
     ]
    }
   ],
   "source": [
    "train.info()"
   ],
   "metadata": {
    "collapsed": false,
    "ExecuteTime": {
     "end_time": "2023-12-01T00:33:19.298683800Z",
     "start_time": "2023-12-01T00:33:19.276664900Z"
    }
   },
   "id": "f968f2db3e6f708a"
  },
  {
   "cell_type": "code",
   "execution_count": 27,
   "outputs": [],
   "source": [
    "# preferred_difficulty_level 열 인코딩\n",
    "train.loc[train['preferred_difficulty_level'].values == 'Low','preferred_difficulty_level'] = 0\n",
    "train.loc[train['preferred_difficulty_level'].values == 'Medium','preferred_difficulty_level'] = 1\n",
    "train.loc[train['preferred_difficulty_level'].values == 'High','preferred_difficulty_level'] = 2\n",
    "\n",
    "test.loc[test['preferred_difficulty_level'].values == 'Low','preferred_difficulty_level'] = 0\n",
    "test.loc[test['preferred_difficulty_level'].values == 'Medium','preferred_difficulty_level'] = 1\n",
    "test.loc[test['preferred_difficulty_level'].values == 'High','preferred_difficulty_level'] = 2\n",
    "train['preferred_difficulty_level'] = train['preferred_difficulty_level'].astype(int)"
   ],
   "metadata": {
    "collapsed": false,
    "ExecuteTime": {
     "end_time": "2023-12-01T00:33:19.530197800Z",
     "start_time": "2023-12-01T00:33:19.499983300Z"
    }
   },
   "id": "8b3d24ddf355e209"
  },
  {
   "cell_type": "code",
   "execution_count": 28,
   "outputs": [
    {
     "name": "stdout",
     "output_type": "stream",
     "text": [
      "<class 'pandas.core.frame.DataFrame'>\n",
      "RangeIndex: 10000 entries, 0 to 9999\n",
      "Data columns (total 14 columns):\n",
      " #   Column                             Non-Null Count  Dtype  \n",
      "---  ------                             --------------  -----  \n",
      " 0   subscription_duration              10000 non-null  int64  \n",
      " 1   recent_login_time                  10000 non-null  int64  \n",
      " 2   average_login_time                 10000 non-null  float64\n",
      " 3   average_time_per_learning_session  10000 non-null  float64\n",
      " 4   monthly_active_learning_days       10000 non-null  int64  \n",
      " 5   total_completed_courses            10000 non-null  int64  \n",
      " 6   recent_learning_achievement        10000 non-null  float64\n",
      " 7   abandoned_learning_sessions        10000 non-null  int64  \n",
      " 8   community_engagement_level         10000 non-null  int64  \n",
      " 9   preferred_difficulty_level         10000 non-null  int32  \n",
      " 10  subscription_type                  10000 non-null  object \n",
      " 11  customer_inquiry_history           10000 non-null  int64  \n",
      " 12  payment_pattern                    10000 non-null  int64  \n",
      " 13  target                             10000 non-null  int64  \n",
      "dtypes: float64(3), int32(1), int64(9), object(1)\n",
      "memory usage: 1.0+ MB\n"
     ]
    }
   ],
   "source": [
    "train.info()"
   ],
   "metadata": {
    "collapsed": false,
    "ExecuteTime": {
     "end_time": "2023-12-01T00:33:19.916000500Z",
     "start_time": "2023-12-01T00:33:19.883584400Z"
    }
   },
   "id": "9eba8c660c9ff572"
  },
  {
   "cell_type": "code",
   "execution_count": 29,
   "outputs": [],
   "source": [
    "from sklearn.preprocessing import StandardScaler, LabelEncoder\n",
    "\n",
    "# 데이터 스케일링을 위한 StandardScaler 인스턴스 생성\n",
    "scaler = StandardScaler()\n",
    "categoric_col =['subscription_type']\n",
    "label_encoders = {}\n",
    "for col in categoric_col:\n",
    "    label_encoders[col] = LabelEncoder()\n",
    "    train[col] = label_encoders[col].fit_transform(train[col])\n",
    "    test[col] = label_encoders[col].fit_transform(test[col])"
   ],
   "metadata": {
    "collapsed": false,
    "ExecuteTime": {
     "end_time": "2023-12-01T00:33:20.277780200Z",
     "start_time": "2023-12-01T00:33:20.254979300Z"
    }
   },
   "id": "f506f8dd10704945"
  },
  {
   "cell_type": "code",
   "execution_count": 30,
   "outputs": [],
   "source": [
    "# 'payment_pattern' 열에 대한 고유값 확인\n",
    "unique_values = train['payment_pattern'].unique()\n",
    "\n",
    "# 각 고유값에 대해 새로운 열 생성 및 0 또는 1로 설정\n",
    "for value in unique_values:\n",
    "    train[f'payment_pattern_{value}'] = (train['payment_pattern'] == value).astype(int)\n",
    "\n",
    "# 기존 'payment_pattern' 열 삭제\n",
    "train.drop('payment_pattern', axis=1, inplace=True)\n",
    "\n",
    "for value in unique_values:\n",
    "    test[f'payment_pattern_{value}'] = (test['payment_pattern'] == value).astype(int)\n",
    "\n",
    "# 기존 'payment_pattern' 열 삭제\n",
    "test.drop('payment_pattern', axis=1, inplace=True)"
   ],
   "metadata": {
    "collapsed": false,
    "ExecuteTime": {
     "end_time": "2023-12-01T00:33:20.645194400Z",
     "start_time": "2023-12-01T00:33:20.630048600Z"
    }
   },
   "id": "eb67fdd644e468d"
  },
  {
   "cell_type": "code",
   "execution_count": 31,
   "outputs": [
    {
     "name": "stdout",
     "output_type": "stream",
     "text": [
      "<class 'pandas.core.frame.DataFrame'>\n",
      "RangeIndex: 10000 entries, 0 to 9999\n",
      "Data columns (total 21 columns):\n",
      " #   Column                             Non-Null Count  Dtype  \n",
      "---  ------                             --------------  -----  \n",
      " 0   subscription_duration              10000 non-null  int64  \n",
      " 1   recent_login_time                  10000 non-null  int64  \n",
      " 2   average_login_time                 10000 non-null  float64\n",
      " 3   average_time_per_learning_session  10000 non-null  float64\n",
      " 4   monthly_active_learning_days       10000 non-null  int64  \n",
      " 5   total_completed_courses            10000 non-null  int64  \n",
      " 6   recent_learning_achievement        10000 non-null  float64\n",
      " 7   abandoned_learning_sessions        10000 non-null  int64  \n",
      " 8   community_engagement_level         10000 non-null  int64  \n",
      " 9   preferred_difficulty_level         10000 non-null  int32  \n",
      " 10  subscription_type                  10000 non-null  int32  \n",
      " 11  customer_inquiry_history           10000 non-null  int64  \n",
      " 12  target                             10000 non-null  int64  \n",
      " 13  payment_pattern_5                  10000 non-null  int32  \n",
      " 14  payment_pattern_6                  10000 non-null  int32  \n",
      " 15  payment_pattern_7                  10000 non-null  int32  \n",
      " 16  payment_pattern_0                  10000 non-null  int32  \n",
      " 17  payment_pattern_1                  10000 non-null  int32  \n",
      " 18  payment_pattern_3                  10000 non-null  int32  \n",
      " 19  payment_pattern_4                  10000 non-null  int32  \n",
      " 20  payment_pattern_2                  10000 non-null  int32  \n",
      "dtypes: float64(3), int32(10), int64(8)\n",
      "memory usage: 1.2 MB\n"
     ]
    }
   ],
   "source": [
    "train.info()"
   ],
   "metadata": {
    "collapsed": false,
    "ExecuteTime": {
     "end_time": "2023-12-01T00:33:21.078963300Z",
     "start_time": "2023-12-01T00:33:21.057629900Z"
    }
   },
   "id": "ed96d8a785a94f9f"
  },
  {
   "cell_type": "code",
   "execution_count": 32,
   "outputs": [],
   "source": [
    "columns_to_scale = train.columns.drop('target')  # 실제 열 이름으로 대체해야 함\n",
    "\n",
    "# MinMaxScaler 객체 생성\n",
    "scaler = MinMaxScaler()\n",
    "\n",
    "# 선택한 열을 Min-Max Scaling\n",
    "train[columns_to_scale] = scaler.fit_transform(train[columns_to_scale])\n",
    "test[columns_to_scale] = scaler.fit_transform(test[columns_to_scale])"
   ],
   "metadata": {
    "collapsed": false,
    "ExecuteTime": {
     "end_time": "2023-12-01T00:33:21.386800900Z",
     "start_time": "2023-12-01T00:33:21.348337300Z"
    }
   },
   "id": "1acf308fd7a387f9"
  },
  {
   "cell_type": "code",
   "execution_count": 33,
   "outputs": [],
   "source": [
    "train_x = train.drop('target', axis = 1)\n",
    "train_y = train['target']\n",
    "test_x = test"
   ],
   "metadata": {
    "collapsed": false,
    "ExecuteTime": {
     "end_time": "2023-12-01T00:33:21.802134700Z",
     "start_time": "2023-12-01T00:33:21.777474500Z"
    }
   },
   "id": "be65679743d2e2c3"
  },
  {
   "cell_type": "code",
   "execution_count": 34,
   "outputs": [],
   "source": [
    "ros = RandomOverSampler(random_state=42)\n",
    "train_x, train_y = ros.fit_resample(train_x, train_y)"
   ],
   "metadata": {
    "collapsed": false,
    "ExecuteTime": {
     "end_time": "2023-12-01T00:33:22.125785700Z",
     "start_time": "2023-12-01T00:33:22.100859500Z"
    }
   },
   "id": "e40a71fc3bcb11e1"
  },
  {
   "cell_type": "code",
   "execution_count": 35,
   "outputs": [
    {
     "data": {
      "text/plain": "       subscription_duration  recent_login_time  average_login_time  \\\n0                   0.545455           0.464286            0.510710   \n1                   0.681818           0.607143            0.653087   \n2                   0.954545           0.000000            0.561419   \n3                   0.000000           0.642857            0.619612   \n4                   0.136364           0.142857            0.772338   \n...                      ...                ...                 ...   \n12393               0.863636           0.035714            0.584262   \n12394               0.545455           0.892857            0.439919   \n12395               0.954545           0.142857            0.632324   \n12396               0.409091           0.428571            0.603599   \n12397               0.500000           0.535714            0.483785   \n\n       average_time_per_learning_session  monthly_active_learning_days  \\\n0                               0.016719                      0.739130   \n1                               0.144299                      0.652174   \n2                               0.043235                      0.521739   \n3                               0.084726                      0.782609   \n4                               0.061055                      0.782609   \n...                                  ...                           ...   \n12393                           0.248061                      0.173913   \n12394                           0.000164                      0.869565   \n12395                           0.023908                      0.695652   \n12396                           0.005290                      0.130435   \n12397                           0.060870                      0.043478   \n\n       total_completed_courses  recent_learning_achievement  \\\n0                     0.576923                     0.422657   \n1                     0.461538                     0.803441   \n2                     0.500000                     0.761609   \n3                     0.653846                     0.446031   \n4                     0.346154                     0.599412   \n...                        ...                          ...   \n12393                 0.346154                     0.677915   \n12394                 0.653846                     0.477833   \n12395                 0.384615                     0.558721   \n12396                 0.384615                     0.379752   \n12397                 0.307692                     0.265187   \n\n       abandoned_learning_sessions  community_engagement_level  \\\n0                         0.250000                        0.75   \n1                         0.166667                        0.50   \n2                         0.250000                        0.75   \n3                         0.000000                        0.50   \n4                         0.166667                        0.75   \n...                            ...                         ...   \n12393                     0.083333                        1.00   \n12394                     0.416667                        1.00   \n12395                     0.166667                        0.25   \n12396                     0.166667                        0.50   \n12397                     0.333333                        0.25   \n\n       preferred_difficulty_level  subscription_type  \\\n0                             0.0                0.0   \n1                             0.5                0.0   \n2                             0.5                1.0   \n3                             0.0                0.0   \n4                             0.5                0.0   \n...                           ...                ...   \n12393                         0.0                0.0   \n12394                         0.0                1.0   \n12395                         0.0                0.0   \n12396                         0.0                0.0   \n12397                         0.0                0.0   \n\n       customer_inquiry_history  payment_pattern_5  payment_pattern_6  \\\n0                           0.4                1.0                0.0   \n1                           0.1                0.0                1.0   \n2                           0.0                0.0                0.0   \n3                           0.1                0.0                0.0   \n4                           0.3                0.0                0.0   \n...                         ...                ...                ...   \n12393                       0.0                0.0                0.0   \n12394                       0.3                0.0                0.0   \n12395                       0.2                1.0                0.0   \n12396                       0.0                1.0                0.0   \n12397                       0.1                1.0                0.0   \n\n       payment_pattern_7  payment_pattern_0  payment_pattern_1  \\\n0                    0.0                0.0                0.0   \n1                    0.0                0.0                0.0   \n2                    1.0                0.0                0.0   \n3                    0.0                1.0                0.0   \n4                    0.0                1.0                0.0   \n...                  ...                ...                ...   \n12393                0.0                1.0                0.0   \n12394                0.0                0.0                0.0   \n12395                0.0                0.0                0.0   \n12396                0.0                0.0                0.0   \n12397                0.0                0.0                0.0   \n\n       payment_pattern_3  payment_pattern_4  payment_pattern_2  \n0                    0.0                0.0                0.0  \n1                    0.0                0.0                0.0  \n2                    0.0                0.0                0.0  \n3                    0.0                0.0                0.0  \n4                    0.0                0.0                0.0  \n...                  ...                ...                ...  \n12393                0.0                0.0                0.0  \n12394                1.0                0.0                0.0  \n12395                0.0                0.0                0.0  \n12396                0.0                0.0                0.0  \n12397                0.0                0.0                0.0  \n\n[12398 rows x 20 columns]",
      "text/html": "<div>\n<style scoped>\n    .dataframe tbody tr th:only-of-type {\n        vertical-align: middle;\n    }\n\n    .dataframe tbody tr th {\n        vertical-align: top;\n    }\n\n    .dataframe thead th {\n        text-align: right;\n    }\n</style>\n<table border=\"1\" class=\"dataframe\">\n  <thead>\n    <tr style=\"text-align: right;\">\n      <th></th>\n      <th>subscription_duration</th>\n      <th>recent_login_time</th>\n      <th>average_login_time</th>\n      <th>average_time_per_learning_session</th>\n      <th>monthly_active_learning_days</th>\n      <th>total_completed_courses</th>\n      <th>recent_learning_achievement</th>\n      <th>abandoned_learning_sessions</th>\n      <th>community_engagement_level</th>\n      <th>preferred_difficulty_level</th>\n      <th>subscription_type</th>\n      <th>customer_inquiry_history</th>\n      <th>payment_pattern_5</th>\n      <th>payment_pattern_6</th>\n      <th>payment_pattern_7</th>\n      <th>payment_pattern_0</th>\n      <th>payment_pattern_1</th>\n      <th>payment_pattern_3</th>\n      <th>payment_pattern_4</th>\n      <th>payment_pattern_2</th>\n    </tr>\n  </thead>\n  <tbody>\n    <tr>\n      <th>0</th>\n      <td>0.545455</td>\n      <td>0.464286</td>\n      <td>0.510710</td>\n      <td>0.016719</td>\n      <td>0.739130</td>\n      <td>0.576923</td>\n      <td>0.422657</td>\n      <td>0.250000</td>\n      <td>0.75</td>\n      <td>0.0</td>\n      <td>0.0</td>\n      <td>0.4</td>\n      <td>1.0</td>\n      <td>0.0</td>\n      <td>0.0</td>\n      <td>0.0</td>\n      <td>0.0</td>\n      <td>0.0</td>\n      <td>0.0</td>\n      <td>0.0</td>\n    </tr>\n    <tr>\n      <th>1</th>\n      <td>0.681818</td>\n      <td>0.607143</td>\n      <td>0.653087</td>\n      <td>0.144299</td>\n      <td>0.652174</td>\n      <td>0.461538</td>\n      <td>0.803441</td>\n      <td>0.166667</td>\n      <td>0.50</td>\n      <td>0.5</td>\n      <td>0.0</td>\n      <td>0.1</td>\n      <td>0.0</td>\n      <td>1.0</td>\n      <td>0.0</td>\n      <td>0.0</td>\n      <td>0.0</td>\n      <td>0.0</td>\n      <td>0.0</td>\n      <td>0.0</td>\n    </tr>\n    <tr>\n      <th>2</th>\n      <td>0.954545</td>\n      <td>0.000000</td>\n      <td>0.561419</td>\n      <td>0.043235</td>\n      <td>0.521739</td>\n      <td>0.500000</td>\n      <td>0.761609</td>\n      <td>0.250000</td>\n      <td>0.75</td>\n      <td>0.5</td>\n      <td>1.0</td>\n      <td>0.0</td>\n      <td>0.0</td>\n      <td>0.0</td>\n      <td>1.0</td>\n      <td>0.0</td>\n      <td>0.0</td>\n      <td>0.0</td>\n      <td>0.0</td>\n      <td>0.0</td>\n    </tr>\n    <tr>\n      <th>3</th>\n      <td>0.000000</td>\n      <td>0.642857</td>\n      <td>0.619612</td>\n      <td>0.084726</td>\n      <td>0.782609</td>\n      <td>0.653846</td>\n      <td>0.446031</td>\n      <td>0.000000</td>\n      <td>0.50</td>\n      <td>0.0</td>\n      <td>0.0</td>\n      <td>0.1</td>\n      <td>0.0</td>\n      <td>0.0</td>\n      <td>0.0</td>\n      <td>1.0</td>\n      <td>0.0</td>\n      <td>0.0</td>\n      <td>0.0</td>\n      <td>0.0</td>\n    </tr>\n    <tr>\n      <th>4</th>\n      <td>0.136364</td>\n      <td>0.142857</td>\n      <td>0.772338</td>\n      <td>0.061055</td>\n      <td>0.782609</td>\n      <td>0.346154</td>\n      <td>0.599412</td>\n      <td>0.166667</td>\n      <td>0.75</td>\n      <td>0.5</td>\n      <td>0.0</td>\n      <td>0.3</td>\n      <td>0.0</td>\n      <td>0.0</td>\n      <td>0.0</td>\n      <td>1.0</td>\n      <td>0.0</td>\n      <td>0.0</td>\n      <td>0.0</td>\n      <td>0.0</td>\n    </tr>\n    <tr>\n      <th>...</th>\n      <td>...</td>\n      <td>...</td>\n      <td>...</td>\n      <td>...</td>\n      <td>...</td>\n      <td>...</td>\n      <td>...</td>\n      <td>...</td>\n      <td>...</td>\n      <td>...</td>\n      <td>...</td>\n      <td>...</td>\n      <td>...</td>\n      <td>...</td>\n      <td>...</td>\n      <td>...</td>\n      <td>...</td>\n      <td>...</td>\n      <td>...</td>\n      <td>...</td>\n    </tr>\n    <tr>\n      <th>12393</th>\n      <td>0.863636</td>\n      <td>0.035714</td>\n      <td>0.584262</td>\n      <td>0.248061</td>\n      <td>0.173913</td>\n      <td>0.346154</td>\n      <td>0.677915</td>\n      <td>0.083333</td>\n      <td>1.00</td>\n      <td>0.0</td>\n      <td>0.0</td>\n      <td>0.0</td>\n      <td>0.0</td>\n      <td>0.0</td>\n      <td>0.0</td>\n      <td>1.0</td>\n      <td>0.0</td>\n      <td>0.0</td>\n      <td>0.0</td>\n      <td>0.0</td>\n    </tr>\n    <tr>\n      <th>12394</th>\n      <td>0.545455</td>\n      <td>0.892857</td>\n      <td>0.439919</td>\n      <td>0.000164</td>\n      <td>0.869565</td>\n      <td>0.653846</td>\n      <td>0.477833</td>\n      <td>0.416667</td>\n      <td>1.00</td>\n      <td>0.0</td>\n      <td>1.0</td>\n      <td>0.3</td>\n      <td>0.0</td>\n      <td>0.0</td>\n      <td>0.0</td>\n      <td>0.0</td>\n      <td>0.0</td>\n      <td>1.0</td>\n      <td>0.0</td>\n      <td>0.0</td>\n    </tr>\n    <tr>\n      <th>12395</th>\n      <td>0.954545</td>\n      <td>0.142857</td>\n      <td>0.632324</td>\n      <td>0.023908</td>\n      <td>0.695652</td>\n      <td>0.384615</td>\n      <td>0.558721</td>\n      <td>0.166667</td>\n      <td>0.25</td>\n      <td>0.0</td>\n      <td>0.0</td>\n      <td>0.2</td>\n      <td>1.0</td>\n      <td>0.0</td>\n      <td>0.0</td>\n      <td>0.0</td>\n      <td>0.0</td>\n      <td>0.0</td>\n      <td>0.0</td>\n      <td>0.0</td>\n    </tr>\n    <tr>\n      <th>12396</th>\n      <td>0.409091</td>\n      <td>0.428571</td>\n      <td>0.603599</td>\n      <td>0.005290</td>\n      <td>0.130435</td>\n      <td>0.384615</td>\n      <td>0.379752</td>\n      <td>0.166667</td>\n      <td>0.50</td>\n      <td>0.0</td>\n      <td>0.0</td>\n      <td>0.0</td>\n      <td>1.0</td>\n      <td>0.0</td>\n      <td>0.0</td>\n      <td>0.0</td>\n      <td>0.0</td>\n      <td>0.0</td>\n      <td>0.0</td>\n      <td>0.0</td>\n    </tr>\n    <tr>\n      <th>12397</th>\n      <td>0.500000</td>\n      <td>0.535714</td>\n      <td>0.483785</td>\n      <td>0.060870</td>\n      <td>0.043478</td>\n      <td>0.307692</td>\n      <td>0.265187</td>\n      <td>0.333333</td>\n      <td>0.25</td>\n      <td>0.0</td>\n      <td>0.0</td>\n      <td>0.1</td>\n      <td>1.0</td>\n      <td>0.0</td>\n      <td>0.0</td>\n      <td>0.0</td>\n      <td>0.0</td>\n      <td>0.0</td>\n      <td>0.0</td>\n      <td>0.0</td>\n    </tr>\n  </tbody>\n</table>\n<p>12398 rows × 20 columns</p>\n</div>"
     },
     "execution_count": 35,
     "metadata": {},
     "output_type": "execute_result"
    }
   ],
   "source": [
    "train_x"
   ],
   "metadata": {
    "collapsed": false,
    "ExecuteTime": {
     "end_time": "2023-12-01T00:33:22.583081100Z",
     "start_time": "2023-12-01T00:33:22.515034800Z"
    }
   },
   "id": "1eb85795229919ed"
  },
  {
   "cell_type": "code",
   "execution_count": 36,
   "outputs": [
    {
     "data": {
      "text/plain": "0        0\n1        1\n2        1\n3        1\n4        1\n        ..\n12393    0\n12394    0\n12395    0\n12396    0\n12397    0\nName: target, Length: 12398, dtype: int64"
     },
     "execution_count": 36,
     "metadata": {},
     "output_type": "execute_result"
    }
   ],
   "source": [
    "train_y"
   ],
   "metadata": {
    "collapsed": false,
    "ExecuteTime": {
     "end_time": "2023-12-01T00:33:23.364192200Z",
     "start_time": "2023-12-01T00:33:23.339236900Z"
    }
   },
   "id": "bf51db23f32440b"
  },
  {
   "cell_type": "code",
   "execution_count": 37,
   "outputs": [],
   "source": [
    "train_x.fillna(0, inplace=True)\n",
    "test_x.fillna(0, inplace=True)"
   ],
   "metadata": {
    "collapsed": false,
    "ExecuteTime": {
     "end_time": "2023-12-01T00:33:24.195963300Z",
     "start_time": "2023-12-01T00:33:24.171135800Z"
    }
   },
   "id": "fefc0c203676b3c9"
  },
  {
   "cell_type": "code",
   "execution_count": 106,
   "outputs": [],
   "source": [
    "import tensorflow as tf\n",
    "\n",
    "def rmsle(y_true, y_pred):\n",
    "    y_true = tf.cast(y_true, tf.float32)\n",
    "    y_pred = tf.cast(y_pred, tf.float32)\n",
    "\n",
    "    squared_error = tf.square(tf.math.log1p(y_pred) - tf.math.log1p(y_true))\n",
    "\n",
    "    return tf.sqrt(tf.reduce_mean(squared_error))\n",
    "\n",
    "def loss_fn(y_true, y_pred):\n",
    "    return rmsle(y_true, y_pred)\n",
    "\n",
    "def metric_fn(y_true, y_pred):\n",
    "    return rmsle(y_true, y_pred)\n",
    "\n",
    "def f1_macro(y_true, y_pred):\n",
    "    def precision_m(y_true, y_pred):\n",
    "        true_positives = tf.reduce_sum(tf.round(tf.keras.backend.clip(y_true * y_pred, 0, 1)))\n",
    "        predicted_positives = tf.reduce_sum(tf.round(tf.keras.backend.clip(y_pred, 0, 1)))\n",
    "        precision = true_positives / (predicted_positives + tf.keras.backend.epsilon())\n",
    "        return precision\n",
    "\n",
    "    def recall_m(y_true, y_pred):\n",
    "        true_positives = tf.reduce_sum(tf.round(tf.keras.backend.clip(y_true * y_pred, 0, 1)))\n",
    "        possible_positives = tf.reduce_sum(tf.round(tf.keras.backend.clip(y_true, 0, 1)))\n",
    "        recall = true_positives / (possible_positives + tf.keras.backend.epsilon())\n",
    "        return recall\n",
    "\n",
    "    precision = precision_m(y_true, y_pred)\n",
    "    recall = recall_m(y_true, y_pred)\n",
    "\n",
    "    f1 = 2 * ((precision * recall) / (precision + recall + tf.keras.backend.epsilon()))\n",
    "    return f1\n",
    "\n",
    "def binary_cross_entropy(y_true, y_pred):\n",
    "    return tf.keras.losses.BinaryCrossentropy()(y_true, y_pred)\n",
    "\n",
    "# def f1_binary(y_true, y_pred):\n",
    "#     def precision_m(y_true, y_pred):\n",
    "#         true_positives = tf.reduce_sum(tf.round(tf.keras.backend.clip(y_true * y_pred, 0, 1)))\n",
    "#         predicted_positives = tf.reduce_sum(tf.round(tf.keras.backend.clip(y_pred, 0, 1)))\n",
    "#         precision = true_positives / (predicted_positives + tf.keras.backend.epsilon())\n",
    "#         return precision\n",
    "# \n",
    "#     def recall_m(y_true, y_pred):\n",
    "#         true_positives = tf.reduce_sum(tf.round(tf.keras.backend.clip(y_true * y_pred, 0, 1)))\n",
    "#         possible_positives = tf.reduce_sum(tf.round(tf.keras.backend.clip(y_true, 0, 1)))\n",
    "#         recall = true_positives / (possible_positives + tf.keras.backend.epsilon())\n",
    "#         return recall\n",
    "# \n",
    "#     precision = precision_m(y_true, y_pred)\n",
    "#     recall = recall_m(y_true, y_pred)\n",
    "# \n",
    "#     f1 = 2 * ((precision * recall) / (precision + recall + tf.keras.backend.epsilon()))\n",
    "#     return f1\n",
    "\n",
    "def f1_macro(y_true, y_pred):\n",
    "    def recall_m(y_true, y_pred):\n",
    "        true_positives = tf.math.count_nonzero(tf.math.round(y_true * y_pred), axis=0)\n",
    "        possible_positives = tf.math.count_nonzero(tf.math.round(y_true), axis=0)\n",
    "        recall = tf.math.divide_no_nan(true_positives, possible_positives)\n",
    "        return recall\n",
    "\n",
    "    def precision_m(y_true, y_pred):\n",
    "        true_positives = tf.math.count_nonzero(tf.math.round(y_true * y_pred), axis=0)\n",
    "        predicted_positives = tf.math.count_nonzero(tf.math.round(y_pred), axis=0)\n",
    "        precision = tf.math.divide_no_nan(true_positives, predicted_positives)\n",
    "        return precision\n",
    "\n",
    "    precision = precision_m(y_true, y_pred)\n",
    "    recall = recall_m(y_true, y_pred)\n",
    "\n",
    "    f1 = tf.math.divide_no_nan(2 * (precision * recall), (precision + recall))\n",
    "    f1_macro = tf.reduce_mean(f1)\n",
    "\n",
    "    return f1_macro\n"
   ],
   "metadata": {
    "collapsed": false,
    "ExecuteTime": {
     "end_time": "2023-12-01T01:35:40.872272600Z",
     "start_time": "2023-12-01T01:35:40.843507100Z"
    }
   },
   "id": "326406df48c07068"
  },
  {
   "cell_type": "code",
   "execution_count": 135,
   "outputs": [],
   "source": [
    "callbacks_list = [\n",
    "    tf.keras.callbacks.EarlyStopping(monitor='val_loss', patience=35, verbose=2, mode='min',restore_best_weights=True),\n",
    "    tf.keras.callbacks.ReduceLROnPlateau(monitor='val_loss', factor=0.8, patience=4, min_lr=0.000001),\n",
    "    tf.keras.callbacks.TerminateOnNaN()\n",
    "]"
   ],
   "metadata": {
    "collapsed": false,
    "ExecuteTime": {
     "end_time": "2023-12-01T07:30:29.547641800Z",
     "start_time": "2023-12-01T07:30:29.501638600Z"
    }
   },
   "id": "dd6d2f17ebed224a"
  },
  {
   "cell_type": "code",
   "execution_count": 137,
   "outputs": [
    {
     "name": "stdout",
     "output_type": "stream",
     "text": [
      "Epoch 1/300\n",
      "310/310 [==============================] - 2s 2ms/step - loss: 0.6770 - accuracy: 0.5904 - val_loss: 0.9374 - val_accuracy: 0.0617 - lr: 0.0010\n",
      "Epoch 2/300\n",
      "310/310 [==============================] - 1s 2ms/step - loss: 0.6611 - accuracy: 0.6061 - val_loss: 0.8626 - val_accuracy: 0.2194 - lr: 0.0010\n",
      "Epoch 3/300\n",
      "310/310 [==============================] - 1s 2ms/step - loss: 0.6528 - accuracy: 0.6158 - val_loss: 0.7846 - val_accuracy: 0.3153 - lr: 0.0010\n",
      "Epoch 4/300\n",
      "310/310 [==============================] - 1s 2ms/step - loss: 0.6491 - accuracy: 0.6234 - val_loss: 0.8744 - val_accuracy: 0.2048 - lr: 0.0010\n",
      "Epoch 5/300\n",
      "310/310 [==============================] - 1s 2ms/step - loss: 0.6447 - accuracy: 0.6195 - val_loss: 0.9010 - val_accuracy: 0.1391 - lr: 0.0010\n",
      "Epoch 6/300\n",
      "310/310 [==============================] - 1s 2ms/step - loss: 0.6424 - accuracy: 0.6270 - val_loss: 0.8229 - val_accuracy: 0.2597 - lr: 0.0010\n",
      "Epoch 7/300\n",
      "310/310 [==============================] - 1s 2ms/step - loss: 0.6376 - accuracy: 0.6222 - val_loss: 0.8016 - val_accuracy: 0.3339 - lr: 0.0010\n",
      "Epoch 8/300\n",
      "310/310 [==============================] - 1s 2ms/step - loss: 0.6349 - accuracy: 0.6356 - val_loss: 0.8681 - val_accuracy: 0.2556 - lr: 8.0000e-04\n",
      "Epoch 9/300\n",
      "310/310 [==============================] - 1s 2ms/step - loss: 0.6340 - accuracy: 0.6351 - val_loss: 0.8859 - val_accuracy: 0.2234 - lr: 8.0000e-04\n",
      "Epoch 10/300\n",
      "310/310 [==============================] - 0s 2ms/step - loss: 0.6314 - accuracy: 0.6368 - val_loss: 0.8711 - val_accuracy: 0.2294 - lr: 8.0000e-04\n",
      "Epoch 11/300\n",
      "310/310 [==============================] - 1s 2ms/step - loss: 0.6275 - accuracy: 0.6502 - val_loss: 0.8199 - val_accuracy: 0.3202 - lr: 8.0000e-04\n",
      "Epoch 12/300\n",
      "310/310 [==============================] - 1s 2ms/step - loss: 0.6242 - accuracy: 0.6450 - val_loss: 0.8285 - val_accuracy: 0.3214 - lr: 6.4000e-04\n",
      "Epoch 13/300\n",
      "310/310 [==============================] - 1s 2ms/step - loss: 0.6192 - accuracy: 0.6490 - val_loss: 0.8334 - val_accuracy: 0.3226 - lr: 6.4000e-04\n",
      "Epoch 14/300\n",
      "310/310 [==============================] - 1s 2ms/step - loss: 0.6176 - accuracy: 0.6544 - val_loss: 0.7727 - val_accuracy: 0.3960 - lr: 6.4000e-04\n",
      "Epoch 15/300\n",
      "310/310 [==============================] - 1s 2ms/step - loss: 0.6190 - accuracy: 0.6485 - val_loss: 0.8510 - val_accuracy: 0.3222 - lr: 6.4000e-04\n",
      "Epoch 16/300\n",
      "310/310 [==============================] - 1s 2ms/step - loss: 0.6175 - accuracy: 0.6522 - val_loss: 0.8476 - val_accuracy: 0.3202 - lr: 6.4000e-04\n",
      "Epoch 17/300\n",
      "310/310 [==============================] - 1s 2ms/step - loss: 0.6158 - accuracy: 0.6592 - val_loss: 0.8351 - val_accuracy: 0.3435 - lr: 6.4000e-04\n",
      "Epoch 18/300\n",
      "310/310 [==============================] - 1s 2ms/step - loss: 0.6085 - accuracy: 0.6625 - val_loss: 0.8022 - val_accuracy: 0.4105 - lr: 6.4000e-04\n",
      "Epoch 19/300\n",
      "310/310 [==============================] - 1s 2ms/step - loss: 0.6031 - accuracy: 0.6659 - val_loss: 0.7548 - val_accuracy: 0.4617 - lr: 5.1200e-04\n",
      "Epoch 20/300\n",
      "310/310 [==============================] - 1s 2ms/step - loss: 0.6052 - accuracy: 0.6673 - val_loss: 0.7881 - val_accuracy: 0.4190 - lr: 5.1200e-04\n",
      "Epoch 21/300\n",
      "310/310 [==============================] - 1s 2ms/step - loss: 0.5999 - accuracy: 0.6686 - val_loss: 0.8031 - val_accuracy: 0.4085 - lr: 5.1200e-04\n",
      "Epoch 22/300\n",
      "310/310 [==============================] - 1s 2ms/step - loss: 0.5975 - accuracy: 0.6766 - val_loss: 0.7339 - val_accuracy: 0.4956 - lr: 5.1200e-04\n",
      "Epoch 23/300\n",
      "310/310 [==============================] - 1s 2ms/step - loss: 0.6025 - accuracy: 0.6689 - val_loss: 0.7678 - val_accuracy: 0.4621 - lr: 5.1200e-04\n",
      "Epoch 24/300\n",
      "310/310 [==============================] - 1s 2ms/step - loss: 0.5938 - accuracy: 0.6739 - val_loss: 0.7359 - val_accuracy: 0.4988 - lr: 5.1200e-04\n",
      "Epoch 25/300\n",
      "310/310 [==============================] - 1s 2ms/step - loss: 0.5936 - accuracy: 0.6744 - val_loss: 0.7799 - val_accuracy: 0.4520 - lr: 5.1200e-04\n",
      "Epoch 26/300\n",
      "310/310 [==============================] - 1s 2ms/step - loss: 0.5939 - accuracy: 0.6761 - val_loss: 0.7460 - val_accuracy: 0.4867 - lr: 5.1200e-04\n",
      "Epoch 27/300\n",
      "310/310 [==============================] - 1s 2ms/step - loss: 0.5870 - accuracy: 0.6866 - val_loss: 0.7500 - val_accuracy: 0.4903 - lr: 4.0960e-04\n",
      "Epoch 28/300\n",
      "310/310 [==============================] - 1s 2ms/step - loss: 0.5873 - accuracy: 0.6859 - val_loss: 0.7569 - val_accuracy: 0.4839 - lr: 4.0960e-04\n",
      "Epoch 29/300\n",
      "310/310 [==============================] - 1s 2ms/step - loss: 0.5821 - accuracy: 0.6831 - val_loss: 0.7308 - val_accuracy: 0.5165 - lr: 4.0960e-04\n",
      "Epoch 30/300\n",
      "310/310 [==============================] - 1s 2ms/step - loss: 0.5805 - accuracy: 0.6865 - val_loss: 0.7643 - val_accuracy: 0.4778 - lr: 4.0960e-04\n",
      "Epoch 31/300\n",
      "310/310 [==============================] - 1s 2ms/step - loss: 0.5814 - accuracy: 0.6859 - val_loss: 0.7562 - val_accuracy: 0.4964 - lr: 4.0960e-04\n",
      "Epoch 32/300\n",
      "310/310 [==============================] - 1s 2ms/step - loss: 0.5771 - accuracy: 0.6922 - val_loss: 0.7128 - val_accuracy: 0.5552 - lr: 4.0960e-04\n",
      "Epoch 33/300\n",
      "310/310 [==============================] - 1s 2ms/step - loss: 0.5807 - accuracy: 0.6904 - val_loss: 0.6813 - val_accuracy: 0.5851 - lr: 4.0960e-04\n",
      "Epoch 34/300\n",
      "310/310 [==============================] - 1s 2ms/step - loss: 0.5755 - accuracy: 0.6935 - val_loss: 0.7545 - val_accuracy: 0.5169 - lr: 4.0960e-04\n",
      "Epoch 35/300\n",
      "310/310 [==============================] - 1s 2ms/step - loss: 0.5731 - accuracy: 0.6910 - val_loss: 0.6973 - val_accuracy: 0.5629 - lr: 4.0960e-04\n",
      "Epoch 36/300\n",
      "310/310 [==============================] - 1s 2ms/step - loss: 0.5750 - accuracy: 0.6922 - val_loss: 0.7436 - val_accuracy: 0.5218 - lr: 4.0960e-04\n",
      "Epoch 37/300\n",
      "310/310 [==============================] - 1s 2ms/step - loss: 0.5752 - accuracy: 0.6952 - val_loss: 0.7153 - val_accuracy: 0.5484 - lr: 4.0960e-04\n",
      "Epoch 38/300\n",
      "310/310 [==============================] - 1s 2ms/step - loss: 0.5699 - accuracy: 0.6969 - val_loss: 0.7114 - val_accuracy: 0.5383 - lr: 3.2768e-04\n",
      "Epoch 39/300\n",
      "310/310 [==============================] - 1s 2ms/step - loss: 0.5645 - accuracy: 0.7033 - val_loss: 0.7113 - val_accuracy: 0.5383 - lr: 3.2768e-04\n",
      "Epoch 40/300\n",
      "310/310 [==============================] - 1s 2ms/step - loss: 0.5604 - accuracy: 0.7115 - val_loss: 0.7113 - val_accuracy: 0.5565 - lr: 3.2768e-04\n",
      "Epoch 41/300\n",
      "310/310 [==============================] - 1s 2ms/step - loss: 0.5650 - accuracy: 0.7036 - val_loss: 0.7341 - val_accuracy: 0.5246 - lr: 3.2768e-04\n",
      "Epoch 42/300\n",
      "310/310 [==============================] - 1s 2ms/step - loss: 0.5599 - accuracy: 0.7057 - val_loss: 0.6743 - val_accuracy: 0.5923 - lr: 2.6214e-04\n",
      "Epoch 43/300\n",
      "310/310 [==============================] - 1s 2ms/step - loss: 0.5614 - accuracy: 0.7112 - val_loss: 0.6812 - val_accuracy: 0.5907 - lr: 2.6214e-04\n",
      "Epoch 44/300\n",
      "310/310 [==============================] - 1s 2ms/step - loss: 0.5614 - accuracy: 0.7110 - val_loss: 0.7076 - val_accuracy: 0.5544 - lr: 2.6214e-04\n",
      "Epoch 45/300\n",
      "310/310 [==============================] - 1s 2ms/step - loss: 0.5583 - accuracy: 0.7141 - val_loss: 0.7214 - val_accuracy: 0.5472 - lr: 2.6214e-04\n",
      "Epoch 46/300\n",
      "310/310 [==============================] - 1s 2ms/step - loss: 0.5572 - accuracy: 0.7094 - val_loss: 0.7474 - val_accuracy: 0.5153 - lr: 2.6214e-04\n",
      "Epoch 47/300\n",
      "310/310 [==============================] - 1s 2ms/step - loss: 0.5521 - accuracy: 0.7144 - val_loss: 0.6846 - val_accuracy: 0.5827 - lr: 2.0972e-04\n",
      "Epoch 48/300\n",
      "310/310 [==============================] - 1s 2ms/step - loss: 0.5507 - accuracy: 0.7167 - val_loss: 0.6776 - val_accuracy: 0.5867 - lr: 2.0972e-04\n",
      "Epoch 49/300\n",
      "310/310 [==============================] - 1s 2ms/step - loss: 0.5568 - accuracy: 0.7132 - val_loss: 0.6513 - val_accuracy: 0.6149 - lr: 2.0972e-04\n",
      "Epoch 50/300\n",
      "310/310 [==============================] - 1s 2ms/step - loss: 0.5494 - accuracy: 0.7150 - val_loss: 0.6683 - val_accuracy: 0.6008 - lr: 2.0972e-04\n",
      "Epoch 51/300\n",
      "310/310 [==============================] - 1s 2ms/step - loss: 0.5491 - accuracy: 0.7156 - val_loss: 0.6530 - val_accuracy: 0.6198 - lr: 2.0972e-04\n",
      "Epoch 52/300\n",
      "310/310 [==============================] - 1s 2ms/step - loss: 0.5494 - accuracy: 0.7142 - val_loss: 0.6999 - val_accuracy: 0.5742 - lr: 2.0972e-04\n",
      "Epoch 53/300\n",
      "310/310 [==============================] - 1s 2ms/step - loss: 0.5484 - accuracy: 0.7212 - val_loss: 0.6935 - val_accuracy: 0.5718 - lr: 2.0972e-04\n",
      "Epoch 54/300\n",
      "310/310 [==============================] - 1s 2ms/step - loss: 0.5527 - accuracy: 0.7094 - val_loss: 0.6670 - val_accuracy: 0.5980 - lr: 1.6777e-04\n",
      "Epoch 55/300\n",
      "310/310 [==============================] - 1s 2ms/step - loss: 0.5466 - accuracy: 0.7205 - val_loss: 0.6801 - val_accuracy: 0.5891 - lr: 1.6777e-04\n",
      "Epoch 56/300\n",
      "310/310 [==============================] - 1s 2ms/step - loss: 0.5488 - accuracy: 0.7172 - val_loss: 0.6582 - val_accuracy: 0.6073 - lr: 1.6777e-04\n",
      "Epoch 57/300\n",
      "310/310 [==============================] - 1s 2ms/step - loss: 0.5450 - accuracy: 0.7249 - val_loss: 0.6858 - val_accuracy: 0.5871 - lr: 1.6777e-04\n",
      "Epoch 58/300\n",
      "310/310 [==============================] - 1s 2ms/step - loss: 0.5406 - accuracy: 0.7276 - val_loss: 0.6658 - val_accuracy: 0.6032 - lr: 1.3422e-04\n",
      "Epoch 59/300\n",
      "310/310 [==============================] - 1s 2ms/step - loss: 0.5404 - accuracy: 0.7267 - val_loss: 0.6714 - val_accuracy: 0.5968 - lr: 1.3422e-04\n",
      "Epoch 60/300\n",
      "310/310 [==============================] - 1s 2ms/step - loss: 0.5387 - accuracy: 0.7261 - val_loss: 0.6661 - val_accuracy: 0.6036 - lr: 1.3422e-04\n",
      "Epoch 61/300\n",
      "310/310 [==============================] - 1s 2ms/step - loss: 0.5440 - accuracy: 0.7226 - val_loss: 0.6394 - val_accuracy: 0.6319 - lr: 1.3422e-04\n",
      "Epoch 62/300\n",
      "310/310 [==============================] - 1s 2ms/step - loss: 0.5423 - accuracy: 0.7230 - val_loss: 0.6713 - val_accuracy: 0.5927 - lr: 1.3422e-04\n",
      "Epoch 63/300\n",
      "310/310 [==============================] - 1s 2ms/step - loss: 0.5365 - accuracy: 0.7246 - val_loss: 0.6692 - val_accuracy: 0.6101 - lr: 1.3422e-04\n",
      "Epoch 64/300\n",
      "310/310 [==============================] - 1s 2ms/step - loss: 0.5389 - accuracy: 0.7241 - val_loss: 0.6610 - val_accuracy: 0.6133 - lr: 1.3422e-04\n",
      "Epoch 65/300\n",
      "310/310 [==============================] - 1s 2ms/step - loss: 0.5407 - accuracy: 0.7195 - val_loss: 0.6477 - val_accuracy: 0.6302 - lr: 1.3422e-04\n",
      "Epoch 66/300\n",
      "310/310 [==============================] - 1s 2ms/step - loss: 0.5400 - accuracy: 0.7266 - val_loss: 0.6359 - val_accuracy: 0.6419 - lr: 1.0737e-04\n",
      "Epoch 67/300\n",
      "310/310 [==============================] - 1s 2ms/step - loss: 0.5438 - accuracy: 0.7192 - val_loss: 0.6617 - val_accuracy: 0.6145 - lr: 1.0737e-04\n",
      "Epoch 68/300\n",
      "310/310 [==============================] - 1s 2ms/step - loss: 0.5377 - accuracy: 0.7258 - val_loss: 0.6508 - val_accuracy: 0.6210 - lr: 1.0737e-04\n",
      "Epoch 69/300\n",
      "310/310 [==============================] - 1s 2ms/step - loss: 0.5373 - accuracy: 0.7274 - val_loss: 0.6524 - val_accuracy: 0.6141 - lr: 1.0737e-04\n",
      "Epoch 70/300\n",
      "310/310 [==============================] - 1s 2ms/step - loss: 0.5386 - accuracy: 0.7214 - val_loss: 0.6467 - val_accuracy: 0.6294 - lr: 1.0737e-04\n",
      "Epoch 71/300\n",
      "310/310 [==============================] - 1s 2ms/step - loss: 0.5358 - accuracy: 0.7240 - val_loss: 0.6453 - val_accuracy: 0.6254 - lr: 8.5899e-05\n",
      "Epoch 72/300\n",
      "310/310 [==============================] - 1s 2ms/step - loss: 0.5320 - accuracy: 0.7276 - val_loss: 0.6506 - val_accuracy: 0.6250 - lr: 8.5899e-05\n",
      "Epoch 73/300\n",
      "310/310 [==============================] - 1s 2ms/step - loss: 0.5355 - accuracy: 0.7299 - val_loss: 0.6709 - val_accuracy: 0.6073 - lr: 8.5899e-05\n",
      "Epoch 74/300\n",
      "310/310 [==============================] - 1s 2ms/step - loss: 0.5271 - accuracy: 0.7375 - val_loss: 0.6567 - val_accuracy: 0.6153 - lr: 8.5899e-05\n",
      "Epoch 75/300\n",
      "310/310 [==============================] - 1s 2ms/step - loss: 0.5296 - accuracy: 0.7309 - val_loss: 0.6447 - val_accuracy: 0.6282 - lr: 6.8719e-05\n",
      "Epoch 76/300\n",
      "310/310 [==============================] - 1s 2ms/step - loss: 0.5323 - accuracy: 0.7281 - val_loss: 0.6380 - val_accuracy: 0.6351 - lr: 6.8719e-05\n",
      "Epoch 77/300\n",
      "310/310 [==============================] - 1s 2ms/step - loss: 0.5377 - accuracy: 0.7207 - val_loss: 0.6396 - val_accuracy: 0.6331 - lr: 6.8719e-05\n",
      "Epoch 78/300\n",
      "310/310 [==============================] - 1s 2ms/step - loss: 0.5320 - accuracy: 0.7273 - val_loss: 0.6307 - val_accuracy: 0.6407 - lr: 6.8719e-05\n",
      "Epoch 79/300\n",
      "310/310 [==============================] - 1s 2ms/step - loss: 0.5292 - accuracy: 0.7355 - val_loss: 0.6402 - val_accuracy: 0.6331 - lr: 6.8719e-05\n",
      "Epoch 80/300\n",
      "310/310 [==============================] - 1s 2ms/step - loss: 0.5343 - accuracy: 0.7287 - val_loss: 0.6420 - val_accuracy: 0.6323 - lr: 6.8719e-05\n",
      "Epoch 81/300\n",
      "310/310 [==============================] - 1s 2ms/step - loss: 0.5268 - accuracy: 0.7317 - val_loss: 0.6445 - val_accuracy: 0.6206 - lr: 6.8719e-05\n",
      "Epoch 82/300\n",
      "310/310 [==============================] - 1s 2ms/step - loss: 0.5306 - accuracy: 0.7320 - val_loss: 0.6467 - val_accuracy: 0.6298 - lr: 6.8719e-05\n",
      "Epoch 83/300\n",
      "310/310 [==============================] - 1s 2ms/step - loss: 0.5286 - accuracy: 0.7294 - val_loss: 0.6470 - val_accuracy: 0.6327 - lr: 5.4976e-05\n",
      "Epoch 84/300\n",
      "310/310 [==============================] - 1s 2ms/step - loss: 0.5258 - accuracy: 0.7326 - val_loss: 0.6393 - val_accuracy: 0.6359 - lr: 5.4976e-05\n",
      "Epoch 85/300\n",
      "310/310 [==============================] - 1s 2ms/step - loss: 0.5260 - accuracy: 0.7335 - val_loss: 0.6350 - val_accuracy: 0.6403 - lr: 5.4976e-05\n",
      "Epoch 86/300\n",
      "310/310 [==============================] - 1s 2ms/step - loss: 0.5259 - accuracy: 0.7362 - val_loss: 0.6330 - val_accuracy: 0.6403 - lr: 5.4976e-05\n",
      "Epoch 87/300\n",
      "310/310 [==============================] - 1s 2ms/step - loss: 0.5284 - accuracy: 0.7337 - val_loss: 0.6467 - val_accuracy: 0.6194 - lr: 4.3980e-05\n",
      "Epoch 88/300\n",
      "310/310 [==============================] - 1s 2ms/step - loss: 0.5288 - accuracy: 0.7347 - val_loss: 0.6389 - val_accuracy: 0.6319 - lr: 4.3980e-05\n",
      "Epoch 89/300\n",
      "310/310 [==============================] - 1s 2ms/step - loss: 0.5277 - accuracy: 0.7328 - val_loss: 0.6328 - val_accuracy: 0.6367 - lr: 4.3980e-05\n",
      "Epoch 90/300\n",
      "310/310 [==============================] - 1s 2ms/step - loss: 0.5296 - accuracy: 0.7321 - val_loss: 0.6444 - val_accuracy: 0.6298 - lr: 4.3980e-05\n",
      "Epoch 91/300\n",
      "310/310 [==============================] - 1s 2ms/step - loss: 0.5262 - accuracy: 0.7355 - val_loss: 0.6422 - val_accuracy: 0.6327 - lr: 3.5184e-05\n",
      "Epoch 92/300\n",
      "310/310 [==============================] - 1s 2ms/step - loss: 0.5238 - accuracy: 0.7393 - val_loss: 0.6330 - val_accuracy: 0.6371 - lr: 3.5184e-05\n",
      "Epoch 93/300\n",
      "310/310 [==============================] - 1s 2ms/step - loss: 0.5265 - accuracy: 0.7332 - val_loss: 0.6415 - val_accuracy: 0.6294 - lr: 3.5184e-05\n",
      "Epoch 94/300\n",
      "310/310 [==============================] - 1s 2ms/step - loss: 0.5266 - accuracy: 0.7301 - val_loss: 0.6343 - val_accuracy: 0.6387 - lr: 3.5184e-05\n",
      "Epoch 95/300\n",
      "310/310 [==============================] - 1s 2ms/step - loss: 0.5293 - accuracy: 0.7315 - val_loss: 0.6343 - val_accuracy: 0.6399 - lr: 2.8147e-05\n",
      "Epoch 96/300\n",
      "310/310 [==============================] - 1s 2ms/step - loss: 0.5276 - accuracy: 0.7317 - val_loss: 0.6275 - val_accuracy: 0.6431 - lr: 2.8147e-05\n",
      "Epoch 97/300\n",
      "310/310 [==============================] - 1s 2ms/step - loss: 0.5236 - accuracy: 0.7377 - val_loss: 0.6303 - val_accuracy: 0.6452 - lr: 2.8147e-05\n",
      "Epoch 98/300\n",
      "310/310 [==============================] - 1s 2ms/step - loss: 0.5258 - accuracy: 0.7347 - val_loss: 0.6344 - val_accuracy: 0.6427 - lr: 2.8147e-05\n",
      "Epoch 99/300\n",
      "310/310 [==============================] - 1s 2ms/step - loss: 0.5250 - accuracy: 0.7359 - val_loss: 0.6312 - val_accuracy: 0.6423 - lr: 2.8147e-05\n",
      "Epoch 100/300\n",
      "310/310 [==============================] - 1s 2ms/step - loss: 0.5310 - accuracy: 0.7308 - val_loss: 0.6334 - val_accuracy: 0.6383 - lr: 2.8147e-05\n",
      "Epoch 101/300\n",
      "310/310 [==============================] - 1s 2ms/step - loss: 0.5268 - accuracy: 0.7341 - val_loss: 0.6275 - val_accuracy: 0.6419 - lr: 2.2518e-05\n",
      "Epoch 102/300\n",
      "310/310 [==============================] - 1s 2ms/step - loss: 0.5254 - accuracy: 0.7371 - val_loss: 0.6327 - val_accuracy: 0.6343 - lr: 2.2518e-05\n",
      "Epoch 103/300\n",
      "310/310 [==============================] - 1s 2ms/step - loss: 0.5303 - accuracy: 0.7335 - val_loss: 0.6339 - val_accuracy: 0.6363 - lr: 2.2518e-05\n",
      "Epoch 104/300\n",
      "310/310 [==============================] - 1s 2ms/step - loss: 0.5287 - accuracy: 0.7318 - val_loss: 0.6258 - val_accuracy: 0.6468 - lr: 2.2518e-05\n",
      "Epoch 105/300\n",
      "310/310 [==============================] - 1s 2ms/step - loss: 0.5265 - accuracy: 0.7337 - val_loss: 0.6330 - val_accuracy: 0.6347 - lr: 2.2518e-05\n",
      "Epoch 106/300\n",
      "310/310 [==============================] - 1s 2ms/step - loss: 0.5269 - accuracy: 0.7359 - val_loss: 0.6331 - val_accuracy: 0.6407 - lr: 2.2518e-05\n",
      "Epoch 107/300\n",
      "310/310 [==============================] - 1s 2ms/step - loss: 0.5238 - accuracy: 0.7364 - val_loss: 0.6270 - val_accuracy: 0.6403 - lr: 2.2518e-05\n",
      "Epoch 108/300\n",
      "310/310 [==============================] - 1s 2ms/step - loss: 0.5205 - accuracy: 0.7395 - val_loss: 0.6343 - val_accuracy: 0.6359 - lr: 2.2518e-05\n",
      "Epoch 109/300\n",
      "310/310 [==============================] - 1s 2ms/step - loss: 0.5248 - accuracy: 0.7383 - val_loss: 0.6394 - val_accuracy: 0.6282 - lr: 1.8014e-05\n",
      "Epoch 110/300\n",
      "310/310 [==============================] - 1s 2ms/step - loss: 0.5275 - accuracy: 0.7368 - val_loss: 0.6273 - val_accuracy: 0.6431 - lr: 1.8014e-05\n",
      "Epoch 111/300\n",
      "310/310 [==============================] - 1s 2ms/step - loss: 0.5260 - accuracy: 0.7295 - val_loss: 0.6292 - val_accuracy: 0.6427 - lr: 1.8014e-05\n",
      "Epoch 112/300\n",
      "310/310 [==============================] - 1s 2ms/step - loss: 0.5258 - accuracy: 0.7336 - val_loss: 0.6279 - val_accuracy: 0.6427 - lr: 1.8014e-05\n",
      "Epoch 113/300\n",
      "310/310 [==============================] - 1s 2ms/step - loss: 0.5217 - accuracy: 0.7410 - val_loss: 0.6335 - val_accuracy: 0.6387 - lr: 1.4412e-05\n",
      "Epoch 114/300\n",
      "310/310 [==============================] - 1s 2ms/step - loss: 0.5262 - accuracy: 0.7358 - val_loss: 0.6312 - val_accuracy: 0.6427 - lr: 1.4412e-05\n",
      "Epoch 115/300\n",
      "310/310 [==============================] - 1s 2ms/step - loss: 0.5203 - accuracy: 0.7388 - val_loss: 0.6267 - val_accuracy: 0.6496 - lr: 1.4412e-05\n",
      "Epoch 116/300\n",
      "310/310 [==============================] - 1s 2ms/step - loss: 0.5290 - accuracy: 0.7334 - val_loss: 0.6271 - val_accuracy: 0.6444 - lr: 1.4412e-05\n",
      "Epoch 117/300\n",
      "310/310 [==============================] - 1s 2ms/step - loss: 0.5211 - accuracy: 0.7409 - val_loss: 0.6309 - val_accuracy: 0.6423 - lr: 1.1529e-05\n",
      "Epoch 118/300\n",
      "310/310 [==============================] - 1s 2ms/step - loss: 0.5291 - accuracy: 0.7313 - val_loss: 0.6308 - val_accuracy: 0.6452 - lr: 1.1529e-05\n",
      "Epoch 119/300\n",
      "310/310 [==============================] - 1s 2ms/step - loss: 0.5253 - accuracy: 0.7358 - val_loss: 0.6255 - val_accuracy: 0.6452 - lr: 1.1529e-05\n",
      "Epoch 120/300\n",
      "310/310 [==============================] - 1s 2ms/step - loss: 0.5236 - accuracy: 0.7381 - val_loss: 0.6275 - val_accuracy: 0.6472 - lr: 1.1529e-05\n",
      "Epoch 121/300\n",
      "310/310 [==============================] - 1s 2ms/step - loss: 0.5207 - accuracy: 0.7384 - val_loss: 0.6262 - val_accuracy: 0.6492 - lr: 1.1529e-05\n",
      "Epoch 122/300\n",
      "310/310 [==============================] - 1s 2ms/step - loss: 0.5241 - accuracy: 0.7360 - val_loss: 0.6309 - val_accuracy: 0.6407 - lr: 1.1529e-05\n",
      "Epoch 123/300\n",
      "310/310 [==============================] - 1s 2ms/step - loss: 0.5258 - accuracy: 0.7359 - val_loss: 0.6251 - val_accuracy: 0.6520 - lr: 1.1529e-05\n",
      "Epoch 124/300\n",
      "310/310 [==============================] - 1s 2ms/step - loss: 0.5267 - accuracy: 0.7374 - val_loss: 0.6269 - val_accuracy: 0.6488 - lr: 1.1529e-05\n",
      "Epoch 125/300\n",
      "310/310 [==============================] - 1s 2ms/step - loss: 0.5216 - accuracy: 0.7448 - val_loss: 0.6271 - val_accuracy: 0.6484 - lr: 1.1529e-05\n",
      "Epoch 126/300\n",
      "310/310 [==============================] - 1s 2ms/step - loss: 0.5214 - accuracy: 0.7423 - val_loss: 0.6284 - val_accuracy: 0.6440 - lr: 1.1529e-05\n",
      "Epoch 127/300\n",
      "310/310 [==============================] - 1s 2ms/step - loss: 0.5307 - accuracy: 0.7293 - val_loss: 0.6310 - val_accuracy: 0.6427 - lr: 1.1529e-05\n",
      "Epoch 128/300\n",
      "310/310 [==============================] - 1s 2ms/step - loss: 0.5215 - accuracy: 0.7412 - val_loss: 0.6297 - val_accuracy: 0.6472 - lr: 9.2234e-06\n",
      "Epoch 129/300\n",
      "310/310 [==============================] - 1s 2ms/step - loss: 0.5237 - accuracy: 0.7342 - val_loss: 0.6260 - val_accuracy: 0.6524 - lr: 9.2234e-06\n",
      "Epoch 130/300\n",
      "310/310 [==============================] - 1s 2ms/step - loss: 0.5217 - accuracy: 0.7362 - val_loss: 0.6283 - val_accuracy: 0.6468 - lr: 9.2234e-06\n",
      "Epoch 131/300\n",
      "310/310 [==============================] - 1s 2ms/step - loss: 0.5200 - accuracy: 0.7433 - val_loss: 0.6286 - val_accuracy: 0.6427 - lr: 9.2234e-06\n",
      "Epoch 132/300\n",
      "310/310 [==============================] - 1s 2ms/step - loss: 0.5194 - accuracy: 0.7374 - val_loss: 0.6235 - val_accuracy: 0.6540 - lr: 7.3787e-06\n",
      "Epoch 133/300\n",
      "310/310 [==============================] - 1s 2ms/step - loss: 0.5227 - accuracy: 0.7362 - val_loss: 0.6233 - val_accuracy: 0.6476 - lr: 7.3787e-06\n",
      "Epoch 134/300\n",
      "310/310 [==============================] - 1s 2ms/step - loss: 0.5244 - accuracy: 0.7330 - val_loss: 0.6248 - val_accuracy: 0.6512 - lr: 7.3787e-06\n",
      "Epoch 135/300\n",
      "310/310 [==============================] - 1s 2ms/step - loss: 0.5247 - accuracy: 0.7380 - val_loss: 0.6275 - val_accuracy: 0.6468 - lr: 7.3787e-06\n",
      "Epoch 136/300\n",
      "310/310 [==============================] - 1s 2ms/step - loss: 0.5212 - accuracy: 0.7391 - val_loss: 0.6243 - val_accuracy: 0.6472 - lr: 7.3787e-06\n",
      "Epoch 137/300\n",
      "310/310 [==============================] - 1s 2ms/step - loss: 0.5211 - accuracy: 0.7385 - val_loss: 0.6247 - val_accuracy: 0.6512 - lr: 7.3787e-06\n",
      "Epoch 138/300\n",
      "310/310 [==============================] - 1s 2ms/step - loss: 0.5189 - accuracy: 0.7365 - val_loss: 0.6264 - val_accuracy: 0.6480 - lr: 5.9030e-06\n",
      "Epoch 139/300\n",
      "310/310 [==============================] - 1s 2ms/step - loss: 0.5218 - accuracy: 0.7381 - val_loss: 0.6228 - val_accuracy: 0.6548 - lr: 5.9030e-06\n",
      "Epoch 140/300\n",
      "310/310 [==============================] - 1s 2ms/step - loss: 0.5284 - accuracy: 0.7294 - val_loss: 0.6272 - val_accuracy: 0.6488 - lr: 5.9030e-06\n",
      "Epoch 141/300\n",
      "310/310 [==============================] - 1s 2ms/step - loss: 0.5256 - accuracy: 0.7361 - val_loss: 0.6241 - val_accuracy: 0.6508 - lr: 5.9030e-06\n",
      "Epoch 142/300\n",
      "310/310 [==============================] - 1s 2ms/step - loss: 0.5212 - accuracy: 0.7354 - val_loss: 0.6263 - val_accuracy: 0.6480 - lr: 5.9030e-06\n",
      "Epoch 143/300\n",
      "310/310 [==============================] - 1s 2ms/step - loss: 0.5227 - accuracy: 0.7375 - val_loss: 0.6265 - val_accuracy: 0.6496 - lr: 5.9030e-06\n",
      "Epoch 144/300\n",
      "310/310 [==============================] - 1s 2ms/step - loss: 0.5179 - accuracy: 0.7410 - val_loss: 0.6247 - val_accuracy: 0.6500 - lr: 4.7224e-06\n",
      "Epoch 145/300\n",
      "310/310 [==============================] - 1s 2ms/step - loss: 0.5207 - accuracy: 0.7414 - val_loss: 0.6258 - val_accuracy: 0.6500 - lr: 4.7224e-06\n",
      "Epoch 146/300\n",
      "310/310 [==============================] - 1s 2ms/step - loss: 0.5177 - accuracy: 0.7363 - val_loss: 0.6222 - val_accuracy: 0.6520 - lr: 4.7224e-06\n",
      "Epoch 147/300\n",
      "310/310 [==============================] - 0s 2ms/step - loss: 0.5227 - accuracy: 0.7359 - val_loss: 0.6254 - val_accuracy: 0.6540 - lr: 4.7224e-06\n",
      "Epoch 148/300\n",
      "310/310 [==============================] - 0s 2ms/step - loss: 0.5177 - accuracy: 0.7394 - val_loss: 0.6269 - val_accuracy: 0.6472 - lr: 4.7224e-06\n",
      "Epoch 149/300\n",
      "310/310 [==============================] - 1s 2ms/step - loss: 0.5150 - accuracy: 0.7457 - val_loss: 0.6280 - val_accuracy: 0.6468 - lr: 4.7224e-06\n",
      "Epoch 150/300\n",
      "310/310 [==============================] - 0s 2ms/step - loss: 0.5242 - accuracy: 0.7403 - val_loss: 0.6255 - val_accuracy: 0.6480 - lr: 4.7224e-06\n",
      "Epoch 151/300\n",
      "310/310 [==============================] - 1s 2ms/step - loss: 0.5214 - accuracy: 0.7397 - val_loss: 0.6232 - val_accuracy: 0.6536 - lr: 3.7779e-06\n",
      "Epoch 152/300\n",
      "310/310 [==============================] - 1s 2ms/step - loss: 0.5238 - accuracy: 0.7368 - val_loss: 0.6264 - val_accuracy: 0.6472 - lr: 3.7779e-06\n",
      "Epoch 153/300\n",
      "310/310 [==============================] - 1s 2ms/step - loss: 0.5195 - accuracy: 0.7389 - val_loss: 0.6232 - val_accuracy: 0.6552 - lr: 3.7779e-06\n",
      "Epoch 154/300\n",
      "310/310 [==============================] - 1s 2ms/step - loss: 0.5203 - accuracy: 0.7351 - val_loss: 0.6273 - val_accuracy: 0.6512 - lr: 3.7779e-06\n",
      "Epoch 155/300\n",
      "310/310 [==============================] - 1s 2ms/step - loss: 0.5227 - accuracy: 0.7350 - val_loss: 0.6253 - val_accuracy: 0.6488 - lr: 3.0223e-06\n",
      "Epoch 156/300\n",
      "310/310 [==============================] - 1s 2ms/step - loss: 0.5209 - accuracy: 0.7363 - val_loss: 0.6239 - val_accuracy: 0.6520 - lr: 3.0223e-06\n",
      "Epoch 157/300\n",
      "310/310 [==============================] - 1s 2ms/step - loss: 0.5190 - accuracy: 0.7425 - val_loss: 0.6301 - val_accuracy: 0.6423 - lr: 3.0223e-06\n",
      "Epoch 158/300\n",
      "310/310 [==============================] - 1s 2ms/step - loss: 0.5217 - accuracy: 0.7383 - val_loss: 0.6297 - val_accuracy: 0.6440 - lr: 3.0223e-06\n",
      "Epoch 159/300\n",
      "310/310 [==============================] - 1s 2ms/step - loss: 0.5239 - accuracy: 0.7377 - val_loss: 0.6250 - val_accuracy: 0.6532 - lr: 2.4179e-06\n",
      "Epoch 160/300\n",
      "310/310 [==============================] - 1s 2ms/step - loss: 0.5222 - accuracy: 0.7347 - val_loss: 0.6219 - val_accuracy: 0.6548 - lr: 2.4179e-06\n",
      "Epoch 161/300\n",
      "310/310 [==============================] - 1s 2ms/step - loss: 0.5253 - accuracy: 0.7392 - val_loss: 0.6246 - val_accuracy: 0.6528 - lr: 2.4179e-06\n",
      "Epoch 162/300\n",
      "310/310 [==============================] - 1s 2ms/step - loss: 0.5283 - accuracy: 0.7264 - val_loss: 0.6262 - val_accuracy: 0.6504 - lr: 2.4179e-06\n",
      "Epoch 163/300\n",
      "310/310 [==============================] - 0s 2ms/step - loss: 0.5257 - accuracy: 0.7347 - val_loss: 0.6274 - val_accuracy: 0.6500 - lr: 2.4179e-06\n",
      "Epoch 164/300\n",
      "310/310 [==============================] - 1s 2ms/step - loss: 0.5267 - accuracy: 0.7290 - val_loss: 0.6273 - val_accuracy: 0.6468 - lr: 2.4179e-06\n",
      "Epoch 165/300\n",
      "310/310 [==============================] - 1s 2ms/step - loss: 0.5224 - accuracy: 0.7390 - val_loss: 0.6235 - val_accuracy: 0.6544 - lr: 1.9343e-06\n",
      "Epoch 166/300\n",
      "310/310 [==============================] - 1s 2ms/step - loss: 0.5205 - accuracy: 0.7383 - val_loss: 0.6255 - val_accuracy: 0.6488 - lr: 1.9343e-06\n",
      "Epoch 167/300\n",
      "310/310 [==============================] - 1s 2ms/step - loss: 0.5202 - accuracy: 0.7389 - val_loss: 0.6242 - val_accuracy: 0.6492 - lr: 1.9343e-06\n",
      "Epoch 168/300\n",
      "310/310 [==============================] - 1s 2ms/step - loss: 0.5220 - accuracy: 0.7395 - val_loss: 0.6244 - val_accuracy: 0.6532 - lr: 1.9343e-06\n",
      "Epoch 169/300\n",
      "310/310 [==============================] - 1s 2ms/step - loss: 0.5226 - accuracy: 0.7391 - val_loss: 0.6227 - val_accuracy: 0.6504 - lr: 1.5474e-06\n",
      "Epoch 170/300\n",
      "310/310 [==============================] - 1s 2ms/step - loss: 0.5224 - accuracy: 0.7366 - val_loss: 0.6224 - val_accuracy: 0.6520 - lr: 1.5474e-06\n",
      "Epoch 171/300\n",
      "310/310 [==============================] - 1s 2ms/step - loss: 0.5179 - accuracy: 0.7405 - val_loss: 0.6254 - val_accuracy: 0.6472 - lr: 1.5474e-06\n",
      "Epoch 172/300\n",
      "310/310 [==============================] - 1s 2ms/step - loss: 0.5242 - accuracy: 0.7340 - val_loss: 0.6250 - val_accuracy: 0.6460 - lr: 1.5474e-06\n",
      "Epoch 173/300\n",
      "310/310 [==============================] - 1s 2ms/step - loss: 0.5207 - accuracy: 0.7368 - val_loss: 0.6233 - val_accuracy: 0.6524 - lr: 1.2379e-06\n",
      "Epoch 174/300\n",
      "310/310 [==============================] - 1s 2ms/step - loss: 0.5208 - accuracy: 0.7356 - val_loss: 0.6219 - val_accuracy: 0.6520 - lr: 1.2379e-06\n",
      "Epoch 175/300\n",
      "310/310 [==============================] - 1s 2ms/step - loss: 0.5234 - accuracy: 0.7372 - val_loss: 0.6214 - val_accuracy: 0.6532 - lr: 1.2379e-06\n",
      "Epoch 176/300\n",
      "310/310 [==============================] - 1s 2ms/step - loss: 0.5220 - accuracy: 0.7391 - val_loss: 0.6231 - val_accuracy: 0.6468 - lr: 1.2379e-06\n",
      "Epoch 177/300\n",
      "310/310 [==============================] - 1s 2ms/step - loss: 0.5223 - accuracy: 0.7379 - val_loss: 0.6256 - val_accuracy: 0.6452 - lr: 1.2379e-06\n",
      "Epoch 178/300\n",
      "310/310 [==============================] - 1s 2ms/step - loss: 0.5165 - accuracy: 0.7409 - val_loss: 0.6274 - val_accuracy: 0.6472 - lr: 1.2379e-06\n",
      "Epoch 179/300\n",
      "310/310 [==============================] - 1s 2ms/step - loss: 0.5267 - accuracy: 0.7360 - val_loss: 0.6246 - val_accuracy: 0.6504 - lr: 1.2379e-06\n",
      "Epoch 180/300\n",
      "310/310 [==============================] - 1s 2ms/step - loss: 0.5183 - accuracy: 0.7405 - val_loss: 0.6239 - val_accuracy: 0.6484 - lr: 1.0000e-06\n",
      "Epoch 181/300\n",
      "310/310 [==============================] - 1s 2ms/step - loss: 0.5181 - accuracy: 0.7406 - val_loss: 0.6231 - val_accuracy: 0.6532 - lr: 1.0000e-06\n",
      "Epoch 182/300\n",
      "310/310 [==============================] - 1s 2ms/step - loss: 0.5221 - accuracy: 0.7357 - val_loss: 0.6213 - val_accuracy: 0.6560 - lr: 1.0000e-06\n",
      "Epoch 183/300\n",
      "310/310 [==============================] - 0s 2ms/step - loss: 0.5206 - accuracy: 0.7393 - val_loss: 0.6266 - val_accuracy: 0.6480 - lr: 1.0000e-06\n",
      "Epoch 184/300\n",
      "310/310 [==============================] - 1s 2ms/step - loss: 0.5215 - accuracy: 0.7394 - val_loss: 0.6236 - val_accuracy: 0.6540 - lr: 1.0000e-06\n",
      "Epoch 185/300\n",
      "310/310 [==============================] - 1s 2ms/step - loss: 0.5236 - accuracy: 0.7357 - val_loss: 0.6231 - val_accuracy: 0.6476 - lr: 1.0000e-06\n",
      "Epoch 186/300\n",
      "310/310 [==============================] - 1s 2ms/step - loss: 0.5165 - accuracy: 0.7461 - val_loss: 0.6245 - val_accuracy: 0.6448 - lr: 1.0000e-06\n",
      "Epoch 187/300\n",
      "310/310 [==============================] - 1s 2ms/step - loss: 0.5223 - accuracy: 0.7367 - val_loss: 0.6208 - val_accuracy: 0.6516 - lr: 1.0000e-06\n",
      "Epoch 188/300\n",
      "310/310 [==============================] - 1s 2ms/step - loss: 0.5201 - accuracy: 0.7407 - val_loss: 0.6225 - val_accuracy: 0.6504 - lr: 1.0000e-06\n",
      "Epoch 189/300\n",
      "310/310 [==============================] - 1s 2ms/step - loss: 0.5215 - accuracy: 0.7414 - val_loss: 0.6238 - val_accuracy: 0.6508 - lr: 1.0000e-06\n",
      "Epoch 190/300\n",
      "310/310 [==============================] - 1s 2ms/step - loss: 0.5216 - accuracy: 0.7422 - val_loss: 0.6228 - val_accuracy: 0.6456 - lr: 1.0000e-06\n",
      "Epoch 191/300\n",
      "310/310 [==============================] - 1s 2ms/step - loss: 0.5200 - accuracy: 0.7380 - val_loss: 0.6273 - val_accuracy: 0.6464 - lr: 1.0000e-06\n",
      "Epoch 192/300\n",
      "310/310 [==============================] - 1s 2ms/step - loss: 0.5203 - accuracy: 0.7395 - val_loss: 0.6261 - val_accuracy: 0.6456 - lr: 1.0000e-06\n",
      "Epoch 193/300\n",
      "310/310 [==============================] - 1s 2ms/step - loss: 0.5208 - accuracy: 0.7358 - val_loss: 0.6214 - val_accuracy: 0.6532 - lr: 1.0000e-06\n",
      "Epoch 194/300\n",
      "310/310 [==============================] - 1s 2ms/step - loss: 0.5282 - accuracy: 0.7325 - val_loss: 0.6223 - val_accuracy: 0.6520 - lr: 1.0000e-06\n",
      "Epoch 195/300\n",
      "310/310 [==============================] - 1s 2ms/step - loss: 0.5242 - accuracy: 0.7345 - val_loss: 0.6233 - val_accuracy: 0.6472 - lr: 1.0000e-06\n",
      "Epoch 196/300\n",
      "310/310 [==============================] - 1s 2ms/step - loss: 0.5198 - accuracy: 0.7405 - val_loss: 0.6246 - val_accuracy: 0.6476 - lr: 1.0000e-06\n",
      "Epoch 197/300\n",
      "310/310 [==============================] - 1s 2ms/step - loss: 0.5204 - accuracy: 0.7414 - val_loss: 0.6215 - val_accuracy: 0.6500 - lr: 1.0000e-06\n",
      "Epoch 198/300\n",
      "310/310 [==============================] - 1s 2ms/step - loss: 0.5246 - accuracy: 0.7339 - val_loss: 0.6173 - val_accuracy: 0.6504 - lr: 1.0000e-06\n",
      "Epoch 199/300\n",
      "310/310 [==============================] - 1s 2ms/step - loss: 0.5235 - accuracy: 0.7373 - val_loss: 0.6237 - val_accuracy: 0.6556 - lr: 1.0000e-06\n",
      "Epoch 200/300\n",
      "310/310 [==============================] - 1s 2ms/step - loss: 0.5248 - accuracy: 0.7386 - val_loss: 0.6234 - val_accuracy: 0.6472 - lr: 1.0000e-06\n",
      "Epoch 201/300\n",
      "310/310 [==============================] - 1s 2ms/step - loss: 0.5197 - accuracy: 0.7377 - val_loss: 0.6210 - val_accuracy: 0.6524 - lr: 1.0000e-06\n",
      "Epoch 202/300\n",
      "310/310 [==============================] - 1s 2ms/step - loss: 0.5214 - accuracy: 0.7410 - val_loss: 0.6253 - val_accuracy: 0.6476 - lr: 1.0000e-06\n",
      "Epoch 203/300\n",
      "310/310 [==============================] - 1s 2ms/step - loss: 0.5279 - accuracy: 0.7345 - val_loss: 0.6251 - val_accuracy: 0.6488 - lr: 1.0000e-06\n",
      "Epoch 204/300\n",
      "310/310 [==============================] - 1s 2ms/step - loss: 0.5234 - accuracy: 0.7361 - val_loss: 0.6254 - val_accuracy: 0.6488 - lr: 1.0000e-06\n",
      "Epoch 205/300\n",
      "310/310 [==============================] - 1s 2ms/step - loss: 0.5207 - accuracy: 0.7385 - val_loss: 0.6247 - val_accuracy: 0.6456 - lr: 1.0000e-06\n",
      "Epoch 206/300\n",
      "310/310 [==============================] - 1s 2ms/step - loss: 0.5274 - accuracy: 0.7326 - val_loss: 0.6253 - val_accuracy: 0.6524 - lr: 1.0000e-06\n",
      "Epoch 207/300\n",
      "310/310 [==============================] - 1s 2ms/step - loss: 0.5206 - accuracy: 0.7386 - val_loss: 0.6243 - val_accuracy: 0.6504 - lr: 1.0000e-06\n",
      "Epoch 208/300\n",
      "310/310 [==============================] - 1s 2ms/step - loss: 0.5217 - accuracy: 0.7373 - val_loss: 0.6237 - val_accuracy: 0.6524 - lr: 1.0000e-06\n",
      "Epoch 209/300\n",
      "310/310 [==============================] - 1s 2ms/step - loss: 0.5248 - accuracy: 0.7339 - val_loss: 0.6271 - val_accuracy: 0.6468 - lr: 1.0000e-06\n",
      "Epoch 210/300\n",
      "310/310 [==============================] - 1s 2ms/step - loss: 0.5248 - accuracy: 0.7373 - val_loss: 0.6226 - val_accuracy: 0.6536 - lr: 1.0000e-06\n",
      "Epoch 211/300\n",
      "310/310 [==============================] - 1s 2ms/step - loss: 0.5255 - accuracy: 0.7348 - val_loss: 0.6237 - val_accuracy: 0.6476 - lr: 1.0000e-06\n",
      "Epoch 212/300\n",
      "310/310 [==============================] - 1s 2ms/step - loss: 0.5178 - accuracy: 0.7405 - val_loss: 0.6263 - val_accuracy: 0.6528 - lr: 1.0000e-06\n",
      "Epoch 213/300\n",
      "310/310 [==============================] - 1s 2ms/step - loss: 0.5173 - accuracy: 0.7418 - val_loss: 0.6218 - val_accuracy: 0.6548 - lr: 1.0000e-06\n",
      "Epoch 214/300\n",
      "310/310 [==============================] - 1s 2ms/step - loss: 0.5243 - accuracy: 0.7389 - val_loss: 0.6244 - val_accuracy: 0.6496 - lr: 1.0000e-06\n",
      "Epoch 215/300\n",
      "310/310 [==============================] - 1s 2ms/step - loss: 0.5227 - accuracy: 0.7364 - val_loss: 0.6273 - val_accuracy: 0.6423 - lr: 1.0000e-06\n",
      "Epoch 216/300\n",
      "310/310 [==============================] - 1s 2ms/step - loss: 0.5208 - accuracy: 0.7422 - val_loss: 0.6247 - val_accuracy: 0.6464 - lr: 1.0000e-06\n",
      "Epoch 217/300\n",
      "310/310 [==============================] - 1s 2ms/step - loss: 0.5196 - accuracy: 0.7442 - val_loss: 0.6278 - val_accuracy: 0.6464 - lr: 1.0000e-06\n",
      "Epoch 218/300\n",
      "310/310 [==============================] - 1s 2ms/step - loss: 0.5259 - accuracy: 0.7369 - val_loss: 0.6239 - val_accuracy: 0.6516 - lr: 1.0000e-06\n",
      "Epoch 219/300\n",
      "310/310 [==============================] - 1s 2ms/step - loss: 0.5224 - accuracy: 0.7364 - val_loss: 0.6237 - val_accuracy: 0.6464 - lr: 1.0000e-06\n",
      "Epoch 220/300\n",
      "310/310 [==============================] - 1s 2ms/step - loss: 0.5247 - accuracy: 0.7358 - val_loss: 0.6257 - val_accuracy: 0.6476 - lr: 1.0000e-06\n",
      "Epoch 221/300\n",
      "310/310 [==============================] - 1s 2ms/step - loss: 0.5206 - accuracy: 0.7426 - val_loss: 0.6250 - val_accuracy: 0.6484 - lr: 1.0000e-06\n",
      "Epoch 222/300\n",
      "310/310 [==============================] - 1s 2ms/step - loss: 0.5190 - accuracy: 0.7439 - val_loss: 0.6242 - val_accuracy: 0.6484 - lr: 1.0000e-06\n",
      "Epoch 223/300\n",
      "310/310 [==============================] - 1s 2ms/step - loss: 0.5204 - accuracy: 0.7393 - val_loss: 0.6230 - val_accuracy: 0.6516 - lr: 1.0000e-06\n",
      "Epoch 224/300\n",
      "310/310 [==============================] - 1s 2ms/step - loss: 0.5206 - accuracy: 0.7398 - val_loss: 0.6264 - val_accuracy: 0.6484 - lr: 1.0000e-06\n",
      "Epoch 225/300\n",
      "310/310 [==============================] - 1s 2ms/step - loss: 0.5207 - accuracy: 0.7387 - val_loss: 0.6268 - val_accuracy: 0.6448 - lr: 1.0000e-06\n",
      "Epoch 226/300\n",
      "310/310 [==============================] - 1s 2ms/step - loss: 0.5268 - accuracy: 0.7318 - val_loss: 0.6279 - val_accuracy: 0.6468 - lr: 1.0000e-06\n",
      "Epoch 227/300\n",
      "310/310 [==============================] - 1s 2ms/step - loss: 0.5226 - accuracy: 0.7403 - val_loss: 0.6256 - val_accuracy: 0.6520 - lr: 1.0000e-06\n",
      "Epoch 228/300\n",
      "310/310 [==============================] - 1s 2ms/step - loss: 0.5201 - accuracy: 0.7360 - val_loss: 0.6218 - val_accuracy: 0.6524 - lr: 1.0000e-06\n",
      "Epoch 229/300\n",
      "310/310 [==============================] - 1s 2ms/step - loss: 0.5265 - accuracy: 0.7336 - val_loss: 0.6244 - val_accuracy: 0.6508 - lr: 1.0000e-06\n",
      "Epoch 230/300\n",
      "310/310 [==============================] - 1s 2ms/step - loss: 0.5219 - accuracy: 0.7382 - val_loss: 0.6248 - val_accuracy: 0.6528 - lr: 1.0000e-06\n",
      "Epoch 231/300\n",
      "310/310 [==============================] - 1s 2ms/step - loss: 0.5242 - accuracy: 0.7397 - val_loss: 0.6256 - val_accuracy: 0.6488 - lr: 1.0000e-06\n",
      "Epoch 232/300\n",
      "310/310 [==============================] - 1s 2ms/step - loss: 0.5229 - accuracy: 0.7356 - val_loss: 0.6248 - val_accuracy: 0.6476 - lr: 1.0000e-06\n",
      "Epoch 233/300\n",
      "306/310 [============================>.] - ETA: 0s - loss: 0.5208 - accuracy: 0.7388Restoring model weights from the end of the best epoch: 198.\n",
      "310/310 [==============================] - 1s 2ms/step - loss: 0.5210 - accuracy: 0.7388 - val_loss: 0.6231 - val_accuracy: 0.6532 - lr: 1.0000e-06\n",
      "Epoch 233: early stopping\n"
     ]
    }
   ],
   "source": [
    "def create_model():\n",
    "\n",
    "    input_layer = tf.keras.Input(shape=(len(train_x.columns), ))\n",
    "    x = tf.keras.layers.BatchNormalization(epsilon=0.00001)(input_layer)\n",
    "    x = tf.keras.layers.Dense(32, activation='relu')(x)\n",
    "    # tf.keras.layers.Dropout(0.1)\n",
    "    x = tf.keras.layers.BatchNormalization(epsilon=0.00001)(x)\n",
    "    x = tf.keras.layers.Dense(64, activation='relu')(x)\n",
    "    # tf.keras.layers.Dropout(0.1)\n",
    "    x = tf.keras.layers.BatchNormalization(epsilon=0.00001)(x)\n",
    "    x = tf.keras.layers.Dense(128, activation='relu')(x)\n",
    "    # tf.keras.layers.Dropout(0.2)\n",
    "    \n",
    "    # output_layer = tf.keras.layers.Dense(1)(x)\n",
    "    output_layer = tf.keras.layers.Dense(1, activation='sigmoid')(x)\n",
    "\n",
    "    model = tf.keras.Model(inputs=input_layer, outputs=output_layer)\n",
    "\n",
    "    model.compile(optimizer=tf.keras.optimizers.Adam(0.001),\n",
    "                  loss=binary_cross_entropy,\n",
    "                  metrics=['accuracy',f1_macro]\n",
    "                  )\n",
    "\n",
    "    return model\n",
    "\n",
    "model = create_model()\n",
    "history = model.fit(train_x.astype('float32'), train_y.astype('float32'),\n",
    "                    epochs=300,\n",
    "                    callbacks=callbacks_list,\n",
    "                    validation_split=0.2)"
   ],
   "metadata": {
    "collapsed": false,
    "ExecuteTime": {
     "end_time": "2023-12-01T07:41:51.787431800Z",
     "start_time": "2023-12-01T07:39:51.192065500Z"
    }
   },
   "id": "d70826e837c456c0"
  },
  {
   "cell_type": "code",
   "execution_count": 115,
   "outputs": [
    {
     "name": "stdout",
     "output_type": "stream",
     "text": [
      "Model: \"model_41\"\n",
      "_________________________________________________________________\n",
      " Layer (type)                Output Shape              Param #   \n",
      "=================================================================\n",
      " input_42 (InputLayer)       [(None, 20)]              0         \n",
      "                                                                 \n",
      " batch_normalization_79 (Ba  (None, 20)                80        \n",
      " tchNormalization)                                               \n",
      "                                                                 \n",
      " dense_160 (Dense)           (None, 32)                672       \n",
      "                                                                 \n",
      " batch_normalization_80 (Ba  (None, 32)                128       \n",
      " tchNormalization)                                               \n",
      "                                                                 \n",
      " dense_161 (Dense)           (None, 64)                2112      \n",
      "                                                                 \n",
      " dense_162 (Dense)           (None, 128)               8320      \n",
      "                                                                 \n",
      " dense_163 (Dense)           (None, 1)                 129       \n",
      "                                                                 \n",
      "=================================================================\n",
      "Total params: 11441 (44.69 KB)\n",
      "Trainable params: 11337 (44.29 KB)\n",
      "Non-trainable params: 104 (416.00 Byte)\n",
      "_________________________________________________________________\n"
     ]
    }
   ],
   "source": [
    "model.summary()"
   ],
   "metadata": {
    "collapsed": false,
    "ExecuteTime": {
     "end_time": "2023-12-01T07:00:50.312852800Z",
     "start_time": "2023-12-01T07:00:50.285229800Z"
    }
   },
   "id": "b78ecc5ab67ac2ee"
  },
  {
   "cell_type": "code",
   "execution_count": 134,
   "outputs": [
    {
     "name": "stdout",
     "output_type": "stream",
     "text": [
      "313/313 [==============================] - 0s 901us/step\n"
     ]
    }
   ],
   "source": [
    "# 3405\n",
    "sample_submission = pd.read_csv('../data/sample_submission.csv')\n",
    "predictions = model.predict(test_x.astype('float32'))\n",
    "binary_predictions = (predictions >= 0.5).astype(int)\n",
    "sample_submission[\"target\"] = binary_predictions\n",
    "sample_submission.to_csv(\"../submission_data/9(64layer추가후매우낮아짐).csv\", index=False)"
   ],
   "metadata": {
    "collapsed": false,
    "ExecuteTime": {
     "end_time": "2023-12-01T07:25:50.188400600Z",
     "start_time": "2023-12-01T07:25:49.620539800Z"
    }
   },
   "id": "c7284c4f599efa2f"
  },
  {
   "cell_type": "code",
   "execution_count": 119,
   "outputs": [
    {
     "name": "stdout",
     "output_type": "stream",
     "text": [
      "Epoch 1/100\n",
      "310/310 [==============================] - 2s 2ms/step - loss: 0.6628 - accuracy: 0.6157 - f1_macro: 0.7554 - val_loss: 0.8934 - val_accuracy: 0.0234 - val_f1_macro: 0.0281 - lr: 0.0010\n",
      "Epoch 2/100\n",
      "220/310 [====================>.........] - ETA: 0s - loss: 0.6544 - accuracy: 0.6186 - f1_macro: 0.7603"
     ]
    },
    {
     "ename": "KeyboardInterrupt",
     "evalue": "",
     "output_type": "error",
     "traceback": [
      "\u001B[1;31m---------------------------------------------------------------------------\u001B[0m",
      "\u001B[1;31mKeyboardInterrupt\u001B[0m                         Traceback (most recent call last)",
      "Cell \u001B[1;32mIn[119], line 26\u001B[0m\n\u001B[0;32m     23\u001B[0m     \u001B[38;5;28;01mreturn\u001B[39;00m model\n\u001B[0;32m     25\u001B[0m model \u001B[38;5;241m=\u001B[39m create_model()\n\u001B[1;32m---> 26\u001B[0m history \u001B[38;5;241m=\u001B[39m \u001B[43mmodel\u001B[49m\u001B[38;5;241;43m.\u001B[39;49m\u001B[43mfit\u001B[49m\u001B[43m(\u001B[49m\u001B[43mtrain_x\u001B[49m\u001B[38;5;241;43m.\u001B[39;49m\u001B[43mastype\u001B[49m\u001B[43m(\u001B[49m\u001B[38;5;124;43m'\u001B[39;49m\u001B[38;5;124;43mfloat32\u001B[39;49m\u001B[38;5;124;43m'\u001B[39;49m\u001B[43m)\u001B[49m\u001B[43m,\u001B[49m\u001B[43m \u001B[49m\u001B[43mtrain_y\u001B[49m\u001B[38;5;241;43m.\u001B[39;49m\u001B[43mastype\u001B[49m\u001B[43m(\u001B[49m\u001B[38;5;124;43m'\u001B[39;49m\u001B[38;5;124;43mfloat32\u001B[39;49m\u001B[38;5;124;43m'\u001B[39;49m\u001B[43m)\u001B[49m\u001B[43m,\u001B[49m\n\u001B[0;32m     27\u001B[0m \u001B[43m                    \u001B[49m\u001B[43mepochs\u001B[49m\u001B[38;5;241;43m=\u001B[39;49m\u001B[38;5;241;43m100\u001B[39;49m\u001B[43m,\u001B[49m\n\u001B[0;32m     28\u001B[0m \u001B[43m                    \u001B[49m\u001B[43mcallbacks\u001B[49m\u001B[38;5;241;43m=\u001B[39;49m\u001B[43mcallbacks_list\u001B[49m\u001B[43m,\u001B[49m\n\u001B[0;32m     29\u001B[0m \u001B[43m                    \u001B[49m\u001B[43mvalidation_split\u001B[49m\u001B[38;5;241;43m=\u001B[39;49m\u001B[38;5;241;43m0.2\u001B[39;49m\u001B[43m)\u001B[49m\n",
      "File \u001B[1;32m~\\anaconda3\\envs\\study\\Lib\\site-packages\\keras\\src\\utils\\traceback_utils.py:65\u001B[0m, in \u001B[0;36mfilter_traceback.<locals>.error_handler\u001B[1;34m(*args, **kwargs)\u001B[0m\n\u001B[0;32m     63\u001B[0m filtered_tb \u001B[38;5;241m=\u001B[39m \u001B[38;5;28;01mNone\u001B[39;00m\n\u001B[0;32m     64\u001B[0m \u001B[38;5;28;01mtry\u001B[39;00m:\n\u001B[1;32m---> 65\u001B[0m     \u001B[38;5;28;01mreturn\u001B[39;00m \u001B[43mfn\u001B[49m\u001B[43m(\u001B[49m\u001B[38;5;241;43m*\u001B[39;49m\u001B[43margs\u001B[49m\u001B[43m,\u001B[49m\u001B[43m \u001B[49m\u001B[38;5;241;43m*\u001B[39;49m\u001B[38;5;241;43m*\u001B[39;49m\u001B[43mkwargs\u001B[49m\u001B[43m)\u001B[49m\n\u001B[0;32m     66\u001B[0m \u001B[38;5;28;01mexcept\u001B[39;00m \u001B[38;5;167;01mException\u001B[39;00m \u001B[38;5;28;01mas\u001B[39;00m e:\n\u001B[0;32m     67\u001B[0m     filtered_tb \u001B[38;5;241m=\u001B[39m _process_traceback_frames(e\u001B[38;5;241m.\u001B[39m__traceback__)\n",
      "File \u001B[1;32m~\\anaconda3\\envs\\study\\Lib\\site-packages\\keras\\src\\engine\\training.py:1807\u001B[0m, in \u001B[0;36mModel.fit\u001B[1;34m(self, x, y, batch_size, epochs, verbose, callbacks, validation_split, validation_data, shuffle, class_weight, sample_weight, initial_epoch, steps_per_epoch, validation_steps, validation_batch_size, validation_freq, max_queue_size, workers, use_multiprocessing)\u001B[0m\n\u001B[0;32m   1799\u001B[0m \u001B[38;5;28;01mwith\u001B[39;00m tf\u001B[38;5;241m.\u001B[39mprofiler\u001B[38;5;241m.\u001B[39mexperimental\u001B[38;5;241m.\u001B[39mTrace(\n\u001B[0;32m   1800\u001B[0m     \u001B[38;5;124m\"\u001B[39m\u001B[38;5;124mtrain\u001B[39m\u001B[38;5;124m\"\u001B[39m,\n\u001B[0;32m   1801\u001B[0m     epoch_num\u001B[38;5;241m=\u001B[39mepoch,\n\u001B[1;32m   (...)\u001B[0m\n\u001B[0;32m   1804\u001B[0m     _r\u001B[38;5;241m=\u001B[39m\u001B[38;5;241m1\u001B[39m,\n\u001B[0;32m   1805\u001B[0m ):\n\u001B[0;32m   1806\u001B[0m     callbacks\u001B[38;5;241m.\u001B[39mon_train_batch_begin(step)\n\u001B[1;32m-> 1807\u001B[0m     tmp_logs \u001B[38;5;241m=\u001B[39m \u001B[38;5;28;43mself\u001B[39;49m\u001B[38;5;241;43m.\u001B[39;49m\u001B[43mtrain_function\u001B[49m\u001B[43m(\u001B[49m\u001B[43miterator\u001B[49m\u001B[43m)\u001B[49m\n\u001B[0;32m   1808\u001B[0m     \u001B[38;5;28;01mif\u001B[39;00m data_handler\u001B[38;5;241m.\u001B[39mshould_sync:\n\u001B[0;32m   1809\u001B[0m         context\u001B[38;5;241m.\u001B[39masync_wait()\n",
      "File \u001B[1;32m~\\anaconda3\\envs\\study\\Lib\\site-packages\\tensorflow\\python\\util\\traceback_utils.py:150\u001B[0m, in \u001B[0;36mfilter_traceback.<locals>.error_handler\u001B[1;34m(*args, **kwargs)\u001B[0m\n\u001B[0;32m    148\u001B[0m filtered_tb \u001B[38;5;241m=\u001B[39m \u001B[38;5;28;01mNone\u001B[39;00m\n\u001B[0;32m    149\u001B[0m \u001B[38;5;28;01mtry\u001B[39;00m:\n\u001B[1;32m--> 150\u001B[0m   \u001B[38;5;28;01mreturn\u001B[39;00m \u001B[43mfn\u001B[49m\u001B[43m(\u001B[49m\u001B[38;5;241;43m*\u001B[39;49m\u001B[43margs\u001B[49m\u001B[43m,\u001B[49m\u001B[43m \u001B[49m\u001B[38;5;241;43m*\u001B[39;49m\u001B[38;5;241;43m*\u001B[39;49m\u001B[43mkwargs\u001B[49m\u001B[43m)\u001B[49m\n\u001B[0;32m    151\u001B[0m \u001B[38;5;28;01mexcept\u001B[39;00m \u001B[38;5;167;01mException\u001B[39;00m \u001B[38;5;28;01mas\u001B[39;00m e:\n\u001B[0;32m    152\u001B[0m   filtered_tb \u001B[38;5;241m=\u001B[39m _process_traceback_frames(e\u001B[38;5;241m.\u001B[39m__traceback__)\n",
      "File \u001B[1;32m~\\anaconda3\\envs\\study\\Lib\\site-packages\\tensorflow\\python\\eager\\polymorphic_function\\polymorphic_function.py:832\u001B[0m, in \u001B[0;36mFunction.__call__\u001B[1;34m(self, *args, **kwds)\u001B[0m\n\u001B[0;32m    829\u001B[0m compiler \u001B[38;5;241m=\u001B[39m \u001B[38;5;124m\"\u001B[39m\u001B[38;5;124mxla\u001B[39m\u001B[38;5;124m\"\u001B[39m \u001B[38;5;28;01mif\u001B[39;00m \u001B[38;5;28mself\u001B[39m\u001B[38;5;241m.\u001B[39m_jit_compile \u001B[38;5;28;01melse\u001B[39;00m \u001B[38;5;124m\"\u001B[39m\u001B[38;5;124mnonXla\u001B[39m\u001B[38;5;124m\"\u001B[39m\n\u001B[0;32m    831\u001B[0m \u001B[38;5;28;01mwith\u001B[39;00m OptionalXlaContext(\u001B[38;5;28mself\u001B[39m\u001B[38;5;241m.\u001B[39m_jit_compile):\n\u001B[1;32m--> 832\u001B[0m   result \u001B[38;5;241m=\u001B[39m \u001B[38;5;28;43mself\u001B[39;49m\u001B[38;5;241;43m.\u001B[39;49m\u001B[43m_call\u001B[49m\u001B[43m(\u001B[49m\u001B[38;5;241;43m*\u001B[39;49m\u001B[43margs\u001B[49m\u001B[43m,\u001B[49m\u001B[43m \u001B[49m\u001B[38;5;241;43m*\u001B[39;49m\u001B[38;5;241;43m*\u001B[39;49m\u001B[43mkwds\u001B[49m\u001B[43m)\u001B[49m\n\u001B[0;32m    834\u001B[0m new_tracing_count \u001B[38;5;241m=\u001B[39m \u001B[38;5;28mself\u001B[39m\u001B[38;5;241m.\u001B[39mexperimental_get_tracing_count()\n\u001B[0;32m    835\u001B[0m without_tracing \u001B[38;5;241m=\u001B[39m (tracing_count \u001B[38;5;241m==\u001B[39m new_tracing_count)\n",
      "File \u001B[1;32m~\\anaconda3\\envs\\study\\Lib\\site-packages\\tensorflow\\python\\eager\\polymorphic_function\\polymorphic_function.py:868\u001B[0m, in \u001B[0;36mFunction._call\u001B[1;34m(self, *args, **kwds)\u001B[0m\n\u001B[0;32m    865\u001B[0m   \u001B[38;5;28mself\u001B[39m\u001B[38;5;241m.\u001B[39m_lock\u001B[38;5;241m.\u001B[39mrelease()\n\u001B[0;32m    866\u001B[0m   \u001B[38;5;66;03m# In this case we have created variables on the first call, so we run the\u001B[39;00m\n\u001B[0;32m    867\u001B[0m   \u001B[38;5;66;03m# defunned version which is guaranteed to never create variables.\u001B[39;00m\n\u001B[1;32m--> 868\u001B[0m   \u001B[38;5;28;01mreturn\u001B[39;00m \u001B[43mtracing_compilation\u001B[49m\u001B[38;5;241;43m.\u001B[39;49m\u001B[43mcall_function\u001B[49m\u001B[43m(\u001B[49m\n\u001B[0;32m    869\u001B[0m \u001B[43m      \u001B[49m\u001B[43margs\u001B[49m\u001B[43m,\u001B[49m\u001B[43m \u001B[49m\u001B[43mkwds\u001B[49m\u001B[43m,\u001B[49m\u001B[43m \u001B[49m\u001B[38;5;28;43mself\u001B[39;49m\u001B[38;5;241;43m.\u001B[39;49m\u001B[43m_no_variable_creation_config\u001B[49m\n\u001B[0;32m    870\u001B[0m \u001B[43m  \u001B[49m\u001B[43m)\u001B[49m\n\u001B[0;32m    871\u001B[0m \u001B[38;5;28;01melif\u001B[39;00m \u001B[38;5;28mself\u001B[39m\u001B[38;5;241m.\u001B[39m_variable_creation_config \u001B[38;5;129;01mis\u001B[39;00m \u001B[38;5;129;01mnot\u001B[39;00m \u001B[38;5;28;01mNone\u001B[39;00m:\n\u001B[0;32m    872\u001B[0m   \u001B[38;5;66;03m# Release the lock early so that multiple threads can perform the call\u001B[39;00m\n\u001B[0;32m    873\u001B[0m   \u001B[38;5;66;03m# in parallel.\u001B[39;00m\n\u001B[0;32m    874\u001B[0m   \u001B[38;5;28mself\u001B[39m\u001B[38;5;241m.\u001B[39m_lock\u001B[38;5;241m.\u001B[39mrelease()\n",
      "File \u001B[1;32m~\\anaconda3\\envs\\study\\Lib\\site-packages\\tensorflow\\python\\eager\\polymorphic_function\\tracing_compilation.py:139\u001B[0m, in \u001B[0;36mcall_function\u001B[1;34m(args, kwargs, tracing_options)\u001B[0m\n\u001B[0;32m    137\u001B[0m bound_args \u001B[38;5;241m=\u001B[39m function\u001B[38;5;241m.\u001B[39mfunction_type\u001B[38;5;241m.\u001B[39mbind(\u001B[38;5;241m*\u001B[39margs, \u001B[38;5;241m*\u001B[39m\u001B[38;5;241m*\u001B[39mkwargs)\n\u001B[0;32m    138\u001B[0m flat_inputs \u001B[38;5;241m=\u001B[39m function\u001B[38;5;241m.\u001B[39mfunction_type\u001B[38;5;241m.\u001B[39munpack_inputs(bound_args)\n\u001B[1;32m--> 139\u001B[0m \u001B[38;5;28;01mreturn\u001B[39;00m \u001B[43mfunction\u001B[49m\u001B[38;5;241;43m.\u001B[39;49m\u001B[43m_call_flat\u001B[49m\u001B[43m(\u001B[49m\u001B[43m  \u001B[49m\u001B[38;5;66;43;03m# pylint: disable=protected-access\u001B[39;49;00m\n\u001B[0;32m    140\u001B[0m \u001B[43m    \u001B[49m\u001B[43mflat_inputs\u001B[49m\u001B[43m,\u001B[49m\u001B[43m \u001B[49m\u001B[43mcaptured_inputs\u001B[49m\u001B[38;5;241;43m=\u001B[39;49m\u001B[43mfunction\u001B[49m\u001B[38;5;241;43m.\u001B[39;49m\u001B[43mcaptured_inputs\u001B[49m\n\u001B[0;32m    141\u001B[0m \u001B[43m\u001B[49m\u001B[43m)\u001B[49m\n",
      "File \u001B[1;32m~\\anaconda3\\envs\\study\\Lib\\site-packages\\tensorflow\\python\\eager\\polymorphic_function\\concrete_function.py:1323\u001B[0m, in \u001B[0;36mConcreteFunction._call_flat\u001B[1;34m(self, tensor_inputs, captured_inputs)\u001B[0m\n\u001B[0;32m   1319\u001B[0m possible_gradient_type \u001B[38;5;241m=\u001B[39m gradients_util\u001B[38;5;241m.\u001B[39mPossibleTapeGradientTypes(args)\n\u001B[0;32m   1320\u001B[0m \u001B[38;5;28;01mif\u001B[39;00m (possible_gradient_type \u001B[38;5;241m==\u001B[39m gradients_util\u001B[38;5;241m.\u001B[39mPOSSIBLE_GRADIENT_TYPES_NONE\n\u001B[0;32m   1321\u001B[0m     \u001B[38;5;129;01mand\u001B[39;00m executing_eagerly):\n\u001B[0;32m   1322\u001B[0m   \u001B[38;5;66;03m# No tape is watching; skip to running the function.\u001B[39;00m\n\u001B[1;32m-> 1323\u001B[0m   \u001B[38;5;28;01mreturn\u001B[39;00m \u001B[38;5;28;43mself\u001B[39;49m\u001B[38;5;241;43m.\u001B[39;49m\u001B[43m_inference_function\u001B[49m\u001B[38;5;241;43m.\u001B[39;49m\u001B[43mcall_preflattened\u001B[49m\u001B[43m(\u001B[49m\u001B[43margs\u001B[49m\u001B[43m)\u001B[49m\n\u001B[0;32m   1324\u001B[0m forward_backward \u001B[38;5;241m=\u001B[39m \u001B[38;5;28mself\u001B[39m\u001B[38;5;241m.\u001B[39m_select_forward_and_backward_functions(\n\u001B[0;32m   1325\u001B[0m     args,\n\u001B[0;32m   1326\u001B[0m     possible_gradient_type,\n\u001B[0;32m   1327\u001B[0m     executing_eagerly)\n\u001B[0;32m   1328\u001B[0m forward_function, args_with_tangents \u001B[38;5;241m=\u001B[39m forward_backward\u001B[38;5;241m.\u001B[39mforward()\n",
      "File \u001B[1;32m~\\anaconda3\\envs\\study\\Lib\\site-packages\\tensorflow\\python\\eager\\polymorphic_function\\atomic_function.py:216\u001B[0m, in \u001B[0;36mAtomicFunction.call_preflattened\u001B[1;34m(self, args)\u001B[0m\n\u001B[0;32m    214\u001B[0m \u001B[38;5;28;01mdef\u001B[39;00m \u001B[38;5;21mcall_preflattened\u001B[39m(\u001B[38;5;28mself\u001B[39m, args: Sequence[core\u001B[38;5;241m.\u001B[39mTensor]) \u001B[38;5;241m-\u001B[39m\u001B[38;5;241m>\u001B[39m Any:\n\u001B[0;32m    215\u001B[0m \u001B[38;5;250m  \u001B[39m\u001B[38;5;124;03m\"\"\"Calls with flattened tensor inputs and returns the structured output.\"\"\"\u001B[39;00m\n\u001B[1;32m--> 216\u001B[0m   flat_outputs \u001B[38;5;241m=\u001B[39m \u001B[38;5;28;43mself\u001B[39;49m\u001B[38;5;241;43m.\u001B[39;49m\u001B[43mcall_flat\u001B[49m\u001B[43m(\u001B[49m\u001B[38;5;241;43m*\u001B[39;49m\u001B[43margs\u001B[49m\u001B[43m)\u001B[49m\n\u001B[0;32m    217\u001B[0m   \u001B[38;5;28;01mreturn\u001B[39;00m \u001B[38;5;28mself\u001B[39m\u001B[38;5;241m.\u001B[39mfunction_type\u001B[38;5;241m.\u001B[39mpack_output(flat_outputs)\n",
      "File \u001B[1;32m~\\anaconda3\\envs\\study\\Lib\\site-packages\\tensorflow\\python\\eager\\polymorphic_function\\atomic_function.py:251\u001B[0m, in \u001B[0;36mAtomicFunction.call_flat\u001B[1;34m(self, *args)\u001B[0m\n\u001B[0;32m    249\u001B[0m \u001B[38;5;28;01mwith\u001B[39;00m record\u001B[38;5;241m.\u001B[39mstop_recording():\n\u001B[0;32m    250\u001B[0m   \u001B[38;5;28;01mif\u001B[39;00m \u001B[38;5;28mself\u001B[39m\u001B[38;5;241m.\u001B[39m_bound_context\u001B[38;5;241m.\u001B[39mexecuting_eagerly():\n\u001B[1;32m--> 251\u001B[0m     outputs \u001B[38;5;241m=\u001B[39m \u001B[38;5;28;43mself\u001B[39;49m\u001B[38;5;241;43m.\u001B[39;49m\u001B[43m_bound_context\u001B[49m\u001B[38;5;241;43m.\u001B[39;49m\u001B[43mcall_function\u001B[49m\u001B[43m(\u001B[49m\n\u001B[0;32m    252\u001B[0m \u001B[43m        \u001B[49m\u001B[38;5;28;43mself\u001B[39;49m\u001B[38;5;241;43m.\u001B[39;49m\u001B[43mname\u001B[49m\u001B[43m,\u001B[49m\n\u001B[0;32m    253\u001B[0m \u001B[43m        \u001B[49m\u001B[38;5;28;43mlist\u001B[39;49m\u001B[43m(\u001B[49m\u001B[43margs\u001B[49m\u001B[43m)\u001B[49m\u001B[43m,\u001B[49m\n\u001B[0;32m    254\u001B[0m \u001B[43m        \u001B[49m\u001B[38;5;28;43mlen\u001B[39;49m\u001B[43m(\u001B[49m\u001B[38;5;28;43mself\u001B[39;49m\u001B[38;5;241;43m.\u001B[39;49m\u001B[43mfunction_type\u001B[49m\u001B[38;5;241;43m.\u001B[39;49m\u001B[43mflat_outputs\u001B[49m\u001B[43m)\u001B[49m\u001B[43m,\u001B[49m\n\u001B[0;32m    255\u001B[0m \u001B[43m    \u001B[49m\u001B[43m)\u001B[49m\n\u001B[0;32m    256\u001B[0m   \u001B[38;5;28;01melse\u001B[39;00m:\n\u001B[0;32m    257\u001B[0m     outputs \u001B[38;5;241m=\u001B[39m make_call_op_in_graph(\n\u001B[0;32m    258\u001B[0m         \u001B[38;5;28mself\u001B[39m,\n\u001B[0;32m    259\u001B[0m         \u001B[38;5;28mlist\u001B[39m(args),\n\u001B[0;32m    260\u001B[0m         \u001B[38;5;28mself\u001B[39m\u001B[38;5;241m.\u001B[39m_bound_context\u001B[38;5;241m.\u001B[39mfunction_call_options\u001B[38;5;241m.\u001B[39mas_attrs(),\n\u001B[0;32m    261\u001B[0m     )\n",
      "File \u001B[1;32m~\\anaconda3\\envs\\study\\Lib\\site-packages\\tensorflow\\python\\eager\\context.py:1486\u001B[0m, in \u001B[0;36mContext.call_function\u001B[1;34m(self, name, tensor_inputs, num_outputs)\u001B[0m\n\u001B[0;32m   1484\u001B[0m cancellation_context \u001B[38;5;241m=\u001B[39m cancellation\u001B[38;5;241m.\u001B[39mcontext()\n\u001B[0;32m   1485\u001B[0m \u001B[38;5;28;01mif\u001B[39;00m cancellation_context \u001B[38;5;129;01mis\u001B[39;00m \u001B[38;5;28;01mNone\u001B[39;00m:\n\u001B[1;32m-> 1486\u001B[0m   outputs \u001B[38;5;241m=\u001B[39m \u001B[43mexecute\u001B[49m\u001B[38;5;241;43m.\u001B[39;49m\u001B[43mexecute\u001B[49m\u001B[43m(\u001B[49m\n\u001B[0;32m   1487\u001B[0m \u001B[43m      \u001B[49m\u001B[43mname\u001B[49m\u001B[38;5;241;43m.\u001B[39;49m\u001B[43mdecode\u001B[49m\u001B[43m(\u001B[49m\u001B[38;5;124;43m\"\u001B[39;49m\u001B[38;5;124;43mutf-8\u001B[39;49m\u001B[38;5;124;43m\"\u001B[39;49m\u001B[43m)\u001B[49m\u001B[43m,\u001B[49m\n\u001B[0;32m   1488\u001B[0m \u001B[43m      \u001B[49m\u001B[43mnum_outputs\u001B[49m\u001B[38;5;241;43m=\u001B[39;49m\u001B[43mnum_outputs\u001B[49m\u001B[43m,\u001B[49m\n\u001B[0;32m   1489\u001B[0m \u001B[43m      \u001B[49m\u001B[43minputs\u001B[49m\u001B[38;5;241;43m=\u001B[39;49m\u001B[43mtensor_inputs\u001B[49m\u001B[43m,\u001B[49m\n\u001B[0;32m   1490\u001B[0m \u001B[43m      \u001B[49m\u001B[43mattrs\u001B[49m\u001B[38;5;241;43m=\u001B[39;49m\u001B[43mattrs\u001B[49m\u001B[43m,\u001B[49m\n\u001B[0;32m   1491\u001B[0m \u001B[43m      \u001B[49m\u001B[43mctx\u001B[49m\u001B[38;5;241;43m=\u001B[39;49m\u001B[38;5;28;43mself\u001B[39;49m\u001B[43m,\u001B[49m\n\u001B[0;32m   1492\u001B[0m \u001B[43m  \u001B[49m\u001B[43m)\u001B[49m\n\u001B[0;32m   1493\u001B[0m \u001B[38;5;28;01melse\u001B[39;00m:\n\u001B[0;32m   1494\u001B[0m   outputs \u001B[38;5;241m=\u001B[39m execute\u001B[38;5;241m.\u001B[39mexecute_with_cancellation(\n\u001B[0;32m   1495\u001B[0m       name\u001B[38;5;241m.\u001B[39mdecode(\u001B[38;5;124m\"\u001B[39m\u001B[38;5;124mutf-8\u001B[39m\u001B[38;5;124m\"\u001B[39m),\n\u001B[0;32m   1496\u001B[0m       num_outputs\u001B[38;5;241m=\u001B[39mnum_outputs,\n\u001B[1;32m   (...)\u001B[0m\n\u001B[0;32m   1500\u001B[0m       cancellation_manager\u001B[38;5;241m=\u001B[39mcancellation_context,\n\u001B[0;32m   1501\u001B[0m   )\n",
      "File \u001B[1;32m~\\anaconda3\\envs\\study\\Lib\\site-packages\\tensorflow\\python\\eager\\execute.py:53\u001B[0m, in \u001B[0;36mquick_execute\u001B[1;34m(op_name, num_outputs, inputs, attrs, ctx, name)\u001B[0m\n\u001B[0;32m     51\u001B[0m \u001B[38;5;28;01mtry\u001B[39;00m:\n\u001B[0;32m     52\u001B[0m   ctx\u001B[38;5;241m.\u001B[39mensure_initialized()\n\u001B[1;32m---> 53\u001B[0m   tensors \u001B[38;5;241m=\u001B[39m \u001B[43mpywrap_tfe\u001B[49m\u001B[38;5;241;43m.\u001B[39;49m\u001B[43mTFE_Py_Execute\u001B[49m\u001B[43m(\u001B[49m\u001B[43mctx\u001B[49m\u001B[38;5;241;43m.\u001B[39;49m\u001B[43m_handle\u001B[49m\u001B[43m,\u001B[49m\u001B[43m \u001B[49m\u001B[43mdevice_name\u001B[49m\u001B[43m,\u001B[49m\u001B[43m \u001B[49m\u001B[43mop_name\u001B[49m\u001B[43m,\u001B[49m\n\u001B[0;32m     54\u001B[0m \u001B[43m                                      \u001B[49m\u001B[43minputs\u001B[49m\u001B[43m,\u001B[49m\u001B[43m \u001B[49m\u001B[43mattrs\u001B[49m\u001B[43m,\u001B[49m\u001B[43m \u001B[49m\u001B[43mnum_outputs\u001B[49m\u001B[43m)\u001B[49m\n\u001B[0;32m     55\u001B[0m \u001B[38;5;28;01mexcept\u001B[39;00m core\u001B[38;5;241m.\u001B[39m_NotOkStatusException \u001B[38;5;28;01mas\u001B[39;00m e:\n\u001B[0;32m     56\u001B[0m   \u001B[38;5;28;01mif\u001B[39;00m name \u001B[38;5;129;01mis\u001B[39;00m \u001B[38;5;129;01mnot\u001B[39;00m \u001B[38;5;28;01mNone\u001B[39;00m:\n",
      "\u001B[1;31mKeyboardInterrupt\u001B[0m: "
     ]
    }
   ],
   "source": [],
   "metadata": {
    "collapsed": false,
    "ExecuteTime": {
     "end_time": "2023-12-01T07:06:20.815485900Z",
     "start_time": "2023-12-01T07:06:18.437008700Z"
    }
   },
   "id": "5694420a0ece9b1c"
  },
  {
   "cell_type": "markdown",
   "source": [
    "# Catboost"
   ],
   "metadata": {
    "collapsed": false
   },
   "id": "284910a8cafb4ceb"
  },
  {
   "cell_type": "code",
   "execution_count": 291,
   "outputs": [],
   "source": [
    "submit.to_csv(\"../submission_data/5.csv\", index = False)"
   ],
   "metadata": {
    "collapsed": false,
    "ExecuteTime": {
     "end_time": "2023-11-29T07:06:58.376362200Z",
     "start_time": "2023-11-29T07:06:58.329943400Z"
    }
   },
   "id": "37092b06ca193553"
  },
  {
   "cell_type": "code",
   "execution_count": 46,
   "outputs": [],
   "source": [
    "pred_final = model_xgb.predict(test)"
   ],
   "metadata": {
    "collapsed": false,
    "ExecuteTime": {
     "end_time": "2023-11-30T01:23:09.013730700Z",
     "start_time": "2023-11-30T01:23:08.919003200Z"
    }
   },
   "id": "9742dfbeabc2a1b7"
  },
  {
   "cell_type": "code",
   "execution_count": 47,
   "outputs": [],
   "source": [
    "submit = pd.DataFrame({\n",
    "    'user_id': test_id,\n",
    "    'target': pred_final.flatten()\n",
    "})"
   ],
   "metadata": {
    "collapsed": false,
    "ExecuteTime": {
     "end_time": "2023-11-30T01:23:09.241376800Z",
     "start_time": "2023-11-30T01:23:09.224685200Z"
    }
   },
   "id": "7360026b1293411"
  },
  {
   "cell_type": "code",
   "execution_count": 48,
   "outputs": [],
   "source": [
    "submit.to_csv(\"../submission_data/5.csv\", index = False)"
   ],
   "metadata": {
    "collapsed": false,
    "ExecuteTime": {
     "end_time": "2023-11-30T01:23:09.519349700Z",
     "start_time": "2023-11-30T01:23:09.498378800Z"
    }
   },
   "id": "1a5a6ae94a947ef2"
  },
  {
   "cell_type": "code",
   "execution_count": null,
   "outputs": [],
   "source": [],
   "metadata": {
    "collapsed": false
   },
   "id": "79dd9b7a20fc15b7"
  }
 ],
 "metadata": {
  "kernelspec": {
   "name": "study",
   "language": "python",
   "display_name": "study"
  },
  "language_info": {
   "codemirror_mode": {
    "name": "ipython",
    "version": 2
   },
   "file_extension": ".py",
   "mimetype": "text/x-python",
   "name": "python",
   "nbconvert_exporter": "python",
   "pygments_lexer": "ipython2",
   "version": "2.7.6"
  }
 },
 "nbformat": 4,
 "nbformat_minor": 5
}

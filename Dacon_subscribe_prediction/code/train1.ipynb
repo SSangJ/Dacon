{
 "cells": [
  {
   "cell_type": "code",
   "execution_count": 216,
   "id": "initial_id",
   "metadata": {
    "collapsed": true,
    "ExecuteTime": {
     "end_time": "2023-11-29T08:04:55.742089900Z",
     "start_time": "2023-11-29T08:04:55.731071600Z"
    }
   },
   "outputs": [
    {
     "name": "stdout",
     "output_type": "stream",
     "text": [
      "cuda:0\n"
     ]
    }
   ],
   "source": [
    "import torch\n",
    "device = torch.device('cuda:0' if torch.cuda.is_available() else 'cpu')\n",
    "\n",
    "print(device)"
   ]
  },
  {
   "cell_type": "code",
   "execution_count": 217,
   "outputs": [],
   "source": [
    "import matplotlib.pyplot as plt\n",
    "import pandas as pd\n",
    "import numpy as np\n",
    "import seaborn as sns\n",
    "\n",
    "from sklearn.model_selection import train_test_split\n",
    "from sklearn.cluster import DBSCAN"
   ],
   "metadata": {
    "collapsed": false,
    "ExecuteTime": {
     "end_time": "2023-11-29T08:04:56.001884700Z",
     "start_time": "2023-11-29T08:04:55.990408Z"
    }
   },
   "id": "55a17efe969dce4a"
  },
  {
   "cell_type": "code",
   "execution_count": 266,
   "outputs": [],
   "source": [
    "import warnings\n",
    "\n",
    "# 경고 무시\n",
    "warnings.filterwarnings(\"ignore\", category=FutureWarning)"
   ],
   "metadata": {
    "collapsed": false,
    "ExecuteTime": {
     "end_time": "2023-11-29T08:09:50.541589900Z",
     "start_time": "2023-11-29T08:09:50.526629900Z"
    }
   },
   "id": "1b0336f4ab645e18"
  },
  {
   "cell_type": "code",
   "execution_count": 267,
   "outputs": [],
   "source": [
    "import os\n",
    "os.environ['KMP_DUPLICATE_LIB_OK']='True'"
   ],
   "metadata": {
    "collapsed": false,
    "ExecuteTime": {
     "end_time": "2023-11-29T08:09:50.721204400Z",
     "start_time": "2023-11-29T08:09:50.707699600Z"
    }
   },
   "id": "83740237a18a3c40"
  },
  {
   "cell_type": "code",
   "execution_count": 268,
   "outputs": [],
   "source": [
    "train = pd.read_csv(\"../data/train.csv\")\n",
    "test = pd.read_csv(\"../data/test.csv\")\n",
    "test_id = test['user_id'].values"
   ],
   "metadata": {
    "collapsed": false,
    "ExecuteTime": {
     "end_time": "2023-11-29T08:09:50.876384700Z",
     "start_time": "2023-11-29T08:09:50.839781300Z"
    }
   },
   "id": "3b1f82b6884d36a4"
  },
  {
   "cell_type": "code",
   "execution_count": 269,
   "outputs": [],
   "source": [
    "train = train.drop(['user_id'], axis=1)\n",
    "test = test.drop(['user_id'], axis=1)"
   ],
   "metadata": {
    "collapsed": false,
    "ExecuteTime": {
     "end_time": "2023-11-29T08:09:50.986383600Z",
     "start_time": "2023-11-29T08:09:50.970115100Z"
    }
   },
   "id": "5ca7c10627b5639b"
  },
  {
   "cell_type": "code",
   "execution_count": 270,
   "outputs": [],
   "source": [
    "train['target'] = train['target'].astype('category')"
   ],
   "metadata": {
    "collapsed": false,
    "ExecuteTime": {
     "end_time": "2023-11-29T08:09:51.108203200Z",
     "start_time": "2023-11-29T08:09:51.093277300Z"
    }
   },
   "id": "f2d107679a7895c8"
  },
  {
   "cell_type": "code",
   "execution_count": 271,
   "outputs": [
    {
     "name": "stdout",
     "output_type": "stream",
     "text": [
      "<class 'pandas.core.frame.DataFrame'>\n",
      "RangeIndex: 10000 entries, 0 to 9999\n",
      "Data columns (total 14 columns):\n",
      " #   Column                             Non-Null Count  Dtype   \n",
      "---  ------                             --------------  -----   \n",
      " 0   subscription_duration              10000 non-null  int64   \n",
      " 1   recent_login_time                  10000 non-null  int64   \n",
      " 2   average_login_time                 10000 non-null  float64 \n",
      " 3   average_time_per_learning_session  10000 non-null  float64 \n",
      " 4   monthly_active_learning_days       10000 non-null  int64   \n",
      " 5   total_completed_courses            10000 non-null  int64   \n",
      " 6   recent_learning_achievement        10000 non-null  float64 \n",
      " 7   abandoned_learning_sessions        10000 non-null  int64   \n",
      " 8   community_engagement_level         10000 non-null  int64   \n",
      " 9   preferred_difficulty_level         10000 non-null  object  \n",
      " 10  subscription_type                  10000 non-null  object  \n",
      " 11  customer_inquiry_history           10000 non-null  int64   \n",
      " 12  payment_pattern                    10000 non-null  int64   \n",
      " 13  target                             10000 non-null  category\n",
      "dtypes: category(1), float64(3), int64(8), object(2)\n",
      "memory usage: 1.0+ MB\n"
     ]
    }
   ],
   "source": [
    "train.info()"
   ],
   "metadata": {
    "collapsed": false,
    "ExecuteTime": {
     "end_time": "2023-11-29T08:09:51.225821300Z",
     "start_time": "2023-11-29T08:09:51.207305100Z"
    }
   },
   "id": "f968f2db3e6f708a"
  },
  {
   "cell_type": "code",
   "execution_count": 272,
   "outputs": [
    {
     "data": {
      "text/plain": "   subscription_duration  recent_login_time  average_login_time  \\\n0                     13                 14           14.946163   \n1                     16                 18           18.453224   \n2                     22                  1           16.195228   \n3                      1                 19           17.628656   \n4                      4                  5           21.390656   \n\n   average_time_per_learning_session  monthly_active_learning_days  \\\n0                           8.427187                            18   \n1                          72.646087                            16   \n2                          21.774492                            13   \n3                          42.659066                            19   \n4                          30.744287                            19   \n\n   total_completed_courses  recent_learning_achievement  \\\n0                       16                    68.360455   \n1                       13                    97.567322   \n2                       14                    94.358763   \n3                       18                    70.153228   \n4                       10                    81.917908   \n\n   abandoned_learning_sessions  community_engagement_level  \\\n0                            3                           4   \n1                            2                           3   \n2                            3                           4   \n3                            0                           3   \n4                            2                           4   \n\n  preferred_difficulty_level subscription_type  customer_inquiry_history  \\\n0                        Low             Basic                         4   \n1                     Medium             Basic                         1   \n2                     Medium           Premium                         0   \n3                        Low             Basic                         1   \n4                     Medium             Basic                         3   \n\n   payment_pattern target  \n0                5      0  \n1                6      1  \n2                7      1  \n3                0      1  \n4                0      1  ",
      "text/html": "<div>\n<style scoped>\n    .dataframe tbody tr th:only-of-type {\n        vertical-align: middle;\n    }\n\n    .dataframe tbody tr th {\n        vertical-align: top;\n    }\n\n    .dataframe thead th {\n        text-align: right;\n    }\n</style>\n<table border=\"1\" class=\"dataframe\">\n  <thead>\n    <tr style=\"text-align: right;\">\n      <th></th>\n      <th>subscription_duration</th>\n      <th>recent_login_time</th>\n      <th>average_login_time</th>\n      <th>average_time_per_learning_session</th>\n      <th>monthly_active_learning_days</th>\n      <th>total_completed_courses</th>\n      <th>recent_learning_achievement</th>\n      <th>abandoned_learning_sessions</th>\n      <th>community_engagement_level</th>\n      <th>preferred_difficulty_level</th>\n      <th>subscription_type</th>\n      <th>customer_inquiry_history</th>\n      <th>payment_pattern</th>\n      <th>target</th>\n    </tr>\n  </thead>\n  <tbody>\n    <tr>\n      <th>0</th>\n      <td>13</td>\n      <td>14</td>\n      <td>14.946163</td>\n      <td>8.427187</td>\n      <td>18</td>\n      <td>16</td>\n      <td>68.360455</td>\n      <td>3</td>\n      <td>4</td>\n      <td>Low</td>\n      <td>Basic</td>\n      <td>4</td>\n      <td>5</td>\n      <td>0</td>\n    </tr>\n    <tr>\n      <th>1</th>\n      <td>16</td>\n      <td>18</td>\n      <td>18.453224</td>\n      <td>72.646087</td>\n      <td>16</td>\n      <td>13</td>\n      <td>97.567322</td>\n      <td>2</td>\n      <td>3</td>\n      <td>Medium</td>\n      <td>Basic</td>\n      <td>1</td>\n      <td>6</td>\n      <td>1</td>\n    </tr>\n    <tr>\n      <th>2</th>\n      <td>22</td>\n      <td>1</td>\n      <td>16.195228</td>\n      <td>21.774492</td>\n      <td>13</td>\n      <td>14</td>\n      <td>94.358763</td>\n      <td>3</td>\n      <td>4</td>\n      <td>Medium</td>\n      <td>Premium</td>\n      <td>0</td>\n      <td>7</td>\n      <td>1</td>\n    </tr>\n    <tr>\n      <th>3</th>\n      <td>1</td>\n      <td>19</td>\n      <td>17.628656</td>\n      <td>42.659066</td>\n      <td>19</td>\n      <td>18</td>\n      <td>70.153228</td>\n      <td>0</td>\n      <td>3</td>\n      <td>Low</td>\n      <td>Basic</td>\n      <td>1</td>\n      <td>0</td>\n      <td>1</td>\n    </tr>\n    <tr>\n      <th>4</th>\n      <td>4</td>\n      <td>5</td>\n      <td>21.390656</td>\n      <td>30.744287</td>\n      <td>19</td>\n      <td>10</td>\n      <td>81.917908</td>\n      <td>2</td>\n      <td>4</td>\n      <td>Medium</td>\n      <td>Basic</td>\n      <td>3</td>\n      <td>0</td>\n      <td>1</td>\n    </tr>\n  </tbody>\n</table>\n</div>"
     },
     "execution_count": 272,
     "metadata": {},
     "output_type": "execute_result"
    }
   ],
   "source": [
    "train.head()"
   ],
   "metadata": {
    "collapsed": false,
    "ExecuteTime": {
     "end_time": "2023-11-29T08:09:51.559295100Z",
     "start_time": "2023-11-29T08:09:51.542342100Z"
    }
   },
   "id": "c05c3ce0f4adf1d0"
  },
  {
   "cell_type": "code",
   "execution_count": 273,
   "outputs": [],
   "source": [
    "# preferred_difficulty_level 열 인코딩\n",
    "train.loc[train['preferred_difficulty_level'].values == 'Low','preferred_difficulty_level'] = 0\n",
    "train.loc[train['preferred_difficulty_level'].values == 'Medium','preferred_difficulty_level'] = 1\n",
    "train.loc[train['preferred_difficulty_level'].values == 'High','preferred_difficulty_level'] = 2\n",
    "train['preferred_difficulty_level'] = train['preferred_difficulty_level'].astype(int)\n",
    "\n",
    "test.loc[test['preferred_difficulty_level'].values == 'Low','preferred_difficulty_level'] = 0\n",
    "test.loc[test['preferred_difficulty_level'].values == 'Medium','preferred_difficulty_level'] = 1\n",
    "test.loc[test['preferred_difficulty_level'].values == 'High','preferred_difficulty_level'] = 2\n",
    "test['preferred_difficulty_level'] = test['preferred_difficulty_level'].astype(int)"
   ],
   "metadata": {
    "collapsed": false,
    "ExecuteTime": {
     "end_time": "2023-11-29T08:09:52.033678200Z",
     "start_time": "2023-11-29T08:09:52.016824900Z"
    }
   },
   "id": "8b3d24ddf355e209"
  },
  {
   "cell_type": "code",
   "execution_count": 274,
   "outputs": [
    {
     "name": "stdout",
     "output_type": "stream",
     "text": [
      "<class 'pandas.core.frame.DataFrame'>\n",
      "RangeIndex: 10000 entries, 0 to 9999\n",
      "Data columns (total 13 columns):\n",
      " #   Column                             Non-Null Count  Dtype  \n",
      "---  ------                             --------------  -----  \n",
      " 0   subscription_duration              10000 non-null  int64  \n",
      " 1   recent_login_time                  10000 non-null  int64  \n",
      " 2   average_login_time                 10000 non-null  float64\n",
      " 3   average_time_per_learning_session  10000 non-null  float64\n",
      " 4   monthly_active_learning_days       10000 non-null  int64  \n",
      " 5   total_completed_courses            10000 non-null  int64  \n",
      " 6   recent_learning_achievement        10000 non-null  float64\n",
      " 7   abandoned_learning_sessions        10000 non-null  int64  \n",
      " 8   community_engagement_level         10000 non-null  int64  \n",
      " 9   preferred_difficulty_level         10000 non-null  int32  \n",
      " 10  subscription_type                  10000 non-null  object \n",
      " 11  customer_inquiry_history           10000 non-null  int64  \n",
      " 12  payment_pattern                    10000 non-null  int64  \n",
      "dtypes: float64(3), int32(1), int64(8), object(1)\n",
      "memory usage: 976.7+ KB\n"
     ]
    }
   ],
   "source": [
    "test.info()"
   ],
   "metadata": {
    "collapsed": false,
    "ExecuteTime": {
     "end_time": "2023-11-29T08:09:53.221529700Z",
     "start_time": "2023-11-29T08:09:53.203145600Z"
    }
   },
   "id": "1b4112e298e8e82d"
  },
  {
   "cell_type": "code",
   "execution_count": 275,
   "outputs": [
    {
     "name": "stdout",
     "output_type": "stream",
     "text": [
      "<class 'pandas.core.frame.DataFrame'>\n",
      "RangeIndex: 10000 entries, 0 to 9999\n",
      "Data columns (total 14 columns):\n",
      " #   Column                             Non-Null Count  Dtype   \n",
      "---  ------                             --------------  -----   \n",
      " 0   subscription_duration              10000 non-null  int64   \n",
      " 1   recent_login_time                  10000 non-null  int64   \n",
      " 2   average_login_time                 10000 non-null  float64 \n",
      " 3   average_time_per_learning_session  10000 non-null  float64 \n",
      " 4   monthly_active_learning_days       10000 non-null  int64   \n",
      " 5   total_completed_courses            10000 non-null  int64   \n",
      " 6   recent_learning_achievement        10000 non-null  float64 \n",
      " 7   abandoned_learning_sessions        10000 non-null  int64   \n",
      " 8   community_engagement_level         10000 non-null  int64   \n",
      " 9   preferred_difficulty_level         10000 non-null  int32   \n",
      " 10  subscription_type                  10000 non-null  object  \n",
      " 11  customer_inquiry_history           10000 non-null  int64   \n",
      " 12  payment_pattern                    10000 non-null  int64   \n",
      " 13  target                             10000 non-null  category\n",
      "dtypes: category(1), float64(3), int32(1), int64(8), object(1)\n",
      "memory usage: 986.6+ KB\n"
     ]
    }
   ],
   "source": [
    "train.info()"
   ],
   "metadata": {
    "collapsed": false,
    "ExecuteTime": {
     "end_time": "2023-11-29T08:09:56.585854700Z",
     "start_time": "2023-11-29T08:09:56.568876800Z"
    }
   },
   "id": "9eba8c660c9ff572"
  },
  {
   "cell_type": "code",
   "execution_count": 276,
   "outputs": [
    {
     "data": {
      "text/plain": "      subscription_duration  recent_login_time  average_login_time  \\\n0                        13                 14           14.946163   \n1                        16                 18           18.453224   \n2                        22                  1           16.195228   \n3                         1                 19           17.628656   \n4                         4                  5           21.390656   \n...                     ...                ...                 ...   \n9995                     22                 29           14.727623   \n9996                     10                 11           19.374054   \n9997                      7                 27           18.240978   \n9998                     11                  7           18.783800   \n9999                     10                  5           13.073230   \n\n      average_time_per_learning_session  monthly_active_learning_days  \\\n0                              8.427187                            18   \n1                             72.646087                            16   \n2                             21.774492                            13   \n3                             42.659066                            19   \n4                             30.744287                            19   \n...                                 ...                           ...   \n9995                          84.053558                            18   \n9996                          45.464833                             9   \n9997                         127.302411                            24   \n9998                           5.297234                            10   \n9999                          28.120031                             3   \n\n      total_completed_courses  recent_learning_achievement  \\\n0                          16                    68.360455   \n1                          13                    97.567322   \n2                          14                    94.358763   \n3                          18                    70.153228   \n4                          10                    81.917908   \n...                       ...                          ...   \n9995                       16                    64.966803   \n9996                        8                    82.750244   \n9997                       14                    81.567839   \n9998                       10                    89.885656   \n9999                       13                    64.811297   \n\n      abandoned_learning_sessions  community_engagement_level  \\\n0                               3                           4   \n1                               2                           3   \n2                               3                           4   \n3                               0                           3   \n4                               2                           4   \n...                           ...                         ...   \n9995                            2                           5   \n9996                            3                           3   \n9997                            3                           5   \n9998                            4                           5   \n9999                            4                           5   \n\n      preferred_difficulty_level subscription_type  customer_inquiry_history  \\\n0                              0             Basic                         4   \n1                              1             Basic                         1   \n2                              1           Premium                         0   \n3                              0             Basic                         1   \n4                              1             Basic                         3   \n...                          ...               ...                       ...   \n9995                           0           Premium                         1   \n9996                           1             Basic                         2   \n9997                           2             Basic                         1   \n9998                           0             Basic                         2   \n9999                           0           Premium                         0   \n\n      payment_pattern target  \n0                   5      0  \n1                   6      1  \n2                   7      1  \n3                   0      1  \n4                   0      1  \n...               ...    ...  \n9995                1      1  \n9996                7      1  \n9997                6      1  \n9998                0      1  \n9999                3      0  \n\n[10000 rows x 14 columns]",
      "text/html": "<div>\n<style scoped>\n    .dataframe tbody tr th:only-of-type {\n        vertical-align: middle;\n    }\n\n    .dataframe tbody tr th {\n        vertical-align: top;\n    }\n\n    .dataframe thead th {\n        text-align: right;\n    }\n</style>\n<table border=\"1\" class=\"dataframe\">\n  <thead>\n    <tr style=\"text-align: right;\">\n      <th></th>\n      <th>subscription_duration</th>\n      <th>recent_login_time</th>\n      <th>average_login_time</th>\n      <th>average_time_per_learning_session</th>\n      <th>monthly_active_learning_days</th>\n      <th>total_completed_courses</th>\n      <th>recent_learning_achievement</th>\n      <th>abandoned_learning_sessions</th>\n      <th>community_engagement_level</th>\n      <th>preferred_difficulty_level</th>\n      <th>subscription_type</th>\n      <th>customer_inquiry_history</th>\n      <th>payment_pattern</th>\n      <th>target</th>\n    </tr>\n  </thead>\n  <tbody>\n    <tr>\n      <th>0</th>\n      <td>13</td>\n      <td>14</td>\n      <td>14.946163</td>\n      <td>8.427187</td>\n      <td>18</td>\n      <td>16</td>\n      <td>68.360455</td>\n      <td>3</td>\n      <td>4</td>\n      <td>0</td>\n      <td>Basic</td>\n      <td>4</td>\n      <td>5</td>\n      <td>0</td>\n    </tr>\n    <tr>\n      <th>1</th>\n      <td>16</td>\n      <td>18</td>\n      <td>18.453224</td>\n      <td>72.646087</td>\n      <td>16</td>\n      <td>13</td>\n      <td>97.567322</td>\n      <td>2</td>\n      <td>3</td>\n      <td>1</td>\n      <td>Basic</td>\n      <td>1</td>\n      <td>6</td>\n      <td>1</td>\n    </tr>\n    <tr>\n      <th>2</th>\n      <td>22</td>\n      <td>1</td>\n      <td>16.195228</td>\n      <td>21.774492</td>\n      <td>13</td>\n      <td>14</td>\n      <td>94.358763</td>\n      <td>3</td>\n      <td>4</td>\n      <td>1</td>\n      <td>Premium</td>\n      <td>0</td>\n      <td>7</td>\n      <td>1</td>\n    </tr>\n    <tr>\n      <th>3</th>\n      <td>1</td>\n      <td>19</td>\n      <td>17.628656</td>\n      <td>42.659066</td>\n      <td>19</td>\n      <td>18</td>\n      <td>70.153228</td>\n      <td>0</td>\n      <td>3</td>\n      <td>0</td>\n      <td>Basic</td>\n      <td>1</td>\n      <td>0</td>\n      <td>1</td>\n    </tr>\n    <tr>\n      <th>4</th>\n      <td>4</td>\n      <td>5</td>\n      <td>21.390656</td>\n      <td>30.744287</td>\n      <td>19</td>\n      <td>10</td>\n      <td>81.917908</td>\n      <td>2</td>\n      <td>4</td>\n      <td>1</td>\n      <td>Basic</td>\n      <td>3</td>\n      <td>0</td>\n      <td>1</td>\n    </tr>\n    <tr>\n      <th>...</th>\n      <td>...</td>\n      <td>...</td>\n      <td>...</td>\n      <td>...</td>\n      <td>...</td>\n      <td>...</td>\n      <td>...</td>\n      <td>...</td>\n      <td>...</td>\n      <td>...</td>\n      <td>...</td>\n      <td>...</td>\n      <td>...</td>\n      <td>...</td>\n    </tr>\n    <tr>\n      <th>9995</th>\n      <td>22</td>\n      <td>29</td>\n      <td>14.727623</td>\n      <td>84.053558</td>\n      <td>18</td>\n      <td>16</td>\n      <td>64.966803</td>\n      <td>2</td>\n      <td>5</td>\n      <td>0</td>\n      <td>Premium</td>\n      <td>1</td>\n      <td>1</td>\n      <td>1</td>\n    </tr>\n    <tr>\n      <th>9996</th>\n      <td>10</td>\n      <td>11</td>\n      <td>19.374054</td>\n      <td>45.464833</td>\n      <td>9</td>\n      <td>8</td>\n      <td>82.750244</td>\n      <td>3</td>\n      <td>3</td>\n      <td>1</td>\n      <td>Basic</td>\n      <td>2</td>\n      <td>7</td>\n      <td>1</td>\n    </tr>\n    <tr>\n      <th>9997</th>\n      <td>7</td>\n      <td>27</td>\n      <td>18.240978</td>\n      <td>127.302411</td>\n      <td>24</td>\n      <td>14</td>\n      <td>81.567839</td>\n      <td>3</td>\n      <td>5</td>\n      <td>2</td>\n      <td>Basic</td>\n      <td>1</td>\n      <td>6</td>\n      <td>1</td>\n    </tr>\n    <tr>\n      <th>9998</th>\n      <td>11</td>\n      <td>7</td>\n      <td>18.783800</td>\n      <td>5.297234</td>\n      <td>10</td>\n      <td>10</td>\n      <td>89.885656</td>\n      <td>4</td>\n      <td>5</td>\n      <td>0</td>\n      <td>Basic</td>\n      <td>2</td>\n      <td>0</td>\n      <td>1</td>\n    </tr>\n    <tr>\n      <th>9999</th>\n      <td>10</td>\n      <td>5</td>\n      <td>13.073230</td>\n      <td>28.120031</td>\n      <td>3</td>\n      <td>13</td>\n      <td>64.811297</td>\n      <td>4</td>\n      <td>5</td>\n      <td>0</td>\n      <td>Premium</td>\n      <td>0</td>\n      <td>3</td>\n      <td>0</td>\n    </tr>\n  </tbody>\n</table>\n<p>10000 rows × 14 columns</p>\n</div>"
     },
     "execution_count": 276,
     "metadata": {},
     "output_type": "execute_result"
    }
   ],
   "source": [
    "train"
   ],
   "metadata": {
    "collapsed": false,
    "ExecuteTime": {
     "end_time": "2023-11-29T08:09:56.722217200Z",
     "start_time": "2023-11-29T08:09:56.692467300Z"
    }
   },
   "id": "c6781182136d8bae"
  },
  {
   "cell_type": "code",
   "execution_count": 277,
   "outputs": [],
   "source": [
    "from sklearn.preprocessing import StandardScaler, LabelEncoder\n",
    "\n",
    "# 데이터 스케일링을 위한 StandardScaler 인스턴스 생성\n",
    "scaler = StandardScaler()\n",
    "categoric_col =['subscription_type']\n",
    "label_encoders = {}\n",
    "for col in categoric_col:\n",
    "    label_encoders[col] = LabelEncoder()\n",
    "    train[col] = label_encoders[col].fit_transform(train[col])\n",
    "    test[col] = label_encoders[col].fit_transform(test[col])"
   ],
   "metadata": {
    "collapsed": false,
    "ExecuteTime": {
     "end_time": "2023-11-29T08:09:56.906486700Z",
     "start_time": "2023-11-29T08:09:56.890399500Z"
    }
   },
   "id": "f506f8dd10704945"
  },
  {
   "cell_type": "code",
   "execution_count": 278,
   "outputs": [],
   "source": [
    "# 'payment_pattern' 열에 대한 고유값 확인\n",
    "unique_values = train['payment_pattern'].unique()\n",
    "\n",
    "# 각 고유값에 대해 새로운 열 생성 및 0 또는 1로 설정\n",
    "for value in unique_values:\n",
    "    train[f'payment_pattern_{value}'] = (train['payment_pattern'] == value).astype(int)\n",
    "\n",
    "# 기존 'payment_pattern' 열 삭제\n",
    "train.drop('payment_pattern', axis=1, inplace=True)\n",
    "\n",
    "for value in unique_values:\n",
    "    test[f'payment_pattern_{value}'] = (test['payment_pattern'] == value).astype(int)\n",
    "\n",
    "# 기존 'payment_pattern' 열 삭제\n",
    "test.drop('payment_pattern', axis=1, inplace=True)"
   ],
   "metadata": {
    "collapsed": false,
    "ExecuteTime": {
     "end_time": "2023-11-29T08:09:57.160221300Z",
     "start_time": "2023-11-29T08:09:57.146057800Z"
    }
   },
   "id": "eb67fdd644e468d"
  },
  {
   "cell_type": "code",
   "execution_count": 279,
   "outputs": [
    {
     "data": {
      "text/plain": "      subscription_duration  recent_login_time  average_login_time  \\\n0                        13                 14           14.946163   \n1                        16                 18           18.453224   \n2                        22                  1           16.195228   \n3                         1                 19           17.628656   \n4                         4                  5           21.390656   \n...                     ...                ...                 ...   \n9995                     22                 29           14.727623   \n9996                     10                 11           19.374054   \n9997                      7                 27           18.240978   \n9998                     11                  7           18.783800   \n9999                     10                  5           13.073230   \n\n      average_time_per_learning_session  monthly_active_learning_days  \\\n0                              8.427187                            18   \n1                             72.646087                            16   \n2                             21.774492                            13   \n3                             42.659066                            19   \n4                             30.744287                            19   \n...                                 ...                           ...   \n9995                          84.053558                            18   \n9996                          45.464833                             9   \n9997                         127.302411                            24   \n9998                           5.297234                            10   \n9999                          28.120031                             3   \n\n      total_completed_courses  recent_learning_achievement  \\\n0                          16                    68.360455   \n1                          13                    97.567322   \n2                          14                    94.358763   \n3                          18                    70.153228   \n4                          10                    81.917908   \n...                       ...                          ...   \n9995                       16                    64.966803   \n9996                        8                    82.750244   \n9997                       14                    81.567839   \n9998                       10                    89.885656   \n9999                       13                    64.811297   \n\n      abandoned_learning_sessions  community_engagement_level  \\\n0                               3                           4   \n1                               2                           3   \n2                               3                           4   \n3                               0                           3   \n4                               2                           4   \n...                           ...                         ...   \n9995                            2                           5   \n9996                            3                           3   \n9997                            3                           5   \n9998                            4                           5   \n9999                            4                           5   \n\n      preferred_difficulty_level  ...  customer_inquiry_history  target  \\\n0                              0  ...                         4       0   \n1                              1  ...                         1       1   \n2                              1  ...                         0       1   \n3                              0  ...                         1       1   \n4                              1  ...                         3       1   \n...                          ...  ...                       ...     ...   \n9995                           0  ...                         1       1   \n9996                           1  ...                         2       1   \n9997                           2  ...                         1       1   \n9998                           0  ...                         2       1   \n9999                           0  ...                         0       0   \n\n     payment_pattern_5  payment_pattern_6  payment_pattern_7  \\\n0                    1                  0                  0   \n1                    0                  1                  0   \n2                    0                  0                  1   \n3                    0                  0                  0   \n4                    0                  0                  0   \n...                ...                ...                ...   \n9995                 0                  0                  0   \n9996                 0                  0                  1   \n9997                 0                  1                  0   \n9998                 0                  0                  0   \n9999                 0                  0                  0   \n\n      payment_pattern_0  payment_pattern_1  payment_pattern_3  \\\n0                     0                  0                  0   \n1                     0                  0                  0   \n2                     0                  0                  0   \n3                     1                  0                  0   \n4                     1                  0                  0   \n...                 ...                ...                ...   \n9995                  0                  1                  0   \n9996                  0                  0                  0   \n9997                  0                  0                  0   \n9998                  1                  0                  0   \n9999                  0                  0                  1   \n\n      payment_pattern_4  payment_pattern_2  \n0                     0                  0  \n1                     0                  0  \n2                     0                  0  \n3                     0                  0  \n4                     0                  0  \n...                 ...                ...  \n9995                  0                  0  \n9996                  0                  0  \n9997                  0                  0  \n9998                  0                  0  \n9999                  0                  0  \n\n[10000 rows x 21 columns]",
      "text/html": "<div>\n<style scoped>\n    .dataframe tbody tr th:only-of-type {\n        vertical-align: middle;\n    }\n\n    .dataframe tbody tr th {\n        vertical-align: top;\n    }\n\n    .dataframe thead th {\n        text-align: right;\n    }\n</style>\n<table border=\"1\" class=\"dataframe\">\n  <thead>\n    <tr style=\"text-align: right;\">\n      <th></th>\n      <th>subscription_duration</th>\n      <th>recent_login_time</th>\n      <th>average_login_time</th>\n      <th>average_time_per_learning_session</th>\n      <th>monthly_active_learning_days</th>\n      <th>total_completed_courses</th>\n      <th>recent_learning_achievement</th>\n      <th>abandoned_learning_sessions</th>\n      <th>community_engagement_level</th>\n      <th>preferred_difficulty_level</th>\n      <th>...</th>\n      <th>customer_inquiry_history</th>\n      <th>target</th>\n      <th>payment_pattern_5</th>\n      <th>payment_pattern_6</th>\n      <th>payment_pattern_7</th>\n      <th>payment_pattern_0</th>\n      <th>payment_pattern_1</th>\n      <th>payment_pattern_3</th>\n      <th>payment_pattern_4</th>\n      <th>payment_pattern_2</th>\n    </tr>\n  </thead>\n  <tbody>\n    <tr>\n      <th>0</th>\n      <td>13</td>\n      <td>14</td>\n      <td>14.946163</td>\n      <td>8.427187</td>\n      <td>18</td>\n      <td>16</td>\n      <td>68.360455</td>\n      <td>3</td>\n      <td>4</td>\n      <td>0</td>\n      <td>...</td>\n      <td>4</td>\n      <td>0</td>\n      <td>1</td>\n      <td>0</td>\n      <td>0</td>\n      <td>0</td>\n      <td>0</td>\n      <td>0</td>\n      <td>0</td>\n      <td>0</td>\n    </tr>\n    <tr>\n      <th>1</th>\n      <td>16</td>\n      <td>18</td>\n      <td>18.453224</td>\n      <td>72.646087</td>\n      <td>16</td>\n      <td>13</td>\n      <td>97.567322</td>\n      <td>2</td>\n      <td>3</td>\n      <td>1</td>\n      <td>...</td>\n      <td>1</td>\n      <td>1</td>\n      <td>0</td>\n      <td>1</td>\n      <td>0</td>\n      <td>0</td>\n      <td>0</td>\n      <td>0</td>\n      <td>0</td>\n      <td>0</td>\n    </tr>\n    <tr>\n      <th>2</th>\n      <td>22</td>\n      <td>1</td>\n      <td>16.195228</td>\n      <td>21.774492</td>\n      <td>13</td>\n      <td>14</td>\n      <td>94.358763</td>\n      <td>3</td>\n      <td>4</td>\n      <td>1</td>\n      <td>...</td>\n      <td>0</td>\n      <td>1</td>\n      <td>0</td>\n      <td>0</td>\n      <td>1</td>\n      <td>0</td>\n      <td>0</td>\n      <td>0</td>\n      <td>0</td>\n      <td>0</td>\n    </tr>\n    <tr>\n      <th>3</th>\n      <td>1</td>\n      <td>19</td>\n      <td>17.628656</td>\n      <td>42.659066</td>\n      <td>19</td>\n      <td>18</td>\n      <td>70.153228</td>\n      <td>0</td>\n      <td>3</td>\n      <td>0</td>\n      <td>...</td>\n      <td>1</td>\n      <td>1</td>\n      <td>0</td>\n      <td>0</td>\n      <td>0</td>\n      <td>1</td>\n      <td>0</td>\n      <td>0</td>\n      <td>0</td>\n      <td>0</td>\n    </tr>\n    <tr>\n      <th>4</th>\n      <td>4</td>\n      <td>5</td>\n      <td>21.390656</td>\n      <td>30.744287</td>\n      <td>19</td>\n      <td>10</td>\n      <td>81.917908</td>\n      <td>2</td>\n      <td>4</td>\n      <td>1</td>\n      <td>...</td>\n      <td>3</td>\n      <td>1</td>\n      <td>0</td>\n      <td>0</td>\n      <td>0</td>\n      <td>1</td>\n      <td>0</td>\n      <td>0</td>\n      <td>0</td>\n      <td>0</td>\n    </tr>\n    <tr>\n      <th>...</th>\n      <td>...</td>\n      <td>...</td>\n      <td>...</td>\n      <td>...</td>\n      <td>...</td>\n      <td>...</td>\n      <td>...</td>\n      <td>...</td>\n      <td>...</td>\n      <td>...</td>\n      <td>...</td>\n      <td>...</td>\n      <td>...</td>\n      <td>...</td>\n      <td>...</td>\n      <td>...</td>\n      <td>...</td>\n      <td>...</td>\n      <td>...</td>\n      <td>...</td>\n      <td>...</td>\n    </tr>\n    <tr>\n      <th>9995</th>\n      <td>22</td>\n      <td>29</td>\n      <td>14.727623</td>\n      <td>84.053558</td>\n      <td>18</td>\n      <td>16</td>\n      <td>64.966803</td>\n      <td>2</td>\n      <td>5</td>\n      <td>0</td>\n      <td>...</td>\n      <td>1</td>\n      <td>1</td>\n      <td>0</td>\n      <td>0</td>\n      <td>0</td>\n      <td>0</td>\n      <td>1</td>\n      <td>0</td>\n      <td>0</td>\n      <td>0</td>\n    </tr>\n    <tr>\n      <th>9996</th>\n      <td>10</td>\n      <td>11</td>\n      <td>19.374054</td>\n      <td>45.464833</td>\n      <td>9</td>\n      <td>8</td>\n      <td>82.750244</td>\n      <td>3</td>\n      <td>3</td>\n      <td>1</td>\n      <td>...</td>\n      <td>2</td>\n      <td>1</td>\n      <td>0</td>\n      <td>0</td>\n      <td>1</td>\n      <td>0</td>\n      <td>0</td>\n      <td>0</td>\n      <td>0</td>\n      <td>0</td>\n    </tr>\n    <tr>\n      <th>9997</th>\n      <td>7</td>\n      <td>27</td>\n      <td>18.240978</td>\n      <td>127.302411</td>\n      <td>24</td>\n      <td>14</td>\n      <td>81.567839</td>\n      <td>3</td>\n      <td>5</td>\n      <td>2</td>\n      <td>...</td>\n      <td>1</td>\n      <td>1</td>\n      <td>0</td>\n      <td>1</td>\n      <td>0</td>\n      <td>0</td>\n      <td>0</td>\n      <td>0</td>\n      <td>0</td>\n      <td>0</td>\n    </tr>\n    <tr>\n      <th>9998</th>\n      <td>11</td>\n      <td>7</td>\n      <td>18.783800</td>\n      <td>5.297234</td>\n      <td>10</td>\n      <td>10</td>\n      <td>89.885656</td>\n      <td>4</td>\n      <td>5</td>\n      <td>0</td>\n      <td>...</td>\n      <td>2</td>\n      <td>1</td>\n      <td>0</td>\n      <td>0</td>\n      <td>0</td>\n      <td>1</td>\n      <td>0</td>\n      <td>0</td>\n      <td>0</td>\n      <td>0</td>\n    </tr>\n    <tr>\n      <th>9999</th>\n      <td>10</td>\n      <td>5</td>\n      <td>13.073230</td>\n      <td>28.120031</td>\n      <td>3</td>\n      <td>13</td>\n      <td>64.811297</td>\n      <td>4</td>\n      <td>5</td>\n      <td>0</td>\n      <td>...</td>\n      <td>0</td>\n      <td>0</td>\n      <td>0</td>\n      <td>0</td>\n      <td>0</td>\n      <td>0</td>\n      <td>0</td>\n      <td>1</td>\n      <td>0</td>\n      <td>0</td>\n    </tr>\n  </tbody>\n</table>\n<p>10000 rows × 21 columns</p>\n</div>"
     },
     "execution_count": 279,
     "metadata": {},
     "output_type": "execute_result"
    }
   ],
   "source": [
    "train"
   ],
   "metadata": {
    "collapsed": false,
    "ExecuteTime": {
     "end_time": "2023-11-29T08:09:58.449384Z",
     "start_time": "2023-11-29T08:09:58.426129500Z"
    }
   },
   "id": "ed96d8a785a94f9f"
  },
  {
   "cell_type": "code",
   "execution_count": 280,
   "outputs": [],
   "source": [
    "X = train[train.columns.drop('target')]\n",
    "Y = train['target']"
   ],
   "metadata": {
    "collapsed": false,
    "ExecuteTime": {
     "end_time": "2023-11-29T08:10:00.086348600Z",
     "start_time": "2023-11-29T08:10:00.050441600Z"
    }
   },
   "id": "f8366e52daa12b31"
  },
  {
   "cell_type": "code",
   "execution_count": 232,
   "outputs": [],
   "source": [
    "# X와 Y로 나누기\n",
    "X_train, X_test, y_train, y_test = train_test_split(X, Y, test_size=0.2, random_state=42)"
   ],
   "metadata": {
    "collapsed": false,
    "ExecuteTime": {
     "end_time": "2023-11-29T08:05:04.407227100Z",
     "start_time": "2023-11-29T08:05:04.393545100Z"
    }
   },
   "id": "b22405682fa57b34"
  },
  {
   "cell_type": "code",
   "execution_count": 173,
   "outputs": [
    {
     "data": {
      "text/plain": "RandomForestClassifier(random_state=42)",
      "text/html": "<style>#sk-container-id-7 {color: black;}#sk-container-id-7 pre{padding: 0;}#sk-container-id-7 div.sk-toggleable {background-color: white;}#sk-container-id-7 label.sk-toggleable__label {cursor: pointer;display: block;width: 100%;margin-bottom: 0;padding: 0.3em;box-sizing: border-box;text-align: center;}#sk-container-id-7 label.sk-toggleable__label-arrow:before {content: \"▸\";float: left;margin-right: 0.25em;color: #696969;}#sk-container-id-7 label.sk-toggleable__label-arrow:hover:before {color: black;}#sk-container-id-7 div.sk-estimator:hover label.sk-toggleable__label-arrow:before {color: black;}#sk-container-id-7 div.sk-toggleable__content {max-height: 0;max-width: 0;overflow: hidden;text-align: left;background-color: #f0f8ff;}#sk-container-id-7 div.sk-toggleable__content pre {margin: 0.2em;color: black;border-radius: 0.25em;background-color: #f0f8ff;}#sk-container-id-7 input.sk-toggleable__control:checked~div.sk-toggleable__content {max-height: 200px;max-width: 100%;overflow: auto;}#sk-container-id-7 input.sk-toggleable__control:checked~label.sk-toggleable__label-arrow:before {content: \"▾\";}#sk-container-id-7 div.sk-estimator input.sk-toggleable__control:checked~label.sk-toggleable__label {background-color: #d4ebff;}#sk-container-id-7 div.sk-label input.sk-toggleable__control:checked~label.sk-toggleable__label {background-color: #d4ebff;}#sk-container-id-7 input.sk-hidden--visually {border: 0;clip: rect(1px 1px 1px 1px);clip: rect(1px, 1px, 1px, 1px);height: 1px;margin: -1px;overflow: hidden;padding: 0;position: absolute;width: 1px;}#sk-container-id-7 div.sk-estimator {font-family: monospace;background-color: #f0f8ff;border: 1px dotted black;border-radius: 0.25em;box-sizing: border-box;margin-bottom: 0.5em;}#sk-container-id-7 div.sk-estimator:hover {background-color: #d4ebff;}#sk-container-id-7 div.sk-parallel-item::after {content: \"\";width: 100%;border-bottom: 1px solid gray;flex-grow: 1;}#sk-container-id-7 div.sk-label:hover label.sk-toggleable__label {background-color: #d4ebff;}#sk-container-id-7 div.sk-serial::before {content: \"\";position: absolute;border-left: 1px solid gray;box-sizing: border-box;top: 0;bottom: 0;left: 50%;z-index: 0;}#sk-container-id-7 div.sk-serial {display: flex;flex-direction: column;align-items: center;background-color: white;padding-right: 0.2em;padding-left: 0.2em;position: relative;}#sk-container-id-7 div.sk-item {position: relative;z-index: 1;}#sk-container-id-7 div.sk-parallel {display: flex;align-items: stretch;justify-content: center;background-color: white;position: relative;}#sk-container-id-7 div.sk-item::before, #sk-container-id-7 div.sk-parallel-item::before {content: \"\";position: absolute;border-left: 1px solid gray;box-sizing: border-box;top: 0;bottom: 0;left: 50%;z-index: -1;}#sk-container-id-7 div.sk-parallel-item {display: flex;flex-direction: column;z-index: 1;position: relative;background-color: white;}#sk-container-id-7 div.sk-parallel-item:first-child::after {align-self: flex-end;width: 50%;}#sk-container-id-7 div.sk-parallel-item:last-child::after {align-self: flex-start;width: 50%;}#sk-container-id-7 div.sk-parallel-item:only-child::after {width: 0;}#sk-container-id-7 div.sk-dashed-wrapped {border: 1px dashed gray;margin: 0 0.4em 0.5em 0.4em;box-sizing: border-box;padding-bottom: 0.4em;background-color: white;}#sk-container-id-7 div.sk-label label {font-family: monospace;font-weight: bold;display: inline-block;line-height: 1.2em;}#sk-container-id-7 div.sk-label-container {text-align: center;}#sk-container-id-7 div.sk-container {/* jupyter's `normalize.less` sets `[hidden] { display: none; }` but bootstrap.min.css set `[hidden] { display: none !important; }` so we also need the `!important` here to be able to override the default hidden behavior on the sphinx rendered scikit-learn.org. See: https://github.com/scikit-learn/scikit-learn/issues/21755 */display: inline-block !important;position: relative;}#sk-container-id-7 div.sk-text-repr-fallback {display: none;}</style><div id=\"sk-container-id-7\" class=\"sk-top-container\"><div class=\"sk-text-repr-fallback\"><pre>RandomForestClassifier(random_state=42)</pre><b>In a Jupyter environment, please rerun this cell to show the HTML representation or trust the notebook. <br />On GitHub, the HTML representation is unable to render, please try loading this page with nbviewer.org.</b></div><div class=\"sk-container\" hidden><div class=\"sk-item\"><div class=\"sk-estimator sk-toggleable\"><input class=\"sk-toggleable__control sk-hidden--visually\" id=\"sk-estimator-id-7\" type=\"checkbox\" checked><label for=\"sk-estimator-id-7\" class=\"sk-toggleable__label sk-toggleable__label-arrow\">RandomForestClassifier</label><div class=\"sk-toggleable__content\"><pre>RandomForestClassifier(random_state=42)</pre></div></div></div></div></div>"
     },
     "execution_count": 173,
     "metadata": {},
     "output_type": "execute_result"
    }
   ],
   "source": [
    "from sklearn.ensemble import RandomForestClassifier\n",
    "from sklearn.metrics import accuracy_score\n",
    "\n",
    "# 데이터셋 로드 및 전처리\n",
    "# 예: X는 특징 변수, y는 범주형 목표 변수\n",
    "\n",
    "# RandomForest 모델 생성 및 학습\n",
    "model_rf = RandomForestClassifier(n_estimators=100, random_state=42)\n",
    "model_rf.fit(X_train, y_train)"
   ],
   "metadata": {
    "collapsed": false,
    "ExecuteTime": {
     "end_time": "2023-11-28T10:02:25.636013200Z",
     "start_time": "2023-11-28T10:02:22.650684800Z"
    }
   },
   "id": "489f1eeb61971feb"
  },
  {
   "cell_type": "code",
   "execution_count": 174,
   "outputs": [],
   "source": [
    "# 예측\n",
    "y_pred_rf = model_rf.predict(X_test)"
   ],
   "metadata": {
    "collapsed": false,
    "ExecuteTime": {
     "end_time": "2023-11-28T10:02:26.632475100Z",
     "start_time": "2023-11-28T10:02:26.584176100Z"
    }
   },
   "id": "e042448cfbe8d6ae"
  },
  {
   "cell_type": "code",
   "execution_count": 175,
   "outputs": [
    {
     "name": "stdout",
     "output_type": "stream",
     "text": [
      "RandomForest Accuracy: 0.588\n"
     ]
    }
   ],
   "source": [
    "# 정확도 평가\n",
    "accuracy_rf = accuracy_score(y_test, y_pred_rf)\n",
    "print(f\"RandomForest Accuracy: {accuracy_rf}\")"
   ],
   "metadata": {
    "collapsed": false,
    "ExecuteTime": {
     "end_time": "2023-11-28T10:02:27.371738100Z",
     "start_time": "2023-11-28T10:02:27.368617400Z"
    }
   },
   "id": "442be134f18b7b55"
  },
  {
   "cell_type": "code",
   "execution_count": 202,
   "outputs": [
    {
     "name": "stdout",
     "output_type": "stream",
     "text": [
      "0.43928413459902693\n"
     ]
    }
   ],
   "source": [
    "#랜덤포레스트 평가 및 테스트\n",
    "from sklearn.metrics import f1_score\n",
    "print(f1_score(y_test, y_pred_rf, average='macro'))"
   ],
   "metadata": {
    "collapsed": false,
    "ExecuteTime": {
     "end_time": "2023-11-28T10:10:05.392598800Z",
     "start_time": "2023-11-28T10:10:05.371258800Z"
    }
   },
   "id": "5f5482acb4d8edd7"
  },
  {
   "cell_type": "code",
   "execution_count": 183,
   "outputs": [
    {
     "data": {
      "text/plain": "<Figure size 640x480 with 2 Axes>",
      "image/png": "[encoded data removed]"
     },
     "metadata": {},
     "output_type": "display_data"
    }
   ],
   "source": [
    "# Confusion Matrix 생성\n",
    "cm = confusion_matrix(y_test, y_pred_rf)\n",
    "\n",
    "# 시각화\n",
    "plt.imshow(cm, interpolation='nearest', cmap=plt.cm.Blues)\n",
    "plt.title('RandomForest Confusion Matrix Accuracy {}'.format(round((accuracy_rf),2)))\n",
    "plt.colorbar()\n",
    "\n",
    "classes = model_rf.classes_\n",
    "tick_marks = np.arange(len(classes))\n",
    "plt.xticks(tick_marks, classes)\n",
    "plt.yticks(tick_marks, classes)\n",
    "\n",
    "plt.xlabel('Predicted')\n",
    "plt.ylabel('True')\n",
    "\n",
    "for i in range(len(classes)):\n",
    "    for j in range(len(classes)):\n",
    "        plt.text(j, i, format(cm[i, j], 'd'), horizontalalignment=\"center\",\n",
    "                 color=\"white\" if cm[i, j] > cm.max() / 2 else \"black\")\n",
    "\n",
    "plt.show()"
   ],
   "metadata": {
    "collapsed": false,
    "ExecuteTime": {
     "end_time": "2023-11-28T10:05:24.657201100Z",
     "start_time": "2023-11-28T10:05:24.507476600Z"
    }
   },
   "id": "4e282d269946d494"
  },
  {
   "cell_type": "code",
   "execution_count": 233,
   "outputs": [
    {
     "data": {
      "text/plain": "XGBClassifier(base_score=None, booster=None, callbacks=None,\n              colsample_bylevel=None, colsample_bynode=None,\n              colsample_bytree=None, early_stopping_rounds=None,\n              enable_categorical=False, eval_metric=None, feature_types=None,\n              gamma=None, gpu_id=None, grow_policy=None, importance_type=None,\n              interaction_constraints=None, learning_rate=None, max_bin=None,\n              max_cat_threshold=None, max_cat_to_onehot=None,\n              max_delta_step=None, max_depth=None, max_leaves=None,\n              min_child_weight=None, missing=nan, monotone_constraints=None,\n              n_estimators=80, n_jobs=None, num_class=2, num_parallel_tree=None,\n              objective='multi:softmax', ...)",
      "text/html": "<style>#sk-container-id-12 {color: black;}#sk-container-id-12 pre{padding: 0;}#sk-container-id-12 div.sk-toggleable {background-color: white;}#sk-container-id-12 label.sk-toggleable__label {cursor: pointer;display: block;width: 100%;margin-bottom: 0;padding: 0.3em;box-sizing: border-box;text-align: center;}#sk-container-id-12 label.sk-toggleable__label-arrow:before {content: \"▸\";float: left;margin-right: 0.25em;color: #696969;}#sk-container-id-12 label.sk-toggleable__label-arrow:hover:before {color: black;}#sk-container-id-12 div.sk-estimator:hover label.sk-toggleable__label-arrow:before {color: black;}#sk-container-id-12 div.sk-toggleable__content {max-height: 0;max-width: 0;overflow: hidden;text-align: left;background-color: #f0f8ff;}#sk-container-id-12 div.sk-toggleable__content pre {margin: 0.2em;color: black;border-radius: 0.25em;background-color: #f0f8ff;}#sk-container-id-12 input.sk-toggleable__control:checked~div.sk-toggleable__content {max-height: 200px;max-width: 100%;overflow: auto;}#sk-container-id-12 input.sk-toggleable__control:checked~label.sk-toggleable__label-arrow:before {content: \"▾\";}#sk-container-id-12 div.sk-estimator input.sk-toggleable__control:checked~label.sk-toggleable__label {background-color: #d4ebff;}#sk-container-id-12 div.sk-label input.sk-toggleable__control:checked~label.sk-toggleable__label {background-color: #d4ebff;}#sk-container-id-12 input.sk-hidden--visually {border: 0;clip: rect(1px 1px 1px 1px);clip: rect(1px, 1px, 1px, 1px);height: 1px;margin: -1px;overflow: hidden;padding: 0;position: absolute;width: 1px;}#sk-container-id-12 div.sk-estimator {font-family: monospace;background-color: #f0f8ff;border: 1px dotted black;border-radius: 0.25em;box-sizing: border-box;margin-bottom: 0.5em;}#sk-container-id-12 div.sk-estimator:hover {background-color: #d4ebff;}#sk-container-id-12 div.sk-parallel-item::after {content: \"\";width: 100%;border-bottom: 1px solid gray;flex-grow: 1;}#sk-container-id-12 div.sk-label:hover label.sk-toggleable__label {background-color: #d4ebff;}#sk-container-id-12 div.sk-serial::before {content: \"\";position: absolute;border-left: 1px solid gray;box-sizing: border-box;top: 0;bottom: 0;left: 50%;z-index: 0;}#sk-container-id-12 div.sk-serial {display: flex;flex-direction: column;align-items: center;background-color: white;padding-right: 0.2em;padding-left: 0.2em;position: relative;}#sk-container-id-12 div.sk-item {position: relative;z-index: 1;}#sk-container-id-12 div.sk-parallel {display: flex;align-items: stretch;justify-content: center;background-color: white;position: relative;}#sk-container-id-12 div.sk-item::before, #sk-container-id-12 div.sk-parallel-item::before {content: \"\";position: absolute;border-left: 1px solid gray;box-sizing: border-box;top: 0;bottom: 0;left: 50%;z-index: -1;}#sk-container-id-12 div.sk-parallel-item {display: flex;flex-direction: column;z-index: 1;position: relative;background-color: white;}#sk-container-id-12 div.sk-parallel-item:first-child::after {align-self: flex-end;width: 50%;}#sk-container-id-12 div.sk-parallel-item:last-child::after {align-self: flex-start;width: 50%;}#sk-container-id-12 div.sk-parallel-item:only-child::after {width: 0;}#sk-container-id-12 div.sk-dashed-wrapped {border: 1px dashed gray;margin: 0 0.4em 0.5em 0.4em;box-sizing: border-box;padding-bottom: 0.4em;background-color: white;}#sk-container-id-12 div.sk-label label {font-family: monospace;font-weight: bold;display: inline-block;line-height: 1.2em;}#sk-container-id-12 div.sk-label-container {text-align: center;}#sk-container-id-12 div.sk-container {/* jupyter's `normalize.less` sets `[hidden] { display: none; }` but bootstrap.min.css set `[hidden] { display: none !important; }` so we also need the `!important` here to be able to override the default hidden behavior on the sphinx rendered scikit-learn.org. See: https://github.com/scikit-learn/scikit-learn/issues/21755 */display: inline-block !important;position: relative;}#sk-container-id-12 div.sk-text-repr-fallback {display: none;}</style><div id=\"sk-container-id-12\" class=\"sk-top-container\"><div class=\"sk-text-repr-fallback\"><pre>XGBClassifier(base_score=None, booster=None, callbacks=None,\n              colsample_bylevel=None, colsample_bynode=None,\n              colsample_bytree=None, early_stopping_rounds=None,\n              enable_categorical=False, eval_metric=None, feature_types=None,\n              gamma=None, gpu_id=None, grow_policy=None, importance_type=None,\n              interaction_constraints=None, learning_rate=None, max_bin=None,\n              max_cat_threshold=None, max_cat_to_onehot=None,\n              max_delta_step=None, max_depth=None, max_leaves=None,\n              min_child_weight=None, missing=nan, monotone_constraints=None,\n              n_estimators=80, n_jobs=None, num_class=2, num_parallel_tree=None,\n              objective=&#x27;multi:softmax&#x27;, ...)</pre><b>In a Jupyter environment, please rerun this cell to show the HTML representation or trust the notebook. <br />On GitHub, the HTML representation is unable to render, please try loading this page with nbviewer.org.</b></div><div class=\"sk-container\" hidden><div class=\"sk-item\"><div class=\"sk-estimator sk-toggleable\"><input class=\"sk-toggleable__control sk-hidden--visually\" id=\"sk-estimator-id-12\" type=\"checkbox\" checked><label for=\"sk-estimator-id-12\" class=\"sk-toggleable__label sk-toggleable__label-arrow\">XGBClassifier</label><div class=\"sk-toggleable__content\"><pre>XGBClassifier(base_score=None, booster=None, callbacks=None,\n              colsample_bylevel=None, colsample_bynode=None,\n              colsample_bytree=None, early_stopping_rounds=None,\n              enable_categorical=False, eval_metric=None, feature_types=None,\n              gamma=None, gpu_id=None, grow_policy=None, importance_type=None,\n              interaction_constraints=None, learning_rate=None, max_bin=None,\n              max_cat_threshold=None, max_cat_to_onehot=None,\n              max_delta_step=None, max_depth=None, max_leaves=None,\n              min_child_weight=None, missing=nan, monotone_constraints=None,\n              n_estimators=80, n_jobs=None, num_class=2, num_parallel_tree=None,\n              objective=&#x27;multi:softmax&#x27;, ...)</pre></div></div></div></div></div>"
     },
     "execution_count": 233,
     "metadata": {},
     "output_type": "execute_result"
    }
   ],
   "source": [
    "import xgboost as xgb\n",
    "\n",
    "# 데이터셋 로드 및 전처리\n",
    "# 예: X는 특징 변수, y는 범주형 목표 변수\n",
    "\n",
    "\n",
    "# XGBoost 모델 생성 및 학습\n",
    "model_xgb = xgb.XGBClassifier(random_state=2200,objective=\"multi:softmax\", num_class=2, n_estimators=80)\n",
    "model_xgb.fit(X_train, y_train)"
   ],
   "metadata": {
    "collapsed": false,
    "ExecuteTime": {
     "end_time": "2023-11-29T08:05:14.051062600Z",
     "start_time": "2023-11-29T08:05:12.725851Z"
    }
   },
   "id": "c75921dd3b35d7d3"
  },
  {
   "cell_type": "code",
   "execution_count": 234,
   "outputs": [],
   "source": [
    "y_pred_xgb = model_xgb.predict(X_test)"
   ],
   "metadata": {
    "collapsed": false,
    "ExecuteTime": {
     "end_time": "2023-11-29T08:05:15.397510300Z",
     "start_time": "2023-11-29T08:05:15.380822700Z"
    }
   },
   "id": "202edf1fd350a38e"
  },
  {
   "cell_type": "code",
   "execution_count": 235,
   "outputs": [
    {
     "name": "stdout",
     "output_type": "stream",
     "text": [
      "XGBoost Accuracy: 0.588\n"
     ]
    }
   ],
   "source": [
    "accuracy_xgb = accuracy_score(y_test, y_pred_xgb)\n",
    "print(f\"XGBoost Accuracy: {accuracy_xgb}\")"
   ],
   "metadata": {
    "collapsed": false,
    "ExecuteTime": {
     "end_time": "2023-11-29T08:05:15.648207200Z",
     "start_time": "2023-11-29T08:05:15.634091700Z"
    }
   },
   "id": "fc3001306f8070b1"
  },
  {
   "cell_type": "code",
   "execution_count": 236,
   "outputs": [
    {
     "name": "stdout",
     "output_type": "stream",
     "text": [
      "0.5131957047791893\n"
     ]
    }
   ],
   "source": [
    "print(f1_score(y_test,y_pred_xgb , average='macro'))"
   ],
   "metadata": {
    "collapsed": false,
    "ExecuteTime": {
     "end_time": "2023-11-29T08:05:16.316810500Z",
     "start_time": "2023-11-29T08:05:16.302560300Z"
    }
   },
   "id": "6e23744a52d65f81"
  },
  {
   "cell_type": "code",
   "execution_count": 213,
   "outputs": [
    {
     "data": {
      "text/plain": "<Figure size 640x480 with 2 Axes>",
      "image/png": "[encoded data removed]"
     },
     "metadata": {},
     "output_type": "display_data"
    }
   ],
   "source": [
    "from sklearn.metrics import confusion_matrix, accuracy_score\n",
    "# Confusion Matrix 생성\n",
    "cm = confusion_matrix(y_test, y_pred_xgb)\n",
    "\n",
    "# 시각화\n",
    "plt.imshow(cm, interpolation='nearest', cmap=plt.cm.Blues)\n",
    "plt.title('XGBoost Confusion Matrix Accuracy {}'.format(round((accuracy_xgb),2)))\n",
    "plt.colorbar()\n",
    "\n",
    "classes = model_xgb.classes_\n",
    "tick_marks = np.arange(len(classes))\n",
    "plt.xticks(tick_marks, classes)\n",
    "plt.yticks(tick_marks, classes)\n",
    "\n",
    "plt.xlabel('Predicted')\n",
    "plt.ylabel('True')\n",
    "\n",
    "for i in range(len(classes)):\n",
    "    for j in range(len(classes)):\n",
    "        plt.text(j, i, format(cm[i, j], 'd'), horizontalalignment=\"center\", color=\"white\" if cm[i, j] > cm.max() / 2 else \"black\")\n",
    "\n",
    "plt.show()"
   ],
   "metadata": {
    "collapsed": false,
    "ExecuteTime": {
     "end_time": "2023-11-28T10:19:43.928346500Z",
     "start_time": "2023-11-28T10:19:43.766651800Z"
    }
   },
   "id": "2492b6894086b83b"
  },
  {
   "cell_type": "code",
   "execution_count": 198,
   "outputs": [
    {
     "name": "stdout",
     "output_type": "stream",
     "text": [
      "0:\tlearn: 0.6923384\ttotal: 59ms\tremaining: 8.79s\n",
      "1:\tlearn: 0.6915678\ttotal: 116ms\tremaining: 8.57s\n",
      "2:\tlearn: 0.6907757\ttotal: 135ms\tremaining: 6.63s\n",
      "3:\tlearn: 0.6900270\ttotal: 198ms\tremaining: 7.21s\n",
      "4:\tlearn: 0.6892488\ttotal: 262ms\tremaining: 7.59s\n",
      "5:\tlearn: 0.6885747\ttotal: 335ms\tremaining: 8.05s\n",
      "6:\tlearn: 0.6878853\ttotal: 414ms\tremaining: 8.45s\n",
      "7:\tlearn: 0.6871372\ttotal: 480ms\tremaining: 8.52s\n",
      "8:\tlearn: 0.6864526\ttotal: 546ms\tremaining: 8.56s\n",
      "9:\tlearn: 0.6857237\ttotal: 615ms\tremaining: 8.61s\n",
      "10:\tlearn: 0.6850586\ttotal: 677ms\tremaining: 8.55s\n",
      "11:\tlearn: 0.6843492\ttotal: 740ms\tremaining: 8.51s\n",
      "12:\tlearn: 0.6836717\ttotal: 766ms\tremaining: 8.07s\n",
      "13:\tlearn: 0.6829784\ttotal: 826ms\tremaining: 8.02s\n",
      "14:\tlearn: 0.6823604\ttotal: 885ms\tremaining: 7.96s\n",
      "15:\tlearn: 0.6816995\ttotal: 944ms\tremaining: 7.9s\n",
      "16:\tlearn: 0.6811125\ttotal: 1.01s\tremaining: 7.88s\n",
      "17:\tlearn: 0.6805098\ttotal: 1.04s\tremaining: 7.65s\n",
      "18:\tlearn: 0.6798538\ttotal: 1.1s\tremaining: 7.61s\n",
      "19:\tlearn: 0.6792144\ttotal: 1.16s\tremaining: 7.56s\n",
      "20:\tlearn: 0.6786281\ttotal: 1.22s\tremaining: 7.52s\n",
      "21:\tlearn: 0.6780575\ttotal: 1.29s\tremaining: 7.5s\n",
      "22:\tlearn: 0.6774471\ttotal: 1.35s\tremaining: 7.45s\n",
      "23:\tlearn: 0.6768284\ttotal: 1.41s\tremaining: 7.41s\n",
      "24:\tlearn: 0.6762890\ttotal: 1.48s\tremaining: 7.4s\n",
      "25:\tlearn: 0.6757013\ttotal: 1.54s\tremaining: 7.36s\n",
      "26:\tlearn: 0.6751452\ttotal: 1.61s\tremaining: 7.32s\n",
      "27:\tlearn: 0.6746125\ttotal: 1.63s\tremaining: 7.12s\n",
      "28:\tlearn: 0.6740167\ttotal: 1.7s\tremaining: 7.09s\n",
      "29:\tlearn: 0.6735404\ttotal: 1.72s\tremaining: 6.89s\n",
      "30:\tlearn: 0.6729340\ttotal: 1.78s\tremaining: 6.85s\n",
      "31:\tlearn: 0.6723847\ttotal: 1.85s\tremaining: 6.81s\n",
      "32:\tlearn: 0.6719052\ttotal: 1.89s\tremaining: 6.68s\n",
      "33:\tlearn: 0.6713410\ttotal: 1.95s\tremaining: 6.64s\n",
      "34:\tlearn: 0.6708483\ttotal: 2.01s\tremaining: 6.59s\n",
      "35:\tlearn: 0.6704029\ttotal: 2.06s\tremaining: 6.54s\n",
      "36:\tlearn: 0.6698858\ttotal: 2.13s\tremaining: 6.51s\n",
      "37:\tlearn: 0.6693947\ttotal: 2.19s\tremaining: 6.46s\n",
      "38:\tlearn: 0.6688826\ttotal: 2.25s\tremaining: 6.41s\n",
      "39:\tlearn: 0.6683951\ttotal: 2.31s\tremaining: 6.36s\n",
      "40:\tlearn: 0.6679016\ttotal: 2.37s\tremaining: 6.31s\n",
      "41:\tlearn: 0.6674500\ttotal: 2.39s\tremaining: 6.13s\n",
      "42:\tlearn: 0.6670236\ttotal: 2.41s\tremaining: 5.99s\n",
      "43:\tlearn: 0.6665075\ttotal: 2.47s\tremaining: 5.95s\n",
      "44:\tlearn: 0.6660284\ttotal: 2.53s\tremaining: 5.9s\n",
      "45:\tlearn: 0.6656032\ttotal: 2.59s\tremaining: 5.85s\n",
      "46:\tlearn: 0.6651267\ttotal: 2.65s\tremaining: 5.81s\n",
      "47:\tlearn: 0.6646940\ttotal: 2.71s\tremaining: 5.76s\n",
      "48:\tlearn: 0.6642485\ttotal: 2.77s\tremaining: 5.72s\n",
      "49:\tlearn: 0.6638440\ttotal: 2.83s\tremaining: 5.66s\n",
      "50:\tlearn: 0.6634634\ttotal: 2.85s\tremaining: 5.54s\n",
      "51:\tlearn: 0.6629906\ttotal: 2.92s\tremaining: 5.49s\n",
      "52:\tlearn: 0.6625271\ttotal: 2.98s\tremaining: 5.45s\n",
      "53:\tlearn: 0.6621077\ttotal: 3.04s\tremaining: 5.4s\n",
      "54:\tlearn: 0.6617192\ttotal: 3.1s\tremaining: 5.35s\n",
      "55:\tlearn: 0.6613090\ttotal: 3.16s\tremaining: 5.3s\n",
      "56:\tlearn: 0.6609766\ttotal: 3.17s\tremaining: 5.18s\n",
      "57:\tlearn: 0.6605399\ttotal: 3.23s\tremaining: 5.13s\n",
      "58:\tlearn: 0.6600801\ttotal: 3.29s\tremaining: 5.08s\n",
      "59:\tlearn: 0.6596988\ttotal: 3.36s\tremaining: 5.04s\n",
      "60:\tlearn: 0.6592074\ttotal: 3.42s\tremaining: 4.99s\n",
      "61:\tlearn: 0.6587872\ttotal: 3.48s\tremaining: 4.93s\n",
      "62:\tlearn: 0.6584003\ttotal: 3.54s\tremaining: 4.88s\n",
      "63:\tlearn: 0.6579925\ttotal: 3.6s\tremaining: 4.84s\n",
      "64:\tlearn: 0.6576047\ttotal: 3.67s\tremaining: 4.79s\n",
      "65:\tlearn: 0.6572279\ttotal: 3.74s\tremaining: 4.76s\n",
      "66:\tlearn: 0.6568554\ttotal: 3.8s\tremaining: 4.71s\n",
      "67:\tlearn: 0.6564760\ttotal: 3.86s\tremaining: 4.66s\n",
      "68:\tlearn: 0.6560149\ttotal: 3.92s\tremaining: 4.61s\n",
      "69:\tlearn: 0.6555969\ttotal: 3.98s\tremaining: 4.55s\n",
      "70:\tlearn: 0.6552009\ttotal: 4.04s\tremaining: 4.5s\n",
      "71:\tlearn: 0.6548262\ttotal: 4.1s\tremaining: 4.44s\n",
      "72:\tlearn: 0.6544479\ttotal: 4.16s\tremaining: 4.39s\n",
      "73:\tlearn: 0.6540724\ttotal: 4.22s\tremaining: 4.34s\n",
      "74:\tlearn: 0.6536983\ttotal: 4.28s\tremaining: 4.28s\n",
      "75:\tlearn: 0.6533934\ttotal: 4.35s\tremaining: 4.23s\n",
      "76:\tlearn: 0.6530208\ttotal: 4.41s\tremaining: 4.18s\n",
      "77:\tlearn: 0.6526433\ttotal: 4.46s\tremaining: 4.12s\n",
      "78:\tlearn: 0.6522986\ttotal: 4.52s\tremaining: 4.07s\n",
      "79:\tlearn: 0.6519993\ttotal: 4.58s\tremaining: 4.01s\n",
      "80:\tlearn: 0.6516531\ttotal: 4.65s\tremaining: 3.96s\n",
      "81:\tlearn: 0.6513658\ttotal: 4.71s\tremaining: 3.9s\n",
      "82:\tlearn: 0.6509967\ttotal: 4.77s\tremaining: 3.85s\n",
      "83:\tlearn: 0.6506394\ttotal: 4.83s\tremaining: 3.79s\n",
      "84:\tlearn: 0.6503203\ttotal: 4.89s\tremaining: 3.74s\n",
      "85:\tlearn: 0.6500192\ttotal: 4.95s\tremaining: 3.68s\n",
      "86:\tlearn: 0.6497251\ttotal: 5.01s\tremaining: 3.63s\n",
      "87:\tlearn: 0.6493523\ttotal: 5.07s\tremaining: 3.57s\n",
      "88:\tlearn: 0.6491137\ttotal: 5.13s\tremaining: 3.52s\n",
      "89:\tlearn: 0.6488087\ttotal: 5.19s\tremaining: 3.46s\n",
      "90:\tlearn: 0.6485208\ttotal: 5.25s\tremaining: 3.4s\n",
      "91:\tlearn: 0.6482314\ttotal: 5.31s\tremaining: 3.35s\n",
      "92:\tlearn: 0.6479024\ttotal: 5.38s\tremaining: 3.29s\n",
      "93:\tlearn: 0.6476083\ttotal: 5.43s\tremaining: 3.24s\n",
      "94:\tlearn: 0.6473416\ttotal: 5.49s\tremaining: 3.18s\n",
      "95:\tlearn: 0.6470465\ttotal: 5.55s\tremaining: 3.12s\n",
      "96:\tlearn: 0.6467714\ttotal: 5.62s\tremaining: 3.07s\n",
      "97:\tlearn: 0.6465073\ttotal: 5.67s\tremaining: 3.01s\n",
      "98:\tlearn: 0.6461471\ttotal: 5.73s\tremaining: 2.95s\n",
      "99:\tlearn: 0.6457903\ttotal: 5.79s\tremaining: 2.9s\n",
      "100:\tlearn: 0.6454998\ttotal: 5.85s\tremaining: 2.84s\n",
      "101:\tlearn: 0.6451359\ttotal: 5.91s\tremaining: 2.78s\n",
      "102:\tlearn: 0.6448500\ttotal: 5.97s\tremaining: 2.72s\n",
      "103:\tlearn: 0.6445642\ttotal: 6.03s\tremaining: 2.67s\n",
      "104:\tlearn: 0.6441938\ttotal: 6.09s\tremaining: 2.61s\n",
      "105:\tlearn: 0.6438473\ttotal: 6.15s\tremaining: 2.55s\n",
      "106:\tlearn: 0.6435277\ttotal: 6.21s\tremaining: 2.5s\n",
      "107:\tlearn: 0.6432522\ttotal: 6.27s\tremaining: 2.44s\n",
      "108:\tlearn: 0.6429003\ttotal: 6.33s\tremaining: 2.38s\n",
      "109:\tlearn: 0.6425943\ttotal: 6.39s\tremaining: 2.32s\n",
      "110:\tlearn: 0.6423517\ttotal: 6.45s\tremaining: 2.27s\n",
      "111:\tlearn: 0.6420581\ttotal: 6.51s\tremaining: 2.21s\n",
      "112:\tlearn: 0.6417819\ttotal: 6.57s\tremaining: 2.15s\n",
      "113:\tlearn: 0.6413778\ttotal: 6.63s\tremaining: 2.09s\n",
      "114:\tlearn: 0.6410485\ttotal: 6.69s\tremaining: 2.04s\n",
      "115:\tlearn: 0.6407690\ttotal: 6.75s\tremaining: 1.98s\n",
      "116:\tlearn: 0.6405535\ttotal: 6.82s\tremaining: 1.92s\n",
      "117:\tlearn: 0.6402992\ttotal: 6.88s\tremaining: 1.86s\n",
      "118:\tlearn: 0.6398810\ttotal: 6.94s\tremaining: 1.81s\n",
      "119:\tlearn: 0.6396869\ttotal: 7s\tremaining: 1.75s\n",
      "120:\tlearn: 0.6393876\ttotal: 7.06s\tremaining: 1.69s\n",
      "121:\tlearn: 0.6390653\ttotal: 7.12s\tremaining: 1.63s\n",
      "122:\tlearn: 0.6387919\ttotal: 7.18s\tremaining: 1.58s\n",
      "123:\tlearn: 0.6385362\ttotal: 7.24s\tremaining: 1.52s\n",
      "124:\tlearn: 0.6382677\ttotal: 7.3s\tremaining: 1.46s\n",
      "125:\tlearn: 0.6378888\ttotal: 7.36s\tremaining: 1.4s\n",
      "126:\tlearn: 0.6376152\ttotal: 7.42s\tremaining: 1.34s\n",
      "127:\tlearn: 0.6373980\ttotal: 7.48s\tremaining: 1.28s\n",
      "128:\tlearn: 0.6371902\ttotal: 7.54s\tremaining: 1.23s\n",
      "129:\tlearn: 0.6369757\ttotal: 7.6s\tremaining: 1.17s\n",
      "130:\tlearn: 0.6366403\ttotal: 7.66s\tremaining: 1.11s\n",
      "131:\tlearn: 0.6363250\ttotal: 7.72s\tremaining: 1.05s\n",
      "132:\tlearn: 0.6360374\ttotal: 7.78s\tremaining: 995ms\n",
      "133:\tlearn: 0.6358087\ttotal: 7.84s\tremaining: 937ms\n",
      "134:\tlearn: 0.6356044\ttotal: 7.9s\tremaining: 878ms\n",
      "135:\tlearn: 0.6353856\ttotal: 7.96s\tremaining: 820ms\n",
      "136:\tlearn: 0.6350216\ttotal: 8.03s\tremaining: 762ms\n",
      "137:\tlearn: 0.6347393\ttotal: 8.09s\tremaining: 703ms\n",
      "138:\tlearn: 0.6343805\ttotal: 8.15s\tremaining: 645ms\n",
      "139:\tlearn: 0.6341356\ttotal: 8.22s\tremaining: 587ms\n",
      "140:\tlearn: 0.6338903\ttotal: 8.28s\tremaining: 529ms\n",
      "141:\tlearn: 0.6336142\ttotal: 8.34s\tremaining: 470ms\n",
      "142:\tlearn: 0.6332818\ttotal: 8.4s\tremaining: 411ms\n",
      "143:\tlearn: 0.6330433\ttotal: 8.47s\tremaining: 353ms\n",
      "144:\tlearn: 0.6328495\ttotal: 8.53s\tremaining: 294ms\n",
      "145:\tlearn: 0.6325995\ttotal: 8.59s\tremaining: 235ms\n",
      "146:\tlearn: 0.6322767\ttotal: 8.65s\tremaining: 177ms\n",
      "147:\tlearn: 0.6320598\ttotal: 8.71s\tremaining: 118ms\n",
      "148:\tlearn: 0.6318029\ttotal: 8.78s\tremaining: 58.9ms\n",
      "149:\tlearn: 0.6315722\ttotal: 8.84s\tremaining: 0us\n"
     ]
    },
    {
     "data": {
      "text/plain": "<catboost.core.CatBoostClassifier at 0x1ffaeb3e750>"
     },
     "execution_count": 198,
     "metadata": {},
     "output_type": "execute_result"
    }
   ],
   "source": [
    "from catboost import CatBoostClassifier\n",
    "\n",
    "\n",
    "# CatBoost 모델 생성 및 학습\n",
    "model_catboost = CatBoostClassifier(iterations=150, depth=10, learning_rate=0.01, loss_function='MultiClass', cat_features=[0, 1])\n",
    "model_catboost.fit(X_train, y_train)"
   ],
   "metadata": {
    "collapsed": false,
    "ExecuteTime": {
     "end_time": "2023-11-28T10:08:12.700595300Z",
     "start_time": "2023-11-28T10:08:03.761732800Z"
    }
   },
   "id": "de481659e24fe37e"
  },
  {
   "cell_type": "code",
   "execution_count": 199,
   "outputs": [],
   "source": [
    "# 예측\n",
    "y_pred_catboost = model_catboost.predict(X_test)"
   ],
   "metadata": {
    "collapsed": false,
    "ExecuteTime": {
     "end_time": "2023-11-28T10:08:12.709320400Z",
     "start_time": "2023-11-28T10:08:12.698600800Z"
    }
   },
   "id": "b568b5bf3a8d9244"
  },
  {
   "cell_type": "code",
   "execution_count": 200,
   "outputs": [
    {
     "name": "stdout",
     "output_type": "stream",
     "text": [
      "CatBoost Accuracy: 0.621\n"
     ]
    }
   ],
   "source": [
    "# 정확도 평가\n",
    "accuracy_catboost = accuracy_score(y_test, y_pred_catboost)\n",
    "print(f\"CatBoost Accuracy: {accuracy_catboost}\")"
   ],
   "metadata": {
    "collapsed": false,
    "ExecuteTime": {
     "end_time": "2023-11-28T10:08:13.153575400Z",
     "start_time": "2023-11-28T10:08:13.140993500Z"
    }
   },
   "id": "569d1eda2452a266"
  },
  {
   "cell_type": "code",
   "execution_count": null,
   "outputs": [],
   "source": [],
   "metadata": {
    "collapsed": false
   },
   "id": "41f44fec1e987911"
  },
  {
   "cell_type": "code",
   "execution_count": 201,
   "outputs": [
    {
     "data": {
      "text/plain": "<Figure size 640x480 with 2 Axes>",
      "image/png": "[encoded data removed]"
     },
     "metadata": {},
     "output_type": "display_data"
    }
   ],
   "source": [
    "# Confusion Matrix 생성\n",
    "cm = confusion_matrix(y_test, y_pred_catboost)\n",
    "\n",
    "# 시각화\n",
    "plt.imshow(cm, interpolation='nearest', cmap=plt.cm.Blues)\n",
    "plt.title('CatBoost Confusion Matrix Accuracy {}'.format(round((accuracy_catboost),2)))\n",
    "plt.colorbar()\n",
    "\n",
    "classes = model_catboost.classes_\n",
    "tick_marks = np.arange(len(classes))\n",
    "plt.xticks(tick_marks, classes)\n",
    "plt.yticks(tick_marks, classes)\n",
    "\n",
    "plt.xlabel('Predicted')\n",
    "plt.ylabel('True')\n",
    "\n",
    "for i in range(len(classes)):\n",
    "    for j in range(len(classes)):\n",
    "        plt.text(j, i, format(cm[i, j], 'd'), horizontalalignment=\"center\", color=\"white\" if cm[i, j] > cm.max() / 2 else \"black\")\n",
    "\n",
    "plt.show()"
   ],
   "metadata": {
    "collapsed": false,
    "ExecuteTime": {
     "end_time": "2023-11-28T10:08:14.541328600Z",
     "start_time": "2023-11-28T10:08:14.388346900Z"
    }
   },
   "id": "f66f595425698845"
  },
  {
   "cell_type": "code",
   "execution_count": 214,
   "outputs": [
    {
     "name": "stdout",
     "output_type": "stream",
     "text": [
      "<class 'pandas.core.frame.DataFrame'>\n",
      "RangeIndex: 10000 entries, 0 to 9999\n",
      "Data columns (total 21 columns):\n",
      " #   Column                             Non-Null Count  Dtype   \n",
      "---  ------                             --------------  -----   \n",
      " 0   subscription_duration              10000 non-null  int64   \n",
      " 1   recent_login_time                  10000 non-null  int64   \n",
      " 2   average_login_time                 10000 non-null  float64 \n",
      " 3   average_time_per_learning_session  10000 non-null  float64 \n",
      " 4   monthly_active_learning_days       10000 non-null  int64   \n",
      " 5   total_completed_courses            10000 non-null  int64   \n",
      " 6   recent_learning_achievement        10000 non-null  float64 \n",
      " 7   abandoned_learning_sessions        10000 non-null  int64   \n",
      " 8   community_engagement_level         10000 non-null  int64   \n",
      " 9   preferred_difficulty_level         10000 non-null  int32   \n",
      " 10  subscription_type                  10000 non-null  int32   \n",
      " 11  customer_inquiry_history           10000 non-null  int64   \n",
      " 12  target                             10000 non-null  category\n",
      " 13  payment_pattern_5                  10000 non-null  int32   \n",
      " 14  payment_pattern_6                  10000 non-null  int32   \n",
      " 15  payment_pattern_7                  10000 non-null  int32   \n",
      " 16  payment_pattern_0                  10000 non-null  int32   \n",
      " 17  payment_pattern_1                  10000 non-null  int32   \n",
      " 18  payment_pattern_3                  10000 non-null  int32   \n",
      " 19  payment_pattern_4                  10000 non-null  int32   \n",
      " 20  payment_pattern_2                  10000 non-null  int32   \n",
      "dtypes: category(1), float64(3), int32(10), int64(7)\n",
      "memory usage: 1.2 MB\n"
     ]
    }
   ],
   "source": [
    "train.info()"
   ],
   "metadata": {
    "collapsed": false,
    "ExecuteTime": {
     "end_time": "2023-11-28T10:24:46.616746800Z",
     "start_time": "2023-11-28T10:24:46.538635Z"
    }
   },
   "id": "8b9384d9b009182f"
  },
  {
   "cell_type": "code",
   "execution_count": 281,
   "outputs": [],
   "source": [
    "pred_final = model_xgb.predict(test)"
   ],
   "metadata": {
    "collapsed": false,
    "ExecuteTime": {
     "end_time": "2023-11-29T08:10:04.803820300Z",
     "start_time": "2023-11-29T08:10:04.785868300Z"
    }
   },
   "id": "a3d5612b7371ee2d"
  },
  {
   "cell_type": "code",
   "execution_count": 282,
   "outputs": [],
   "source": [
    "submit = pd.DataFrame({\n",
    "    'user_id': test_id,\n",
    "    'target': pred_final.flatten()\n",
    "})"
   ],
   "metadata": {
    "collapsed": false,
    "ExecuteTime": {
     "end_time": "2023-11-29T08:10:08.052302600Z",
     "start_time": "2023-11-29T08:10:08.031585200Z"
    }
   },
   "id": "d6b02d53b20c9390"
  },
  {
   "cell_type": "code",
   "execution_count": 283,
   "outputs": [],
   "source": [
    "submit.to_csv(\"../submission_data/3.csv\", index = False)"
   ],
   "metadata": {
    "collapsed": false,
    "ExecuteTime": {
     "end_time": "2023-11-29T08:10:09.410255600Z",
     "start_time": "2023-11-29T08:10:09.376345700Z"
    }
   },
   "id": "292575eb5fd02ba7"
  },
  {
   "cell_type": "code",
   "execution_count": null,
   "outputs": [],
   "source": [],
   "metadata": {
    "collapsed": false
   },
   "id": "20476d72fdd3ce1d"
  }
 ],
 "metadata": {
  "kernelspec": {
   "display_name": "Python 3",
   "language": "python",
   "name": "python3"
  },
  "language_info": {
   "codemirror_mode": {
    "name": "ipython",
    "version": 2
   },
   "file_extension": ".py",
   "mimetype": "text/x-python",
   "name": "python",
   "nbconvert_exporter": "python",
   "pygments_lexer": "ipython2",
   "version": "2.7.6"
  }
 },
 "nbformat": 4,
 "nbformat_minor": 5
}

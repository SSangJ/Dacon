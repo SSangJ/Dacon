{
 "cells": [
  {
   "cell_type": "code",
   "execution_count": 51,
   "outputs": [],
   "source": [
    "# train3에서 deeplearning(pytorch)\n"
   ],
   "metadata": {
    "collapsed": false,
    "ExecuteTime": {
     "end_time": "2023-11-30T11:34:58.144582900Z",
     "start_time": "2023-11-30T11:34:58.112051800Z"
    }
   },
   "id": "74f713adb0ed743b"
  },
  {
   "cell_type": "code",
   "execution_count": 52,
   "id": "initial_id",
   "metadata": {
    "collapsed": true,
    "ExecuteTime": {
     "end_time": "2023-11-30T11:34:58.326614300Z",
     "start_time": "2023-11-30T11:34:58.312559600Z"
    }
   },
   "outputs": [
    {
     "name": "stdout",
     "output_type": "stream",
     "text": [
      "cuda:0\n"
     ]
    }
   ],
   "source": [
    "import torch\n",
    "device = torch.device('cuda:0' if torch.cuda.is_available() else 'cpu')\n",
    "print(device)"
   ]
  },
  {
   "cell_type": "code",
   "execution_count": 53,
   "outputs": [],
   "source": [
    "import matplotlib.pyplot as plt\n",
    "import pandas as pd\n",
    "import numpy as np\n",
    "import seaborn as sns\n",
    "import tqdm\n",
    "\n",
    "from sklearn.model_selection import train_test_split\n",
    "from sklearn.cluster import DBSCAN\n",
    "from imblearn.over_sampling import RandomOverSampler\n",
    "from sklearn.model_selection import train_test_split\n",
    "from sklearn.metrics import confusion_matrix, accuracy_score, f1_score\n",
    "from sklearn.model_selection import GridSearchCV\n",
    "from sklearn.preprocessing import MinMaxScaler\n",
    "\n",
    "import torch\n",
    "import torch.nn as nn\n",
    "import torch.nn.functional as F\n",
    "from torch.utils.data import Dataset, DataLoader\n",
    "import torch.optim as optim\n",
    "import torch.utils.data as data\n",
    "from sklearn.datasets import make_classification"
   ],
   "metadata": {
    "collapsed": false,
    "ExecuteTime": {
     "end_time": "2023-11-30T11:34:58.525671200Z",
     "start_time": "2023-11-30T11:34:58.524166200Z"
    }
   },
   "id": "55a17efe969dce4a"
  },
  {
   "cell_type": "code",
   "execution_count": 54,
   "outputs": [],
   "source": [
    "import warnings\n",
    "\n",
    "# 경고 무시\n",
    "warnings.filterwarnings(\"ignore\", category=FutureWarning)"
   ],
   "metadata": {
    "collapsed": false,
    "ExecuteTime": {
     "end_time": "2023-11-30T11:34:58.724981200Z",
     "start_time": "2023-11-30T11:34:58.701881700Z"
    }
   },
   "id": "1b0336f4ab645e18"
  },
  {
   "cell_type": "code",
   "execution_count": 55,
   "outputs": [],
   "source": [
    "import os\n",
    "os.environ['KMP_DUPLICATE_LIB_OK']='True'"
   ],
   "metadata": {
    "collapsed": false,
    "ExecuteTime": {
     "end_time": "2023-11-30T11:34:58.901721800Z",
     "start_time": "2023-11-30T11:34:58.890244400Z"
    }
   },
   "id": "83740237a18a3c40"
  },
  {
   "cell_type": "code",
   "execution_count": 56,
   "outputs": [],
   "source": [
    "# 가상 데이터 생성\n",
    "X, y = make_classification(n_samples=1000, n_features=20, n_classes=2, random_state=42)\n",
    "X_train, X_test, y_train, y_test = train_test_split(X, y, test_size=0.2, random_state=42)"
   ],
   "metadata": {
    "collapsed": false,
    "ExecuteTime": {
     "end_time": "2023-11-30T11:34:59.308458Z",
     "start_time": "2023-11-30T11:34:59.274593300Z"
    }
   },
   "id": "7465295ae101cedc"
  },
  {
   "cell_type": "code",
   "execution_count": 57,
   "outputs": [],
   "source": [
    "input_dim = 20\n",
    "hidden_dim1 = 64\n",
    "hidden_dim2 = 32\n",
    "output_dim = 1"
   ],
   "metadata": {
    "collapsed": false,
    "ExecuteTime": {
     "end_time": "2023-11-30T11:34:59.537991100Z",
     "start_time": "2023-11-30T11:34:59.505082200Z"
    }
   },
   "id": "6d5ff80143d953f6"
  },
  {
   "cell_type": "code",
   "execution_count": 58,
   "outputs": [],
   "source": [
    "CFG = {\n",
    "    'EPOCHS': 100,\n",
    "    'LEARNING_RATE': 1e-3,\n",
    "    'BATCH_SIZE': 32,\n",
    "    'SEED': 42\n",
    "}"
   ],
   "metadata": {
    "collapsed": false,
    "ExecuteTime": {
     "end_time": "2023-11-30T11:34:59.746535200Z",
     "start_time": "2023-11-30T11:34:59.733063600Z"
    }
   },
   "id": "164944268d55264c"
  },
  {
   "cell_type": "code",
   "execution_count": 59,
   "outputs": [],
   "source": [
    "train = pd.read_csv(\"../data/train.csv\")\n",
    "test = pd.read_csv(\"../data/test.csv\")\n",
    "train = train.drop(['user_id'], axis=1)\n",
    "test_id = test['user_id'].values\n",
    "test = test.drop(['user_id'], axis=1)"
   ],
   "metadata": {
    "collapsed": false,
    "ExecuteTime": {
     "end_time": "2023-11-30T11:34:59.788041600Z",
     "start_time": "2023-11-30T11:34:59.743544300Z"
    }
   },
   "id": "3b1f82b6884d36a4"
  },
  {
   "cell_type": "code",
   "execution_count": 60,
   "outputs": [
    {
     "name": "stdout",
     "output_type": "stream",
     "text": [
      "<class 'pandas.core.frame.DataFrame'>\n",
      "RangeIndex: 10000 entries, 0 to 9999\n",
      "Data columns (total 14 columns):\n",
      " #   Column                             Non-Null Count  Dtype  \n",
      "---  ------                             --------------  -----  \n",
      " 0   subscription_duration              10000 non-null  int64  \n",
      " 1   recent_login_time                  10000 non-null  int64  \n",
      " 2   average_login_time                 10000 non-null  float64\n",
      " 3   average_time_per_learning_session  10000 non-null  float64\n",
      " 4   monthly_active_learning_days       10000 non-null  int64  \n",
      " 5   total_completed_courses            10000 non-null  int64  \n",
      " 6   recent_learning_achievement        10000 non-null  float64\n",
      " 7   abandoned_learning_sessions        10000 non-null  int64  \n",
      " 8   community_engagement_level         10000 non-null  int64  \n",
      " 9   preferred_difficulty_level         10000 non-null  object \n",
      " 10  subscription_type                  10000 non-null  object \n",
      " 11  customer_inquiry_history           10000 non-null  int64  \n",
      " 12  payment_pattern                    10000 non-null  int64  \n",
      " 13  target                             10000 non-null  int64  \n",
      "dtypes: float64(3), int64(9), object(2)\n",
      "memory usage: 1.1+ MB\n"
     ]
    }
   ],
   "source": [
    "train.info()"
   ],
   "metadata": {
    "collapsed": false,
    "ExecuteTime": {
     "end_time": "2023-11-30T11:34:59.961673300Z",
     "start_time": "2023-11-30T11:34:59.955288100Z"
    }
   },
   "id": "f968f2db3e6f708a"
  },
  {
   "cell_type": "code",
   "execution_count": 61,
   "outputs": [],
   "source": [
    "# preferred_difficulty_level 열 인코딩\n",
    "train.loc[train['preferred_difficulty_level'].values == 'Low','preferred_difficulty_level'] = 0\n",
    "train.loc[train['preferred_difficulty_level'].values == 'Medium','preferred_difficulty_level'] = 1\n",
    "train.loc[train['preferred_difficulty_level'].values == 'High','preferred_difficulty_level'] = 2\n",
    "\n",
    "test.loc[test['preferred_difficulty_level'].values == 'Low','preferred_difficulty_level'] = 0\n",
    "test.loc[test['preferred_difficulty_level'].values == 'Medium','preferred_difficulty_level'] = 1\n",
    "test.loc[test['preferred_difficulty_level'].values == 'High','preferred_difficulty_level'] = 2\n",
    "train['preferred_difficulty_level'] = train['preferred_difficulty_level'].astype(int)"
   ],
   "metadata": {
    "collapsed": false,
    "ExecuteTime": {
     "end_time": "2023-11-30T11:35:00.199551200Z",
     "start_time": "2023-11-30T11:35:00.178812300Z"
    }
   },
   "id": "8b3d24ddf355e209"
  },
  {
   "cell_type": "code",
   "execution_count": 62,
   "outputs": [
    {
     "name": "stdout",
     "output_type": "stream",
     "text": [
      "<class 'pandas.core.frame.DataFrame'>\n",
      "RangeIndex: 10000 entries, 0 to 9999\n",
      "Data columns (total 14 columns):\n",
      " #   Column                             Non-Null Count  Dtype  \n",
      "---  ------                             --------------  -----  \n",
      " 0   subscription_duration              10000 non-null  int64  \n",
      " 1   recent_login_time                  10000 non-null  int64  \n",
      " 2   average_login_time                 10000 non-null  float64\n",
      " 3   average_time_per_learning_session  10000 non-null  float64\n",
      " 4   monthly_active_learning_days       10000 non-null  int64  \n",
      " 5   total_completed_courses            10000 non-null  int64  \n",
      " 6   recent_learning_achievement        10000 non-null  float64\n",
      " 7   abandoned_learning_sessions        10000 non-null  int64  \n",
      " 8   community_engagement_level         10000 non-null  int64  \n",
      " 9   preferred_difficulty_level         10000 non-null  int32  \n",
      " 10  subscription_type                  10000 non-null  object \n",
      " 11  customer_inquiry_history           10000 non-null  int64  \n",
      " 12  payment_pattern                    10000 non-null  int64  \n",
      " 13  target                             10000 non-null  int64  \n",
      "dtypes: float64(3), int32(1), int64(9), object(1)\n",
      "memory usage: 1.0+ MB\n"
     ]
    }
   ],
   "source": [
    "train.info()"
   ],
   "metadata": {
    "collapsed": false,
    "ExecuteTime": {
     "end_time": "2023-11-30T11:35:00.365284Z",
     "start_time": "2023-11-30T11:35:00.348761700Z"
    }
   },
   "id": "9eba8c660c9ff572"
  },
  {
   "cell_type": "code",
   "execution_count": 63,
   "outputs": [],
   "source": [
    "from sklearn.preprocessing import StandardScaler, LabelEncoder\n",
    "\n",
    "# 데이터 스케일링을 위한 StandardScaler 인스턴스 생성\n",
    "scaler = StandardScaler()\n",
    "categoric_col =['subscription_type']\n",
    "label_encoders = {}\n",
    "for col in categoric_col:\n",
    "    label_encoders[col] = LabelEncoder()\n",
    "    train[col] = label_encoders[col].fit_transform(train[col])\n",
    "    test[col] = label_encoders[col].fit_transform(test[col])"
   ],
   "metadata": {
    "collapsed": false,
    "ExecuteTime": {
     "end_time": "2023-11-30T11:35:00.544539800Z",
     "start_time": "2023-11-30T11:35:00.536600300Z"
    }
   },
   "id": "f506f8dd10704945"
  },
  {
   "cell_type": "code",
   "execution_count": 64,
   "outputs": [],
   "source": [
    "# 'payment_pattern' 열에 대한 고유값 확인\n",
    "unique_values = train['payment_pattern'].unique()\n",
    "\n",
    "# 각 고유값에 대해 새로운 열 생성 및 0 또는 1로 설정\n",
    "for value in unique_values:\n",
    "    train[f'payment_pattern_{value}'] = (train['payment_pattern'] == value).astype(int)\n",
    "\n",
    "# 기존 'payment_pattern' 열 삭제\n",
    "train.drop('payment_pattern', axis=1, inplace=True)\n",
    "\n",
    "for value in unique_values:\n",
    "    test[f'payment_pattern_{value}'] = (test['payment_pattern'] == value).astype(int)\n",
    "\n",
    "# 기존 'payment_pattern' 열 삭제\n",
    "test.drop('payment_pattern', axis=1, inplace=True)"
   ],
   "metadata": {
    "collapsed": false,
    "ExecuteTime": {
     "end_time": "2023-11-30T11:35:00.735566700Z",
     "start_time": "2023-11-30T11:35:00.723331400Z"
    }
   },
   "id": "eb67fdd644e468d"
  },
  {
   "cell_type": "code",
   "execution_count": 65,
   "outputs": [
    {
     "name": "stdout",
     "output_type": "stream",
     "text": [
      "<class 'pandas.core.frame.DataFrame'>\n",
      "RangeIndex: 10000 entries, 0 to 9999\n",
      "Data columns (total 21 columns):\n",
      " #   Column                             Non-Null Count  Dtype  \n",
      "---  ------                             --------------  -----  \n",
      " 0   subscription_duration              10000 non-null  int64  \n",
      " 1   recent_login_time                  10000 non-null  int64  \n",
      " 2   average_login_time                 10000 non-null  float64\n",
      " 3   average_time_per_learning_session  10000 non-null  float64\n",
      " 4   monthly_active_learning_days       10000 non-null  int64  \n",
      " 5   total_completed_courses            10000 non-null  int64  \n",
      " 6   recent_learning_achievement        10000 non-null  float64\n",
      " 7   abandoned_learning_sessions        10000 non-null  int64  \n",
      " 8   community_engagement_level         10000 non-null  int64  \n",
      " 9   preferred_difficulty_level         10000 non-null  int32  \n",
      " 10  subscription_type                  10000 non-null  int32  \n",
      " 11  customer_inquiry_history           10000 non-null  int64  \n",
      " 12  target                             10000 non-null  int64  \n",
      " 13  payment_pattern_5                  10000 non-null  int32  \n",
      " 14  payment_pattern_6                  10000 non-null  int32  \n",
      " 15  payment_pattern_7                  10000 non-null  int32  \n",
      " 16  payment_pattern_0                  10000 non-null  int32  \n",
      " 17  payment_pattern_1                  10000 non-null  int32  \n",
      " 18  payment_pattern_3                  10000 non-null  int32  \n",
      " 19  payment_pattern_4                  10000 non-null  int32  \n",
      " 20  payment_pattern_2                  10000 non-null  int32  \n",
      "dtypes: float64(3), int32(10), int64(8)\n",
      "memory usage: 1.2 MB\n"
     ]
    }
   ],
   "source": [
    "train.info()"
   ],
   "metadata": {
    "collapsed": false,
    "ExecuteTime": {
     "end_time": "2023-11-30T11:35:00.928694800Z",
     "start_time": "2023-11-30T11:35:00.905919600Z"
    }
   },
   "id": "ed96d8a785a94f9f"
  },
  {
   "cell_type": "code",
   "execution_count": 66,
   "outputs": [],
   "source": [
    "train_x = train.drop('target', axis = 1)\n",
    "train_y = train['target']\n",
    "test_x = test"
   ],
   "metadata": {
    "collapsed": false,
    "ExecuteTime": {
     "end_time": "2023-11-30T11:35:01.113689Z",
     "start_time": "2023-11-30T11:35:01.104305100Z"
    }
   },
   "id": "be65679743d2e2c3"
  },
  {
   "cell_type": "code",
   "execution_count": 67,
   "outputs": [],
   "source": [
    "ros = RandomOverSampler(random_state=42)\n",
    "train_x, train_y = ros.fit_resample(train_x, train_y)"
   ],
   "metadata": {
    "collapsed": false,
    "ExecuteTime": {
     "end_time": "2023-11-30T11:35:01.427400800Z",
     "start_time": "2023-11-30T11:35:01.395470500Z"
    }
   },
   "id": "e40a71fc3bcb11e1"
  },
  {
   "cell_type": "code",
   "execution_count": 68,
   "outputs": [
    {
     "data": {
      "text/plain": "       subscription_duration  recent_login_time  average_login_time  \\\n0                         13                 14           14.946163   \n1                         16                 18           18.453224   \n2                         22                  1           16.195228   \n3                          1                 19           17.628656   \n4                          4                  5           21.390656   \n...                      ...                ...                 ...   \n12393                     20                  2           16.757896   \n12394                     13                 26           13.202407   \n12395                     22                  5           17.941786   \n12396                     10                 13           17.234217   \n12397                     12                 16           14.282924   \n\n       average_time_per_learning_session  monthly_active_learning_days  \\\n0                               8.427187                            18   \n1                              72.646087                            16   \n2                              21.774492                            13   \n3                              42.659066                            19   \n4                              30.744287                            19   \n...                                  ...                           ...   \n12393                         124.875916                             5   \n12394                           0.093898                            21   \n12395                          12.046055                            17   \n12396                           2.674188                             4   \n12397                          30.650969                             2   \n\n       total_completed_courses  recent_learning_achievement  \\\n0                           16                    68.360455   \n1                           13                    97.567322   \n2                           14                    94.358763   \n3                           18                    70.153228   \n4                           10                    81.917908   \n...                        ...                          ...   \n12393                       10                    87.939213   \n12394                       18                    72.592572   \n12395                       11                    78.796829   \n12396                       11                    65.069547   \n12397                        9                    56.282120   \n\n       abandoned_learning_sessions  community_engagement_level  \\\n0                                3                           4   \n1                                2                           3   \n2                                3                           4   \n3                                0                           3   \n4                                2                           4   \n...                            ...                         ...   \n12393                            1                           5   \n12394                            5                           5   \n12395                            2                           2   \n12396                            2                           3   \n12397                            4                           2   \n\n       preferred_difficulty_level  subscription_type  \\\n0                               0                  0   \n1                               1                  0   \n2                               1                  1   \n3                               0                  0   \n4                               1                  0   \n...                           ...                ...   \n12393                           0                  0   \n12394                           0                  1   \n12395                           0                  0   \n12396                           0                  0   \n12397                           0                  0   \n\n       customer_inquiry_history  payment_pattern_5  payment_pattern_6  \\\n0                             4                  1                  0   \n1                             1                  0                  1   \n2                             0                  0                  0   \n3                             1                  0                  0   \n4                             3                  0                  0   \n...                         ...                ...                ...   \n12393                         0                  0                  0   \n12394                         3                  0                  0   \n12395                         2                  1                  0   \n12396                         0                  1                  0   \n12397                         1                  1                  0   \n\n       payment_pattern_7  payment_pattern_0  payment_pattern_1  \\\n0                      0                  0                  0   \n1                      0                  0                  0   \n2                      1                  0                  0   \n3                      0                  1                  0   \n4                      0                  1                  0   \n...                  ...                ...                ...   \n12393                  0                  1                  0   \n12394                  0                  0                  0   \n12395                  0                  0                  0   \n12396                  0                  0                  0   \n12397                  0                  0                  0   \n\n       payment_pattern_3  payment_pattern_4  payment_pattern_2  \n0                      0                  0                  0  \n1                      0                  0                  0  \n2                      0                  0                  0  \n3                      0                  0                  0  \n4                      0                  0                  0  \n...                  ...                ...                ...  \n12393                  0                  0                  0  \n12394                  1                  0                  0  \n12395                  0                  0                  0  \n12396                  0                  0                  0  \n12397                  0                  0                  0  \n\n[12398 rows x 20 columns]",
      "text/html": "<div>\n<style scoped>\n    .dataframe tbody tr th:only-of-type {\n        vertical-align: middle;\n    }\n\n    .dataframe tbody tr th {\n        vertical-align: top;\n    }\n\n    .dataframe thead th {\n        text-align: right;\n    }\n</style>\n<table border=\"1\" class=\"dataframe\">\n  <thead>\n    <tr style=\"text-align: right;\">\n      <th></th>\n      <th>subscription_duration</th>\n      <th>recent_login_time</th>\n      <th>average_login_time</th>\n      <th>average_time_per_learning_session</th>\n      <th>monthly_active_learning_days</th>\n      <th>total_completed_courses</th>\n      <th>recent_learning_achievement</th>\n      <th>abandoned_learning_sessions</th>\n      <th>community_engagement_level</th>\n      <th>preferred_difficulty_level</th>\n      <th>subscription_type</th>\n      <th>customer_inquiry_history</th>\n      <th>payment_pattern_5</th>\n      <th>payment_pattern_6</th>\n      <th>payment_pattern_7</th>\n      <th>payment_pattern_0</th>\n      <th>payment_pattern_1</th>\n      <th>payment_pattern_3</th>\n      <th>payment_pattern_4</th>\n      <th>payment_pattern_2</th>\n    </tr>\n  </thead>\n  <tbody>\n    <tr>\n      <th>0</th>\n      <td>13</td>\n      <td>14</td>\n      <td>14.946163</td>\n      <td>8.427187</td>\n      <td>18</td>\n      <td>16</td>\n      <td>68.360455</td>\n      <td>3</td>\n      <td>4</td>\n      <td>0</td>\n      <td>0</td>\n      <td>4</td>\n      <td>1</td>\n      <td>0</td>\n      <td>0</td>\n      <td>0</td>\n      <td>0</td>\n      <td>0</td>\n      <td>0</td>\n      <td>0</td>\n    </tr>\n    <tr>\n      <th>1</th>\n      <td>16</td>\n      <td>18</td>\n      <td>18.453224</td>\n      <td>72.646087</td>\n      <td>16</td>\n      <td>13</td>\n      <td>97.567322</td>\n      <td>2</td>\n      <td>3</td>\n      <td>1</td>\n      <td>0</td>\n      <td>1</td>\n      <td>0</td>\n      <td>1</td>\n      <td>0</td>\n      <td>0</td>\n      <td>0</td>\n      <td>0</td>\n      <td>0</td>\n      <td>0</td>\n    </tr>\n    <tr>\n      <th>2</th>\n      <td>22</td>\n      <td>1</td>\n      <td>16.195228</td>\n      <td>21.774492</td>\n      <td>13</td>\n      <td>14</td>\n      <td>94.358763</td>\n      <td>3</td>\n      <td>4</td>\n      <td>1</td>\n      <td>1</td>\n      <td>0</td>\n      <td>0</td>\n      <td>0</td>\n      <td>1</td>\n      <td>0</td>\n      <td>0</td>\n      <td>0</td>\n      <td>0</td>\n      <td>0</td>\n    </tr>\n    <tr>\n      <th>3</th>\n      <td>1</td>\n      <td>19</td>\n      <td>17.628656</td>\n      <td>42.659066</td>\n      <td>19</td>\n      <td>18</td>\n      <td>70.153228</td>\n      <td>0</td>\n      <td>3</td>\n      <td>0</td>\n      <td>0</td>\n      <td>1</td>\n      <td>0</td>\n      <td>0</td>\n      <td>0</td>\n      <td>1</td>\n      <td>0</td>\n      <td>0</td>\n      <td>0</td>\n      <td>0</td>\n    </tr>\n    <tr>\n      <th>4</th>\n      <td>4</td>\n      <td>5</td>\n      <td>21.390656</td>\n      <td>30.744287</td>\n      <td>19</td>\n      <td>10</td>\n      <td>81.917908</td>\n      <td>2</td>\n      <td>4</td>\n      <td>1</td>\n      <td>0</td>\n      <td>3</td>\n      <td>0</td>\n      <td>0</td>\n      <td>0</td>\n      <td>1</td>\n      <td>0</td>\n      <td>0</td>\n      <td>0</td>\n      <td>0</td>\n    </tr>\n    <tr>\n      <th>...</th>\n      <td>...</td>\n      <td>...</td>\n      <td>...</td>\n      <td>...</td>\n      <td>...</td>\n      <td>...</td>\n      <td>...</td>\n      <td>...</td>\n      <td>...</td>\n      <td>...</td>\n      <td>...</td>\n      <td>...</td>\n      <td>...</td>\n      <td>...</td>\n      <td>...</td>\n      <td>...</td>\n      <td>...</td>\n      <td>...</td>\n      <td>...</td>\n      <td>...</td>\n    </tr>\n    <tr>\n      <th>12393</th>\n      <td>20</td>\n      <td>2</td>\n      <td>16.757896</td>\n      <td>124.875916</td>\n      <td>5</td>\n      <td>10</td>\n      <td>87.939213</td>\n      <td>1</td>\n      <td>5</td>\n      <td>0</td>\n      <td>0</td>\n      <td>0</td>\n      <td>0</td>\n      <td>0</td>\n      <td>0</td>\n      <td>1</td>\n      <td>0</td>\n      <td>0</td>\n      <td>0</td>\n      <td>0</td>\n    </tr>\n    <tr>\n      <th>12394</th>\n      <td>13</td>\n      <td>26</td>\n      <td>13.202407</td>\n      <td>0.093898</td>\n      <td>21</td>\n      <td>18</td>\n      <td>72.592572</td>\n      <td>5</td>\n      <td>5</td>\n      <td>0</td>\n      <td>1</td>\n      <td>3</td>\n      <td>0</td>\n      <td>0</td>\n      <td>0</td>\n      <td>0</td>\n      <td>0</td>\n      <td>1</td>\n      <td>0</td>\n      <td>0</td>\n    </tr>\n    <tr>\n      <th>12395</th>\n      <td>22</td>\n      <td>5</td>\n      <td>17.941786</td>\n      <td>12.046055</td>\n      <td>17</td>\n      <td>11</td>\n      <td>78.796829</td>\n      <td>2</td>\n      <td>2</td>\n      <td>0</td>\n      <td>0</td>\n      <td>2</td>\n      <td>1</td>\n      <td>0</td>\n      <td>0</td>\n      <td>0</td>\n      <td>0</td>\n      <td>0</td>\n      <td>0</td>\n      <td>0</td>\n    </tr>\n    <tr>\n      <th>12396</th>\n      <td>10</td>\n      <td>13</td>\n      <td>17.234217</td>\n      <td>2.674188</td>\n      <td>4</td>\n      <td>11</td>\n      <td>65.069547</td>\n      <td>2</td>\n      <td>3</td>\n      <td>0</td>\n      <td>0</td>\n      <td>0</td>\n      <td>1</td>\n      <td>0</td>\n      <td>0</td>\n      <td>0</td>\n      <td>0</td>\n      <td>0</td>\n      <td>0</td>\n      <td>0</td>\n    </tr>\n    <tr>\n      <th>12397</th>\n      <td>12</td>\n      <td>16</td>\n      <td>14.282924</td>\n      <td>30.650969</td>\n      <td>2</td>\n      <td>9</td>\n      <td>56.282120</td>\n      <td>4</td>\n      <td>2</td>\n      <td>0</td>\n      <td>0</td>\n      <td>1</td>\n      <td>1</td>\n      <td>0</td>\n      <td>0</td>\n      <td>0</td>\n      <td>0</td>\n      <td>0</td>\n      <td>0</td>\n      <td>0</td>\n    </tr>\n  </tbody>\n</table>\n<p>12398 rows × 20 columns</p>\n</div>"
     },
     "execution_count": 68,
     "metadata": {},
     "output_type": "execute_result"
    }
   ],
   "source": [
    "train_x"
   ],
   "metadata": {
    "collapsed": false,
    "ExecuteTime": {
     "end_time": "2023-11-30T11:35:01.626624900Z",
     "start_time": "2023-11-30T11:35:01.596280400Z"
    }
   },
   "id": "1eb85795229919ed"
  },
  {
   "cell_type": "code",
   "execution_count": 69,
   "outputs": [
    {
     "data": {
      "text/plain": "0        0\n1        1\n2        1\n3        1\n4        1\n        ..\n12393    0\n12394    0\n12395    0\n12396    0\n12397    0\nName: target, Length: 12398, dtype: int64"
     },
     "execution_count": 69,
     "metadata": {},
     "output_type": "execute_result"
    }
   ],
   "source": [
    "train_y"
   ],
   "metadata": {
    "collapsed": false,
    "ExecuteTime": {
     "end_time": "2023-11-30T11:35:01.960508800Z",
     "start_time": "2023-11-30T11:35:01.930299Z"
    }
   },
   "id": "bf51db23f32440b"
  },
  {
   "cell_type": "code",
   "execution_count": 70,
   "outputs": [],
   "source": [
    "train_x.fillna(0, inplace=True)\n",
    "test_x.fillna(0, inplace=True)"
   ],
   "metadata": {
    "collapsed": false,
    "ExecuteTime": {
     "end_time": "2023-11-30T11:35:01.960508800Z",
     "start_time": "2023-11-30T11:35:01.934958400Z"
    }
   },
   "id": "fefc0c203676b3c9"
  },
  {
   "cell_type": "code",
   "execution_count": 71,
   "outputs": [],
   "source": [
    "# X와 Y로 나누기\n",
    "X_train, X_test, y_train, y_test = train_test_split(train_x,train_y, test_size=0.2, random_state=40)"
   ],
   "metadata": {
    "collapsed": false,
    "ExecuteTime": {
     "end_time": "2023-11-30T11:35:02.254479Z",
     "start_time": "2023-11-30T11:35:02.248138500Z"
    }
   },
   "id": "3ca0cb4324ce4d6b"
  },
  {
   "cell_type": "code",
   "execution_count": 72,
   "outputs": [],
   "source": [
    "X_train = X_train.values\n",
    "X_test = X_test.values\n",
    "y_train = y_train.values\n",
    "y_test = y_test.values"
   ],
   "metadata": {
    "collapsed": false,
    "ExecuteTime": {
     "end_time": "2023-11-30T11:35:02.549324Z",
     "start_time": "2023-11-30T11:35:02.515591900Z"
    }
   },
   "id": "8e40a2e62dea92aa"
  },
  {
   "cell_type": "code",
   "execution_count": 73,
   "outputs": [],
   "source": [
    "class CustomDataset(Dataset):\n",
    "    def __init__(self, X, Y):\n",
    "        self.X = X\n",
    "        self.Y = Y\n",
    "\n",
    "    def __getitem__(self, index):\n",
    "        return torch.FloatTensor(self.X[index]), torch.LongTensor([self.Y[index]])\n",
    "\n",
    "    def __len__(self):\n",
    "        return len(self.X)"
   ],
   "metadata": {
    "collapsed": false,
    "ExecuteTime": {
     "end_time": "2023-11-30T11:35:02.831903200Z",
     "start_time": "2023-11-30T11:35:02.808289100Z"
    }
   },
   "id": "98425b81e802e18e"
  },
  {
   "cell_type": "code",
   "execution_count": 74,
   "outputs": [],
   "source": [
    "# 데이터 로드\n",
    "train_dataset = CustomDataset(X_train, y_train)\n",
    "train_loader = DataLoader(train_dataset, batch_size=64, shuffle=True)\n",
    "\n",
    "val_dataset = CustomDataset(X_test, y_test)\n",
    "val_loader = DataLoader(val_dataset, batch_size=64, shuffle=False)"
   ],
   "metadata": {
    "collapsed": false,
    "ExecuteTime": {
     "end_time": "2023-11-30T11:35:03.214314600Z",
     "start_time": "2023-11-30T11:35:03.191589800Z"
    }
   },
   "id": "3c01fd3d40cd443e"
  },
  {
   "cell_type": "code",
   "execution_count": 75,
   "outputs": [],
   "source": [
    "# 모델 정의\n",
    "class SimpleDNN(nn.Module):\n",
    "    def __init__(self, input_dim, hidden_dim1, hidden_dim2, output_dim):\n",
    "        super(SimpleDNN, self).__init__()\n",
    "\n",
    "        self.fc1 = nn.Linear(input_dim, hidden_dim1)\n",
    "        self.relu1 = nn.ReLU()\n",
    "        self.fc2 = nn.Linear(hidden_dim1, hidden_dim2)\n",
    "        self.relu2 = nn.ReLU()\n",
    "        self.fc3 = nn.Linear(hidden_dim2, output_dim)\n",
    "\n",
    "    def forward(self, x):\n",
    "        x = self.fc1(x)\n",
    "        x = self.relu1(x)\n",
    "        x = self.fc2(x)\n",
    "        x = self.relu2(x)\n",
    "        x = self.fc3(x)\n",
    "        return x"
   ],
   "metadata": {
    "collapsed": false,
    "ExecuteTime": {
     "end_time": "2023-11-30T11:35:03.665400300Z",
     "start_time": "2023-11-30T11:35:03.644532700Z"
    }
   },
   "id": "64d45d41396100f4"
  },
  {
   "cell_type": "code",
   "execution_count": 87,
   "outputs": [
    {
     "data": {
      "text/plain": "SimpleDNN(\n  (fc1): Linear(in_features=20, out_features=64, bias=True)\n  (relu1): ReLU()\n  (fc2): Linear(in_features=64, out_features=32, bias=True)\n  (relu2): ReLU()\n  (fc3): Linear(in_features=32, out_features=2, bias=True)\n)"
     },
     "execution_count": 87,
     "metadata": {},
     "output_type": "execute_result"
    }
   ],
   "source": [
    "# 모델 초기화 및 손실 함수, 옵티마이저 설정\n",
    "input_dim = 20  # 예시로 20개의 특성\n",
    "hidden_dim1 = 64\n",
    "hidden_dim2 = 32\n",
    "output_dim = 2  # 이진 분류를 위해 출력 차원은 2로 설정\n",
    "model = SimpleDNN(input_dim, hidden_dim1, hidden_dim2, output_dim)\n",
    "criterion = nn.CrossEntropyLoss()\n",
    "optimizer = optim.Adam(model.parameters(), lr=0.001)\n",
    "\n",
    "# 학습\n",
    "device = torch.device('cuda' if torch.cuda.is_available() else 'cpu')\n",
    "model.to(device)"
   ],
   "metadata": {
    "collapsed": false,
    "ExecuteTime": {
     "end_time": "2023-11-30T11:44:16.653345Z",
     "start_time": "2023-11-30T11:44:16.614648900Z"
    }
   },
   "id": "aacc23e9cc1450db"
  },
  {
   "cell_type": "code",
   "execution_count": 88,
   "outputs": [
    {
     "data": {
      "text/plain": "array([0, 1, 1, ..., 0, 0, 0], dtype=int64)"
     },
     "execution_count": 88,
     "metadata": {},
     "output_type": "execute_result"
    }
   ],
   "source": [
    "y_train"
   ],
   "metadata": {
    "collapsed": false,
    "ExecuteTime": {
     "end_time": "2023-11-30T11:44:17.003416200Z",
     "start_time": "2023-11-30T11:44:16.992293200Z"
    }
   },
   "id": "498134d7534bd0f1"
  },
  {
   "cell_type": "code",
   "execution_count": 103,
   "outputs": [
    {
     "name": "stdout",
     "output_type": "stream",
     "text": [
      "Epoch [1/10], Loss: 0.7119, F1 Score (macro): 0.4482\n",
      "Epoch [2/10], Loss: 0.7004, F1 Score (macro): 0.5237\n",
      "Epoch [3/10], Loss: 0.7153, F1 Score (macro): 0.5055\n",
      "Epoch [4/10], Loss: 0.6411, F1 Score (macro): 0.5137\n",
      "Epoch [5/10], Loss: 0.6825, F1 Score (macro): 0.4926\n",
      "Epoch [6/10], Loss: 0.6577, F1 Score (macro): 0.4752\n",
      "Epoch [7/10], Loss: 0.6595, F1 Score (macro): 0.4705\n",
      "Epoch [8/10], Loss: 0.6899, F1 Score (macro): 0.5241\n",
      "Epoch [9/10], Loss: 0.6549, F1 Score (macro): 0.5287\n",
      "Epoch [10/10], Loss: 0.6954, F1 Score (macro): 0.5221\n"
     ]
    }
   ],
   "source": [
    "epochs = 10\n",
    "for epoch in range(epochs):\n",
    "    model.train()\n",
    "    for batch_inputs, batch_labels in train_loader:\n",
    "        batch_inputs, batch_labels = batch_inputs.to(device), batch_labels.to(device)\n",
    "\n",
    "        optimizer.zero_grad()\n",
    "        outputs = model(batch_inputs)\n",
    "        loss = criterion(outputs, batch_labels.squeeze())\n",
    "        loss.backward()\n",
    "        optimizer.step()\n",
    "\n",
    "    # 검증\n",
    "    model.eval()\n",
    "    with torch.no_grad():\n",
    "        all_preds = []\n",
    "        all_labels = []\n",
    "        for val_inputs, val_labels in val_loader:\n",
    "            val_inputs, val_labels = val_inputs.to(device), val_labels.to(device)\n",
    "            val_outputs = model(val_inputs)\n",
    "            val_loss = criterion(val_outputs, val_labels.squeeze())\n",
    "\n",
    "            _, preds = torch.max(val_outputs, 1)\n",
    "            all_preds.extend(preds.cpu().numpy())\n",
    "            all_labels.extend(val_labels.cpu().numpy())\n",
    "        f1 = f1_score(all_labels, all_preds, average='macro')\n",
    "\n",
    "\n",
    "    print(f'Epoch [{epoch + 1}/{epochs}], Loss: {loss.item():.4f}, F1 Score (macro): {f1:.4f}')"
   ],
   "metadata": {
    "collapsed": false,
    "ExecuteTime": {
     "end_time": "2023-11-30T11:47:42.524568800Z",
     "start_time": "2023-11-30T11:47:36.715383200Z"
    }
   },
   "id": "c4a59f93b6bfb579"
  },
  {
   "cell_type": "code",
   "execution_count": 104,
   "outputs": [
    {
     "name": "stdout",
     "output_type": "stream",
     "text": [
      "Validation Accuracy: 3199.27%\n"
     ]
    }
   ],
   "source": [
    "correct = 0\n",
    "total = 0\n",
    "\n",
    "# 모델을 평가 모드로 설정\n",
    "model.eval()\n",
    "\n",
    "# 모델을 현재 사용 가능한 디바이스로 이동\n",
    "device = torch.device(\"cuda:0\" if torch.cuda.is_available() else \"cpu\")\n",
    "model.to(device)\n",
    "\n",
    "with torch.no_grad():\n",
    "    for inputs, labels in val_loader:\n",
    "        # 데이터를 현재 사용 가능한 디바이스로 이동\n",
    "        inputs, labels = inputs.to(device), labels.to(device)\n",
    "\n",
    "        outputs = model(inputs)\n",
    "\n",
    "        # 이진 분류일 경우\n",
    "        if outputs.size(1) == 1:\n",
    "            predicted = (outputs.round()).int()\n",
    "        # 다중 분류일 경우\n",
    "        else:\n",
    "            predicted = torch.argmax(outputs, dim=1)\n",
    "\n",
    "        total += labels.size(0)\n",
    "        correct += (predicted == labels).sum().item()\n",
    "\n",
    "accuracy = correct / total\n",
    "\n",
    "print(\"Validation Accuracy: {:.2%}\".format(accuracy))"
   ],
   "metadata": {
    "collapsed": false,
    "ExecuteTime": {
     "end_time": "2023-11-30T11:47:44.317833300Z",
     "start_time": "2023-11-30T11:47:44.178094400Z"
    }
   },
   "id": "6306f8415a8d5249"
  },
  {
   "cell_type": "code",
   "execution_count": null,
   "outputs": [],
   "source": [],
   "metadata": {
    "collapsed": false
   },
   "id": "1c76822f2d3dd6c3"
  },
  {
   "cell_type": "code",
   "execution_count": null,
   "outputs": [],
   "source": [],
   "metadata": {
    "collapsed": false
   },
   "id": "f5e76b16fc4dee66"
  },
  {
   "cell_type": "code",
   "execution_count": null,
   "outputs": [],
   "source": [],
   "metadata": {
    "collapsed": false
   },
   "id": "2971e4d571ba7c9f"
  },
  {
   "cell_type": "code",
   "execution_count": null,
   "outputs": [],
   "source": [],
   "metadata": {
    "collapsed": false
   },
   "id": "26786ac888c4af07"
  },
  {
   "cell_type": "code",
   "execution_count": 30,
   "outputs": [
    {
     "name": "stdout",
     "output_type": "stream",
     "text": [
      "Batch Inputs: tensor([[ 4.0000, 20.0000, 14.5183,  ...,  0.0000,  0.0000,  0.0000],\n",
      "        [15.0000,  9.0000, 14.1491,  ...,  0.0000,  0.0000,  0.0000],\n",
      "        [ 2.0000, 27.0000, 11.8826,  ...,  0.0000,  0.0000,  0.0000],\n",
      "        ...,\n",
      "        [ 8.0000,  7.0000, 14.9663,  ...,  0.0000,  0.0000,  0.0000],\n",
      "        [23.0000, 11.0000, 15.6848,  ...,  1.0000,  0.0000,  0.0000],\n",
      "        [20.0000, 25.0000, 12.9032,  ...,  0.0000,  0.0000,  0.0000]])\n",
      "Batch Labels: tensor([[0],\n",
      "        [1],\n",
      "        [1],\n",
      "        [1],\n",
      "        [0],\n",
      "        [0],\n",
      "        [0],\n",
      "        [1],\n",
      "        [0],\n",
      "        [0],\n",
      "        [1],\n",
      "        [1],\n",
      "        [1],\n",
      "        [0],\n",
      "        [0],\n",
      "        [0],\n",
      "        [0],\n",
      "        [0],\n",
      "        [1],\n",
      "        [1],\n",
      "        [1],\n",
      "        [0],\n",
      "        [1],\n",
      "        [1],\n",
      "        [0],\n",
      "        [0],\n",
      "        [0],\n",
      "        [0],\n",
      "        [0],\n",
      "        [1],\n",
      "        [1],\n",
      "        [0],\n",
      "        [1],\n",
      "        [0],\n",
      "        [1],\n",
      "        [0],\n",
      "        [1],\n",
      "        [0],\n",
      "        [1],\n",
      "        [0],\n",
      "        [1],\n",
      "        [1],\n",
      "        [0],\n",
      "        [1],\n",
      "        [1],\n",
      "        [0],\n",
      "        [1],\n",
      "        [0],\n",
      "        [0],\n",
      "        [1],\n",
      "        [1],\n",
      "        [0],\n",
      "        [1],\n",
      "        [1],\n",
      "        [1],\n",
      "        [1],\n",
      "        [0],\n",
      "        [1],\n",
      "        [1],\n",
      "        [1],\n",
      "        [0],\n",
      "        [0],\n",
      "        [1],\n",
      "        [1]])\n"
     ]
    }
   ],
   "source": [
    "for batch_inputs, batch_labels in train_loader:\n",
    "    # batch_inputs과 batch_labels은 첫 번째 배치의 데이터입니다.\n",
    "    # 여기에서 원하는 확인 작업을 수행하십시오.\n",
    "    print(\"Batch Inputs:\", batch_inputs)\n",
    "    print(\"Batch Labels:\", batch_labels)\n",
    "\n",
    "    # 원하는 확인 작업을 추가하십시오.\n",
    "\n",
    "    break  # 첫 번째 배치만 확인하고 루프를 종료합니다."
   ],
   "metadata": {
    "collapsed": false,
    "ExecuteTime": {
     "end_time": "2023-11-30T10:58:52.263289Z",
     "start_time": "2023-11-30T10:58:52.221008900Z"
    }
   },
   "id": "9eb591205a07bb09"
  },
  {
   "cell_type": "code",
   "execution_count": 79,
   "outputs": [],
   "source": [
    "class SimpleDNN(nn.Module):\n",
    "    def __init__(self, input_dim, hidden_dim1, hidden_dim2, output_dim):\n",
    "        super(SimpleDNN, self).__init__()\n",
    "\n",
    "        self.fc1 = nn.Linear(input_dim, hidden_dim1)\n",
    "        self.relu1 = nn.ReLU()\n",
    "        self.fc2 = nn.Linear(hidden_dim1, hidden_dim2)\n",
    "        self.relu2 = nn.ReLU()\n",
    "        self.fc3 = nn.Linear(hidden_dim2, output_dim)\n",
    "\n",
    "    def forward(self, x):\n",
    "        x = self.fc1(x)\n",
    "        x = self.relu1(x)\n",
    "        x = self.fc2(x)\n",
    "        x = self.relu2(x)\n",
    "        x = self.fc3(x)\n",
    "        return x\n",
    "\n",
    "    def init_hidden(self, batch_size, device):\n",
    "        # Initialize hidden state and cell state\n",
    "        return (torch.zeros(1, batch_size, self.hidden_size, device=device))\n",
    "    \n"
   ],
   "metadata": {
    "collapsed": false,
    "ExecuteTime": {
     "end_time": "2023-11-30T10:40:03.462746300Z",
     "start_time": "2023-11-30T10:40:03.446761600Z"
    }
   },
   "id": "2e78af0b51587e62"
  },
  {
   "cell_type": "code",
   "execution_count": 80,
   "outputs": [],
   "source": [
    "model = SimpleDNN(input_dim, hidden_dim1, hidden_dim2, output_dim)"
   ],
   "metadata": {
    "collapsed": false,
    "ExecuteTime": {
     "end_time": "2023-11-30T10:40:04.553800100Z",
     "start_time": "2023-11-30T10:40:04.535828400Z"
    }
   },
   "id": "eb52fca67e7642d0"
  },
  {
   "cell_type": "code",
   "execution_count": 81,
   "outputs": [],
   "source": [
    "# 손실 함수 및 옵티마이저 정의\n",
    "criterion = nn.CrossEntropyLoss()  # 예시로 CrossEntropyLoss 사용\n",
    "optimizer = optim.Adam(model.parameters(), lr=0.001)"
   ],
   "metadata": {
    "collapsed": false,
    "ExecuteTime": {
     "end_time": "2023-11-30T10:40:04.854146700Z",
     "start_time": "2023-11-30T10:40:04.834661100Z"
    }
   },
   "id": "7d0c986814396702"
  },
  {
   "cell_type": "code",
   "execution_count": 82,
   "outputs": [],
   "source": [
    "device = torch.device(\"cuda\" if torch.cuda.is_available() else \"cpu\")"
   ],
   "metadata": {
    "collapsed": false,
    "ExecuteTime": {
     "end_time": "2023-11-30T10:40:05.246488900Z",
     "start_time": "2023-11-30T10:40:05.225545600Z"
    }
   },
   "id": "b89a7c06c0be16d2"
  },
  {
   "cell_type": "code",
   "execution_count": 83,
   "outputs": [
    {
     "data": {
      "text/plain": "SimpleDNN(\n  (fc1): Linear(in_features=20, out_features=64, bias=True)\n  (relu1): ReLU()\n  (fc2): Linear(in_features=64, out_features=32, bias=True)\n  (relu2): ReLU()\n  (fc3): Linear(in_features=32, out_features=2, bias=True)\n)"
     },
     "execution_count": 83,
     "metadata": {},
     "output_type": "execute_result"
    }
   ],
   "source": [
    "model.to(device)"
   ],
   "metadata": {
    "collapsed": false,
    "ExecuteTime": {
     "end_time": "2023-11-30T10:40:06.120328Z",
     "start_time": "2023-11-30T10:40:06.101583700Z"
    }
   },
   "id": "b3bccfe8ce4572b4"
  },
  {
   "cell_type": "code",
   "execution_count": 84,
   "outputs": [
    {
     "ename": "RuntimeError",
     "evalue": "0D or 1D target tensor expected, multi-target not supported",
     "output_type": "error",
     "traceback": [
      "\u001B[1;31m---------------------------------------------------------------------------\u001B[0m",
      "\u001B[1;31mRuntimeError\u001B[0m                              Traceback (most recent call last)",
      "Cell \u001B[1;32mIn[84], line 9\u001B[0m\n\u001B[0;32m      7\u001B[0m optimizer\u001B[38;5;241m.\u001B[39mzero_grad()\n\u001B[0;32m      8\u001B[0m outputs \u001B[38;5;241m=\u001B[39m model(batch_inputs)\n\u001B[1;32m----> 9\u001B[0m loss \u001B[38;5;241m=\u001B[39m \u001B[43mcriterion\u001B[49m\u001B[43m(\u001B[49m\u001B[43moutputs\u001B[49m\u001B[43m,\u001B[49m\u001B[43m \u001B[49m\u001B[43mbatch_labels\u001B[49m\u001B[43m)\u001B[49m\n\u001B[0;32m     10\u001B[0m loss\u001B[38;5;241m.\u001B[39mbackward()\n\u001B[0;32m     11\u001B[0m optimizer\u001B[38;5;241m.\u001B[39mstep()\n",
      "File \u001B[1;32m~\\anaconda3\\envs\\study\\Lib\\site-packages\\torch\\nn\\modules\\module.py:1518\u001B[0m, in \u001B[0;36mModule._wrapped_call_impl\u001B[1;34m(self, *args, **kwargs)\u001B[0m\n\u001B[0;32m   1516\u001B[0m     \u001B[38;5;28;01mreturn\u001B[39;00m \u001B[38;5;28mself\u001B[39m\u001B[38;5;241m.\u001B[39m_compiled_call_impl(\u001B[38;5;241m*\u001B[39margs, \u001B[38;5;241m*\u001B[39m\u001B[38;5;241m*\u001B[39mkwargs)  \u001B[38;5;66;03m# type: ignore[misc]\u001B[39;00m\n\u001B[0;32m   1517\u001B[0m \u001B[38;5;28;01melse\u001B[39;00m:\n\u001B[1;32m-> 1518\u001B[0m     \u001B[38;5;28;01mreturn\u001B[39;00m \u001B[38;5;28;43mself\u001B[39;49m\u001B[38;5;241;43m.\u001B[39;49m\u001B[43m_call_impl\u001B[49m\u001B[43m(\u001B[49m\u001B[38;5;241;43m*\u001B[39;49m\u001B[43margs\u001B[49m\u001B[43m,\u001B[49m\u001B[43m \u001B[49m\u001B[38;5;241;43m*\u001B[39;49m\u001B[38;5;241;43m*\u001B[39;49m\u001B[43mkwargs\u001B[49m\u001B[43m)\u001B[49m\n",
      "File \u001B[1;32m~\\anaconda3\\envs\\study\\Lib\\site-packages\\torch\\nn\\modules\\module.py:1527\u001B[0m, in \u001B[0;36mModule._call_impl\u001B[1;34m(self, *args, **kwargs)\u001B[0m\n\u001B[0;32m   1522\u001B[0m \u001B[38;5;66;03m# If we don't have any hooks, we want to skip the rest of the logic in\u001B[39;00m\n\u001B[0;32m   1523\u001B[0m \u001B[38;5;66;03m# this function, and just call forward.\u001B[39;00m\n\u001B[0;32m   1524\u001B[0m \u001B[38;5;28;01mif\u001B[39;00m \u001B[38;5;129;01mnot\u001B[39;00m (\u001B[38;5;28mself\u001B[39m\u001B[38;5;241m.\u001B[39m_backward_hooks \u001B[38;5;129;01mor\u001B[39;00m \u001B[38;5;28mself\u001B[39m\u001B[38;5;241m.\u001B[39m_backward_pre_hooks \u001B[38;5;129;01mor\u001B[39;00m \u001B[38;5;28mself\u001B[39m\u001B[38;5;241m.\u001B[39m_forward_hooks \u001B[38;5;129;01mor\u001B[39;00m \u001B[38;5;28mself\u001B[39m\u001B[38;5;241m.\u001B[39m_forward_pre_hooks\n\u001B[0;32m   1525\u001B[0m         \u001B[38;5;129;01mor\u001B[39;00m _global_backward_pre_hooks \u001B[38;5;129;01mor\u001B[39;00m _global_backward_hooks\n\u001B[0;32m   1526\u001B[0m         \u001B[38;5;129;01mor\u001B[39;00m _global_forward_hooks \u001B[38;5;129;01mor\u001B[39;00m _global_forward_pre_hooks):\n\u001B[1;32m-> 1527\u001B[0m     \u001B[38;5;28;01mreturn\u001B[39;00m \u001B[43mforward_call\u001B[49m\u001B[43m(\u001B[49m\u001B[38;5;241;43m*\u001B[39;49m\u001B[43margs\u001B[49m\u001B[43m,\u001B[49m\u001B[43m \u001B[49m\u001B[38;5;241;43m*\u001B[39;49m\u001B[38;5;241;43m*\u001B[39;49m\u001B[43mkwargs\u001B[49m\u001B[43m)\u001B[49m\n\u001B[0;32m   1529\u001B[0m \u001B[38;5;28;01mtry\u001B[39;00m:\n\u001B[0;32m   1530\u001B[0m     result \u001B[38;5;241m=\u001B[39m \u001B[38;5;28;01mNone\u001B[39;00m\n",
      "File \u001B[1;32m~\\anaconda3\\envs\\study\\Lib\\site-packages\\torch\\nn\\modules\\loss.py:1179\u001B[0m, in \u001B[0;36mCrossEntropyLoss.forward\u001B[1;34m(self, input, target)\u001B[0m\n\u001B[0;32m   1178\u001B[0m \u001B[38;5;28;01mdef\u001B[39;00m \u001B[38;5;21mforward\u001B[39m(\u001B[38;5;28mself\u001B[39m, \u001B[38;5;28minput\u001B[39m: Tensor, target: Tensor) \u001B[38;5;241m-\u001B[39m\u001B[38;5;241m>\u001B[39m Tensor:\n\u001B[1;32m-> 1179\u001B[0m     \u001B[38;5;28;01mreturn\u001B[39;00m \u001B[43mF\u001B[49m\u001B[38;5;241;43m.\u001B[39;49m\u001B[43mcross_entropy\u001B[49m\u001B[43m(\u001B[49m\u001B[38;5;28;43minput\u001B[39;49m\u001B[43m,\u001B[49m\u001B[43m \u001B[49m\u001B[43mtarget\u001B[49m\u001B[43m,\u001B[49m\u001B[43m \u001B[49m\u001B[43mweight\u001B[49m\u001B[38;5;241;43m=\u001B[39;49m\u001B[38;5;28;43mself\u001B[39;49m\u001B[38;5;241;43m.\u001B[39;49m\u001B[43mweight\u001B[49m\u001B[43m,\u001B[49m\n\u001B[0;32m   1180\u001B[0m \u001B[43m                           \u001B[49m\u001B[43mignore_index\u001B[49m\u001B[38;5;241;43m=\u001B[39;49m\u001B[38;5;28;43mself\u001B[39;49m\u001B[38;5;241;43m.\u001B[39;49m\u001B[43mignore_index\u001B[49m\u001B[43m,\u001B[49m\u001B[43m \u001B[49m\u001B[43mreduction\u001B[49m\u001B[38;5;241;43m=\u001B[39;49m\u001B[38;5;28;43mself\u001B[39;49m\u001B[38;5;241;43m.\u001B[39;49m\u001B[43mreduction\u001B[49m\u001B[43m,\u001B[49m\n\u001B[0;32m   1181\u001B[0m \u001B[43m                           \u001B[49m\u001B[43mlabel_smoothing\u001B[49m\u001B[38;5;241;43m=\u001B[39;49m\u001B[38;5;28;43mself\u001B[39;49m\u001B[38;5;241;43m.\u001B[39;49m\u001B[43mlabel_smoothing\u001B[49m\u001B[43m)\u001B[49m\n",
      "File \u001B[1;32m~\\anaconda3\\envs\\study\\Lib\\site-packages\\torch\\nn\\functional.py:3053\u001B[0m, in \u001B[0;36mcross_entropy\u001B[1;34m(input, target, weight, size_average, ignore_index, reduce, reduction, label_smoothing)\u001B[0m\n\u001B[0;32m   3051\u001B[0m \u001B[38;5;28;01mif\u001B[39;00m size_average \u001B[38;5;129;01mis\u001B[39;00m \u001B[38;5;129;01mnot\u001B[39;00m \u001B[38;5;28;01mNone\u001B[39;00m \u001B[38;5;129;01mor\u001B[39;00m reduce \u001B[38;5;129;01mis\u001B[39;00m \u001B[38;5;129;01mnot\u001B[39;00m \u001B[38;5;28;01mNone\u001B[39;00m:\n\u001B[0;32m   3052\u001B[0m     reduction \u001B[38;5;241m=\u001B[39m _Reduction\u001B[38;5;241m.\u001B[39mlegacy_get_string(size_average, reduce)\n\u001B[1;32m-> 3053\u001B[0m \u001B[38;5;28;01mreturn\u001B[39;00m \u001B[43mtorch\u001B[49m\u001B[38;5;241;43m.\u001B[39;49m\u001B[43m_C\u001B[49m\u001B[38;5;241;43m.\u001B[39;49m\u001B[43m_nn\u001B[49m\u001B[38;5;241;43m.\u001B[39;49m\u001B[43mcross_entropy_loss\u001B[49m\u001B[43m(\u001B[49m\u001B[38;5;28;43minput\u001B[39;49m\u001B[43m,\u001B[49m\u001B[43m \u001B[49m\u001B[43mtarget\u001B[49m\u001B[43m,\u001B[49m\u001B[43m \u001B[49m\u001B[43mweight\u001B[49m\u001B[43m,\u001B[49m\u001B[43m \u001B[49m\u001B[43m_Reduction\u001B[49m\u001B[38;5;241;43m.\u001B[39;49m\u001B[43mget_enum\u001B[49m\u001B[43m(\u001B[49m\u001B[43mreduction\u001B[49m\u001B[43m)\u001B[49m\u001B[43m,\u001B[49m\u001B[43m \u001B[49m\u001B[43mignore_index\u001B[49m\u001B[43m,\u001B[49m\u001B[43m \u001B[49m\u001B[43mlabel_smoothing\u001B[49m\u001B[43m)\u001B[49m\n",
      "\u001B[1;31mRuntimeError\u001B[0m: 0D or 1D target tensor expected, multi-target not supported"
     ]
    }
   ],
   "source": [
    "epochs = 10  # 적절한 에폭 설정\n",
    "for epoch in range(epochs):\n",
    "    model.train()\n",
    "    for batch_inputs, batch_labels in train_loader:\n",
    "        batch_inputs, batch_labels = batch_inputs.to(device), batch_labels.to(device)\n",
    "\n",
    "        optimizer.zero_grad()\n",
    "        outputs = model(batch_inputs)\n",
    "        loss = criterion(outputs, batch_labels)\n",
    "        loss.backward()\n",
    "        optimizer.step()\n",
    "\n",
    "    # 검증\n",
    "    model.eval()\n",
    "    with torch.no_grad():\n",
    "        for val_batch_inputs, val_batch_labels in val_loader:\n",
    "            val_batch_inputs, val_batch_labels = val_batch_inputs.to(device), val_batch_labels.to(device)\n",
    "\n",
    "            val_outputs = model(val_batch_inputs)\n",
    "            val_loss = criterion(val_outputs, val_batch_labels)\n",
    "\n",
    "    print(f\"Epoch {epoch+1}/{epochs}, Training Loss: {loss.item()}, Validation Loss: {val_loss.item()}\")"
   ],
   "metadata": {
    "collapsed": false,
    "ExecuteTime": {
     "end_time": "2023-11-30T10:40:08.354272200Z",
     "start_time": "2023-11-30T10:40:07.500880600Z"
    }
   },
   "id": "f216a77e852371fc"
  },
  {
   "cell_type": "code",
   "execution_count": 48,
   "outputs": [],
   "source": [
    "def train(model, optimizer, train_loader, val_loader, device):\n",
    "    model.to(device)\n",
    "    criterion = nn.MSELoss().to(device)\n",
    "    best_loss = 9999999\n",
    "    best_model = None\n",
    "\n",
    "    for epoch in range(1, CFG['EPOCHS']+1):\n",
    "        model.train()\n",
    "        train_loss = []\n",
    "        train_mae = []\n",
    "        for X, Y in tqdm(iter(train_loader)):\n",
    "            X = X.to(device)\n",
    "            Y = Y.to(device)\n",
    "\n",
    "            optimizer.zero_grad()\n",
    "\n",
    "            output = model(X)\n",
    "            loss = criterion(output, Y)\n",
    "\n",
    "            loss.backward()\n",
    "            optimizer.step()\n",
    "\n",
    "            train_loss.append(loss.item())\n",
    "\n",
    "        val_loss = validation(model, val_loader, criterion, device)\n",
    "        print(f'Epoch : [{epoch}] Train Loss : [{np.mean(train_loss):.5f}] Val Loss : [{val_loss:.5f}]')\n",
    "\n",
    "        if best_loss > val_loss:\n",
    "            best_loss = val_loss\n",
    "            best_model = model\n",
    "            print('Model Saved')\n",
    "    return best_model"
   ],
   "metadata": {
    "collapsed": false,
    "ExecuteTime": {
     "end_time": "2023-11-30T09:03:08.368454900Z",
     "start_time": "2023-11-30T09:03:08.350492200Z"
    }
   },
   "id": "871b40347802dbfd"
  },
  {
   "cell_type": "code",
   "execution_count": 47,
   "outputs": [],
   "source": [
    "def validation(model, val_loader, criterion, device):\n",
    "    model.eval()\n",
    "    val_loss = []\n",
    "\n",
    "    with torch.no_grad():\n",
    "        for X, Y in tqdm(iter(val_loader)):\n",
    "            X = X.to(device)\n",
    "            Y = Y.to(device)\n",
    "\n",
    "            output = model(X)\n",
    "            loss = criterion(output, Y)\n",
    "\n",
    "            val_loss.append(loss.item())\n",
    "    return np.mean(val_loss)"
   ],
   "metadata": {
    "collapsed": false,
    "ExecuteTime": {
     "end_time": "2023-11-30T11:34:39.936983200Z",
     "start_time": "2023-11-30T11:34:39.917526100Z"
    }
   },
   "id": "b2adf553584d537"
  },
  {
   "cell_type": "code",
   "execution_count": 48,
   "outputs": [],
   "source": [
    "model = SimpleDNN(input_dim, hidden_dim1, hidden_dim2, output_dim)"
   ],
   "metadata": {
    "collapsed": false,
    "ExecuteTime": {
     "end_time": "2023-11-30T11:34:40.360825500Z",
     "start_time": "2023-11-30T11:34:40.338754300Z"
    }
   },
   "id": "aef9e45aba585d45"
  },
  {
   "cell_type": "code",
   "execution_count": 49,
   "outputs": [],
   "source": [
    "class SimpleDNN(nn.Module):\n",
    "    def __init__(self, input_dim, output_dim, hidden_dims=[64, 32], dropout_rate=0.2):\n",
    "        super(SimpleDNN, self).__init__()\n",
    "\n",
    "        # 첫 번째 은닉층\n",
    "        self.fc1 = nn.Linear(input_dim, hidden_dims[0])\n",
    "        self.dropout1 = nn.Dropout(dropout_rate)\n",
    "\n",
    "        # 두 번째 은닉층\n",
    "        self.fc2 = nn.Linear(hidden_dims[0], hidden_dims[1])\n",
    "        self.dropout2 = nn.Dropout(dropout_rate)\n",
    "\n",
    "        # 출력층\n",
    "        self.fc3 = nn.Linear(hidden_dims[1], output_dim)\n",
    "\n",
    "    def forward(self, x):\n",
    "        # 순전파\n",
    "        x = F.relu(self.fc1(x))\n",
    "        x = self.dropout1(x)\n",
    "\n",
    "        x = F.relu(self.fc2(x))\n",
    "        x = self.dropout2(x)\n",
    "\n",
    "        x = self.fc3(x)\n",
    "        return F.softmax(x, dim=1)\n"
   ],
   "metadata": {
    "collapsed": false,
    "ExecuteTime": {
     "end_time": "2023-11-30T11:34:42.261730Z",
     "start_time": "2023-11-30T11:34:42.239398400Z"
    }
   },
   "id": "8791d3b90b496da5"
  },
  {
   "cell_type": "code",
   "execution_count": 27,
   "outputs": [],
   "source": [
    "model = SimpleDNN(input_dim=20, output_dim=1)"
   ],
   "metadata": {
    "collapsed": false
   },
   "id": "edeedf41824d73c5"
  },
  {
   "cell_type": "code",
   "execution_count": 46,
   "outputs": [
    {
     "ename": "RuntimeError",
     "evalue": "Expected all tensors to be on the same device, but found at least two devices, cuda:0 and cpu! (when checking argument for argument mat1 in method wrapper_CUDA_addmm)",
     "output_type": "error",
     "traceback": [
      "\u001B[1;31m---------------------------------------------------------------------------\u001B[0m",
      "\u001B[1;31mRuntimeError\u001B[0m                              Traceback (most recent call last)",
      "Cell \u001B[1;32mIn[46], line 9\u001B[0m\n\u001B[0;32m      7\u001B[0m \u001B[38;5;28;01mwith\u001B[39;00m torch\u001B[38;5;241m.\u001B[39mno_grad():\n\u001B[0;32m      8\u001B[0m     \u001B[38;5;28;01mfor\u001B[39;00m inputs, labels \u001B[38;5;129;01min\u001B[39;00m val_loader:\n\u001B[1;32m----> 9\u001B[0m         outputs \u001B[38;5;241m=\u001B[39m \u001B[43mmodel\u001B[49m\u001B[43m(\u001B[49m\u001B[43minputs\u001B[49m\u001B[43m)\u001B[49m\n\u001B[0;32m     11\u001B[0m         \u001B[38;5;66;03m# 이진 분류일 경우\u001B[39;00m\n\u001B[0;32m     12\u001B[0m         predicted \u001B[38;5;241m=\u001B[39m (outputs\u001B[38;5;241m.\u001B[39mround())\u001B[38;5;241m.\u001B[39mint()\n",
      "File \u001B[1;32m~\\anaconda3\\envs\\study\\Lib\\site-packages\\torch\\nn\\modules\\module.py:1518\u001B[0m, in \u001B[0;36mModule._wrapped_call_impl\u001B[1;34m(self, *args, **kwargs)\u001B[0m\n\u001B[0;32m   1516\u001B[0m     \u001B[38;5;28;01mreturn\u001B[39;00m \u001B[38;5;28mself\u001B[39m\u001B[38;5;241m.\u001B[39m_compiled_call_impl(\u001B[38;5;241m*\u001B[39margs, \u001B[38;5;241m*\u001B[39m\u001B[38;5;241m*\u001B[39mkwargs)  \u001B[38;5;66;03m# type: ignore[misc]\u001B[39;00m\n\u001B[0;32m   1517\u001B[0m \u001B[38;5;28;01melse\u001B[39;00m:\n\u001B[1;32m-> 1518\u001B[0m     \u001B[38;5;28;01mreturn\u001B[39;00m \u001B[38;5;28;43mself\u001B[39;49m\u001B[38;5;241;43m.\u001B[39;49m\u001B[43m_call_impl\u001B[49m\u001B[43m(\u001B[49m\u001B[38;5;241;43m*\u001B[39;49m\u001B[43margs\u001B[49m\u001B[43m,\u001B[49m\u001B[43m \u001B[49m\u001B[38;5;241;43m*\u001B[39;49m\u001B[38;5;241;43m*\u001B[39;49m\u001B[43mkwargs\u001B[49m\u001B[43m)\u001B[49m\n",
      "File \u001B[1;32m~\\anaconda3\\envs\\study\\Lib\\site-packages\\torch\\nn\\modules\\module.py:1527\u001B[0m, in \u001B[0;36mModule._call_impl\u001B[1;34m(self, *args, **kwargs)\u001B[0m\n\u001B[0;32m   1522\u001B[0m \u001B[38;5;66;03m# If we don't have any hooks, we want to skip the rest of the logic in\u001B[39;00m\n\u001B[0;32m   1523\u001B[0m \u001B[38;5;66;03m# this function, and just call forward.\u001B[39;00m\n\u001B[0;32m   1524\u001B[0m \u001B[38;5;28;01mif\u001B[39;00m \u001B[38;5;129;01mnot\u001B[39;00m (\u001B[38;5;28mself\u001B[39m\u001B[38;5;241m.\u001B[39m_backward_hooks \u001B[38;5;129;01mor\u001B[39;00m \u001B[38;5;28mself\u001B[39m\u001B[38;5;241m.\u001B[39m_backward_pre_hooks \u001B[38;5;129;01mor\u001B[39;00m \u001B[38;5;28mself\u001B[39m\u001B[38;5;241m.\u001B[39m_forward_hooks \u001B[38;5;129;01mor\u001B[39;00m \u001B[38;5;28mself\u001B[39m\u001B[38;5;241m.\u001B[39m_forward_pre_hooks\n\u001B[0;32m   1525\u001B[0m         \u001B[38;5;129;01mor\u001B[39;00m _global_backward_pre_hooks \u001B[38;5;129;01mor\u001B[39;00m _global_backward_hooks\n\u001B[0;32m   1526\u001B[0m         \u001B[38;5;129;01mor\u001B[39;00m _global_forward_hooks \u001B[38;5;129;01mor\u001B[39;00m _global_forward_pre_hooks):\n\u001B[1;32m-> 1527\u001B[0m     \u001B[38;5;28;01mreturn\u001B[39;00m \u001B[43mforward_call\u001B[49m\u001B[43m(\u001B[49m\u001B[38;5;241;43m*\u001B[39;49m\u001B[43margs\u001B[49m\u001B[43m,\u001B[49m\u001B[43m \u001B[49m\u001B[38;5;241;43m*\u001B[39;49m\u001B[38;5;241;43m*\u001B[39;49m\u001B[43mkwargs\u001B[49m\u001B[43m)\u001B[49m\n\u001B[0;32m   1529\u001B[0m \u001B[38;5;28;01mtry\u001B[39;00m:\n\u001B[0;32m   1530\u001B[0m     result \u001B[38;5;241m=\u001B[39m \u001B[38;5;28;01mNone\u001B[39;00m\n",
      "Cell \u001B[1;32mIn[35], line 13\u001B[0m, in \u001B[0;36mSimpleDNN.forward\u001B[1;34m(self, x)\u001B[0m\n\u001B[0;32m     12\u001B[0m \u001B[38;5;28;01mdef\u001B[39;00m \u001B[38;5;21mforward\u001B[39m(\u001B[38;5;28mself\u001B[39m, x):\n\u001B[1;32m---> 13\u001B[0m     x \u001B[38;5;241m=\u001B[39m \u001B[38;5;28;43mself\u001B[39;49m\u001B[38;5;241;43m.\u001B[39;49m\u001B[43mfc1\u001B[49m\u001B[43m(\u001B[49m\u001B[43mx\u001B[49m\u001B[43m)\u001B[49m\n\u001B[0;32m     14\u001B[0m     x \u001B[38;5;241m=\u001B[39m \u001B[38;5;28mself\u001B[39m\u001B[38;5;241m.\u001B[39mrelu1(x)\n\u001B[0;32m     15\u001B[0m     x \u001B[38;5;241m=\u001B[39m \u001B[38;5;28mself\u001B[39m\u001B[38;5;241m.\u001B[39mfc2(x)\n",
      "File \u001B[1;32m~\\anaconda3\\envs\\study\\Lib\\site-packages\\torch\\nn\\modules\\module.py:1518\u001B[0m, in \u001B[0;36mModule._wrapped_call_impl\u001B[1;34m(self, *args, **kwargs)\u001B[0m\n\u001B[0;32m   1516\u001B[0m     \u001B[38;5;28;01mreturn\u001B[39;00m \u001B[38;5;28mself\u001B[39m\u001B[38;5;241m.\u001B[39m_compiled_call_impl(\u001B[38;5;241m*\u001B[39margs, \u001B[38;5;241m*\u001B[39m\u001B[38;5;241m*\u001B[39mkwargs)  \u001B[38;5;66;03m# type: ignore[misc]\u001B[39;00m\n\u001B[0;32m   1517\u001B[0m \u001B[38;5;28;01melse\u001B[39;00m:\n\u001B[1;32m-> 1518\u001B[0m     \u001B[38;5;28;01mreturn\u001B[39;00m \u001B[38;5;28;43mself\u001B[39;49m\u001B[38;5;241;43m.\u001B[39;49m\u001B[43m_call_impl\u001B[49m\u001B[43m(\u001B[49m\u001B[38;5;241;43m*\u001B[39;49m\u001B[43margs\u001B[49m\u001B[43m,\u001B[49m\u001B[43m \u001B[49m\u001B[38;5;241;43m*\u001B[39;49m\u001B[38;5;241;43m*\u001B[39;49m\u001B[43mkwargs\u001B[49m\u001B[43m)\u001B[49m\n",
      "File \u001B[1;32m~\\anaconda3\\envs\\study\\Lib\\site-packages\\torch\\nn\\modules\\module.py:1527\u001B[0m, in \u001B[0;36mModule._call_impl\u001B[1;34m(self, *args, **kwargs)\u001B[0m\n\u001B[0;32m   1522\u001B[0m \u001B[38;5;66;03m# If we don't have any hooks, we want to skip the rest of the logic in\u001B[39;00m\n\u001B[0;32m   1523\u001B[0m \u001B[38;5;66;03m# this function, and just call forward.\u001B[39;00m\n\u001B[0;32m   1524\u001B[0m \u001B[38;5;28;01mif\u001B[39;00m \u001B[38;5;129;01mnot\u001B[39;00m (\u001B[38;5;28mself\u001B[39m\u001B[38;5;241m.\u001B[39m_backward_hooks \u001B[38;5;129;01mor\u001B[39;00m \u001B[38;5;28mself\u001B[39m\u001B[38;5;241m.\u001B[39m_backward_pre_hooks \u001B[38;5;129;01mor\u001B[39;00m \u001B[38;5;28mself\u001B[39m\u001B[38;5;241m.\u001B[39m_forward_hooks \u001B[38;5;129;01mor\u001B[39;00m \u001B[38;5;28mself\u001B[39m\u001B[38;5;241m.\u001B[39m_forward_pre_hooks\n\u001B[0;32m   1525\u001B[0m         \u001B[38;5;129;01mor\u001B[39;00m _global_backward_pre_hooks \u001B[38;5;129;01mor\u001B[39;00m _global_backward_hooks\n\u001B[0;32m   1526\u001B[0m         \u001B[38;5;129;01mor\u001B[39;00m _global_forward_hooks \u001B[38;5;129;01mor\u001B[39;00m _global_forward_pre_hooks):\n\u001B[1;32m-> 1527\u001B[0m     \u001B[38;5;28;01mreturn\u001B[39;00m \u001B[43mforward_call\u001B[49m\u001B[43m(\u001B[49m\u001B[38;5;241;43m*\u001B[39;49m\u001B[43margs\u001B[49m\u001B[43m,\u001B[49m\u001B[43m \u001B[49m\u001B[38;5;241;43m*\u001B[39;49m\u001B[38;5;241;43m*\u001B[39;49m\u001B[43mkwargs\u001B[49m\u001B[43m)\u001B[49m\n\u001B[0;32m   1529\u001B[0m \u001B[38;5;28;01mtry\u001B[39;00m:\n\u001B[0;32m   1530\u001B[0m     result \u001B[38;5;241m=\u001B[39m \u001B[38;5;28;01mNone\u001B[39;00m\n",
      "File \u001B[1;32m~\\anaconda3\\envs\\study\\Lib\\site-packages\\torch\\nn\\modules\\linear.py:114\u001B[0m, in \u001B[0;36mLinear.forward\u001B[1;34m(self, input)\u001B[0m\n\u001B[0;32m    113\u001B[0m \u001B[38;5;28;01mdef\u001B[39;00m \u001B[38;5;21mforward\u001B[39m(\u001B[38;5;28mself\u001B[39m, \u001B[38;5;28minput\u001B[39m: Tensor) \u001B[38;5;241m-\u001B[39m\u001B[38;5;241m>\u001B[39m Tensor:\n\u001B[1;32m--> 114\u001B[0m     \u001B[38;5;28;01mreturn\u001B[39;00m \u001B[43mF\u001B[49m\u001B[38;5;241;43m.\u001B[39;49m\u001B[43mlinear\u001B[49m\u001B[43m(\u001B[49m\u001B[38;5;28;43minput\u001B[39;49m\u001B[43m,\u001B[49m\u001B[43m \u001B[49m\u001B[38;5;28;43mself\u001B[39;49m\u001B[38;5;241;43m.\u001B[39;49m\u001B[43mweight\u001B[49m\u001B[43m,\u001B[49m\u001B[43m \u001B[49m\u001B[38;5;28;43mself\u001B[39;49m\u001B[38;5;241;43m.\u001B[39;49m\u001B[43mbias\u001B[49m\u001B[43m)\u001B[49m\n",
      "\u001B[1;31mRuntimeError\u001B[0m: Expected all tensors to be on the same device, but found at least two devices, cuda:0 and cpu! (when checking argument for argument mat1 in method wrapper_CUDA_addmm)"
     ]
    }
   ],
   "source": [],
   "metadata": {
    "collapsed": false,
    "ExecuteTime": {
     "end_time": "2023-11-30T11:34:23.487068500Z",
     "start_time": "2023-11-30T11:34:22.991612400Z"
    }
   },
   "id": "f610b0280572558d"
  },
  {
   "cell_type": "code",
   "execution_count": null,
   "outputs": [],
   "source": [],
   "metadata": {
    "collapsed": false
   },
   "id": "64901a659d4f466d"
  },
  {
   "cell_type": "code",
   "execution_count": 45,
   "outputs": [
    {
     "name": "stdout",
     "output_type": "stream",
     "text": [
      "313/313 [==============================] - 0s 789us/step\n"
     ]
    }
   ],
   "source": [
    "sample_submission = pd.read_csv('../data/sample_submission.csv')\n",
    "predictions = model.predict(test_x.astype('float32'))\n",
    "binary_predictions = (predictions >= 0.5).astype(int)\n",
    "sample_submission[\"target\"] = binary_predictions\n",
    "sample_submission.to_csv(\"../data/submission.csv\", index=False)"
   ],
   "metadata": {
    "collapsed": false,
    "ExecuteTime": {
     "end_time": "2023-11-30T01:43:20.504074400Z",
     "start_time": "2023-11-30T01:43:19.964985300Z"
    }
   },
   "id": "c7284c4f599efa2f"
  },
  {
   "cell_type": "code",
   "execution_count": 291,
   "outputs": [],
   "source": [
    "submit.to_csv(\"../submission_data/5.csv\", index = False)"
   ],
   "metadata": {
    "collapsed": false,
    "ExecuteTime": {
     "end_time": "2023-11-29T07:06:58.376362200Z",
     "start_time": "2023-11-29T07:06:58.329943400Z"
    }
   },
   "id": "37092b06ca193553"
  },
  {
   "cell_type": "code",
   "execution_count": 46,
   "outputs": [],
   "source": [
    "pred_final = model_xgb.predict(test)"
   ],
   "metadata": {
    "collapsed": false,
    "ExecuteTime": {
     "end_time": "2023-11-30T01:23:09.013730700Z",
     "start_time": "2023-11-30T01:23:08.919003200Z"
    }
   },
   "id": "9742dfbeabc2a1b7"
  },
  {
   "cell_type": "code",
   "execution_count": 47,
   "outputs": [],
   "source": [
    "submit = pd.DataFrame({\n",
    "    'user_id': test_id,\n",
    "    'target': pred_final.flatten()\n",
    "})"
   ],
   "metadata": {
    "collapsed": false,
    "ExecuteTime": {
     "end_time": "2023-11-30T01:23:09.241376800Z",
     "start_time": "2023-11-30T01:23:09.224685200Z"
    }
   },
   "id": "7360026b1293411"
  },
  {
   "cell_type": "code",
   "execution_count": 48,
   "outputs": [],
   "source": [
    "submit.to_csv(\"../submission_data/5.csv\", index = False)"
   ],
   "metadata": {
    "collapsed": false,
    "ExecuteTime": {
     "end_time": "2023-11-30T01:23:09.519349700Z",
     "start_time": "2023-11-30T01:23:09.498378800Z"
    }
   },
   "id": "1a5a6ae94a947ef2"
  },
  {
   "cell_type": "code",
   "execution_count": null,
   "outputs": [],
   "source": [],
   "metadata": {
    "collapsed": false
   },
   "id": "79dd9b7a20fc15b7"
  }
 ],
 "metadata": {
  "kernelspec": {
   "display_name": "Python 3",
   "language": "python",
   "name": "python3"
  },
  "language_info": {
   "codemirror_mode": {
    "name": "ipython",
    "version": 2
   },
   "file_extension": ".py",
   "mimetype": "text/x-python",
   "name": "python",
   "nbconvert_exporter": "python",
   "pygments_lexer": "ipython2",
   "version": "2.7.6"
  }
 },
 "nbformat": 4,
 "nbformat_minor": 5
}

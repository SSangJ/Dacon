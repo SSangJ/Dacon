{
 "cells": [
  {
   "cell_type": "code",
   "execution_count": 1,
   "outputs": [],
   "source": [
    "# train3에서 deeplearning(pytorch) lgaimer때 한거 고도화"
   ],
   "metadata": {
    "collapsed": false,
    "ExecuteTime": {
     "end_time": "2023-11-30T10:59:45.843031Z",
     "start_time": "2023-11-30T10:59:45.798150300Z"
    }
   },
   "id": "74f713adb0ed743b"
  },
  {
   "cell_type": "code",
   "execution_count": 2,
   "id": "initial_id",
   "metadata": {
    "collapsed": true,
    "ExecuteTime": {
     "end_time": "2023-11-30T10:59:48.936291400Z",
     "start_time": "2023-11-30T10:59:46.205094800Z"
    }
   },
   "outputs": [
    {
     "name": "stdout",
     "output_type": "stream",
     "text": [
      "cuda:0\n"
     ]
    }
   ],
   "source": [
    "import torch\n",
    "device = torch.device('cuda:0' if torch.cuda.is_available() else 'cpu')\n",
    "print(device)"
   ]
  },
  {
   "cell_type": "code",
   "execution_count": 3,
   "outputs": [],
   "source": [
    "import matplotlib.pyplot as plt\n",
    "import pandas as pd\n",
    "import numpy as np\n",
    "import seaborn as sns\n",
    "import tqdm\n",
    "\n",
    "from sklearn.model_selection import train_test_split\n",
    "from sklearn.cluster import DBSCAN\n",
    "from imblearn.over_sampling import RandomOverSampler\n",
    "from sklearn.model_selection import train_test_split\n",
    "from sklearn.metrics import confusion_matrix, accuracy_score, f1_score\n",
    "from sklearn.model_selection import GridSearchCV\n",
    "from sklearn.preprocessing import MinMaxScaler\n",
    "\n",
    "import torch\n",
    "import torch.nn as nn\n",
    "import torch.nn.functional as F\n",
    "from torch.utils.data import Dataset, DataLoader\n",
    "import torch.optim as optim\n",
    "import torch.utils.data as data\n",
    "from sklearn.datasets import make_classification"
   ],
   "metadata": {
    "collapsed": false,
    "ExecuteTime": {
     "end_time": "2023-11-30T10:59:49.919343600Z",
     "start_time": "2023-11-30T10:59:49.484013800Z"
    }
   },
   "id": "55a17efe969dce4a"
  },
  {
   "cell_type": "code",
   "execution_count": 4,
   "outputs": [],
   "source": [
    "import warnings\n",
    "\n",
    "# 경고 무시\n",
    "warnings.filterwarnings(\"ignore\", category=FutureWarning)"
   ],
   "metadata": {
    "collapsed": false,
    "ExecuteTime": {
     "end_time": "2023-11-30T10:59:49.924767600Z",
     "start_time": "2023-11-30T10:59:49.921782800Z"
    }
   },
   "id": "1b0336f4ab645e18"
  },
  {
   "cell_type": "code",
   "execution_count": 5,
   "outputs": [],
   "source": [
    "import os\n",
    "os.environ['KMP_DUPLICATE_LIB_OK']='True'"
   ],
   "metadata": {
    "collapsed": false,
    "ExecuteTime": {
     "end_time": "2023-11-30T10:59:50.035271600Z",
     "start_time": "2023-11-30T10:59:50.007183200Z"
    }
   },
   "id": "83740237a18a3c40"
  },
  {
   "cell_type": "code",
   "execution_count": 6,
   "outputs": [],
   "source": [
    "input_dim = 20\n",
    "hidden_dim1 = 64\n",
    "hidden_dim2 = 32\n",
    "output_dim = 1"
   ],
   "metadata": {
    "collapsed": false,
    "ExecuteTime": {
     "end_time": "2023-11-30T10:59:50.195872800Z",
     "start_time": "2023-11-30T10:59:50.165716900Z"
    }
   },
   "id": "6d5ff80143d953f6"
  },
  {
   "cell_type": "code",
   "execution_count": 7,
   "outputs": [],
   "source": [
    "CFG = {\n",
    "    'EPOCHS': 100,\n",
    "    'LEARNING_RATE': 1e-3,\n",
    "    'BATCH_SIZE': 32,\n",
    "    'SEED': 42\n",
    "}"
   ],
   "metadata": {
    "collapsed": false,
    "ExecuteTime": {
     "end_time": "2023-11-30T10:59:50.352682900Z",
     "start_time": "2023-11-30T10:59:50.325529800Z"
    }
   },
   "id": "164944268d55264c"
  },
  {
   "cell_type": "code",
   "execution_count": 8,
   "outputs": [],
   "source": [
    "train = pd.read_csv(\"../data/train.csv\")\n",
    "test = pd.read_csv(\"../data/test.csv\")\n",
    "train = train.drop(['user_id'], axis=1)\n",
    "test_id = test['user_id'].values\n",
    "test = test.drop(['user_id'], axis=1)"
   ],
   "metadata": {
    "collapsed": false,
    "ExecuteTime": {
     "end_time": "2023-11-30T10:59:50.531681800Z",
     "start_time": "2023-11-30T10:59:50.481604300Z"
    }
   },
   "id": "3b1f82b6884d36a4"
  },
  {
   "cell_type": "code",
   "execution_count": 9,
   "outputs": [
    {
     "name": "stdout",
     "output_type": "stream",
     "text": [
      "<class 'pandas.core.frame.DataFrame'>\n",
      "RangeIndex: 10000 entries, 0 to 9999\n",
      "Data columns (total 14 columns):\n",
      " #   Column                             Non-Null Count  Dtype  \n",
      "---  ------                             --------------  -----  \n",
      " 0   subscription_duration              10000 non-null  int64  \n",
      " 1   recent_login_time                  10000 non-null  int64  \n",
      " 2   average_login_time                 10000 non-null  float64\n",
      " 3   average_time_per_learning_session  10000 non-null  float64\n",
      " 4   monthly_active_learning_days       10000 non-null  int64  \n",
      " 5   total_completed_courses            10000 non-null  int64  \n",
      " 6   recent_learning_achievement        10000 non-null  float64\n",
      " 7   abandoned_learning_sessions        10000 non-null  int64  \n",
      " 8   community_engagement_level         10000 non-null  int64  \n",
      " 9   preferred_difficulty_level         10000 non-null  object \n",
      " 10  subscription_type                  10000 non-null  object \n",
      " 11  customer_inquiry_history           10000 non-null  int64  \n",
      " 12  payment_pattern                    10000 non-null  int64  \n",
      " 13  target                             10000 non-null  int64  \n",
      "dtypes: float64(3), int64(9), object(2)\n",
      "memory usage: 1.1+ MB\n"
     ]
    }
   ],
   "source": [
    "train.info()"
   ],
   "metadata": {
    "collapsed": false,
    "ExecuteTime": {
     "end_time": "2023-11-30T10:59:50.717449600Z",
     "start_time": "2023-11-30T10:59:50.677645300Z"
    }
   },
   "id": "f968f2db3e6f708a"
  },
  {
   "cell_type": "code",
   "execution_count": 10,
   "outputs": [],
   "source": [
    "# preferred_difficulty_level 열 인코딩\n",
    "train.loc[train['preferred_difficulty_level'].values == 'Low','preferred_difficulty_level'] = 0\n",
    "train.loc[train['preferred_difficulty_level'].values == 'Medium','preferred_difficulty_level'] = 1\n",
    "train.loc[train['preferred_difficulty_level'].values == 'High','preferred_difficulty_level'] = 2\n",
    "\n",
    "test.loc[test['preferred_difficulty_level'].values == 'Low','preferred_difficulty_level'] = 0\n",
    "test.loc[test['preferred_difficulty_level'].values == 'Medium','preferred_difficulty_level'] = 1\n",
    "test.loc[test['preferred_difficulty_level'].values == 'High','preferred_difficulty_level'] = 2\n",
    "train['preferred_difficulty_level'] = train['preferred_difficulty_level'].astype(int)"
   ],
   "metadata": {
    "collapsed": false,
    "ExecuteTime": {
     "end_time": "2023-11-30T10:59:50.965177500Z",
     "start_time": "2023-11-30T10:59:50.939648600Z"
    }
   },
   "id": "8b3d24ddf355e209"
  },
  {
   "cell_type": "code",
   "execution_count": 11,
   "outputs": [],
   "source": [
    "from sklearn.preprocessing import StandardScaler, LabelEncoder\n",
    "\n",
    "# 데이터 스케일링을 위한 StandardScaler 인스턴스 생성\n",
    "scaler = StandardScaler()\n",
    "categoric_col =['subscription_type']\n",
    "label_encoders = {}\n",
    "for col in categoric_col:\n",
    "    label_encoders[col] = LabelEncoder()\n",
    "    train[col] = label_encoders[col].fit_transform(train[col])\n",
    "    test[col] = label_encoders[col].fit_transform(test[col])"
   ],
   "metadata": {
    "collapsed": false,
    "ExecuteTime": {
     "end_time": "2023-11-30T10:59:51.351199100Z",
     "start_time": "2023-11-30T10:59:51.322276700Z"
    }
   },
   "id": "f506f8dd10704945"
  },
  {
   "cell_type": "code",
   "execution_count": 12,
   "outputs": [],
   "source": [
    "# payment 인코딩\n",
    "# 'payment_pattern' 열에 대한 고유값 확인\n",
    "unique_values = train['payment_pattern'].unique()\n",
    "\n",
    "# 각 고유값에 대해 새로운 열 생성 및 0 또는 1로 설정\n",
    "for value in unique_values:\n",
    "    train[f'payment_pattern_{value}'] = (train['payment_pattern'] == value).astype(int)\n",
    "\n",
    "# 기존 'payment_pattern' 열 삭제\n",
    "train.drop('payment_pattern', axis=1, inplace=True)\n",
    "\n",
    "for value in unique_values:\n",
    "    test[f'payment_pattern_{value}'] = (test['payment_pattern'] == value).astype(int)\n",
    "\n",
    "# 기존 'payment_pattern' 열 삭제\n",
    "test.drop('payment_pattern', axis=1, inplace=True)"
   ],
   "metadata": {
    "collapsed": false,
    "ExecuteTime": {
     "end_time": "2023-11-30T10:59:51.632564700Z",
     "start_time": "2023-11-30T10:59:51.602808Z"
    }
   },
   "id": "eb67fdd644e468d"
  },
  {
   "cell_type": "code",
   "execution_count": 13,
   "outputs": [],
   "source": [
    "train_x = train.drop('target', axis = 1)\n",
    "train_y = train['target']\n",
    "test_x = test"
   ],
   "metadata": {
    "collapsed": false,
    "ExecuteTime": {
     "end_time": "2023-11-30T10:59:51.836803400Z",
     "start_time": "2023-11-30T10:59:51.809992700Z"
    }
   },
   "id": "be65679743d2e2c3"
  },
  {
   "cell_type": "code",
   "execution_count": 14,
   "outputs": [],
   "source": [
    "ros = RandomOverSampler(random_state=42)\n",
    "train_x, train_y = ros.fit_resample(train_x, train_y)"
   ],
   "metadata": {
    "collapsed": false,
    "ExecuteTime": {
     "end_time": "2023-11-30T10:59:52.076080Z",
     "start_time": "2023-11-30T10:59:52.050640400Z"
    }
   },
   "id": "e40a71fc3bcb11e1"
  },
  {
   "cell_type": "code",
   "execution_count": 15,
   "outputs": [],
   "source": [
    "# X와 Y로 나누기\n",
    "X_train, X_test, y_train, y_test = train_test_split(train_x,train_y, test_size=0.2, random_state=40)"
   ],
   "metadata": {
    "collapsed": false,
    "ExecuteTime": {
     "end_time": "2023-11-30T10:59:52.498898600Z",
     "start_time": "2023-11-30T10:59:52.472574700Z"
    }
   },
   "id": "3ca0cb4324ce4d6b"
  },
  {
   "cell_type": "code",
   "execution_count": 16,
   "outputs": [],
   "source": [
    "X_train = X_train.values\n",
    "X_test = X_test.values\n",
    "y_train = y_train.values\n",
    "y_test = y_test.values"
   ],
   "metadata": {
    "collapsed": false,
    "ExecuteTime": {
     "end_time": "2023-11-30T10:59:52.687221700Z",
     "start_time": "2023-11-30T10:59:52.660807400Z"
    }
   },
   "id": "8e40a2e62dea92aa"
  },
  {
   "cell_type": "code",
   "execution_count": 29,
   "outputs": [],
   "source": [
    "from torch.utils.data import Dataset, DataLoader\n",
    "class dataset(Dataset):\n",
    "    def __init__(self,x,y):\n",
    "        self.x = torch.tensor(x,dtype=torch.float32)\n",
    "        self.y = torch.tensor(y,dtype=torch.float32)\n",
    "        self.length = self.x.shape[0]\n",
    "\n",
    "    def __getitem__(self,idx):\n",
    "        return self.x[idx],self.y[idx]\n",
    "    def __len__(self):\n",
    "        return self.length\n",
    "trainset = dataset(X_train,y_train)\n",
    "#DataLoader\n",
    "trainloader = DataLoader(trainset,batch_size=64,shuffle=False)"
   ],
   "metadata": {
    "collapsed": false,
    "ExecuteTime": {
     "end_time": "2023-11-30T11:20:24.917278Z",
     "start_time": "2023-11-30T11:20:24.877588Z"
    }
   },
   "id": "7440f4ed17d5231"
  },
  {
   "cell_type": "code",
   "execution_count": 30,
   "outputs": [],
   "source": [
    "#defining the network\n",
    "from torch import nn\n",
    "from torch.nn import functional as F\n",
    "class Net(nn.Module):\n",
    "    def __init__(self,input_shape):\n",
    "        super(Net,self).__init__()\n",
    "        self.fc1 = nn.Linear(input_shape,32)\n",
    "        self.fc2 = nn.Linear(32,64)\n",
    "        self.fc3 = nn.Linear(64,1)\n",
    "    def forward(self,x):\n",
    "        x = torch.relu(self.fc1(x))\n",
    "        x = torch.relu(self.fc2(x))\n",
    "        x = torch.sigmoid(self.fc3(x))\n",
    "        return x"
   ],
   "metadata": {
    "collapsed": false,
    "ExecuteTime": {
     "end_time": "2023-11-30T11:20:35.947472200Z",
     "start_time": "2023-11-30T11:20:35.903038200Z"
    }
   },
   "id": "d359385c8cf4d30b"
  },
  {
   "cell_type": "code",
   "execution_count": 32,
   "outputs": [],
   "source": [
    "#hyper parameters\n",
    "learning_rate = 0.01\n",
    "epochs = 700\n",
    "# Model , Optimizer, Loss\n",
    "model = Net(input_shape=X_train.shape[1])\n",
    "optimizer = torch.optim.SGD(model.parameters(),lr=learning_rate)\n",
    "loss_fn = nn.BCELoss()"
   ],
   "metadata": {
    "collapsed": false,
    "ExecuteTime": {
     "end_time": "2023-11-30T11:20:52.951209400Z",
     "start_time": "2023-11-30T11:20:52.608246700Z"
    }
   },
   "id": "dbb9983e65c952df"
  },
  {
   "cell_type": "code",
   "execution_count": 38,
   "outputs": [
    {
     "ename": "AttributeError",
     "evalue": "'bool' object has no attribute 'mean'",
     "output_type": "error",
     "traceback": [
      "\u001B[1;31m---------------------------------------------------------------------------\u001B[0m",
      "\u001B[1;31mAttributeError\u001B[0m                            Traceback (most recent call last)",
      "Cell \u001B[1;32mIn[38], line 15\u001B[0m\n\u001B[0;32m     13\u001B[0m \u001B[38;5;66;03m#accuracy\u001B[39;00m\n\u001B[0;32m     14\u001B[0m predicted \u001B[38;5;241m=\u001B[39m model(torch\u001B[38;5;241m.\u001B[39mtensor(X_train,dtype\u001B[38;5;241m=\u001B[39mtorch\u001B[38;5;241m.\u001B[39mfloat32))\n\u001B[1;32m---> 15\u001B[0m acc \u001B[38;5;241m=\u001B[39m \u001B[43m(\u001B[49m\u001B[43mpredicted\u001B[49m\u001B[38;5;241;43m.\u001B[39;49m\u001B[43mreshape\u001B[49m\u001B[43m(\u001B[49m\u001B[38;5;241;43m-\u001B[39;49m\u001B[38;5;241;43m1\u001B[39;49m\u001B[43m)\u001B[49m\u001B[38;5;241;43m.\u001B[39;49m\u001B[43mdetach\u001B[49m\u001B[43m(\u001B[49m\u001B[43m)\u001B[49m\u001B[38;5;241;43m.\u001B[39;49m\u001B[43mnumpy\u001B[49m\u001B[43m(\u001B[49m\u001B[43m)\u001B[49m\u001B[38;5;241;43m.\u001B[39;49m\u001B[43mround\u001B[49m\u001B[43m(\u001B[49m\u001B[43m)\u001B[49m\u001B[43m \u001B[49m\u001B[38;5;241;43m==\u001B[39;49m\u001B[43m \u001B[49m\u001B[43my_train\u001B[49m\u001B[43m)\u001B[49m\u001B[38;5;241;43m.\u001B[39;49m\u001B[43mmean\u001B[49m()\n\u001B[0;32m     16\u001B[0m \u001B[38;5;66;03m#backprop\u001B[39;00m\n\u001B[0;32m     17\u001B[0m optimizer\u001B[38;5;241m.\u001B[39mzero_grad()\n",
      "\u001B[1;31mAttributeError\u001B[0m: 'bool' object has no attribute 'mean'"
     ]
    }
   ],
   "source": [
    "#forward loop\n",
    "losses = []\n",
    "accur = []\n",
    "for i in range(epochs):\n",
    "    for j,(x_train,y_train) in enumerate(trainloader):\n",
    "\n",
    "        #calculate output\n",
    "        output = model(x_train)\n",
    "\n",
    "        #calculate loss\n",
    "        loss = loss_fn(output,y_train.reshape(-1,1))\n",
    "\n",
    "        #accuracy\n",
    "        predicted = model(torch.tensor(X_train,dtype=torch.float32))\n",
    "        acc = (predicted.reshape(-1).detach().numpy().round() == y_train).mean()\n",
    "        #backprop\n",
    "        optimizer.zero_grad()\n",
    "        loss.backward()\n",
    "        optimizer.step()\n",
    "\n",
    "    if i%10 == 0:\n",
    "        losses.append(loss)\n",
    "        accur.append(acc)\n",
    "        print(\"epoch {}\\tloss : {}\\t accuracy : {}\".format(i,loss,acc))"
   ],
   "metadata": {
    "collapsed": false,
    "ExecuteTime": {
     "end_time": "2023-11-30T11:23:11.905418100Z",
     "start_time": "2023-11-30T11:23:11.836737300Z"
    }
   },
   "id": "e1daac0e8b54e8b"
  },
  {
   "cell_type": "code",
   "execution_count": null,
   "outputs": [],
   "source": [],
   "metadata": {
    "collapsed": false
   },
   "id": "e7b86902e381dfd7"
  },
  {
   "cell_type": "code",
   "execution_count": null,
   "outputs": [],
   "source": [],
   "metadata": {
    "collapsed": false
   },
   "id": "f374576dc3805389"
  },
  {
   "cell_type": "code",
   "execution_count": null,
   "outputs": [],
   "source": [],
   "metadata": {
    "collapsed": false
   },
   "id": "5d54065338c6e9e0"
  },
  {
   "cell_type": "code",
   "execution_count": null,
   "outputs": [],
   "source": [],
   "metadata": {
    "collapsed": false
   },
   "id": "d50499246015ad65"
  },
  {
   "cell_type": "code",
   "execution_count": 23,
   "outputs": [],
   "source": [
    "class CustomDataset(Dataset):\n",
    "    def __init__(self, X, Y):\n",
    "        self.X = X\n",
    "        self.Y = Y\n",
    "\n",
    "    def __getitem__(self, index):\n",
    "        return torch.FloatTensor(self.X[index]), torch.LongTensor([self.Y[index]])\n",
    "\n",
    "    def __len__(self):\n",
    "        return len(self.X)"
   ],
   "metadata": {
    "collapsed": false,
    "ExecuteTime": {
     "end_time": "2023-11-30T11:16:35.555461500Z",
     "start_time": "2023-11-30T11:16:35.526030500Z"
    }
   },
   "id": "98425b81e802e18e"
  },
  {
   "cell_type": "code",
   "execution_count": 24,
   "outputs": [],
   "source": [
    "train_dataset = CustomDataset(X_train, y_train)\n",
    "train_loader = DataLoader(train_dataset, batch_size = CFG['BATCH_SIZE'], shuffle=True)\n",
    "\n",
    "val_dataset = CustomDataset(X_test, y_test)\n",
    "val_loader = DataLoader(val_dataset, batch_size = CFG['BATCH_SIZE'], shuffle=False)"
   ],
   "metadata": {
    "collapsed": false,
    "ExecuteTime": {
     "end_time": "2023-11-30T11:16:35.830353200Z",
     "start_time": "2023-11-30T11:16:35.806878500Z"
    }
   },
   "id": "154fe9f8bbc0dea1"
  },
  {
   "cell_type": "code",
   "execution_count": 25,
   "outputs": [
    {
     "name": "stdout",
     "output_type": "stream",
     "text": [
      "Batch Inputs: tensor([[1.6000e+01, 1.1000e+01, 1.4007e+01, 4.1438e+01, 2.2000e+01, 1.5000e+01,\n",
      "         7.0188e+01, 2.0000e+00, 5.0000e+00, 2.0000e+00, 1.0000e+00, 0.0000e+00,\n",
      "         0.0000e+00, 0.0000e+00, 0.0000e+00, 1.0000e+00, 0.0000e+00, 0.0000e+00,\n",
      "         0.0000e+00, 0.0000e+00],\n",
      "        [7.0000e+00, 1.0000e+00, 1.3884e+01, 2.0139e+02, 2.3000e+01, 1.1000e+01,\n",
      "         6.7251e+01, 1.0000e+00, 3.0000e+00, 0.0000e+00, 0.0000e+00, 2.0000e+00,\n",
      "         0.0000e+00, 0.0000e+00, 1.0000e+00, 0.0000e+00, 0.0000e+00, 0.0000e+00,\n",
      "         0.0000e+00, 0.0000e+00],\n",
      "        [1.9000e+01, 1.4000e+01, 1.7027e+01, 7.0180e+01, 1.0000e+01, 8.0000e+00,\n",
      "         5.8837e+01, 2.0000e+00, 2.0000e+00, 0.0000e+00, 0.0000e+00, 4.0000e+00,\n",
      "         0.0000e+00, 0.0000e+00, 1.0000e+00, 0.0000e+00, 0.0000e+00, 0.0000e+00,\n",
      "         0.0000e+00, 0.0000e+00],\n",
      "        [1.8000e+01, 2.7000e+01, 1.3746e+01, 7.6483e+00, 2.0000e+01, 1.3000e+01,\n",
      "         6.2948e+01, 2.0000e+00, 4.0000e+00, 0.0000e+00, 0.0000e+00, 3.0000e+00,\n",
      "         0.0000e+00, 0.0000e+00, 0.0000e+00, 0.0000e+00, 1.0000e+00, 0.0000e+00,\n",
      "         0.0000e+00, 0.0000e+00],\n",
      "        [9.0000e+00, 1.4000e+01, 1.6422e+01, 7.9443e+01, 2.0000e+00, 1.2000e+01,\n",
      "         7.5795e+01, 3.0000e+00, 3.0000e+00, 1.0000e+00, 1.0000e+00, 4.0000e+00,\n",
      "         0.0000e+00, 0.0000e+00, 0.0000e+00, 1.0000e+00, 0.0000e+00, 0.0000e+00,\n",
      "         0.0000e+00, 0.0000e+00],\n",
      "        [1.0000e+00, 2.9000e+01, 2.0871e+01, 3.2048e+01, 1.6000e+01, 1.5000e+01,\n",
      "         9.5912e+01, 2.0000e+00, 5.0000e+00, 2.0000e+00, 1.0000e+00, 2.0000e+00,\n",
      "         1.0000e+00, 0.0000e+00, 0.0000e+00, 0.0000e+00, 0.0000e+00, 0.0000e+00,\n",
      "         0.0000e+00, 0.0000e+00],\n",
      "        [1.1000e+01, 6.0000e+00, 1.8192e+01, 2.3956e+01, 1.4000e+01, 7.0000e+00,\n",
      "         6.4431e+01, 4.0000e+00, 5.0000e+00, 1.0000e+00, 0.0000e+00, 1.0000e+00,\n",
      "         0.0000e+00, 0.0000e+00, 0.0000e+00, 0.0000e+00, 0.0000e+00, 0.0000e+00,\n",
      "         0.0000e+00, 1.0000e+00],\n",
      "        [1.1000e+01, 2.7000e+01, 1.5811e+01, 2.2966e+01, 1.3000e+01, 1.2000e+01,\n",
      "         6.9510e+01, 8.0000e+00, 5.0000e+00, 0.0000e+00, 1.0000e+00, 3.0000e+00,\n",
      "         0.0000e+00, 0.0000e+00, 0.0000e+00, 1.0000e+00, 0.0000e+00, 0.0000e+00,\n",
      "         0.0000e+00, 0.0000e+00],\n",
      "        [1.5000e+01, 1.7000e+01, 1.5398e+01, 7.2433e+01, 8.0000e+00, 7.0000e+00,\n",
      "         6.6176e+01, 3.0000e+00, 2.0000e+00, 2.0000e+00, 0.0000e+00, 0.0000e+00,\n",
      "         0.0000e+00, 0.0000e+00, 0.0000e+00, 0.0000e+00, 1.0000e+00, 0.0000e+00,\n",
      "         0.0000e+00, 0.0000e+00],\n",
      "        [1.6000e+01, 3.0000e+00, 1.3439e+01, 8.7939e+01, 7.0000e+00, 6.0000e+00,\n",
      "         6.8061e+01, 2.0000e+00, 5.0000e+00, 1.0000e+00, 0.0000e+00, 0.0000e+00,\n",
      "         0.0000e+00, 0.0000e+00, 0.0000e+00, 0.0000e+00, 0.0000e+00, 0.0000e+00,\n",
      "         0.0000e+00, 1.0000e+00],\n",
      "        [1.0000e+00, 1.6000e+01, 1.4781e+01, 8.3888e+00, 9.0000e+00, 1.1000e+01,\n",
      "         5.6292e+01, 2.0000e+00, 4.0000e+00, 2.0000e+00, 1.0000e+00, 1.0000e+00,\n",
      "         0.0000e+00, 1.0000e+00, 0.0000e+00, 0.0000e+00, 0.0000e+00, 0.0000e+00,\n",
      "         0.0000e+00, 0.0000e+00],\n",
      "        [7.0000e+00, 1.2000e+01, 1.6607e+01, 5.0299e+00, 1.6000e+01, 1.8000e+01,\n",
      "         7.4959e+01, 1.0000e+00, 5.0000e+00, 0.0000e+00, 1.0000e+00, 2.0000e+00,\n",
      "         0.0000e+00, 0.0000e+00, 0.0000e+00, 0.0000e+00, 1.0000e+00, 0.0000e+00,\n",
      "         0.0000e+00, 0.0000e+00],\n",
      "        [1.9000e+01, 1.3000e+01, 1.2615e+01, 1.5849e+01, 1.3000e+01, 1.4000e+01,\n",
      "         7.5200e+01, 6.0000e+00, 4.0000e+00, 1.0000e+00, 1.0000e+00, 4.0000e+00,\n",
      "         0.0000e+00, 0.0000e+00, 1.0000e+00, 0.0000e+00, 0.0000e+00, 0.0000e+00,\n",
      "         0.0000e+00, 0.0000e+00],\n",
      "        [1.1000e+01, 7.0000e+00, 1.7854e+01, 1.4199e+01, 1.3000e+01, 1.0000e+01,\n",
      "         8.6487e+01, 1.0000e+00, 5.0000e+00, 1.0000e+00, 0.0000e+00, 3.0000e+00,\n",
      "         0.0000e+00, 0.0000e+00, 0.0000e+00, 1.0000e+00, 0.0000e+00, 0.0000e+00,\n",
      "         0.0000e+00, 0.0000e+00],\n",
      "        [7.0000e+00, 2.0000e+01, 1.3752e+01, 4.7515e+01, 6.0000e+00, 1.5000e+01,\n",
      "         7.5406e+01, 5.0000e+00, 5.0000e+00, 0.0000e+00, 1.0000e+00, 0.0000e+00,\n",
      "         0.0000e+00, 0.0000e+00, 0.0000e+00, 0.0000e+00, 0.0000e+00, 1.0000e+00,\n",
      "         0.0000e+00, 0.0000e+00],\n",
      "        [1.2000e+01, 2.7000e+01, 1.7841e+01, 9.9161e+00, 8.0000e+00, 1.8000e+01,\n",
      "         5.5108e+01, 2.0000e+00, 5.0000e+00, 2.0000e+00, 0.0000e+00, 4.0000e+00,\n",
      "         0.0000e+00, 0.0000e+00, 0.0000e+00, 1.0000e+00, 0.0000e+00, 0.0000e+00,\n",
      "         0.0000e+00, 0.0000e+00],\n",
      "        [1.2000e+01, 6.0000e+00, 1.4070e+01, 3.6738e+01, 2.2000e+01, 1.6000e+01,\n",
      "         8.4125e+01, 6.0000e+00, 5.0000e+00, 0.0000e+00, 0.0000e+00, 2.0000e+00,\n",
      "         0.0000e+00, 0.0000e+00, 0.0000e+00, 0.0000e+00, 0.0000e+00, 0.0000e+00,\n",
      "         0.0000e+00, 1.0000e+00],\n",
      "        [1.8000e+01, 2.4000e+01, 1.6903e+01, 2.9555e-02, 1.1000e+01, 1.6000e+01,\n",
      "         7.0062e+01, 6.0000e+00, 3.0000e+00, 2.0000e+00, 1.0000e+00, 3.0000e+00,\n",
      "         0.0000e+00, 0.0000e+00, 0.0000e+00, 0.0000e+00, 1.0000e+00, 0.0000e+00,\n",
      "         0.0000e+00, 0.0000e+00],\n",
      "        [1.2000e+01, 9.0000e+00, 1.3484e+01, 2.6560e+01, 8.0000e+00, 1.2000e+01,\n",
      "         4.4123e+01, 3.0000e+00, 5.0000e+00, 0.0000e+00, 0.0000e+00, 3.0000e+00,\n",
      "         1.0000e+00, 0.0000e+00, 0.0000e+00, 0.0000e+00, 0.0000e+00, 0.0000e+00,\n",
      "         0.0000e+00, 0.0000e+00],\n",
      "        [1.7000e+01, 2.5000e+01, 1.8725e+01, 2.7805e+01, 1.7000e+01, 9.0000e+00,\n",
      "         8.1212e+01, 2.0000e+00, 5.0000e+00, 1.0000e+00, 1.0000e+00, 1.0000e+00,\n",
      "         0.0000e+00, 0.0000e+00, 0.0000e+00, 0.0000e+00, 1.0000e+00, 0.0000e+00,\n",
      "         0.0000e+00, 0.0000e+00],\n",
      "        [1.5000e+01, 1.8000e+01, 1.3678e+01, 9.2284e+01, 1.1000e+01, 1.7000e+01,\n",
      "         8.8507e+01, 1.0000e+00, 5.0000e+00, 1.0000e+00, 1.0000e+00, 1.0000e+00,\n",
      "         0.0000e+00, 0.0000e+00, 0.0000e+00, 1.0000e+00, 0.0000e+00, 0.0000e+00,\n",
      "         0.0000e+00, 0.0000e+00],\n",
      "        [1.4000e+01, 2.8000e+01, 1.3394e+01, 1.8398e+01, 2.2000e+01, 9.0000e+00,\n",
      "         7.0046e+01, 0.0000e+00, 4.0000e+00, 0.0000e+00, 0.0000e+00, 0.0000e+00,\n",
      "         0.0000e+00, 0.0000e+00, 0.0000e+00, 1.0000e+00, 0.0000e+00, 0.0000e+00,\n",
      "         0.0000e+00, 0.0000e+00],\n",
      "        [1.1000e+01, 1.9000e+01, 1.5328e+01, 3.3299e+01, 1.0000e+00, 8.0000e+00,\n",
      "         7.4381e+01, 5.0000e+00, 2.0000e+00, 1.0000e+00, 0.0000e+00, 2.0000e+00,\n",
      "         0.0000e+00, 0.0000e+00, 1.0000e+00, 0.0000e+00, 0.0000e+00, 0.0000e+00,\n",
      "         0.0000e+00, 0.0000e+00],\n",
      "        [1.0000e+00, 1.9000e+01, 1.5716e+01, 5.8066e+01, 2.4000e+01, 1.0000e+01,\n",
      "         7.8242e+01, 3.0000e+00, 4.0000e+00, 1.0000e+00, 0.0000e+00, 2.0000e+00,\n",
      "         0.0000e+00, 0.0000e+00, 0.0000e+00, 1.0000e+00, 0.0000e+00, 0.0000e+00,\n",
      "         0.0000e+00, 0.0000e+00],\n",
      "        [1.3000e+01, 1.9000e+01, 1.3717e+01, 8.8888e+01, 2.0000e+00, 1.2000e+01,\n",
      "         8.0634e+01, 0.0000e+00, 5.0000e+00, 0.0000e+00, 0.0000e+00, 1.0000e+00,\n",
      "         0.0000e+00, 1.0000e+00, 0.0000e+00, 0.0000e+00, 0.0000e+00, 0.0000e+00,\n",
      "         0.0000e+00, 0.0000e+00],\n",
      "        [2.0000e+00, 1.4000e+01, 1.4608e+01, 5.9228e+01, 1.9000e+01, 9.0000e+00,\n",
      "         7.4058e+01, 0.0000e+00, 3.0000e+00, 1.0000e+00, 0.0000e+00, 3.0000e+00,\n",
      "         0.0000e+00, 0.0000e+00, 0.0000e+00, 0.0000e+00, 0.0000e+00, 0.0000e+00,\n",
      "         1.0000e+00, 0.0000e+00],\n",
      "        [6.0000e+00, 1.7000e+01, 1.7453e+01, 4.8406e+01, 1.7000e+01, 1.2000e+01,\n",
      "         7.7825e+01, 1.0000e+00, 5.0000e+00, 0.0000e+00, 0.0000e+00, 0.0000e+00,\n",
      "         0.0000e+00, 1.0000e+00, 0.0000e+00, 0.0000e+00, 0.0000e+00, 0.0000e+00,\n",
      "         0.0000e+00, 0.0000e+00],\n",
      "        [1.3000e+01, 1.8000e+01, 2.2735e+01, 8.3737e+01, 1.9000e+01, 1.3000e+01,\n",
      "         7.3103e+01, 1.0000e+00, 5.0000e+00, 0.0000e+00, 0.0000e+00, 2.0000e+00,\n",
      "         0.0000e+00, 1.0000e+00, 0.0000e+00, 0.0000e+00, 0.0000e+00, 0.0000e+00,\n",
      "         0.0000e+00, 0.0000e+00],\n",
      "        [1.2000e+01, 9.0000e+00, 1.4752e+01, 9.1396e+00, 5.0000e+00, 1.4000e+01,\n",
      "         9.9510e+01, 3.0000e+00, 5.0000e+00, 2.0000e+00, 1.0000e+00, 4.0000e+00,\n",
      "         0.0000e+00, 1.0000e+00, 0.0000e+00, 0.0000e+00, 0.0000e+00, 0.0000e+00,\n",
      "         0.0000e+00, 0.0000e+00],\n",
      "        [2.3000e+01, 1.7000e+01, 1.6300e+01, 2.9698e+01, 7.0000e+00, 2.0000e+01,\n",
      "         8.6605e+01, 3.0000e+00, 5.0000e+00, 0.0000e+00, 1.0000e+00, 1.0000e+00,\n",
      "         0.0000e+00, 0.0000e+00, 0.0000e+00, 0.0000e+00, 1.0000e+00, 0.0000e+00,\n",
      "         0.0000e+00, 0.0000e+00],\n",
      "        [8.0000e+00, 2.6000e+01, 1.2703e+01, 5.7372e+01, 2.4000e+01, 1.4000e+01,\n",
      "         6.9031e+01, 8.0000e+00, 4.0000e+00, 1.0000e+00, 0.0000e+00, 3.0000e+00,\n",
      "         0.0000e+00, 1.0000e+00, 0.0000e+00, 0.0000e+00, 0.0000e+00, 0.0000e+00,\n",
      "         0.0000e+00, 0.0000e+00],\n",
      "        [1.5000e+01, 6.0000e+00, 1.3692e+01, 1.1576e+02, 2.0000e+01, 7.0000e+00,\n",
      "         5.9855e+01, 6.0000e+00, 1.0000e+00, 1.0000e+00, 0.0000e+00, 2.0000e+00,\n",
      "         0.0000e+00, 1.0000e+00, 0.0000e+00, 0.0000e+00, 0.0000e+00, 0.0000e+00,\n",
      "         0.0000e+00, 0.0000e+00]])\n",
      "Batch Labels: tensor([[1],\n",
      "        [1],\n",
      "        [0],\n",
      "        [0],\n",
      "        [0],\n",
      "        [0],\n",
      "        [0],\n",
      "        [1],\n",
      "        [1],\n",
      "        [1],\n",
      "        [0],\n",
      "        [0],\n",
      "        [1],\n",
      "        [0],\n",
      "        [0],\n",
      "        [1],\n",
      "        [1],\n",
      "        [0],\n",
      "        [1],\n",
      "        [1],\n",
      "        [1],\n",
      "        [1],\n",
      "        [0],\n",
      "        [1],\n",
      "        [0],\n",
      "        [0],\n",
      "        [1],\n",
      "        [1],\n",
      "        [0],\n",
      "        [0],\n",
      "        [1],\n",
      "        [1]])\n"
     ]
    }
   ],
   "source": [
    "for batch_inputs, batch_labels in train_loader:\n",
    "    # batch_inputs과 batch_labels은 첫 번째 배치의 데이터입니다.\n",
    "    # 여기에서 원하는 확인 작업을 수행하십시오.\n",
    "    print(\"Batch Inputs:\", batch_inputs)\n",
    "    print(\"Batch Labels:\", batch_labels)\n",
    "\n",
    "    # 원하는 확인 작업을 추가하십시오.\n",
    "\n",
    "    break  # 첫 번째 배치만 확인하고 루프를 종료합니다."
   ],
   "metadata": {
    "collapsed": false,
    "ExecuteTime": {
     "end_time": "2023-11-30T11:16:36.680473900Z",
     "start_time": "2023-11-30T11:16:36.630240900Z"
    }
   },
   "id": "7f2658aaeda0e072"
  },
  {
   "cell_type": "code",
   "execution_count": 44,
   "outputs": [],
   "source": [
    "class SimpleDNN(nn.Module):\n",
    "    def __init__(self, input_dim, hidden_dim1, hidden_dim2, output_dim):\n",
    "        super(SimpleDNN, self).__init__()\n",
    "\n",
    "        self.fc1 = nn.Linear(input_dim, hidden_dim1)\n",
    "        self.relu1 = nn.ReLU()\n",
    "        self.fc2 = nn.Linear(hidden_dim1, hidden_dim2)\n",
    "        self.relu2 = nn.ReLU()\n",
    "        self.fc3 = nn.Linear(hidden_dim2, output_dim)\n",
    "\n",
    "    def forward(self, x):\n",
    "        x = self.fc1(x)\n",
    "        x = self.relu1(x)\n",
    "        x = self.fc2(x)\n",
    "        x = self.relu2(x)\n",
    "        x = self.fc3(x)\n",
    "        return x\n",
    "\n",
    "    def init_hidden(self, batch_size, device):\n",
    "        # Initialize hidden state and cell state\n",
    "        return (torch.zeros(1, batch_size, self.hidden_size, device=device))\n",
    "    \n"
   ],
   "metadata": {
    "collapsed": false,
    "ExecuteTime": {
     "end_time": "2023-11-30T10:53:14.297440200Z",
     "start_time": "2023-11-30T10:53:14.260821500Z"
    }
   },
   "id": "2e78af0b51587e62"
  },
  {
   "cell_type": "code",
   "execution_count": 45,
   "outputs": [],
   "source": [
    "model = SimpleDNN(input_dim, hidden_dim1, hidden_dim2, output_dim)"
   ],
   "metadata": {
    "collapsed": false,
    "ExecuteTime": {
     "end_time": "2023-11-30T10:53:15.102108200Z",
     "start_time": "2023-11-30T10:53:15.077067400Z"
    }
   },
   "id": "eb52fca67e7642d0"
  },
  {
   "cell_type": "code",
   "execution_count": 46,
   "outputs": [],
   "source": [
    "def train(model, optimizer, train_loader, val_loader, device):\n",
    "    model.to(device)\n",
    "    criterion = nn.MSELoss().to(device)\n",
    "    best_loss = 9999999\n",
    "    best_model = None\n",
    "\n",
    "    for epoch in range(1, CFG['EPOCHS']+1):\n",
    "        model.train()\n",
    "        train_loss = []\n",
    "        train_mae = []\n",
    "        for X, Y in tqdm(iter(train_loader)):\n",
    "            X = X.to(device)\n",
    "            Y = Y.to(device)\n",
    "\n",
    "            optimizer.zero_grad()\n",
    "\n",
    "            output = model(X)\n",
    "            loss = criterion(output, Y)\n",
    "\n",
    "            loss.backward()\n",
    "            optimizer.step()\n",
    "\n",
    "            train_loss.append(loss.item())\n",
    "\n",
    "        val_loss = validation(model, val_loader, criterion, device)\n",
    "        print(f'Epoch : [{epoch}] Train Loss : [{np.mean(train_loss):.5f}] Val Loss : [{val_loss:.5f}]')\n",
    "\n",
    "        if best_loss > val_loss:\n",
    "            best_loss = val_loss\n",
    "            best_model = model\n",
    "            print('Model Saved')\n",
    "    return best_model"
   ],
   "metadata": {
    "collapsed": false,
    "ExecuteTime": {
     "end_time": "2023-11-30T10:53:15.461851600Z",
     "start_time": "2023-11-30T10:53:15.421892400Z"
    }
   },
   "id": "871b40347802dbfd"
  },
  {
   "cell_type": "code",
   "execution_count": 47,
   "outputs": [],
   "source": [
    "def validation(model, val_loader, criterion, device):\n",
    "    model.eval()\n",
    "    val_loss = []\n",
    "\n",
    "    with torch.no_grad():\n",
    "        for X, Y in tqdm(iter(val_loader)):\n",
    "            X = X.to(device)\n",
    "            Y = Y.to(device)\n",
    "\n",
    "            output = model(X)\n",
    "            loss = criterion(output, Y)\n",
    "\n",
    "            val_loss.append(loss.item())\n",
    "    return np.mean(val_loss)"
   ],
   "metadata": {
    "collapsed": false,
    "ExecuteTime": {
     "end_time": "2023-11-30T10:53:19.050037200Z",
     "start_time": "2023-11-30T10:53:19.010738500Z"
    }
   },
   "id": "b2adf553584d537"
  },
  {
   "cell_type": "code",
   "execution_count": null,
   "outputs": [],
   "source": [
    "optimizer = torch.optim.Adam(params = model.parameters(), lr = CFG[\"LEARNING_RATE\"])\n",
    "infer_model = train(model, optimizer, train_loader, val_loader, device)"
   ],
   "metadata": {
    "collapsed": false,
    "ExecuteTime": {
     "start_time": "2023-11-30T10:53:25.050803400Z"
    }
   },
   "id": "f610b0280572558d"
  },
  {
   "cell_type": "code",
   "execution_count": null,
   "outputs": [],
   "source": [],
   "metadata": {
    "collapsed": false
   },
   "id": "64901a659d4f466d"
  },
  {
   "cell_type": "code",
   "execution_count": 45,
   "outputs": [
    {
     "name": "stdout",
     "output_type": "stream",
     "text": [
      "313/313 [==============================] - 0s 789us/step\n"
     ]
    }
   ],
   "source": [
    "sample_submission = pd.read_csv('../data/sample_submission.csv')\n",
    "predictions = model.predict(test_x.astype('float32'))\n",
    "binary_predictions = (predictions >= 0.5).astype(int)\n",
    "sample_submission[\"target\"] = binary_predictions\n",
    "sample_submission.to_csv(\"../data/submission.csv\", index=False)"
   ],
   "metadata": {
    "collapsed": false,
    "ExecuteTime": {
     "end_time": "2023-11-30T01:43:20.504074400Z",
     "start_time": "2023-11-30T01:43:19.964985300Z"
    }
   },
   "id": "c7284c4f599efa2f"
  },
  {
   "cell_type": "code",
   "execution_count": 291,
   "outputs": [],
   "source": [
    "submit.to_csv(\"../submission_data/5.csv\", index = False)"
   ],
   "metadata": {
    "collapsed": false,
    "ExecuteTime": {
     "end_time": "2023-11-29T07:06:58.376362200Z",
     "start_time": "2023-11-29T07:06:58.329943400Z"
    }
   },
   "id": "37092b06ca193553"
  },
  {
   "cell_type": "code",
   "execution_count": 46,
   "outputs": [],
   "source": [
    "pred_final = model_xgb.predict(test)"
   ],
   "metadata": {
    "collapsed": false,
    "ExecuteTime": {
     "end_time": "2023-11-30T01:23:09.013730700Z",
     "start_time": "2023-11-30T01:23:08.919003200Z"
    }
   },
   "id": "9742dfbeabc2a1b7"
  },
  {
   "cell_type": "code",
   "execution_count": 47,
   "outputs": [],
   "source": [
    "submit = pd.DataFrame({\n",
    "    'user_id': test_id,\n",
    "    'target': pred_final.flatten()\n",
    "})"
   ],
   "metadata": {
    "collapsed": false,
    "ExecuteTime": {
     "end_time": "2023-11-30T01:23:09.241376800Z",
     "start_time": "2023-11-30T01:23:09.224685200Z"
    }
   },
   "id": "7360026b1293411"
  },
  {
   "cell_type": "code",
   "execution_count": 48,
   "outputs": [],
   "source": [
    "submit.to_csv(\"../submission_data/5.csv\", index = False)"
   ],
   "metadata": {
    "collapsed": false,
    "ExecuteTime": {
     "end_time": "2023-11-30T01:23:09.519349700Z",
     "start_time": "2023-11-30T01:23:09.498378800Z"
    }
   },
   "id": "1a5a6ae94a947ef2"
  },
  {
   "cell_type": "code",
   "execution_count": null,
   "outputs": [],
   "source": [],
   "metadata": {
    "collapsed": false
   },
   "id": "79dd9b7a20fc15b7"
  }
 ],
 "metadata": {
  "kernelspec": {
   "display_name": "Python 3",
   "language": "python",
   "name": "python3"
  },
  "language_info": {
   "codemirror_mode": {
    "name": "ipython",
    "version": 2
   },
   "file_extension": ".py",
   "mimetype": "text/x-python",
   "name": "python",
   "nbconvert_exporter": "python",
   "pygments_lexer": "ipython2",
   "version": "2.7.6"
  }
 },
 "nbformat": 4,
 "nbformat_minor": 5
}

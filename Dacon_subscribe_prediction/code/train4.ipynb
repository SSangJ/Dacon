{
 "cells": [
  {
   "cell_type": "code",
   "execution_count": 1,
   "id": "initial_id",
   "metadata": {
    "collapsed": true,
    "ExecuteTime": {
     "end_time": "2023-11-29T08:17:14.004892900Z",
     "start_time": "2023-11-29T08:17:11.519822500Z"
    }
   },
   "outputs": [
    {
     "name": "stdout",
     "output_type": "stream",
     "text": [
      "cuda:0\n"
     ]
    }
   ],
   "source": [
    "import torch\n",
    "device = torch.device('cuda:0' if torch.cuda.is_available() else 'cpu')\n",
    "\n",
    "print(device)"
   ]
  },
  {
   "cell_type": "code",
   "execution_count": 25,
   "outputs": [],
   "source": [
    "import matplotlib.pyplot as plt\n",
    "import pandas as pd\n",
    "import numpy as np\n",
    "import seaborn as sns\n",
    "\n",
    "from sklearn.model_selection import train_test_split\n",
    "from sklearn.cluster import DBSCAN\n",
    "from sklearn.metrics import confusion_matrix, accuracy_score\n",
    "from sklearn.metrics import f1_score"
   ],
   "metadata": {
    "collapsed": false,
    "ExecuteTime": {
     "end_time": "2023-11-29T08:19:04.683002900Z",
     "start_time": "2023-11-29T08:19:04.661760500Z"
    }
   },
   "id": "55a17efe969dce4a"
  },
  {
   "cell_type": "code",
   "execution_count": 3,
   "outputs": [],
   "source": [
    "import warnings\n",
    "\n",
    "# 경고 무시\n",
    "warnings.filterwarnings(\"ignore\", category=FutureWarning)"
   ],
   "metadata": {
    "collapsed": false,
    "ExecuteTime": {
     "end_time": "2023-11-29T08:17:17.309369100Z",
     "start_time": "2023-11-29T08:17:17.297740600Z"
    }
   },
   "id": "1b0336f4ab645e18"
  },
  {
   "cell_type": "code",
   "execution_count": 4,
   "outputs": [],
   "source": [
    "import os\n",
    "os.environ['KMP_DUPLICATE_LIB_OK']='True'"
   ],
   "metadata": {
    "collapsed": false,
    "ExecuteTime": {
     "end_time": "2023-11-29T08:17:17.715255200Z",
     "start_time": "2023-11-29T08:17:17.703334100Z"
    }
   },
   "id": "83740237a18a3c40"
  },
  {
   "cell_type": "code",
   "execution_count": 5,
   "outputs": [],
   "source": [
    "train = pd.read_csv(\"../data/train.csv\")\n",
    "test = pd.read_csv(\"../data/test.csv\")\n",
    "test_id = test['user_id'].values"
   ],
   "metadata": {
    "collapsed": false,
    "ExecuteTime": {
     "end_time": "2023-11-29T08:17:18.068652100Z",
     "start_time": "2023-11-29T08:17:18.030485200Z"
    }
   },
   "id": "3b1f82b6884d36a4"
  },
  {
   "cell_type": "code",
   "execution_count": 6,
   "outputs": [],
   "source": [
    "train = train.drop(['user_id'], axis=1)\n",
    "test = test.drop(['user_id'], axis=1)"
   ],
   "metadata": {
    "collapsed": false,
    "ExecuteTime": {
     "end_time": "2023-11-29T08:17:18.332920100Z",
     "start_time": "2023-11-29T08:17:18.318987300Z"
    }
   },
   "id": "5ca7c10627b5639b"
  },
  {
   "cell_type": "code",
   "execution_count": 7,
   "outputs": [],
   "source": [
    "train['target'] = train['target'].astype('category')"
   ],
   "metadata": {
    "collapsed": false,
    "ExecuteTime": {
     "end_time": "2023-11-29T08:17:18.825573800Z",
     "start_time": "2023-11-29T08:17:18.813057500Z"
    }
   },
   "id": "f2d107679a7895c8"
  },
  {
   "cell_type": "code",
   "execution_count": 8,
   "outputs": [
    {
     "name": "stdout",
     "output_type": "stream",
     "text": [
      "<class 'pandas.core.frame.DataFrame'>\n",
      "RangeIndex: 10000 entries, 0 to 9999\n",
      "Data columns (total 14 columns):\n",
      " #   Column                             Non-Null Count  Dtype   \n",
      "---  ------                             --------------  -----   \n",
      " 0   subscription_duration              10000 non-null  int64   \n",
      " 1   recent_login_time                  10000 non-null  int64   \n",
      " 2   average_login_time                 10000 non-null  float64 \n",
      " 3   average_time_per_learning_session  10000 non-null  float64 \n",
      " 4   monthly_active_learning_days       10000 non-null  int64   \n",
      " 5   total_completed_courses            10000 non-null  int64   \n",
      " 6   recent_learning_achievement        10000 non-null  float64 \n",
      " 7   abandoned_learning_sessions        10000 non-null  int64   \n",
      " 8   community_engagement_level         10000 non-null  int64   \n",
      " 9   preferred_difficulty_level         10000 non-null  object  \n",
      " 10  subscription_type                  10000 non-null  object  \n",
      " 11  customer_inquiry_history           10000 non-null  int64   \n",
      " 12  payment_pattern                    10000 non-null  int64   \n",
      " 13  target                             10000 non-null  category\n",
      "dtypes: category(1), float64(3), int64(8), object(2)\n",
      "memory usage: 1.0+ MB\n"
     ]
    }
   ],
   "source": [
    "train.info()"
   ],
   "metadata": {
    "collapsed": false,
    "ExecuteTime": {
     "end_time": "2023-11-29T08:17:19.080240100Z",
     "start_time": "2023-11-29T08:17:19.063998400Z"
    }
   },
   "id": "f968f2db3e6f708a"
  },
  {
   "cell_type": "code",
   "execution_count": 9,
   "outputs": [
    {
     "data": {
      "text/plain": "   subscription_duration  recent_login_time  average_login_time  \\\n0                     13                 14           14.946163   \n1                     16                 18           18.453224   \n2                     22                  1           16.195228   \n3                      1                 19           17.628656   \n4                      4                  5           21.390656   \n\n   average_time_per_learning_session  monthly_active_learning_days  \\\n0                           8.427187                            18   \n1                          72.646087                            16   \n2                          21.774492                            13   \n3                          42.659066                            19   \n4                          30.744287                            19   \n\n   total_completed_courses  recent_learning_achievement  \\\n0                       16                    68.360455   \n1                       13                    97.567322   \n2                       14                    94.358763   \n3                       18                    70.153228   \n4                       10                    81.917908   \n\n   abandoned_learning_sessions  community_engagement_level  \\\n0                            3                           4   \n1                            2                           3   \n2                            3                           4   \n3                            0                           3   \n4                            2                           4   \n\n  preferred_difficulty_level subscription_type  customer_inquiry_history  \\\n0                        Low             Basic                         4   \n1                     Medium             Basic                         1   \n2                     Medium           Premium                         0   \n3                        Low             Basic                         1   \n4                     Medium             Basic                         3   \n\n   payment_pattern target  \n0                5      0  \n1                6      1  \n2                7      1  \n3                0      1  \n4                0      1  ",
      "text/html": "<div>\n<style scoped>\n    .dataframe tbody tr th:only-of-type {\n        vertical-align: middle;\n    }\n\n    .dataframe tbody tr th {\n        vertical-align: top;\n    }\n\n    .dataframe thead th {\n        text-align: right;\n    }\n</style>\n<table border=\"1\" class=\"dataframe\">\n  <thead>\n    <tr style=\"text-align: right;\">\n      <th></th>\n      <th>subscription_duration</th>\n      <th>recent_login_time</th>\n      <th>average_login_time</th>\n      <th>average_time_per_learning_session</th>\n      <th>monthly_active_learning_days</th>\n      <th>total_completed_courses</th>\n      <th>recent_learning_achievement</th>\n      <th>abandoned_learning_sessions</th>\n      <th>community_engagement_level</th>\n      <th>preferred_difficulty_level</th>\n      <th>subscription_type</th>\n      <th>customer_inquiry_history</th>\n      <th>payment_pattern</th>\n      <th>target</th>\n    </tr>\n  </thead>\n  <tbody>\n    <tr>\n      <th>0</th>\n      <td>13</td>\n      <td>14</td>\n      <td>14.946163</td>\n      <td>8.427187</td>\n      <td>18</td>\n      <td>16</td>\n      <td>68.360455</td>\n      <td>3</td>\n      <td>4</td>\n      <td>Low</td>\n      <td>Basic</td>\n      <td>4</td>\n      <td>5</td>\n      <td>0</td>\n    </tr>\n    <tr>\n      <th>1</th>\n      <td>16</td>\n      <td>18</td>\n      <td>18.453224</td>\n      <td>72.646087</td>\n      <td>16</td>\n      <td>13</td>\n      <td>97.567322</td>\n      <td>2</td>\n      <td>3</td>\n      <td>Medium</td>\n      <td>Basic</td>\n      <td>1</td>\n      <td>6</td>\n      <td>1</td>\n    </tr>\n    <tr>\n      <th>2</th>\n      <td>22</td>\n      <td>1</td>\n      <td>16.195228</td>\n      <td>21.774492</td>\n      <td>13</td>\n      <td>14</td>\n      <td>94.358763</td>\n      <td>3</td>\n      <td>4</td>\n      <td>Medium</td>\n      <td>Premium</td>\n      <td>0</td>\n      <td>7</td>\n      <td>1</td>\n    </tr>\n    <tr>\n      <th>3</th>\n      <td>1</td>\n      <td>19</td>\n      <td>17.628656</td>\n      <td>42.659066</td>\n      <td>19</td>\n      <td>18</td>\n      <td>70.153228</td>\n      <td>0</td>\n      <td>3</td>\n      <td>Low</td>\n      <td>Basic</td>\n      <td>1</td>\n      <td>0</td>\n      <td>1</td>\n    </tr>\n    <tr>\n      <th>4</th>\n      <td>4</td>\n      <td>5</td>\n      <td>21.390656</td>\n      <td>30.744287</td>\n      <td>19</td>\n      <td>10</td>\n      <td>81.917908</td>\n      <td>2</td>\n      <td>4</td>\n      <td>Medium</td>\n      <td>Basic</td>\n      <td>3</td>\n      <td>0</td>\n      <td>1</td>\n    </tr>\n  </tbody>\n</table>\n</div>"
     },
     "execution_count": 9,
     "metadata": {},
     "output_type": "execute_result"
    }
   ],
   "source": [
    "train.head()"
   ],
   "metadata": {
    "collapsed": false,
    "ExecuteTime": {
     "end_time": "2023-11-29T08:17:19.532927300Z",
     "start_time": "2023-11-29T08:17:19.512980100Z"
    }
   },
   "id": "c05c3ce0f4adf1d0"
  },
  {
   "cell_type": "code",
   "execution_count": 10,
   "outputs": [],
   "source": [
    "# preferred_difficulty_level 열 인코딩\n",
    "train.loc[train['preferred_difficulty_level'].values == 'Low','preferred_difficulty_level'] = 0\n",
    "train.loc[train['preferred_difficulty_level'].values == 'Medium','preferred_difficulty_level'] = 1\n",
    "train.loc[train['preferred_difficulty_level'].values == 'High','preferred_difficulty_level'] = 2\n",
    "train['preferred_difficulty_level'] = train['preferred_difficulty_level'].astype(int)\n",
    "\n",
    "test.loc[test['preferred_difficulty_level'].values == 'Low','preferred_difficulty_level'] = 0\n",
    "test.loc[test['preferred_difficulty_level'].values == 'Medium','preferred_difficulty_level'] = 1\n",
    "test.loc[test['preferred_difficulty_level'].values == 'High','preferred_difficulty_level'] = 2\n",
    "test['preferred_difficulty_level'] = test['preferred_difficulty_level'].astype(int)"
   ],
   "metadata": {
    "collapsed": false,
    "ExecuteTime": {
     "end_time": "2023-11-29T08:17:19.844810Z",
     "start_time": "2023-11-29T08:17:19.830339500Z"
    }
   },
   "id": "8b3d24ddf355e209"
  },
  {
   "cell_type": "code",
   "execution_count": 11,
   "outputs": [
    {
     "name": "stdout",
     "output_type": "stream",
     "text": [
      "<class 'pandas.core.frame.DataFrame'>\n",
      "RangeIndex: 10000 entries, 0 to 9999\n",
      "Data columns (total 13 columns):\n",
      " #   Column                             Non-Null Count  Dtype  \n",
      "---  ------                             --------------  -----  \n",
      " 0   subscription_duration              10000 non-null  int64  \n",
      " 1   recent_login_time                  10000 non-null  int64  \n",
      " 2   average_login_time                 10000 non-null  float64\n",
      " 3   average_time_per_learning_session  10000 non-null  float64\n",
      " 4   monthly_active_learning_days       10000 non-null  int64  \n",
      " 5   total_completed_courses            10000 non-null  int64  \n",
      " 6   recent_learning_achievement        10000 non-null  float64\n",
      " 7   abandoned_learning_sessions        10000 non-null  int64  \n",
      " 8   community_engagement_level         10000 non-null  int64  \n",
      " 9   preferred_difficulty_level         10000 non-null  int32  \n",
      " 10  subscription_type                  10000 non-null  object \n",
      " 11  customer_inquiry_history           10000 non-null  int64  \n",
      " 12  payment_pattern                    10000 non-null  int64  \n",
      "dtypes: float64(3), int32(1), int64(8), object(1)\n",
      "memory usage: 976.7+ KB\n"
     ]
    }
   ],
   "source": [
    "test.info()"
   ],
   "metadata": {
    "collapsed": false,
    "ExecuteTime": {
     "end_time": "2023-11-29T08:17:20.900594100Z",
     "start_time": "2023-11-29T08:17:20.886745Z"
    }
   },
   "id": "1b4112e298e8e82d"
  },
  {
   "cell_type": "code",
   "execution_count": 12,
   "outputs": [
    {
     "name": "stdout",
     "output_type": "stream",
     "text": [
      "<class 'pandas.core.frame.DataFrame'>\n",
      "RangeIndex: 10000 entries, 0 to 9999\n",
      "Data columns (total 14 columns):\n",
      " #   Column                             Non-Null Count  Dtype   \n",
      "---  ------                             --------------  -----   \n",
      " 0   subscription_duration              10000 non-null  int64   \n",
      " 1   recent_login_time                  10000 non-null  int64   \n",
      " 2   average_login_time                 10000 non-null  float64 \n",
      " 3   average_time_per_learning_session  10000 non-null  float64 \n",
      " 4   monthly_active_learning_days       10000 non-null  int64   \n",
      " 5   total_completed_courses            10000 non-null  int64   \n",
      " 6   recent_learning_achievement        10000 non-null  float64 \n",
      " 7   abandoned_learning_sessions        10000 non-null  int64   \n",
      " 8   community_engagement_level         10000 non-null  int64   \n",
      " 9   preferred_difficulty_level         10000 non-null  int32   \n",
      " 10  subscription_type                  10000 non-null  object  \n",
      " 11  customer_inquiry_history           10000 non-null  int64   \n",
      " 12  payment_pattern                    10000 non-null  int64   \n",
      " 13  target                             10000 non-null  category\n",
      "dtypes: category(1), float64(3), int32(1), int64(8), object(1)\n",
      "memory usage: 986.6+ KB\n"
     ]
    }
   ],
   "source": [
    "train.info()"
   ],
   "metadata": {
    "collapsed": false,
    "ExecuteTime": {
     "end_time": "2023-11-29T08:17:21.281511200Z",
     "start_time": "2023-11-29T08:17:21.265786200Z"
    }
   },
   "id": "9eba8c660c9ff572"
  },
  {
   "cell_type": "code",
   "execution_count": 13,
   "outputs": [
    {
     "data": {
      "text/plain": "      subscription_duration  recent_login_time  average_login_time  \\\n0                        13                 14           14.946163   \n1                        16                 18           18.453224   \n2                        22                  1           16.195228   \n3                         1                 19           17.628656   \n4                         4                  5           21.390656   \n...                     ...                ...                 ...   \n9995                     22                 29           14.727623   \n9996                     10                 11           19.374054   \n9997                      7                 27           18.240978   \n9998                     11                  7           18.783800   \n9999                     10                  5           13.073230   \n\n      average_time_per_learning_session  monthly_active_learning_days  \\\n0                              8.427187                            18   \n1                             72.646087                            16   \n2                             21.774492                            13   \n3                             42.659066                            19   \n4                             30.744287                            19   \n...                                 ...                           ...   \n9995                          84.053558                            18   \n9996                          45.464833                             9   \n9997                         127.302411                            24   \n9998                           5.297234                            10   \n9999                          28.120031                             3   \n\n      total_completed_courses  recent_learning_achievement  \\\n0                          16                    68.360455   \n1                          13                    97.567322   \n2                          14                    94.358763   \n3                          18                    70.153228   \n4                          10                    81.917908   \n...                       ...                          ...   \n9995                       16                    64.966803   \n9996                        8                    82.750244   \n9997                       14                    81.567839   \n9998                       10                    89.885656   \n9999                       13                    64.811297   \n\n      abandoned_learning_sessions  community_engagement_level  \\\n0                               3                           4   \n1                               2                           3   \n2                               3                           4   \n3                               0                           3   \n4                               2                           4   \n...                           ...                         ...   \n9995                            2                           5   \n9996                            3                           3   \n9997                            3                           5   \n9998                            4                           5   \n9999                            4                           5   \n\n      preferred_difficulty_level subscription_type  customer_inquiry_history  \\\n0                              0             Basic                         4   \n1                              1             Basic                         1   \n2                              1           Premium                         0   \n3                              0             Basic                         1   \n4                              1             Basic                         3   \n...                          ...               ...                       ...   \n9995                           0           Premium                         1   \n9996                           1             Basic                         2   \n9997                           2             Basic                         1   \n9998                           0             Basic                         2   \n9999                           0           Premium                         0   \n\n      payment_pattern target  \n0                   5      0  \n1                   6      1  \n2                   7      1  \n3                   0      1  \n4                   0      1  \n...               ...    ...  \n9995                1      1  \n9996                7      1  \n9997                6      1  \n9998                0      1  \n9999                3      0  \n\n[10000 rows x 14 columns]",
      "text/html": "<div>\n<style scoped>\n    .dataframe tbody tr th:only-of-type {\n        vertical-align: middle;\n    }\n\n    .dataframe tbody tr th {\n        vertical-align: top;\n    }\n\n    .dataframe thead th {\n        text-align: right;\n    }\n</style>\n<table border=\"1\" class=\"dataframe\">\n  <thead>\n    <tr style=\"text-align: right;\">\n      <th></th>\n      <th>subscription_duration</th>\n      <th>recent_login_time</th>\n      <th>average_login_time</th>\n      <th>average_time_per_learning_session</th>\n      <th>monthly_active_learning_days</th>\n      <th>total_completed_courses</th>\n      <th>recent_learning_achievement</th>\n      <th>abandoned_learning_sessions</th>\n      <th>community_engagement_level</th>\n      <th>preferred_difficulty_level</th>\n      <th>subscription_type</th>\n      <th>customer_inquiry_history</th>\n      <th>payment_pattern</th>\n      <th>target</th>\n    </tr>\n  </thead>\n  <tbody>\n    <tr>\n      <th>0</th>\n      <td>13</td>\n      <td>14</td>\n      <td>14.946163</td>\n      <td>8.427187</td>\n      <td>18</td>\n      <td>16</td>\n      <td>68.360455</td>\n      <td>3</td>\n      <td>4</td>\n      <td>0</td>\n      <td>Basic</td>\n      <td>4</td>\n      <td>5</td>\n      <td>0</td>\n    </tr>\n    <tr>\n      <th>1</th>\n      <td>16</td>\n      <td>18</td>\n      <td>18.453224</td>\n      <td>72.646087</td>\n      <td>16</td>\n      <td>13</td>\n      <td>97.567322</td>\n      <td>2</td>\n      <td>3</td>\n      <td>1</td>\n      <td>Basic</td>\n      <td>1</td>\n      <td>6</td>\n      <td>1</td>\n    </tr>\n    <tr>\n      <th>2</th>\n      <td>22</td>\n      <td>1</td>\n      <td>16.195228</td>\n      <td>21.774492</td>\n      <td>13</td>\n      <td>14</td>\n      <td>94.358763</td>\n      <td>3</td>\n      <td>4</td>\n      <td>1</td>\n      <td>Premium</td>\n      <td>0</td>\n      <td>7</td>\n      <td>1</td>\n    </tr>\n    <tr>\n      <th>3</th>\n      <td>1</td>\n      <td>19</td>\n      <td>17.628656</td>\n      <td>42.659066</td>\n      <td>19</td>\n      <td>18</td>\n      <td>70.153228</td>\n      <td>0</td>\n      <td>3</td>\n      <td>0</td>\n      <td>Basic</td>\n      <td>1</td>\n      <td>0</td>\n      <td>1</td>\n    </tr>\n    <tr>\n      <th>4</th>\n      <td>4</td>\n      <td>5</td>\n      <td>21.390656</td>\n      <td>30.744287</td>\n      <td>19</td>\n      <td>10</td>\n      <td>81.917908</td>\n      <td>2</td>\n      <td>4</td>\n      <td>1</td>\n      <td>Basic</td>\n      <td>3</td>\n      <td>0</td>\n      <td>1</td>\n    </tr>\n    <tr>\n      <th>...</th>\n      <td>...</td>\n      <td>...</td>\n      <td>...</td>\n      <td>...</td>\n      <td>...</td>\n      <td>...</td>\n      <td>...</td>\n      <td>...</td>\n      <td>...</td>\n      <td>...</td>\n      <td>...</td>\n      <td>...</td>\n      <td>...</td>\n      <td>...</td>\n    </tr>\n    <tr>\n      <th>9995</th>\n      <td>22</td>\n      <td>29</td>\n      <td>14.727623</td>\n      <td>84.053558</td>\n      <td>18</td>\n      <td>16</td>\n      <td>64.966803</td>\n      <td>2</td>\n      <td>5</td>\n      <td>0</td>\n      <td>Premium</td>\n      <td>1</td>\n      <td>1</td>\n      <td>1</td>\n    </tr>\n    <tr>\n      <th>9996</th>\n      <td>10</td>\n      <td>11</td>\n      <td>19.374054</td>\n      <td>45.464833</td>\n      <td>9</td>\n      <td>8</td>\n      <td>82.750244</td>\n      <td>3</td>\n      <td>3</td>\n      <td>1</td>\n      <td>Basic</td>\n      <td>2</td>\n      <td>7</td>\n      <td>1</td>\n    </tr>\n    <tr>\n      <th>9997</th>\n      <td>7</td>\n      <td>27</td>\n      <td>18.240978</td>\n      <td>127.302411</td>\n      <td>24</td>\n      <td>14</td>\n      <td>81.567839</td>\n      <td>3</td>\n      <td>5</td>\n      <td>2</td>\n      <td>Basic</td>\n      <td>1</td>\n      <td>6</td>\n      <td>1</td>\n    </tr>\n    <tr>\n      <th>9998</th>\n      <td>11</td>\n      <td>7</td>\n      <td>18.783800</td>\n      <td>5.297234</td>\n      <td>10</td>\n      <td>10</td>\n      <td>89.885656</td>\n      <td>4</td>\n      <td>5</td>\n      <td>0</td>\n      <td>Basic</td>\n      <td>2</td>\n      <td>0</td>\n      <td>1</td>\n    </tr>\n    <tr>\n      <th>9999</th>\n      <td>10</td>\n      <td>5</td>\n      <td>13.073230</td>\n      <td>28.120031</td>\n      <td>3</td>\n      <td>13</td>\n      <td>64.811297</td>\n      <td>4</td>\n      <td>5</td>\n      <td>0</td>\n      <td>Premium</td>\n      <td>0</td>\n      <td>3</td>\n      <td>0</td>\n    </tr>\n  </tbody>\n</table>\n<p>10000 rows × 14 columns</p>\n</div>"
     },
     "execution_count": 13,
     "metadata": {},
     "output_type": "execute_result"
    }
   ],
   "source": [
    "train"
   ],
   "metadata": {
    "collapsed": false,
    "ExecuteTime": {
     "end_time": "2023-11-29T08:17:21.661730100Z",
     "start_time": "2023-11-29T08:17:21.641585900Z"
    }
   },
   "id": "c6781182136d8bae"
  },
  {
   "cell_type": "code",
   "execution_count": 14,
   "outputs": [],
   "source": [
    "from sklearn.preprocessing import StandardScaler, LabelEncoder\n",
    "\n",
    "# 데이터 스케일링을 위한 StandardScaler 인스턴스 생성\n",
    "scaler = StandardScaler()\n",
    "categoric_col =['subscription_type']\n",
    "label_encoders = {}\n",
    "for col in categoric_col:\n",
    "    label_encoders[col] = LabelEncoder()\n",
    "    train[col] = label_encoders[col].fit_transform(train[col])\n",
    "    test[col] = label_encoders[col].fit_transform(test[col])"
   ],
   "metadata": {
    "collapsed": false,
    "ExecuteTime": {
     "end_time": "2023-11-29T08:17:22.309990500Z",
     "start_time": "2023-11-29T08:17:22.295490600Z"
    }
   },
   "id": "f506f8dd10704945"
  },
  {
   "cell_type": "code",
   "execution_count": 15,
   "outputs": [],
   "source": [
    "# 'payment_pattern' 열에 대한 고유값 확인\n",
    "unique_values = train['payment_pattern'].unique()\n",
    "\n",
    "# 각 고유값에 대해 새로운 열 생성 및 0 또는 1로 설정\n",
    "for value in unique_values:\n",
    "    train[f'payment_pattern_{value}'] = (train['payment_pattern'] == value).astype(int)\n",
    "\n",
    "# 기존 'payment_pattern' 열 삭제\n",
    "train.drop('payment_pattern', axis=1, inplace=True)\n",
    "\n",
    "for value in unique_values:\n",
    "    test[f'payment_pattern_{value}'] = (test['payment_pattern'] == value).astype(int)\n",
    "\n",
    "# 기존 'payment_pattern' 열 삭제\n",
    "test.drop('payment_pattern', axis=1, inplace=True)"
   ],
   "metadata": {
    "collapsed": false,
    "ExecuteTime": {
     "end_time": "2023-11-29T08:17:22.700676700Z",
     "start_time": "2023-11-29T08:17:22.685250Z"
    }
   },
   "id": "eb67fdd644e468d"
  },
  {
   "cell_type": "code",
   "execution_count": 16,
   "outputs": [
    {
     "data": {
      "text/plain": "      subscription_duration  recent_login_time  average_login_time  \\\n0                        13                 14           14.946163   \n1                        16                 18           18.453224   \n2                        22                  1           16.195228   \n3                         1                 19           17.628656   \n4                         4                  5           21.390656   \n...                     ...                ...                 ...   \n9995                     22                 29           14.727623   \n9996                     10                 11           19.374054   \n9997                      7                 27           18.240978   \n9998                     11                  7           18.783800   \n9999                     10                  5           13.073230   \n\n      average_time_per_learning_session  monthly_active_learning_days  \\\n0                              8.427187                            18   \n1                             72.646087                            16   \n2                             21.774492                            13   \n3                             42.659066                            19   \n4                             30.744287                            19   \n...                                 ...                           ...   \n9995                          84.053558                            18   \n9996                          45.464833                             9   \n9997                         127.302411                            24   \n9998                           5.297234                            10   \n9999                          28.120031                             3   \n\n      total_completed_courses  recent_learning_achievement  \\\n0                          16                    68.360455   \n1                          13                    97.567322   \n2                          14                    94.358763   \n3                          18                    70.153228   \n4                          10                    81.917908   \n...                       ...                          ...   \n9995                       16                    64.966803   \n9996                        8                    82.750244   \n9997                       14                    81.567839   \n9998                       10                    89.885656   \n9999                       13                    64.811297   \n\n      abandoned_learning_sessions  community_engagement_level  \\\n0                               3                           4   \n1                               2                           3   \n2                               3                           4   \n3                               0                           3   \n4                               2                           4   \n...                           ...                         ...   \n9995                            2                           5   \n9996                            3                           3   \n9997                            3                           5   \n9998                            4                           5   \n9999                            4                           5   \n\n      preferred_difficulty_level  ...  customer_inquiry_history  target  \\\n0                              0  ...                         4       0   \n1                              1  ...                         1       1   \n2                              1  ...                         0       1   \n3                              0  ...                         1       1   \n4                              1  ...                         3       1   \n...                          ...  ...                       ...     ...   \n9995                           0  ...                         1       1   \n9996                           1  ...                         2       1   \n9997                           2  ...                         1       1   \n9998                           0  ...                         2       1   \n9999                           0  ...                         0       0   \n\n     payment_pattern_5  payment_pattern_6  payment_pattern_7  \\\n0                    1                  0                  0   \n1                    0                  1                  0   \n2                    0                  0                  1   \n3                    0                  0                  0   \n4                    0                  0                  0   \n...                ...                ...                ...   \n9995                 0                  0                  0   \n9996                 0                  0                  1   \n9997                 0                  1                  0   \n9998                 0                  0                  0   \n9999                 0                  0                  0   \n\n      payment_pattern_0  payment_pattern_1  payment_pattern_3  \\\n0                     0                  0                  0   \n1                     0                  0                  0   \n2                     0                  0                  0   \n3                     1                  0                  0   \n4                     1                  0                  0   \n...                 ...                ...                ...   \n9995                  0                  1                  0   \n9996                  0                  0                  0   \n9997                  0                  0                  0   \n9998                  1                  0                  0   \n9999                  0                  0                  1   \n\n      payment_pattern_4  payment_pattern_2  \n0                     0                  0  \n1                     0                  0  \n2                     0                  0  \n3                     0                  0  \n4                     0                  0  \n...                 ...                ...  \n9995                  0                  0  \n9996                  0                  0  \n9997                  0                  0  \n9998                  0                  0  \n9999                  0                  0  \n\n[10000 rows x 21 columns]",
      "text/html": "<div>\n<style scoped>\n    .dataframe tbody tr th:only-of-type {\n        vertical-align: middle;\n    }\n\n    .dataframe tbody tr th {\n        vertical-align: top;\n    }\n\n    .dataframe thead th {\n        text-align: right;\n    }\n</style>\n<table border=\"1\" class=\"dataframe\">\n  <thead>\n    <tr style=\"text-align: right;\">\n      <th></th>\n      <th>subscription_duration</th>\n      <th>recent_login_time</th>\n      <th>average_login_time</th>\n      <th>average_time_per_learning_session</th>\n      <th>monthly_active_learning_days</th>\n      <th>total_completed_courses</th>\n      <th>recent_learning_achievement</th>\n      <th>abandoned_learning_sessions</th>\n      <th>community_engagement_level</th>\n      <th>preferred_difficulty_level</th>\n      <th>...</th>\n      <th>customer_inquiry_history</th>\n      <th>target</th>\n      <th>payment_pattern_5</th>\n      <th>payment_pattern_6</th>\n      <th>payment_pattern_7</th>\n      <th>payment_pattern_0</th>\n      <th>payment_pattern_1</th>\n      <th>payment_pattern_3</th>\n      <th>payment_pattern_4</th>\n      <th>payment_pattern_2</th>\n    </tr>\n  </thead>\n  <tbody>\n    <tr>\n      <th>0</th>\n      <td>13</td>\n      <td>14</td>\n      <td>14.946163</td>\n      <td>8.427187</td>\n      <td>18</td>\n      <td>16</td>\n      <td>68.360455</td>\n      <td>3</td>\n      <td>4</td>\n      <td>0</td>\n      <td>...</td>\n      <td>4</td>\n      <td>0</td>\n      <td>1</td>\n      <td>0</td>\n      <td>0</td>\n      <td>0</td>\n      <td>0</td>\n      <td>0</td>\n      <td>0</td>\n      <td>0</td>\n    </tr>\n    <tr>\n      <th>1</th>\n      <td>16</td>\n      <td>18</td>\n      <td>18.453224</td>\n      <td>72.646087</td>\n      <td>16</td>\n      <td>13</td>\n      <td>97.567322</td>\n      <td>2</td>\n      <td>3</td>\n      <td>1</td>\n      <td>...</td>\n      <td>1</td>\n      <td>1</td>\n      <td>0</td>\n      <td>1</td>\n      <td>0</td>\n      <td>0</td>\n      <td>0</td>\n      <td>0</td>\n      <td>0</td>\n      <td>0</td>\n    </tr>\n    <tr>\n      <th>2</th>\n      <td>22</td>\n      <td>1</td>\n      <td>16.195228</td>\n      <td>21.774492</td>\n      <td>13</td>\n      <td>14</td>\n      <td>94.358763</td>\n      <td>3</td>\n      <td>4</td>\n      <td>1</td>\n      <td>...</td>\n      <td>0</td>\n      <td>1</td>\n      <td>0</td>\n      <td>0</td>\n      <td>1</td>\n      <td>0</td>\n      <td>0</td>\n      <td>0</td>\n      <td>0</td>\n      <td>0</td>\n    </tr>\n    <tr>\n      <th>3</th>\n      <td>1</td>\n      <td>19</td>\n      <td>17.628656</td>\n      <td>42.659066</td>\n      <td>19</td>\n      <td>18</td>\n      <td>70.153228</td>\n      <td>0</td>\n      <td>3</td>\n      <td>0</td>\n      <td>...</td>\n      <td>1</td>\n      <td>1</td>\n      <td>0</td>\n      <td>0</td>\n      <td>0</td>\n      <td>1</td>\n      <td>0</td>\n      <td>0</td>\n      <td>0</td>\n      <td>0</td>\n    </tr>\n    <tr>\n      <th>4</th>\n      <td>4</td>\n      <td>5</td>\n      <td>21.390656</td>\n      <td>30.744287</td>\n      <td>19</td>\n      <td>10</td>\n      <td>81.917908</td>\n      <td>2</td>\n      <td>4</td>\n      <td>1</td>\n      <td>...</td>\n      <td>3</td>\n      <td>1</td>\n      <td>0</td>\n      <td>0</td>\n      <td>0</td>\n      <td>1</td>\n      <td>0</td>\n      <td>0</td>\n      <td>0</td>\n      <td>0</td>\n    </tr>\n    <tr>\n      <th>...</th>\n      <td>...</td>\n      <td>...</td>\n      <td>...</td>\n      <td>...</td>\n      <td>...</td>\n      <td>...</td>\n      <td>...</td>\n      <td>...</td>\n      <td>...</td>\n      <td>...</td>\n      <td>...</td>\n      <td>...</td>\n      <td>...</td>\n      <td>...</td>\n      <td>...</td>\n      <td>...</td>\n      <td>...</td>\n      <td>...</td>\n      <td>...</td>\n      <td>...</td>\n      <td>...</td>\n    </tr>\n    <tr>\n      <th>9995</th>\n      <td>22</td>\n      <td>29</td>\n      <td>14.727623</td>\n      <td>84.053558</td>\n      <td>18</td>\n      <td>16</td>\n      <td>64.966803</td>\n      <td>2</td>\n      <td>5</td>\n      <td>0</td>\n      <td>...</td>\n      <td>1</td>\n      <td>1</td>\n      <td>0</td>\n      <td>0</td>\n      <td>0</td>\n      <td>0</td>\n      <td>1</td>\n      <td>0</td>\n      <td>0</td>\n      <td>0</td>\n    </tr>\n    <tr>\n      <th>9996</th>\n      <td>10</td>\n      <td>11</td>\n      <td>19.374054</td>\n      <td>45.464833</td>\n      <td>9</td>\n      <td>8</td>\n      <td>82.750244</td>\n      <td>3</td>\n      <td>3</td>\n      <td>1</td>\n      <td>...</td>\n      <td>2</td>\n      <td>1</td>\n      <td>0</td>\n      <td>0</td>\n      <td>1</td>\n      <td>0</td>\n      <td>0</td>\n      <td>0</td>\n      <td>0</td>\n      <td>0</td>\n    </tr>\n    <tr>\n      <th>9997</th>\n      <td>7</td>\n      <td>27</td>\n      <td>18.240978</td>\n      <td>127.302411</td>\n      <td>24</td>\n      <td>14</td>\n      <td>81.567839</td>\n      <td>3</td>\n      <td>5</td>\n      <td>2</td>\n      <td>...</td>\n      <td>1</td>\n      <td>1</td>\n      <td>0</td>\n      <td>1</td>\n      <td>0</td>\n      <td>0</td>\n      <td>0</td>\n      <td>0</td>\n      <td>0</td>\n      <td>0</td>\n    </tr>\n    <tr>\n      <th>9998</th>\n      <td>11</td>\n      <td>7</td>\n      <td>18.783800</td>\n      <td>5.297234</td>\n      <td>10</td>\n      <td>10</td>\n      <td>89.885656</td>\n      <td>4</td>\n      <td>5</td>\n      <td>0</td>\n      <td>...</td>\n      <td>2</td>\n      <td>1</td>\n      <td>0</td>\n      <td>0</td>\n      <td>0</td>\n      <td>1</td>\n      <td>0</td>\n      <td>0</td>\n      <td>0</td>\n      <td>0</td>\n    </tr>\n    <tr>\n      <th>9999</th>\n      <td>10</td>\n      <td>5</td>\n      <td>13.073230</td>\n      <td>28.120031</td>\n      <td>3</td>\n      <td>13</td>\n      <td>64.811297</td>\n      <td>4</td>\n      <td>5</td>\n      <td>0</td>\n      <td>...</td>\n      <td>0</td>\n      <td>0</td>\n      <td>0</td>\n      <td>0</td>\n      <td>0</td>\n      <td>0</td>\n      <td>0</td>\n      <td>1</td>\n      <td>0</td>\n      <td>0</td>\n    </tr>\n  </tbody>\n</table>\n<p>10000 rows × 21 columns</p>\n</div>"
     },
     "execution_count": 16,
     "metadata": {},
     "output_type": "execute_result"
    }
   ],
   "source": [
    "train"
   ],
   "metadata": {
    "collapsed": false,
    "ExecuteTime": {
     "end_time": "2023-11-29T08:17:23.585358100Z",
     "start_time": "2023-11-29T08:17:23.565135100Z"
    }
   },
   "id": "ed96d8a785a94f9f"
  },
  {
   "cell_type": "code",
   "execution_count": 17,
   "outputs": [],
   "source": [
    "X = train[train.columns.drop('target')]\n",
    "Y = train['target']"
   ],
   "metadata": {
    "collapsed": false,
    "ExecuteTime": {
     "end_time": "2023-11-29T08:17:25.224766800Z",
     "start_time": "2023-11-29T08:17:25.213126200Z"
    }
   },
   "id": "f8366e52daa12b31"
  },
  {
   "cell_type": "code",
   "execution_count": 18,
   "outputs": [],
   "source": [
    "# X와 Y로 나누기\n",
    "X_train, X_test, y_train, y_test = train_test_split(X, Y, test_size=0.2, random_state=42)"
   ],
   "metadata": {
    "collapsed": false,
    "ExecuteTime": {
     "end_time": "2023-11-29T08:17:25.691191600Z",
     "start_time": "2023-11-29T08:17:25.678774600Z"
    }
   },
   "id": "b22405682fa57b34"
  },
  {
   "cell_type": "code",
   "execution_count": 195,
   "outputs": [
    {
     "data": {
      "text/plain": "XGBClassifier(base_score=None, booster=None, callbacks=None,\n              colsample_bylevel=None, colsample_bynode=None,\n              colsample_bytree=None, early_stopping_rounds=None,\n              enable_categorical=False, eval_metric=None, feature_types=None,\n              gamma=None, gpu_id=None, grow_policy=None, importance_type=None,\n              interaction_constraints=None, learning_rate=None, max_bin=None,\n              max_cat_threshold=None, max_cat_to_onehot=None,\n              max_delta_step=None, max_depth=None, max_leaves=None,\n              min_child_weight=None, missing=nan, monotone_constraints=None,\n              n_estimators=200, n_jobs=None, num_class=2,\n              num_parallel_tree=None, objective='multi:softmax', ...)",
      "text/html": "<style>#sk-container-id-44 {color: black;}#sk-container-id-44 pre{padding: 0;}#sk-container-id-44 div.sk-toggleable {background-color: white;}#sk-container-id-44 label.sk-toggleable__label {cursor: pointer;display: block;width: 100%;margin-bottom: 0;padding: 0.3em;box-sizing: border-box;text-align: center;}#sk-container-id-44 label.sk-toggleable__label-arrow:before {content: \"▸\";float: left;margin-right: 0.25em;color: #696969;}#sk-container-id-44 label.sk-toggleable__label-arrow:hover:before {color: black;}#sk-container-id-44 div.sk-estimator:hover label.sk-toggleable__label-arrow:before {color: black;}#sk-container-id-44 div.sk-toggleable__content {max-height: 0;max-width: 0;overflow: hidden;text-align: left;background-color: #f0f8ff;}#sk-container-id-44 div.sk-toggleable__content pre {margin: 0.2em;color: black;border-radius: 0.25em;background-color: #f0f8ff;}#sk-container-id-44 input.sk-toggleable__control:checked~div.sk-toggleable__content {max-height: 200px;max-width: 100%;overflow: auto;}#sk-container-id-44 input.sk-toggleable__control:checked~label.sk-toggleable__label-arrow:before {content: \"▾\";}#sk-container-id-44 div.sk-estimator input.sk-toggleable__control:checked~label.sk-toggleable__label {background-color: #d4ebff;}#sk-container-id-44 div.sk-label input.sk-toggleable__control:checked~label.sk-toggleable__label {background-color: #d4ebff;}#sk-container-id-44 input.sk-hidden--visually {border: 0;clip: rect(1px 1px 1px 1px);clip: rect(1px, 1px, 1px, 1px);height: 1px;margin: -1px;overflow: hidden;padding: 0;position: absolute;width: 1px;}#sk-container-id-44 div.sk-estimator {font-family: monospace;background-color: #f0f8ff;border: 1px dotted black;border-radius: 0.25em;box-sizing: border-box;margin-bottom: 0.5em;}#sk-container-id-44 div.sk-estimator:hover {background-color: #d4ebff;}#sk-container-id-44 div.sk-parallel-item::after {content: \"\";width: 100%;border-bottom: 1px solid gray;flex-grow: 1;}#sk-container-id-44 div.sk-label:hover label.sk-toggleable__label {background-color: #d4ebff;}#sk-container-id-44 div.sk-serial::before {content: \"\";position: absolute;border-left: 1px solid gray;box-sizing: border-box;top: 0;bottom: 0;left: 50%;z-index: 0;}#sk-container-id-44 div.sk-serial {display: flex;flex-direction: column;align-items: center;background-color: white;padding-right: 0.2em;padding-left: 0.2em;position: relative;}#sk-container-id-44 div.sk-item {position: relative;z-index: 1;}#sk-container-id-44 div.sk-parallel {display: flex;align-items: stretch;justify-content: center;background-color: white;position: relative;}#sk-container-id-44 div.sk-item::before, #sk-container-id-44 div.sk-parallel-item::before {content: \"\";position: absolute;border-left: 1px solid gray;box-sizing: border-box;top: 0;bottom: 0;left: 50%;z-index: -1;}#sk-container-id-44 div.sk-parallel-item {display: flex;flex-direction: column;z-index: 1;position: relative;background-color: white;}#sk-container-id-44 div.sk-parallel-item:first-child::after {align-self: flex-end;width: 50%;}#sk-container-id-44 div.sk-parallel-item:last-child::after {align-self: flex-start;width: 50%;}#sk-container-id-44 div.sk-parallel-item:only-child::after {width: 0;}#sk-container-id-44 div.sk-dashed-wrapped {border: 1px dashed gray;margin: 0 0.4em 0.5em 0.4em;box-sizing: border-box;padding-bottom: 0.4em;background-color: white;}#sk-container-id-44 div.sk-label label {font-family: monospace;font-weight: bold;display: inline-block;line-height: 1.2em;}#sk-container-id-44 div.sk-label-container {text-align: center;}#sk-container-id-44 div.sk-container {/* jupyter's `normalize.less` sets `[hidden] { display: none; }` but bootstrap.min.css set `[hidden] { display: none !important; }` so we also need the `!important` here to be able to override the default hidden behavior on the sphinx rendered scikit-learn.org. See: https://github.com/scikit-learn/scikit-learn/issues/21755 */display: inline-block !important;position: relative;}#sk-container-id-44 div.sk-text-repr-fallback {display: none;}</style><div id=\"sk-container-id-44\" class=\"sk-top-container\"><div class=\"sk-text-repr-fallback\"><pre>XGBClassifier(base_score=None, booster=None, callbacks=None,\n              colsample_bylevel=None, colsample_bynode=None,\n              colsample_bytree=None, early_stopping_rounds=None,\n              enable_categorical=False, eval_metric=None, feature_types=None,\n              gamma=None, gpu_id=None, grow_policy=None, importance_type=None,\n              interaction_constraints=None, learning_rate=None, max_bin=None,\n              max_cat_threshold=None, max_cat_to_onehot=None,\n              max_delta_step=None, max_depth=None, max_leaves=None,\n              min_child_weight=None, missing=nan, monotone_constraints=None,\n              n_estimators=200, n_jobs=None, num_class=2,\n              num_parallel_tree=None, objective=&#x27;multi:softmax&#x27;, ...)</pre><b>In a Jupyter environment, please rerun this cell to show the HTML representation or trust the notebook. <br />On GitHub, the HTML representation is unable to render, please try loading this page with nbviewer.org.</b></div><div class=\"sk-container\" hidden><div class=\"sk-item\"><div class=\"sk-estimator sk-toggleable\"><input class=\"sk-toggleable__control sk-hidden--visually\" id=\"sk-estimator-id-44\" type=\"checkbox\" checked><label for=\"sk-estimator-id-44\" class=\"sk-toggleable__label sk-toggleable__label-arrow\">XGBClassifier</label><div class=\"sk-toggleable__content\"><pre>XGBClassifier(base_score=None, booster=None, callbacks=None,\n              colsample_bylevel=None, colsample_bynode=None,\n              colsample_bytree=None, early_stopping_rounds=None,\n              enable_categorical=False, eval_metric=None, feature_types=None,\n              gamma=None, gpu_id=None, grow_policy=None, importance_type=None,\n              interaction_constraints=None, learning_rate=None, max_bin=None,\n              max_cat_threshold=None, max_cat_to_onehot=None,\n              max_delta_step=None, max_depth=None, max_leaves=None,\n              min_child_weight=None, missing=nan, monotone_constraints=None,\n              n_estimators=200, n_jobs=None, num_class=2,\n              num_parallel_tree=None, objective=&#x27;multi:softmax&#x27;, ...)</pre></div></div></div></div></div>"
     },
     "execution_count": 195,
     "metadata": {},
     "output_type": "execute_result"
    }
   ],
   "source": [
    "import xgboost as xgb\n",
    "\n",
    "# 데이터셋 로드 및 전처리\n",
    "# 예: X는 특징 변수, y는 범주형 목표 변수\n",
    "\n",
    "\n",
    "# XGBoost 모델 생성 및 학습\n",
    "model_xgb = xgb.XGBClassifier(random_state=2200,objective=\"multi:softmax\", num_class=2, n_estimators = 200)\n",
    "model_xgb.fit(X_train, y_train)"
   ],
   "metadata": {
    "collapsed": false,
    "ExecuteTime": {
     "end_time": "2023-11-29T09:14:38.525875200Z",
     "start_time": "2023-11-29T09:14:37.092222300Z"
    }
   },
   "id": "c75921dd3b35d7d3"
  },
  {
   "cell_type": "code",
   "execution_count": 196,
   "outputs": [],
   "source": [
    "y_pred_xgb = model_xgb.predict(X_test)"
   ],
   "metadata": {
    "collapsed": false,
    "ExecuteTime": {
     "end_time": "2023-11-29T09:14:38.539556800Z",
     "start_time": "2023-11-29T09:14:38.525875200Z"
    }
   },
   "id": "202edf1fd350a38e"
  },
  {
   "cell_type": "code",
   "execution_count": 197,
   "outputs": [
    {
     "name": "stdout",
     "output_type": "stream",
     "text": [
      "XGBoost Accuracy: 0.568\n"
     ]
    }
   ],
   "source": [
    "accuracy_xgb = accuracy_score(y_test, y_pred_xgb)\n",
    "print(f\"XGBoost Accuracy: {accuracy_xgb}\")"
   ],
   "metadata": {
    "collapsed": false,
    "ExecuteTime": {
     "end_time": "2023-11-29T09:14:38.572833200Z",
     "start_time": "2023-11-29T09:14:38.539556800Z"
    }
   },
   "id": "fc3001306f8070b1"
  },
  {
   "cell_type": "code",
   "execution_count": 198,
   "outputs": [
    {
     "name": "stdout",
     "output_type": "stream",
     "text": [
      "0.5100174216027875\n"
     ]
    }
   ],
   "source": [
    "print(f1_score(y_test,y_pred_xgb , average='macro'))"
   ],
   "metadata": {
    "collapsed": false,
    "ExecuteTime": {
     "end_time": "2023-11-29T09:14:39.716157400Z",
     "start_time": "2023-11-29T09:14:39.701429Z"
    }
   },
   "id": "6e23744a52d65f81"
  },
  {
   "cell_type": "code",
   "execution_count": 158,
   "outputs": [
    {
     "ename": "NameError",
     "evalue": "name 'model_catboost' is not defined",
     "output_type": "error",
     "traceback": [
      "\u001B[1;31m---------------------------------------------------------------------------\u001B[0m",
      "\u001B[1;31mNameError\u001B[0m                                 Traceback (most recent call last)",
      "Cell \u001B[1;32mIn[158], line 2\u001B[0m\n\u001B[0;32m      1\u001B[0m \u001B[38;5;66;03m# 예측\u001B[39;00m\n\u001B[1;32m----> 2\u001B[0m y_pred_catboost \u001B[38;5;241m=\u001B[39m \u001B[43mmodel_catboost\u001B[49m\u001B[38;5;241m.\u001B[39mpredict(X_test)\n",
      "\u001B[1;31mNameError\u001B[0m: name 'model_catboost' is not defined"
     ]
    }
   ],
   "source": [
    "# 예측\n",
    "y_pred_catboost = model_catboost.predict(X_test)"
   ],
   "metadata": {
    "collapsed": false,
    "ExecuteTime": {
     "end_time": "2023-11-29T08:56:57.215996800Z",
     "start_time": "2023-11-29T08:56:57.136676300Z"
    }
   },
   "id": "b568b5bf3a8d9244"
  },
  {
   "cell_type": "code",
   "execution_count": 200,
   "outputs": [
    {
     "name": "stdout",
     "output_type": "stream",
     "text": [
      "CatBoost Accuracy: 0.621\n"
     ]
    }
   ],
   "source": [
    "# 정확도 평가\n",
    "accuracy_catboost = accuracy_score(y_test, y_pred_catboost)\n",
    "print(f\"CatBoost Accuracy: {accuracy_catboost}\")"
   ],
   "metadata": {
    "collapsed": false,
    "ExecuteTime": {
     "end_time": "2023-11-28T10:08:13.153575400Z",
     "start_time": "2023-11-28T10:08:13.140993500Z"
    }
   },
   "id": "569d1eda2452a266"
  },
  {
   "cell_type": "code",
   "execution_count": 281,
   "outputs": [],
   "source": [
    "pred_final = model_xgb.predict(test)"
   ],
   "metadata": {
    "collapsed": false,
    "ExecuteTime": {
     "end_time": "2023-11-29T08:10:04.803820300Z",
     "start_time": "2023-11-29T08:10:04.785868300Z"
    }
   },
   "id": "a3d5612b7371ee2d"
  },
  {
   "cell_type": "code",
   "execution_count": 282,
   "outputs": [],
   "source": [
    "submit = pd.DataFrame({\n",
    "    'user_id': test_id,\n",
    "    'target': pred_final.flatten()\n",
    "})"
   ],
   "metadata": {
    "collapsed": false,
    "ExecuteTime": {
     "end_time": "2023-11-29T08:10:08.052302600Z",
     "start_time": "2023-11-29T08:10:08.031585200Z"
    }
   },
   "id": "d6b02d53b20c9390"
  },
  {
   "cell_type": "code",
   "execution_count": 283,
   "outputs": [],
   "source": [
    "submit.to_csv(\"../submission_data/3.csv\", index = False)"
   ],
   "metadata": {
    "collapsed": false,
    "ExecuteTime": {
     "end_time": "2023-11-29T08:10:09.410255600Z",
     "start_time": "2023-11-29T08:10:09.376345700Z"
    }
   },
   "id": "292575eb5fd02ba7"
  },
  {
   "cell_type": "code",
   "execution_count": null,
   "outputs": [],
   "source": [],
   "metadata": {
    "collapsed": false
   },
   "id": "20476d72fdd3ce1d"
  }
 ],
 "metadata": {
  "kernelspec": {
   "display_name": "Python 3",
   "language": "python",
   "name": "python3"
  },
  "language_info": {
   "codemirror_mode": {
    "name": "ipython",
    "version": 2
   },
   "file_extension": ".py",
   "mimetype": "text/x-python",
   "name": "python",
   "nbconvert_exporter": "python",
   "pygments_lexer": "ipython2",
   "version": "2.7.6"
  }
 },
 "nbformat": 4,
 "nbformat_minor": 5
}

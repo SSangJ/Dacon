{
 "cells": [
  {
   "cell_type": "code",
   "execution_count": 47,
   "id": "initial_id",
   "metadata": {
    "collapsed": true,
    "ExecuteTime": {
     "end_time": "2023-11-28T10:26:51.323008900Z",
     "start_time": "2023-11-28T10:26:51.308539300Z"
    }
   },
   "outputs": [
    {
     "name": "stdout",
     "output_type": "stream",
     "text": [
      "cuda:0\n"
     ]
    }
   ],
   "source": [
    "import torch\n",
    "device = torch.device('cuda:0' if torch.cuda.is_available() else 'cpu')\n",
    "\n",
    "print(device)"
   ]
  },
  {
   "cell_type": "code",
   "execution_count": 48,
   "outputs": [],
   "source": [
    "import matplotlib.pyplot as plt\n",
    "import pandas as pd\n",
    "import numpy as np\n",
    "import seaborn as sns\n",
    "\n",
    "from sklearn.model_selection import train_test_split\n",
    "from sklearn.cluster import DBSCAN"
   ],
   "metadata": {
    "collapsed": false,
    "ExecuteTime": {
     "end_time": "2023-11-28T10:26:51.458433700Z",
     "start_time": "2023-11-28T10:26:51.451942Z"
    }
   },
   "id": "55a17efe969dce4a"
  },
  {
   "cell_type": "code",
   "execution_count": 49,
   "outputs": [],
   "source": [
    "import warnings\n",
    "\n",
    "# 경고 무시\n",
    "warnings.filterwarnings(\"ignore\", category=FutureWarning)"
   ],
   "metadata": {
    "collapsed": false,
    "ExecuteTime": {
     "end_time": "2023-11-28T10:26:51.624353500Z",
     "start_time": "2023-11-28T10:26:51.615352500Z"
    }
   },
   "id": "1b0336f4ab645e18"
  },
  {
   "cell_type": "code",
   "execution_count": 50,
   "outputs": [],
   "source": [
    "import os\n",
    "os.environ['KMP_DUPLICATE_LIB_OK']='True'"
   ],
   "metadata": {
    "collapsed": false,
    "ExecuteTime": {
     "end_time": "2023-11-28T10:26:51.761351100Z",
     "start_time": "2023-11-28T10:26:51.753322500Z"
    }
   },
   "id": "83740237a18a3c40"
  },
  {
   "cell_type": "code",
   "execution_count": 51,
   "outputs": [],
   "source": [
    "train = pd.read_csv(\"../data/train.csv\")\n",
    "test = pd.read_csv(\"../data/test.csv\")"
   ],
   "metadata": {
    "collapsed": false,
    "ExecuteTime": {
     "end_time": "2023-11-28T10:26:52.227228500Z",
     "start_time": "2023-11-28T10:26:52.193067200Z"
    }
   },
   "id": "3b1f82b6884d36a4"
  },
  {
   "cell_type": "code",
   "execution_count": 52,
   "outputs": [],
   "source": [
    "train = train.drop(['user_id'], axis=1)"
   ],
   "metadata": {
    "collapsed": false,
    "ExecuteTime": {
     "end_time": "2023-11-28T10:26:52.364274100Z",
     "start_time": "2023-11-28T10:26:52.346263200Z"
    }
   },
   "id": "5ca7c10627b5639b"
  },
  {
   "cell_type": "code",
   "execution_count": 53,
   "outputs": [],
   "source": [
    "train['target'] = train['target'].astype('category')"
   ],
   "metadata": {
    "collapsed": false,
    "ExecuteTime": {
     "end_time": "2023-11-28T10:26:52.472847800Z",
     "start_time": "2023-11-28T10:26:52.448243900Z"
    }
   },
   "id": "f2d107679a7895c8"
  },
  {
   "cell_type": "code",
   "execution_count": 54,
   "outputs": [
    {
     "name": "stdout",
     "output_type": "stream",
     "text": [
      "<class 'pandas.core.frame.DataFrame'>\n",
      "RangeIndex: 10000 entries, 0 to 9999\n",
      "Data columns (total 14 columns):\n",
      " #   Column                             Non-Null Count  Dtype   \n",
      "---  ------                             --------------  -----   \n",
      " 0   subscription_duration              10000 non-null  int64   \n",
      " 1   recent_login_time                  10000 non-null  int64   \n",
      " 2   average_login_time                 10000 non-null  float64 \n",
      " 3   average_time_per_learning_session  10000 non-null  float64 \n",
      " 4   monthly_active_learning_days       10000 non-null  int64   \n",
      " 5   total_completed_courses            10000 non-null  int64   \n",
      " 6   recent_learning_achievement        10000 non-null  float64 \n",
      " 7   abandoned_learning_sessions        10000 non-null  int64   \n",
      " 8   community_engagement_level         10000 non-null  int64   \n",
      " 9   preferred_difficulty_level         10000 non-null  object  \n",
      " 10  subscription_type                  10000 non-null  object  \n",
      " 11  customer_inquiry_history           10000 non-null  int64   \n",
      " 12  payment_pattern                    10000 non-null  int64   \n",
      " 13  target                             10000 non-null  category\n",
      "dtypes: category(1), float64(3), int64(8), object(2)\n",
      "memory usage: 1.0+ MB\n"
     ]
    }
   ],
   "source": [
    "train.info()"
   ],
   "metadata": {
    "collapsed": false,
    "ExecuteTime": {
     "end_time": "2023-11-28T10:26:52.534433700Z",
     "start_time": "2023-11-28T10:26:52.519321100Z"
    }
   },
   "id": "f968f2db3e6f708a"
  },
  {
   "cell_type": "code",
   "execution_count": 55,
   "outputs": [
    {
     "data": {
      "text/plain": "   subscription_duration  recent_login_time  average_login_time  \\\n0                     13                 14           14.946163   \n1                     16                 18           18.453224   \n2                     22                  1           16.195228   \n3                      1                 19           17.628656   \n4                      4                  5           21.390656   \n\n   average_time_per_learning_session  monthly_active_learning_days  \\\n0                           8.427187                            18   \n1                          72.646087                            16   \n2                          21.774492                            13   \n3                          42.659066                            19   \n4                          30.744287                            19   \n\n   total_completed_courses  recent_learning_achievement  \\\n0                       16                    68.360455   \n1                       13                    97.567322   \n2                       14                    94.358763   \n3                       18                    70.153228   \n4                       10                    81.917908   \n\n   abandoned_learning_sessions  community_engagement_level  \\\n0                            3                           4   \n1                            2                           3   \n2                            3                           4   \n3                            0                           3   \n4                            2                           4   \n\n  preferred_difficulty_level subscription_type  customer_inquiry_history  \\\n0                        Low             Basic                         4   \n1                     Medium             Basic                         1   \n2                     Medium           Premium                         0   \n3                        Low             Basic                         1   \n4                     Medium             Basic                         3   \n\n   payment_pattern target  \n0                5      0  \n1                6      1  \n2                7      1  \n3                0      1  \n4                0      1  ",
      "text/html": "<div>\n<style scoped>\n    .dataframe tbody tr th:only-of-type {\n        vertical-align: middle;\n    }\n\n    .dataframe tbody tr th {\n        vertical-align: top;\n    }\n\n    .dataframe thead th {\n        text-align: right;\n    }\n</style>\n<table border=\"1\" class=\"dataframe\">\n  <thead>\n    <tr style=\"text-align: right;\">\n      <th></th>\n      <th>subscription_duration</th>\n      <th>recent_login_time</th>\n      <th>average_login_time</th>\n      <th>average_time_per_learning_session</th>\n      <th>monthly_active_learning_days</th>\n      <th>total_completed_courses</th>\n      <th>recent_learning_achievement</th>\n      <th>abandoned_learning_sessions</th>\n      <th>community_engagement_level</th>\n      <th>preferred_difficulty_level</th>\n      <th>subscription_type</th>\n      <th>customer_inquiry_history</th>\n      <th>payment_pattern</th>\n      <th>target</th>\n    </tr>\n  </thead>\n  <tbody>\n    <tr>\n      <th>0</th>\n      <td>13</td>\n      <td>14</td>\n      <td>14.946163</td>\n      <td>8.427187</td>\n      <td>18</td>\n      <td>16</td>\n      <td>68.360455</td>\n      <td>3</td>\n      <td>4</td>\n      <td>Low</td>\n      <td>Basic</td>\n      <td>4</td>\n      <td>5</td>\n      <td>0</td>\n    </tr>\n    <tr>\n      <th>1</th>\n      <td>16</td>\n      <td>18</td>\n      <td>18.453224</td>\n      <td>72.646087</td>\n      <td>16</td>\n      <td>13</td>\n      <td>97.567322</td>\n      <td>2</td>\n      <td>3</td>\n      <td>Medium</td>\n      <td>Basic</td>\n      <td>1</td>\n      <td>6</td>\n      <td>1</td>\n    </tr>\n    <tr>\n      <th>2</th>\n      <td>22</td>\n      <td>1</td>\n      <td>16.195228</td>\n      <td>21.774492</td>\n      <td>13</td>\n      <td>14</td>\n      <td>94.358763</td>\n      <td>3</td>\n      <td>4</td>\n      <td>Medium</td>\n      <td>Premium</td>\n      <td>0</td>\n      <td>7</td>\n      <td>1</td>\n    </tr>\n    <tr>\n      <th>3</th>\n      <td>1</td>\n      <td>19</td>\n      <td>17.628656</td>\n      <td>42.659066</td>\n      <td>19</td>\n      <td>18</td>\n      <td>70.153228</td>\n      <td>0</td>\n      <td>3</td>\n      <td>Low</td>\n      <td>Basic</td>\n      <td>1</td>\n      <td>0</td>\n      <td>1</td>\n    </tr>\n    <tr>\n      <th>4</th>\n      <td>4</td>\n      <td>5</td>\n      <td>21.390656</td>\n      <td>30.744287</td>\n      <td>19</td>\n      <td>10</td>\n      <td>81.917908</td>\n      <td>2</td>\n      <td>4</td>\n      <td>Medium</td>\n      <td>Basic</td>\n      <td>3</td>\n      <td>0</td>\n      <td>1</td>\n    </tr>\n  </tbody>\n</table>\n</div>"
     },
     "execution_count": 55,
     "metadata": {},
     "output_type": "execute_result"
    }
   ],
   "source": [
    "train.head()"
   ],
   "metadata": {
    "collapsed": false,
    "ExecuteTime": {
     "end_time": "2023-11-28T10:26:52.667903200Z",
     "start_time": "2023-11-28T10:26:52.654412600Z"
    }
   },
   "id": "c05c3ce0f4adf1d0"
  },
  {
   "cell_type": "code",
   "execution_count": 56,
   "outputs": [],
   "source": [
    "# preferred_difficulty_level 열 인코딩\n",
    "train.loc[train['preferred_difficulty_level'].values == 'Low','preferred_difficulty_level'] = 0\n",
    "train.loc[train['preferred_difficulty_level'].values == 'Medium','preferred_difficulty_level'] = 1\n",
    "train.loc[train['preferred_difficulty_level'].values == 'High','preferred_difficulty_level'] = 2\n",
    "train['preferred_difficulty_level'] = train['preferred_difficulty_level'].astype(int)"
   ],
   "metadata": {
    "collapsed": false,
    "ExecuteTime": {
     "end_time": "2023-11-28T10:26:52.789779500Z",
     "start_time": "2023-11-28T10:26:52.750950900Z"
    }
   },
   "id": "8b3d24ddf355e209"
  },
  {
   "cell_type": "code",
   "execution_count": 57,
   "outputs": [
    {
     "name": "stdout",
     "output_type": "stream",
     "text": [
      "<class 'pandas.core.frame.DataFrame'>\n",
      "RangeIndex: 10000 entries, 0 to 9999\n",
      "Data columns (total 14 columns):\n",
      " #   Column                             Non-Null Count  Dtype   \n",
      "---  ------                             --------------  -----   \n",
      " 0   subscription_duration              10000 non-null  int64   \n",
      " 1   recent_login_time                  10000 non-null  int64   \n",
      " 2   average_login_time                 10000 non-null  float64 \n",
      " 3   average_time_per_learning_session  10000 non-null  float64 \n",
      " 4   monthly_active_learning_days       10000 non-null  int64   \n",
      " 5   total_completed_courses            10000 non-null  int64   \n",
      " 6   recent_learning_achievement        10000 non-null  float64 \n",
      " 7   abandoned_learning_sessions        10000 non-null  int64   \n",
      " 8   community_engagement_level         10000 non-null  int64   \n",
      " 9   preferred_difficulty_level         10000 non-null  int32   \n",
      " 10  subscription_type                  10000 non-null  object  \n",
      " 11  customer_inquiry_history           10000 non-null  int64   \n",
      " 12  payment_pattern                    10000 non-null  int64   \n",
      " 13  target                             10000 non-null  category\n",
      "dtypes: category(1), float64(3), int32(1), int64(8), object(1)\n",
      "memory usage: 986.6+ KB\n"
     ]
    }
   ],
   "source": [
    "train.info()"
   ],
   "metadata": {
    "collapsed": false,
    "ExecuteTime": {
     "end_time": "2023-11-28T10:26:53.689399300Z",
     "start_time": "2023-11-28T10:26:53.663606700Z"
    }
   },
   "id": "9eba8c660c9ff572"
  },
  {
   "cell_type": "code",
   "execution_count": 58,
   "outputs": [
    {
     "data": {
      "text/plain": "      subscription_duration  recent_login_time  average_login_time  \\\n0                        13                 14           14.946163   \n1                        16                 18           18.453224   \n2                        22                  1           16.195228   \n3                         1                 19           17.628656   \n4                         4                  5           21.390656   \n...                     ...                ...                 ...   \n9995                     22                 29           14.727623   \n9996                     10                 11           19.374054   \n9997                      7                 27           18.240978   \n9998                     11                  7           18.783800   \n9999                     10                  5           13.073230   \n\n      average_time_per_learning_session  monthly_active_learning_days  \\\n0                              8.427187                            18   \n1                             72.646087                            16   \n2                             21.774492                            13   \n3                             42.659066                            19   \n4                             30.744287                            19   \n...                                 ...                           ...   \n9995                          84.053558                            18   \n9996                          45.464833                             9   \n9997                         127.302411                            24   \n9998                           5.297234                            10   \n9999                          28.120031                             3   \n\n      total_completed_courses  recent_learning_achievement  \\\n0                          16                    68.360455   \n1                          13                    97.567322   \n2                          14                    94.358763   \n3                          18                    70.153228   \n4                          10                    81.917908   \n...                       ...                          ...   \n9995                       16                    64.966803   \n9996                        8                    82.750244   \n9997                       14                    81.567839   \n9998                       10                    89.885656   \n9999                       13                    64.811297   \n\n      abandoned_learning_sessions  community_engagement_level  \\\n0                               3                           4   \n1                               2                           3   \n2                               3                           4   \n3                               0                           3   \n4                               2                           4   \n...                           ...                         ...   \n9995                            2                           5   \n9996                            3                           3   \n9997                            3                           5   \n9998                            4                           5   \n9999                            4                           5   \n\n      preferred_difficulty_level subscription_type  customer_inquiry_history  \\\n0                              0             Basic                         4   \n1                              1             Basic                         1   \n2                              1           Premium                         0   \n3                              0             Basic                         1   \n4                              1             Basic                         3   \n...                          ...               ...                       ...   \n9995                           0           Premium                         1   \n9996                           1             Basic                         2   \n9997                           2             Basic                         1   \n9998                           0             Basic                         2   \n9999                           0           Premium                         0   \n\n      payment_pattern target  \n0                   5      0  \n1                   6      1  \n2                   7      1  \n3                   0      1  \n4                   0      1  \n...               ...    ...  \n9995                1      1  \n9996                7      1  \n9997                6      1  \n9998                0      1  \n9999                3      0  \n\n[10000 rows x 14 columns]",
      "text/html": "<div>\n<style scoped>\n    .dataframe tbody tr th:only-of-type {\n        vertical-align: middle;\n    }\n\n    .dataframe tbody tr th {\n        vertical-align: top;\n    }\n\n    .dataframe thead th {\n        text-align: right;\n    }\n</style>\n<table border=\"1\" class=\"dataframe\">\n  <thead>\n    <tr style=\"text-align: right;\">\n      <th></th>\n      <th>subscription_duration</th>\n      <th>recent_login_time</th>\n      <th>average_login_time</th>\n      <th>average_time_per_learning_session</th>\n      <th>monthly_active_learning_days</th>\n      <th>total_completed_courses</th>\n      <th>recent_learning_achievement</th>\n      <th>abandoned_learning_sessions</th>\n      <th>community_engagement_level</th>\n      <th>preferred_difficulty_level</th>\n      <th>subscription_type</th>\n      <th>customer_inquiry_history</th>\n      <th>payment_pattern</th>\n      <th>target</th>\n    </tr>\n  </thead>\n  <tbody>\n    <tr>\n      <th>0</th>\n      <td>13</td>\n      <td>14</td>\n      <td>14.946163</td>\n      <td>8.427187</td>\n      <td>18</td>\n      <td>16</td>\n      <td>68.360455</td>\n      <td>3</td>\n      <td>4</td>\n      <td>0</td>\n      <td>Basic</td>\n      <td>4</td>\n      <td>5</td>\n      <td>0</td>\n    </tr>\n    <tr>\n      <th>1</th>\n      <td>16</td>\n      <td>18</td>\n      <td>18.453224</td>\n      <td>72.646087</td>\n      <td>16</td>\n      <td>13</td>\n      <td>97.567322</td>\n      <td>2</td>\n      <td>3</td>\n      <td>1</td>\n      <td>Basic</td>\n      <td>1</td>\n      <td>6</td>\n      <td>1</td>\n    </tr>\n    <tr>\n      <th>2</th>\n      <td>22</td>\n      <td>1</td>\n      <td>16.195228</td>\n      <td>21.774492</td>\n      <td>13</td>\n      <td>14</td>\n      <td>94.358763</td>\n      <td>3</td>\n      <td>4</td>\n      <td>1</td>\n      <td>Premium</td>\n      <td>0</td>\n      <td>7</td>\n      <td>1</td>\n    </tr>\n    <tr>\n      <th>3</th>\n      <td>1</td>\n      <td>19</td>\n      <td>17.628656</td>\n      <td>42.659066</td>\n      <td>19</td>\n      <td>18</td>\n      <td>70.153228</td>\n      <td>0</td>\n      <td>3</td>\n      <td>0</td>\n      <td>Basic</td>\n      <td>1</td>\n      <td>0</td>\n      <td>1</td>\n    </tr>\n    <tr>\n      <th>4</th>\n      <td>4</td>\n      <td>5</td>\n      <td>21.390656</td>\n      <td>30.744287</td>\n      <td>19</td>\n      <td>10</td>\n      <td>81.917908</td>\n      <td>2</td>\n      <td>4</td>\n      <td>1</td>\n      <td>Basic</td>\n      <td>3</td>\n      <td>0</td>\n      <td>1</td>\n    </tr>\n    <tr>\n      <th>...</th>\n      <td>...</td>\n      <td>...</td>\n      <td>...</td>\n      <td>...</td>\n      <td>...</td>\n      <td>...</td>\n      <td>...</td>\n      <td>...</td>\n      <td>...</td>\n      <td>...</td>\n      <td>...</td>\n      <td>...</td>\n      <td>...</td>\n      <td>...</td>\n    </tr>\n    <tr>\n      <th>9995</th>\n      <td>22</td>\n      <td>29</td>\n      <td>14.727623</td>\n      <td>84.053558</td>\n      <td>18</td>\n      <td>16</td>\n      <td>64.966803</td>\n      <td>2</td>\n      <td>5</td>\n      <td>0</td>\n      <td>Premium</td>\n      <td>1</td>\n      <td>1</td>\n      <td>1</td>\n    </tr>\n    <tr>\n      <th>9996</th>\n      <td>10</td>\n      <td>11</td>\n      <td>19.374054</td>\n      <td>45.464833</td>\n      <td>9</td>\n      <td>8</td>\n      <td>82.750244</td>\n      <td>3</td>\n      <td>3</td>\n      <td>1</td>\n      <td>Basic</td>\n      <td>2</td>\n      <td>7</td>\n      <td>1</td>\n    </tr>\n    <tr>\n      <th>9997</th>\n      <td>7</td>\n      <td>27</td>\n      <td>18.240978</td>\n      <td>127.302411</td>\n      <td>24</td>\n      <td>14</td>\n      <td>81.567839</td>\n      <td>3</td>\n      <td>5</td>\n      <td>2</td>\n      <td>Basic</td>\n      <td>1</td>\n      <td>6</td>\n      <td>1</td>\n    </tr>\n    <tr>\n      <th>9998</th>\n      <td>11</td>\n      <td>7</td>\n      <td>18.783800</td>\n      <td>5.297234</td>\n      <td>10</td>\n      <td>10</td>\n      <td>89.885656</td>\n      <td>4</td>\n      <td>5</td>\n      <td>0</td>\n      <td>Basic</td>\n      <td>2</td>\n      <td>0</td>\n      <td>1</td>\n    </tr>\n    <tr>\n      <th>9999</th>\n      <td>10</td>\n      <td>5</td>\n      <td>13.073230</td>\n      <td>28.120031</td>\n      <td>3</td>\n      <td>13</td>\n      <td>64.811297</td>\n      <td>4</td>\n      <td>5</td>\n      <td>0</td>\n      <td>Premium</td>\n      <td>0</td>\n      <td>3</td>\n      <td>0</td>\n    </tr>\n  </tbody>\n</table>\n<p>10000 rows × 14 columns</p>\n</div>"
     },
     "execution_count": 58,
     "metadata": {},
     "output_type": "execute_result"
    }
   ],
   "source": [
    "train"
   ],
   "metadata": {
    "collapsed": false,
    "ExecuteTime": {
     "end_time": "2023-11-28T10:26:53.846073500Z",
     "start_time": "2023-11-28T10:26:53.816156600Z"
    }
   },
   "id": "c6781182136d8bae"
  },
  {
   "cell_type": "code",
   "execution_count": 59,
   "outputs": [],
   "source": [
    "from sklearn.preprocessing import StandardScaler, LabelEncoder\n",
    "\n",
    "# 데이터 스케일링을 위한 StandardScaler 인스턴스 생성\n",
    "scaler = StandardScaler()\n",
    "categoric_col =['subscription_type']\n",
    "label_encoders = {}\n",
    "for col in categoric_col:\n",
    "    label_encoders[col] = LabelEncoder()\n",
    "    train[col] = label_encoders[col].fit_transform(train[col])"
   ],
   "metadata": {
    "collapsed": false,
    "ExecuteTime": {
     "end_time": "2023-11-28T10:26:54.723879100Z",
     "start_time": "2023-11-28T10:26:54.689016500Z"
    }
   },
   "id": "f506f8dd10704945"
  },
  {
   "cell_type": "code",
   "execution_count": 60,
   "outputs": [
    {
     "data": {
      "text/plain": "      subscription_duration  recent_login_time  average_login_time  \\\n0                        13                 14           14.946163   \n1                        16                 18           18.453224   \n2                        22                  1           16.195228   \n3                         1                 19           17.628656   \n4                         4                  5           21.390656   \n...                     ...                ...                 ...   \n9995                     22                 29           14.727623   \n9996                     10                 11           19.374054   \n9997                      7                 27           18.240978   \n9998                     11                  7           18.783800   \n9999                     10                  5           13.073230   \n\n      average_time_per_learning_session  monthly_active_learning_days  \\\n0                              8.427187                            18   \n1                             72.646087                            16   \n2                             21.774492                            13   \n3                             42.659066                            19   \n4                             30.744287                            19   \n...                                 ...                           ...   \n9995                          84.053558                            18   \n9996                          45.464833                             9   \n9997                         127.302411                            24   \n9998                           5.297234                            10   \n9999                          28.120031                             3   \n\n      total_completed_courses  recent_learning_achievement  \\\n0                          16                    68.360455   \n1                          13                    97.567322   \n2                          14                    94.358763   \n3                          18                    70.153228   \n4                          10                    81.917908   \n...                       ...                          ...   \n9995                       16                    64.966803   \n9996                        8                    82.750244   \n9997                       14                    81.567839   \n9998                       10                    89.885656   \n9999                       13                    64.811297   \n\n      abandoned_learning_sessions  community_engagement_level  \\\n0                               3                           4   \n1                               2                           3   \n2                               3                           4   \n3                               0                           3   \n4                               2                           4   \n...                           ...                         ...   \n9995                            2                           5   \n9996                            3                           3   \n9997                            3                           5   \n9998                            4                           5   \n9999                            4                           5   \n\n      preferred_difficulty_level  subscription_type  customer_inquiry_history  \\\n0                              0                  0                         4   \n1                              1                  0                         1   \n2                              1                  1                         0   \n3                              0                  0                         1   \n4                              1                  0                         3   \n...                          ...                ...                       ...   \n9995                           0                  1                         1   \n9996                           1                  0                         2   \n9997                           2                  0                         1   \n9998                           0                  0                         2   \n9999                           0                  1                         0   \n\n      payment_pattern target  \n0                   5      0  \n1                   6      1  \n2                   7      1  \n3                   0      1  \n4                   0      1  \n...               ...    ...  \n9995                1      1  \n9996                7      1  \n9997                6      1  \n9998                0      1  \n9999                3      0  \n\n[10000 rows x 14 columns]",
      "text/html": "<div>\n<style scoped>\n    .dataframe tbody tr th:only-of-type {\n        vertical-align: middle;\n    }\n\n    .dataframe tbody tr th {\n        vertical-align: top;\n    }\n\n    .dataframe thead th {\n        text-align: right;\n    }\n</style>\n<table border=\"1\" class=\"dataframe\">\n  <thead>\n    <tr style=\"text-align: right;\">\n      <th></th>\n      <th>subscription_duration</th>\n      <th>recent_login_time</th>\n      <th>average_login_time</th>\n      <th>average_time_per_learning_session</th>\n      <th>monthly_active_learning_days</th>\n      <th>total_completed_courses</th>\n      <th>recent_learning_achievement</th>\n      <th>abandoned_learning_sessions</th>\n      <th>community_engagement_level</th>\n      <th>preferred_difficulty_level</th>\n      <th>subscription_type</th>\n      <th>customer_inquiry_history</th>\n      <th>payment_pattern</th>\n      <th>target</th>\n    </tr>\n  </thead>\n  <tbody>\n    <tr>\n      <th>0</th>\n      <td>13</td>\n      <td>14</td>\n      <td>14.946163</td>\n      <td>8.427187</td>\n      <td>18</td>\n      <td>16</td>\n      <td>68.360455</td>\n      <td>3</td>\n      <td>4</td>\n      <td>0</td>\n      <td>0</td>\n      <td>4</td>\n      <td>5</td>\n      <td>0</td>\n    </tr>\n    <tr>\n      <th>1</th>\n      <td>16</td>\n      <td>18</td>\n      <td>18.453224</td>\n      <td>72.646087</td>\n      <td>16</td>\n      <td>13</td>\n      <td>97.567322</td>\n      <td>2</td>\n      <td>3</td>\n      <td>1</td>\n      <td>0</td>\n      <td>1</td>\n      <td>6</td>\n      <td>1</td>\n    </tr>\n    <tr>\n      <th>2</th>\n      <td>22</td>\n      <td>1</td>\n      <td>16.195228</td>\n      <td>21.774492</td>\n      <td>13</td>\n      <td>14</td>\n      <td>94.358763</td>\n      <td>3</td>\n      <td>4</td>\n      <td>1</td>\n      <td>1</td>\n      <td>0</td>\n      <td>7</td>\n      <td>1</td>\n    </tr>\n    <tr>\n      <th>3</th>\n      <td>1</td>\n      <td>19</td>\n      <td>17.628656</td>\n      <td>42.659066</td>\n      <td>19</td>\n      <td>18</td>\n      <td>70.153228</td>\n      <td>0</td>\n      <td>3</td>\n      <td>0</td>\n      <td>0</td>\n      <td>1</td>\n      <td>0</td>\n      <td>1</td>\n    </tr>\n    <tr>\n      <th>4</th>\n      <td>4</td>\n      <td>5</td>\n      <td>21.390656</td>\n      <td>30.744287</td>\n      <td>19</td>\n      <td>10</td>\n      <td>81.917908</td>\n      <td>2</td>\n      <td>4</td>\n      <td>1</td>\n      <td>0</td>\n      <td>3</td>\n      <td>0</td>\n      <td>1</td>\n    </tr>\n    <tr>\n      <th>...</th>\n      <td>...</td>\n      <td>...</td>\n      <td>...</td>\n      <td>...</td>\n      <td>...</td>\n      <td>...</td>\n      <td>...</td>\n      <td>...</td>\n      <td>...</td>\n      <td>...</td>\n      <td>...</td>\n      <td>...</td>\n      <td>...</td>\n      <td>...</td>\n    </tr>\n    <tr>\n      <th>9995</th>\n      <td>22</td>\n      <td>29</td>\n      <td>14.727623</td>\n      <td>84.053558</td>\n      <td>18</td>\n      <td>16</td>\n      <td>64.966803</td>\n      <td>2</td>\n      <td>5</td>\n      <td>0</td>\n      <td>1</td>\n      <td>1</td>\n      <td>1</td>\n      <td>1</td>\n    </tr>\n    <tr>\n      <th>9996</th>\n      <td>10</td>\n      <td>11</td>\n      <td>19.374054</td>\n      <td>45.464833</td>\n      <td>9</td>\n      <td>8</td>\n      <td>82.750244</td>\n      <td>3</td>\n      <td>3</td>\n      <td>1</td>\n      <td>0</td>\n      <td>2</td>\n      <td>7</td>\n      <td>1</td>\n    </tr>\n    <tr>\n      <th>9997</th>\n      <td>7</td>\n      <td>27</td>\n      <td>18.240978</td>\n      <td>127.302411</td>\n      <td>24</td>\n      <td>14</td>\n      <td>81.567839</td>\n      <td>3</td>\n      <td>5</td>\n      <td>2</td>\n      <td>0</td>\n      <td>1</td>\n      <td>6</td>\n      <td>1</td>\n    </tr>\n    <tr>\n      <th>9998</th>\n      <td>11</td>\n      <td>7</td>\n      <td>18.783800</td>\n      <td>5.297234</td>\n      <td>10</td>\n      <td>10</td>\n      <td>89.885656</td>\n      <td>4</td>\n      <td>5</td>\n      <td>0</td>\n      <td>0</td>\n      <td>2</td>\n      <td>0</td>\n      <td>1</td>\n    </tr>\n    <tr>\n      <th>9999</th>\n      <td>10</td>\n      <td>5</td>\n      <td>13.073230</td>\n      <td>28.120031</td>\n      <td>3</td>\n      <td>13</td>\n      <td>64.811297</td>\n      <td>4</td>\n      <td>5</td>\n      <td>0</td>\n      <td>1</td>\n      <td>0</td>\n      <td>3</td>\n      <td>0</td>\n    </tr>\n  </tbody>\n</table>\n<p>10000 rows × 14 columns</p>\n</div>"
     },
     "execution_count": 60,
     "metadata": {},
     "output_type": "execute_result"
    }
   ],
   "source": [
    "train"
   ],
   "metadata": {
    "collapsed": false,
    "ExecuteTime": {
     "end_time": "2023-11-28T10:26:55.308699700Z",
     "start_time": "2023-11-28T10:26:55.295002800Z"
    }
   },
   "id": "ed96d8a785a94f9f"
  },
  {
   "cell_type": "code",
   "execution_count": 61,
   "outputs": [
    {
     "name": "stdout",
     "output_type": "stream",
     "text": [
      "<class 'pandas.core.frame.DataFrame'>\n",
      "RangeIndex: 10000 entries, 0 to 9999\n",
      "Data columns (total 14 columns):\n",
      " #   Column                             Non-Null Count  Dtype   \n",
      "---  ------                             --------------  -----   \n",
      " 0   subscription_duration              10000 non-null  int64   \n",
      " 1   recent_login_time                  10000 non-null  int64   \n",
      " 2   average_login_time                 10000 non-null  float64 \n",
      " 3   average_time_per_learning_session  10000 non-null  float64 \n",
      " 4   monthly_active_learning_days       10000 non-null  int64   \n",
      " 5   total_completed_courses            10000 non-null  int64   \n",
      " 6   recent_learning_achievement        10000 non-null  float64 \n",
      " 7   abandoned_learning_sessions        10000 non-null  int64   \n",
      " 8   community_engagement_level         10000 non-null  int64   \n",
      " 9   preferred_difficulty_level         10000 non-null  int32   \n",
      " 10  subscription_type                  10000 non-null  int32   \n",
      " 11  customer_inquiry_history           10000 non-null  int64   \n",
      " 12  payment_pattern                    10000 non-null  int64   \n",
      " 13  target                             10000 non-null  category\n",
      "dtypes: category(1), float64(3), int32(2), int64(8)\n",
      "memory usage: 947.5 KB\n"
     ]
    }
   ],
   "source": [
    "train.info()"
   ],
   "metadata": {
    "collapsed": false,
    "ExecuteTime": {
     "end_time": "2023-11-28T10:26:56.048747400Z",
     "start_time": "2023-11-28T10:26:56.021313200Z"
    }
   },
   "id": "40d6187cd2d84d01"
  },
  {
   "cell_type": "code",
   "execution_count": 62,
   "outputs": [],
   "source": [
    "train['payment_pattern'] = train['payment_pattern'].astype('category')"
   ],
   "metadata": {
    "collapsed": false,
    "ExecuteTime": {
     "end_time": "2023-11-28T10:26:56.701370800Z",
     "start_time": "2023-11-28T10:26:56.695494600Z"
    }
   },
   "id": "3337457fa752e671"
  },
  {
   "cell_type": "code",
   "execution_count": 71,
   "outputs": [
    {
     "name": "stdout",
     "output_type": "stream",
     "text": [
      "<class 'pandas.core.frame.DataFrame'>\n",
      "RangeIndex: 10000 entries, 0 to 9999\n",
      "Data columns (total 14 columns):\n",
      " #   Column                             Non-Null Count  Dtype   \n",
      "---  ------                             --------------  -----   \n",
      " 0   subscription_duration              10000 non-null  int64   \n",
      " 1   recent_login_time                  10000 non-null  int64   \n",
      " 2   average_login_time                 10000 non-null  float64 \n",
      " 3   average_time_per_learning_session  10000 non-null  float64 \n",
      " 4   monthly_active_learning_days       10000 non-null  int64   \n",
      " 5   total_completed_courses            10000 non-null  int64   \n",
      " 6   recent_learning_achievement        10000 non-null  float64 \n",
      " 7   abandoned_learning_sessions        10000 non-null  int64   \n",
      " 8   community_engagement_level         10000 non-null  int64   \n",
      " 9   preferred_difficulty_level         10000 non-null  int32   \n",
      " 10  subscription_type                  10000 non-null  int32   \n",
      " 11  customer_inquiry_history           10000 non-null  int64   \n",
      " 12  payment_pattern                    10000 non-null  category\n",
      " 13  target                             10000 non-null  category\n",
      "dtypes: category(2), float64(3), int32(2), int64(7)\n",
      "memory usage: 879.5 KB\n"
     ]
    }
   ],
   "source": [
    "train.info()"
   ],
   "metadata": {
    "collapsed": false,
    "ExecuteTime": {
     "end_time": "2023-11-28T10:27:27.252179900Z",
     "start_time": "2023-11-28T10:27:27.230907300Z"
    }
   },
   "id": "b0fc74412228b301"
  },
  {
   "cell_type": "code",
   "execution_count": 63,
   "outputs": [],
   "source": [
    "X = train[train.columns.drop('target')]\n",
    "Y = train['target']"
   ],
   "metadata": {
    "collapsed": false,
    "ExecuteTime": {
     "end_time": "2023-11-28T10:26:57.495226Z",
     "start_time": "2023-11-28T10:26:57.487312900Z"
    }
   },
   "id": "f8366e52daa12b31"
  },
  {
   "cell_type": "code",
   "execution_count": 64,
   "outputs": [],
   "source": [
    "# X와 Y로 나누기\n",
    "X_train, X_test, y_train, y_test = train_test_split(X, Y, test_size=0.2, random_state=42)"
   ],
   "metadata": {
    "collapsed": false,
    "ExecuteTime": {
     "end_time": "2023-11-28T10:26:57.876435400Z",
     "start_time": "2023-11-28T10:26:57.866515800Z"
    }
   },
   "id": "b22405682fa57b34"
  },
  {
   "cell_type": "code",
   "execution_count": 65,
   "outputs": [
    {
     "data": {
      "text/plain": "RandomForestClassifier(random_state=42)",
      "text/html": "<style>#sk-container-id-5 {color: black;}#sk-container-id-5 pre{padding: 0;}#sk-container-id-5 div.sk-toggleable {background-color: white;}#sk-container-id-5 label.sk-toggleable__label {cursor: pointer;display: block;width: 100%;margin-bottom: 0;padding: 0.3em;box-sizing: border-box;text-align: center;}#sk-container-id-5 label.sk-toggleable__label-arrow:before {content: \"▸\";float: left;margin-right: 0.25em;color: #696969;}#sk-container-id-5 label.sk-toggleable__label-arrow:hover:before {color: black;}#sk-container-id-5 div.sk-estimator:hover label.sk-toggleable__label-arrow:before {color: black;}#sk-container-id-5 div.sk-toggleable__content {max-height: 0;max-width: 0;overflow: hidden;text-align: left;background-color: #f0f8ff;}#sk-container-id-5 div.sk-toggleable__content pre {margin: 0.2em;color: black;border-radius: 0.25em;background-color: #f0f8ff;}#sk-container-id-5 input.sk-toggleable__control:checked~div.sk-toggleable__content {max-height: 200px;max-width: 100%;overflow: auto;}#sk-container-id-5 input.sk-toggleable__control:checked~label.sk-toggleable__label-arrow:before {content: \"▾\";}#sk-container-id-5 div.sk-estimator input.sk-toggleable__control:checked~label.sk-toggleable__label {background-color: #d4ebff;}#sk-container-id-5 div.sk-label input.sk-toggleable__control:checked~label.sk-toggleable__label {background-color: #d4ebff;}#sk-container-id-5 input.sk-hidden--visually {border: 0;clip: rect(1px 1px 1px 1px);clip: rect(1px, 1px, 1px, 1px);height: 1px;margin: -1px;overflow: hidden;padding: 0;position: absolute;width: 1px;}#sk-container-id-5 div.sk-estimator {font-family: monospace;background-color: #f0f8ff;border: 1px dotted black;border-radius: 0.25em;box-sizing: border-box;margin-bottom: 0.5em;}#sk-container-id-5 div.sk-estimator:hover {background-color: #d4ebff;}#sk-container-id-5 div.sk-parallel-item::after {content: \"\";width: 100%;border-bottom: 1px solid gray;flex-grow: 1;}#sk-container-id-5 div.sk-label:hover label.sk-toggleable__label {background-color: #d4ebff;}#sk-container-id-5 div.sk-serial::before {content: \"\";position: absolute;border-left: 1px solid gray;box-sizing: border-box;top: 0;bottom: 0;left: 50%;z-index: 0;}#sk-container-id-5 div.sk-serial {display: flex;flex-direction: column;align-items: center;background-color: white;padding-right: 0.2em;padding-left: 0.2em;position: relative;}#sk-container-id-5 div.sk-item {position: relative;z-index: 1;}#sk-container-id-5 div.sk-parallel {display: flex;align-items: stretch;justify-content: center;background-color: white;position: relative;}#sk-container-id-5 div.sk-item::before, #sk-container-id-5 div.sk-parallel-item::before {content: \"\";position: absolute;border-left: 1px solid gray;box-sizing: border-box;top: 0;bottom: 0;left: 50%;z-index: -1;}#sk-container-id-5 div.sk-parallel-item {display: flex;flex-direction: column;z-index: 1;position: relative;background-color: white;}#sk-container-id-5 div.sk-parallel-item:first-child::after {align-self: flex-end;width: 50%;}#sk-container-id-5 div.sk-parallel-item:last-child::after {align-self: flex-start;width: 50%;}#sk-container-id-5 div.sk-parallel-item:only-child::after {width: 0;}#sk-container-id-5 div.sk-dashed-wrapped {border: 1px dashed gray;margin: 0 0.4em 0.5em 0.4em;box-sizing: border-box;padding-bottom: 0.4em;background-color: white;}#sk-container-id-5 div.sk-label label {font-family: monospace;font-weight: bold;display: inline-block;line-height: 1.2em;}#sk-container-id-5 div.sk-label-container {text-align: center;}#sk-container-id-5 div.sk-container {/* jupyter's `normalize.less` sets `[hidden] { display: none; }` but bootstrap.min.css set `[hidden] { display: none !important; }` so we also need the `!important` here to be able to override the default hidden behavior on the sphinx rendered scikit-learn.org. See: https://github.com/scikit-learn/scikit-learn/issues/21755 */display: inline-block !important;position: relative;}#sk-container-id-5 div.sk-text-repr-fallback {display: none;}</style><div id=\"sk-container-id-5\" class=\"sk-top-container\"><div class=\"sk-text-repr-fallback\"><pre>RandomForestClassifier(random_state=42)</pre><b>In a Jupyter environment, please rerun this cell to show the HTML representation or trust the notebook. <br />On GitHub, the HTML representation is unable to render, please try loading this page with nbviewer.org.</b></div><div class=\"sk-container\" hidden><div class=\"sk-item\"><div class=\"sk-estimator sk-toggleable\"><input class=\"sk-toggleable__control sk-hidden--visually\" id=\"sk-estimator-id-5\" type=\"checkbox\" checked><label for=\"sk-estimator-id-5\" class=\"sk-toggleable__label sk-toggleable__label-arrow\">RandomForestClassifier</label><div class=\"sk-toggleable__content\"><pre>RandomForestClassifier(random_state=42)</pre></div></div></div></div></div>"
     },
     "execution_count": 65,
     "metadata": {},
     "output_type": "execute_result"
    }
   ],
   "source": [
    "from sklearn.ensemble import RandomForestClassifier\n",
    "from sklearn.metrics import accuracy_score\n",
    "\n",
    "# 데이터셋 로드 및 전처리\n",
    "# 예: X는 특징 변수, y는 범주형 목표 변수\n",
    "\n",
    "# RandomForest 모델 생성 및 학습\n",
    "model_rf = RandomForestClassifier(n_estimators=100, random_state=42)\n",
    "model_rf.fit(X_train, y_train)"
   ],
   "metadata": {
    "collapsed": false,
    "ExecuteTime": {
     "end_time": "2023-11-28T10:27:02.158692600Z",
     "start_time": "2023-11-28T10:26:58.241557Z"
    }
   },
   "id": "489f1eeb61971feb"
  },
  {
   "cell_type": "code",
   "execution_count": 66,
   "outputs": [],
   "source": [
    "# 예측\n",
    "y_pred_rf = model_rf.predict(X_test)"
   ],
   "metadata": {
    "collapsed": false,
    "ExecuteTime": {
     "end_time": "2023-11-28T10:27:02.171711900Z",
     "start_time": "2023-11-28T10:27:02.119930300Z"
    }
   },
   "id": "e042448cfbe8d6ae"
  },
  {
   "cell_type": "code",
   "execution_count": 67,
   "outputs": [
    {
     "name": "stdout",
     "output_type": "stream",
     "text": [
      "RandomForest Accuracy: 0.5905\n"
     ]
    }
   ],
   "source": [
    "# 정확도 평가\n",
    "accuracy_rf = accuracy_score(y_test, y_pred_rf)\n",
    "print(f\"RandomForest Accuracy: {accuracy_rf}\")"
   ],
   "metadata": {
    "collapsed": false,
    "ExecuteTime": {
     "end_time": "2023-11-28T10:27:03.514316800Z",
     "start_time": "2023-11-28T10:27:03.501153600Z"
    }
   },
   "id": "442be134f18b7b55"
  },
  {
   "cell_type": "code",
   "execution_count": 68,
   "outputs": [
    {
     "name": "stdout",
     "output_type": "stream",
     "text": [
      "0.4461648947662583\n"
     ]
    }
   ],
   "source": [
    "#랜덤포레스트 평가 및 테스트\n",
    "from sklearn.metrics import f1_score\n",
    "print(f1_score(y_test, y_pred_rf, average='macro'))"
   ],
   "metadata": {
    "collapsed": false,
    "ExecuteTime": {
     "end_time": "2023-11-28T10:27:04.541508800Z",
     "start_time": "2023-11-28T10:27:04.530418400Z"
    }
   },
   "id": "5f5482acb4d8edd7"
  },
  {
   "cell_type": "code",
   "execution_count": 69,
   "outputs": [
    {
     "data": {
      "text/plain": "<Figure size 640x480 with 2 Axes>",
      "image/png": "[encoded data removed]"
     },
     "metadata": {},
     "output_type": "display_data"
    }
   ],
   "source": [
    "from sklearn.metrics import confusion_matrix\n",
    "# Confusion Matrix 생성\n",
    "cm = confusion_matrix(y_test, y_pred_rf)\n",
    "\n",
    "# 시각화\n",
    "plt.imshow(cm, interpolation='nearest', cmap=plt.cm.Blues)\n",
    "plt.title('RandomForest Confusion Matrix Accuracy {}'.format(round((accuracy_rf),2)))\n",
    "plt.colorbar()\n",
    "\n",
    "classes = model_rf.classes_\n",
    "tick_marks = np.arange(len(classes))\n",
    "plt.xticks(tick_marks, classes)\n",
    "plt.yticks(tick_marks, classes)\n",
    "\n",
    "plt.xlabel('Predicted')\n",
    "plt.ylabel('True')\n",
    "\n",
    "for i in range(len(classes)):\n",
    "    for j in range(len(classes)):\n",
    "        plt.text(j, i, format(cm[i, j], 'd'), horizontalalignment=\"center\",\n",
    "                 color=\"white\" if cm[i, j] > cm.max() / 2 else \"black\")\n",
    "\n",
    "plt.show()"
   ],
   "metadata": {
    "collapsed": false,
    "ExecuteTime": {
     "end_time": "2023-11-28T10:27:08.003462700Z",
     "start_time": "2023-11-28T10:27:07.855825700Z"
    }
   },
   "id": "4e282d269946d494"
  },
  {
   "cell_type": "code",
   "execution_count": 75,
   "outputs": [
    {
     "ename": "ValueError",
     "evalue": "DataFrame.dtypes for data must be int, float, bool or category. When categorical type is supplied, The experimental DMatrix parameter`enable_categorical` must be set to `True`.  Invalid columns:payment_pattern: object",
     "output_type": "error",
     "traceback": [
      "\u001B[1;31m---------------------------------------------------------------------------\u001B[0m",
      "\u001B[1;31mValueError\u001B[0m                                Traceback (most recent call last)",
      "Cell \u001B[1;32mIn[75], line 7\u001B[0m\n\u001B[0;32m      4\u001B[0m X_test[\u001B[38;5;124m'\u001B[39m\u001B[38;5;124mpayment_pattern\u001B[39m\u001B[38;5;124m'\u001B[39m] \u001B[38;5;241m=\u001B[39m X_test[\u001B[38;5;124m'\u001B[39m\u001B[38;5;124mpayment_pattern\u001B[39m\u001B[38;5;124m'\u001B[39m]\u001B[38;5;241m.\u001B[39mastype(\u001B[38;5;28mstr\u001B[39m)\n\u001B[0;32m      6\u001B[0m model_xgb \u001B[38;5;241m=\u001B[39m xgb\u001B[38;5;241m.\u001B[39mXGBClassifier(random_state\u001B[38;5;241m=\u001B[39m\u001B[38;5;241m2200\u001B[39m, objective\u001B[38;5;241m=\u001B[39m\u001B[38;5;124m\"\u001B[39m\u001B[38;5;124mmulti:softmax\u001B[39m\u001B[38;5;124m\"\u001B[39m, num_class\u001B[38;5;241m=\u001B[39m\u001B[38;5;241m2\u001B[39m, n_estimators\u001B[38;5;241m=\u001B[39m\u001B[38;5;241m100\u001B[39m, device\u001B[38;5;241m=\u001B[39m\u001B[38;5;124m\"\u001B[39m\u001B[38;5;124mcuda\u001B[39m\u001B[38;5;124m\"\u001B[39m)\n\u001B[1;32m----> 7\u001B[0m \u001B[43mmodel_xgb\u001B[49m\u001B[38;5;241;43m.\u001B[39;49m\u001B[43mfit\u001B[49m\u001B[43m(\u001B[49m\u001B[43mX_train\u001B[49m\u001B[43m,\u001B[49m\u001B[43m \u001B[49m\u001B[43my_train\u001B[49m\u001B[43m)\u001B[49m\n",
      "File \u001B[1;32m~\\anaconda3\\envs\\study\\Lib\\site-packages\\xgboost\\core.py:620\u001B[0m, in \u001B[0;36mrequire_keyword_args.<locals>.throw_if.<locals>.inner_f\u001B[1;34m(*args, **kwargs)\u001B[0m\n\u001B[0;32m    618\u001B[0m \u001B[38;5;28;01mfor\u001B[39;00m k, arg \u001B[38;5;129;01min\u001B[39;00m \u001B[38;5;28mzip\u001B[39m(sig\u001B[38;5;241m.\u001B[39mparameters, args):\n\u001B[0;32m    619\u001B[0m     kwargs[k] \u001B[38;5;241m=\u001B[39m arg\n\u001B[1;32m--> 620\u001B[0m \u001B[38;5;28;01mreturn\u001B[39;00m \u001B[43mfunc\u001B[49m\u001B[43m(\u001B[49m\u001B[38;5;241;43m*\u001B[39;49m\u001B[38;5;241;43m*\u001B[39;49m\u001B[43mkwargs\u001B[49m\u001B[43m)\u001B[49m\n",
      "File \u001B[1;32m~\\anaconda3\\envs\\study\\Lib\\site-packages\\xgboost\\sklearn.py:1471\u001B[0m, in \u001B[0;36mXGBClassifier.fit\u001B[1;34m(self, X, y, sample_weight, base_margin, eval_set, eval_metric, early_stopping_rounds, verbose, xgb_model, sample_weight_eval_set, base_margin_eval_set, feature_weights, callbacks)\u001B[0m\n\u001B[0;32m   1460\u001B[0m     params[\u001B[38;5;124m\"\u001B[39m\u001B[38;5;124mnum_class\u001B[39m\u001B[38;5;124m\"\u001B[39m] \u001B[38;5;241m=\u001B[39m \u001B[38;5;28mself\u001B[39m\u001B[38;5;241m.\u001B[39mn_classes_\n\u001B[0;32m   1462\u001B[0m (\n\u001B[0;32m   1463\u001B[0m     model,\n\u001B[0;32m   1464\u001B[0m     metric,\n\u001B[1;32m   (...)\u001B[0m\n\u001B[0;32m   1469\u001B[0m     xgb_model, eval_metric, params, early_stopping_rounds, callbacks\n\u001B[0;32m   1470\u001B[0m )\n\u001B[1;32m-> 1471\u001B[0m train_dmatrix, evals \u001B[38;5;241m=\u001B[39m \u001B[43m_wrap_evaluation_matrices\u001B[49m\u001B[43m(\u001B[49m\n\u001B[0;32m   1472\u001B[0m \u001B[43m    \u001B[49m\u001B[43mmissing\u001B[49m\u001B[38;5;241;43m=\u001B[39;49m\u001B[38;5;28;43mself\u001B[39;49m\u001B[38;5;241;43m.\u001B[39;49m\u001B[43mmissing\u001B[49m\u001B[43m,\u001B[49m\n\u001B[0;32m   1473\u001B[0m \u001B[43m    \u001B[49m\u001B[43mX\u001B[49m\u001B[38;5;241;43m=\u001B[39;49m\u001B[43mX\u001B[49m\u001B[43m,\u001B[49m\n\u001B[0;32m   1474\u001B[0m \u001B[43m    \u001B[49m\u001B[43my\u001B[49m\u001B[38;5;241;43m=\u001B[39;49m\u001B[43my\u001B[49m\u001B[43m,\u001B[49m\n\u001B[0;32m   1475\u001B[0m \u001B[43m    \u001B[49m\u001B[43mgroup\u001B[49m\u001B[38;5;241;43m=\u001B[39;49m\u001B[38;5;28;43;01mNone\u001B[39;49;00m\u001B[43m,\u001B[49m\n\u001B[0;32m   1476\u001B[0m \u001B[43m    \u001B[49m\u001B[43mqid\u001B[49m\u001B[38;5;241;43m=\u001B[39;49m\u001B[38;5;28;43;01mNone\u001B[39;49;00m\u001B[43m,\u001B[49m\n\u001B[0;32m   1477\u001B[0m \u001B[43m    \u001B[49m\u001B[43msample_weight\u001B[49m\u001B[38;5;241;43m=\u001B[39;49m\u001B[43msample_weight\u001B[49m\u001B[43m,\u001B[49m\n\u001B[0;32m   1478\u001B[0m \u001B[43m    \u001B[49m\u001B[43mbase_margin\u001B[49m\u001B[38;5;241;43m=\u001B[39;49m\u001B[43mbase_margin\u001B[49m\u001B[43m,\u001B[49m\n\u001B[0;32m   1479\u001B[0m \u001B[43m    \u001B[49m\u001B[43mfeature_weights\u001B[49m\u001B[38;5;241;43m=\u001B[39;49m\u001B[43mfeature_weights\u001B[49m\u001B[43m,\u001B[49m\n\u001B[0;32m   1480\u001B[0m \u001B[43m    \u001B[49m\u001B[43meval_set\u001B[49m\u001B[38;5;241;43m=\u001B[39;49m\u001B[43meval_set\u001B[49m\u001B[43m,\u001B[49m\n\u001B[0;32m   1481\u001B[0m \u001B[43m    \u001B[49m\u001B[43msample_weight_eval_set\u001B[49m\u001B[38;5;241;43m=\u001B[39;49m\u001B[43msample_weight_eval_set\u001B[49m\u001B[43m,\u001B[49m\n\u001B[0;32m   1482\u001B[0m \u001B[43m    \u001B[49m\u001B[43mbase_margin_eval_set\u001B[49m\u001B[38;5;241;43m=\u001B[39;49m\u001B[43mbase_margin_eval_set\u001B[49m\u001B[43m,\u001B[49m\n\u001B[0;32m   1483\u001B[0m \u001B[43m    \u001B[49m\u001B[43meval_group\u001B[49m\u001B[38;5;241;43m=\u001B[39;49m\u001B[38;5;28;43;01mNone\u001B[39;49;00m\u001B[43m,\u001B[49m\n\u001B[0;32m   1484\u001B[0m \u001B[43m    \u001B[49m\u001B[43meval_qid\u001B[49m\u001B[38;5;241;43m=\u001B[39;49m\u001B[38;5;28;43;01mNone\u001B[39;49;00m\u001B[43m,\u001B[49m\n\u001B[0;32m   1485\u001B[0m \u001B[43m    \u001B[49m\u001B[43mcreate_dmatrix\u001B[49m\u001B[38;5;241;43m=\u001B[39;49m\u001B[38;5;28;43mself\u001B[39;49m\u001B[38;5;241;43m.\u001B[39;49m\u001B[43m_create_dmatrix\u001B[49m\u001B[43m,\u001B[49m\n\u001B[0;32m   1486\u001B[0m \u001B[43m    \u001B[49m\u001B[43menable_categorical\u001B[49m\u001B[38;5;241;43m=\u001B[39;49m\u001B[38;5;28;43mself\u001B[39;49m\u001B[38;5;241;43m.\u001B[39;49m\u001B[43menable_categorical\u001B[49m\u001B[43m,\u001B[49m\n\u001B[0;32m   1487\u001B[0m \u001B[43m    \u001B[49m\u001B[43mfeature_types\u001B[49m\u001B[38;5;241;43m=\u001B[39;49m\u001B[38;5;28;43mself\u001B[39;49m\u001B[38;5;241;43m.\u001B[39;49m\u001B[43mfeature_types\u001B[49m\u001B[43m,\u001B[49m\n\u001B[0;32m   1488\u001B[0m \u001B[43m\u001B[49m\u001B[43m)\u001B[49m\n\u001B[0;32m   1490\u001B[0m \u001B[38;5;28mself\u001B[39m\u001B[38;5;241m.\u001B[39m_Booster \u001B[38;5;241m=\u001B[39m train(\n\u001B[0;32m   1491\u001B[0m     params,\n\u001B[0;32m   1492\u001B[0m     train_dmatrix,\n\u001B[1;32m   (...)\u001B[0m\n\u001B[0;32m   1501\u001B[0m     callbacks\u001B[38;5;241m=\u001B[39mcallbacks,\n\u001B[0;32m   1502\u001B[0m )\n\u001B[0;32m   1504\u001B[0m \u001B[38;5;28;01mif\u001B[39;00m \u001B[38;5;129;01mnot\u001B[39;00m \u001B[38;5;28mcallable\u001B[39m(\u001B[38;5;28mself\u001B[39m\u001B[38;5;241m.\u001B[39mobjective):\n",
      "File \u001B[1;32m~\\anaconda3\\envs\\study\\Lib\\site-packages\\xgboost\\sklearn.py:448\u001B[0m, in \u001B[0;36m_wrap_evaluation_matrices\u001B[1;34m(missing, X, y, group, qid, sample_weight, base_margin, feature_weights, eval_set, sample_weight_eval_set, base_margin_eval_set, eval_group, eval_qid, create_dmatrix, enable_categorical, feature_types)\u001B[0m\n\u001B[0;32m    428\u001B[0m \u001B[38;5;28;01mdef\u001B[39;00m \u001B[38;5;21m_wrap_evaluation_matrices\u001B[39m(\n\u001B[0;32m    429\u001B[0m     missing: \u001B[38;5;28mfloat\u001B[39m,\n\u001B[0;32m    430\u001B[0m     X: Any,\n\u001B[1;32m   (...)\u001B[0m\n\u001B[0;32m    444\u001B[0m     feature_types: Optional[FeatureTypes],\n\u001B[0;32m    445\u001B[0m ) \u001B[38;5;241m-\u001B[39m\u001B[38;5;241m>\u001B[39m Tuple[Any, List[Tuple[Any, \u001B[38;5;28mstr\u001B[39m]]]:\n\u001B[0;32m    446\u001B[0m \u001B[38;5;250m    \u001B[39m\u001B[38;5;124;03m\"\"\"Convert array_like evaluation matrices into DMatrix.  Perform validation on the\u001B[39;00m\n\u001B[0;32m    447\u001B[0m \u001B[38;5;124;03m    way.\"\"\"\u001B[39;00m\n\u001B[1;32m--> 448\u001B[0m     train_dmatrix \u001B[38;5;241m=\u001B[39m \u001B[43mcreate_dmatrix\u001B[49m\u001B[43m(\u001B[49m\n\u001B[0;32m    449\u001B[0m \u001B[43m        \u001B[49m\u001B[43mdata\u001B[49m\u001B[38;5;241;43m=\u001B[39;49m\u001B[43mX\u001B[49m\u001B[43m,\u001B[49m\n\u001B[0;32m    450\u001B[0m \u001B[43m        \u001B[49m\u001B[43mlabel\u001B[49m\u001B[38;5;241;43m=\u001B[39;49m\u001B[43my\u001B[49m\u001B[43m,\u001B[49m\n\u001B[0;32m    451\u001B[0m \u001B[43m        \u001B[49m\u001B[43mgroup\u001B[49m\u001B[38;5;241;43m=\u001B[39;49m\u001B[43mgroup\u001B[49m\u001B[43m,\u001B[49m\n\u001B[0;32m    452\u001B[0m \u001B[43m        \u001B[49m\u001B[43mqid\u001B[49m\u001B[38;5;241;43m=\u001B[39;49m\u001B[43mqid\u001B[49m\u001B[43m,\u001B[49m\n\u001B[0;32m    453\u001B[0m \u001B[43m        \u001B[49m\u001B[43mweight\u001B[49m\u001B[38;5;241;43m=\u001B[39;49m\u001B[43msample_weight\u001B[49m\u001B[43m,\u001B[49m\n\u001B[0;32m    454\u001B[0m \u001B[43m        \u001B[49m\u001B[43mbase_margin\u001B[49m\u001B[38;5;241;43m=\u001B[39;49m\u001B[43mbase_margin\u001B[49m\u001B[43m,\u001B[49m\n\u001B[0;32m    455\u001B[0m \u001B[43m        \u001B[49m\u001B[43mfeature_weights\u001B[49m\u001B[38;5;241;43m=\u001B[39;49m\u001B[43mfeature_weights\u001B[49m\u001B[43m,\u001B[49m\n\u001B[0;32m    456\u001B[0m \u001B[43m        \u001B[49m\u001B[43mmissing\u001B[49m\u001B[38;5;241;43m=\u001B[39;49m\u001B[43mmissing\u001B[49m\u001B[43m,\u001B[49m\n\u001B[0;32m    457\u001B[0m \u001B[43m        \u001B[49m\u001B[43menable_categorical\u001B[49m\u001B[38;5;241;43m=\u001B[39;49m\u001B[43menable_categorical\u001B[49m\u001B[43m,\u001B[49m\n\u001B[0;32m    458\u001B[0m \u001B[43m        \u001B[49m\u001B[43mfeature_types\u001B[49m\u001B[38;5;241;43m=\u001B[39;49m\u001B[43mfeature_types\u001B[49m\u001B[43m,\u001B[49m\n\u001B[0;32m    459\u001B[0m \u001B[43m        \u001B[49m\u001B[43mref\u001B[49m\u001B[38;5;241;43m=\u001B[39;49m\u001B[38;5;28;43;01mNone\u001B[39;49;00m\u001B[43m,\u001B[49m\n\u001B[0;32m    460\u001B[0m \u001B[43m    \u001B[49m\u001B[43m)\u001B[49m\n\u001B[0;32m    462\u001B[0m     n_validation \u001B[38;5;241m=\u001B[39m \u001B[38;5;241m0\u001B[39m \u001B[38;5;28;01mif\u001B[39;00m eval_set \u001B[38;5;129;01mis\u001B[39;00m \u001B[38;5;28;01mNone\u001B[39;00m \u001B[38;5;28;01melse\u001B[39;00m \u001B[38;5;28mlen\u001B[39m(eval_set)\n\u001B[0;32m    464\u001B[0m     \u001B[38;5;28;01mdef\u001B[39;00m \u001B[38;5;21mvalidate_or_none\u001B[39m(meta: Optional[Sequence], name: \u001B[38;5;28mstr\u001B[39m) \u001B[38;5;241m-\u001B[39m\u001B[38;5;241m>\u001B[39m Sequence:\n",
      "File \u001B[1;32m~\\anaconda3\\envs\\study\\Lib\\site-packages\\xgboost\\sklearn.py:908\u001B[0m, in \u001B[0;36mXGBModel._create_dmatrix\u001B[1;34m(self, ref, **kwargs)\u001B[0m\n\u001B[0;32m    906\u001B[0m     \u001B[38;5;28;01mexcept\u001B[39;00m \u001B[38;5;167;01mTypeError\u001B[39;00m:  \u001B[38;5;66;03m# `QuantileDMatrix` supports lesser types than DMatrix\u001B[39;00m\n\u001B[0;32m    907\u001B[0m         \u001B[38;5;28;01mpass\u001B[39;00m\n\u001B[1;32m--> 908\u001B[0m \u001B[38;5;28;01mreturn\u001B[39;00m \u001B[43mDMatrix\u001B[49m\u001B[43m(\u001B[49m\u001B[38;5;241;43m*\u001B[39;49m\u001B[38;5;241;43m*\u001B[39;49m\u001B[43mkwargs\u001B[49m\u001B[43m,\u001B[49m\u001B[43m \u001B[49m\u001B[43mnthread\u001B[49m\u001B[38;5;241;43m=\u001B[39;49m\u001B[38;5;28;43mself\u001B[39;49m\u001B[38;5;241;43m.\u001B[39;49m\u001B[43mn_jobs\u001B[49m\u001B[43m)\u001B[49m\n",
      "File \u001B[1;32m~\\anaconda3\\envs\\study\\Lib\\site-packages\\xgboost\\core.py:620\u001B[0m, in \u001B[0;36mrequire_keyword_args.<locals>.throw_if.<locals>.inner_f\u001B[1;34m(*args, **kwargs)\u001B[0m\n\u001B[0;32m    618\u001B[0m \u001B[38;5;28;01mfor\u001B[39;00m k, arg \u001B[38;5;129;01min\u001B[39;00m \u001B[38;5;28mzip\u001B[39m(sig\u001B[38;5;241m.\u001B[39mparameters, args):\n\u001B[0;32m    619\u001B[0m     kwargs[k] \u001B[38;5;241m=\u001B[39m arg\n\u001B[1;32m--> 620\u001B[0m \u001B[38;5;28;01mreturn\u001B[39;00m \u001B[43mfunc\u001B[49m\u001B[43m(\u001B[49m\u001B[38;5;241;43m*\u001B[39;49m\u001B[38;5;241;43m*\u001B[39;49m\u001B[43mkwargs\u001B[49m\u001B[43m)\u001B[49m\n",
      "File \u001B[1;32m~\\anaconda3\\envs\\study\\Lib\\site-packages\\xgboost\\core.py:743\u001B[0m, in \u001B[0;36mDMatrix.__init__\u001B[1;34m(self, data, label, weight, base_margin, missing, silent, feature_names, feature_types, nthread, group, qid, label_lower_bound, label_upper_bound, feature_weights, enable_categorical)\u001B[0m\n\u001B[0;32m    740\u001B[0m     \u001B[38;5;28;01massert\u001B[39;00m \u001B[38;5;28mself\u001B[39m\u001B[38;5;241m.\u001B[39mhandle \u001B[38;5;129;01mis\u001B[39;00m \u001B[38;5;129;01mnot\u001B[39;00m \u001B[38;5;28;01mNone\u001B[39;00m\n\u001B[0;32m    741\u001B[0m     \u001B[38;5;28;01mreturn\u001B[39;00m\n\u001B[1;32m--> 743\u001B[0m handle, feature_names, feature_types \u001B[38;5;241m=\u001B[39m \u001B[43mdispatch_data_backend\u001B[49m\u001B[43m(\u001B[49m\n\u001B[0;32m    744\u001B[0m \u001B[43m    \u001B[49m\u001B[43mdata\u001B[49m\u001B[43m,\u001B[49m\n\u001B[0;32m    745\u001B[0m \u001B[43m    \u001B[49m\u001B[43mmissing\u001B[49m\u001B[38;5;241;43m=\u001B[39;49m\u001B[38;5;28;43mself\u001B[39;49m\u001B[38;5;241;43m.\u001B[39;49m\u001B[43mmissing\u001B[49m\u001B[43m,\u001B[49m\n\u001B[0;32m    746\u001B[0m \u001B[43m    \u001B[49m\u001B[43mthreads\u001B[49m\u001B[38;5;241;43m=\u001B[39;49m\u001B[38;5;28;43mself\u001B[39;49m\u001B[38;5;241;43m.\u001B[39;49m\u001B[43mnthread\u001B[49m\u001B[43m,\u001B[49m\n\u001B[0;32m    747\u001B[0m \u001B[43m    \u001B[49m\u001B[43mfeature_names\u001B[49m\u001B[38;5;241;43m=\u001B[39;49m\u001B[43mfeature_names\u001B[49m\u001B[43m,\u001B[49m\n\u001B[0;32m    748\u001B[0m \u001B[43m    \u001B[49m\u001B[43mfeature_types\u001B[49m\u001B[38;5;241;43m=\u001B[39;49m\u001B[43mfeature_types\u001B[49m\u001B[43m,\u001B[49m\n\u001B[0;32m    749\u001B[0m \u001B[43m    \u001B[49m\u001B[43menable_categorical\u001B[49m\u001B[38;5;241;43m=\u001B[39;49m\u001B[43menable_categorical\u001B[49m\u001B[43m,\u001B[49m\n\u001B[0;32m    750\u001B[0m \u001B[43m\u001B[49m\u001B[43m)\u001B[49m\n\u001B[0;32m    751\u001B[0m \u001B[38;5;28;01massert\u001B[39;00m handle \u001B[38;5;129;01mis\u001B[39;00m \u001B[38;5;129;01mnot\u001B[39;00m \u001B[38;5;28;01mNone\u001B[39;00m\n\u001B[0;32m    752\u001B[0m \u001B[38;5;28mself\u001B[39m\u001B[38;5;241m.\u001B[39mhandle \u001B[38;5;241m=\u001B[39m handle\n",
      "File \u001B[1;32m~\\anaconda3\\envs\\study\\Lib\\site-packages\\xgboost\\data.py:957\u001B[0m, in \u001B[0;36mdispatch_data_backend\u001B[1;34m(data, missing, threads, feature_names, feature_types, enable_categorical)\u001B[0m\n\u001B[0;32m    955\u001B[0m     \u001B[38;5;28;01mreturn\u001B[39;00m _from_tuple(data, missing, threads, feature_names, feature_types)\n\u001B[0;32m    956\u001B[0m \u001B[38;5;28;01mif\u001B[39;00m _is_pandas_df(data):\n\u001B[1;32m--> 957\u001B[0m     \u001B[38;5;28;01mreturn\u001B[39;00m \u001B[43m_from_pandas_df\u001B[49m\u001B[43m(\u001B[49m\u001B[43mdata\u001B[49m\u001B[43m,\u001B[49m\u001B[43m \u001B[49m\u001B[43menable_categorical\u001B[49m\u001B[43m,\u001B[49m\u001B[43m \u001B[49m\u001B[43mmissing\u001B[49m\u001B[43m,\u001B[49m\u001B[43m \u001B[49m\u001B[43mthreads\u001B[49m\u001B[43m,\u001B[49m\n\u001B[0;32m    958\u001B[0m \u001B[43m                           \u001B[49m\u001B[43mfeature_names\u001B[49m\u001B[43m,\u001B[49m\u001B[43m \u001B[49m\u001B[43mfeature_types\u001B[49m\u001B[43m)\u001B[49m\n\u001B[0;32m    959\u001B[0m \u001B[38;5;28;01mif\u001B[39;00m _is_pandas_series(data):\n\u001B[0;32m    960\u001B[0m     \u001B[38;5;28;01mreturn\u001B[39;00m _from_pandas_series(\n\u001B[0;32m    961\u001B[0m         data, missing, threads, enable_categorical, feature_names, feature_types\n\u001B[0;32m    962\u001B[0m     )\n",
      "File \u001B[1;32m~\\anaconda3\\envs\\study\\Lib\\site-packages\\xgboost\\data.py:404\u001B[0m, in \u001B[0;36m_from_pandas_df\u001B[1;34m(data, enable_categorical, missing, nthread, feature_names, feature_types)\u001B[0m\n\u001B[0;32m    396\u001B[0m \u001B[38;5;28;01mdef\u001B[39;00m \u001B[38;5;21m_from_pandas_df\u001B[39m(\n\u001B[0;32m    397\u001B[0m     data: DataFrame,\n\u001B[0;32m    398\u001B[0m     enable_categorical: \u001B[38;5;28mbool\u001B[39m,\n\u001B[1;32m   (...)\u001B[0m\n\u001B[0;32m    402\u001B[0m     feature_types: Optional[FeatureTypes],\n\u001B[0;32m    403\u001B[0m ) \u001B[38;5;241m-\u001B[39m\u001B[38;5;241m>\u001B[39m DispatchedDataBackendReturnType:\n\u001B[1;32m--> 404\u001B[0m     data, feature_names, feature_types \u001B[38;5;241m=\u001B[39m \u001B[43m_transform_pandas_df\u001B[49m\u001B[43m(\u001B[49m\n\u001B[0;32m    405\u001B[0m \u001B[43m        \u001B[49m\u001B[43mdata\u001B[49m\u001B[43m,\u001B[49m\u001B[43m \u001B[49m\u001B[43menable_categorical\u001B[49m\u001B[43m,\u001B[49m\u001B[43m \u001B[49m\u001B[43mfeature_names\u001B[49m\u001B[43m,\u001B[49m\u001B[43m \u001B[49m\u001B[43mfeature_types\u001B[49m\n\u001B[0;32m    406\u001B[0m \u001B[43m    \u001B[49m\u001B[43m)\u001B[49m\n\u001B[0;32m    407\u001B[0m     \u001B[38;5;28;01mreturn\u001B[39;00m _from_numpy_array(data, missing, nthread, feature_names, feature_types)\n",
      "File \u001B[1;32m~\\anaconda3\\envs\\study\\Lib\\site-packages\\xgboost\\data.py:378\u001B[0m, in \u001B[0;36m_transform_pandas_df\u001B[1;34m(data, enable_categorical, feature_names, feature_types, meta, meta_type)\u001B[0m\n\u001B[0;32m    366\u001B[0m \u001B[38;5;28;01mfrom\u001B[39;00m \u001B[38;5;21;01mpandas\u001B[39;00m\u001B[38;5;21;01m.\u001B[39;00m\u001B[38;5;21;01mapi\u001B[39;00m\u001B[38;5;21;01m.\u001B[39;00m\u001B[38;5;21;01mtypes\u001B[39;00m \u001B[38;5;28;01mimport\u001B[39;00m (\n\u001B[0;32m    367\u001B[0m     is_sparse,\n\u001B[0;32m    368\u001B[0m     is_categorical_dtype,\n\u001B[0;32m    369\u001B[0m )\n\u001B[0;32m    371\u001B[0m \u001B[38;5;28;01mif\u001B[39;00m \u001B[38;5;129;01mnot\u001B[39;00m \u001B[38;5;28mall\u001B[39m(\n\u001B[0;32m    372\u001B[0m     dtype\u001B[38;5;241m.\u001B[39mname \u001B[38;5;129;01min\u001B[39;00m _pandas_dtype_mapper\n\u001B[0;32m    373\u001B[0m     \u001B[38;5;129;01mor\u001B[39;00m is_sparse(dtype)\n\u001B[1;32m   (...)\u001B[0m\n\u001B[0;32m    376\u001B[0m     \u001B[38;5;28;01mfor\u001B[39;00m dtype \u001B[38;5;129;01min\u001B[39;00m data\u001B[38;5;241m.\u001B[39mdtypes\n\u001B[0;32m    377\u001B[0m ):\n\u001B[1;32m--> 378\u001B[0m     \u001B[43m_invalid_dataframe_dtype\u001B[49m\u001B[43m(\u001B[49m\u001B[43mdata\u001B[49m\u001B[43m)\u001B[49m\n\u001B[0;32m    380\u001B[0m feature_names, feature_types \u001B[38;5;241m=\u001B[39m _pandas_feature_info(\n\u001B[0;32m    381\u001B[0m     data, meta, feature_names, feature_types, enable_categorical\n\u001B[0;32m    382\u001B[0m )\n\u001B[0;32m    384\u001B[0m transformed \u001B[38;5;241m=\u001B[39m _pandas_cat_null(data)\n",
      "File \u001B[1;32m~\\anaconda3\\envs\\study\\Lib\\site-packages\\xgboost\\data.py:270\u001B[0m, in \u001B[0;36m_invalid_dataframe_dtype\u001B[1;34m(data)\u001B[0m\n\u001B[0;32m    268\u001B[0m type_err \u001B[38;5;241m=\u001B[39m \u001B[38;5;124m\"\u001B[39m\u001B[38;5;124mDataFrame.dtypes for data must be int, float, bool or category.\u001B[39m\u001B[38;5;124m\"\u001B[39m\n\u001B[0;32m    269\u001B[0m msg \u001B[38;5;241m=\u001B[39m \u001B[38;5;124mf\u001B[39m\u001B[38;5;124m\"\"\"\u001B[39m\u001B[38;5;132;01m{\u001B[39;00mtype_err\u001B[38;5;132;01m}\u001B[39;00m\u001B[38;5;124m \u001B[39m\u001B[38;5;132;01m{\u001B[39;00m_ENABLE_CAT_ERR\u001B[38;5;132;01m}\u001B[39;00m\u001B[38;5;124m \u001B[39m\u001B[38;5;132;01m{\u001B[39;00merr\u001B[38;5;132;01m}\u001B[39;00m\u001B[38;5;124m\"\"\"\u001B[39m\n\u001B[1;32m--> 270\u001B[0m \u001B[38;5;28;01mraise\u001B[39;00m \u001B[38;5;167;01mValueError\u001B[39;00m(msg)\n",
      "\u001B[1;31mValueError\u001B[0m: DataFrame.dtypes for data must be int, float, bool or category. When categorical type is supplied, The experimental DMatrix parameter`enable_categorical` must be set to `True`.  Invalid columns:payment_pattern: object"
     ]
    }
   ],
   "source": [
    "import xgboost as xgb\n",
    "\n",
    "# 데이터셋 로드 및 전처리\n",
    "# 예: X는 특징 변수, y는 범주형 목표 변수\n",
    "\n",
    "\n",
    "# XGBoost 모델 생성 및 학습\n",
    "model_xgb = xgb.XGBClassifier(random_state=2200,objective=\"multi:softmax\", num_class=2, n_estimators=100, device=\"cuda\")\n",
    "model_xgb.fit(X_train, y_train)"
   ],
   "metadata": {
    "collapsed": false,
    "ExecuteTime": {
     "end_time": "2023-11-28T10:32:16.216103900Z",
     "start_time": "2023-11-28T10:32:16.101449400Z"
    }
   },
   "id": "c75921dd3b35d7d3"
  },
  {
   "cell_type": "code",
   "execution_count": 43,
   "outputs": [],
   "source": [
    "y_pred_xgb = model_xgb.predict(X_test)"
   ],
   "metadata": {
    "collapsed": false,
    "ExecuteTime": {
     "end_time": "2023-11-28T10:26:03.810295Z",
     "start_time": "2023-11-28T10:26:03.749949500Z"
    }
   },
   "id": "202edf1fd350a38e"
  },
  {
   "cell_type": "code",
   "execution_count": 44,
   "outputs": [
    {
     "name": "stdout",
     "output_type": "stream",
     "text": [
      "XGBoost Accuracy: 0.582\n"
     ]
    }
   ],
   "source": [
    "accuracy_xgb = accuracy_score(y_test, y_pred_xgb)\n",
    "print(f\"XGBoost Accuracy: {accuracy_xgb}\")"
   ],
   "metadata": {
    "collapsed": false,
    "ExecuteTime": {
     "end_time": "2023-11-28T10:26:03.810295Z",
     "start_time": "2023-11-28T10:26:03.762423100Z"
    }
   },
   "id": "fc3001306f8070b1"
  },
  {
   "cell_type": "code",
   "execution_count": 45,
   "outputs": [
    {
     "name": "stdout",
     "output_type": "stream",
     "text": [
      "0.5136\n"
     ]
    }
   ],
   "source": [
    "print(f1_score(y_test,y_pred_xgb , average='macro'))"
   ],
   "metadata": {
    "collapsed": false,
    "ExecuteTime": {
     "end_time": "2023-11-28T10:26:06.312780Z",
     "start_time": "2023-11-28T10:26:06.288159Z"
    }
   },
   "id": "6e23744a52d65f81"
  },
  {
   "cell_type": "code",
   "execution_count": 29,
   "outputs": [
    {
     "data": {
      "text/plain": "<Figure size 640x480 with 2 Axes>",
      "image/png": "[encoded data removed]"
     },
     "metadata": {},
     "output_type": "display_data"
    }
   ],
   "source": [
    "from sklearn.metrics import confusion_matrix, accuracy_score\n",
    "# Confusion Matrix 생성\n",
    "cm = confusion_matrix(y_test, y_pred_xgb)\n",
    "\n",
    "# 시각화\n",
    "plt.imshow(cm, interpolation='nearest', cmap=plt.cm.Blues)\n",
    "plt.title('XGBoost Confusion Matrix Accuracy {}'.format(round((accuracy_xgb),2)))\n",
    "plt.colorbar()\n",
    "\n",
    "classes = model_xgb.classes_\n",
    "tick_marks = np.arange(len(classes))\n",
    "plt.xticks(tick_marks, classes)\n",
    "plt.yticks(tick_marks, classes)\n",
    "\n",
    "plt.xlabel('Predicted')\n",
    "plt.ylabel('True')\n",
    "\n",
    "for i in range(len(classes)):\n",
    "    for j in range(len(classes)):\n",
    "        plt.text(j, i, format(cm[i, j], 'd'), horizontalalignment=\"center\", color=\"white\" if cm[i, j] > cm.max() / 2 else \"black\")\n",
    "\n",
    "plt.show()"
   ],
   "metadata": {
    "collapsed": false,
    "ExecuteTime": {
     "end_time": "2023-11-28T10:23:42.558531200Z",
     "start_time": "2023-11-28T10:23:42.402058900Z"
    }
   },
   "id": "2492b6894086b83b"
  },
  {
   "cell_type": "code",
   "execution_count": 30,
   "outputs": [
    {
     "name": "stdout",
     "output_type": "stream",
     "text": [
      "0:\tlearn: 0.6923698\ttotal: 214ms\tremaining: 31.9s\n",
      "1:\tlearn: 0.6916542\ttotal: 280ms\tremaining: 20.7s\n",
      "2:\tlearn: 0.6909263\ttotal: 366ms\tremaining: 17.9s\n",
      "3:\tlearn: 0.6901758\ttotal: 456ms\tremaining: 16.6s\n",
      "4:\tlearn: 0.6894320\ttotal: 516ms\tremaining: 15s\n",
      "5:\tlearn: 0.6886955\ttotal: 579ms\tremaining: 13.9s\n",
      "6:\tlearn: 0.6879976\ttotal: 641ms\tremaining: 13.1s\n",
      "7:\tlearn: 0.6872661\ttotal: 702ms\tremaining: 12.5s\n",
      "8:\tlearn: 0.6865689\ttotal: 765ms\tremaining: 12s\n",
      "9:\tlearn: 0.6858226\ttotal: 825ms\tremaining: 11.5s\n",
      "10:\tlearn: 0.6851088\ttotal: 885ms\tremaining: 11.2s\n",
      "11:\tlearn: 0.6844222\ttotal: 946ms\tremaining: 10.9s\n",
      "12:\tlearn: 0.6837234\ttotal: 1.01s\tremaining: 10.6s\n",
      "13:\tlearn: 0.6830895\ttotal: 1.07s\tremaining: 10.4s\n",
      "14:\tlearn: 0.6824309\ttotal: 1.13s\tremaining: 10.1s\n",
      "15:\tlearn: 0.6818285\ttotal: 1.19s\tremaining: 9.96s\n",
      "16:\tlearn: 0.6811968\ttotal: 1.25s\tremaining: 9.79s\n",
      "17:\tlearn: 0.6806036\ttotal: 1.27s\tremaining: 9.34s\n",
      "18:\tlearn: 0.6799255\ttotal: 1.33s\tremaining: 9.2s\n",
      "19:\tlearn: 0.6793347\ttotal: 1.35s\tremaining: 8.81s\n",
      "20:\tlearn: 0.6786783\ttotal: 1.41s\tremaining: 8.69s\n",
      "21:\tlearn: 0.6780380\ttotal: 1.48s\tremaining: 8.59s\n",
      "22:\tlearn: 0.6773920\ttotal: 1.54s\tremaining: 8.49s\n",
      "23:\tlearn: 0.6768643\ttotal: 1.6s\tremaining: 8.38s\n",
      "24:\tlearn: 0.6762509\ttotal: 1.66s\tremaining: 8.29s\n",
      "25:\tlearn: 0.6756681\ttotal: 1.72s\tremaining: 8.22s\n",
      "26:\tlearn: 0.6750781\ttotal: 1.78s\tremaining: 8.13s\n",
      "27:\tlearn: 0.6745338\ttotal: 1.8s\tremaining: 7.86s\n",
      "28:\tlearn: 0.6739995\ttotal: 1.85s\tremaining: 7.71s\n",
      "29:\tlearn: 0.6734640\ttotal: 1.87s\tremaining: 7.46s\n",
      "30:\tlearn: 0.6729344\ttotal: 1.93s\tremaining: 7.4s\n",
      "31:\tlearn: 0.6723503\ttotal: 1.99s\tremaining: 7.34s\n",
      "32:\tlearn: 0.6717534\ttotal: 2.05s\tremaining: 7.28s\n",
      "33:\tlearn: 0.6712399\ttotal: 2.12s\tremaining: 7.22s\n",
      "34:\tlearn: 0.6707466\ttotal: 2.18s\tremaining: 7.16s\n",
      "35:\tlearn: 0.6702099\ttotal: 2.24s\tremaining: 7.09s\n",
      "36:\tlearn: 0.6696328\ttotal: 2.3s\tremaining: 7.03s\n",
      "37:\tlearn: 0.6691608\ttotal: 2.36s\tremaining: 6.96s\n",
      "38:\tlearn: 0.6686526\ttotal: 2.42s\tremaining: 6.9s\n",
      "39:\tlearn: 0.6681880\ttotal: 2.48s\tremaining: 6.83s\n",
      "40:\tlearn: 0.6677029\ttotal: 2.54s\tremaining: 6.76s\n",
      "41:\tlearn: 0.6672419\ttotal: 2.6s\tremaining: 6.7s\n",
      "42:\tlearn: 0.6667036\ttotal: 2.67s\tremaining: 6.64s\n",
      "43:\tlearn: 0.6662318\ttotal: 2.73s\tremaining: 6.57s\n",
      "44:\tlearn: 0.6657625\ttotal: 2.79s\tremaining: 6.5s\n",
      "45:\tlearn: 0.6653010\ttotal: 2.85s\tremaining: 6.44s\n",
      "46:\tlearn: 0.6648649\ttotal: 2.91s\tremaining: 6.38s\n",
      "47:\tlearn: 0.6643292\ttotal: 2.97s\tremaining: 6.31s\n",
      "48:\tlearn: 0.6638609\ttotal: 3.04s\tremaining: 6.26s\n",
      "49:\tlearn: 0.6633431\ttotal: 3.1s\tremaining: 6.2s\n",
      "50:\tlearn: 0.6629073\ttotal: 3.16s\tremaining: 6.14s\n",
      "51:\tlearn: 0.6623848\ttotal: 3.22s\tremaining: 6.07s\n",
      "52:\tlearn: 0.6619078\ttotal: 3.28s\tremaining: 6.01s\n",
      "53:\tlearn: 0.6614136\ttotal: 3.35s\tremaining: 5.95s\n",
      "54:\tlearn: 0.6609264\ttotal: 3.41s\tremaining: 5.89s\n",
      "55:\tlearn: 0.6604440\ttotal: 3.47s\tremaining: 5.83s\n",
      "56:\tlearn: 0.6599972\ttotal: 3.54s\tremaining: 5.77s\n",
      "57:\tlearn: 0.6596461\ttotal: 3.6s\tremaining: 5.71s\n",
      "58:\tlearn: 0.6592666\ttotal: 3.66s\tremaining: 5.65s\n",
      "59:\tlearn: 0.6589316\ttotal: 3.72s\tremaining: 5.58s\n",
      "60:\tlearn: 0.6583925\ttotal: 3.78s\tremaining: 5.52s\n",
      "61:\tlearn: 0.6580160\ttotal: 3.84s\tremaining: 5.45s\n",
      "62:\tlearn: 0.6575582\ttotal: 3.9s\tremaining: 5.39s\n",
      "63:\tlearn: 0.6571588\ttotal: 3.96s\tremaining: 5.33s\n",
      "64:\tlearn: 0.6567113\ttotal: 4.02s\tremaining: 5.26s\n",
      "65:\tlearn: 0.6562483\ttotal: 4.08s\tremaining: 5.2s\n",
      "66:\tlearn: 0.6559510\ttotal: 4.11s\tremaining: 5.09s\n",
      "67:\tlearn: 0.6554943\ttotal: 4.17s\tremaining: 5.02s\n",
      "68:\tlearn: 0.6551500\ttotal: 4.22s\tremaining: 4.96s\n",
      "69:\tlearn: 0.6547945\ttotal: 4.29s\tremaining: 4.9s\n",
      "70:\tlearn: 0.6545060\ttotal: 4.35s\tremaining: 4.84s\n",
      "71:\tlearn: 0.6540566\ttotal: 4.41s\tremaining: 4.78s\n",
      "72:\tlearn: 0.6537068\ttotal: 4.47s\tremaining: 4.72s\n",
      "73:\tlearn: 0.6533451\ttotal: 4.53s\tremaining: 4.65s\n",
      "74:\tlearn: 0.6528918\ttotal: 4.59s\tremaining: 4.59s\n",
      "75:\tlearn: 0.6526279\ttotal: 4.65s\tremaining: 4.53s\n",
      "76:\tlearn: 0.6523399\ttotal: 4.68s\tremaining: 4.44s\n",
      "77:\tlearn: 0.6520276\ttotal: 4.74s\tremaining: 4.38s\n",
      "78:\tlearn: 0.6517292\ttotal: 4.8s\tremaining: 4.32s\n",
      "79:\tlearn: 0.6512336\ttotal: 4.87s\tremaining: 4.26s\n",
      "80:\tlearn: 0.6508909\ttotal: 4.93s\tremaining: 4.2s\n",
      "81:\tlearn: 0.6506141\ttotal: 4.97s\tremaining: 4.12s\n",
      "82:\tlearn: 0.6501458\ttotal: 5.04s\tremaining: 4.07s\n",
      "83:\tlearn: 0.6497820\ttotal: 5.1s\tremaining: 4.01s\n",
      "84:\tlearn: 0.6494633\ttotal: 5.16s\tremaining: 3.94s\n",
      "85:\tlearn: 0.6491137\ttotal: 5.22s\tremaining: 3.88s\n",
      "86:\tlearn: 0.6488189\ttotal: 5.28s\tremaining: 3.82s\n",
      "87:\tlearn: 0.6485051\ttotal: 5.34s\tremaining: 3.77s\n",
      "88:\tlearn: 0.6480947\ttotal: 5.4s\tremaining: 3.7s\n",
      "89:\tlearn: 0.6477166\ttotal: 5.47s\tremaining: 3.64s\n",
      "90:\tlearn: 0.6473683\ttotal: 5.53s\tremaining: 3.58s\n",
      "91:\tlearn: 0.6470745\ttotal: 5.59s\tremaining: 3.52s\n",
      "92:\tlearn: 0.6467417\ttotal: 5.65s\tremaining: 3.46s\n",
      "93:\tlearn: 0.6464479\ttotal: 5.71s\tremaining: 3.4s\n",
      "94:\tlearn: 0.6460158\ttotal: 5.77s\tremaining: 3.34s\n",
      "95:\tlearn: 0.6456753\ttotal: 5.83s\tremaining: 3.28s\n",
      "96:\tlearn: 0.6453465\ttotal: 5.89s\tremaining: 3.22s\n",
      "97:\tlearn: 0.6450353\ttotal: 5.96s\tremaining: 3.16s\n",
      "98:\tlearn: 0.6445843\ttotal: 6.02s\tremaining: 3.1s\n",
      "99:\tlearn: 0.6442980\ttotal: 6.09s\tremaining: 3.04s\n",
      "100:\tlearn: 0.6439074\ttotal: 6.15s\tremaining: 2.98s\n",
      "101:\tlearn: 0.6435165\ttotal: 6.22s\tremaining: 2.93s\n",
      "102:\tlearn: 0.6431610\ttotal: 6.28s\tremaining: 2.87s\n",
      "103:\tlearn: 0.6429028\ttotal: 6.35s\tremaining: 2.81s\n",
      "104:\tlearn: 0.6425504\ttotal: 6.41s\tremaining: 2.75s\n",
      "105:\tlearn: 0.6422409\ttotal: 6.48s\tremaining: 2.69s\n",
      "106:\tlearn: 0.6420113\ttotal: 6.54s\tremaining: 2.63s\n",
      "107:\tlearn: 0.6415574\ttotal: 6.61s\tremaining: 2.57s\n",
      "108:\tlearn: 0.6413243\ttotal: 6.67s\tremaining: 2.51s\n",
      "109:\tlearn: 0.6411095\ttotal: 6.74s\tremaining: 2.45s\n",
      "110:\tlearn: 0.6407871\ttotal: 6.8s\tremaining: 2.39s\n",
      "111:\tlearn: 0.6405263\ttotal: 6.87s\tremaining: 2.33s\n",
      "112:\tlearn: 0.6402698\ttotal: 6.93s\tremaining: 2.27s\n",
      "113:\tlearn: 0.6399091\ttotal: 6.99s\tremaining: 2.21s\n",
      "114:\tlearn: 0.6396173\ttotal: 7.06s\tremaining: 2.15s\n",
      "115:\tlearn: 0.6393055\ttotal: 7.12s\tremaining: 2.09s\n",
      "116:\tlearn: 0.6389613\ttotal: 7.18s\tremaining: 2.03s\n",
      "117:\tlearn: 0.6385915\ttotal: 7.24s\tremaining: 1.96s\n",
      "118:\tlearn: 0.6383602\ttotal: 7.3s\tremaining: 1.9s\n",
      "119:\tlearn: 0.6380914\ttotal: 7.37s\tremaining: 1.84s\n",
      "120:\tlearn: 0.6378265\ttotal: 7.43s\tremaining: 1.78s\n",
      "121:\tlearn: 0.6375652\ttotal: 7.49s\tremaining: 1.72s\n",
      "122:\tlearn: 0.6372903\ttotal: 7.55s\tremaining: 1.66s\n",
      "123:\tlearn: 0.6370357\ttotal: 7.61s\tremaining: 1.6s\n",
      "124:\tlearn: 0.6367674\ttotal: 7.67s\tremaining: 1.53s\n",
      "125:\tlearn: 0.6364755\ttotal: 7.74s\tremaining: 1.47s\n",
      "126:\tlearn: 0.6361901\ttotal: 7.8s\tremaining: 1.41s\n",
      "127:\tlearn: 0.6359501\ttotal: 7.86s\tremaining: 1.35s\n",
      "128:\tlearn: 0.6357934\ttotal: 7.88s\tremaining: 1.28s\n",
      "129:\tlearn: 0.6356182\ttotal: 7.89s\tremaining: 1.21s\n",
      "130:\tlearn: 0.6352772\ttotal: 7.95s\tremaining: 1.15s\n",
      "131:\tlearn: 0.6350808\ttotal: 8.01s\tremaining: 1.09s\n",
      "132:\tlearn: 0.6346766\ttotal: 8.07s\tremaining: 1.03s\n",
      "133:\tlearn: 0.6343439\ttotal: 8.13s\tremaining: 971ms\n",
      "134:\tlearn: 0.6340367\ttotal: 8.2s\tremaining: 911ms\n",
      "135:\tlearn: 0.6338054\ttotal: 8.26s\tremaining: 850ms\n",
      "136:\tlearn: 0.6336251\ttotal: 8.32s\tremaining: 789ms\n",
      "137:\tlearn: 0.6334016\ttotal: 8.38s\tremaining: 729ms\n",
      "138:\tlearn: 0.6331125\ttotal: 8.44s\tremaining: 668ms\n",
      "139:\tlearn: 0.6328521\ttotal: 8.51s\tremaining: 608ms\n",
      "140:\tlearn: 0.6326272\ttotal: 8.57s\tremaining: 547ms\n",
      "141:\tlearn: 0.6323447\ttotal: 8.63s\tremaining: 486ms\n",
      "142:\tlearn: 0.6321476\ttotal: 8.69s\tremaining: 425ms\n",
      "143:\tlearn: 0.6318767\ttotal: 8.75s\tremaining: 365ms\n",
      "144:\tlearn: 0.6316669\ttotal: 8.81s\tremaining: 304ms\n",
      "145:\tlearn: 0.6314574\ttotal: 8.87s\tremaining: 243ms\n",
      "146:\tlearn: 0.6311708\ttotal: 8.93s\tremaining: 182ms\n",
      "147:\tlearn: 0.6308825\ttotal: 9.02s\tremaining: 122ms\n",
      "148:\tlearn: 0.6305619\ttotal: 9.09s\tremaining: 61ms\n",
      "149:\tlearn: 0.6303203\ttotal: 9.15s\tremaining: 0us\n"
     ]
    },
    {
     "data": {
      "text/plain": "<catboost.core.CatBoostClassifier at 0x200faa9a410>"
     },
     "execution_count": 30,
     "metadata": {},
     "output_type": "execute_result"
    }
   ],
   "source": [
    "from catboost import CatBoostClassifier\n",
    "\n",
    "\n",
    "# CatBoost 모델 생성 및 학습\n",
    "model_catboost = CatBoostClassifier(iterations=150, depth=10, learning_rate=0.01, loss_function='MultiClass', cat_features=[0, 1])\n",
    "model_catboost.fit(X_train, y_train)"
   ],
   "metadata": {
    "collapsed": false,
    "ExecuteTime": {
     "end_time": "2023-11-28T10:23:56.471505400Z",
     "start_time": "2023-11-28T10:23:47.203359200Z"
    }
   },
   "id": "de481659e24fe37e"
  },
  {
   "cell_type": "code",
   "execution_count": 31,
   "outputs": [],
   "source": [
    "# 예측\n",
    "y_pred_catboost = model_catboost.predict(X_test)"
   ],
   "metadata": {
    "collapsed": false,
    "ExecuteTime": {
     "end_time": "2023-11-28T10:23:57.037418100Z",
     "start_time": "2023-11-28T10:23:57.026846Z"
    }
   },
   "id": "b568b5bf3a8d9244"
  },
  {
   "cell_type": "code",
   "execution_count": 32,
   "outputs": [
    {
     "name": "stdout",
     "output_type": "stream",
     "text": [
      "CatBoost Accuracy: 0.621\n"
     ]
    }
   ],
   "source": [
    "# 정확도 평가\n",
    "accuracy_catboost = accuracy_score(y_test, y_pred_catboost)\n",
    "print(f\"CatBoost Accuracy: {accuracy_catboost}\")"
   ],
   "metadata": {
    "collapsed": false,
    "ExecuteTime": {
     "end_time": "2023-11-28T10:23:57.355316900Z",
     "start_time": "2023-11-28T10:23:57.344012900Z"
    }
   },
   "id": "569d1eda2452a266"
  },
  {
   "cell_type": "code",
   "execution_count": null,
   "outputs": [],
   "source": [],
   "metadata": {
    "collapsed": false
   },
   "id": "41f44fec1e987911"
  },
  {
   "cell_type": "code",
   "execution_count": 201,
   "outputs": [
    {
     "data": {
      "text/plain": "<Figure size 640x480 with 2 Axes>",
      "image/png": "[encoded data removed]"
     },
     "metadata": {},
     "output_type": "display_data"
    }
   ],
   "source": [
    "# Confusion Matrix 생성\n",
    "cm = confusion_matrix(y_test, y_pred_catboost)\n",
    "\n",
    "# 시각화\n",
    "plt.imshow(cm, interpolation='nearest', cmap=plt.cm.Blues)\n",
    "plt.title('CatBoost Confusion Matrix Accuracy {}'.format(round((accuracy_catboost),2)))\n",
    "plt.colorbar()\n",
    "\n",
    "classes = model_catboost.classes_\n",
    "tick_marks = np.arange(len(classes))\n",
    "plt.xticks(tick_marks, classes)\n",
    "plt.yticks(tick_marks, classes)\n",
    "\n",
    "plt.xlabel('Predicted')\n",
    "plt.ylabel('True')\n",
    "\n",
    "for i in range(len(classes)):\n",
    "    for j in range(len(classes)):\n",
    "        plt.text(j, i, format(cm[i, j], 'd'), horizontalalignment=\"center\", color=\"white\" if cm[i, j] > cm.max() / 2 else \"black\")\n",
    "\n",
    "plt.show()"
   ],
   "metadata": {
    "collapsed": false,
    "ExecuteTime": {
     "end_time": "2023-11-28T10:08:14.541328600Z",
     "start_time": "2023-11-28T10:08:14.388346900Z"
    }
   },
   "id": "f66f595425698845"
  },
  {
   "cell_type": "code",
   "execution_count": 33,
   "outputs": [
    {
     "name": "stdout",
     "output_type": "stream",
     "text": [
      "<class 'pandas.core.frame.DataFrame'>\n",
      "RangeIndex: 10000 entries, 0 to 9999\n",
      "Data columns (total 14 columns):\n",
      " #   Column                             Non-Null Count  Dtype   \n",
      "---  ------                             --------------  -----   \n",
      " 0   subscription_duration              10000 non-null  int64   \n",
      " 1   recent_login_time                  10000 non-null  int64   \n",
      " 2   average_login_time                 10000 non-null  float64 \n",
      " 3   average_time_per_learning_session  10000 non-null  float64 \n",
      " 4   monthly_active_learning_days       10000 non-null  int64   \n",
      " 5   total_completed_courses            10000 non-null  int64   \n",
      " 6   recent_learning_achievement        10000 non-null  float64 \n",
      " 7   abandoned_learning_sessions        10000 non-null  int64   \n",
      " 8   community_engagement_level         10000 non-null  int64   \n",
      " 9   preferred_difficulty_level         10000 non-null  int32   \n",
      " 10  subscription_type                  10000 non-null  int32   \n",
      " 11  customer_inquiry_history           10000 non-null  int64   \n",
      " 12  payment_pattern                    10000 non-null  int64   \n",
      " 13  target                             10000 non-null  category\n",
      "dtypes: category(1), float64(3), int32(2), int64(8)\n",
      "memory usage: 947.5 KB\n"
     ]
    }
   ],
   "source": [
    "train.info()"
   ],
   "metadata": {
    "collapsed": false,
    "ExecuteTime": {
     "end_time": "2023-11-28T10:24:56.529757600Z",
     "start_time": "2023-11-28T10:24:56.500974600Z"
    }
   },
   "id": "8b9384d9b009182f"
  },
  {
   "cell_type": "code",
   "execution_count": null,
   "outputs": [],
   "source": [],
   "metadata": {
    "collapsed": false
   },
   "id": "f5d1775cfeb77f65"
  }
 ],
 "metadata": {
  "kernelspec": {
   "display_name": "Python 3",
   "language": "python",
   "name": "python3"
  },
  "language_info": {
   "codemirror_mode": {
    "name": "ipython",
    "version": 2
   },
   "file_extension": ".py",
   "mimetype": "text/x-python",
   "name": "python",
   "nbconvert_exporter": "python",
   "pygments_lexer": "ipython2",
   "version": "2.7.6"
  }
 },
 "nbformat": 4,
 "nbformat_minor": 5
}

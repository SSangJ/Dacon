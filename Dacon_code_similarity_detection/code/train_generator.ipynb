{
 "cells": [
  {
   "cell_type": "code",
   "execution_count": 1,
   "id": "initial_id",
   "metadata": {
    "collapsed": true,
    "ExecuteTime": {
     "end_time": "2024-03-15T10:23:23.733045400Z",
     "start_time": "2024-03-15T10:23:22.139056700Z"
    }
   },
   "outputs": [],
   "source": [
    "import glob\n",
    "import pandas as pd\n",
    "import random\n",
    "\n",
    "random.seed(42)\n",
    "path = '../data/train_code'"
   ]
  },
  {
   "cell_type": "code",
   "execution_count": 2,
   "outputs": [],
   "source": [
    "pair_proportion = 0.5 #레이블 비율 설정(같은 문제를 해결하는 코드끼리 묶여있는 짝의 비율)\n",
    "\n",
    "pair = int(250*pair_proportion)\n",
    "not_pair = 250-pair\n",
    "sample_num = random.sample([i for i in range(500)], k=int(pair*2))\n",
    "similar = [True if i in sample_num else False for i in range(500)]\n",
    "not_similar = [False if i in sample_num else True for i in range(500)]\n",
    "\n",
    "df = pd.DataFrame()\n",
    "df2 = pd.DataFrame()"
   ],
   "metadata": {
    "collapsed": false,
    "ExecuteTime": {
     "end_time": "2024-03-15T10:23:24.577150100Z",
     "start_time": "2024-03-15T10:23:24.553244900Z"
    }
   },
   "id": "7392b21e8bd1ab97"
  },
  {
   "cell_type": "code",
   "execution_count": 3,
   "outputs": [],
   "source": [
    "for idx in range(1,501):\n",
    "    code_paths = glob.glob(path+'/problem{idx:03d}/*.cpp'.format(idx=idx))\n",
    "    codes = [''.join(open('{code_path}'.format(code_path=code_path),encoding='utf-8').readlines()) for code_path in code_paths]\n",
    "    df = pd.concat([df, pd.DataFrame({'problem{idx:03d}'.format(idx=idx): codes})], axis=1)"
   ],
   "metadata": {
    "collapsed": false,
    "ExecuteTime": {
     "end_time": "2024-03-15T10:32:11.778294300Z",
     "start_time": "2024-03-15T10:23:29.865538Z"
    }
   },
   "id": "1bb79c77adbba4a0"
  },
  {
   "cell_type": "code",
   "execution_count": 4,
   "outputs": [],
   "source": [
    "temp = df[similar]\n",
    "for idx in range(1,501):\n",
    "    temp1 = list(temp['problem{idx:03d}'.format(idx=idx)])\n",
    "    code1 = [temp1[i] for i in range(0,pair*2,2)]\n",
    "    code2 = [temp1[i+1] for i in range(0,pair*2,2)]\n",
    "    similar = [1 for _ in range(0,pair*2,2)]\n",
    "    df2 = pd.concat([df2,pd.DataFrame({'code1': code1, 'code2': code2, 'similar': similar})])"
   ],
   "metadata": {
    "collapsed": false,
    "ExecuteTime": {
     "end_time": "2024-03-15T10:35:09.704594700Z",
     "start_time": "2024-03-15T10:35:08.629921300Z"
    }
   },
   "id": "8c8c05642e99c502"
  },
  {
   "cell_type": "code",
   "execution_count": 15,
   "outputs": [
    {
     "data": {
      "text/plain": "                                                   code1  \\\n0      #include \"iostream\"\\n#include \"climits\"\\n#incl...   \n1      // E - Sequence Sum\\n#include <bits/stdc++.h>\\...   \n2      #include <bits/stdc++.h>\\n#define rep(i, n) fo...   \n3      #include <bits/stdc++.h>\\nusing namespace std;...   \n4      #include<bits/stdc++.h>\\nusing namespace std;\\...   \n...                                                  ...   \n62495  #include<iostream>\\nusing namespace std;\\nint ...   \n62496  #include <bits/stdc++.h>\\nusing namespace std;...   \n62497  #include<bits/stdc++.h>\\n#define rep(i,n)for(i...   \n62498  #include <bits/stdc++.h>\\nusing namespace std;...   \n62499  #include <iostream>\\nusing namespace std;\\nvoi...   \n\n                                                   code2  similar  \n0      #include <iostream>\\n#include <map>\\n\\n#define...        1  \n1      ////////////////////////    W H I T E C L O U ...        1  \n2      #include <bits/stdc++.h>\\nusing namespace std;...        1  \n3      #include <iostream>\\n#include <unordered_map>\\...        1  \n4      #include <bits/stdc++.h>\\n\\nusing namespace st...        1  \n...                                                  ...      ...  \n62495  #include <iostream>\\nusing namespace std;\\nint...        1  \n62496  #include <bits/stdc++.h>\\n#define REP(i, e) fo...        1  \n62497  #include<bits/stdc++.h>\\n#define fast ios::syn...        1  \n62498  #include <bits/stdc++.h>\\n\\nusing namespace st...        1  \n62499  #include<stdio.h>\\n#include<iostream>\\n#includ...        1  \n\n[62500 rows x 3 columns]",
      "text/html": "<div>\n<style scoped>\n    .dataframe tbody tr th:only-of-type {\n        vertical-align: middle;\n    }\n\n    .dataframe tbody tr th {\n        vertical-align: top;\n    }\n\n    .dataframe thead th {\n        text-align: right;\n    }\n</style>\n<table border=\"1\" class=\"dataframe\">\n  <thead>\n    <tr style=\"text-align: right;\">\n      <th></th>\n      <th>code1</th>\n      <th>code2</th>\n      <th>similar</th>\n    </tr>\n  </thead>\n  <tbody>\n    <tr>\n      <th>0</th>\n      <td>#include \"iostream\"\\n#include \"climits\"\\n#incl...</td>\n      <td>#include &lt;iostream&gt;\\n#include &lt;map&gt;\\n\\n#define...</td>\n      <td>1</td>\n    </tr>\n    <tr>\n      <th>1</th>\n      <td>// E - Sequence Sum\\n#include &lt;bits/stdc++.h&gt;\\...</td>\n      <td>////////////////////////    W H I T E C L O U ...</td>\n      <td>1</td>\n    </tr>\n    <tr>\n      <th>2</th>\n      <td>#include &lt;bits/stdc++.h&gt;\\n#define rep(i, n) fo...</td>\n      <td>#include &lt;bits/stdc++.h&gt;\\nusing namespace std;...</td>\n      <td>1</td>\n    </tr>\n    <tr>\n      <th>3</th>\n      <td>#include &lt;bits/stdc++.h&gt;\\nusing namespace std;...</td>\n      <td>#include &lt;iostream&gt;\\n#include &lt;unordered_map&gt;\\...</td>\n      <td>1</td>\n    </tr>\n    <tr>\n      <th>4</th>\n      <td>#include&lt;bits/stdc++.h&gt;\\nusing namespace std;\\...</td>\n      <td>#include &lt;bits/stdc++.h&gt;\\n\\nusing namespace st...</td>\n      <td>1</td>\n    </tr>\n    <tr>\n      <th>...</th>\n      <td>...</td>\n      <td>...</td>\n      <td>...</td>\n    </tr>\n    <tr>\n      <th>62495</th>\n      <td>#include&lt;iostream&gt;\\nusing namespace std;\\nint ...</td>\n      <td>#include &lt;iostream&gt;\\nusing namespace std;\\nint...</td>\n      <td>1</td>\n    </tr>\n    <tr>\n      <th>62496</th>\n      <td>#include &lt;bits/stdc++.h&gt;\\nusing namespace std;...</td>\n      <td>#include &lt;bits/stdc++.h&gt;\\n#define REP(i, e) fo...</td>\n      <td>1</td>\n    </tr>\n    <tr>\n      <th>62497</th>\n      <td>#include&lt;bits/stdc++.h&gt;\\n#define rep(i,n)for(i...</td>\n      <td>#include&lt;bits/stdc++.h&gt;\\n#define fast ios::syn...</td>\n      <td>1</td>\n    </tr>\n    <tr>\n      <th>62498</th>\n      <td>#include &lt;bits/stdc++.h&gt;\\nusing namespace std;...</td>\n      <td>#include &lt;bits/stdc++.h&gt;\\n\\nusing namespace st...</td>\n      <td>1</td>\n    </tr>\n    <tr>\n      <th>62499</th>\n      <td>#include &lt;iostream&gt;\\nusing namespace std;\\nvoi...</td>\n      <td>#include&lt;stdio.h&gt;\\n#include&lt;iostream&gt;\\n#includ...</td>\n      <td>1</td>\n    </tr>\n  </tbody>\n</table>\n<p>62500 rows × 3 columns</p>\n</div>"
     },
     "execution_count": 15,
     "metadata": {},
     "output_type": "execute_result"
    }
   ],
   "source": [
    "df2"
   ],
   "metadata": {
    "collapsed": false,
    "ExecuteTime": {
     "end_time": "2024-03-15T11:02:08.055804100Z",
     "start_time": "2024-03-15T11:02:08.038850700Z"
    }
   },
   "id": "cece340b27a63d08"
  },
  {
   "cell_type": "code",
   "execution_count": 6,
   "outputs": [
    {
     "data": {
      "text/plain": "code1      0\ncode2      0\nsimilar    0\ndtype: int64"
     },
     "execution_count": 6,
     "metadata": {},
     "output_type": "execute_result"
    }
   ],
   "source": [
    "df2.isna().sum()"
   ],
   "metadata": {
    "collapsed": false,
    "ExecuteTime": {
     "end_time": "2024-03-15T10:35:17.464843200Z",
     "start_time": "2024-03-15T10:35:17.425940600Z"
    }
   },
   "id": "c999a91167d57543"
  },
  {
   "cell_type": "code",
   "execution_count": 7,
   "outputs": [],
   "source": [
    "df2 = df2.sample(frac=1).reset_index(drop=True)"
   ],
   "metadata": {
    "collapsed": false,
    "ExecuteTime": {
     "end_time": "2024-03-15T10:35:20.238879300Z",
     "start_time": "2024-03-15T10:35:20.209956600Z"
    }
   },
   "id": "b214536c4c68fc9d"
  },
  {
   "cell_type": "code",
   "execution_count": 8,
   "outputs": [],
   "source": [
    "df2.to_csv('../data/train_generator.csv', index=False)"
   ],
   "metadata": {
    "collapsed": false,
    "ExecuteTime": {
     "end_time": "2024-03-15T10:35:44.424519500Z",
     "start_time": "2024-03-15T10:35:41.928025500Z"
    }
   },
   "id": "451fe94eefe1292a"
  },
  {
   "cell_type": "code",
   "execution_count": 1,
   "outputs": [],
   "source": [
    "import os\n",
    "import numpy as np\n",
    "import pandas as pd\n",
    "import torch\n",
    "import random\n",
    "import re\n",
    "\n",
    "from tqdm import tqdm\n",
    "from itertools import combinations\n",
    "from collections import deque\n",
    "from transformers import AutoTokenizer\n",
    "# from transformers import AutoModel, AutoModelForSequenceClassification\n",
    "# from datasets import load_dataset, load_metric\n",
    "from rank_bm25 import BM25Okapi\n",
    "from sklearn.model_selection import train_test_split"
   ],
   "metadata": {
    "collapsed": false,
    "ExecuteTime": {
     "end_time": "2024-03-15T13:05:31.812903800Z",
     "start_time": "2024-03-15T13:05:27.587225400Z"
    }
   },
   "id": "d3ee667abc5fdca5"
  },
  {
   "cell_type": "code",
   "execution_count": 1,
   "outputs": [],
   "source": [],
   "metadata": {
    "collapsed": false,
    "ExecuteTime": {
     "end_time": "2024-03-15T13:05:58.193650500Z",
     "start_time": "2024-03-15T13:05:58.168745800Z"
    }
   },
   "id": "e0b5004b92181aac"
  },
  {
   "cell_type": "code",
   "execution_count": 2,
   "outputs": [],
   "source": [
    "import re\n",
    "from collections import deque\n",
    "\n",
    "# C++ 코드 전처리를 위한 함수\n",
    "def preprocess_script(script_path):\n",
    "    new_script = deque()\n",
    "    with open(script_path, 'r', encoding='utf-8') as file:\n",
    "        lines = file.readlines()\n",
    "        block_comment = False\n",
    "        for line in lines:\n",
    "            # 블록 주석 시작\n",
    "            if '/*' in line:\n",
    "                block_comment = True\n",
    "                line = line[:line.index('/*')]\n",
    "            # 블록 주석 끝\n",
    "            if '*/' in line:\n",
    "                block_comment = False\n",
    "                line = line[line.index('*/')+2:]\n",
    "            if block_comment or line.strip().startswith('//'):\n",
    "                continue\n",
    "\n",
    "            line = line.rstrip()\n",
    "            # 한 줄 주석 처리\n",
    "            if '//' in line:\n",
    "                line = line[:line.index('//')]\n",
    "            line = line.replace('\\n', '')  # 개행 문자를 모두 삭제함\n",
    "            line = line.replace('    ', '\\t')  # 공백 4칸을 tab으로 변환\n",
    "\n",
    "            if line == '':  # 전처리 후 빈 라인은 skip\n",
    "                continue\n",
    "\n",
    "            new_script.append(line)\n",
    "\n",
    "        new_script = '\\n'.join(new_script)  # 개행 문자로 합침\n",
    "        # C++ 특정 문자열 패턴은 적용할 필요가 없으므로 제거합니다.\n",
    "        # new_script = re.sub(r'/^(http?|https?):\\/\\/([a-z0-9-]+\\.)+[a-z0-9]{2,4}.*$/', '', new_script)\n",
    "\n",
    "    return new_script\n",
    "\n",
    "# 사용 예시\n",
    "# processed_script = preprocess_cpp_script('example.cpp')"
   ],
   "metadata": {
    "collapsed": false,
    "ExecuteTime": {
     "end_time": "2024-03-15T12:14:33.788634Z",
     "start_time": "2024-03-15T12:14:33.767686600Z"
    }
   },
   "id": "9226770b2c8ca139"
  },
  {
   "cell_type": "code",
   "execution_count": 3,
   "outputs": [
    {
     "name": "stdout",
     "output_type": "stream",
     "text": [
      "Seed set as 42\n"
     ]
    }
   ],
   "source": [
    "def seed_everything(seed=42):\n",
    "    random.seed(seed)\n",
    "    np.random.seed(seed)\n",
    "    torch.backends.cudnn.deterministic = True\n",
    "    torch.backends.cudnn.benchmark = False\n",
    "    torch.manual_seed(seed)\n",
    "    torch.cuda.manual_seed(seed)\n",
    "    torch.cuda.manual_seed_all(seed)\n",
    "    print(f\"Seed set as {seed}\")\n",
    "\n",
    "seed_everything(42)"
   ],
   "metadata": {
    "collapsed": false,
    "ExecuteTime": {
     "end_time": "2024-03-15T12:14:35.177362300Z",
     "start_time": "2024-03-15T12:14:35.158412900Z"
    }
   },
   "id": "bae140fedddf79d3"
  },
  {
   "cell_type": "code",
   "execution_count": 4,
   "outputs": [],
   "source": [
    "code_folder = \"../data/train_code\"\n",
    "problem_folders = os.listdir(code_folder) # directory에 있는 폴더 list를 반환"
   ],
   "metadata": {
    "collapsed": false,
    "ExecuteTime": {
     "end_time": "2024-03-15T12:14:36.145320300Z",
     "start_time": "2024-03-15T12:14:36.125553700Z"
    }
   },
   "id": "66a0ae3534686d41"
  },
  {
   "cell_type": "code",
   "execution_count": 5,
   "outputs": [
    {
     "name": "stderr",
     "output_type": "stream",
     "text": [
      "100%|██████████| 500/500 [08:00<00:00,  1.04it/s]\n"
     ]
    }
   ],
   "source": [
    "preprocess_scripts = []\n",
    "problem_nums = []\n",
    "\n",
    "# 300개 Sample code에 대한 전처리\n",
    "for problem_folder in tqdm(problem_folders):\n",
    "    scripts = os.listdir(os.path.join(code_folder, problem_folder)) # code/problem000/.py 파일\n",
    "    problem_num = problem_folder # 문제 번호 폴더명\n",
    "    for script in scripts:\n",
    "        script_file = os.path.join(code_folder,problem_folder,script)\n",
    "        preprocessed_script = preprocess_script(script_file)\n",
    "\n",
    "        preprocess_scripts.append(preprocessed_script)\n",
    "    # 번호 목록을 만들어서 전처리한 dataframe에 함께 넣어줌\n",
    "    problem_nums.extend([problem_num]*len(scripts))"
   ],
   "metadata": {
    "collapsed": false,
    "ExecuteTime": {
     "end_time": "2024-03-15T12:22:38.748104800Z",
     "start_time": "2024-03-15T12:14:37.914224100Z"
    }
   },
   "id": "fc217bc5f5befda1"
  },
  {
   "cell_type": "code",
   "execution_count": 6,
   "outputs": [],
   "source": [
    "df_preprocessed = pd.DataFrame(data= {'code':preprocess_scripts, 'problem_num':problem_nums})\n",
    "df_preprocessed = df_preprocessed[df_preprocessed['code'].str.len() > 10]\n"
   ],
   "metadata": {
    "collapsed": false,
    "ExecuteTime": {
     "end_time": "2024-03-15T12:23:05.825976300Z",
     "start_time": "2024-03-15T12:23:05.673384Z"
    }
   },
   "id": "c0d1d4f18eb1bfa2"
  },
  {
   "cell_type": "code",
   "execution_count": 7,
   "outputs": [
    {
     "data": {
      "text/plain": "                                                     code problem_num\n0       #include <bits/stdc++.h>\\nusing namespace std;...  problem001\n1       #include<bits/stdc++.h>\\nusing namespace std;\\...  problem001\n2       #include <bits/stdc++.h>\\nusing namespace std;...  problem001\n3       #include <bits/stdc++.h>\\nusing namespace std;...  problem001\n4       #include <bits/stdc++.h>\\n#define FAST ios_bas...  problem001\n...                                                   ...         ...\n249995  #include <iostream>\\nusing namespace std;\\nint...  problem500\n249996  #include <algorithm>\\n#include <array>\\n#inclu...  problem500\n249997  #include <bits/stdc++.h>\\nusing namespace std;...  problem500\n249998  #include<iostream>\\n#include<string>\\nusing na...  problem500\n249999  #include <iostream>\\n#include <string>\\nusing ...  problem500\n\n[248995 rows x 2 columns]",
      "text/html": "<div>\n<style scoped>\n    .dataframe tbody tr th:only-of-type {\n        vertical-align: middle;\n    }\n\n    .dataframe tbody tr th {\n        vertical-align: top;\n    }\n\n    .dataframe thead th {\n        text-align: right;\n    }\n</style>\n<table border=\"1\" class=\"dataframe\">\n  <thead>\n    <tr style=\"text-align: right;\">\n      <th></th>\n      <th>code</th>\n      <th>problem_num</th>\n    </tr>\n  </thead>\n  <tbody>\n    <tr>\n      <th>0</th>\n      <td>#include &lt;bits/stdc++.h&gt;\\nusing namespace std;...</td>\n      <td>problem001</td>\n    </tr>\n    <tr>\n      <th>1</th>\n      <td>#include&lt;bits/stdc++.h&gt;\\nusing namespace std;\\...</td>\n      <td>problem001</td>\n    </tr>\n    <tr>\n      <th>2</th>\n      <td>#include &lt;bits/stdc++.h&gt;\\nusing namespace std;...</td>\n      <td>problem001</td>\n    </tr>\n    <tr>\n      <th>3</th>\n      <td>#include &lt;bits/stdc++.h&gt;\\nusing namespace std;...</td>\n      <td>problem001</td>\n    </tr>\n    <tr>\n      <th>4</th>\n      <td>#include &lt;bits/stdc++.h&gt;\\n#define FAST ios_bas...</td>\n      <td>problem001</td>\n    </tr>\n    <tr>\n      <th>...</th>\n      <td>...</td>\n      <td>...</td>\n    </tr>\n    <tr>\n      <th>249995</th>\n      <td>#include &lt;iostream&gt;\\nusing namespace std;\\nint...</td>\n      <td>problem500</td>\n    </tr>\n    <tr>\n      <th>249996</th>\n      <td>#include &lt;algorithm&gt;\\n#include &lt;array&gt;\\n#inclu...</td>\n      <td>problem500</td>\n    </tr>\n    <tr>\n      <th>249997</th>\n      <td>#include &lt;bits/stdc++.h&gt;\\nusing namespace std;...</td>\n      <td>problem500</td>\n    </tr>\n    <tr>\n      <th>249998</th>\n      <td>#include&lt;iostream&gt;\\n#include&lt;string&gt;\\nusing na...</td>\n      <td>problem500</td>\n    </tr>\n    <tr>\n      <th>249999</th>\n      <td>#include &lt;iostream&gt;\\n#include &lt;string&gt;\\nusing ...</td>\n      <td>problem500</td>\n    </tr>\n  </tbody>\n</table>\n<p>248995 rows × 2 columns</p>\n</div>"
     },
     "execution_count": 7,
     "metadata": {},
     "output_type": "execute_result"
    }
   ],
   "source": [
    "df_preprocessed"
   ],
   "metadata": {
    "collapsed": false,
    "ExecuteTime": {
     "end_time": "2024-03-15T12:23:06.856606700Z",
     "start_time": "2024-03-15T12:23:06.804740800Z"
    }
   },
   "id": "4857c454f29bb6d"
  },
  {
   "cell_type": "code",
   "execution_count": 8,
   "outputs": [],
   "source": [
    "# AutoTokenizer로 graphcodebert 사용하도록 설정\n",
    "tokenizer = AutoTokenizer.from_pretrained(\"microsoft/graphcodebert-base\")\n",
    "tokenizer.truncation_side = 'left'\n",
    "MAX_LEN = 512\n",
    "\n",
    "tokens = []\n",
    "for code in df_preprocessed['code']:\n",
    "    tokens.append(tokenizer.tokenize(code, max_length=MAX_LEN, truncation=True))\n",
    "\n",
    "df_preprocessed['tokens'] = tokens # Sample code를 Tokenization해서 tokens 컬럼에 추가\n",
    "df_preprocessed['len'] = df_preprocessed['tokens'].apply(len) # tokens의 길이를 len 컬럼에 추가"
   ],
   "metadata": {
    "collapsed": false,
    "ExecuteTime": {
     "end_time": "2024-03-15T12:26:18.470766900Z",
     "start_time": "2024-03-15T12:23:10.918442400Z"
    }
   },
   "id": "9f240cd8c64c74d1"
  },
  {
   "cell_type": "code",
   "execution_count": 10,
   "outputs": [],
   "source": [
    "df_preprocessed.to_csv('../data/train_graphbert.csv', index=False)"
   ],
   "metadata": {
    "collapsed": false,
    "ExecuteTime": {
     "end_time": "2024-03-15T12:29:56.921082600Z",
     "start_time": "2024-03-15T12:29:36.401835900Z"
    }
   },
   "id": "990fe949fbf73fbd"
  },
  {
   "cell_type": "code",
   "execution_count": 2,
   "outputs": [],
   "source": [
    "df_preprocessed = pd.read_csv(\"../data/train_graphbert.csv\")"
   ],
   "metadata": {
    "collapsed": false,
    "ExecuteTime": {
     "end_time": "2024-03-15T13:06:23.380943200Z",
     "start_time": "2024-03-15T13:06:14.957036100Z"
    }
   },
   "id": "7c787c9daa755ffa"
  },
  {
   "cell_type": "code",
   "execution_count": 3,
   "outputs": [],
   "source": [
    "df_preprocessed = df_preprocessed.sample(frac=0.2, random_state=42)"
   ],
   "metadata": {
    "collapsed": false,
    "ExecuteTime": {
     "end_time": "2024-03-15T13:07:12.865010900Z",
     "start_time": "2024-03-15T13:07:12.751684200Z"
    }
   },
   "id": "2ea4748cb6140d8e"
  },
  {
   "cell_type": "code",
   "execution_count": 4,
   "outputs": [],
   "source": [
    "# train과 validation data set 분리\n",
    "train_df, valid_df, train_label, valid_label = train_test_split(\n",
    "    df_preprocessed,\n",
    "    df_preprocessed['problem_num'],\n",
    "    random_state=42,\n",
    "    test_size=0.1,\n",
    "    stratify=df_preprocessed['problem_num']\n",
    ")\n",
    "\n",
    "train_df = train_df.reset_index(drop=True) # Reindexing\n",
    "valid_df = valid_df.reset_index(drop=True)"
   ],
   "metadata": {
    "collapsed": false,
    "ExecuteTime": {
     "end_time": "2024-03-15T13:07:14.034590Z",
     "start_time": "2024-03-15T13:07:13.957907600Z"
    }
   },
   "id": "b7f2e455bcfcad6d"
  },
  {
   "cell_type": "code",
   "execution_count": 5,
   "outputs": [
    {
     "data": {
      "text/plain": "44819"
     },
     "execution_count": 5,
     "metadata": {},
     "output_type": "execute_result"
    }
   ],
   "source": [
    "len(train_df)"
   ],
   "metadata": {
    "collapsed": false,
    "ExecuteTime": {
     "end_time": "2024-03-15T13:07:14.373103Z",
     "start_time": "2024-03-15T13:07:14.345179900Z"
    }
   },
   "id": "fea6e31bf47f9a1a"
  },
  {
   "cell_type": "code",
   "execution_count": 6,
   "outputs": [],
   "source": [
    "codes = train_df['code'].to_list() # code 컬럼을 list로 변환 - codes는 code가 쭉 나열된 형태임\n",
    "problems = train_df['problem_num'].unique().tolist() # 문제 번호를 중복을 제외하고 list로 변환\n",
    "problems.sort()"
   ],
   "metadata": {
    "collapsed": false,
    "ExecuteTime": {
     "end_time": "2024-03-15T13:07:15.539158200Z",
     "start_time": "2024-03-15T13:07:15.507243Z"
    }
   },
   "id": "92702595120d4240"
  },
  {
   "cell_type": "code",
   "execution_count": 7,
   "outputs": [],
   "source": [
    "total_positive_pairs = []\n",
    "total_negative_pairs = []"
   ],
   "metadata": {
    "collapsed": false,
    "ExecuteTime": {
     "end_time": "2024-03-15T13:07:15.852379900Z",
     "start_time": "2024-03-15T13:07:15.825451900Z"
    }
   },
   "id": "ab88a6de4c516d4f"
  },
  {
   "cell_type": "code",
   "execution_count": 8,
   "outputs": [
    {
     "name": "stderr",
     "output_type": "stream",
     "text": [
      "100%|██████████| 500/500 [00:19<00:00, 25.26it/s]\n"
     ]
    }
   ],
   "source": [
    "for problem in tqdm(problems):\n",
    "    # 각각의 문제에 대한 code를 골라 정답 코드로 저장, 아닌 문제는 other_codes로 저장\n",
    "    # 이때 train_df에는 problem_num이 정렬된 상태가 아니기 때문에 index가 다를 수 있음\n",
    "    solution_codes = train_df[train_df['problem_num'] == problem]['code'].to_list()\n",
    "    other_codes = train_df[train_df['problem_num'] != problem]['code'].to_list()\n",
    "\n",
    "    # positive_pairs 1000개 (총 300 * 1000 = 300,000개) 추출\n",
    "    # negative_pairs 1000개 (총 300 * 1000 = 300,000개) 추출\n",
    "    positive_pairs = list(combinations(solution_codes,2))\n",
    "    random.shuffle(positive_pairs)\n",
    "    positive_pairs = positive_pairs[:1000]\n",
    "    random.shuffle(other_codes)\n",
    "    other_codes = other_codes[:1000]\n",
    "\n",
    "    negative_pairs = []\n",
    "    for pos_codes, others in zip(positive_pairs, other_codes):\n",
    "        negative_pairs.append((pos_codes[0], others))\n",
    "\n",
    "    total_positive_pairs.extend(positive_pairs)\n",
    "    total_negative_pairs.extend(negative_pairs)"
   ],
   "metadata": {
    "collapsed": false,
    "ExecuteTime": {
     "end_time": "2024-03-15T13:07:36.891024200Z",
     "start_time": "2024-03-15T13:07:17.060784800Z"
    }
   },
   "id": "5717698f8f5ce5a2"
  },
  {
   "cell_type": "code",
   "execution_count": 16,
   "outputs": [],
   "source": [
    "# total_positive_pairs와 negative_pairs의 정답 코드를 묶어 code1로 지정\n",
    "# total_positive_pairs와 negative_pairs의 비교 대상 코드를 묶어 code2로 지정\n",
    "# 해당 코드에 맞는 label 설정\n",
    "code1 = [code[0] for code in total_positive_pairs] + [code[0] for code in total_negative_pairs]\n",
    "code2 = [code[1] for code in total_positive_pairs] + [code[1] for code in total_negative_pairs]\n",
    "label = [1]*len(total_positive_pairs) + [0]*len(total_negative_pairs)\n",
    "\n",
    "# DataFrame으로 선언\n",
    "train_data = pd.DataFrame(data={'code1':code1, 'code2':code2, 'similar':label})\n",
    "train_data = train_data.sample(frac=1).reset_index(drop=True) # frac: 추출할 표본 비율\n",
    "train_data.to_csv('../data/train_data_lv1.csv',index=False)"
   ],
   "metadata": {
    "collapsed": false,
    "ExecuteTime": {
     "end_time": "2024-03-15T13:08:44.641615600Z",
     "start_time": "2024-03-15T13:08:42.943039600Z"
    }
   },
   "id": "fc595a70eaa6f4d8"
  },
  {
   "cell_type": "code",
   "execution_count": 15,
   "outputs": [
    {
     "data": {
      "text/plain": "                                               code1  \\\n0  #include <bits/stdc++.h>\\nusing namespace std;...   \n1  #include<bits/stdc++.h>\\n#define ll long long\\...   \n2  #include <bits/stdc++.h>\\n#define rep(i,a,b) f...   \n3  #include <bits/stdc++.h>\\n#define ALL(a)  (a)....   \n4  #include <bits/stdc++.h>\\n#define ALL(a) (a).b...   \n\n                                               code2  similar  \n0  #include<stdio.h>\\nint main()\\n{\\n int w,h,x,y...        0  \n1  #include <cmath>\\n#include <iostream>\\n#includ...        0  \n2  #include <bits/stdc++.h>\\n#define range(i, a, ...        0  \n3  #include <stdio.h>\\n#include <iostream>\\n#incl...        0  \n4  #include <iostream>\\n#include <string.h>\\n#inc...        0  ",
      "text/html": "<div>\n<style scoped>\n    .dataframe tbody tr th:only-of-type {\n        vertical-align: middle;\n    }\n\n    .dataframe tbody tr th {\n        vertical-align: top;\n    }\n\n    .dataframe thead th {\n        text-align: right;\n    }\n</style>\n<table border=\"1\" class=\"dataframe\">\n  <thead>\n    <tr style=\"text-align: right;\">\n      <th></th>\n      <th>code1</th>\n      <th>code2</th>\n      <th>similar</th>\n    </tr>\n  </thead>\n  <tbody>\n    <tr>\n      <th>0</th>\n      <td>#include &lt;bits/stdc++.h&gt;\\nusing namespace std;...</td>\n      <td>#include&lt;stdio.h&gt;\\nint main()\\n{\\n int w,h,x,y...</td>\n      <td>0</td>\n    </tr>\n    <tr>\n      <th>1</th>\n      <td>#include&lt;bits/stdc++.h&gt;\\n#define ll long long\\...</td>\n      <td>#include &lt;cmath&gt;\\n#include &lt;iostream&gt;\\n#includ...</td>\n      <td>0</td>\n    </tr>\n    <tr>\n      <th>2</th>\n      <td>#include &lt;bits/stdc++.h&gt;\\n#define rep(i,a,b) f...</td>\n      <td>#include &lt;bits/stdc++.h&gt;\\n#define range(i, a, ...</td>\n      <td>0</td>\n    </tr>\n    <tr>\n      <th>3</th>\n      <td>#include &lt;bits/stdc++.h&gt;\\n#define ALL(a)  (a)....</td>\n      <td>#include &lt;stdio.h&gt;\\n#include &lt;iostream&gt;\\n#incl...</td>\n      <td>0</td>\n    </tr>\n    <tr>\n      <th>4</th>\n      <td>#include &lt;bits/stdc++.h&gt;\\n#define ALL(a) (a).b...</td>\n      <td>#include &lt;iostream&gt;\\n#include &lt;string.h&gt;\\n#inc...</td>\n      <td>0</td>\n    </tr>\n  </tbody>\n</table>\n</div>"
     },
     "execution_count": 15,
     "metadata": {},
     "output_type": "execute_result"
    }
   ],
   "source": [
    "train_data.head()"
   ],
   "metadata": {
    "collapsed": false,
    "ExecuteTime": {
     "end_time": "2024-03-15T13:08:12.704006900Z",
     "start_time": "2024-03-15T13:08:12.683063500Z"
    }
   },
   "id": "d7de7bdde33af4e9"
  },
  {
   "cell_type": "code",
   "execution_count": 10,
   "outputs": [],
   "source": [
    "codes = valid_df['code'].to_list() # code 컬럼을 list로 변환 - codes는 code가 쭉 나열된 형태임\n",
    "problems = valid_df['problem_num'].unique().tolist() # 문제 번호를 중복을 제외하고 list로 변환\n",
    "problems.sort()"
   ],
   "metadata": {
    "collapsed": false,
    "ExecuteTime": {
     "end_time": "2024-03-15T13:07:41.039402500Z",
     "start_time": "2024-03-15T13:07:41.009484400Z"
    }
   },
   "id": "7e62e71a9208de89"
  },
  {
   "cell_type": "code",
   "execution_count": 11,
   "outputs": [],
   "source": [
    "total_positive_pairs = []\n",
    "total_negative_pairs = []"
   ],
   "metadata": {
    "collapsed": false,
    "ExecuteTime": {
     "end_time": "2024-03-15T13:07:42.239497300Z",
     "start_time": "2024-03-15T13:07:42.170003600Z"
    }
   },
   "id": "6b57beb7ce7d4824"
  },
  {
   "cell_type": "code",
   "execution_count": 12,
   "outputs": [
    {
     "name": "stderr",
     "output_type": "stream",
     "text": [
      "100%|██████████| 500/500 [00:02<00:00, 213.07it/s]\n"
     ]
    }
   ],
   "source": [
    "for problem in tqdm(problems):\n",
    "    # 각각의 문제에 대한 code를 골라 정답 코드로 저장, 아닌 문제는 other_codes로 저장\n",
    "    # 이때 train_df에는 problem_num이 정렬된 상태가 아니기 때문에 index가 다를 수 있음\n",
    "    solution_codes = valid_df[valid_df['problem_num'] == problem]['code'].to_list()\n",
    "    other_codes = valid_df[valid_df['problem_num'] != problem]['code'].to_list()\n",
    "\n",
    "    # positive_pairs 100개 (총 300 * 100 = 30,000개) 추출\n",
    "    # negative_pairs 100개 (총 300 * 100 = 30,000개) 추출\n",
    "    positive_pairs = list(combinations(solution_codes,2))\n",
    "    random.shuffle(positive_pairs)\n",
    "    positive_pairs = positive_pairs[:100]\n",
    "    random.shuffle(other_codes)\n",
    "    other_codes = other_codes[:100]\n",
    "\n",
    "    negative_pairs = []\n",
    "    for pos_codes, others in zip(positive_pairs, other_codes):\n",
    "        negative_pairs.append((pos_codes[0], others))\n",
    "\n",
    "    total_positive_pairs.extend(positive_pairs)\n",
    "    total_negative_pairs.extend(negative_pairs)"
   ],
   "metadata": {
    "collapsed": false,
    "ExecuteTime": {
     "end_time": "2024-03-15T13:07:45.798556700Z",
     "start_time": "2024-03-15T13:07:43.433939300Z"
    }
   },
   "id": "5b0231efbaba8e9f"
  },
  {
   "cell_type": "code",
   "execution_count": 17,
   "outputs": [],
   "source": [
    "# total_positive_pairs와 negative_pairs의 정답 코드를 묶어 code1로 지정\n",
    "# total_positive_pairs와 negative_pairs의 비교 대상 코드를 묶어 code2로 지정\n",
    "# 해당 코드에 맞는 label 설정\n",
    "code1 = [code[0] for code in total_positive_pairs] + [code[0] for code in total_negative_pairs]\n",
    "code2 = [code[1] for code in total_positive_pairs] + [code[1] for code in total_negative_pairs]\n",
    "label = [1]*len(total_positive_pairs) + [0]*len(total_negative_pairs)\n",
    "\n",
    "# DataFrame으로 선언\n",
    "valid_data = pd.DataFrame(data={'code1':code1, 'code2':code2, 'similar':label})\n",
    "valid_data = valid_data.sample(frac=1).reset_index(drop=True) # frac: 추출할 표본 비율\n",
    "valid_data.to_csv('../data/valid_data_lv1.csv',index=False)"
   ],
   "metadata": {
    "collapsed": false,
    "ExecuteTime": {
     "end_time": "2024-03-15T13:08:54.324848800Z",
     "start_time": "2024-03-15T13:08:52.669212800Z"
    }
   },
   "id": "c5e4d1f580e98da7"
  },
  {
   "cell_type": "code",
   "execution_count": null,
   "outputs": [],
   "source": [],
   "metadata": {
    "collapsed": false
   },
   "id": "6d6d1c32a0b8001d"
  }
 ],
 "metadata": {
  "kernelspec": {
   "display_name": "Python 3",
   "language": "python",
   "name": "python3"
  },
  "language_info": {
   "codemirror_mode": {
    "name": "ipython",
    "version": 2
   },
   "file_extension": ".py",
   "mimetype": "text/x-python",
   "name": "python",
   "nbconvert_exporter": "python",
   "pygments_lexer": "ipython2",
   "version": "2.7.6"
  }
 },
 "nbformat": 4,
 "nbformat_minor": 5
}

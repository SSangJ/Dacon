{
 "cells": [
  {
   "cell_type": "code",
   "execution_count": 1,
   "id": "initial_id",
   "metadata": {
    "collapsed": true,
    "ExecuteTime": {
     "end_time": "2024-03-28T02:06:09.627852300Z",
     "start_time": "2024-03-28T02:06:06.780161800Z"
    }
   },
   "outputs": [
    {
     "name": "stdout",
     "output_type": "stream",
     "text": [
      "cuda:0\n"
     ]
    }
   ],
   "source": [
    "import torch\n",
    "device = torch.device('cuda:0' if torch.cuda.is_available() else 'cpu')\n",
    "\n",
    "print(device)"
   ]
  },
  {
   "cell_type": "code",
   "execution_count": 2,
   "outputs": [],
   "source": [
    "import matplotlib.pyplot as plt\n",
    "import pandas as pd\n",
    "import numpy as np\n",
    "import seaborn as sns\n",
    "\n",
    "from sklearn.cluster import DBSCAN\n",
    "from sklearn.preprocessing import LabelEncoder\n",
    "from sklearn.preprocessing import OneHotEncoder\n",
    "from sklearn.linear_model import LinearRegression\n",
    "from sklearn.ensemble import RandomForestRegressor\n",
    "from xgboost import XGBRegressor\n",
    "from catboost import CatBoostRegressor\n",
    "from sklearn.model_selection import train_test_split\n",
    "from sklearn.metrics import mean_absolute_error, r2_score\n",
    "from sklearn.model_selection import GridSearchCV\n",
    "from lightgbm import LGBMRegressor\n",
    "from catboost import CatBoostClassifier\n",
    "\n",
    "import pandas as pd\n",
    "from category_encoders import OneHotEncoder, TargetEncoder\n",
    "\n",
    "import warnings\n",
    "\n",
    "# 경고 무시\n",
    "warnings.filterwarnings(\"ignore\", category=FutureWarning)\n",
    "\n",
    "import os\n",
    "os.environ['KMP_DUPLICATE_LIB_OK']='True'\n",
    "\n",
    "# 한글 폰트 설정\n",
    "plt.rcParams['font.family'] = 'Malgun Gothic'  # 예시로 'NanumGothic'을 사용"
   ],
   "metadata": {
    "collapsed": false,
    "ExecuteTime": {
     "end_time": "2024-03-28T02:06:14.026951Z",
     "start_time": "2024-03-28T02:06:12.364920800Z"
    }
   },
   "id": "d3485897f6b2687a"
  },
  {
   "cell_type": "code",
   "execution_count": 3,
   "outputs": [],
   "source": [
    "import random\n",
    "import os\n",
    "\n",
    "def seed_everything(seed):\n",
    "    random.seed(seed)\n",
    "    os.environ['PYTHONHASHSEED'] = str(seed)\n",
    "    np.random.seed(seed)\n",
    "\n",
    "seed_everything(42) # Seed 고정"
   ],
   "metadata": {
    "collapsed": false,
    "ExecuteTime": {
     "end_time": "2024-03-28T02:06:15.326349900Z",
     "start_time": "2024-03-28T02:06:15.310384900Z"
    }
   },
   "id": "a5105ad2fc7053f2"
  },
  {
   "cell_type": "code",
   "execution_count": 4,
   "outputs": [],
   "source": [
    "train = pd.read_csv(\"../data/train.csv\")\n",
    "test = pd.read_csv(\"../data/test.csv\")"
   ],
   "metadata": {
    "collapsed": false,
    "ExecuteTime": {
     "end_time": "2024-03-28T02:06:19.878198800Z",
     "start_time": "2024-03-28T02:06:19.734619900Z"
    }
   },
   "id": "ac56d78661e6c8da"
  },
  {
   "cell_type": "code",
   "execution_count": 5,
   "outputs": [],
   "source": [
    "train = train.drop(['ID'], axis=1)\n",
    "test = test.drop(['ID'], axis=1)"
   ],
   "metadata": {
    "collapsed": false,
    "ExecuteTime": {
     "end_time": "2024-03-28T02:06:20.521598300Z",
     "start_time": "2024-03-28T02:06:20.494669100Z"
    }
   },
   "id": "9331e702e78a7adf"
  },
  {
   "cell_type": "code",
   "execution_count": 6,
   "outputs": [
    {
     "data": {
      "text/plain": "       Age Gender                Education_Status         Employment_Status  \\\n0       63      M                    Middle (7-8)                 Full-Time   \n1       37      M  Associates degree (Vocational)                 Full-Time   \n2       58      F                   High graduate                 Full-Time   \n3       44      M                   High graduate                 Full-Time   \n4       37      F                   High graduate                 Full-Time   \n...    ...    ...                             ...                       ...   \n19995   33      M                   High graduate  Children or Armed Forces   \n19996   20      F                         College                 Full-Time   \n19997   22      M                         College  Children or Armed Forces   \n19998   76      F                   High graduate               Not Working   \n19999   41      F                   High graduate  Children or Armed Forces   \n\n       Working_Week (Yearly)              Industry_Status  \\\n0                          4              Social Services   \n1                         52                Entertainment   \n2                         52  Manufacturing (Non-durable)   \n3                         52                       Retail   \n4                         52                       Retail   \n...                      ...                          ...   \n19995                     52      Manufacturing (Durable)   \n19996                     12                    Education   \n19997                     52               Transportation   \n19998                      0  Not in universe or children   \n19999                     52        Public Administration   \n\n                      Occupation_Status   Race    Hispanic_Origin  \\\n0                              Services  White          All other   \n1                              Services  White          All other   \n2      Admin Support (include Clerical)  Black          All other   \n3                 Technicians & Support  White          All other   \n4                                 Sales  White          All other   \n...                                 ...    ...                ...   \n19995                 Handlers/Cleaners  White          All other   \n19996  Admin Support (include Clerical)  White   Mexican-American   \n19997             Technicians & Support  White          All other   \n19998                           Unknown  White          All other   \n19999  Admin Support (include Clerical)  White          All other   \n\n      Martial_Status  ... Citizenship Birth_Country Birth_Country (Father)  \\\n0            Married  ...      Native            US                     US   \n1          Separated  ...      Native            US                     US   \n2            Married  ...      Native            US                     US   \n3           Divorced  ...      Native            US                     US   \n4           Divorced  ...      Native            US                     US   \n...              ...  ...         ...           ...                    ...   \n19995         Single  ...      Native            US                     US   \n19996         Single  ...      Native            US                 Mexico   \n19997         Single  ...      Native            US                     US   \n19998        Widowed  ...      Native            US               Scotland   \n19999      Separated  ...      Native            US                     US   \n\n      Birth_Country (Mother)                                   Tax_Status  \\\n0                         US                                     Nonfiler   \n1                         US                                       Single   \n2                         US  Married Filling Jointly both under 65 (MFJ)   \n3                         US                                       Single   \n4                         US                      Head of Household (HOH)   \n...                      ...                                          ...   \n19995                     US                                       Single   \n19996                 Mexico                                     Nonfiler   \n19997                     US                                       Single   \n19998                England                                       Single   \n19999                     US                      Head of Household (HOH)   \n\n      Gains Losses  Dividends  Income_Status  Income  \n0         0      0          0        Unknown     425  \n1         0      0          0   Under Median       0  \n2      3411      0          0   Under Median     860  \n3         0      0          0   Under Median     850  \n4         0      0          0        Unknown     570  \n...     ...    ...        ...            ...     ...  \n19995     0      0          0   Under Median    1300  \n19996     0      0          0   Under Median     850  \n19997     0      0          0        Unknown     999  \n19998     0      0          0   Under Median       0  \n19999     0      0          0   Under Median     671  \n\n[20000 rows x 22 columns]",
      "text/html": "<div>\n<style scoped>\n    .dataframe tbody tr th:only-of-type {\n        vertical-align: middle;\n    }\n\n    .dataframe tbody tr th {\n        vertical-align: top;\n    }\n\n    .dataframe thead th {\n        text-align: right;\n    }\n</style>\n<table border=\"1\" class=\"dataframe\">\n  <thead>\n    <tr style=\"text-align: right;\">\n      <th></th>\n      <th>Age</th>\n      <th>Gender</th>\n      <th>Education_Status</th>\n      <th>Employment_Status</th>\n      <th>Working_Week (Yearly)</th>\n      <th>Industry_Status</th>\n      <th>Occupation_Status</th>\n      <th>Race</th>\n      <th>Hispanic_Origin</th>\n      <th>Martial_Status</th>\n      <th>...</th>\n      <th>Citizenship</th>\n      <th>Birth_Country</th>\n      <th>Birth_Country (Father)</th>\n      <th>Birth_Country (Mother)</th>\n      <th>Tax_Status</th>\n      <th>Gains</th>\n      <th>Losses</th>\n      <th>Dividends</th>\n      <th>Income_Status</th>\n      <th>Income</th>\n    </tr>\n  </thead>\n  <tbody>\n    <tr>\n      <th>0</th>\n      <td>63</td>\n      <td>M</td>\n      <td>Middle (7-8)</td>\n      <td>Full-Time</td>\n      <td>4</td>\n      <td>Social Services</td>\n      <td>Services</td>\n      <td>White</td>\n      <td>All other</td>\n      <td>Married</td>\n      <td>...</td>\n      <td>Native</td>\n      <td>US</td>\n      <td>US</td>\n      <td>US</td>\n      <td>Nonfiler</td>\n      <td>0</td>\n      <td>0</td>\n      <td>0</td>\n      <td>Unknown</td>\n      <td>425</td>\n    </tr>\n    <tr>\n      <th>1</th>\n      <td>37</td>\n      <td>M</td>\n      <td>Associates degree (Vocational)</td>\n      <td>Full-Time</td>\n      <td>52</td>\n      <td>Entertainment</td>\n      <td>Services</td>\n      <td>White</td>\n      <td>All other</td>\n      <td>Separated</td>\n      <td>...</td>\n      <td>Native</td>\n      <td>US</td>\n      <td>US</td>\n      <td>US</td>\n      <td>Single</td>\n      <td>0</td>\n      <td>0</td>\n      <td>0</td>\n      <td>Under Median</td>\n      <td>0</td>\n    </tr>\n    <tr>\n      <th>2</th>\n      <td>58</td>\n      <td>F</td>\n      <td>High graduate</td>\n      <td>Full-Time</td>\n      <td>52</td>\n      <td>Manufacturing (Non-durable)</td>\n      <td>Admin Support (include Clerical)</td>\n      <td>Black</td>\n      <td>All other</td>\n      <td>Married</td>\n      <td>...</td>\n      <td>Native</td>\n      <td>US</td>\n      <td>US</td>\n      <td>US</td>\n      <td>Married Filling Jointly both under 65 (MFJ)</td>\n      <td>3411</td>\n      <td>0</td>\n      <td>0</td>\n      <td>Under Median</td>\n      <td>860</td>\n    </tr>\n    <tr>\n      <th>3</th>\n      <td>44</td>\n      <td>M</td>\n      <td>High graduate</td>\n      <td>Full-Time</td>\n      <td>52</td>\n      <td>Retail</td>\n      <td>Technicians &amp; Support</td>\n      <td>White</td>\n      <td>All other</td>\n      <td>Divorced</td>\n      <td>...</td>\n      <td>Native</td>\n      <td>US</td>\n      <td>US</td>\n      <td>US</td>\n      <td>Single</td>\n      <td>0</td>\n      <td>0</td>\n      <td>0</td>\n      <td>Under Median</td>\n      <td>850</td>\n    </tr>\n    <tr>\n      <th>4</th>\n      <td>37</td>\n      <td>F</td>\n      <td>High graduate</td>\n      <td>Full-Time</td>\n      <td>52</td>\n      <td>Retail</td>\n      <td>Sales</td>\n      <td>White</td>\n      <td>All other</td>\n      <td>Divorced</td>\n      <td>...</td>\n      <td>Native</td>\n      <td>US</td>\n      <td>US</td>\n      <td>US</td>\n      <td>Head of Household (HOH)</td>\n      <td>0</td>\n      <td>0</td>\n      <td>0</td>\n      <td>Unknown</td>\n      <td>570</td>\n    </tr>\n    <tr>\n      <th>...</th>\n      <td>...</td>\n      <td>...</td>\n      <td>...</td>\n      <td>...</td>\n      <td>...</td>\n      <td>...</td>\n      <td>...</td>\n      <td>...</td>\n      <td>...</td>\n      <td>...</td>\n      <td>...</td>\n      <td>...</td>\n      <td>...</td>\n      <td>...</td>\n      <td>...</td>\n      <td>...</td>\n      <td>...</td>\n      <td>...</td>\n      <td>...</td>\n      <td>...</td>\n      <td>...</td>\n    </tr>\n    <tr>\n      <th>19995</th>\n      <td>33</td>\n      <td>M</td>\n      <td>High graduate</td>\n      <td>Children or Armed Forces</td>\n      <td>52</td>\n      <td>Manufacturing (Durable)</td>\n      <td>Handlers/Cleaners</td>\n      <td>White</td>\n      <td>All other</td>\n      <td>Single</td>\n      <td>...</td>\n      <td>Native</td>\n      <td>US</td>\n      <td>US</td>\n      <td>US</td>\n      <td>Single</td>\n      <td>0</td>\n      <td>0</td>\n      <td>0</td>\n      <td>Under Median</td>\n      <td>1300</td>\n    </tr>\n    <tr>\n      <th>19996</th>\n      <td>20</td>\n      <td>F</td>\n      <td>College</td>\n      <td>Full-Time</td>\n      <td>12</td>\n      <td>Education</td>\n      <td>Admin Support (include Clerical)</td>\n      <td>White</td>\n      <td>Mexican-American</td>\n      <td>Single</td>\n      <td>...</td>\n      <td>Native</td>\n      <td>US</td>\n      <td>Mexico</td>\n      <td>Mexico</td>\n      <td>Nonfiler</td>\n      <td>0</td>\n      <td>0</td>\n      <td>0</td>\n      <td>Under Median</td>\n      <td>850</td>\n    </tr>\n    <tr>\n      <th>19997</th>\n      <td>22</td>\n      <td>M</td>\n      <td>College</td>\n      <td>Children or Armed Forces</td>\n      <td>52</td>\n      <td>Transportation</td>\n      <td>Technicians &amp; Support</td>\n      <td>White</td>\n      <td>All other</td>\n      <td>Single</td>\n      <td>...</td>\n      <td>Native</td>\n      <td>US</td>\n      <td>US</td>\n      <td>US</td>\n      <td>Single</td>\n      <td>0</td>\n      <td>0</td>\n      <td>0</td>\n      <td>Unknown</td>\n      <td>999</td>\n    </tr>\n    <tr>\n      <th>19998</th>\n      <td>76</td>\n      <td>F</td>\n      <td>High graduate</td>\n      <td>Not Working</td>\n      <td>0</td>\n      <td>Not in universe or children</td>\n      <td>Unknown</td>\n      <td>White</td>\n      <td>All other</td>\n      <td>Widowed</td>\n      <td>...</td>\n      <td>Native</td>\n      <td>US</td>\n      <td>Scotland</td>\n      <td>England</td>\n      <td>Single</td>\n      <td>0</td>\n      <td>0</td>\n      <td>0</td>\n      <td>Under Median</td>\n      <td>0</td>\n    </tr>\n    <tr>\n      <th>19999</th>\n      <td>41</td>\n      <td>F</td>\n      <td>High graduate</td>\n      <td>Children or Armed Forces</td>\n      <td>52</td>\n      <td>Public Administration</td>\n      <td>Admin Support (include Clerical)</td>\n      <td>White</td>\n      <td>All other</td>\n      <td>Separated</td>\n      <td>...</td>\n      <td>Native</td>\n      <td>US</td>\n      <td>US</td>\n      <td>US</td>\n      <td>Head of Household (HOH)</td>\n      <td>0</td>\n      <td>0</td>\n      <td>0</td>\n      <td>Under Median</td>\n      <td>671</td>\n    </tr>\n  </tbody>\n</table>\n<p>20000 rows × 22 columns</p>\n</div>"
     },
     "execution_count": 6,
     "metadata": {},
     "output_type": "execute_result"
    }
   ],
   "source": [
    "train"
   ],
   "metadata": {
    "collapsed": false,
    "ExecuteTime": {
     "end_time": "2024-03-28T02:06:22.294460400Z",
     "start_time": "2024-03-28T02:06:22.256039500Z"
    }
   },
   "id": "4249b3f0275f17c4"
  },
  {
   "cell_type": "code",
   "execution_count": 7,
   "outputs": [],
   "source": [
    "test['Household_Status'].fillna('Nonfamily householder', inplace=True)"
   ],
   "metadata": {
    "collapsed": false,
    "ExecuteTime": {
     "end_time": "2024-03-28T02:06:32.487799100Z",
     "start_time": "2024-03-28T02:06:32.462355300Z"
    }
   },
   "id": "7518e618a6b9e607"
  },
  {
   "cell_type": "code",
   "execution_count": 8,
   "outputs": [
    {
     "name": "stdout",
     "output_type": "stream",
     "text": [
      "<class 'pandas.core.frame.DataFrame'>\n",
      "RangeIndex: 20000 entries, 0 to 19999\n",
      "Data columns (total 22 columns):\n",
      " #   Column                  Non-Null Count  Dtype \n",
      "---  ------                  --------------  ----- \n",
      " 0   Age                     20000 non-null  int64 \n",
      " 1   Gender                  20000 non-null  object\n",
      " 2   Education_Status        20000 non-null  object\n",
      " 3   Employment_Status       20000 non-null  object\n",
      " 4   Working_Week (Yearly)   20000 non-null  int64 \n",
      " 5   Industry_Status         20000 non-null  object\n",
      " 6   Occupation_Status       20000 non-null  object\n",
      " 7   Race                    20000 non-null  object\n",
      " 8   Hispanic_Origin         20000 non-null  object\n",
      " 9   Martial_Status          20000 non-null  object\n",
      " 10  Household_Status        20000 non-null  object\n",
      " 11  Household_Summary       20000 non-null  object\n",
      " 12  Citizenship             20000 non-null  object\n",
      " 13  Birth_Country           20000 non-null  object\n",
      " 14  Birth_Country (Father)  20000 non-null  object\n",
      " 15  Birth_Country (Mother)  20000 non-null  object\n",
      " 16  Tax_Status              20000 non-null  object\n",
      " 17  Gains                   20000 non-null  int64 \n",
      " 18  Losses                  20000 non-null  int64 \n",
      " 19  Dividends               20000 non-null  int64 \n",
      " 20  Income_Status           20000 non-null  object\n",
      " 21  Income                  20000 non-null  int64 \n",
      "dtypes: int64(6), object(16)\n",
      "memory usage: 3.4+ MB\n"
     ]
    }
   ],
   "source": [
    "train.info()"
   ],
   "metadata": {
    "collapsed": false,
    "ExecuteTime": {
     "end_time": "2024-03-28T02:06:33.053543500Z",
     "start_time": "2024-03-28T02:06:33.001305Z"
    }
   },
   "id": "b2d2f5ed9a3e5808"
  },
  {
   "cell_type": "code",
   "execution_count": 9,
   "outputs": [],
   "source": [
    "# 원-핫 인코딩을 적용할 열 지정\n",
    "one_hot_cols = ['Gender', 'Income_Status']\n",
    "\n",
    "# 원-핫 인코더 생성 및 train 데이터에 적용\n",
    "one_hot_encoder = OneHotEncoder(cols=one_hot_cols, use_cat_names=True)\n",
    "train_encoded = one_hot_encoder.fit_transform(train[one_hot_cols])\n",
    "\n",
    "# 동일한 원-핫 인코더를 test 데이터에 적용\n",
    "test_encoded = one_hot_encoder.transform(test[one_hot_cols])"
   ],
   "metadata": {
    "collapsed": false,
    "ExecuteTime": {
     "end_time": "2024-03-28T02:06:36.165499500Z",
     "start_time": "2024-03-28T02:06:36.113637900Z"
    }
   },
   "id": "3fea110a46583709"
  },
  {
   "cell_type": "code",
   "execution_count": 10,
   "outputs": [],
   "source": [
    "# 레이블 인코더 객체 생성\n",
    "label_encoder = LabelEncoder()\n",
    "\n",
    "# one_hot_cols에 명시된 열을 제외한 카테고리형 변수를 인코딩 대상으로 설정\n",
    "encoding_target = [col for col in train.columns if train[col].dtype == 'object' and col not in one_hot_cols]\n",
    "\n",
    "# 인코딩 대상 열에 대해 레이블 인코딩 적용\n",
    "for col in encoding_target:\n",
    "    # train과 test 데이터셋에서 해당 열의 모든 값을 문자열로 변환\n",
    "    test_encoded[col] = train[col].astype(str)\n",
    "    test_encoded[col] = test[col].astype(str)\n",
    "\n",
    "    # 레이블 인코더를 train 데이터에 적합시키고 변환\n",
    "    label_encoder.fit(train[col])\n",
    "    train_encoded[col] = label_encoder.transform(train[col])\n",
    "\n",
    "    # test 데이터에도 동일한 인코더를 적용\n",
    "    test_encoded[col] = label_encoder.transform(test[col])"
   ],
   "metadata": {
    "collapsed": false,
    "ExecuteTime": {
     "end_time": "2024-03-28T02:06:37.731701800Z",
     "start_time": "2024-03-28T02:06:37.626980100Z"
    }
   },
   "id": "a3c7e9caea9635d"
  },
  {
   "cell_type": "code",
   "execution_count": 11,
   "outputs": [],
   "source": [
    "train_encoded = pd.concat([train_encoded, train[['Working_Week (Yearly)','Age','Gains','Losses','Income']]], axis=1)\n",
    "test_encoded = pd.concat([test_encoded, test[['Working_Week (Yearly)','Age','Gains','Losses']]], axis=1)\n",
    "\n",
    "train = train_encoded\n",
    "test = test_encoded"
   ],
   "metadata": {
    "collapsed": false,
    "ExecuteTime": {
     "end_time": "2024-03-28T02:06:38.794178600Z",
     "start_time": "2024-03-28T02:06:38.780215900Z"
    }
   },
   "id": "4487a2e1304a8a28"
  },
  {
   "cell_type": "code",
   "execution_count": 12,
   "outputs": [],
   "source": [
    "train = train.drop(train[train['Gains'] > 60000].index)"
   ],
   "metadata": {
    "collapsed": false,
    "ExecuteTime": {
     "end_time": "2024-03-28T02:06:41.830014300Z",
     "start_time": "2024-03-28T02:06:41.814056900Z"
    }
   },
   "id": "3671bfe980ff66bd"
  },
  {
   "cell_type": "code",
   "execution_count": 406,
   "outputs": [],
   "source": [
    "# # 로그 변환을 적용할 열 목록\n",
    "# columns_to_log_transform = ['Working_Week (Yearly)', 'Age', 'Gains', 'Losses', 'Income']\n",
    "# \n",
    "# # 각 열에 대해 로그 변환 적용\n",
    "# for column in columns_to_log_transform:\n",
    "#     train[column] = np.log1p(train[column])\n",
    "# \n",
    "# columns_to_log_transform_test = ['Working_Week (Yearly)', 'Age', 'Gains', 'Losses']\n",
    "# \n",
    "# for column in columns_to_log_transform_test:\n",
    "#     test[column] = np.log1p(test[column])\n",
    "\n"
   ],
   "metadata": {
    "collapsed": false,
    "ExecuteTime": {
     "end_time": "2024-03-27T02:39:04.120516300Z",
     "start_time": "2024-03-27T02:39:04.053695400Z"
    }
   },
   "id": "764f19c46b507481"
  },
  {
   "cell_type": "code",
   "execution_count": 13,
   "outputs": [
    {
     "data": {
      "text/plain": "       Gender_M  Gender_F  Income_Status_Unknown  Income_Status_Under Median  \\\n0             1         0                      1                           0   \n1             1         0                      0                           1   \n2             0         1                      0                           1   \n3             1         0                      0                           1   \n4             0         1                      1                           0   \n...         ...       ...                    ...                         ...   \n19995         1         0                      0                           1   \n19996         0         1                      0                           1   \n19997         1         0                      1                           0   \n19998         0         1                      0                           1   \n19999         0         1                      0                           1   \n\n       Income_Status_Over Median  Education_Status  Employment_Status  \\\n0                              0                15                  2   \n1                              0                 1                  2   \n2                              0                12                  2   \n3                              0                12                  2   \n4                              0                12                  2   \n...                          ...               ...                ...   \n19995                          0                12                  0   \n19996                          0                 4                  2   \n19997                          0                 4                  0   \n19998                          0                12                  3   \n19999                          0                12                  0   \n\n       Industry_Status  Occupation_Status  Race  ...  Citizenship  \\\n0                   20                 11     4  ...            2   \n1                    6                 11     4  ...            2   \n2                   11                  0     1  ...            2   \n3                   19                 12     4  ...            2   \n4                   19                 10     4  ...            2   \n...                ...                ...   ...  ...          ...   \n19995               10                  4     4  ...            2   \n19996                5                  0     4  ...            2   \n19997               21                 12     4  ...            2   \n19998               14                 14     4  ...            2   \n19999               18                  0     4  ...            2   \n\n       Birth_Country  Birth_Country (Father)  Birth_Country (Mother)  \\\n0                 39                      39                      39   \n1                 39                      39                      39   \n2                 39                      39                      39   \n3                 39                      39                      39   \n4                 39                      39                      39   \n...              ...                     ...                     ...   \n19995             39                      39                      39   \n19996             39                      25                      25   \n19997             39                      39                      39   \n19998             39                      34                       8   \n19999             39                      39                      39   \n\n       Tax_Status  Working_Week (Yearly)  Age  Gains  Losses  Income  \n0               4                      4   63      0       0     425  \n1               5                     52   37      0       0       0  \n2               2                     52   58   3411       0     860  \n3               5                     52   44      0       0     850  \n4               0                     52   37      0       0     570  \n...           ...                    ...  ...    ...     ...     ...  \n19995           5                     52   33      0       0    1300  \n19996           4                     12   20      0       0     850  \n19997           5                     52   22      0       0     999  \n19998           5                      0   76      0       0       0  \n19999           0                     52   41      0       0     671  \n\n[19970 rows x 24 columns]",
      "text/html": "<div>\n<style scoped>\n    .dataframe tbody tr th:only-of-type {\n        vertical-align: middle;\n    }\n\n    .dataframe tbody tr th {\n        vertical-align: top;\n    }\n\n    .dataframe thead th {\n        text-align: right;\n    }\n</style>\n<table border=\"1\" class=\"dataframe\">\n  <thead>\n    <tr style=\"text-align: right;\">\n      <th></th>\n      <th>Gender_M</th>\n      <th>Gender_F</th>\n      <th>Income_Status_Unknown</th>\n      <th>Income_Status_Under Median</th>\n      <th>Income_Status_Over Median</th>\n      <th>Education_Status</th>\n      <th>Employment_Status</th>\n      <th>Industry_Status</th>\n      <th>Occupation_Status</th>\n      <th>Race</th>\n      <th>...</th>\n      <th>Citizenship</th>\n      <th>Birth_Country</th>\n      <th>Birth_Country (Father)</th>\n      <th>Birth_Country (Mother)</th>\n      <th>Tax_Status</th>\n      <th>Working_Week (Yearly)</th>\n      <th>Age</th>\n      <th>Gains</th>\n      <th>Losses</th>\n      <th>Income</th>\n    </tr>\n  </thead>\n  <tbody>\n    <tr>\n      <th>0</th>\n      <td>1</td>\n      <td>0</td>\n      <td>1</td>\n      <td>0</td>\n      <td>0</td>\n      <td>15</td>\n      <td>2</td>\n      <td>20</td>\n      <td>11</td>\n      <td>4</td>\n      <td>...</td>\n      <td>2</td>\n      <td>39</td>\n      <td>39</td>\n      <td>39</td>\n      <td>4</td>\n      <td>4</td>\n      <td>63</td>\n      <td>0</td>\n      <td>0</td>\n      <td>425</td>\n    </tr>\n    <tr>\n      <th>1</th>\n      <td>1</td>\n      <td>0</td>\n      <td>0</td>\n      <td>1</td>\n      <td>0</td>\n      <td>1</td>\n      <td>2</td>\n      <td>6</td>\n      <td>11</td>\n      <td>4</td>\n      <td>...</td>\n      <td>2</td>\n      <td>39</td>\n      <td>39</td>\n      <td>39</td>\n      <td>5</td>\n      <td>52</td>\n      <td>37</td>\n      <td>0</td>\n      <td>0</td>\n      <td>0</td>\n    </tr>\n    <tr>\n      <th>2</th>\n      <td>0</td>\n      <td>1</td>\n      <td>0</td>\n      <td>1</td>\n      <td>0</td>\n      <td>12</td>\n      <td>2</td>\n      <td>11</td>\n      <td>0</td>\n      <td>1</td>\n      <td>...</td>\n      <td>2</td>\n      <td>39</td>\n      <td>39</td>\n      <td>39</td>\n      <td>2</td>\n      <td>52</td>\n      <td>58</td>\n      <td>3411</td>\n      <td>0</td>\n      <td>860</td>\n    </tr>\n    <tr>\n      <th>3</th>\n      <td>1</td>\n      <td>0</td>\n      <td>0</td>\n      <td>1</td>\n      <td>0</td>\n      <td>12</td>\n      <td>2</td>\n      <td>19</td>\n      <td>12</td>\n      <td>4</td>\n      <td>...</td>\n      <td>2</td>\n      <td>39</td>\n      <td>39</td>\n      <td>39</td>\n      <td>5</td>\n      <td>52</td>\n      <td>44</td>\n      <td>0</td>\n      <td>0</td>\n      <td>850</td>\n    </tr>\n    <tr>\n      <th>4</th>\n      <td>0</td>\n      <td>1</td>\n      <td>1</td>\n      <td>0</td>\n      <td>0</td>\n      <td>12</td>\n      <td>2</td>\n      <td>19</td>\n      <td>10</td>\n      <td>4</td>\n      <td>...</td>\n      <td>2</td>\n      <td>39</td>\n      <td>39</td>\n      <td>39</td>\n      <td>0</td>\n      <td>52</td>\n      <td>37</td>\n      <td>0</td>\n      <td>0</td>\n      <td>570</td>\n    </tr>\n    <tr>\n      <th>...</th>\n      <td>...</td>\n      <td>...</td>\n      <td>...</td>\n      <td>...</td>\n      <td>...</td>\n      <td>...</td>\n      <td>...</td>\n      <td>...</td>\n      <td>...</td>\n      <td>...</td>\n      <td>...</td>\n      <td>...</td>\n      <td>...</td>\n      <td>...</td>\n      <td>...</td>\n      <td>...</td>\n      <td>...</td>\n      <td>...</td>\n      <td>...</td>\n      <td>...</td>\n      <td>...</td>\n    </tr>\n    <tr>\n      <th>19995</th>\n      <td>1</td>\n      <td>0</td>\n      <td>0</td>\n      <td>1</td>\n      <td>0</td>\n      <td>12</td>\n      <td>0</td>\n      <td>10</td>\n      <td>4</td>\n      <td>4</td>\n      <td>...</td>\n      <td>2</td>\n      <td>39</td>\n      <td>39</td>\n      <td>39</td>\n      <td>5</td>\n      <td>52</td>\n      <td>33</td>\n      <td>0</td>\n      <td>0</td>\n      <td>1300</td>\n    </tr>\n    <tr>\n      <th>19996</th>\n      <td>0</td>\n      <td>1</td>\n      <td>0</td>\n      <td>1</td>\n      <td>0</td>\n      <td>4</td>\n      <td>2</td>\n      <td>5</td>\n      <td>0</td>\n      <td>4</td>\n      <td>...</td>\n      <td>2</td>\n      <td>39</td>\n      <td>25</td>\n      <td>25</td>\n      <td>4</td>\n      <td>12</td>\n      <td>20</td>\n      <td>0</td>\n      <td>0</td>\n      <td>850</td>\n    </tr>\n    <tr>\n      <th>19997</th>\n      <td>1</td>\n      <td>0</td>\n      <td>1</td>\n      <td>0</td>\n      <td>0</td>\n      <td>4</td>\n      <td>0</td>\n      <td>21</td>\n      <td>12</td>\n      <td>4</td>\n      <td>...</td>\n      <td>2</td>\n      <td>39</td>\n      <td>39</td>\n      <td>39</td>\n      <td>5</td>\n      <td>52</td>\n      <td>22</td>\n      <td>0</td>\n      <td>0</td>\n      <td>999</td>\n    </tr>\n    <tr>\n      <th>19998</th>\n      <td>0</td>\n      <td>1</td>\n      <td>0</td>\n      <td>1</td>\n      <td>0</td>\n      <td>12</td>\n      <td>3</td>\n      <td>14</td>\n      <td>14</td>\n      <td>4</td>\n      <td>...</td>\n      <td>2</td>\n      <td>39</td>\n      <td>34</td>\n      <td>8</td>\n      <td>5</td>\n      <td>0</td>\n      <td>76</td>\n      <td>0</td>\n      <td>0</td>\n      <td>0</td>\n    </tr>\n    <tr>\n      <th>19999</th>\n      <td>0</td>\n      <td>1</td>\n      <td>0</td>\n      <td>1</td>\n      <td>0</td>\n      <td>12</td>\n      <td>0</td>\n      <td>18</td>\n      <td>0</td>\n      <td>4</td>\n      <td>...</td>\n      <td>2</td>\n      <td>39</td>\n      <td>39</td>\n      <td>39</td>\n      <td>0</td>\n      <td>52</td>\n      <td>41</td>\n      <td>0</td>\n      <td>0</td>\n      <td>671</td>\n    </tr>\n  </tbody>\n</table>\n<p>19970 rows × 24 columns</p>\n</div>"
     },
     "execution_count": 13,
     "metadata": {},
     "output_type": "execute_result"
    }
   ],
   "source": [
    "train"
   ],
   "metadata": {
    "collapsed": false,
    "ExecuteTime": {
     "end_time": "2024-03-28T02:06:47.727305900Z",
     "start_time": "2024-03-28T02:06:47.649557200Z"
    }
   },
   "id": "116f56d3fe7d8683"
  },
  {
   "cell_type": "code",
   "execution_count": 14,
   "outputs": [
    {
     "data": {
      "text/plain": "      Gender_M  Gender_F  Income_Status_Unknown  Income_Status_Under Median  \\\n0            1         0                      0                           1   \n1            1         0                      0                           1   \n2            0         1                      0                           1   \n3            0         1                      1                           0   \n4            1         0                      1                           0   \n...        ...       ...                    ...                         ...   \n9995         1         0                      0                           1   \n9996         1         0                      0                           1   \n9997         1         0                      0                           1   \n9998         1         0                      0                           1   \n9999         1         0                      0                           1   \n\n      Income_Status_Over Median  Education_Status  Employment_Status  \\\n0                             0                 9                  0   \n1                             0                 7                  0   \n2                             0                 9                  0   \n3                             0                 1                  2   \n4                             0                 3                  0   \n...                         ...               ...                ...   \n9995                          0                 2                  0   \n9996                          0                 4                  0   \n9997                          0                12                  0   \n9998                          0                 3                  0   \n9999                          0                12                  2   \n\n      Industry_Status  Occupation_Status  Race  ...  Household_Summary  \\\n0                  14                 14     4  ...                  4   \n1                  14                 14     4  ...                  0   \n2                  19                 11     4  ...                  0   \n3                  12                 11     4  ...                  7   \n4                  14                 14     4  ...                  2   \n...               ...                ...   ...  ...                ...   \n9995               15                 12     4  ...                  4   \n9996               19                  4     4  ...                  4   \n9997               19                 11     1  ...                  0   \n9998               14                 14     4  ...                  2   \n9999               19                  6     4  ...                  7   \n\n      Citizenship  Birth_Country  Birth_Country (Father)  \\\n0               2             39                      40   \n1               2             39                      39   \n2               2             39                      39   \n3               2             39                      39   \n4               2             39                      39   \n...           ...            ...                     ...   \n9995            2             39                      39   \n9996            2             39                      39   \n9997            2             39                      39   \n9998            2             39                      39   \n9999            2             39                      39   \n\n      Birth_Country (Mother)  Tax_Status  Working_Week (Yearly)  Age  Gains  \\\n0                         40           5                      0   79      0   \n1                         39           4                      0   47      0   \n2                         39           5                     52   18      0   \n3                         39           2                     30   39      0   \n4                         39           4                      0    6      0   \n...                      ...         ...                    ...  ...    ...   \n9995                      39           5                     52   31      0   \n9996                      39           2                     52   27      0   \n9997                      39           4                      7   18      0   \n9998                      39           4                      0    9      0   \n9999                      39           2                     39   34      0   \n\n      Losses  \n0          0  \n1          0  \n2          0  \n3          0  \n4          0  \n...      ...  \n9995       0  \n9996       0  \n9997       0  \n9998       0  \n9999       0  \n\n[10000 rows x 23 columns]",
      "text/html": "<div>\n<style scoped>\n    .dataframe tbody tr th:only-of-type {\n        vertical-align: middle;\n    }\n\n    .dataframe tbody tr th {\n        vertical-align: top;\n    }\n\n    .dataframe thead th {\n        text-align: right;\n    }\n</style>\n<table border=\"1\" class=\"dataframe\">\n  <thead>\n    <tr style=\"text-align: right;\">\n      <th></th>\n      <th>Gender_M</th>\n      <th>Gender_F</th>\n      <th>Income_Status_Unknown</th>\n      <th>Income_Status_Under Median</th>\n      <th>Income_Status_Over Median</th>\n      <th>Education_Status</th>\n      <th>Employment_Status</th>\n      <th>Industry_Status</th>\n      <th>Occupation_Status</th>\n      <th>Race</th>\n      <th>...</th>\n      <th>Household_Summary</th>\n      <th>Citizenship</th>\n      <th>Birth_Country</th>\n      <th>Birth_Country (Father)</th>\n      <th>Birth_Country (Mother)</th>\n      <th>Tax_Status</th>\n      <th>Working_Week (Yearly)</th>\n      <th>Age</th>\n      <th>Gains</th>\n      <th>Losses</th>\n    </tr>\n  </thead>\n  <tbody>\n    <tr>\n      <th>0</th>\n      <td>1</td>\n      <td>0</td>\n      <td>0</td>\n      <td>1</td>\n      <td>0</td>\n      <td>9</td>\n      <td>0</td>\n      <td>14</td>\n      <td>14</td>\n      <td>4</td>\n      <td>...</td>\n      <td>4</td>\n      <td>2</td>\n      <td>39</td>\n      <td>40</td>\n      <td>40</td>\n      <td>5</td>\n      <td>0</td>\n      <td>79</td>\n      <td>0</td>\n      <td>0</td>\n    </tr>\n    <tr>\n      <th>1</th>\n      <td>1</td>\n      <td>0</td>\n      <td>0</td>\n      <td>1</td>\n      <td>0</td>\n      <td>7</td>\n      <td>0</td>\n      <td>14</td>\n      <td>14</td>\n      <td>4</td>\n      <td>...</td>\n      <td>0</td>\n      <td>2</td>\n      <td>39</td>\n      <td>39</td>\n      <td>39</td>\n      <td>4</td>\n      <td>0</td>\n      <td>47</td>\n      <td>0</td>\n      <td>0</td>\n    </tr>\n    <tr>\n      <th>2</th>\n      <td>0</td>\n      <td>1</td>\n      <td>0</td>\n      <td>1</td>\n      <td>0</td>\n      <td>9</td>\n      <td>0</td>\n      <td>19</td>\n      <td>11</td>\n      <td>4</td>\n      <td>...</td>\n      <td>0</td>\n      <td>2</td>\n      <td>39</td>\n      <td>39</td>\n      <td>39</td>\n      <td>5</td>\n      <td>52</td>\n      <td>18</td>\n      <td>0</td>\n      <td>0</td>\n    </tr>\n    <tr>\n      <th>3</th>\n      <td>0</td>\n      <td>1</td>\n      <td>1</td>\n      <td>0</td>\n      <td>0</td>\n      <td>1</td>\n      <td>2</td>\n      <td>12</td>\n      <td>11</td>\n      <td>4</td>\n      <td>...</td>\n      <td>7</td>\n      <td>2</td>\n      <td>39</td>\n      <td>39</td>\n      <td>39</td>\n      <td>2</td>\n      <td>30</td>\n      <td>39</td>\n      <td>0</td>\n      <td>0</td>\n    </tr>\n    <tr>\n      <th>4</th>\n      <td>1</td>\n      <td>0</td>\n      <td>1</td>\n      <td>0</td>\n      <td>0</td>\n      <td>3</td>\n      <td>0</td>\n      <td>14</td>\n      <td>14</td>\n      <td>4</td>\n      <td>...</td>\n      <td>2</td>\n      <td>2</td>\n      <td>39</td>\n      <td>39</td>\n      <td>39</td>\n      <td>4</td>\n      <td>0</td>\n      <td>6</td>\n      <td>0</td>\n      <td>0</td>\n    </tr>\n    <tr>\n      <th>...</th>\n      <td>...</td>\n      <td>...</td>\n      <td>...</td>\n      <td>...</td>\n      <td>...</td>\n      <td>...</td>\n      <td>...</td>\n      <td>...</td>\n      <td>...</td>\n      <td>...</td>\n      <td>...</td>\n      <td>...</td>\n      <td>...</td>\n      <td>...</td>\n      <td>...</td>\n      <td>...</td>\n      <td>...</td>\n      <td>...</td>\n      <td>...</td>\n      <td>...</td>\n      <td>...</td>\n    </tr>\n    <tr>\n      <th>9995</th>\n      <td>1</td>\n      <td>0</td>\n      <td>0</td>\n      <td>1</td>\n      <td>0</td>\n      <td>2</td>\n      <td>0</td>\n      <td>15</td>\n      <td>12</td>\n      <td>4</td>\n      <td>...</td>\n      <td>4</td>\n      <td>2</td>\n      <td>39</td>\n      <td>39</td>\n      <td>39</td>\n      <td>5</td>\n      <td>52</td>\n      <td>31</td>\n      <td>0</td>\n      <td>0</td>\n    </tr>\n    <tr>\n      <th>9996</th>\n      <td>1</td>\n      <td>0</td>\n      <td>0</td>\n      <td>1</td>\n      <td>0</td>\n      <td>4</td>\n      <td>0</td>\n      <td>19</td>\n      <td>4</td>\n      <td>4</td>\n      <td>...</td>\n      <td>4</td>\n      <td>2</td>\n      <td>39</td>\n      <td>39</td>\n      <td>39</td>\n      <td>2</td>\n      <td>52</td>\n      <td>27</td>\n      <td>0</td>\n      <td>0</td>\n    </tr>\n    <tr>\n      <th>9997</th>\n      <td>1</td>\n      <td>0</td>\n      <td>0</td>\n      <td>1</td>\n      <td>0</td>\n      <td>12</td>\n      <td>0</td>\n      <td>19</td>\n      <td>11</td>\n      <td>1</td>\n      <td>...</td>\n      <td>0</td>\n      <td>2</td>\n      <td>39</td>\n      <td>39</td>\n      <td>39</td>\n      <td>4</td>\n      <td>7</td>\n      <td>18</td>\n      <td>0</td>\n      <td>0</td>\n    </tr>\n    <tr>\n      <th>9998</th>\n      <td>1</td>\n      <td>0</td>\n      <td>0</td>\n      <td>1</td>\n      <td>0</td>\n      <td>3</td>\n      <td>0</td>\n      <td>14</td>\n      <td>14</td>\n      <td>4</td>\n      <td>...</td>\n      <td>2</td>\n      <td>2</td>\n      <td>39</td>\n      <td>39</td>\n      <td>39</td>\n      <td>4</td>\n      <td>0</td>\n      <td>9</td>\n      <td>0</td>\n      <td>0</td>\n    </tr>\n    <tr>\n      <th>9999</th>\n      <td>1</td>\n      <td>0</td>\n      <td>0</td>\n      <td>1</td>\n      <td>0</td>\n      <td>12</td>\n      <td>2</td>\n      <td>19</td>\n      <td>6</td>\n      <td>4</td>\n      <td>...</td>\n      <td>7</td>\n      <td>2</td>\n      <td>39</td>\n      <td>39</td>\n      <td>39</td>\n      <td>2</td>\n      <td>39</td>\n      <td>34</td>\n      <td>0</td>\n      <td>0</td>\n    </tr>\n  </tbody>\n</table>\n<p>10000 rows × 23 columns</p>\n</div>"
     },
     "execution_count": 14,
     "metadata": {},
     "output_type": "execute_result"
    }
   ],
   "source": [
    "test"
   ],
   "metadata": {
    "collapsed": false,
    "ExecuteTime": {
     "end_time": "2024-03-28T02:06:48.405267800Z",
     "start_time": "2024-03-28T02:06:48.368366400Z"
    }
   },
   "id": "ac4488151189e50"
  },
  {
   "cell_type": "code",
   "execution_count": 409,
   "outputs": [],
   "source": [
    "# train['Income'] = np.log1p(train['Income'])"
   ],
   "metadata": {
    "collapsed": false,
    "ExecuteTime": {
     "end_time": "2024-03-27T02:39:24.655915700Z",
     "start_time": "2024-03-27T02:39:24.555921800Z"
    }
   },
   "id": "e15c85d7cd3f8119"
  },
  {
   "cell_type": "code",
   "execution_count": 15,
   "outputs": [],
   "source": [
    "X = train[train.columns.drop('Income')]\n",
    "Y = train['Income']"
   ],
   "metadata": {
    "collapsed": false,
    "ExecuteTime": {
     "end_time": "2024-03-28T02:06:58.766618100Z",
     "start_time": "2024-03-28T02:06:58.740686300Z"
    }
   },
   "id": "be33717e69ae5342"
  },
  {
   "cell_type": "code",
   "execution_count": 16,
   "outputs": [],
   "source": [
    "# X와 Y로 나누기\n",
    "X_train, X_test, y_train, y_test = train_test_split(X, Y, test_size=0.1, random_state=42, shuffle=True)"
   ],
   "metadata": {
    "collapsed": false,
    "ExecuteTime": {
     "end_time": "2024-03-28T02:06:58.968783Z",
     "start_time": "2024-03-28T02:06:58.952825800Z"
    }
   },
   "id": "6aeff8d2a76e0d9d"
  },
  {
   "cell_type": "code",
   "execution_count": 29,
   "outputs": [
    {
     "name": "stderr",
     "output_type": "stream",
     "text": [
      "[I 2024-03-28 11:11:41,652] A new study created in memory with name: no-name-bcd3bb18-c7f8-41f4-afd6-2736f372c2d0\n",
      "[I 2024-03-28 11:11:44,442] Trial 0 finished with value: 614.1662625955245 and parameters: {'learning_rate': 0.10674538767591064, 'n_estimators': 934, 'max_depth': 9, 'min_child_weight': 5, 'subsample': 0.9458949744866842, 'colsample_bytree': 0.9136686559326455}. Best is trial 0 with value: 614.1662625955245.\n",
      "[I 2024-03-28 11:11:44,830] Trial 1 finished with value: 560.7078961020974 and parameters: {'learning_rate': 0.2395486145127404, 'n_estimators': 183, 'max_depth': 6, 'min_child_weight': 6, 'subsample': 0.7976796372393959, 'colsample_bytree': 0.6435252540838661}. Best is trial 1 with value: 560.7078961020974.\n",
      "[I 2024-03-28 11:11:46,716] Trial 2 finished with value: 627.8605420814539 and parameters: {'learning_rate': 0.14855839170128185, 'n_estimators': 609, 'max_depth': 9, 'min_child_weight': 5, 'subsample': 0.6822301785177693, 'colsample_bytree': 0.9193086738869833}. Best is trial 1 with value: 560.7078961020974.\n",
      "[I 2024-03-28 11:11:46,990] Trial 3 finished with value: 536.4784914692383 and parameters: {'learning_rate': 0.16847366816969392, 'n_estimators': 282, 'max_depth': 3, 'min_child_weight': 3, 'subsample': 0.9005655794820375, 'colsample_bytree': 0.7113442870920044}. Best is trial 3 with value: 536.4784914692383.\n",
      "[I 2024-03-28 11:11:48,330] Trial 4 finished with value: 569.1064718538869 and parameters: {'learning_rate': 0.07809952394442256, 'n_estimators': 542, 'max_depth': 9, 'min_child_weight': 6, 'subsample': 0.8150564648054478, 'colsample_bytree': 0.6248357784004044}. Best is trial 3 with value: 536.4784914692383.\n",
      "[I 2024-03-28 11:11:48,583] Trial 5 finished with value: 545.6360191620804 and parameters: {'learning_rate': 0.20694721155726167, 'n_estimators': 213, 'max_depth': 4, 'min_child_weight': 3, 'subsample': 0.894499874893612, 'colsample_bytree': 0.9810156312873834}. Best is trial 3 with value: 536.4784914692383.\n",
      "[I 2024-03-28 11:11:50,004] Trial 6 finished with value: 620.0033169863605 and parameters: {'learning_rate': 0.2313488623990509, 'n_estimators': 782, 'max_depth': 7, 'min_child_weight': 9, 'subsample': 0.792453189552997, 'colsample_bytree': 0.6410508953749596}. Best is trial 3 with value: 536.4784914692383.\n",
      "[I 2024-03-28 11:11:50,274] Trial 7 finished with value: 567.0764653578738 and parameters: {'learning_rate': 0.1861016135689847, 'n_estimators': 103, 'max_depth': 8, 'min_child_weight': 2, 'subsample': 0.5625714891799118, 'colsample_bytree': 0.917117053830312}. Best is trial 3 with value: 536.4784914692383.\n",
      "[I 2024-03-28 11:11:51,225] Trial 8 finished with value: 565.8301388045611 and parameters: {'learning_rate': 0.2279210152005903, 'n_estimators': 962, 'max_depth': 3, 'min_child_weight': 2, 'subsample': 0.5735334211385547, 'colsample_bytree': 0.9595009935920704}. Best is trial 3 with value: 536.4784914692383.\n",
      "[I 2024-03-28 11:11:52,184] Trial 9 finished with value: 525.8284763319211 and parameters: {'learning_rate': 0.010530877022099103, 'n_estimators': 509, 'max_depth': 8, 'min_child_weight': 5, 'subsample': 0.6216862756814932, 'colsample_bytree': 0.5645548234478808}. Best is trial 9 with value: 525.8284763319211.\n",
      "[I 2024-03-28 11:11:52,722] Trial 10 finished with value: 524.8821780389111 and parameters: {'learning_rate': 0.022685065748377198, 'n_estimators': 390, 'max_depth': 6, 'min_child_weight': 9, 'subsample': 0.659653636923127, 'colsample_bytree': 0.5006822194941765}. Best is trial 10 with value: 524.8821780389111.\n",
      "[I 2024-03-28 11:11:53,315] Trial 11 finished with value: 526.2576381690026 and parameters: {'learning_rate': 0.010213662640403617, 'n_estimators': 411, 'max_depth': 6, 'min_child_weight': 9, 'subsample': 0.6538624132478281, 'colsample_bytree': 0.5227795001524489}. Best is trial 10 with value: 524.8821780389111.\n",
      "[I 2024-03-28 11:11:53,845] Trial 12 finished with value: 526.4035578647497 and parameters: {'learning_rate': 0.030433417435935306, 'n_estimators': 421, 'max_depth': 5, 'min_child_weight': 7, 'subsample': 0.5068491116609846, 'colsample_bytree': 0.5118964589407352}. Best is trial 10 with value: 524.8821780389111.\n",
      "[I 2024-03-28 11:11:55,207] Trial 13 finished with value: 621.0741963538494 and parameters: {'learning_rate': 0.2991868543314039, 'n_estimators': 621, 'max_depth': 7, 'min_child_weight': 8, 'subsample': 0.6799152070782986, 'colsample_bytree': 0.5633796765427682}. Best is trial 10 with value: 524.8821780389111.\n",
      "[I 2024-03-28 11:11:56,223] Trial 14 finished with value: 547.0053138557225 and parameters: {'learning_rate': 0.0588241904435997, 'n_estimators': 390, 'max_depth': 7, 'min_child_weight': 4, 'subsample': 0.6299790719172892, 'colsample_bytree': 0.8288540417844514}. Best is trial 10 with value: 524.8821780389111.\n",
      "[I 2024-03-28 11:11:57,226] Trial 15 finished with value: 563.4073776236896 and parameters: {'learning_rate': 0.11737100989338743, 'n_estimators': 720, 'max_depth': 5, 'min_child_weight': 7, 'subsample': 0.7348818457441633, 'colsample_bytree': 0.7452956249973703}. Best is trial 10 with value: 524.8821780389111.\n",
      "[I 2024-03-28 11:11:58,698] Trial 16 finished with value: 549.8139924116297 and parameters: {'learning_rate': 0.04789559081033222, 'n_estimators': 508, 'max_depth': 8, 'min_child_weight': 1, 'subsample': 0.6078620309265932, 'colsample_bytree': 0.5678910062637313}. Best is trial 10 with value: 524.8821780389111.\n",
      "[I 2024-03-28 11:11:59,249] Trial 17 finished with value: 529.5189822008359 and parameters: {'learning_rate': 0.0107645393216978, 'n_estimators': 320, 'max_depth': 5, 'min_child_weight': 7, 'subsample': 0.5180940274959078, 'colsample_bytree': 0.5928481892957067}. Best is trial 10 with value: 524.8821780389111.\n",
      "[I 2024-03-28 11:12:00,501] Trial 18 finished with value: 559.1989981920465 and parameters: {'learning_rate': 0.09022759472730571, 'n_estimators': 761, 'max_depth': 6, 'min_child_weight': 4, 'subsample': 0.7199619294125349, 'colsample_bytree': 0.6852022122333699}. Best is trial 10 with value: 524.8821780389111.\n",
      "[I 2024-03-28 11:12:01,509] Trial 19 finished with value: 543.4453654705708 and parameters: {'learning_rate': 0.05901351806985566, 'n_estimators': 485, 'max_depth': 8, 'min_child_weight': 8, 'subsample': 0.5761071192382266, 'colsample_bytree': 0.5016519327634867}. Best is trial 10 with value: 524.8821780389111.\n",
      "[I 2024-03-28 11:12:02,754] Trial 20 finished with value: 580.6683035445021 and parameters: {'learning_rate': 0.1263683203324021, 'n_estimators': 654, 'max_depth': 7, 'min_child_weight': 5, 'subsample': 0.7144701859345348, 'colsample_bytree': 0.8005637930473127}. Best is trial 10 with value: 524.8821780389111.\n",
      "[I 2024-03-28 11:12:03,392] Trial 21 finished with value: 525.9113071419903 and parameters: {'learning_rate': 0.012909023905325872, 'n_estimators': 399, 'max_depth': 6, 'min_child_weight': 9, 'subsample': 0.6530555992044811, 'colsample_bytree': 0.529595339201382}. Best is trial 10 with value: 524.8821780389111.\n",
      "[I 2024-03-28 11:12:03,904] Trial 22 finished with value: 525.6086446629375 and parameters: {'learning_rate': 0.03071896810478975, 'n_estimators': 319, 'max_depth': 6, 'min_child_weight': 9, 'subsample': 0.617368734653396, 'colsample_bytree': 0.5507249893768233}. Best is trial 10 with value: 524.8821780389111.\n",
      "[I 2024-03-28 11:12:04,258] Trial 23 finished with value: 526.1160853101832 and parameters: {'learning_rate': 0.04099984315373843, 'n_estimators': 289, 'max_depth': 4, 'min_child_weight': 8, 'subsample': 0.6245733581705146, 'colsample_bytree': 0.5837007666349596}. Best is trial 10 with value: 524.8821780389111.\n",
      "[I 2024-03-28 11:12:04,724] Trial 24 finished with value: 536.5147249024673 and parameters: {'learning_rate': 0.07811611355954698, 'n_estimators': 333, 'max_depth': 5, 'min_child_weight': 6, 'subsample': 0.5417274171459534, 'colsample_bytree': 0.5527481468032724}. Best is trial 10 with value: 524.8821780389111.\n",
      "[I 2024-03-28 11:12:05,619] Trial 25 finished with value: 533.7386129269236 and parameters: {'learning_rate': 0.03432958585657571, 'n_estimators': 477, 'max_depth': 7, 'min_child_weight': 8, 'subsample': 0.5858856697229499, 'colsample_bytree': 0.6097844148762015}. Best is trial 10 with value: 524.8821780389111.\n",
      "[I 2024-03-28 11:12:06,052] Trial 26 finished with value: 538.4944271734389 and parameters: {'learning_rate': 0.06929608947056848, 'n_estimators': 200, 'max_depth': 8, 'min_child_weight': 9, 'subsample': 0.770811419172575, 'colsample_bytree': 0.6615773395827517}. Best is trial 10 with value: 524.8821780389111.\n",
      "[I 2024-03-28 11:12:06,676] Trial 27 finished with value: 527.8479356872754 and parameters: {'learning_rate': 0.030605732143809933, 'n_estimators': 577, 'max_depth': 4, 'min_child_weight': 4, 'subsample': 0.6823842894818685, 'colsample_bytree': 0.5443790449039052}. Best is trial 10 with value: 524.8821780389111.\n",
      "[I 2024-03-28 11:12:07,371] Trial 28 finished with value: 547.3990584886117 and parameters: {'learning_rate': 0.0951173217158788, 'n_estimators': 455, 'max_depth': 6, 'min_child_weight': 7, 'subsample': 0.6107508442687557, 'colsample_bytree': 0.5026886447710052}. Best is trial 10 with value: 524.8821780389111.\n",
      "[W 2024-03-28 11:12:07,765] Trial 29 failed with parameters: {'learning_rate': 0.1318647385257484, 'n_estimators': 250, 'max_depth': 9, 'min_child_weight': 6, 'subsample': 0.9970389664283383, 'colsample_bytree': 0.8088819815390553} because of the following error: KeyboardInterrupt().\n",
      "Traceback (most recent call last):\n",
      "  File \"C:\\Users\\SJ\\anaconda3\\envs\\study\\lib\\site-packages\\optuna\\study\\_optimize.py\", line 200, in _run_trial\n",
      "    value_or_values = func(trial)\n",
      "  File \"C:\\Users\\SJ\\AppData\\Local\\Temp\\ipykernel_29052\\756871444.py\", line 23, in objective\n",
      "    model.fit(X_train, y_train)\n",
      "  File \"C:\\Users\\SJ\\anaconda3\\envs\\study\\lib\\site-packages\\xgboost\\core.py\", line 730, in inner_f\n",
      "    return func(**kwargs)\n",
      "  File \"C:\\Users\\SJ\\anaconda3\\envs\\study\\lib\\site-packages\\xgboost\\sklearn.py\", line 1090, in fit\n",
      "    self._Booster = train(\n",
      "  File \"C:\\Users\\SJ\\anaconda3\\envs\\study\\lib\\site-packages\\xgboost\\core.py\", line 730, in inner_f\n",
      "    return func(**kwargs)\n",
      "  File \"C:\\Users\\SJ\\anaconda3\\envs\\study\\lib\\site-packages\\xgboost\\training.py\", line 181, in train\n",
      "    bst.update(dtrain, i, obj)\n",
      "  File \"C:\\Users\\SJ\\anaconda3\\envs\\study\\lib\\site-packages\\xgboost\\core.py\", line 2051, in update\n",
      "    _LIB.XGBoosterUpdateOneIter(\n",
      "KeyboardInterrupt\n",
      "[W 2024-03-28 11:12:07,778] Trial 29 failed with value None.\n"
     ]
    },
    {
     "ename": "KeyboardInterrupt",
     "evalue": "",
     "output_type": "error",
     "traceback": [
      "\u001B[1;31m---------------------------------------------------------------------------\u001B[0m",
      "\u001B[1;31mKeyboardInterrupt\u001B[0m                         Traceback (most recent call last)",
      "Cell \u001B[1;32mIn[29], line 34\u001B[0m\n\u001B[0;32m     32\u001B[0m \u001B[38;5;66;03m# Optuna study 객체 생성 및 최적화 실행\u001B[39;00m\n\u001B[0;32m     33\u001B[0m study \u001B[38;5;241m=\u001B[39m optuna\u001B[38;5;241m.\u001B[39mcreate_study(direction\u001B[38;5;241m=\u001B[39m\u001B[38;5;124m'\u001B[39m\u001B[38;5;124mminimize\u001B[39m\u001B[38;5;124m'\u001B[39m)\n\u001B[1;32m---> 34\u001B[0m \u001B[43mstudy\u001B[49m\u001B[38;5;241;43m.\u001B[39;49m\u001B[43moptimize\u001B[49m\u001B[43m(\u001B[49m\u001B[43mobjective\u001B[49m\u001B[43m,\u001B[49m\u001B[43m \u001B[49m\u001B[43mn_trials\u001B[49m\u001B[38;5;241;43m=\u001B[39;49m\u001B[38;5;241;43m100\u001B[39;49m\u001B[43m)\u001B[49m \u001B[38;5;66;03m# n_trials: 시도할 횟수\u001B[39;00m\n\u001B[0;32m     36\u001B[0m \u001B[38;5;66;03m# 최적의 파라미터 출력\u001B[39;00m\n\u001B[0;32m     37\u001B[0m \u001B[38;5;28mprint\u001B[39m(\u001B[38;5;124mf\u001B[39m\u001B[38;5;124m\"\u001B[39m\u001B[38;5;124mBest trial: \u001B[39m\u001B[38;5;132;01m{\u001B[39;00mstudy\u001B[38;5;241m.\u001B[39mbest_trial\u001B[38;5;241m.\u001B[39mparams\u001B[38;5;132;01m}\u001B[39;00m\u001B[38;5;124m\"\u001B[39m)\n",
      "File \u001B[1;32m~\\anaconda3\\envs\\study\\lib\\site-packages\\optuna\\study\\study.py:451\u001B[0m, in \u001B[0;36mStudy.optimize\u001B[1;34m(self, func, n_trials, timeout, n_jobs, catch, callbacks, gc_after_trial, show_progress_bar)\u001B[0m\n\u001B[0;32m    348\u001B[0m \u001B[38;5;28;01mdef\u001B[39;00m \u001B[38;5;21moptimize\u001B[39m(\n\u001B[0;32m    349\u001B[0m     \u001B[38;5;28mself\u001B[39m,\n\u001B[0;32m    350\u001B[0m     func: ObjectiveFuncType,\n\u001B[1;32m   (...)\u001B[0m\n\u001B[0;32m    357\u001B[0m     show_progress_bar: \u001B[38;5;28mbool\u001B[39m \u001B[38;5;241m=\u001B[39m \u001B[38;5;28;01mFalse\u001B[39;00m,\n\u001B[0;32m    358\u001B[0m ) \u001B[38;5;241m-\u001B[39m\u001B[38;5;241m>\u001B[39m \u001B[38;5;28;01mNone\u001B[39;00m:\n\u001B[0;32m    359\u001B[0m \u001B[38;5;250m    \u001B[39m\u001B[38;5;124;03m\"\"\"Optimize an objective function.\u001B[39;00m\n\u001B[0;32m    360\u001B[0m \n\u001B[0;32m    361\u001B[0m \u001B[38;5;124;03m    Optimization is done by choosing a suitable set of hyperparameter values from a given\u001B[39;00m\n\u001B[1;32m   (...)\u001B[0m\n\u001B[0;32m    449\u001B[0m \u001B[38;5;124;03m            If nested invocation of this method occurs.\u001B[39;00m\n\u001B[0;32m    450\u001B[0m \u001B[38;5;124;03m    \"\"\"\u001B[39;00m\n\u001B[1;32m--> 451\u001B[0m     \u001B[43m_optimize\u001B[49m\u001B[43m(\u001B[49m\n\u001B[0;32m    452\u001B[0m \u001B[43m        \u001B[49m\u001B[43mstudy\u001B[49m\u001B[38;5;241;43m=\u001B[39;49m\u001B[38;5;28;43mself\u001B[39;49m\u001B[43m,\u001B[49m\n\u001B[0;32m    453\u001B[0m \u001B[43m        \u001B[49m\u001B[43mfunc\u001B[49m\u001B[38;5;241;43m=\u001B[39;49m\u001B[43mfunc\u001B[49m\u001B[43m,\u001B[49m\n\u001B[0;32m    454\u001B[0m \u001B[43m        \u001B[49m\u001B[43mn_trials\u001B[49m\u001B[38;5;241;43m=\u001B[39;49m\u001B[43mn_trials\u001B[49m\u001B[43m,\u001B[49m\n\u001B[0;32m    455\u001B[0m \u001B[43m        \u001B[49m\u001B[43mtimeout\u001B[49m\u001B[38;5;241;43m=\u001B[39;49m\u001B[43mtimeout\u001B[49m\u001B[43m,\u001B[49m\n\u001B[0;32m    456\u001B[0m \u001B[43m        \u001B[49m\u001B[43mn_jobs\u001B[49m\u001B[38;5;241;43m=\u001B[39;49m\u001B[43mn_jobs\u001B[49m\u001B[43m,\u001B[49m\n\u001B[0;32m    457\u001B[0m \u001B[43m        \u001B[49m\u001B[43mcatch\u001B[49m\u001B[38;5;241;43m=\u001B[39;49m\u001B[38;5;28;43mtuple\u001B[39;49m\u001B[43m(\u001B[49m\u001B[43mcatch\u001B[49m\u001B[43m)\u001B[49m\u001B[43m \u001B[49m\u001B[38;5;28;43;01mif\u001B[39;49;00m\u001B[43m \u001B[49m\u001B[38;5;28;43misinstance\u001B[39;49m\u001B[43m(\u001B[49m\u001B[43mcatch\u001B[49m\u001B[43m,\u001B[49m\u001B[43m \u001B[49m\u001B[43mIterable\u001B[49m\u001B[43m)\u001B[49m\u001B[43m \u001B[49m\u001B[38;5;28;43;01melse\u001B[39;49;00m\u001B[43m \u001B[49m\u001B[43m(\u001B[49m\u001B[43mcatch\u001B[49m\u001B[43m,\u001B[49m\u001B[43m)\u001B[49m\u001B[43m,\u001B[49m\n\u001B[0;32m    458\u001B[0m \u001B[43m        \u001B[49m\u001B[43mcallbacks\u001B[49m\u001B[38;5;241;43m=\u001B[39;49m\u001B[43mcallbacks\u001B[49m\u001B[43m,\u001B[49m\n\u001B[0;32m    459\u001B[0m \u001B[43m        \u001B[49m\u001B[43mgc_after_trial\u001B[49m\u001B[38;5;241;43m=\u001B[39;49m\u001B[43mgc_after_trial\u001B[49m\u001B[43m,\u001B[49m\n\u001B[0;32m    460\u001B[0m \u001B[43m        \u001B[49m\u001B[43mshow_progress_bar\u001B[49m\u001B[38;5;241;43m=\u001B[39;49m\u001B[43mshow_progress_bar\u001B[49m\u001B[43m,\u001B[49m\n\u001B[0;32m    461\u001B[0m \u001B[43m    \u001B[49m\u001B[43m)\u001B[49m\n",
      "File \u001B[1;32m~\\anaconda3\\envs\\study\\lib\\site-packages\\optuna\\study\\_optimize.py:66\u001B[0m, in \u001B[0;36m_optimize\u001B[1;34m(study, func, n_trials, timeout, n_jobs, catch, callbacks, gc_after_trial, show_progress_bar)\u001B[0m\n\u001B[0;32m     64\u001B[0m \u001B[38;5;28;01mtry\u001B[39;00m:\n\u001B[0;32m     65\u001B[0m     \u001B[38;5;28;01mif\u001B[39;00m n_jobs \u001B[38;5;241m==\u001B[39m \u001B[38;5;241m1\u001B[39m:\n\u001B[1;32m---> 66\u001B[0m         \u001B[43m_optimize_sequential\u001B[49m\u001B[43m(\u001B[49m\n\u001B[0;32m     67\u001B[0m \u001B[43m            \u001B[49m\u001B[43mstudy\u001B[49m\u001B[43m,\u001B[49m\n\u001B[0;32m     68\u001B[0m \u001B[43m            \u001B[49m\u001B[43mfunc\u001B[49m\u001B[43m,\u001B[49m\n\u001B[0;32m     69\u001B[0m \u001B[43m            \u001B[49m\u001B[43mn_trials\u001B[49m\u001B[43m,\u001B[49m\n\u001B[0;32m     70\u001B[0m \u001B[43m            \u001B[49m\u001B[43mtimeout\u001B[49m\u001B[43m,\u001B[49m\n\u001B[0;32m     71\u001B[0m \u001B[43m            \u001B[49m\u001B[43mcatch\u001B[49m\u001B[43m,\u001B[49m\n\u001B[0;32m     72\u001B[0m \u001B[43m            \u001B[49m\u001B[43mcallbacks\u001B[49m\u001B[43m,\u001B[49m\n\u001B[0;32m     73\u001B[0m \u001B[43m            \u001B[49m\u001B[43mgc_after_trial\u001B[49m\u001B[43m,\u001B[49m\n\u001B[0;32m     74\u001B[0m \u001B[43m            \u001B[49m\u001B[43mreseed_sampler_rng\u001B[49m\u001B[38;5;241;43m=\u001B[39;49m\u001B[38;5;28;43;01mFalse\u001B[39;49;00m\u001B[43m,\u001B[49m\n\u001B[0;32m     75\u001B[0m \u001B[43m            \u001B[49m\u001B[43mtime_start\u001B[49m\u001B[38;5;241;43m=\u001B[39;49m\u001B[38;5;28;43;01mNone\u001B[39;49;00m\u001B[43m,\u001B[49m\n\u001B[0;32m     76\u001B[0m \u001B[43m            \u001B[49m\u001B[43mprogress_bar\u001B[49m\u001B[38;5;241;43m=\u001B[39;49m\u001B[43mprogress_bar\u001B[49m\u001B[43m,\u001B[49m\n\u001B[0;32m     77\u001B[0m \u001B[43m        \u001B[49m\u001B[43m)\u001B[49m\n\u001B[0;32m     78\u001B[0m     \u001B[38;5;28;01melse\u001B[39;00m:\n\u001B[0;32m     79\u001B[0m         \u001B[38;5;28;01mif\u001B[39;00m n_jobs \u001B[38;5;241m==\u001B[39m \u001B[38;5;241m-\u001B[39m\u001B[38;5;241m1\u001B[39m:\n",
      "File \u001B[1;32m~\\anaconda3\\envs\\study\\lib\\site-packages\\optuna\\study\\_optimize.py:163\u001B[0m, in \u001B[0;36m_optimize_sequential\u001B[1;34m(study, func, n_trials, timeout, catch, callbacks, gc_after_trial, reseed_sampler_rng, time_start, progress_bar)\u001B[0m\n\u001B[0;32m    160\u001B[0m         \u001B[38;5;28;01mbreak\u001B[39;00m\n\u001B[0;32m    162\u001B[0m \u001B[38;5;28;01mtry\u001B[39;00m:\n\u001B[1;32m--> 163\u001B[0m     frozen_trial \u001B[38;5;241m=\u001B[39m \u001B[43m_run_trial\u001B[49m\u001B[43m(\u001B[49m\u001B[43mstudy\u001B[49m\u001B[43m,\u001B[49m\u001B[43m \u001B[49m\u001B[43mfunc\u001B[49m\u001B[43m,\u001B[49m\u001B[43m \u001B[49m\u001B[43mcatch\u001B[49m\u001B[43m)\u001B[49m\n\u001B[0;32m    164\u001B[0m \u001B[38;5;28;01mfinally\u001B[39;00m:\n\u001B[0;32m    165\u001B[0m     \u001B[38;5;66;03m# The following line mitigates memory problems that can be occurred in some\u001B[39;00m\n\u001B[0;32m    166\u001B[0m     \u001B[38;5;66;03m# environments (e.g., services that use computing containers such as GitHub Actions).\u001B[39;00m\n\u001B[0;32m    167\u001B[0m     \u001B[38;5;66;03m# Please refer to the following PR for further details:\u001B[39;00m\n\u001B[0;32m    168\u001B[0m     \u001B[38;5;66;03m# https://github.com/optuna/optuna/pull/325.\u001B[39;00m\n\u001B[0;32m    169\u001B[0m     \u001B[38;5;28;01mif\u001B[39;00m gc_after_trial:\n",
      "File \u001B[1;32m~\\anaconda3\\envs\\study\\lib\\site-packages\\optuna\\study\\_optimize.py:251\u001B[0m, in \u001B[0;36m_run_trial\u001B[1;34m(study, func, catch)\u001B[0m\n\u001B[0;32m    244\u001B[0m         \u001B[38;5;28;01massert\u001B[39;00m \u001B[38;5;28;01mFalse\u001B[39;00m, \u001B[38;5;124m\"\u001B[39m\u001B[38;5;124mShould not reach.\u001B[39m\u001B[38;5;124m\"\u001B[39m\n\u001B[0;32m    246\u001B[0m \u001B[38;5;28;01mif\u001B[39;00m (\n\u001B[0;32m    247\u001B[0m     frozen_trial\u001B[38;5;241m.\u001B[39mstate \u001B[38;5;241m==\u001B[39m TrialState\u001B[38;5;241m.\u001B[39mFAIL\n\u001B[0;32m    248\u001B[0m     \u001B[38;5;129;01mand\u001B[39;00m func_err \u001B[38;5;129;01mis\u001B[39;00m \u001B[38;5;129;01mnot\u001B[39;00m \u001B[38;5;28;01mNone\u001B[39;00m\n\u001B[0;32m    249\u001B[0m     \u001B[38;5;129;01mand\u001B[39;00m \u001B[38;5;129;01mnot\u001B[39;00m \u001B[38;5;28misinstance\u001B[39m(func_err, catch)\n\u001B[0;32m    250\u001B[0m ):\n\u001B[1;32m--> 251\u001B[0m     \u001B[38;5;28;01mraise\u001B[39;00m func_err\n\u001B[0;32m    252\u001B[0m \u001B[38;5;28;01mreturn\u001B[39;00m frozen_trial\n",
      "File \u001B[1;32m~\\anaconda3\\envs\\study\\lib\\site-packages\\optuna\\study\\_optimize.py:200\u001B[0m, in \u001B[0;36m_run_trial\u001B[1;34m(study, func, catch)\u001B[0m\n\u001B[0;32m    198\u001B[0m \u001B[38;5;28;01mwith\u001B[39;00m get_heartbeat_thread(trial\u001B[38;5;241m.\u001B[39m_trial_id, study\u001B[38;5;241m.\u001B[39m_storage):\n\u001B[0;32m    199\u001B[0m     \u001B[38;5;28;01mtry\u001B[39;00m:\n\u001B[1;32m--> 200\u001B[0m         value_or_values \u001B[38;5;241m=\u001B[39m \u001B[43mfunc\u001B[49m\u001B[43m(\u001B[49m\u001B[43mtrial\u001B[49m\u001B[43m)\u001B[49m\n\u001B[0;32m    201\u001B[0m     \u001B[38;5;28;01mexcept\u001B[39;00m exceptions\u001B[38;5;241m.\u001B[39mTrialPruned \u001B[38;5;28;01mas\u001B[39;00m e:\n\u001B[0;32m    202\u001B[0m         \u001B[38;5;66;03m# TODO(mamu): Handle multi-objective cases.\u001B[39;00m\n\u001B[0;32m    203\u001B[0m         state \u001B[38;5;241m=\u001B[39m TrialState\u001B[38;5;241m.\u001B[39mPRUNED\n",
      "Cell \u001B[1;32mIn[29], line 23\u001B[0m, in \u001B[0;36mobjective\u001B[1;34m(trial)\u001B[0m\n\u001B[0;32m     21\u001B[0m \u001B[38;5;66;03m# XGBoost 모델 초기화 및 훈련\u001B[39;00m\n\u001B[0;32m     22\u001B[0m model \u001B[38;5;241m=\u001B[39m XGBRegressor(\u001B[38;5;241m*\u001B[39m\u001B[38;5;241m*\u001B[39mparam)\n\u001B[1;32m---> 23\u001B[0m \u001B[43mmodel\u001B[49m\u001B[38;5;241;43m.\u001B[39;49m\u001B[43mfit\u001B[49m\u001B[43m(\u001B[49m\u001B[43mX_train\u001B[49m\u001B[43m,\u001B[49m\u001B[43m \u001B[49m\u001B[43my_train\u001B[49m\u001B[43m)\u001B[49m\n\u001B[0;32m     25\u001B[0m \u001B[38;5;66;03m# 예측 및 RMSE 계산\u001B[39;00m\n\u001B[0;32m     26\u001B[0m preds \u001B[38;5;241m=\u001B[39m model\u001B[38;5;241m.\u001B[39mpredict(X_test)\n",
      "File \u001B[1;32m~\\anaconda3\\envs\\study\\lib\\site-packages\\xgboost\\core.py:730\u001B[0m, in \u001B[0;36mrequire_keyword_args.<locals>.throw_if.<locals>.inner_f\u001B[1;34m(*args, **kwargs)\u001B[0m\n\u001B[0;32m    728\u001B[0m \u001B[38;5;28;01mfor\u001B[39;00m k, arg \u001B[38;5;129;01min\u001B[39;00m \u001B[38;5;28mzip\u001B[39m(sig\u001B[38;5;241m.\u001B[39mparameters, args):\n\u001B[0;32m    729\u001B[0m     kwargs[k] \u001B[38;5;241m=\u001B[39m arg\n\u001B[1;32m--> 730\u001B[0m \u001B[38;5;28;01mreturn\u001B[39;00m func(\u001B[38;5;241m*\u001B[39m\u001B[38;5;241m*\u001B[39mkwargs)\n",
      "File \u001B[1;32m~\\anaconda3\\envs\\study\\lib\\site-packages\\xgboost\\sklearn.py:1090\u001B[0m, in \u001B[0;36mXGBModel.fit\u001B[1;34m(self, X, y, sample_weight, base_margin, eval_set, eval_metric, early_stopping_rounds, verbose, xgb_model, sample_weight_eval_set, base_margin_eval_set, feature_weights, callbacks)\u001B[0m\n\u001B[0;32m   1079\u001B[0m     obj \u001B[38;5;241m=\u001B[39m \u001B[38;5;28;01mNone\u001B[39;00m\n\u001B[0;32m   1081\u001B[0m (\n\u001B[0;32m   1082\u001B[0m     model,\n\u001B[0;32m   1083\u001B[0m     metric,\n\u001B[1;32m   (...)\u001B[0m\n\u001B[0;32m   1088\u001B[0m     xgb_model, eval_metric, params, early_stopping_rounds, callbacks\n\u001B[0;32m   1089\u001B[0m )\n\u001B[1;32m-> 1090\u001B[0m \u001B[38;5;28mself\u001B[39m\u001B[38;5;241m.\u001B[39m_Booster \u001B[38;5;241m=\u001B[39m \u001B[43mtrain\u001B[49m\u001B[43m(\u001B[49m\n\u001B[0;32m   1091\u001B[0m \u001B[43m    \u001B[49m\u001B[43mparams\u001B[49m\u001B[43m,\u001B[49m\n\u001B[0;32m   1092\u001B[0m \u001B[43m    \u001B[49m\u001B[43mtrain_dmatrix\u001B[49m\u001B[43m,\u001B[49m\n\u001B[0;32m   1093\u001B[0m \u001B[43m    \u001B[49m\u001B[38;5;28;43mself\u001B[39;49m\u001B[38;5;241;43m.\u001B[39;49m\u001B[43mget_num_boosting_rounds\u001B[49m\u001B[43m(\u001B[49m\u001B[43m)\u001B[49m\u001B[43m,\u001B[49m\n\u001B[0;32m   1094\u001B[0m \u001B[43m    \u001B[49m\u001B[43mevals\u001B[49m\u001B[38;5;241;43m=\u001B[39;49m\u001B[43mevals\u001B[49m\u001B[43m,\u001B[49m\n\u001B[0;32m   1095\u001B[0m \u001B[43m    \u001B[49m\u001B[43mearly_stopping_rounds\u001B[49m\u001B[38;5;241;43m=\u001B[39;49m\u001B[43mearly_stopping_rounds\u001B[49m\u001B[43m,\u001B[49m\n\u001B[0;32m   1096\u001B[0m \u001B[43m    \u001B[49m\u001B[43mevals_result\u001B[49m\u001B[38;5;241;43m=\u001B[39;49m\u001B[43mevals_result\u001B[49m\u001B[43m,\u001B[49m\n\u001B[0;32m   1097\u001B[0m \u001B[43m    \u001B[49m\u001B[43mobj\u001B[49m\u001B[38;5;241;43m=\u001B[39;49m\u001B[43mobj\u001B[49m\u001B[43m,\u001B[49m\n\u001B[0;32m   1098\u001B[0m \u001B[43m    \u001B[49m\u001B[43mcustom_metric\u001B[49m\u001B[38;5;241;43m=\u001B[39;49m\u001B[43mmetric\u001B[49m\u001B[43m,\u001B[49m\n\u001B[0;32m   1099\u001B[0m \u001B[43m    \u001B[49m\u001B[43mverbose_eval\u001B[49m\u001B[38;5;241;43m=\u001B[39;49m\u001B[43mverbose\u001B[49m\u001B[43m,\u001B[49m\n\u001B[0;32m   1100\u001B[0m \u001B[43m    \u001B[49m\u001B[43mxgb_model\u001B[49m\u001B[38;5;241;43m=\u001B[39;49m\u001B[43mmodel\u001B[49m\u001B[43m,\u001B[49m\n\u001B[0;32m   1101\u001B[0m \u001B[43m    \u001B[49m\u001B[43mcallbacks\u001B[49m\u001B[38;5;241;43m=\u001B[39;49m\u001B[43mcallbacks\u001B[49m\u001B[43m,\u001B[49m\n\u001B[0;32m   1102\u001B[0m \u001B[43m\u001B[49m\u001B[43m)\u001B[49m\n\u001B[0;32m   1104\u001B[0m \u001B[38;5;28mself\u001B[39m\u001B[38;5;241m.\u001B[39m_set_evaluation_result(evals_result)\n\u001B[0;32m   1105\u001B[0m \u001B[38;5;28;01mreturn\u001B[39;00m \u001B[38;5;28mself\u001B[39m\n",
      "File \u001B[1;32m~\\anaconda3\\envs\\study\\lib\\site-packages\\xgboost\\core.py:730\u001B[0m, in \u001B[0;36mrequire_keyword_args.<locals>.throw_if.<locals>.inner_f\u001B[1;34m(*args, **kwargs)\u001B[0m\n\u001B[0;32m    728\u001B[0m \u001B[38;5;28;01mfor\u001B[39;00m k, arg \u001B[38;5;129;01min\u001B[39;00m \u001B[38;5;28mzip\u001B[39m(sig\u001B[38;5;241m.\u001B[39mparameters, args):\n\u001B[0;32m    729\u001B[0m     kwargs[k] \u001B[38;5;241m=\u001B[39m arg\n\u001B[1;32m--> 730\u001B[0m \u001B[38;5;28;01mreturn\u001B[39;00m func(\u001B[38;5;241m*\u001B[39m\u001B[38;5;241m*\u001B[39mkwargs)\n",
      "File \u001B[1;32m~\\anaconda3\\envs\\study\\lib\\site-packages\\xgboost\\training.py:181\u001B[0m, in \u001B[0;36mtrain\u001B[1;34m(params, dtrain, num_boost_round, evals, obj, feval, maximize, early_stopping_rounds, evals_result, verbose_eval, xgb_model, callbacks, custom_metric)\u001B[0m\n\u001B[0;32m    179\u001B[0m \u001B[38;5;28;01mif\u001B[39;00m cb_container\u001B[38;5;241m.\u001B[39mbefore_iteration(bst, i, dtrain, evals):\n\u001B[0;32m    180\u001B[0m     \u001B[38;5;28;01mbreak\u001B[39;00m\n\u001B[1;32m--> 181\u001B[0m \u001B[43mbst\u001B[49m\u001B[38;5;241;43m.\u001B[39;49m\u001B[43mupdate\u001B[49m\u001B[43m(\u001B[49m\u001B[43mdtrain\u001B[49m\u001B[43m,\u001B[49m\u001B[43m \u001B[49m\u001B[43mi\u001B[49m\u001B[43m,\u001B[49m\u001B[43m \u001B[49m\u001B[43mobj\u001B[49m\u001B[43m)\u001B[49m\n\u001B[0;32m    182\u001B[0m \u001B[38;5;28;01mif\u001B[39;00m cb_container\u001B[38;5;241m.\u001B[39mafter_iteration(bst, i, dtrain, evals):\n\u001B[0;32m    183\u001B[0m     \u001B[38;5;28;01mbreak\u001B[39;00m\n",
      "File \u001B[1;32m~\\anaconda3\\envs\\study\\lib\\site-packages\\xgboost\\core.py:2051\u001B[0m, in \u001B[0;36mBooster.update\u001B[1;34m(self, dtrain, iteration, fobj)\u001B[0m\n\u001B[0;32m   2047\u001B[0m \u001B[38;5;28mself\u001B[39m\u001B[38;5;241m.\u001B[39m_assign_dmatrix_features(dtrain)\n\u001B[0;32m   2049\u001B[0m \u001B[38;5;28;01mif\u001B[39;00m fobj \u001B[38;5;129;01mis\u001B[39;00m \u001B[38;5;28;01mNone\u001B[39;00m:\n\u001B[0;32m   2050\u001B[0m     _check_call(\n\u001B[1;32m-> 2051\u001B[0m         \u001B[43m_LIB\u001B[49m\u001B[38;5;241;43m.\u001B[39;49m\u001B[43mXGBoosterUpdateOneIter\u001B[49m\u001B[43m(\u001B[49m\n\u001B[0;32m   2052\u001B[0m \u001B[43m            \u001B[49m\u001B[38;5;28;43mself\u001B[39;49m\u001B[38;5;241;43m.\u001B[39;49m\u001B[43mhandle\u001B[49m\u001B[43m,\u001B[49m\u001B[43m \u001B[49m\u001B[43mctypes\u001B[49m\u001B[38;5;241;43m.\u001B[39;49m\u001B[43mc_int\u001B[49m\u001B[43m(\u001B[49m\u001B[43miteration\u001B[49m\u001B[43m)\u001B[49m\u001B[43m,\u001B[49m\u001B[43m \u001B[49m\u001B[43mdtrain\u001B[49m\u001B[38;5;241;43m.\u001B[39;49m\u001B[43mhandle\u001B[49m\n\u001B[0;32m   2053\u001B[0m \u001B[43m        \u001B[49m\u001B[43m)\u001B[49m\n\u001B[0;32m   2054\u001B[0m     )\n\u001B[0;32m   2055\u001B[0m \u001B[38;5;28;01melse\u001B[39;00m:\n\u001B[0;32m   2056\u001B[0m     pred \u001B[38;5;241m=\u001B[39m \u001B[38;5;28mself\u001B[39m\u001B[38;5;241m.\u001B[39mpredict(dtrain, output_margin\u001B[38;5;241m=\u001B[39m\u001B[38;5;28;01mTrue\u001B[39;00m, training\u001B[38;5;241m=\u001B[39m\u001B[38;5;28;01mTrue\u001B[39;00m)\n",
      "\u001B[1;31mKeyboardInterrupt\u001B[0m: "
     ]
    }
   ],
   "source": [
    "import optuna\n",
    "from xgboost import XGBRegressor\n",
    "from sklearn.metrics import mean_squared_error\n",
    "import numpy as np\n",
    "\n",
    "# 데이터셋을 미리 준비하세요\n",
    "# X_train, X_test, y_train, y_test = train_test_split(...)\n",
    "\n",
    "def objective(trial):\n",
    "    # Optuna가 탐색할 파라미터 공간 정의\n",
    "    param = {\n",
    "        'objective': 'reg:squarederror',\n",
    "        'learning_rate': trial.suggest_float('learning_rate', 0.01, 0.3),\n",
    "        'n_estimators': trial.suggest_int('n_estimators', 100, 1000),\n",
    "        'max_depth': trial.suggest_int('max_depth', 3, 9),\n",
    "        'min_child_weight': trial.suggest_int('min_child_weight', 1, 9),\n",
    "        'subsample': trial.suggest_float('subsample', 0.5, 1.0),\n",
    "        'colsample_bytree': trial.suggest_float('colsample_bytree', 0.5, 1.0),\n",
    "    }\n",
    "\n",
    "    # XGBoost 모델 초기화 및 훈련\n",
    "    model = XGBRegressor(**param)\n",
    "    model.fit(X_train, y_train)\n",
    "\n",
    "    # 예측 및 RMSE 계산\n",
    "    preds = model.predict(X_test)\n",
    "    preds[preds < 100] = 0\n",
    "    rmse = np.sqrt(mean_squared_error(y_test, preds))\n",
    "\n",
    "    return rmse\n",
    "\n",
    "# Optuna study 객체 생성 및 최적화 실행\n",
    "study = optuna.create_study(direction='minimize')\n",
    "study.optimize(objective, n_trials=100) # n_trials: 시도할 횟수\n",
    "\n",
    "# 최적의 파라미터 출력\n",
    "print(f\"Best trial: {study.best_trial.params}\")"
   ],
   "metadata": {
    "collapsed": false,
    "ExecuteTime": {
     "end_time": "2024-03-28T02:12:08.343893500Z",
     "start_time": "2024-03-28T02:11:40.758761Z"
    }
   },
   "id": "719b3ce4e14571fd"
  },
  {
   "cell_type": "code",
   "execution_count": 30,
   "outputs": [
    {
     "name": "stdout",
     "output_type": "stream",
     "text": [
      "XGB RMSE: 524.8821780389111\n"
     ]
    }
   ],
   "source": [
    "from xgboost import XGBRegressor\n",
    "\n",
    "# XGBRegressor 모델 초기화\n",
    "xgb_model = XGBRegressor(objective='reg:squarederror',\n",
    "                         learning_rate =0.022685065748377198,\n",
    "                         n_estimators= 390,\n",
    "                         max_depth= 6,\n",
    "                         min_child_weight= 9,\n",
    "                         subsample= 0.659653636923127,\n",
    "                         colsample_bytree= 0.5006822194941765,\n",
    "                         \n",
    ")\n",
    "\n",
    "# 모델 훈련\n",
    "xgb_model.fit(X_train, y_train)\n",
    "\n",
    "# 테스트 데이터에 대한 예측 수행\n",
    "y_pred_xgb = xgb_model.predict(X_test)\n",
    "y_pred_xgb[y_pred_xgb<100] = 0\n",
    "# RMSE 계산\n",
    "rmse_xgb = mean_squared_error(y_test, y_pred_xgb, squared=False)\n",
    "print(f\"XGB RMSE: {rmse_xgb}\")"
   ],
   "metadata": {
    "collapsed": false,
    "ExecuteTime": {
     "end_time": "2024-03-28T02:13:54.735896500Z",
     "start_time": "2024-03-28T02:13:54.126478700Z"
    }
   },
   "id": "2b1845afcc0caca1"
  },
  {
   "cell_type": "code",
   "execution_count": 31,
   "outputs": [],
   "source": [
    "pred_final = xgb_model.predict(test)\n",
    "# pred_final = np.expm1(pred_final)\n",
    "pred_final[pred_final<100] = 0"
   ],
   "metadata": {
    "collapsed": false,
    "ExecuteTime": {
     "end_time": "2024-03-28T02:13:58.359761800Z",
     "start_time": "2024-03-28T02:13:58.306903500Z"
    }
   },
   "id": "acda7f5dd8135687"
  },
  {
   "cell_type": "code",
   "execution_count": 32,
   "outputs": [
    {
     "data": {
      "text/plain": "             ID      Income\n0     TEST_0000    0.000000\n1     TEST_0001    0.000000\n2     TEST_0002  420.344910\n3     TEST_0003  619.469116\n4     TEST_0004    0.000000\n...         ...         ...\n9995  TEST_9995  931.887573\n9996  TEST_9996  791.552917\n9997  TEST_9997  386.226105\n9998  TEST_9998    0.000000\n9999  TEST_9999  714.651184\n\n[10000 rows x 2 columns]",
      "text/html": "<div>\n<style scoped>\n    .dataframe tbody tr th:only-of-type {\n        vertical-align: middle;\n    }\n\n    .dataframe tbody tr th {\n        vertical-align: top;\n    }\n\n    .dataframe thead th {\n        text-align: right;\n    }\n</style>\n<table border=\"1\" class=\"dataframe\">\n  <thead>\n    <tr style=\"text-align: right;\">\n      <th></th>\n      <th>ID</th>\n      <th>Income</th>\n    </tr>\n  </thead>\n  <tbody>\n    <tr>\n      <th>0</th>\n      <td>TEST_0000</td>\n      <td>0.000000</td>\n    </tr>\n    <tr>\n      <th>1</th>\n      <td>TEST_0001</td>\n      <td>0.000000</td>\n    </tr>\n    <tr>\n      <th>2</th>\n      <td>TEST_0002</td>\n      <td>420.344910</td>\n    </tr>\n    <tr>\n      <th>3</th>\n      <td>TEST_0003</td>\n      <td>619.469116</td>\n    </tr>\n    <tr>\n      <th>4</th>\n      <td>TEST_0004</td>\n      <td>0.000000</td>\n    </tr>\n    <tr>\n      <th>...</th>\n      <td>...</td>\n      <td>...</td>\n    </tr>\n    <tr>\n      <th>9995</th>\n      <td>TEST_9995</td>\n      <td>931.887573</td>\n    </tr>\n    <tr>\n      <th>9996</th>\n      <td>TEST_9996</td>\n      <td>791.552917</td>\n    </tr>\n    <tr>\n      <th>9997</th>\n      <td>TEST_9997</td>\n      <td>386.226105</td>\n    </tr>\n    <tr>\n      <th>9998</th>\n      <td>TEST_9998</td>\n      <td>0.000000</td>\n    </tr>\n    <tr>\n      <th>9999</th>\n      <td>TEST_9999</td>\n      <td>714.651184</td>\n    </tr>\n  </tbody>\n</table>\n<p>10000 rows × 2 columns</p>\n</div>"
     },
     "execution_count": 32,
     "metadata": {},
     "output_type": "execute_result"
    }
   ],
   "source": [
    "submission = pd.read_csv(\"../data/sample_submission.csv\")\n",
    "submission['Income'] = pred_final\n",
    "submission"
   ],
   "metadata": {
    "collapsed": false,
    "ExecuteTime": {
     "end_time": "2024-03-28T02:14:00.083946300Z",
     "start_time": "2024-03-28T02:14:00.050790300Z"
    }
   },
   "id": "6bd6d83021a2cdf"
  },
  {
   "cell_type": "code",
   "execution_count": 33,
   "outputs": [],
   "source": [
    "submission.to_csv(\"../submission/test8.csv\", index = False)"
   ],
   "metadata": {
    "collapsed": false,
    "ExecuteTime": {
     "end_time": "2024-03-28T02:14:04.550403300Z",
     "start_time": "2024-03-28T02:14:04.517492600Z"
    }
   },
   "id": "a99e9c831debac82"
  },
  {
   "cell_type": "code",
   "execution_count": null,
   "outputs": [],
   "source": [],
   "metadata": {
    "collapsed": false
   },
   "id": "b47c2982003a4169"
  }
 ],
 "metadata": {
  "kernelspec": {
   "display_name": "Python 3",
   "language": "python",
   "name": "python3"
  },
  "language_info": {
   "codemirror_mode": {
    "name": "ipython",
    "version": 2
   },
   "file_extension": ".py",
   "mimetype": "text/x-python",
   "name": "python",
   "nbconvert_exporter": "python",
   "pygments_lexer": "ipython2",
   "version": "2.7.6"
  }
 },
 "nbformat": 4,
 "nbformat_minor": 5
}

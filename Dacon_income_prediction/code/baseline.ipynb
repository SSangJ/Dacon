{
 "cells": [
  {
   "cell_type": "code",
   "execution_count": 1,
   "id": "initial_id",
   "metadata": {
    "collapsed": true,
    "ExecuteTime": {
     "end_time": "2024-03-26T13:36:33.537039800Z",
     "start_time": "2024-03-26T13:36:33.522078700Z"
    }
   },
   "outputs": [],
   "source": [
    "import numpy as np\n",
    "import random\n",
    "import os\n",
    "\n",
    "def seed_everything(seed):\n",
    "    random.seed(seed)\n",
    "    os.environ['PYTHONHASHSEED'] = str(seed)\n",
    "    np.random.seed(seed)\n",
    "\n",
    "seed_everything(42) # Seed 고정"
   ]
  },
  {
   "cell_type": "code",
   "execution_count": 2,
   "outputs": [
    {
     "data": {
      "text/plain": "            ID  Age Gender                Education_Status Employment_Status  \\\n0  TRAIN_00000   63      M                    Middle (7-8)         Full-Time   \n1  TRAIN_00001   37      M  Associates degree (Vocational)         Full-Time   \n2  TRAIN_00002   58      F                   High graduate         Full-Time   \n\n   Working_Week (Yearly)              Industry_Status  \\\n0                      4              Social Services   \n1                     52                Entertainment   \n2                     52  Manufacturing (Non-durable)   \n\n                  Occupation_Status   Race Hispanic_Origin  ... Citizenship  \\\n0                          Services  White       All other  ...      Native   \n1                          Services  White       All other  ...      Native   \n2  Admin Support (include Clerical)  Black       All other  ...      Native   \n\n  Birth_Country Birth_Country (Father) Birth_Country (Mother)  \\\n0            US                     US                     US   \n1            US                     US                     US   \n2            US                     US                     US   \n\n                                    Tax_Status Gains Losses Dividends  \\\n0                                     Nonfiler     0      0         0   \n1                                       Single     0      0         0   \n2  Married Filling Jointly both under 65 (MFJ)  3411      0         0   \n\n   Income_Status  Income  \n0        Unknown     425  \n1   Under Median       0  \n2   Under Median     860  \n\n[3 rows x 23 columns]",
      "text/html": "<div>\n<style scoped>\n    .dataframe tbody tr th:only-of-type {\n        vertical-align: middle;\n    }\n\n    .dataframe tbody tr th {\n        vertical-align: top;\n    }\n\n    .dataframe thead th {\n        text-align: right;\n    }\n</style>\n<table border=\"1\" class=\"dataframe\">\n  <thead>\n    <tr style=\"text-align: right;\">\n      <th></th>\n      <th>ID</th>\n      <th>Age</th>\n      <th>Gender</th>\n      <th>Education_Status</th>\n      <th>Employment_Status</th>\n      <th>Working_Week (Yearly)</th>\n      <th>Industry_Status</th>\n      <th>Occupation_Status</th>\n      <th>Race</th>\n      <th>Hispanic_Origin</th>\n      <th>...</th>\n      <th>Citizenship</th>\n      <th>Birth_Country</th>\n      <th>Birth_Country (Father)</th>\n      <th>Birth_Country (Mother)</th>\n      <th>Tax_Status</th>\n      <th>Gains</th>\n      <th>Losses</th>\n      <th>Dividends</th>\n      <th>Income_Status</th>\n      <th>Income</th>\n    </tr>\n  </thead>\n  <tbody>\n    <tr>\n      <th>0</th>\n      <td>TRAIN_00000</td>\n      <td>63</td>\n      <td>M</td>\n      <td>Middle (7-8)</td>\n      <td>Full-Time</td>\n      <td>4</td>\n      <td>Social Services</td>\n      <td>Services</td>\n      <td>White</td>\n      <td>All other</td>\n      <td>...</td>\n      <td>Native</td>\n      <td>US</td>\n      <td>US</td>\n      <td>US</td>\n      <td>Nonfiler</td>\n      <td>0</td>\n      <td>0</td>\n      <td>0</td>\n      <td>Unknown</td>\n      <td>425</td>\n    </tr>\n    <tr>\n      <th>1</th>\n      <td>TRAIN_00001</td>\n      <td>37</td>\n      <td>M</td>\n      <td>Associates degree (Vocational)</td>\n      <td>Full-Time</td>\n      <td>52</td>\n      <td>Entertainment</td>\n      <td>Services</td>\n      <td>White</td>\n      <td>All other</td>\n      <td>...</td>\n      <td>Native</td>\n      <td>US</td>\n      <td>US</td>\n      <td>US</td>\n      <td>Single</td>\n      <td>0</td>\n      <td>0</td>\n      <td>0</td>\n      <td>Under Median</td>\n      <td>0</td>\n    </tr>\n    <tr>\n      <th>2</th>\n      <td>TRAIN_00002</td>\n      <td>58</td>\n      <td>F</td>\n      <td>High graduate</td>\n      <td>Full-Time</td>\n      <td>52</td>\n      <td>Manufacturing (Non-durable)</td>\n      <td>Admin Support (include Clerical)</td>\n      <td>Black</td>\n      <td>All other</td>\n      <td>...</td>\n      <td>Native</td>\n      <td>US</td>\n      <td>US</td>\n      <td>US</td>\n      <td>Married Filling Jointly both under 65 (MFJ)</td>\n      <td>3411</td>\n      <td>0</td>\n      <td>0</td>\n      <td>Under Median</td>\n      <td>860</td>\n    </tr>\n  </tbody>\n</table>\n<p>3 rows × 23 columns</p>\n</div>"
     },
     "metadata": {},
     "output_type": "display_data"
    },
    {
     "data": {
      "text/plain": "          ID  Age Gender  Education_Status         Employment_Status  \\\n0  TEST_0000   79      M       High Junior  Children or Armed Forces   \n1  TEST_0001   47      M  Elementary (5-6)  Children or Armed Forces   \n2  TEST_0002   18      F       High Junior  Children or Armed Forces   \n\n   Working_Week (Yearly)              Industry_Status Occupation_Status  \\\n0                      0  Not in universe or children           Unknown   \n1                      0  Not in universe or children           Unknown   \n2                     52                       Retail          Services   \n\n    Race Hispanic_Origin  ...  Household_Summary Citizenship Birth_Country  \\\n0  White       All other  ...        Householder      Native            US   \n1  White   Other Spanish  ...  Child 18 or older      Native            US   \n2  White       All other  ...  Child 18 or older      Native            US   \n\n  Birth_Country (Father) Birth_Country (Mother) Tax_Status Gains Losses  \\\n0                Unknown                Unknown     Single     0      0   \n1                     US                     US   Nonfiler     0      0   \n2                     US                     US     Single     0      0   \n\n   Dividends  Income_Status  \n0          0   Under Median  \n1          0   Under Median  \n2          0   Under Median  \n\n[3 rows x 22 columns]",
      "text/html": "<div>\n<style scoped>\n    .dataframe tbody tr th:only-of-type {\n        vertical-align: middle;\n    }\n\n    .dataframe tbody tr th {\n        vertical-align: top;\n    }\n\n    .dataframe thead th {\n        text-align: right;\n    }\n</style>\n<table border=\"1\" class=\"dataframe\">\n  <thead>\n    <tr style=\"text-align: right;\">\n      <th></th>\n      <th>ID</th>\n      <th>Age</th>\n      <th>Gender</th>\n      <th>Education_Status</th>\n      <th>Employment_Status</th>\n      <th>Working_Week (Yearly)</th>\n      <th>Industry_Status</th>\n      <th>Occupation_Status</th>\n      <th>Race</th>\n      <th>Hispanic_Origin</th>\n      <th>...</th>\n      <th>Household_Summary</th>\n      <th>Citizenship</th>\n      <th>Birth_Country</th>\n      <th>Birth_Country (Father)</th>\n      <th>Birth_Country (Mother)</th>\n      <th>Tax_Status</th>\n      <th>Gains</th>\n      <th>Losses</th>\n      <th>Dividends</th>\n      <th>Income_Status</th>\n    </tr>\n  </thead>\n  <tbody>\n    <tr>\n      <th>0</th>\n      <td>TEST_0000</td>\n      <td>79</td>\n      <td>M</td>\n      <td>High Junior</td>\n      <td>Children or Armed Forces</td>\n      <td>0</td>\n      <td>Not in universe or children</td>\n      <td>Unknown</td>\n      <td>White</td>\n      <td>All other</td>\n      <td>...</td>\n      <td>Householder</td>\n      <td>Native</td>\n      <td>US</td>\n      <td>Unknown</td>\n      <td>Unknown</td>\n      <td>Single</td>\n      <td>0</td>\n      <td>0</td>\n      <td>0</td>\n      <td>Under Median</td>\n    </tr>\n    <tr>\n      <th>1</th>\n      <td>TEST_0001</td>\n      <td>47</td>\n      <td>M</td>\n      <td>Elementary (5-6)</td>\n      <td>Children or Armed Forces</td>\n      <td>0</td>\n      <td>Not in universe or children</td>\n      <td>Unknown</td>\n      <td>White</td>\n      <td>Other Spanish</td>\n      <td>...</td>\n      <td>Child 18 or older</td>\n      <td>Native</td>\n      <td>US</td>\n      <td>US</td>\n      <td>US</td>\n      <td>Nonfiler</td>\n      <td>0</td>\n      <td>0</td>\n      <td>0</td>\n      <td>Under Median</td>\n    </tr>\n    <tr>\n      <th>2</th>\n      <td>TEST_0002</td>\n      <td>18</td>\n      <td>F</td>\n      <td>High Junior</td>\n      <td>Children or Armed Forces</td>\n      <td>52</td>\n      <td>Retail</td>\n      <td>Services</td>\n      <td>White</td>\n      <td>All other</td>\n      <td>...</td>\n      <td>Child 18 or older</td>\n      <td>Native</td>\n      <td>US</td>\n      <td>US</td>\n      <td>US</td>\n      <td>Single</td>\n      <td>0</td>\n      <td>0</td>\n      <td>0</td>\n      <td>Under Median</td>\n    </tr>\n  </tbody>\n</table>\n<p>3 rows × 22 columns</p>\n</div>"
     },
     "metadata": {},
     "output_type": "display_data"
    }
   ],
   "source": [
    "import pandas as pd\n",
    "\n",
    "train = pd.read_csv('../data/train.csv')\n",
    "test = pd.read_csv('../data/test.csv')\n",
    "\n",
    "display(train.head(3))\n",
    "display(test.head(3))"
   ],
   "metadata": {
    "collapsed": false,
    "ExecuteTime": {
     "end_time": "2024-03-26T13:36:40.930992100Z",
     "start_time": "2024-03-26T13:36:40.793314900Z"
    }
   },
   "id": "a8958f77add28a86"
  },
  {
   "cell_type": "code",
   "execution_count": 3,
   "outputs": [],
   "source": [
    "train_x = train.drop(columns=['ID', 'Income'])\n",
    "train_y = train['Income']\n",
    "\n",
    "test_x = test.drop(columns=['ID'])"
   ],
   "metadata": {
    "collapsed": false,
    "ExecuteTime": {
     "end_time": "2024-03-26T13:36:46.481982900Z",
     "start_time": "2024-03-26T13:36:46.440097100Z"
    }
   },
   "id": "976c28fdc3788d68"
  },
  {
   "cell_type": "code",
   "execution_count": 13,
   "outputs": [],
   "source": [
    "from sklearn.model_selection import train_test_split\n",
    "train_x, X_test, train_y, y_test = train_test_split(train_x, train_y, test_size=0.1, random_state=42, shuffle=True)"
   ],
   "metadata": {
    "collapsed": false,
    "ExecuteTime": {
     "end_time": "2024-03-27T02:11:36.283468900Z",
     "start_time": "2024-03-27T02:11:36.258537500Z"
    }
   },
   "id": "9b2549b91c308c59"
  },
  {
   "cell_type": "code",
   "execution_count": 14,
   "outputs": [],
   "source": [
    "from sklearn.preprocessing import LabelEncoder\n",
    "\n",
    "encoding_target = list(train_x.dtypes[train_x.dtypes == \"object\"].index)\n",
    "\n",
    "for i in encoding_target:\n",
    "    le = LabelEncoder()\n",
    "\n",
    "    # train과 test 데이터셋에서 해당 열의 모든 값을 문자열로 변환\n",
    "    train_x[i] = train_x[i].astype(str)\n",
    "    test_x[i] = test_x[i].astype(str)\n",
    "\n",
    "    le.fit(train_x[i])\n",
    "    train_x[i] = le.transform(train_x[i])\n",
    "\n",
    "    # test 데이터의 새로운 카테고리에 대해 le.classes_ 배열에 추가\n",
    "    for case in np.unique(test_x[i]):\n",
    "        if case not in le.classes_:\n",
    "            le.classes_ = np.append(le.classes_, case)\n",
    "\n",
    "    test_x[i] = le.transform(test_x[i])"
   ],
   "metadata": {
    "collapsed": false,
    "ExecuteTime": {
     "end_time": "2024-03-27T02:11:37.565784100Z",
     "start_time": "2024-03-27T02:11:37.554813800Z"
    }
   },
   "id": "edd989ec4570f2a"
  },
  {
   "cell_type": "code",
   "execution_count": 15,
   "outputs": [
    {
     "data": {
      "text/plain": "DecisionTreeRegressor()",
      "text/html": "<style>#sk-container-id-2 {color: black;}#sk-container-id-2 pre{padding: 0;}#sk-container-id-2 div.sk-toggleable {background-color: white;}#sk-container-id-2 label.sk-toggleable__label {cursor: pointer;display: block;width: 100%;margin-bottom: 0;padding: 0.3em;box-sizing: border-box;text-align: center;}#sk-container-id-2 label.sk-toggleable__label-arrow:before {content: \"▸\";float: left;margin-right: 0.25em;color: #696969;}#sk-container-id-2 label.sk-toggleable__label-arrow:hover:before {color: black;}#sk-container-id-2 div.sk-estimator:hover label.sk-toggleable__label-arrow:before {color: black;}#sk-container-id-2 div.sk-toggleable__content {max-height: 0;max-width: 0;overflow: hidden;text-align: left;background-color: #f0f8ff;}#sk-container-id-2 div.sk-toggleable__content pre {margin: 0.2em;color: black;border-radius: 0.25em;background-color: #f0f8ff;}#sk-container-id-2 input.sk-toggleable__control:checked~div.sk-toggleable__content {max-height: 200px;max-width: 100%;overflow: auto;}#sk-container-id-2 input.sk-toggleable__control:checked~label.sk-toggleable__label-arrow:before {content: \"▾\";}#sk-container-id-2 div.sk-estimator input.sk-toggleable__control:checked~label.sk-toggleable__label {background-color: #d4ebff;}#sk-container-id-2 div.sk-label input.sk-toggleable__control:checked~label.sk-toggleable__label {background-color: #d4ebff;}#sk-container-id-2 input.sk-hidden--visually {border: 0;clip: rect(1px 1px 1px 1px);clip: rect(1px, 1px, 1px, 1px);height: 1px;margin: -1px;overflow: hidden;padding: 0;position: absolute;width: 1px;}#sk-container-id-2 div.sk-estimator {font-family: monospace;background-color: #f0f8ff;border: 1px dotted black;border-radius: 0.25em;box-sizing: border-box;margin-bottom: 0.5em;}#sk-container-id-2 div.sk-estimator:hover {background-color: #d4ebff;}#sk-container-id-2 div.sk-parallel-item::after {content: \"\";width: 100%;border-bottom: 1px solid gray;flex-grow: 1;}#sk-container-id-2 div.sk-label:hover label.sk-toggleable__label {background-color: #d4ebff;}#sk-container-id-2 div.sk-serial::before {content: \"\";position: absolute;border-left: 1px solid gray;box-sizing: border-box;top: 0;bottom: 0;left: 50%;z-index: 0;}#sk-container-id-2 div.sk-serial {display: flex;flex-direction: column;align-items: center;background-color: white;padding-right: 0.2em;padding-left: 0.2em;position: relative;}#sk-container-id-2 div.sk-item {position: relative;z-index: 1;}#sk-container-id-2 div.sk-parallel {display: flex;align-items: stretch;justify-content: center;background-color: white;position: relative;}#sk-container-id-2 div.sk-item::before, #sk-container-id-2 div.sk-parallel-item::before {content: \"\";position: absolute;border-left: 1px solid gray;box-sizing: border-box;top: 0;bottom: 0;left: 50%;z-index: -1;}#sk-container-id-2 div.sk-parallel-item {display: flex;flex-direction: column;z-index: 1;position: relative;background-color: white;}#sk-container-id-2 div.sk-parallel-item:first-child::after {align-self: flex-end;width: 50%;}#sk-container-id-2 div.sk-parallel-item:last-child::after {align-self: flex-start;width: 50%;}#sk-container-id-2 div.sk-parallel-item:only-child::after {width: 0;}#sk-container-id-2 div.sk-dashed-wrapped {border: 1px dashed gray;margin: 0 0.4em 0.5em 0.4em;box-sizing: border-box;padding-bottom: 0.4em;background-color: white;}#sk-container-id-2 div.sk-label label {font-family: monospace;font-weight: bold;display: inline-block;line-height: 1.2em;}#sk-container-id-2 div.sk-label-container {text-align: center;}#sk-container-id-2 div.sk-container {/* jupyter's `normalize.less` sets `[hidden] { display: none; }` but bootstrap.min.css set `[hidden] { display: none !important; }` so we also need the `!important` here to be able to override the default hidden behavior on the sphinx rendered scikit-learn.org. See: https://github.com/scikit-learn/scikit-learn/issues/21755 */display: inline-block !important;position: relative;}#sk-container-id-2 div.sk-text-repr-fallback {display: none;}</style><div id=\"sk-container-id-2\" class=\"sk-top-container\"><div class=\"sk-text-repr-fallback\"><pre>DecisionTreeRegressor()</pre><b>In a Jupyter environment, please rerun this cell to show the HTML representation or trust the notebook. <br />On GitHub, the HTML representation is unable to render, please try loading this page with nbviewer.org.</b></div><div class=\"sk-container\" hidden><div class=\"sk-item\"><div class=\"sk-estimator sk-toggleable\"><input class=\"sk-toggleable__control sk-hidden--visually\" id=\"sk-estimator-id-2\" type=\"checkbox\" checked><label for=\"sk-estimator-id-2\" class=\"sk-toggleable__label sk-toggleable__label-arrow\">DecisionTreeRegressor</label><div class=\"sk-toggleable__content\"><pre>DecisionTreeRegressor()</pre></div></div></div></div></div>"
     },
     "execution_count": 15,
     "metadata": {},
     "output_type": "execute_result"
    }
   ],
   "source": [
    "from sklearn.tree import DecisionTreeRegressor\n",
    "\n",
    "model = DecisionTreeRegressor()\n",
    "model.fit(train_x, train_y)"
   ],
   "metadata": {
    "collapsed": false,
    "ExecuteTime": {
     "end_time": "2024-03-27T02:11:38.511961400Z",
     "start_time": "2024-03-27T02:11:38.315336100Z"
    }
   },
   "id": "a8ebab1f0a9de199"
  },
  {
   "cell_type": "code",
   "execution_count": 22,
   "outputs": [
    {
     "name": "stdout",
     "output_type": "stream",
     "text": [
      "dt RMSE: 835.1271730605033\n"
     ]
    }
   ],
   "source": [
    "from sklearn.metrics import mean_squared_error\n",
    "\n",
    "y_pred = model.predict(X_test)\n",
    "rmse_dt = mean_squared_error(y_test, y_pred, squared=False)\n",
    "print(f\"dt RMSE: {rmse_dt}\")"
   ],
   "metadata": {
    "collapsed": false,
    "ExecuteTime": {
     "end_time": "2024-03-27T02:14:41.455116100Z",
     "start_time": "2024-03-27T02:14:41.435168600Z"
    }
   },
   "id": "2a799f2f7113401f"
  },
  {
   "cell_type": "code",
   "execution_count": 22,
   "outputs": [],
   "source": [],
   "metadata": {
    "collapsed": false,
    "ExecuteTime": {
     "end_time": "2024-03-27T02:14:42.537274300Z",
     "start_time": "2024-03-27T02:14:42.515233600Z"
    }
   },
   "id": "7a29676f44991aed"
  },
  {
   "cell_type": "code",
   "execution_count": 23,
   "outputs": [],
   "source": [
    "preds = model.predict(test_x)"
   ],
   "metadata": {
    "collapsed": false,
    "ExecuteTime": {
     "end_time": "2024-03-27T02:14:43.494688400Z",
     "start_time": "2024-03-27T02:14:43.465017300Z"
    }
   },
   "id": "44b1ef77b06cfa9e"
  },
  {
   "cell_type": "code",
   "execution_count": 24,
   "outputs": [
    {
     "data": {
      "text/plain": "array([   0.,    0.,  500., ...,  425.,    0., 1400.])"
     },
     "execution_count": 24,
     "metadata": {},
     "output_type": "execute_result"
    }
   ],
   "source": [
    "preds"
   ],
   "metadata": {
    "collapsed": false,
    "ExecuteTime": {
     "end_time": "2024-03-27T02:14:43.940089800Z",
     "start_time": "2024-03-27T02:14:43.907466400Z"
    }
   },
   "id": "9e7ec3192bf9504f"
  },
  {
   "cell_type": "code",
   "execution_count": 25,
   "outputs": [
    {
     "data": {
      "text/plain": "             ID  Income\n0     TEST_0000     0.0\n1     TEST_0001     0.0\n2     TEST_0002   500.0\n3     TEST_0003   625.0\n4     TEST_0004     0.0\n...         ...     ...\n9995  TEST_9995  1700.0\n9996  TEST_9996  1200.0\n9997  TEST_9997   425.0\n9998  TEST_9998     0.0\n9999  TEST_9999  1400.0\n\n[10000 rows x 2 columns]",
      "text/html": "<div>\n<style scoped>\n    .dataframe tbody tr th:only-of-type {\n        vertical-align: middle;\n    }\n\n    .dataframe tbody tr th {\n        vertical-align: top;\n    }\n\n    .dataframe thead th {\n        text-align: right;\n    }\n</style>\n<table border=\"1\" class=\"dataframe\">\n  <thead>\n    <tr style=\"text-align: right;\">\n      <th></th>\n      <th>ID</th>\n      <th>Income</th>\n    </tr>\n  </thead>\n  <tbody>\n    <tr>\n      <th>0</th>\n      <td>TEST_0000</td>\n      <td>0.0</td>\n    </tr>\n    <tr>\n      <th>1</th>\n      <td>TEST_0001</td>\n      <td>0.0</td>\n    </tr>\n    <tr>\n      <th>2</th>\n      <td>TEST_0002</td>\n      <td>500.0</td>\n    </tr>\n    <tr>\n      <th>3</th>\n      <td>TEST_0003</td>\n      <td>625.0</td>\n    </tr>\n    <tr>\n      <th>4</th>\n      <td>TEST_0004</td>\n      <td>0.0</td>\n    </tr>\n    <tr>\n      <th>...</th>\n      <td>...</td>\n      <td>...</td>\n    </tr>\n    <tr>\n      <th>9995</th>\n      <td>TEST_9995</td>\n      <td>1700.0</td>\n    </tr>\n    <tr>\n      <th>9996</th>\n      <td>TEST_9996</td>\n      <td>1200.0</td>\n    </tr>\n    <tr>\n      <th>9997</th>\n      <td>TEST_9997</td>\n      <td>425.0</td>\n    </tr>\n    <tr>\n      <th>9998</th>\n      <td>TEST_9998</td>\n      <td>0.0</td>\n    </tr>\n    <tr>\n      <th>9999</th>\n      <td>TEST_9999</td>\n      <td>1400.0</td>\n    </tr>\n  </tbody>\n</table>\n<p>10000 rows × 2 columns</p>\n</div>"
     },
     "execution_count": 25,
     "metadata": {},
     "output_type": "execute_result"
    }
   ],
   "source": [
    "submission = pd.read_csv(\"../data/sample_submission.csv\")\n",
    "submission['Income'] = preds\n",
    "submission"
   ],
   "metadata": {
    "collapsed": false,
    "ExecuteTime": {
     "end_time": "2024-03-27T02:15:01.478009300Z",
     "start_time": "2024-03-27T02:15:01.420164300Z"
    }
   },
   "id": "5ecd9b62bcf2f400"
  },
  {
   "cell_type": "code",
   "execution_count": 26,
   "outputs": [],
   "source": [
    "submission.to_csv(\"../submission/test4.csv\", index = False)"
   ],
   "metadata": {
    "collapsed": false,
    "ExecuteTime": {
     "end_time": "2024-03-27T02:15:09.676931300Z",
     "start_time": "2024-03-27T02:15:09.626067Z"
    }
   },
   "id": "e2ef8cc105dda535"
  },
  {
   "cell_type": "code",
   "execution_count": null,
   "outputs": [],
   "source": [],
   "metadata": {
    "collapsed": false
   },
   "id": "9a9d52e328650bab"
  }
 ],
 "metadata": {
  "kernelspec": {
   "display_name": "Python 3",
   "language": "python",
   "name": "python3"
  },
  "language_info": {
   "codemirror_mode": {
    "name": "ipython",
    "version": 2
   },
   "file_extension": ".py",
   "mimetype": "text/x-python",
   "name": "python",
   "nbconvert_exporter": "python",
   "pygments_lexer": "ipython2",
   "version": "2.7.6"
  }
 },
 "nbformat": 4,
 "nbformat_minor": 5
}

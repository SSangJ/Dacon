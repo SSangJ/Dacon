{
 "cells": [
  {
   "cell_type": "code",
   "execution_count": 1,
   "id": "initial_id",
   "metadata": {
    "collapsed": true,
    "ExecuteTime": {
     "end_time": "2023-12-24T04:22:57.885232100Z",
     "start_time": "2023-12-24T04:22:57.870671Z"
    }
   },
   "outputs": [],
   "source": [
    "import os\n",
    "os.environ['KMP_DUPLICATE_LIB_OK']='True'\n",
    "import warnings\n",
    "warnings.filterwarnings('ignore', category=FutureWarning)\n"
   ]
  },
  {
   "cell_type": "code",
   "execution_count": 125,
   "outputs": [],
   "source": [
    "# import package\n",
    "\n",
    "# model\n",
    "import torch\n",
    "import torch.nn as nn\n",
    "import torch.nn.functional as F\n",
    "from torchsummary import summary\n",
    "from torch import optim\n",
    "from torch.optim.lr_scheduler import StepLR\n",
    "from sklearn.linear_model import LinearRegression\n",
    "from sklearn.ensemble import RandomForestRegressor\n",
    "from xgboost import XGBRegressor\n",
    "from catboost import CatBoostRegressor\n",
    "from sklearn.model_selection import train_test_split\n",
    "from sklearn.metrics import mean_absolute_error, r2_score\n",
    "from sklearn.model_selection import GridSearchCV\n",
    "from lightgbm import LGBMRegressor\n",
    "from sklearn.preprocessing import MinMaxScaler\n",
    "from tensorflow.keras.callbacks import LearningRateScheduler\n",
    "from tensorflow.keras.callbacks import ReduceLROnPlateau\n",
    "\n",
    "# dataset and transformation\n",
    "from torchvision import datasets\n",
    "import torchvision.transforms as transforms\n",
    "from torch.utils.data import DataLoader\n",
    "from torchvision import models\n",
    "import torch.nn as nn\n",
    "import torch.nn.functional as F\n",
    "import torchvision\n",
    "\n",
    "\n",
    "from tensorflow.keras.models import Sequential\n",
    "from tensorflow.keras.layers import GRU, Dense, LSTM, Dropout, ConvLSTM2D, Flatten\n",
    "from tensorflow.keras.optimizers import Adam\n",
    "from tensorflow.keras.callbacks import EarlyStopping\n",
    "import tensorflow.keras.backend as K\n",
    "from tensorflow.keras.callbacks import Callback\n",
    "from keras.regularizers import l2\n",
    "# display images\n",
    "from torchvision import utils\n",
    "import matplotlib.pyplot as plt\n",
    "%matplotlib inline\n",
    "\n",
    "\n",
    "# utils\n",
    "import numpy as np\n",
    "from torchsummary import summary\n",
    "import time\n",
    "import copy\n",
    "import pandas as pd\n",
    "\n",
    "import os\n",
    "from warnings import filterwarnings\n",
    "filterwarnings('ignore')\n",
    "\n",
    "import torch\n",
    "from torch import nn, optim\n",
    "from torch.backends import cudnn\n",
    "cudnn.benchmark = True\n",
    "from randaugment import RandAugment, ImageNetPolicy\n",
    "\n",
    "import seaborn as sns\n",
    "plt.rcParams['font.family'] = 'Malgun Gothic'\n",
    "\n",
    "import tensorflow as tf"
   ],
   "metadata": {
    "collapsed": false,
    "ExecuteTime": {
     "end_time": "2023-12-24T12:05:10.567893900Z",
     "start_time": "2023-12-24T12:05:10.538970800Z"
    }
   },
   "id": "923f45687f336a83"
  },
  {
   "cell_type": "code",
   "execution_count": 3,
   "outputs": [
    {
     "name": "stdout",
     "output_type": "stream",
     "text": [
      "cuda:0\n"
     ]
    }
   ],
   "source": [
    "import torch\n",
    "device = torch.device('cuda:0' if torch.cuda.is_available() else 'cpu')\n",
    "\n",
    "print(device)"
   ],
   "metadata": {
    "collapsed": false,
    "ExecuteTime": {
     "end_time": "2023-12-24T04:23:04.101909700Z",
     "start_time": "2023-12-24T04:23:04.053384Z"
    }
   },
   "id": "ff0198d1e7e926bf"
  },
  {
   "cell_type": "code",
   "execution_count": 4,
   "outputs": [
    {
     "name": "stdout",
     "output_type": "stream",
     "text": [
      "WARNING:tensorflow:From C:\\Users\\SJ\\AppData\\Local\\Temp\\ipykernel_13148\\3227166453.py:1: is_gpu_available (from tensorflow.python.framework.test_util) is deprecated and will be removed in a future version.\n",
      "Instructions for updating:\n",
      "Use `tf.config.list_physical_devices('GPU')` instead.\n"
     ]
    },
    {
     "data": {
      "text/plain": "True"
     },
     "execution_count": 4,
     "metadata": {},
     "output_type": "execute_result"
    }
   ],
   "source": [
    "tf.test.is_gpu_available(cuda_only=False, min_cuda_compute_capability=None )"
   ],
   "metadata": {
    "collapsed": false,
    "ExecuteTime": {
     "end_time": "2023-12-24T04:23:05.956463900Z",
     "start_time": "2023-12-24T04:23:05.407314900Z"
    }
   },
   "id": "d579faef2c2ba207"
  },
  {
   "cell_type": "code",
   "execution_count": 5,
   "outputs": [],
   "source": [
    "train =pd.read_csv(\"../data/train_preprocessing.csv\")\n",
    "submission = pd.read_csv(\"../data/sample_submission.csv\")"
   ],
   "metadata": {
    "collapsed": false,
    "ExecuteTime": {
     "end_time": "2023-12-24T04:23:06.564307Z",
     "start_time": "2023-12-24T04:23:06.502473700Z"
    }
   },
   "id": "35e4ec692beb6562"
  },
  {
   "cell_type": "code",
   "execution_count": 6,
   "outputs": [],
   "source": [
    "train.drop('일교차',inplace=True, axis = 1)"
   ],
   "metadata": {
    "collapsed": false,
    "ExecuteTime": {
     "end_time": "2023-12-24T04:23:06.720889100Z",
     "start_time": "2023-12-24T04:23:06.689971500Z"
    }
   },
   "id": "3e9abac864ce6b7c"
  },
  {
   "cell_type": "code",
   "execution_count": 7,
   "outputs": [
    {
     "data": {
      "text/plain": "               일시  최고기온  최저기온       강수량  평균습도  평균풍속  일조합        일사합  \\\n0      1960-01-01   2.2  -5.2 -0.730379  68.3   1.7  6.7  12.562132   \n1      1960-01-02   1.2  -5.6  0.400000  87.7   1.3  0.0   4.541569   \n2      1960-01-03   8.7  -2.1  0.000000  81.3   3.0  0.0   5.738938   \n3      1960-01-04  10.8   1.2  0.000000  79.7   4.4  2.6   8.422487   \n4      1960-01-05   1.3  -8.2  0.705818  44.0   5.1  8.2  14.946189   \n...           ...   ...   ...       ...   ...   ...  ...        ...   \n23006  2022-12-27   3.3  -7.3  0.809723  69.8   1.8  8.8  10.250000   \n23007  2022-12-28   0.1  -6.0  0.100000  58.1   2.5  8.7  10.860000   \n23008  2022-12-29   2.1  -7.8  0.000000  56.3   1.7  9.0  10.880000   \n23009  2022-12-30   2.3  -4.4  0.000000  65.6   1.9  7.9  10.840000   \n23010  2022-12-31   2.1  -5.1  0.000000  65.5   1.4  1.1   4.160000   \n\n             일조율  평균기온     년   월   일  \n0      55.338502  -1.6  1960   1   1  \n1       2.040280  -1.9  1960   1   2  \n2       2.040280   4.0  1960   1   3  \n3      22.723172   7.5  1960   1   4  \n4      67.270939  -4.6  1960   1   5  \n...          ...   ...   ...  ..  ..  \n23006  91.700000  -2.6  2022  12  27  \n23007  90.600000  -3.3  2022  12  28  \n23008  93.800000  -2.9  2022  12  29  \n23009  82.300000  -1.8  2022  12  30  \n23010  11.500000  -1.2  2022  12  31  \n\n[23011 rows x 13 columns]",
      "text/html": "<div>\n<style scoped>\n    .dataframe tbody tr th:only-of-type {\n        vertical-align: middle;\n    }\n\n    .dataframe tbody tr th {\n        vertical-align: top;\n    }\n\n    .dataframe thead th {\n        text-align: right;\n    }\n</style>\n<table border=\"1\" class=\"dataframe\">\n  <thead>\n    <tr style=\"text-align: right;\">\n      <th></th>\n      <th>일시</th>\n      <th>최고기온</th>\n      <th>최저기온</th>\n      <th>강수량</th>\n      <th>평균습도</th>\n      <th>평균풍속</th>\n      <th>일조합</th>\n      <th>일사합</th>\n      <th>일조율</th>\n      <th>평균기온</th>\n      <th>년</th>\n      <th>월</th>\n      <th>일</th>\n    </tr>\n  </thead>\n  <tbody>\n    <tr>\n      <th>0</th>\n      <td>1960-01-01</td>\n      <td>2.2</td>\n      <td>-5.2</td>\n      <td>-0.730379</td>\n      <td>68.3</td>\n      <td>1.7</td>\n      <td>6.7</td>\n      <td>12.562132</td>\n      <td>55.338502</td>\n      <td>-1.6</td>\n      <td>1960</td>\n      <td>1</td>\n      <td>1</td>\n    </tr>\n    <tr>\n      <th>1</th>\n      <td>1960-01-02</td>\n      <td>1.2</td>\n      <td>-5.6</td>\n      <td>0.400000</td>\n      <td>87.7</td>\n      <td>1.3</td>\n      <td>0.0</td>\n      <td>4.541569</td>\n      <td>2.040280</td>\n      <td>-1.9</td>\n      <td>1960</td>\n      <td>1</td>\n      <td>2</td>\n    </tr>\n    <tr>\n      <th>2</th>\n      <td>1960-01-03</td>\n      <td>8.7</td>\n      <td>-2.1</td>\n      <td>0.000000</td>\n      <td>81.3</td>\n      <td>3.0</td>\n      <td>0.0</td>\n      <td>5.738938</td>\n      <td>2.040280</td>\n      <td>4.0</td>\n      <td>1960</td>\n      <td>1</td>\n      <td>3</td>\n    </tr>\n    <tr>\n      <th>3</th>\n      <td>1960-01-04</td>\n      <td>10.8</td>\n      <td>1.2</td>\n      <td>0.000000</td>\n      <td>79.7</td>\n      <td>4.4</td>\n      <td>2.6</td>\n      <td>8.422487</td>\n      <td>22.723172</td>\n      <td>7.5</td>\n      <td>1960</td>\n      <td>1</td>\n      <td>4</td>\n    </tr>\n    <tr>\n      <th>4</th>\n      <td>1960-01-05</td>\n      <td>1.3</td>\n      <td>-8.2</td>\n      <td>0.705818</td>\n      <td>44.0</td>\n      <td>5.1</td>\n      <td>8.2</td>\n      <td>14.946189</td>\n      <td>67.270939</td>\n      <td>-4.6</td>\n      <td>1960</td>\n      <td>1</td>\n      <td>5</td>\n    </tr>\n    <tr>\n      <th>...</th>\n      <td>...</td>\n      <td>...</td>\n      <td>...</td>\n      <td>...</td>\n      <td>...</td>\n      <td>...</td>\n      <td>...</td>\n      <td>...</td>\n      <td>...</td>\n      <td>...</td>\n      <td>...</td>\n      <td>...</td>\n      <td>...</td>\n    </tr>\n    <tr>\n      <th>23006</th>\n      <td>2022-12-27</td>\n      <td>3.3</td>\n      <td>-7.3</td>\n      <td>0.809723</td>\n      <td>69.8</td>\n      <td>1.8</td>\n      <td>8.8</td>\n      <td>10.250000</td>\n      <td>91.700000</td>\n      <td>-2.6</td>\n      <td>2022</td>\n      <td>12</td>\n      <td>27</td>\n    </tr>\n    <tr>\n      <th>23007</th>\n      <td>2022-12-28</td>\n      <td>0.1</td>\n      <td>-6.0</td>\n      <td>0.100000</td>\n      <td>58.1</td>\n      <td>2.5</td>\n      <td>8.7</td>\n      <td>10.860000</td>\n      <td>90.600000</td>\n      <td>-3.3</td>\n      <td>2022</td>\n      <td>12</td>\n      <td>28</td>\n    </tr>\n    <tr>\n      <th>23008</th>\n      <td>2022-12-29</td>\n      <td>2.1</td>\n      <td>-7.8</td>\n      <td>0.000000</td>\n      <td>56.3</td>\n      <td>1.7</td>\n      <td>9.0</td>\n      <td>10.880000</td>\n      <td>93.800000</td>\n      <td>-2.9</td>\n      <td>2022</td>\n      <td>12</td>\n      <td>29</td>\n    </tr>\n    <tr>\n      <th>23009</th>\n      <td>2022-12-30</td>\n      <td>2.3</td>\n      <td>-4.4</td>\n      <td>0.000000</td>\n      <td>65.6</td>\n      <td>1.9</td>\n      <td>7.9</td>\n      <td>10.840000</td>\n      <td>82.300000</td>\n      <td>-1.8</td>\n      <td>2022</td>\n      <td>12</td>\n      <td>30</td>\n    </tr>\n    <tr>\n      <th>23010</th>\n      <td>2022-12-31</td>\n      <td>2.1</td>\n      <td>-5.1</td>\n      <td>0.000000</td>\n      <td>65.5</td>\n      <td>1.4</td>\n      <td>1.1</td>\n      <td>4.160000</td>\n      <td>11.500000</td>\n      <td>-1.2</td>\n      <td>2022</td>\n      <td>12</td>\n      <td>31</td>\n    </tr>\n  </tbody>\n</table>\n<p>23011 rows × 13 columns</p>\n</div>"
     },
     "execution_count": 7,
     "metadata": {},
     "output_type": "execute_result"
    }
   ],
   "source": [
    "train"
   ],
   "metadata": {
    "collapsed": false,
    "ExecuteTime": {
     "end_time": "2023-12-24T04:23:07.251736500Z",
     "start_time": "2023-12-24T04:23:07.202866600Z"
    }
   },
   "id": "5a88aeb55207e0ea"
  },
  {
   "cell_type": "code",
   "execution_count": 8,
   "outputs": [],
   "source": [
    "train.loc[train['강수량'] < 0 , '강수량'] = 0 "
   ],
   "metadata": {
    "collapsed": false,
    "ExecuteTime": {
     "end_time": "2023-12-24T04:23:07.565443300Z",
     "start_time": "2023-12-24T04:23:07.530536500Z"
    }
   },
   "id": "b1101e2dccdecd72"
  },
  {
   "cell_type": "code",
   "execution_count": 9,
   "outputs": [
    {
     "data": {
      "text/plain": "               일시  최고기온  최저기온       강수량  평균습도  평균풍속  일조합        일사합  \\\n0      1960-01-01   2.2  -5.2  0.000000  68.3   1.7  6.7  12.562132   \n1      1960-01-02   1.2  -5.6  0.400000  87.7   1.3  0.0   4.541569   \n2      1960-01-03   8.7  -2.1  0.000000  81.3   3.0  0.0   5.738938   \n3      1960-01-04  10.8   1.2  0.000000  79.7   4.4  2.6   8.422487   \n4      1960-01-05   1.3  -8.2  0.705818  44.0   5.1  8.2  14.946189   \n...           ...   ...   ...       ...   ...   ...  ...        ...   \n23006  2022-12-27   3.3  -7.3  0.809723  69.8   1.8  8.8  10.250000   \n23007  2022-12-28   0.1  -6.0  0.100000  58.1   2.5  8.7  10.860000   \n23008  2022-12-29   2.1  -7.8  0.000000  56.3   1.7  9.0  10.880000   \n23009  2022-12-30   2.3  -4.4  0.000000  65.6   1.9  7.9  10.840000   \n23010  2022-12-31   2.1  -5.1  0.000000  65.5   1.4  1.1   4.160000   \n\n             일조율  평균기온     년   월   일  \n0      55.338502  -1.6  1960   1   1  \n1       2.040280  -1.9  1960   1   2  \n2       2.040280   4.0  1960   1   3  \n3      22.723172   7.5  1960   1   4  \n4      67.270939  -4.6  1960   1   5  \n...          ...   ...   ...  ..  ..  \n23006  91.700000  -2.6  2022  12  27  \n23007  90.600000  -3.3  2022  12  28  \n23008  93.800000  -2.9  2022  12  29  \n23009  82.300000  -1.8  2022  12  30  \n23010  11.500000  -1.2  2022  12  31  \n\n[23011 rows x 13 columns]",
      "text/html": "<div>\n<style scoped>\n    .dataframe tbody tr th:only-of-type {\n        vertical-align: middle;\n    }\n\n    .dataframe tbody tr th {\n        vertical-align: top;\n    }\n\n    .dataframe thead th {\n        text-align: right;\n    }\n</style>\n<table border=\"1\" class=\"dataframe\">\n  <thead>\n    <tr style=\"text-align: right;\">\n      <th></th>\n      <th>일시</th>\n      <th>최고기온</th>\n      <th>최저기온</th>\n      <th>강수량</th>\n      <th>평균습도</th>\n      <th>평균풍속</th>\n      <th>일조합</th>\n      <th>일사합</th>\n      <th>일조율</th>\n      <th>평균기온</th>\n      <th>년</th>\n      <th>월</th>\n      <th>일</th>\n    </tr>\n  </thead>\n  <tbody>\n    <tr>\n      <th>0</th>\n      <td>1960-01-01</td>\n      <td>2.2</td>\n      <td>-5.2</td>\n      <td>0.000000</td>\n      <td>68.3</td>\n      <td>1.7</td>\n      <td>6.7</td>\n      <td>12.562132</td>\n      <td>55.338502</td>\n      <td>-1.6</td>\n      <td>1960</td>\n      <td>1</td>\n      <td>1</td>\n    </tr>\n    <tr>\n      <th>1</th>\n      <td>1960-01-02</td>\n      <td>1.2</td>\n      <td>-5.6</td>\n      <td>0.400000</td>\n      <td>87.7</td>\n      <td>1.3</td>\n      <td>0.0</td>\n      <td>4.541569</td>\n      <td>2.040280</td>\n      <td>-1.9</td>\n      <td>1960</td>\n      <td>1</td>\n      <td>2</td>\n    </tr>\n    <tr>\n      <th>2</th>\n      <td>1960-01-03</td>\n      <td>8.7</td>\n      <td>-2.1</td>\n      <td>0.000000</td>\n      <td>81.3</td>\n      <td>3.0</td>\n      <td>0.0</td>\n      <td>5.738938</td>\n      <td>2.040280</td>\n      <td>4.0</td>\n      <td>1960</td>\n      <td>1</td>\n      <td>3</td>\n    </tr>\n    <tr>\n      <th>3</th>\n      <td>1960-01-04</td>\n      <td>10.8</td>\n      <td>1.2</td>\n      <td>0.000000</td>\n      <td>79.7</td>\n      <td>4.4</td>\n      <td>2.6</td>\n      <td>8.422487</td>\n      <td>22.723172</td>\n      <td>7.5</td>\n      <td>1960</td>\n      <td>1</td>\n      <td>4</td>\n    </tr>\n    <tr>\n      <th>4</th>\n      <td>1960-01-05</td>\n      <td>1.3</td>\n      <td>-8.2</td>\n      <td>0.705818</td>\n      <td>44.0</td>\n      <td>5.1</td>\n      <td>8.2</td>\n      <td>14.946189</td>\n      <td>67.270939</td>\n      <td>-4.6</td>\n      <td>1960</td>\n      <td>1</td>\n      <td>5</td>\n    </tr>\n    <tr>\n      <th>...</th>\n      <td>...</td>\n      <td>...</td>\n      <td>...</td>\n      <td>...</td>\n      <td>...</td>\n      <td>...</td>\n      <td>...</td>\n      <td>...</td>\n      <td>...</td>\n      <td>...</td>\n      <td>...</td>\n      <td>...</td>\n      <td>...</td>\n    </tr>\n    <tr>\n      <th>23006</th>\n      <td>2022-12-27</td>\n      <td>3.3</td>\n      <td>-7.3</td>\n      <td>0.809723</td>\n      <td>69.8</td>\n      <td>1.8</td>\n      <td>8.8</td>\n      <td>10.250000</td>\n      <td>91.700000</td>\n      <td>-2.6</td>\n      <td>2022</td>\n      <td>12</td>\n      <td>27</td>\n    </tr>\n    <tr>\n      <th>23007</th>\n      <td>2022-12-28</td>\n      <td>0.1</td>\n      <td>-6.0</td>\n      <td>0.100000</td>\n      <td>58.1</td>\n      <td>2.5</td>\n      <td>8.7</td>\n      <td>10.860000</td>\n      <td>90.600000</td>\n      <td>-3.3</td>\n      <td>2022</td>\n      <td>12</td>\n      <td>28</td>\n    </tr>\n    <tr>\n      <th>23008</th>\n      <td>2022-12-29</td>\n      <td>2.1</td>\n      <td>-7.8</td>\n      <td>0.000000</td>\n      <td>56.3</td>\n      <td>1.7</td>\n      <td>9.0</td>\n      <td>10.880000</td>\n      <td>93.800000</td>\n      <td>-2.9</td>\n      <td>2022</td>\n      <td>12</td>\n      <td>29</td>\n    </tr>\n    <tr>\n      <th>23009</th>\n      <td>2022-12-30</td>\n      <td>2.3</td>\n      <td>-4.4</td>\n      <td>0.000000</td>\n      <td>65.6</td>\n      <td>1.9</td>\n      <td>7.9</td>\n      <td>10.840000</td>\n      <td>82.300000</td>\n      <td>-1.8</td>\n      <td>2022</td>\n      <td>12</td>\n      <td>30</td>\n    </tr>\n    <tr>\n      <th>23010</th>\n      <td>2022-12-31</td>\n      <td>2.1</td>\n      <td>-5.1</td>\n      <td>0.000000</td>\n      <td>65.5</td>\n      <td>1.4</td>\n      <td>1.1</td>\n      <td>4.160000</td>\n      <td>11.500000</td>\n      <td>-1.2</td>\n      <td>2022</td>\n      <td>12</td>\n      <td>31</td>\n    </tr>\n  </tbody>\n</table>\n<p>23011 rows × 13 columns</p>\n</div>"
     },
     "execution_count": 9,
     "metadata": {},
     "output_type": "execute_result"
    }
   ],
   "source": [
    "train"
   ],
   "metadata": {
    "collapsed": false,
    "ExecuteTime": {
     "end_time": "2023-12-24T04:23:08.002422700Z",
     "start_time": "2023-12-24T04:23:07.972837800Z"
    }
   },
   "id": "87e51cf958665e6e"
  },
  {
   "cell_type": "code",
   "execution_count": 10,
   "outputs": [],
   "source": [
    "# '월' 컬럼에 대한 순환 인코딩\n",
    "train['월_sin'] = np.sin(2 * np.pi * train['월'] / 12)\n",
    "train['월_cos'] = np.cos(2 * np.pi * train['월'] / 12)\n",
    "\n",
    "# '일' 컬럼에 대한 순환 인코딩\n",
    "train['일_sin'] = np.sin(2 * np.pi * train['일'] / 31)\n",
    "train['일_cos'] = np.cos(2 * np.pi * train['일'] / 31)"
   ],
   "metadata": {
    "collapsed": false,
    "ExecuteTime": {
     "end_time": "2023-12-24T04:23:08.259389300Z",
     "start_time": "2023-12-24T04:23:08.224483Z"
    }
   },
   "id": "7c62fc1cfbd39d66"
  },
  {
   "cell_type": "code",
   "execution_count": 11,
   "outputs": [],
   "source": [
    "train.drop(['월','일'], axis = 1 , inplace= True)"
   ],
   "metadata": {
    "collapsed": false,
    "ExecuteTime": {
     "end_time": "2023-12-24T04:23:08.642255800Z",
     "start_time": "2023-12-24T04:23:08.617321700Z"
    }
   },
   "id": "4dd72275063be777"
  },
  {
   "cell_type": "code",
   "execution_count": 12,
   "outputs": [
    {
     "data": {
      "text/plain": "               일시  최고기온  최저기온       강수량  평균습도  평균풍속  일조합        일사합  \\\n0      1960-01-01   2.2  -5.2  0.000000  68.3   1.7  6.7  12.562132   \n1      1960-01-02   1.2  -5.6  0.400000  87.7   1.3  0.0   4.541569   \n2      1960-01-03   8.7  -2.1  0.000000  81.3   3.0  0.0   5.738938   \n3      1960-01-04  10.8   1.2  0.000000  79.7   4.4  2.6   8.422487   \n4      1960-01-05   1.3  -8.2  0.705818  44.0   5.1  8.2  14.946189   \n...           ...   ...   ...       ...   ...   ...  ...        ...   \n23006  2022-12-27   3.3  -7.3  0.809723  69.8   1.8  8.8  10.250000   \n23007  2022-12-28   0.1  -6.0  0.100000  58.1   2.5  8.7  10.860000   \n23008  2022-12-29   2.1  -7.8  0.000000  56.3   1.7  9.0  10.880000   \n23009  2022-12-30   2.3  -4.4  0.000000  65.6   1.9  7.9  10.840000   \n23010  2022-12-31   2.1  -5.1  0.000000  65.5   1.4  1.1   4.160000   \n\n             일조율  평균기온     년         월_sin     월_cos         일_sin     일_cos  \n0      55.338502  -1.6  1960  5.000000e-01  0.866025  2.012985e-01  0.979530  \n1       2.040280  -1.9  1960  5.000000e-01  0.866025  3.943559e-01  0.918958  \n2       2.040280   4.0  1960  5.000000e-01  0.866025  5.712682e-01  0.820763  \n3      22.723172   7.5  1960  5.000000e-01  0.866025  7.247928e-01  0.688967  \n4      67.270939  -4.6  1960  5.000000e-01  0.866025  8.486443e-01  0.528964  \n...          ...   ...   ...           ...       ...           ...       ...  \n23006  91.700000  -2.6  2022 -2.449294e-16  1.000000 -7.247928e-01  0.688967  \n23007  90.600000  -3.3  2022 -2.449294e-16  1.000000 -5.712682e-01  0.820763  \n23008  93.800000  -2.9  2022 -2.449294e-16  1.000000 -3.943559e-01  0.918958  \n23009  82.300000  -1.8  2022 -2.449294e-16  1.000000 -2.012985e-01  0.979530  \n23010  11.500000  -1.2  2022 -2.449294e-16  1.000000 -2.449294e-16  1.000000  \n\n[23011 rows x 15 columns]",
      "text/html": "<div>\n<style scoped>\n    .dataframe tbody tr th:only-of-type {\n        vertical-align: middle;\n    }\n\n    .dataframe tbody tr th {\n        vertical-align: top;\n    }\n\n    .dataframe thead th {\n        text-align: right;\n    }\n</style>\n<table border=\"1\" class=\"dataframe\">\n  <thead>\n    <tr style=\"text-align: right;\">\n      <th></th>\n      <th>일시</th>\n      <th>최고기온</th>\n      <th>최저기온</th>\n      <th>강수량</th>\n      <th>평균습도</th>\n      <th>평균풍속</th>\n      <th>일조합</th>\n      <th>일사합</th>\n      <th>일조율</th>\n      <th>평균기온</th>\n      <th>년</th>\n      <th>월_sin</th>\n      <th>월_cos</th>\n      <th>일_sin</th>\n      <th>일_cos</th>\n    </tr>\n  </thead>\n  <tbody>\n    <tr>\n      <th>0</th>\n      <td>1960-01-01</td>\n      <td>2.2</td>\n      <td>-5.2</td>\n      <td>0.000000</td>\n      <td>68.3</td>\n      <td>1.7</td>\n      <td>6.7</td>\n      <td>12.562132</td>\n      <td>55.338502</td>\n      <td>-1.6</td>\n      <td>1960</td>\n      <td>5.000000e-01</td>\n      <td>0.866025</td>\n      <td>2.012985e-01</td>\n      <td>0.979530</td>\n    </tr>\n    <tr>\n      <th>1</th>\n      <td>1960-01-02</td>\n      <td>1.2</td>\n      <td>-5.6</td>\n      <td>0.400000</td>\n      <td>87.7</td>\n      <td>1.3</td>\n      <td>0.0</td>\n      <td>4.541569</td>\n      <td>2.040280</td>\n      <td>-1.9</td>\n      <td>1960</td>\n      <td>5.000000e-01</td>\n      <td>0.866025</td>\n      <td>3.943559e-01</td>\n      <td>0.918958</td>\n    </tr>\n    <tr>\n      <th>2</th>\n      <td>1960-01-03</td>\n      <td>8.7</td>\n      <td>-2.1</td>\n      <td>0.000000</td>\n      <td>81.3</td>\n      <td>3.0</td>\n      <td>0.0</td>\n      <td>5.738938</td>\n      <td>2.040280</td>\n      <td>4.0</td>\n      <td>1960</td>\n      <td>5.000000e-01</td>\n      <td>0.866025</td>\n      <td>5.712682e-01</td>\n      <td>0.820763</td>\n    </tr>\n    <tr>\n      <th>3</th>\n      <td>1960-01-04</td>\n      <td>10.8</td>\n      <td>1.2</td>\n      <td>0.000000</td>\n      <td>79.7</td>\n      <td>4.4</td>\n      <td>2.6</td>\n      <td>8.422487</td>\n      <td>22.723172</td>\n      <td>7.5</td>\n      <td>1960</td>\n      <td>5.000000e-01</td>\n      <td>0.866025</td>\n      <td>7.247928e-01</td>\n      <td>0.688967</td>\n    </tr>\n    <tr>\n      <th>4</th>\n      <td>1960-01-05</td>\n      <td>1.3</td>\n      <td>-8.2</td>\n      <td>0.705818</td>\n      <td>44.0</td>\n      <td>5.1</td>\n      <td>8.2</td>\n      <td>14.946189</td>\n      <td>67.270939</td>\n      <td>-4.6</td>\n      <td>1960</td>\n      <td>5.000000e-01</td>\n      <td>0.866025</td>\n      <td>8.486443e-01</td>\n      <td>0.528964</td>\n    </tr>\n    <tr>\n      <th>...</th>\n      <td>...</td>\n      <td>...</td>\n      <td>...</td>\n      <td>...</td>\n      <td>...</td>\n      <td>...</td>\n      <td>...</td>\n      <td>...</td>\n      <td>...</td>\n      <td>...</td>\n      <td>...</td>\n      <td>...</td>\n      <td>...</td>\n      <td>...</td>\n      <td>...</td>\n    </tr>\n    <tr>\n      <th>23006</th>\n      <td>2022-12-27</td>\n      <td>3.3</td>\n      <td>-7.3</td>\n      <td>0.809723</td>\n      <td>69.8</td>\n      <td>1.8</td>\n      <td>8.8</td>\n      <td>10.250000</td>\n      <td>91.700000</td>\n      <td>-2.6</td>\n      <td>2022</td>\n      <td>-2.449294e-16</td>\n      <td>1.000000</td>\n      <td>-7.247928e-01</td>\n      <td>0.688967</td>\n    </tr>\n    <tr>\n      <th>23007</th>\n      <td>2022-12-28</td>\n      <td>0.1</td>\n      <td>-6.0</td>\n      <td>0.100000</td>\n      <td>58.1</td>\n      <td>2.5</td>\n      <td>8.7</td>\n      <td>10.860000</td>\n      <td>90.600000</td>\n      <td>-3.3</td>\n      <td>2022</td>\n      <td>-2.449294e-16</td>\n      <td>1.000000</td>\n      <td>-5.712682e-01</td>\n      <td>0.820763</td>\n    </tr>\n    <tr>\n      <th>23008</th>\n      <td>2022-12-29</td>\n      <td>2.1</td>\n      <td>-7.8</td>\n      <td>0.000000</td>\n      <td>56.3</td>\n      <td>1.7</td>\n      <td>9.0</td>\n      <td>10.880000</td>\n      <td>93.800000</td>\n      <td>-2.9</td>\n      <td>2022</td>\n      <td>-2.449294e-16</td>\n      <td>1.000000</td>\n      <td>-3.943559e-01</td>\n      <td>0.918958</td>\n    </tr>\n    <tr>\n      <th>23009</th>\n      <td>2022-12-30</td>\n      <td>2.3</td>\n      <td>-4.4</td>\n      <td>0.000000</td>\n      <td>65.6</td>\n      <td>1.9</td>\n      <td>7.9</td>\n      <td>10.840000</td>\n      <td>82.300000</td>\n      <td>-1.8</td>\n      <td>2022</td>\n      <td>-2.449294e-16</td>\n      <td>1.000000</td>\n      <td>-2.012985e-01</td>\n      <td>0.979530</td>\n    </tr>\n    <tr>\n      <th>23010</th>\n      <td>2022-12-31</td>\n      <td>2.1</td>\n      <td>-5.1</td>\n      <td>0.000000</td>\n      <td>65.5</td>\n      <td>1.4</td>\n      <td>1.1</td>\n      <td>4.160000</td>\n      <td>11.500000</td>\n      <td>-1.2</td>\n      <td>2022</td>\n      <td>-2.449294e-16</td>\n      <td>1.000000</td>\n      <td>-2.449294e-16</td>\n      <td>1.000000</td>\n    </tr>\n  </tbody>\n</table>\n<p>23011 rows × 15 columns</p>\n</div>"
     },
     "execution_count": 12,
     "metadata": {},
     "output_type": "execute_result"
    }
   ],
   "source": [
    "train"
   ],
   "metadata": {
    "collapsed": false,
    "ExecuteTime": {
     "end_time": "2023-12-24T04:23:08.919882900Z",
     "start_time": "2023-12-24T04:23:08.876998300Z"
    }
   },
   "id": "2c662bd900408a0c"
  },
  {
   "cell_type": "code",
   "execution_count": 13,
   "outputs": [
    {
     "name": "stdout",
     "output_type": "stream",
     "text": [
      "33.7 -16.4\n"
     ]
    }
   ],
   "source": [
    "print(train['평균기온'].max(),train['평균기온'].min())"
   ],
   "metadata": {
    "collapsed": false,
    "ExecuteTime": {
     "end_time": "2023-12-24T04:23:09.178422100Z",
     "start_time": "2023-12-24T04:23:09.122180200Z"
    }
   },
   "id": "6d0a5e8d66c6d5c7"
  },
  {
   "cell_type": "code",
   "execution_count": 14,
   "outputs": [],
   "source": [
    "# Min-Max Scaler 초기화\n",
    "scaler = MinMaxScaler()\n",
    "\n",
    "# Min-Max Scaling을 적용할 컬럼들 선택\n",
    "columns_to_scale = ['최고기온', '최저기온', '강수량', '평균습도', '평균풍속', '일조합', '일사합', '일조율', '평균기온', '년']\n",
    "\n",
    "# Scaling 적용\n",
    "train[columns_to_scale] = scaler.fit_transform(train[columns_to_scale])"
   ],
   "metadata": {
    "collapsed": false,
    "ExecuteTime": {
     "end_time": "2023-12-24T04:23:09.485640900Z",
     "start_time": "2023-12-24T04:23:09.458683400Z"
    }
   },
   "id": "4048652799be8bca"
  },
  {
   "cell_type": "code",
   "execution_count": 15,
   "outputs": [],
   "source": [
    "train.drop('일시',axis = 1 , inplace = True)"
   ],
   "metadata": {
    "collapsed": false,
    "ExecuteTime": {
     "end_time": "2023-12-24T04:23:09.794921700Z",
     "start_time": "2023-12-24T04:23:09.771556Z"
    }
   },
   "id": "ec78595142cbcd97"
  },
  {
   "cell_type": "code",
   "execution_count": 16,
   "outputs": [
    {
     "data": {
      "text/plain": "           최고기온      최저기온       강수량      평균습도      평균풍속       일조합       일사합  \\\n0      0.296992  0.297030  0.000000  0.615385  0.207792  0.489051  0.375213   \n1      0.278195  0.289109  0.001202  0.852259  0.155844  0.000000  0.135650   \n2      0.419173  0.358416  0.000000  0.774115  0.376623  0.000000  0.171414   \n3      0.458647  0.423762  0.000000  0.754579  0.558442  0.189781  0.251568   \n4      0.280075  0.237624  0.002121  0.318681  0.649351  0.598540  0.446421   \n...         ...       ...       ...       ...       ...       ...       ...   \n23006  0.317669  0.255446  0.002433  0.633700  0.220779  0.642336  0.306153   \n23007  0.257519  0.281188  0.000300  0.490842  0.311688  0.635036  0.324373   \n23008  0.295113  0.245545  0.000000  0.468864  0.207792  0.656934  0.324970   \n23009  0.298872  0.312871  0.000000  0.582418  0.233766  0.576642  0.323775   \n23010  0.295113  0.299010  0.000000  0.581197  0.168831  0.080292  0.124253   \n\n            일조율      평균기온    년         월_sin     월_cos         일_sin     일_cos  \n0      0.554015  0.295409  0.0  5.000000e-01  0.866025  2.012985e-01  0.979530  \n1      0.020426  0.289421  0.0  5.000000e-01  0.866025  3.943559e-01  0.918958  \n2      0.020426  0.407186  0.0  5.000000e-01  0.866025  5.712682e-01  0.820763  \n3      0.227490  0.477046  0.0  5.000000e-01  0.866025  7.247928e-01  0.688967  \n4      0.673475  0.235529  0.0  5.000000e-01  0.866025  8.486443e-01  0.528964  \n...         ...       ...  ...           ...       ...           ...       ...  \n23006  0.918044  0.275449  1.0 -2.449294e-16  1.000000 -7.247928e-01  0.688967  \n23007  0.907032  0.261477  1.0 -2.449294e-16  1.000000 -5.712682e-01  0.820763  \n23008  0.939068  0.269461  1.0 -2.449294e-16  1.000000 -3.943559e-01  0.918958  \n23009  0.823937  0.291417  1.0 -2.449294e-16  1.000000 -2.012985e-01  0.979530  \n23010  0.115131  0.303393  1.0 -2.449294e-16  1.000000 -2.449294e-16  1.000000  \n\n[23011 rows x 14 columns]",
      "text/html": "<div>\n<style scoped>\n    .dataframe tbody tr th:only-of-type {\n        vertical-align: middle;\n    }\n\n    .dataframe tbody tr th {\n        vertical-align: top;\n    }\n\n    .dataframe thead th {\n        text-align: right;\n    }\n</style>\n<table border=\"1\" class=\"dataframe\">\n  <thead>\n    <tr style=\"text-align: right;\">\n      <th></th>\n      <th>최고기온</th>\n      <th>최저기온</th>\n      <th>강수량</th>\n      <th>평균습도</th>\n      <th>평균풍속</th>\n      <th>일조합</th>\n      <th>일사합</th>\n      <th>일조율</th>\n      <th>평균기온</th>\n      <th>년</th>\n      <th>월_sin</th>\n      <th>월_cos</th>\n      <th>일_sin</th>\n      <th>일_cos</th>\n    </tr>\n  </thead>\n  <tbody>\n    <tr>\n      <th>0</th>\n      <td>0.296992</td>\n      <td>0.297030</td>\n      <td>0.000000</td>\n      <td>0.615385</td>\n      <td>0.207792</td>\n      <td>0.489051</td>\n      <td>0.375213</td>\n      <td>0.554015</td>\n      <td>0.295409</td>\n      <td>0.0</td>\n      <td>5.000000e-01</td>\n      <td>0.866025</td>\n      <td>2.012985e-01</td>\n      <td>0.979530</td>\n    </tr>\n    <tr>\n      <th>1</th>\n      <td>0.278195</td>\n      <td>0.289109</td>\n      <td>0.001202</td>\n      <td>0.852259</td>\n      <td>0.155844</td>\n      <td>0.000000</td>\n      <td>0.135650</td>\n      <td>0.020426</td>\n      <td>0.289421</td>\n      <td>0.0</td>\n      <td>5.000000e-01</td>\n      <td>0.866025</td>\n      <td>3.943559e-01</td>\n      <td>0.918958</td>\n    </tr>\n    <tr>\n      <th>2</th>\n      <td>0.419173</td>\n      <td>0.358416</td>\n      <td>0.000000</td>\n      <td>0.774115</td>\n      <td>0.376623</td>\n      <td>0.000000</td>\n      <td>0.171414</td>\n      <td>0.020426</td>\n      <td>0.407186</td>\n      <td>0.0</td>\n      <td>5.000000e-01</td>\n      <td>0.866025</td>\n      <td>5.712682e-01</td>\n      <td>0.820763</td>\n    </tr>\n    <tr>\n      <th>3</th>\n      <td>0.458647</td>\n      <td>0.423762</td>\n      <td>0.000000</td>\n      <td>0.754579</td>\n      <td>0.558442</td>\n      <td>0.189781</td>\n      <td>0.251568</td>\n      <td>0.227490</td>\n      <td>0.477046</td>\n      <td>0.0</td>\n      <td>5.000000e-01</td>\n      <td>0.866025</td>\n      <td>7.247928e-01</td>\n      <td>0.688967</td>\n    </tr>\n    <tr>\n      <th>4</th>\n      <td>0.280075</td>\n      <td>0.237624</td>\n      <td>0.002121</td>\n      <td>0.318681</td>\n      <td>0.649351</td>\n      <td>0.598540</td>\n      <td>0.446421</td>\n      <td>0.673475</td>\n      <td>0.235529</td>\n      <td>0.0</td>\n      <td>5.000000e-01</td>\n      <td>0.866025</td>\n      <td>8.486443e-01</td>\n      <td>0.528964</td>\n    </tr>\n    <tr>\n      <th>...</th>\n      <td>...</td>\n      <td>...</td>\n      <td>...</td>\n      <td>...</td>\n      <td>...</td>\n      <td>...</td>\n      <td>...</td>\n      <td>...</td>\n      <td>...</td>\n      <td>...</td>\n      <td>...</td>\n      <td>...</td>\n      <td>...</td>\n      <td>...</td>\n    </tr>\n    <tr>\n      <th>23006</th>\n      <td>0.317669</td>\n      <td>0.255446</td>\n      <td>0.002433</td>\n      <td>0.633700</td>\n      <td>0.220779</td>\n      <td>0.642336</td>\n      <td>0.306153</td>\n      <td>0.918044</td>\n      <td>0.275449</td>\n      <td>1.0</td>\n      <td>-2.449294e-16</td>\n      <td>1.000000</td>\n      <td>-7.247928e-01</td>\n      <td>0.688967</td>\n    </tr>\n    <tr>\n      <th>23007</th>\n      <td>0.257519</td>\n      <td>0.281188</td>\n      <td>0.000300</td>\n      <td>0.490842</td>\n      <td>0.311688</td>\n      <td>0.635036</td>\n      <td>0.324373</td>\n      <td>0.907032</td>\n      <td>0.261477</td>\n      <td>1.0</td>\n      <td>-2.449294e-16</td>\n      <td>1.000000</td>\n      <td>-5.712682e-01</td>\n      <td>0.820763</td>\n    </tr>\n    <tr>\n      <th>23008</th>\n      <td>0.295113</td>\n      <td>0.245545</td>\n      <td>0.000000</td>\n      <td>0.468864</td>\n      <td>0.207792</td>\n      <td>0.656934</td>\n      <td>0.324970</td>\n      <td>0.939068</td>\n      <td>0.269461</td>\n      <td>1.0</td>\n      <td>-2.449294e-16</td>\n      <td>1.000000</td>\n      <td>-3.943559e-01</td>\n      <td>0.918958</td>\n    </tr>\n    <tr>\n      <th>23009</th>\n      <td>0.298872</td>\n      <td>0.312871</td>\n      <td>0.000000</td>\n      <td>0.582418</td>\n      <td>0.233766</td>\n      <td>0.576642</td>\n      <td>0.323775</td>\n      <td>0.823937</td>\n      <td>0.291417</td>\n      <td>1.0</td>\n      <td>-2.449294e-16</td>\n      <td>1.000000</td>\n      <td>-2.012985e-01</td>\n      <td>0.979530</td>\n    </tr>\n    <tr>\n      <th>23010</th>\n      <td>0.295113</td>\n      <td>0.299010</td>\n      <td>0.000000</td>\n      <td>0.581197</td>\n      <td>0.168831</td>\n      <td>0.080292</td>\n      <td>0.124253</td>\n      <td>0.115131</td>\n      <td>0.303393</td>\n      <td>1.0</td>\n      <td>-2.449294e-16</td>\n      <td>1.000000</td>\n      <td>-2.449294e-16</td>\n      <td>1.000000</td>\n    </tr>\n  </tbody>\n</table>\n<p>23011 rows × 14 columns</p>\n</div>"
     },
     "execution_count": 16,
     "metadata": {},
     "output_type": "execute_result"
    }
   ],
   "source": [
    "train"
   ],
   "metadata": {
    "collapsed": false,
    "ExecuteTime": {
     "end_time": "2023-12-24T04:23:10.126459900Z",
     "start_time": "2023-12-24T04:23:10.094546500Z"
    }
   },
   "id": "b681c7d16786026f"
  },
  {
   "cell_type": "code",
   "execution_count": 102,
   "outputs": [],
   "source": [
    "window_size = 358*4\n",
    "prediction_length = 358\n",
    "X_train = []\n",
    "y_train = []\n",
    "\n",
    "# 윈도우에 따른 데이터 분할\n",
    "for i in range(window_size, len(train)-357):\n",
    "    X_train.append(train.iloc[i-window_size:i])\n",
    "    y_train.append(train['평균기온'].iloc[i:i+358].values)  # 358일치 평균기온을 배열로 추가"
   ],
   "metadata": {
    "collapsed": false,
    "ExecuteTime": {
     "end_time": "2023-12-24T10:29:57.842754400Z",
     "start_time": "2023-12-24T10:29:55.581601600Z"
    }
   },
   "id": "b2ff8f87ab212d2d"
  },
  {
   "cell_type": "code",
   "execution_count": 103,
   "outputs": [],
   "source": [
    "X_train, y_train = np.array(X_train), np.array(y_train)"
   ],
   "metadata": {
    "collapsed": false,
    "ExecuteTime": {
     "end_time": "2023-12-24T10:30:02.704110100Z",
     "start_time": "2023-12-24T10:29:58.763606200Z"
    }
   },
   "id": "3542641d4b95fa18"
  },
  {
   "cell_type": "code",
   "execution_count": 104,
   "outputs": [
    {
     "data": {
      "text/plain": "(21222, 1432, 14)"
     },
     "execution_count": 104,
     "metadata": {},
     "output_type": "execute_result"
    }
   ],
   "source": [
    "X_train.shape"
   ],
   "metadata": {
    "collapsed": false,
    "ExecuteTime": {
     "end_time": "2023-12-24T10:30:04.010815700Z",
     "start_time": "2023-12-24T10:30:03.994858400Z"
    }
   },
   "id": "f05088f2ceb6e434"
  },
  {
   "cell_type": "code",
   "execution_count": 105,
   "outputs": [
    {
     "data": {
      "text/plain": "(21222, 358)"
     },
     "execution_count": 105,
     "metadata": {},
     "output_type": "execute_result"
    }
   ],
   "source": [
    "y_train.shape"
   ],
   "metadata": {
    "collapsed": false,
    "ExecuteTime": {
     "end_time": "2023-12-24T10:30:04.350107300Z",
     "start_time": "2023-12-24T10:30:04.321055500Z"
    }
   },
   "id": "c0885a758cafc7d"
  },
  {
   "cell_type": "code",
   "execution_count": 106,
   "outputs": [],
   "source": [
    "early_stopping = EarlyStopping(monitor='val_loss', patience=5, restore_best_weights=True)\n",
    "\n",
    "reduce_lr = ReduceLROnPlateau(monitor='val_loss', factor=0.5,\n",
    "                              patience=3, min_lr=0.00001)\n",
    "\n",
    "class LearningRateTracker(Callback):\n",
    "    def on_epoch_begin(self, epoch, logs=None):\n",
    "        lr = self.model.optimizer.lr\n",
    "        # 학습률을 실제 값으로 변환하고 float 타입으로 캐스팅\n",
    "        current_lr = float(K.eval(lr))\n",
    "        # 반올림\n",
    "        rounded_lr = round(current_lr, 6)\n",
    "        print(f'에포크 {epoch + 1}: 현재 학습률 = {rounded_lr}')\n",
    "\n",
    "# 콜백 인스턴스 생성\n",
    "lr_tracker = LearningRateTracker()"
   ],
   "metadata": {
    "collapsed": false,
    "ExecuteTime": {
     "end_time": "2023-12-24T10:30:06.430575400Z",
     "start_time": "2023-12-24T10:30:06.417609900Z"
    }
   },
   "id": "ccb6054608bfb299"
  },
  {
   "cell_type": "code",
   "execution_count": 126,
   "outputs": [
    {
     "ename": "IndexError",
     "evalue": "tuple index out of range",
     "output_type": "error",
     "traceback": [
      "\u001B[1;31m---------------------------------------------------------------------------\u001B[0m",
      "\u001B[1;31mIndexError\u001B[0m                                Traceback (most recent call last)",
      "Cell \u001B[1;32mIn[126], line 5\u001B[0m\n\u001B[0;32m      2\u001B[0m model \u001B[38;5;241m=\u001B[39m Sequential()\n\u001B[0;32m      3\u001B[0m \u001B[38;5;66;03m# 첫 번째 ConvLSTM2D 레이어\u001B[39;00m\n\u001B[0;32m      4\u001B[0m model\u001B[38;5;241m.\u001B[39madd(ConvLSTM2D(filters\u001B[38;5;241m=\u001B[39m\u001B[38;5;241m64\u001B[39m, kernel_size\u001B[38;5;241m=\u001B[39m(\u001B[38;5;241m3\u001B[39m, \u001B[38;5;241m3\u001B[39m), return_sequences\u001B[38;5;241m=\u001B[39m\u001B[38;5;28;01mTrue\u001B[39;00m,\n\u001B[1;32m----> 5\u001B[0m                      input_shape\u001B[38;5;241m=\u001B[39m(\u001B[38;5;28;01mNone\u001B[39;00m, X_train\u001B[38;5;241m.\u001B[39mshape[\u001B[38;5;241m2\u001B[39m], \u001B[43mX_train\u001B[49m\u001B[38;5;241;43m.\u001B[39;49m\u001B[43mshape\u001B[49m\u001B[43m[\u001B[49m\u001B[38;5;241;43m3\u001B[39;49m\u001B[43m]\u001B[49m, X_train\u001B[38;5;241m.\u001B[39mshape[\u001B[38;5;241m4\u001B[39m])))\n\u001B[0;32m      6\u001B[0m \u001B[38;5;66;03m# 두 번째 ConvLSTM2D 레이어\u001B[39;00m\n\u001B[0;32m      7\u001B[0m model\u001B[38;5;241m.\u001B[39madd(ConvLSTM2D(filters\u001B[38;5;241m=\u001B[39m\u001B[38;5;241m64\u001B[39m, kernel_size\u001B[38;5;241m=\u001B[39m(\u001B[38;5;241m3\u001B[39m, \u001B[38;5;241m3\u001B[39m), return_sequences\u001B[38;5;241m=\u001B[39m\u001B[38;5;28;01mTrue\u001B[39;00m))\n",
      "\u001B[1;31mIndexError\u001B[0m: tuple index out of range"
     ]
    }
   ],
   "source": [],
   "metadata": {
    "collapsed": false,
    "ExecuteTime": {
     "end_time": "2023-12-24T12:05:25.815745400Z",
     "start_time": "2023-12-24T12:05:25.597300400Z"
    }
   },
   "id": "e90e0be9aa1aa63e"
  },
  {
   "cell_type": "code",
   "execution_count": 123,
   "outputs": [
    {
     "name": "stdout",
     "output_type": "stream",
     "text": [
      "Model: \"sequential_30\"\n",
      "_________________________________________________________________\n",
      "Layer (type)                 Output Shape              Param #   \n",
      "=================================================================\n",
      "gru_54 (GRU)                 (None, 1432, 64)          15360     \n",
      "_________________________________________________________________\n",
      "gru_55 (GRU)                 (None, 1432, 64)          24960     \n",
      "_________________________________________________________________\n",
      "gru_56 (GRU)                 (None, 64)                24960     \n",
      "_________________________________________________________________\n",
      "dense_25 (Dense)             (None, 358)               23270     \n",
      "=================================================================\n",
      "Total params: 88,550\n",
      "Trainable params: 88,550\n",
      "Non-trainable params: 0\n",
      "_________________________________________________________________\n"
     ]
    }
   ],
   "source": [
    "# # 모델 구축\n",
    "# model = Sequential()\n",
    "# model.add(GRU(units=64, return_sequences=True, input_shape=(X_train.shape[1], X_train.shape[2])))\n",
    "# model.add(GRU(units=64 , return_sequences=True))\n",
    "# model.add(GRU(units=64 )) \n",
    "# model.add(Dense(units=358 ))\n",
    "# \n",
    "# # 모델 컴파일\n",
    "# model.compile(optimizer=Adam(learning_rate=0.001), loss='mean_squared_error')\n",
    "# \n",
    "# # 모델 요약 출력\n",
    "# model.summary()"
   ],
   "metadata": {
    "collapsed": false,
    "ExecuteTime": {
     "end_time": "2023-12-24T11:08:06.765334200Z",
     "start_time": "2023-12-24T11:08:06.077622800Z"
    }
   },
   "id": "242538113ba42f41"
  },
  {
   "cell_type": "code",
   "execution_count": 124,
   "outputs": [
    {
     "name": "stdout",
     "output_type": "stream",
     "text": [
      "Epoch 1/50\n",
      "에포크 1: 현재 학습률 = 0.001\n",
      "299/299 [==============================] - 37s 110ms/step - loss: 0.0235 - val_loss: 0.0050\n",
      "Epoch 2/50\n",
      "에포크 2: 현재 학습률 = 0.001\n",
      "299/299 [==============================] - 32s 107ms/step - loss: 0.0045 - val_loss: 0.0048\n",
      "Epoch 3/50\n",
      "에포크 3: 현재 학습률 = 0.001\n",
      "299/299 [==============================] - 32s 107ms/step - loss: 0.0043 - val_loss: 0.0045\n",
      "Epoch 4/50\n",
      "에포크 4: 현재 학습률 = 0.001\n",
      "299/299 [==============================] - 31s 104ms/step - loss: 0.0042 - val_loss: 0.0044\n",
      "Epoch 5/50\n",
      "에포크 5: 현재 학습률 = 0.001\n",
      "299/299 [==============================] - 31s 104ms/step - loss: 0.0042 - val_loss: 0.0045\n",
      "Epoch 6/50\n",
      "에포크 6: 현재 학습률 = 0.001\n",
      "299/299 [==============================] - 31s 104ms/step - loss: 0.0042 - val_loss: 0.0045\n",
      "Epoch 7/50\n",
      "에포크 7: 현재 학습률 = 0.0005\n",
      "299/299 [==============================] - 31s 103ms/step - loss: 0.0041 - val_loss: 0.0044\n",
      "Epoch 8/50\n",
      "에포크 8: 현재 학습률 = 0.0005\n",
      "299/299 [==============================] - 31s 104ms/step - loss: 0.0041 - val_loss: 0.0044\n",
      "Epoch 9/50\n",
      "에포크 9: 현재 학습률 = 0.0005\n",
      "299/299 [==============================] - 31s 104ms/step - loss: 0.0041 - val_loss: 0.0044\n",
      "Epoch 10/50\n",
      "에포크 10: 현재 학습률 = 0.0005\n",
      "299/299 [==============================] - 31s 104ms/step - loss: 0.0041 - val_loss: 0.0044\n",
      "Epoch 11/50\n",
      "에포크 11: 현재 학습률 = 0.0005\n",
      "299/299 [==============================] - 31s 104ms/step - loss: 0.0041 - val_loss: 0.0044\n",
      "Epoch 12/50\n",
      "에포크 12: 현재 학습률 = 0.00025\n",
      "299/299 [==============================] - 31s 104ms/step - loss: 0.0041 - val_loss: 0.0044\n",
      "Epoch 13/50\n",
      "에포크 13: 현재 학습률 = 0.00025\n",
      "299/299 [==============================] - 31s 104ms/step - loss: 0.0041 - val_loss: 0.0044\n",
      "Epoch 14/50\n",
      "에포크 14: 현재 학습률 = 0.00025\n",
      "299/299 [==============================] - 31s 104ms/step - loss: 0.0041 - val_loss: 0.0044\n",
      "Epoch 15/50\n",
      "에포크 15: 현재 학습률 = 0.000125\n",
      "299/299 [==============================] - 31s 104ms/step - loss: 0.0041 - val_loss: 0.0044\n",
      "Epoch 16/50\n",
      "에포크 16: 현재 학습률 = 0.000125\n",
      "299/299 [==============================] - 31s 104ms/step - loss: 0.0041 - val_loss: 0.0043\n",
      "Epoch 17/50\n",
      "에포크 17: 현재 학습률 = 0.000125\n",
      "299/299 [==============================] - 31s 104ms/step - loss: 0.0041 - val_loss: 0.0044\n",
      "Epoch 18/50\n",
      "에포크 18: 현재 학습률 = 6.3e-05\n",
      "299/299 [==============================] - 31s 104ms/step - loss: 0.0040 - val_loss: 0.0044\n",
      "Epoch 19/50\n",
      "에포크 19: 현재 학습률 = 6.3e-05\n",
      "299/299 [==============================] - 31s 104ms/step - loss: 0.0040 - val_loss: 0.0044\n",
      "Epoch 20/50\n",
      "에포크 20: 현재 학습률 = 6.3e-05\n",
      "299/299 [==============================] - 31s 104ms/step - loss: 0.0040 - val_loss: 0.0044\n",
      "Epoch 21/50\n",
      "에포크 21: 현재 학습률 = 3.1e-05\n",
      "299/299 [==============================] - 31s 104ms/step - loss: 0.0040 - val_loss: 0.0044\n"
     ]
    }
   ],
   "source": [
    "# 모델 훈련\n",
    "history = model.fit(X_train, y_train, epochs=50, batch_size=64, validation_split=0.1, verbose=1, callbacks=[reduce_lr, early_stopping, lr_tracker])"
   ],
   "metadata": {
    "collapsed": false,
    "ExecuteTime": {
     "end_time": "2023-12-24T11:19:10.874620600Z",
     "start_time": "2023-12-24T11:08:10.040860100Z"
    }
   },
   "id": "a27ffbb07b07dbb7"
  },
  {
   "cell_type": "code",
   "execution_count": 109,
   "outputs": [
    {
     "name": "stdout",
     "output_type": "stream",
     "text": [
      "<class 'numpy.ndarray'> (21222, 1432, 14)\n",
      "<class 'numpy.ndarray'> (21222, 358)\n"
     ]
    }
   ],
   "source": [
    "# 데이터 타입과 차원 확인\n",
    "print(type(X_train), X_train.shape)\n",
    "print(type(y_train), y_train.shape)"
   ],
   "metadata": {
    "collapsed": false,
    "ExecuteTime": {
     "end_time": "2023-12-24T10:49:04.732117500Z",
     "start_time": "2023-12-24T10:49:04.699153100Z"
    }
   },
   "id": "52ebe9a7e358e02d"
  },
  {
   "cell_type": "code",
   "execution_count": 109,
   "outputs": [],
   "source": [],
   "metadata": {
    "collapsed": false,
    "ExecuteTime": {
     "end_time": "2023-12-24T10:49:05.289875400Z",
     "start_time": "2023-12-24T10:49:05.269928700Z"
    }
   },
   "id": "d0cb66839857d42c"
  },
  {
   "cell_type": "code",
   "execution_count": 110,
   "outputs": [],
   "source": [
    "predict_data = X_train[-1].reshape(1, -1, 14)"
   ],
   "metadata": {
    "collapsed": false,
    "ExecuteTime": {
     "end_time": "2023-12-24T10:49:05.686701300Z",
     "start_time": "2023-12-24T10:49:05.503190700Z"
    }
   },
   "id": "5b74be8b57cafcbb"
  },
  {
   "cell_type": "code",
   "execution_count": 111,
   "outputs": [],
   "source": [
    "pred = model.predict(predict_data)"
   ],
   "metadata": {
    "collapsed": false,
    "ExecuteTime": {
     "end_time": "2023-12-24T10:49:06.566999700Z",
     "start_time": "2023-12-24T10:49:05.718615400Z"
    }
   },
   "id": "88af11eae2710e7b"
  },
  {
   "cell_type": "code",
   "execution_count": 112,
   "outputs": [
    {
     "data": {
      "text/plain": "array([[0.30355653, 0.29358548, 0.29948848, 0.29686874, 0.2913569 ,\n        0.29516962, 0.29452828, 0.2923019 , 0.2937223 , 0.29421532,\n        0.28307536, 0.28812316, 0.29130435, 0.29204068, 0.2852926 ,\n        0.28917354, 0.29682398, 0.29413262, 0.2941746 , 0.29619047,\n        0.29583105, 0.28877935, 0.29574317, 0.29521072, 0.29445305,\n        0.2994146 , 0.29957998, 0.29942498, 0.30264974, 0.31062442,\n        0.30099258, 0.3096087 , 0.3163325 , 0.32053995, 0.32160506,\n        0.3246101 , 0.32513916, 0.32220507, 0.32836488, 0.33473048,\n        0.33895046, 0.34580258, 0.33722085, 0.35015023, 0.34613577,\n        0.34534347, 0.35088885, 0.35677677, 0.36120754, 0.37384024,\n        0.37344962, 0.3719427 , 0.37430704, 0.38089737, 0.38606527,\n        0.3892528 , 0.39072642, 0.39109126, 0.405672  , 0.40120518,\n        0.4094008 , 0.4165422 , 0.41208085, 0.41657192, 0.42973262,\n        0.43102652, 0.43435946, 0.4445545 , 0.44220015, 0.4484799 ,\n        0.4471367 , 0.45039168, 0.45854214, 0.46361485, 0.477853  ,\n        0.48491907, 0.47151977, 0.48092976, 0.48852134, 0.49740928,\n        0.50210905, 0.5033991 , 0.5079979 , 0.50756484, 0.51989067,\n        0.5287093 , 0.5239205 , 0.5268192 , 0.5362618 , 0.53304255,\n        0.5370004 , 0.5476856 , 0.5542583 , 0.55686957, 0.5573917 ,\n        0.56391525, 0.5626451 , 0.5716277 , 0.5735777 , 0.5816263 ,\n        0.58857876, 0.59242207, 0.59865683, 0.5997992 , 0.60501426,\n        0.6108387 , 0.6078474 , 0.6163841 , 0.6182403 , 0.6154876 ,\n        0.62746996, 0.62813514, 0.6398527 , 0.63727325, 0.63557804,\n        0.6359732 , 0.64158046, 0.64552206, 0.64807534, 0.6546863 ,\n        0.65724117, 0.6600705 , 0.66832066, 0.6718918 , 0.6618641 ,\n        0.670838  , 0.6691297 , 0.67873484, 0.68121153, 0.68467677,\n        0.6953047 , 0.70014715, 0.70057344, 0.6989999 , 0.7048546 ,\n        0.7060229 , 0.71287805, 0.71913123, 0.71443737, 0.7212555 ,\n        0.7158504 , 0.73540115, 0.7339633 , 0.73541415, 0.72998583,\n        0.7402356 , 0.73830247, 0.73474187, 0.74249923, 0.7438983 ,\n        0.75045294, 0.75339293, 0.7522813 , 0.7635683 , 0.76547533,\n        0.7610797 , 0.75887305, 0.7665992 , 0.7651794 , 0.7704407 ,\n        0.7707333 , 0.7771416 , 0.778809  , 0.78364974, 0.78444856,\n        0.7921834 , 0.79789245, 0.79905415, 0.8074969 , 0.80192673,\n        0.80371076, 0.80177253, 0.812816  , 0.8089699 , 0.8074786 ,\n        0.8154946 , 0.81343913, 0.81488734, 0.82614815, 0.8242512 ,\n        0.8244066 , 0.824658  , 0.82486576, 0.83165133, 0.83613753,\n        0.8332797 , 0.8490749 , 0.84215117, 0.84672445, 0.8433184 ,\n        0.8418959 , 0.85025275, 0.8498805 , 0.845864  , 0.8470669 ,\n        0.85469294, 0.8427105 , 0.85469234, 0.8498752 , 0.848951  ,\n        0.85307765, 0.85557085, 0.84909993, 0.8548225 , 0.85857326,\n        0.8591313 , 0.8564187 , 0.8634456 , 0.8596342 , 0.8630028 ,\n        0.8640827 , 0.85879827, 0.86031   , 0.8554215 , 0.85183394,\n        0.85293525, 0.8460651 , 0.8551013 , 0.854782  , 0.8487628 ,\n        0.8438003 , 0.8455773 , 0.84751874, 0.84999436, 0.84349805,\n        0.8482965 , 0.84286493, 0.84485537, 0.8465326 , 0.8448818 ,\n        0.83897156, 0.8324373 , 0.83075815, 0.8294981 , 0.83283603,\n        0.82759154, 0.82860714, 0.8180842 , 0.820277  , 0.8185485 ,\n        0.8163616 , 0.8075796 , 0.80308473, 0.804465  , 0.7958288 ,\n        0.79317683, 0.7911564 , 0.7847532 , 0.78800344, 0.78355736,\n        0.77618456, 0.77516174, 0.7824199 , 0.7680517 , 0.7666249 ,\n        0.7692143 , 0.76099336, 0.75943494, 0.75029606, 0.7461272 ,\n        0.7529801 , 0.74349093, 0.7364729 , 0.7269286 , 0.7207097 ,\n        0.7197464 , 0.72526795, 0.71611035, 0.7135238 , 0.7100141 ,\n        0.69738805, 0.6940801 , 0.6911629 , 0.69049174, 0.68164366,\n        0.6765838 , 0.6771681 , 0.6661596 , 0.65957737, 0.6582906 ,\n        0.6564567 , 0.64949846, 0.65057766, 0.6474256 , 0.63412863,\n        0.6361807 , 0.62961495, 0.6284287 , 0.6248024 , 0.6077112 ,\n        0.6047316 , 0.58958316, 0.59245694, 0.58979356, 0.58915627,\n        0.58270806, 0.5753512 , 0.56894046, 0.56761646, 0.5605169 ,\n        0.55144703, 0.5524257 , 0.5487329 , 0.5475269 , 0.53871423,\n        0.5305814 , 0.52768993, 0.52497   , 0.5176851 , 0.50932217,\n        0.5008767 , 0.5023625 , 0.4877675 , 0.48367447, 0.4844048 ,\n        0.4752309 , 0.46842158, 0.4663118 , 0.47065967, 0.46091333,\n        0.45421463, 0.4491912 , 0.4455513 , 0.4352556 , 0.43158445,\n        0.43658048, 0.4258577 , 0.41218203, 0.41319716, 0.4122807 ,\n        0.40558562, 0.39572766, 0.40102825, 0.38947684, 0.3902836 ,\n        0.3825404 , 0.38397932, 0.3835488 , 0.3753604 , 0.37426472,\n        0.36535975, 0.35971776, 0.3501303 , 0.35438323, 0.3459282 ,\n        0.35074943, 0.35535833, 0.3417956 , 0.33505   , 0.33219787,\n        0.32393107, 0.32005745, 0.3237548 , 0.3222863 , 0.3210863 ,\n        0.31798464, 0.31121314, 0.30429298]], dtype=float32)"
     },
     "execution_count": 112,
     "metadata": {},
     "output_type": "execute_result"
    }
   ],
   "source": [
    "pred"
   ],
   "metadata": {
    "collapsed": false,
    "ExecuteTime": {
     "end_time": "2023-12-24T10:49:06.583954100Z",
     "start_time": "2023-12-24T10:49:06.567997400Z"
    }
   },
   "id": "4fdfb2448b11bd25"
  },
  {
   "cell_type": "code",
   "execution_count": 113,
   "outputs": [
    {
     "data": {
      "text/plain": "(1, 358)"
     },
     "execution_count": 113,
     "metadata": {},
     "output_type": "execute_result"
    }
   ],
   "source": [
    "pred.shape"
   ],
   "metadata": {
    "collapsed": false,
    "ExecuteTime": {
     "end_time": "2023-12-24T10:49:07.779886900Z",
     "start_time": "2023-12-24T10:49:07.758943600Z"
    }
   },
   "id": "9859d49b41b58f85"
  },
  {
   "cell_type": "code",
   "execution_count": 114,
   "outputs": [],
   "source": [
    "# MinMaxScaler의 역변환을 수행하는 함수 정의\n",
    "def inverse_minmax_scaling(scaled_data, min_val, max_val):\n",
    "    return (scaled_data * (max_val - min_val)) + min_val\n",
    "\n",
    "# 최소값과 최대값 정의\n",
    "min_val = -16.4\n",
    "max_val = 33.7\n",
    "\n",
    "# 역변환 수행\n",
    "pred = inverse_minmax_scaling(pred, min_val, max_val)"
   ],
   "metadata": {
    "collapsed": false,
    "ExecuteTime": {
     "end_time": "2023-12-24T10:49:09.130950900Z",
     "start_time": "2023-12-24T10:49:09.095984600Z"
    }
   },
   "id": "accc095c2fa9d95b"
  },
  {
   "cell_type": "code",
   "execution_count": 115,
   "outputs": [
    {
     "data": {
      "text/plain": "array([[-1.1918182 , -1.6913671 , -1.395627  , -1.5268764 , -1.8030195 ,\n        -1.6120024 , -1.6441336 , -1.7556753 , -1.6845131 , -1.6598129 ,\n        -2.217924  , -1.9650297 , -1.8056517 , -1.7687626 , -2.106841  ,\n        -1.912406  , -1.5291185 , -1.6639557 , -1.6618519 , -1.5608578 ,\n        -1.5788641 , -1.9321547 , -1.5832672 , -1.6099434 , -1.6479025 ,\n        -1.3993282 , -1.3910427 , -1.3988085 , -1.2372484 , -0.83771706,\n        -1.3202715 , -0.88860416, -0.55174255, -0.3409481 , -0.2875862 ,\n        -0.13703346, -0.11052704, -0.2575264 ,  0.0510807 ,  0.36999702,\n         0.5814171 ,  0.9247093 ,  0.49476433,  1.1425266 ,  0.94140244,\n         0.9017086 ,  1.1795311 ,  1.4745159 ,  1.696497  ,  2.3293953 ,\n         2.309826  ,  2.2343292 ,  2.3527832 ,  2.6829586 ,  2.9418697 ,\n         3.1015663 ,  3.175394  ,  3.1936722 ,  3.9241676 ,  3.7003803 ,\n         4.110979  ,  4.4687634 ,  4.2452507 ,  4.470253  ,  5.1296043 ,\n         5.1944275 ,  5.361408  ,  5.872181  ,  5.7542267 ,  6.068842  ,\n         6.001549  ,  6.1646233 ,  6.57296   ,  6.8271046 ,  7.540436  ,\n         7.8944454 ,  7.2231407 ,  7.69458   ,  8.074919  ,  8.520205  ,\n         8.755663  ,  8.820293  ,  9.0506935 ,  9.028997  ,  9.6465225 ,\n        10.088335  ,  9.848415  ,  9.993643  , 10.466715  , 10.305431  ,\n        10.503721  , 11.039049  , 11.36834   , 11.499165  , 11.525324  ,\n        11.852154  , 11.788517  , 12.238546  , 12.336243  , 12.739477  ,\n        13.087795  , 13.280346  , 13.592707  , 13.6499405 , 13.911215  ,\n        14.203018  , 14.053154  , 14.480843  , 14.573839  , 14.435926  ,\n        15.036243  , 15.069571  , 15.656618  , 15.52739   , 15.442459  ,\n        15.462257  , 15.743181  , 15.940653  , 16.068575  , 16.399782  ,\n        16.52778   , 16.66953   , 17.082865  , 17.261778  , 16.75939   ,\n        17.208982  , 17.1234    , 17.604616  , 17.728697  , 17.902304  ,\n        18.434763  , 18.67737   , 18.698729  , 18.619894  , 18.913214  ,\n        18.971746  , 19.315191  , 19.628473  , 19.393312  , 19.7349    ,\n        19.464106  , 20.443598  , 20.371561  , 20.444246  , 20.172289  ,\n        20.685804  , 20.588953  , 20.410566  , 20.799212  , 20.869303  ,\n        21.197691  , 21.344984  , 21.289293  , 21.854769  , 21.950312  ,\n        21.730093  , 21.61954   , 22.006617  , 21.935488  , 22.19908   ,\n        22.213736  , 22.534792  , 22.61833   , 22.860853  , 22.900873  ,\n        23.28839   , 23.574411  , 23.632612  , 24.055593  , 23.77653   ,\n        23.865908  , 23.768805  , 24.32208   , 24.129393  , 24.054678  ,\n        24.456278  , 24.3533    , 24.425856  , 24.990023  , 24.894983  ,\n        24.90277   , 24.915365  , 24.925772  , 25.26573   , 25.490488  ,\n        25.347315  , 26.13865   , 25.791773  , 26.020895  , 25.850252  ,\n        25.778982  , 26.19766   , 26.179014  , 25.977785  , 26.03805   ,\n        26.420115  , 25.819796  , 26.420084  , 26.178747  , 26.132444  ,\n        26.33919   , 26.464098  , 26.139906  , 26.426607  , 26.61452   ,\n        26.642477  , 26.506578  , 26.858622  , 26.667673  , 26.83644   ,\n        26.890543  , 26.625792  , 26.701532  , 26.456614  , 26.27688   ,\n        26.332056  , 25.98786   , 26.440573  , 26.424578  , 26.123014  ,\n        25.874395  , 25.963423  , 26.06069   , 26.184717  , 25.859251  ,\n        26.099653  , 25.827532  , 25.927252  , 26.011282  , 25.928576  ,\n        25.632475  , 25.305105  , 25.220984  , 25.157854  , 25.325083  ,\n        25.062334  , 25.113218  , 24.586016  , 24.695875  , 24.609278  ,\n        24.499716  , 24.059736  , 23.834543  , 23.903696  , 23.471022  ,\n        23.33816   , 23.236937  , 22.916136  , 23.07897   , 22.856222  ,\n        22.486845  , 22.435602  , 22.799238  , 22.07939   , 22.00791   ,\n        22.137632  , 21.725767  , 21.647688  , 21.189833  , 20.98097   ,\n        21.324305  , 20.848894  , 20.497293  , 20.019121  , 19.707556  ,\n        19.659296  , 19.935923  , 19.477129  , 19.347544  , 19.171705  ,\n        18.53914   , 18.373411  , 18.227259  , 18.193636  , 17.750345  ,\n        17.496847  , 17.526121  , 16.974592  , 16.644827  , 16.580359  ,\n        16.488482  , 16.139872  , 16.193941  , 16.03602   , 15.369844  ,\n        15.472652  , 15.143709  , 15.084278  , 14.902599  , 14.0463295 ,\n        13.897053  , 13.138115  , 13.282091  , 13.148657  , 13.116728  ,\n        12.793673  , 12.425093  , 12.103916  , 12.037584  , 11.681896  ,\n        11.227495  , 11.2765255 , 11.0915165 , 11.031097  , 10.589582  ,\n        10.182129  , 10.037266  ,  9.900997  ,  9.536024  ,  9.117041  ,\n         8.693924  ,  8.76836   ,  8.037151  ,  7.8320904 ,  7.868681  ,\n         7.409067  ,  7.0679207 ,  6.962221  ,  7.18005   ,  6.691757  ,\n         6.3561535 ,  6.104479  ,  5.922121  ,  5.4063053 ,  5.2223797 ,\n         5.472681  ,  4.9354706 ,  4.2503204 ,  4.301178  ,  4.2552624 ,\n         3.9198399 ,  3.4259548 ,  3.691515  ,  3.1127892 ,  3.1532097 ,\n         2.765274  ,  2.8373642 ,  2.815794  ,  2.4055557 ,  2.3506622 ,\n         1.9045238 ,  1.6218586 ,  1.1415272 ,  1.354599  ,  0.93100166,\n         1.1725464 ,  1.4034519 ,  0.72395897,  0.3860035 ,  0.24311256,\n        -0.17105293, -0.36512184, -0.17988586, -0.25345612, -0.31357765,\n        -0.46896935, -0.8082218 , -1.1549215 ]], dtype=float32)"
     },
     "execution_count": 115,
     "metadata": {},
     "output_type": "execute_result"
    }
   ],
   "source": [
    "pred"
   ],
   "metadata": {
    "collapsed": false,
    "ExecuteTime": {
     "end_time": "2023-12-24T10:49:09.394120400Z",
     "start_time": "2023-12-24T10:49:09.370184300Z"
    }
   },
   "id": "b44e3483ba7df97d"
  },
  {
   "cell_type": "code",
   "execution_count": 116,
   "outputs": [
    {
     "data": {
      "text/plain": "(1, 358)"
     },
     "execution_count": 116,
     "metadata": {},
     "output_type": "execute_result"
    }
   ],
   "source": [
    "pred.shape"
   ],
   "metadata": {
    "collapsed": false,
    "ExecuteTime": {
     "end_time": "2023-12-24T10:49:12.911908800Z",
     "start_time": "2023-12-24T10:49:12.885978300Z"
    }
   },
   "id": "dde54883cf0c81f6"
  },
  {
   "cell_type": "code",
   "execution_count": 117,
   "outputs": [],
   "source": [
    "pred = pred[-1].reshape(-1,)"
   ],
   "metadata": {
    "collapsed": false,
    "ExecuteTime": {
     "end_time": "2023-12-24T10:49:13.902675500Z",
     "start_time": "2023-12-24T10:49:13.884723700Z"
    }
   },
   "id": "f95c2310cb08bf67"
  },
  {
   "cell_type": "code",
   "execution_count": 118,
   "outputs": [
    {
     "data": {
      "text/plain": "array([-1.1918182 , -1.6913671 , -1.395627  , -1.5268764 , -1.8030195 ,\n       -1.6120024 , -1.6441336 , -1.7556753 , -1.6845131 , -1.6598129 ,\n       -2.217924  , -1.9650297 , -1.8056517 , -1.7687626 , -2.106841  ,\n       -1.912406  , -1.5291185 , -1.6639557 , -1.6618519 , -1.5608578 ,\n       -1.5788641 , -1.9321547 , -1.5832672 , -1.6099434 , -1.6479025 ,\n       -1.3993282 , -1.3910427 , -1.3988085 , -1.2372484 , -0.83771706,\n       -1.3202715 , -0.88860416, -0.55174255, -0.3409481 , -0.2875862 ,\n       -0.13703346, -0.11052704, -0.2575264 ,  0.0510807 ,  0.36999702,\n        0.5814171 ,  0.9247093 ,  0.49476433,  1.1425266 ,  0.94140244,\n        0.9017086 ,  1.1795311 ,  1.4745159 ,  1.696497  ,  2.3293953 ,\n        2.309826  ,  2.2343292 ,  2.3527832 ,  2.6829586 ,  2.9418697 ,\n        3.1015663 ,  3.175394  ,  3.1936722 ,  3.9241676 ,  3.7003803 ,\n        4.110979  ,  4.4687634 ,  4.2452507 ,  4.470253  ,  5.1296043 ,\n        5.1944275 ,  5.361408  ,  5.872181  ,  5.7542267 ,  6.068842  ,\n        6.001549  ,  6.1646233 ,  6.57296   ,  6.8271046 ,  7.540436  ,\n        7.8944454 ,  7.2231407 ,  7.69458   ,  8.074919  ,  8.520205  ,\n        8.755663  ,  8.820293  ,  9.0506935 ,  9.028997  ,  9.6465225 ,\n       10.088335  ,  9.848415  ,  9.993643  , 10.466715  , 10.305431  ,\n       10.503721  , 11.039049  , 11.36834   , 11.499165  , 11.525324  ,\n       11.852154  , 11.788517  , 12.238546  , 12.336243  , 12.739477  ,\n       13.087795  , 13.280346  , 13.592707  , 13.6499405 , 13.911215  ,\n       14.203018  , 14.053154  , 14.480843  , 14.573839  , 14.435926  ,\n       15.036243  , 15.069571  , 15.656618  , 15.52739   , 15.442459  ,\n       15.462257  , 15.743181  , 15.940653  , 16.068575  , 16.399782  ,\n       16.52778   , 16.66953   , 17.082865  , 17.261778  , 16.75939   ,\n       17.208982  , 17.1234    , 17.604616  , 17.728697  , 17.902304  ,\n       18.434763  , 18.67737   , 18.698729  , 18.619894  , 18.913214  ,\n       18.971746  , 19.315191  , 19.628473  , 19.393312  , 19.7349    ,\n       19.464106  , 20.443598  , 20.371561  , 20.444246  , 20.172289  ,\n       20.685804  , 20.588953  , 20.410566  , 20.799212  , 20.869303  ,\n       21.197691  , 21.344984  , 21.289293  , 21.854769  , 21.950312  ,\n       21.730093  , 21.61954   , 22.006617  , 21.935488  , 22.19908   ,\n       22.213736  , 22.534792  , 22.61833   , 22.860853  , 22.900873  ,\n       23.28839   , 23.574411  , 23.632612  , 24.055593  , 23.77653   ,\n       23.865908  , 23.768805  , 24.32208   , 24.129393  , 24.054678  ,\n       24.456278  , 24.3533    , 24.425856  , 24.990023  , 24.894983  ,\n       24.90277   , 24.915365  , 24.925772  , 25.26573   , 25.490488  ,\n       25.347315  , 26.13865   , 25.791773  , 26.020895  , 25.850252  ,\n       25.778982  , 26.19766   , 26.179014  , 25.977785  , 26.03805   ,\n       26.420115  , 25.819796  , 26.420084  , 26.178747  , 26.132444  ,\n       26.33919   , 26.464098  , 26.139906  , 26.426607  , 26.61452   ,\n       26.642477  , 26.506578  , 26.858622  , 26.667673  , 26.83644   ,\n       26.890543  , 26.625792  , 26.701532  , 26.456614  , 26.27688   ,\n       26.332056  , 25.98786   , 26.440573  , 26.424578  , 26.123014  ,\n       25.874395  , 25.963423  , 26.06069   , 26.184717  , 25.859251  ,\n       26.099653  , 25.827532  , 25.927252  , 26.011282  , 25.928576  ,\n       25.632475  , 25.305105  , 25.220984  , 25.157854  , 25.325083  ,\n       25.062334  , 25.113218  , 24.586016  , 24.695875  , 24.609278  ,\n       24.499716  , 24.059736  , 23.834543  , 23.903696  , 23.471022  ,\n       23.33816   , 23.236937  , 22.916136  , 23.07897   , 22.856222  ,\n       22.486845  , 22.435602  , 22.799238  , 22.07939   , 22.00791   ,\n       22.137632  , 21.725767  , 21.647688  , 21.189833  , 20.98097   ,\n       21.324305  , 20.848894  , 20.497293  , 20.019121  , 19.707556  ,\n       19.659296  , 19.935923  , 19.477129  , 19.347544  , 19.171705  ,\n       18.53914   , 18.373411  , 18.227259  , 18.193636  , 17.750345  ,\n       17.496847  , 17.526121  , 16.974592  , 16.644827  , 16.580359  ,\n       16.488482  , 16.139872  , 16.193941  , 16.03602   , 15.369844  ,\n       15.472652  , 15.143709  , 15.084278  , 14.902599  , 14.0463295 ,\n       13.897053  , 13.138115  , 13.282091  , 13.148657  , 13.116728  ,\n       12.793673  , 12.425093  , 12.103916  , 12.037584  , 11.681896  ,\n       11.227495  , 11.2765255 , 11.0915165 , 11.031097  , 10.589582  ,\n       10.182129  , 10.037266  ,  9.900997  ,  9.536024  ,  9.117041  ,\n        8.693924  ,  8.76836   ,  8.037151  ,  7.8320904 ,  7.868681  ,\n        7.409067  ,  7.0679207 ,  6.962221  ,  7.18005   ,  6.691757  ,\n        6.3561535 ,  6.104479  ,  5.922121  ,  5.4063053 ,  5.2223797 ,\n        5.472681  ,  4.9354706 ,  4.2503204 ,  4.301178  ,  4.2552624 ,\n        3.9198399 ,  3.4259548 ,  3.691515  ,  3.1127892 ,  3.1532097 ,\n        2.765274  ,  2.8373642 ,  2.815794  ,  2.4055557 ,  2.3506622 ,\n        1.9045238 ,  1.6218586 ,  1.1415272 ,  1.354599  ,  0.93100166,\n        1.1725464 ,  1.4034519 ,  0.72395897,  0.3860035 ,  0.24311256,\n       -0.17105293, -0.36512184, -0.17988586, -0.25345612, -0.31357765,\n       -0.46896935, -0.8082218 , -1.1549215 ], dtype=float32)"
     },
     "execution_count": 118,
     "metadata": {},
     "output_type": "execute_result"
    }
   ],
   "source": [
    "pred"
   ],
   "metadata": {
    "collapsed": false,
    "ExecuteTime": {
     "end_time": "2023-12-24T10:49:14.386296500Z",
     "start_time": "2023-12-24T10:49:14.366349200Z"
    }
   },
   "id": "f1d5753fc4ee6f6"
  },
  {
   "cell_type": "code",
   "execution_count": 119,
   "outputs": [],
   "source": [
    "sub = pd.read_csv('../data/sample_submission.csv')\n",
    "sub['평균기온'] = pred\n",
    "\n",
    "sub.to_csv('../submission/GRU_5.csv', index=False)"
   ],
   "metadata": {
    "collapsed": false,
    "ExecuteTime": {
     "end_time": "2023-12-24T10:49:39.404375300Z",
     "start_time": "2023-12-24T10:49:39.390411900Z"
    }
   },
   "id": "a9c7e04b62915a93"
  },
  {
   "cell_type": "code",
   "execution_count": null,
   "outputs": [],
   "source": [],
   "metadata": {
    "collapsed": false
   },
   "id": "7ff491defcbc7d99"
  }
 ],
 "metadata": {
  "kernelspec": {
   "display_name": "Python 3",
   "language": "python",
   "name": "python3"
  },
  "language_info": {
   "codemirror_mode": {
    "name": "ipython",
    "version": 2
   },
   "file_extension": ".py",
   "mimetype": "text/x-python",
   "name": "python",
   "nbconvert_exporter": "python",
   "pygments_lexer": "ipython2",
   "version": "2.7.6"
  }
 },
 "nbformat": 4,
 "nbformat_minor": 5
}

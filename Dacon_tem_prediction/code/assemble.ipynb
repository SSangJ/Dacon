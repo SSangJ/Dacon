{
 "cells": [
  {
   "cell_type": "code",
   "execution_count": 68,
   "id": "initial_id",
   "metadata": {
    "collapsed": true,
    "ExecuteTime": {
     "end_time": "2023-12-29T07:15:51.320897500Z",
     "start_time": "2023-12-29T07:15:51.305937Z"
    }
   },
   "outputs": [],
   "source": [
    "import pandas as pd"
   ]
  },
  {
   "cell_type": "code",
   "execution_count": 69,
   "outputs": [],
   "source": [
    "df1 = pd.read_csv(\"../submission/GRU_1.csv\")\n",
    "df2 = pd.read_csv(\"../submission/GRU_12.csv\")"
   ],
   "metadata": {
    "collapsed": false,
    "ExecuteTime": {
     "end_time": "2023-12-29T07:15:51.483043900Z",
     "start_time": "2023-12-29T07:15:51.465092700Z"
    }
   },
   "id": "61fdd53a6cfaa10b"
  },
  {
   "cell_type": "code",
   "execution_count": 70,
   "outputs": [
    {
     "data": {
      "text/plain": "             일시      평균기온\n0    2023-01-01 -3.051067\n1    2023-01-02 -2.957121\n2    2023-01-03 -3.298365\n3    2023-01-04 -2.217601\n4    2023-01-05 -1.894448\n..          ...       ...\n353  2023-12-20 -1.353167\n354  2023-12-21 -0.852178\n355  2023-12-22 -0.779060\n356  2023-12-23 -1.121274\n357  2023-12-24 -1.588264\n\n[358 rows x 2 columns]",
      "text/html": "<div>\n<style scoped>\n    .dataframe tbody tr th:only-of-type {\n        vertical-align: middle;\n    }\n\n    .dataframe tbody tr th {\n        vertical-align: top;\n    }\n\n    .dataframe thead th {\n        text-align: right;\n    }\n</style>\n<table border=\"1\" class=\"dataframe\">\n  <thead>\n    <tr style=\"text-align: right;\">\n      <th></th>\n      <th>일시</th>\n      <th>평균기온</th>\n    </tr>\n  </thead>\n  <tbody>\n    <tr>\n      <th>0</th>\n      <td>2023-01-01</td>\n      <td>-3.051067</td>\n    </tr>\n    <tr>\n      <th>1</th>\n      <td>2023-01-02</td>\n      <td>-2.957121</td>\n    </tr>\n    <tr>\n      <th>2</th>\n      <td>2023-01-03</td>\n      <td>-3.298365</td>\n    </tr>\n    <tr>\n      <th>3</th>\n      <td>2023-01-04</td>\n      <td>-2.217601</td>\n    </tr>\n    <tr>\n      <th>4</th>\n      <td>2023-01-05</td>\n      <td>-1.894448</td>\n    </tr>\n    <tr>\n      <th>...</th>\n      <td>...</td>\n      <td>...</td>\n    </tr>\n    <tr>\n      <th>353</th>\n      <td>2023-12-20</td>\n      <td>-1.353167</td>\n    </tr>\n    <tr>\n      <th>354</th>\n      <td>2023-12-21</td>\n      <td>-0.852178</td>\n    </tr>\n    <tr>\n      <th>355</th>\n      <td>2023-12-22</td>\n      <td>-0.779060</td>\n    </tr>\n    <tr>\n      <th>356</th>\n      <td>2023-12-23</td>\n      <td>-1.121274</td>\n    </tr>\n    <tr>\n      <th>357</th>\n      <td>2023-12-24</td>\n      <td>-1.588264</td>\n    </tr>\n  </tbody>\n</table>\n<p>358 rows × 2 columns</p>\n</div>"
     },
     "execution_count": 70,
     "metadata": {},
     "output_type": "execute_result"
    }
   ],
   "source": [
    "df1"
   ],
   "metadata": {
    "collapsed": false,
    "ExecuteTime": {
     "end_time": "2023-12-29T07:15:51.698183400Z",
     "start_time": "2023-12-29T07:15:51.663086500Z"
    }
   },
   "id": "d4d1e58d7a2cb023"
  },
  {
   "cell_type": "code",
   "execution_count": 71,
   "outputs": [
    {
     "data": {
      "text/plain": "             일시      평균기온\n0    2023-01-01 -2.505351\n1    2023-01-02 -2.404945\n2    2023-01-03 -2.395703\n3    2023-01-04 -2.444104\n4    2023-01-05 -2.410545\n..          ...       ...\n353  2023-12-20 -0.862572\n354  2023-12-21 -1.452875\n355  2023-12-22 -1.815637\n356  2023-12-23 -1.869925\n357  2023-12-24 -1.231518\n\n[358 rows x 2 columns]",
      "text/html": "<div>\n<style scoped>\n    .dataframe tbody tr th:only-of-type {\n        vertical-align: middle;\n    }\n\n    .dataframe tbody tr th {\n        vertical-align: top;\n    }\n\n    .dataframe thead th {\n        text-align: right;\n    }\n</style>\n<table border=\"1\" class=\"dataframe\">\n  <thead>\n    <tr style=\"text-align: right;\">\n      <th></th>\n      <th>일시</th>\n      <th>평균기온</th>\n    </tr>\n  </thead>\n  <tbody>\n    <tr>\n      <th>0</th>\n      <td>2023-01-01</td>\n      <td>-2.505351</td>\n    </tr>\n    <tr>\n      <th>1</th>\n      <td>2023-01-02</td>\n      <td>-2.404945</td>\n    </tr>\n    <tr>\n      <th>2</th>\n      <td>2023-01-03</td>\n      <td>-2.395703</td>\n    </tr>\n    <tr>\n      <th>3</th>\n      <td>2023-01-04</td>\n      <td>-2.444104</td>\n    </tr>\n    <tr>\n      <th>4</th>\n      <td>2023-01-05</td>\n      <td>-2.410545</td>\n    </tr>\n    <tr>\n      <th>...</th>\n      <td>...</td>\n      <td>...</td>\n    </tr>\n    <tr>\n      <th>353</th>\n      <td>2023-12-20</td>\n      <td>-0.862572</td>\n    </tr>\n    <tr>\n      <th>354</th>\n      <td>2023-12-21</td>\n      <td>-1.452875</td>\n    </tr>\n    <tr>\n      <th>355</th>\n      <td>2023-12-22</td>\n      <td>-1.815637</td>\n    </tr>\n    <tr>\n      <th>356</th>\n      <td>2023-12-23</td>\n      <td>-1.869925</td>\n    </tr>\n    <tr>\n      <th>357</th>\n      <td>2023-12-24</td>\n      <td>-1.231518</td>\n    </tr>\n  </tbody>\n</table>\n<p>358 rows × 2 columns</p>\n</div>"
     },
     "execution_count": 71,
     "metadata": {},
     "output_type": "execute_result"
    }
   ],
   "source": [
    "df2"
   ],
   "metadata": {
    "collapsed": false,
    "ExecuteTime": {
     "end_time": "2023-12-29T07:15:51.829832100Z",
     "start_time": "2023-12-29T07:15:51.779965300Z"
    }
   },
   "id": "7d79b010be482045"
  },
  {
   "cell_type": "code",
   "execution_count": 72,
   "outputs": [],
   "source": [
    "df2['평균기온2'] = df1['평균기온']"
   ],
   "metadata": {
    "collapsed": false,
    "ExecuteTime": {
     "end_time": "2023-12-29T07:15:51.989408200Z",
     "start_time": "2023-12-29T07:15:51.946523600Z"
    }
   },
   "id": "4c76089c4ce11d6a"
  },
  {
   "cell_type": "code",
   "execution_count": 73,
   "outputs": [
    {
     "data": {
      "text/plain": "             일시      평균기온     평균기온2\n0    2023-01-01 -2.505351 -3.051067\n1    2023-01-02 -2.404945 -2.957121\n2    2023-01-03 -2.395703 -3.298365\n3    2023-01-04 -2.444104 -2.217601\n4    2023-01-05 -2.410545 -1.894448\n..          ...       ...       ...\n353  2023-12-20 -0.862572 -1.353167\n354  2023-12-21 -1.452875 -0.852178\n355  2023-12-22 -1.815637 -0.779060\n356  2023-12-23 -1.869925 -1.121274\n357  2023-12-24 -1.231518 -1.588264\n\n[358 rows x 3 columns]",
      "text/html": "<div>\n<style scoped>\n    .dataframe tbody tr th:only-of-type {\n        vertical-align: middle;\n    }\n\n    .dataframe tbody tr th {\n        vertical-align: top;\n    }\n\n    .dataframe thead th {\n        text-align: right;\n    }\n</style>\n<table border=\"1\" class=\"dataframe\">\n  <thead>\n    <tr style=\"text-align: right;\">\n      <th></th>\n      <th>일시</th>\n      <th>평균기온</th>\n      <th>평균기온2</th>\n    </tr>\n  </thead>\n  <tbody>\n    <tr>\n      <th>0</th>\n      <td>2023-01-01</td>\n      <td>-2.505351</td>\n      <td>-3.051067</td>\n    </tr>\n    <tr>\n      <th>1</th>\n      <td>2023-01-02</td>\n      <td>-2.404945</td>\n      <td>-2.957121</td>\n    </tr>\n    <tr>\n      <th>2</th>\n      <td>2023-01-03</td>\n      <td>-2.395703</td>\n      <td>-3.298365</td>\n    </tr>\n    <tr>\n      <th>3</th>\n      <td>2023-01-04</td>\n      <td>-2.444104</td>\n      <td>-2.217601</td>\n    </tr>\n    <tr>\n      <th>4</th>\n      <td>2023-01-05</td>\n      <td>-2.410545</td>\n      <td>-1.894448</td>\n    </tr>\n    <tr>\n      <th>...</th>\n      <td>...</td>\n      <td>...</td>\n      <td>...</td>\n    </tr>\n    <tr>\n      <th>353</th>\n      <td>2023-12-20</td>\n      <td>-0.862572</td>\n      <td>-1.353167</td>\n    </tr>\n    <tr>\n      <th>354</th>\n      <td>2023-12-21</td>\n      <td>-1.452875</td>\n      <td>-0.852178</td>\n    </tr>\n    <tr>\n      <th>355</th>\n      <td>2023-12-22</td>\n      <td>-1.815637</td>\n      <td>-0.779060</td>\n    </tr>\n    <tr>\n      <th>356</th>\n      <td>2023-12-23</td>\n      <td>-1.869925</td>\n      <td>-1.121274</td>\n    </tr>\n    <tr>\n      <th>357</th>\n      <td>2023-12-24</td>\n      <td>-1.231518</td>\n      <td>-1.588264</td>\n    </tr>\n  </tbody>\n</table>\n<p>358 rows × 3 columns</p>\n</div>"
     },
     "execution_count": 73,
     "metadata": {},
     "output_type": "execute_result"
    }
   ],
   "source": [
    "df2"
   ],
   "metadata": {
    "collapsed": false,
    "ExecuteTime": {
     "end_time": "2023-12-29T07:15:52.119276800Z",
     "start_time": "2023-12-29T07:15:52.095342300Z"
    }
   },
   "id": "66ab150c0892ea72"
  },
  {
   "cell_type": "code",
   "execution_count": 74,
   "outputs": [],
   "source": [
    "df2['평균기온3'] = (df2['평균기온']+df2['평균기온2'])/2"
   ],
   "metadata": {
    "collapsed": false,
    "ExecuteTime": {
     "end_time": "2023-12-29T07:15:52.275698900Z",
     "start_time": "2023-12-29T07:15:52.259270700Z"
    }
   },
   "id": "1653407295dfafcb"
  },
  {
   "cell_type": "code",
   "execution_count": 75,
   "outputs": [
    {
     "data": {
      "text/plain": "             일시      평균기온     평균기온2     평균기온3\n0    2023-01-01 -2.505351 -3.051067 -2.778209\n1    2023-01-02 -2.404945 -2.957121 -2.681033\n2    2023-01-03 -2.395703 -3.298365 -2.847034\n3    2023-01-04 -2.444104 -2.217601 -2.330852\n4    2023-01-05 -2.410545 -1.894448 -2.152497\n..          ...       ...       ...       ...\n353  2023-12-20 -0.862572 -1.353167 -1.107869\n354  2023-12-21 -1.452875 -0.852178 -1.152526\n355  2023-12-22 -1.815637 -0.779060 -1.297348\n356  2023-12-23 -1.869925 -1.121274 -1.495600\n357  2023-12-24 -1.231518 -1.588264 -1.409891\n\n[358 rows x 4 columns]",
      "text/html": "<div>\n<style scoped>\n    .dataframe tbody tr th:only-of-type {\n        vertical-align: middle;\n    }\n\n    .dataframe tbody tr th {\n        vertical-align: top;\n    }\n\n    .dataframe thead th {\n        text-align: right;\n    }\n</style>\n<table border=\"1\" class=\"dataframe\">\n  <thead>\n    <tr style=\"text-align: right;\">\n      <th></th>\n      <th>일시</th>\n      <th>평균기온</th>\n      <th>평균기온2</th>\n      <th>평균기온3</th>\n    </tr>\n  </thead>\n  <tbody>\n    <tr>\n      <th>0</th>\n      <td>2023-01-01</td>\n      <td>-2.505351</td>\n      <td>-3.051067</td>\n      <td>-2.778209</td>\n    </tr>\n    <tr>\n      <th>1</th>\n      <td>2023-01-02</td>\n      <td>-2.404945</td>\n      <td>-2.957121</td>\n      <td>-2.681033</td>\n    </tr>\n    <tr>\n      <th>2</th>\n      <td>2023-01-03</td>\n      <td>-2.395703</td>\n      <td>-3.298365</td>\n      <td>-2.847034</td>\n    </tr>\n    <tr>\n      <th>3</th>\n      <td>2023-01-04</td>\n      <td>-2.444104</td>\n      <td>-2.217601</td>\n      <td>-2.330852</td>\n    </tr>\n    <tr>\n      <th>4</th>\n      <td>2023-01-05</td>\n      <td>-2.410545</td>\n      <td>-1.894448</td>\n      <td>-2.152497</td>\n    </tr>\n    <tr>\n      <th>...</th>\n      <td>...</td>\n      <td>...</td>\n      <td>...</td>\n      <td>...</td>\n    </tr>\n    <tr>\n      <th>353</th>\n      <td>2023-12-20</td>\n      <td>-0.862572</td>\n      <td>-1.353167</td>\n      <td>-1.107869</td>\n    </tr>\n    <tr>\n      <th>354</th>\n      <td>2023-12-21</td>\n      <td>-1.452875</td>\n      <td>-0.852178</td>\n      <td>-1.152526</td>\n    </tr>\n    <tr>\n      <th>355</th>\n      <td>2023-12-22</td>\n      <td>-1.815637</td>\n      <td>-0.779060</td>\n      <td>-1.297348</td>\n    </tr>\n    <tr>\n      <th>356</th>\n      <td>2023-12-23</td>\n      <td>-1.869925</td>\n      <td>-1.121274</td>\n      <td>-1.495600</td>\n    </tr>\n    <tr>\n      <th>357</th>\n      <td>2023-12-24</td>\n      <td>-1.231518</td>\n      <td>-1.588264</td>\n      <td>-1.409891</td>\n    </tr>\n  </tbody>\n</table>\n<p>358 rows × 4 columns</p>\n</div>"
     },
     "execution_count": 75,
     "metadata": {},
     "output_type": "execute_result"
    }
   ],
   "source": [
    "df2"
   ],
   "metadata": {
    "collapsed": false,
    "ExecuteTime": {
     "end_time": "2023-12-29T07:15:52.425188700Z",
     "start_time": "2023-12-29T07:15:52.392928500Z"
    }
   },
   "id": "bad704510f7b1601"
  },
  {
   "cell_type": "code",
   "execution_count": 76,
   "outputs": [],
   "source": [
    "df3 = df2[['일시','평균기온3']]"
   ],
   "metadata": {
    "collapsed": false,
    "ExecuteTime": {
     "end_time": "2023-12-29T07:15:52.583765500Z",
     "start_time": "2023-12-29T07:15:52.538885400Z"
    }
   },
   "id": "bc6b37b2b3c3125e"
  },
  {
   "cell_type": "code",
   "execution_count": 77,
   "outputs": [],
   "source": [
    "pred = df2['평균기온3'].values"
   ],
   "metadata": {
    "collapsed": false,
    "ExecuteTime": {
     "end_time": "2023-12-29T07:15:52.693472500Z",
     "start_time": "2023-12-29T07:15:52.683499200Z"
    }
   },
   "id": "e48c4fbf623cd47c"
  },
  {
   "cell_type": "code",
   "execution_count": 79,
   "outputs": [],
   "source": [
    "sub = pd.read_csv('../data/sample_submission.csv')\n",
    "sub['평균기온'] = pred\n",
    "\n",
    "sub.to_csv('../submission/GRU_8_1_1.csv', index=False)"
   ],
   "metadata": {
    "collapsed": false,
    "ExecuteTime": {
     "end_time": "2023-12-29T07:16:07.908294400Z",
     "start_time": "2023-12-29T07:16:07.884423Z"
    }
   },
   "id": "e71e8eee8256bc85"
  },
  {
   "cell_type": "code",
   "execution_count": null,
   "outputs": [],
   "source": [],
   "metadata": {
    "collapsed": false
   },
   "id": "5945b32e4124913a"
  }
 ],
 "metadata": {
  "kernelspec": {
   "display_name": "Python 3",
   "language": "python",
   "name": "python3"
  },
  "language_info": {
   "codemirror_mode": {
    "name": "ipython",
    "version": 2
   },
   "file_extension": ".py",
   "mimetype": "text/x-python",
   "name": "python",
   "nbconvert_exporter": "python",
   "pygments_lexer": "ipython2",
   "version": "2.7.6"
  }
 },
 "nbformat": 4,
 "nbformat_minor": 5
}

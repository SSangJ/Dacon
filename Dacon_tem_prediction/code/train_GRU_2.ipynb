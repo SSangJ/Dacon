{
 "cells": [
  {
   "cell_type": "code",
   "execution_count": 1,
   "outputs": [],
   "source": [
    "import os\n",
    "os.environ['KMP_DUPLICATE_LIB_OK']='True'\n",
    "import warnings\n",
    "warnings.filterwarnings('ignore', category=FutureWarning)\n",
    "\n",
    "# import package\n",
    "\n",
    "# model\n",
    "import torch\n",
    "import torch.nn as nn\n",
    "import torch.nn.functional as F\n",
    "from torchsummary import summary\n",
    "from torch import optim\n",
    "from torch.optim.lr_scheduler import StepLR\n",
    "from sklearn.linear_model import LinearRegression\n",
    "from sklearn.ensemble import RandomForestRegressor\n",
    "from xgboost import XGBRegressor\n",
    "from catboost import CatBoostRegressor\n",
    "from sklearn.model_selection import train_test_split\n",
    "from sklearn.metrics import mean_absolute_error, r2_score\n",
    "from sklearn.model_selection import GridSearchCV\n",
    "from lightgbm import LGBMRegressor\n",
    "from sklearn.preprocessing import MinMaxScaler\n",
    "from tensorflow.keras.callbacks import LearningRateScheduler\n",
    "from tensorflow.keras.callbacks import ReduceLROnPlateau\n",
    "\n",
    "# dataset and transformation\n",
    "from torchvision import datasets\n",
    "import torchvision.transforms as transforms\n",
    "from torch.utils.data import DataLoader\n",
    "from torchvision import models\n",
    "import torch.nn as nn\n",
    "import torch.nn.functional as F\n",
    "import torchvision\n",
    "\n",
    "from tensorflow.keras.models import Sequential\n",
    "from tensorflow.keras.layers import GRU, Dense, LSTM, Dropout, ConvLSTM2D, Flatten\n",
    "from tensorflow.keras.optimizers import Adam\n",
    "from tensorflow.keras.callbacks import EarlyStopping\n",
    "import tensorflow.keras.backend as K\n",
    "from tensorflow.keras.callbacks import Callback\n",
    "from keras.regularizers import l2\n",
    "\n",
    "# display images\n",
    "from torchvision import utils\n",
    "import matplotlib.pyplot as plt\n",
    "%matplotlib inline\n",
    "\n",
    "# utils\n",
    "import numpy as np\n",
    "from torchsummary import summary\n",
    "import time\n",
    "import copy\n",
    "import pandas as pd\n",
    "\n",
    "\n",
    "from warnings import filterwarnings\n",
    "filterwarnings('ignore')\n",
    "\n",
    "import torch\n",
    "from torch import nn, optim\n",
    "from torch.backends import cudnn\n",
    "cudnn.benchmark = True\n",
    "from randaugment import RandAugment, ImageNetPolicy\n",
    "\n",
    "import seaborn as sns\n",
    "plt.rcParams['font.family'] = 'Malgun Gothic'\n",
    "\n",
    "import tensorflow as tf"
   ],
   "metadata": {
    "collapsed": false,
    "ExecuteTime": {
     "end_time": "2023-12-26T03:59:02.918366600Z",
     "start_time": "2023-12-26T03:58:49.244446300Z"
    }
   },
   "id": "923f45687f336a83"
  },
  {
   "cell_type": "code",
   "execution_count": 2,
   "outputs": [
    {
     "name": "stdout",
     "output_type": "stream",
     "text": [
      "cuda:0\n"
     ]
    }
   ],
   "source": [
    "import torch\n",
    "device = torch.device('cuda:0' if torch.cuda.is_available() else 'cpu')\n",
    "\n",
    "print(device)"
   ],
   "metadata": {
    "collapsed": false,
    "ExecuteTime": {
     "end_time": "2023-12-26T03:59:04.225083200Z",
     "start_time": "2023-12-26T03:59:04.172224700Z"
    }
   },
   "id": "ff0198d1e7e926bf"
  },
  {
   "cell_type": "code",
   "execution_count": 3,
   "outputs": [
    {
     "name": "stdout",
     "output_type": "stream",
     "text": [
      "WARNING:tensorflow:From C:\\Users\\SJ\\AppData\\Local\\Temp\\ipykernel_27436\\3227166453.py:1: is_gpu_available (from tensorflow.python.framework.test_util) is deprecated and will be removed in a future version.\n",
      "Instructions for updating:\n",
      "Use `tf.config.list_physical_devices('GPU')` instead.\n"
     ]
    },
    {
     "data": {
      "text/plain": "True"
     },
     "execution_count": 3,
     "metadata": {},
     "output_type": "execute_result"
    }
   ],
   "source": [
    "tf.test.is_gpu_available(cuda_only=False, min_cuda_compute_capability=None )"
   ],
   "metadata": {
    "collapsed": false,
    "ExecuteTime": {
     "end_time": "2023-12-26T03:59:05.847447Z",
     "start_time": "2023-12-26T03:59:05.170256700Z"
    }
   },
   "id": "d579faef2c2ba207"
  },
  {
   "cell_type": "code",
   "execution_count": 4,
   "outputs": [],
   "source": [
    "train =pd.read_csv(\"../data/train_preprocessing2.csv\")\n",
    "submission = pd.read_csv(\"../data/sample_submission.csv\")"
   ],
   "metadata": {
    "collapsed": false,
    "ExecuteTime": {
     "end_time": "2023-12-26T03:59:06.726448800Z",
     "start_time": "2023-12-26T03:59:06.649144800Z"
    }
   },
   "id": "35e4ec692beb6562"
  },
  {
   "cell_type": "code",
   "execution_count": 5,
   "outputs": [],
   "source": [
    "train.drop('일교차',inplace=True, axis = 1)\n",
    "train.loc[train['강수량'] < 0 , '강수량'] = 0\n",
    "\n",
    "import math\n",
    "train['강수량'] = train['강수량'].apply(lambda x :  math.log(x+1))"
   ],
   "metadata": {
    "collapsed": false,
    "ExecuteTime": {
     "end_time": "2023-12-26T03:59:06.957977200Z",
     "start_time": "2023-12-26T03:59:06.912100200Z"
    }
   },
   "id": "3e9abac864ce6b7c"
  },
  {
   "cell_type": "code",
   "execution_count": 6,
   "outputs": [
    {
     "data": {
      "text/plain": "               일시  최고기온  최저기온       강수량  평균습도  평균풍속  일조합        일사합  \\\n0      1960-01-01   2.2  -5.2  2.026732  68.3   1.7  6.7  12.562132   \n1      1960-01-02   1.2  -5.6  0.336472  87.7   1.3  0.0   4.541569   \n2      1960-01-03   8.7  -2.1  0.000000  81.3   3.0  0.0   5.738938   \n3      1960-01-04  10.8   1.2  0.000000  79.7   4.4  2.6   8.422487   \n4      1960-01-05   1.3  -8.2  1.884740  44.0   5.1  8.2  14.946189   \n...           ...   ...   ...       ...   ...   ...  ...        ...   \n23006  2022-12-27   3.3  -7.3  2.030017  69.8   1.8  8.8  10.250000   \n23007  2022-12-28   0.1  -6.0  0.095310  58.1   2.5  8.7  10.860000   \n23008  2022-12-29   2.1  -7.8  0.000000  56.3   1.7  9.0  10.880000   \n23009  2022-12-30   2.3  -4.4  0.000000  65.6   1.9  7.9  10.840000   \n23010  2022-12-31   2.1  -5.1  0.000000  65.5   1.4  1.1   4.160000   \n\n             일조율  평균기온     년         월_sin     월_cos         일_sin     일_cos  \n0      55.338502  -1.6  1960  5.000000e-01  0.866025  2.012985e-01  0.979530  \n1       2.040280  -1.9  1960  5.000000e-01  0.866025  3.943559e-01  0.918958  \n2       2.040280   4.0  1960  5.000000e-01  0.866025  5.712682e-01  0.820763  \n3      22.723172   7.5  1960  5.000000e-01  0.866025  7.247928e-01  0.688967  \n4      67.270939  -4.6  1960  5.000000e-01  0.866025  8.486443e-01  0.528964  \n...          ...   ...   ...           ...       ...           ...       ...  \n23006  91.700000  -2.6  2022 -2.449294e-16  1.000000 -7.247928e-01  0.688967  \n23007  90.600000  -3.3  2022 -2.449294e-16  1.000000 -5.712682e-01  0.820763  \n23008  93.800000  -2.9  2022 -2.449294e-16  1.000000 -3.943559e-01  0.918958  \n23009  82.300000  -1.8  2022 -2.449294e-16  1.000000 -2.012985e-01  0.979530  \n23010  11.500000  -1.2  2022 -2.449294e-16  1.000000 -2.449294e-16  1.000000  \n\n[23011 rows x 15 columns]",
      "text/html": "<div>\n<style scoped>\n    .dataframe tbody tr th:only-of-type {\n        vertical-align: middle;\n    }\n\n    .dataframe tbody tr th {\n        vertical-align: top;\n    }\n\n    .dataframe thead th {\n        text-align: right;\n    }\n</style>\n<table border=\"1\" class=\"dataframe\">\n  <thead>\n    <tr style=\"text-align: right;\">\n      <th></th>\n      <th>일시</th>\n      <th>최고기온</th>\n      <th>최저기온</th>\n      <th>강수량</th>\n      <th>평균습도</th>\n      <th>평균풍속</th>\n      <th>일조합</th>\n      <th>일사합</th>\n      <th>일조율</th>\n      <th>평균기온</th>\n      <th>년</th>\n      <th>월_sin</th>\n      <th>월_cos</th>\n      <th>일_sin</th>\n      <th>일_cos</th>\n    </tr>\n  </thead>\n  <tbody>\n    <tr>\n      <th>0</th>\n      <td>1960-01-01</td>\n      <td>2.2</td>\n      <td>-5.2</td>\n      <td>2.026732</td>\n      <td>68.3</td>\n      <td>1.7</td>\n      <td>6.7</td>\n      <td>12.562132</td>\n      <td>55.338502</td>\n      <td>-1.6</td>\n      <td>1960</td>\n      <td>5.000000e-01</td>\n      <td>0.866025</td>\n      <td>2.012985e-01</td>\n      <td>0.979530</td>\n    </tr>\n    <tr>\n      <th>1</th>\n      <td>1960-01-02</td>\n      <td>1.2</td>\n      <td>-5.6</td>\n      <td>0.336472</td>\n      <td>87.7</td>\n      <td>1.3</td>\n      <td>0.0</td>\n      <td>4.541569</td>\n      <td>2.040280</td>\n      <td>-1.9</td>\n      <td>1960</td>\n      <td>5.000000e-01</td>\n      <td>0.866025</td>\n      <td>3.943559e-01</td>\n      <td>0.918958</td>\n    </tr>\n    <tr>\n      <th>2</th>\n      <td>1960-01-03</td>\n      <td>8.7</td>\n      <td>-2.1</td>\n      <td>0.000000</td>\n      <td>81.3</td>\n      <td>3.0</td>\n      <td>0.0</td>\n      <td>5.738938</td>\n      <td>2.040280</td>\n      <td>4.0</td>\n      <td>1960</td>\n      <td>5.000000e-01</td>\n      <td>0.866025</td>\n      <td>5.712682e-01</td>\n      <td>0.820763</td>\n    </tr>\n    <tr>\n      <th>3</th>\n      <td>1960-01-04</td>\n      <td>10.8</td>\n      <td>1.2</td>\n      <td>0.000000</td>\n      <td>79.7</td>\n      <td>4.4</td>\n      <td>2.6</td>\n      <td>8.422487</td>\n      <td>22.723172</td>\n      <td>7.5</td>\n      <td>1960</td>\n      <td>5.000000e-01</td>\n      <td>0.866025</td>\n      <td>7.247928e-01</td>\n      <td>0.688967</td>\n    </tr>\n    <tr>\n      <th>4</th>\n      <td>1960-01-05</td>\n      <td>1.3</td>\n      <td>-8.2</td>\n      <td>1.884740</td>\n      <td>44.0</td>\n      <td>5.1</td>\n      <td>8.2</td>\n      <td>14.946189</td>\n      <td>67.270939</td>\n      <td>-4.6</td>\n      <td>1960</td>\n      <td>5.000000e-01</td>\n      <td>0.866025</td>\n      <td>8.486443e-01</td>\n      <td>0.528964</td>\n    </tr>\n    <tr>\n      <th>...</th>\n      <td>...</td>\n      <td>...</td>\n      <td>...</td>\n      <td>...</td>\n      <td>...</td>\n      <td>...</td>\n      <td>...</td>\n      <td>...</td>\n      <td>...</td>\n      <td>...</td>\n      <td>...</td>\n      <td>...</td>\n      <td>...</td>\n      <td>...</td>\n      <td>...</td>\n    </tr>\n    <tr>\n      <th>23006</th>\n      <td>2022-12-27</td>\n      <td>3.3</td>\n      <td>-7.3</td>\n      <td>2.030017</td>\n      <td>69.8</td>\n      <td>1.8</td>\n      <td>8.8</td>\n      <td>10.250000</td>\n      <td>91.700000</td>\n      <td>-2.6</td>\n      <td>2022</td>\n      <td>-2.449294e-16</td>\n      <td>1.000000</td>\n      <td>-7.247928e-01</td>\n      <td>0.688967</td>\n    </tr>\n    <tr>\n      <th>23007</th>\n      <td>2022-12-28</td>\n      <td>0.1</td>\n      <td>-6.0</td>\n      <td>0.095310</td>\n      <td>58.1</td>\n      <td>2.5</td>\n      <td>8.7</td>\n      <td>10.860000</td>\n      <td>90.600000</td>\n      <td>-3.3</td>\n      <td>2022</td>\n      <td>-2.449294e-16</td>\n      <td>1.000000</td>\n      <td>-5.712682e-01</td>\n      <td>0.820763</td>\n    </tr>\n    <tr>\n      <th>23008</th>\n      <td>2022-12-29</td>\n      <td>2.1</td>\n      <td>-7.8</td>\n      <td>0.000000</td>\n      <td>56.3</td>\n      <td>1.7</td>\n      <td>9.0</td>\n      <td>10.880000</td>\n      <td>93.800000</td>\n      <td>-2.9</td>\n      <td>2022</td>\n      <td>-2.449294e-16</td>\n      <td>1.000000</td>\n      <td>-3.943559e-01</td>\n      <td>0.918958</td>\n    </tr>\n    <tr>\n      <th>23009</th>\n      <td>2022-12-30</td>\n      <td>2.3</td>\n      <td>-4.4</td>\n      <td>0.000000</td>\n      <td>65.6</td>\n      <td>1.9</td>\n      <td>7.9</td>\n      <td>10.840000</td>\n      <td>82.300000</td>\n      <td>-1.8</td>\n      <td>2022</td>\n      <td>-2.449294e-16</td>\n      <td>1.000000</td>\n      <td>-2.012985e-01</td>\n      <td>0.979530</td>\n    </tr>\n    <tr>\n      <th>23010</th>\n      <td>2022-12-31</td>\n      <td>2.1</td>\n      <td>-5.1</td>\n      <td>0.000000</td>\n      <td>65.5</td>\n      <td>1.4</td>\n      <td>1.1</td>\n      <td>4.160000</td>\n      <td>11.500000</td>\n      <td>-1.2</td>\n      <td>2022</td>\n      <td>-2.449294e-16</td>\n      <td>1.000000</td>\n      <td>-2.449294e-16</td>\n      <td>1.000000</td>\n    </tr>\n  </tbody>\n</table>\n<p>23011 rows × 15 columns</p>\n</div>"
     },
     "execution_count": 6,
     "metadata": {},
     "output_type": "execute_result"
    }
   ],
   "source": [
    "train"
   ],
   "metadata": {
    "collapsed": false,
    "ExecuteTime": {
     "end_time": "2023-12-26T03:59:09.071633Z",
     "start_time": "2023-12-26T03:59:09.022763600Z"
    }
   },
   "id": "5a88aeb55207e0ea"
  },
  {
   "cell_type": "code",
   "execution_count": 7,
   "outputs": [
    {
     "name": "stdout",
     "output_type": "stream",
     "text": [
      "33.7 -16.4\n"
     ]
    }
   ],
   "source": [
    "print(train['평균기온'].max(),train['평균기온'].min())"
   ],
   "metadata": {
    "collapsed": false,
    "ExecuteTime": {
     "end_time": "2023-12-26T03:59:09.919838Z",
     "start_time": "2023-12-26T03:59:09.896411600Z"
    }
   },
   "id": "6d0a5e8d66c6d5c7"
  },
  {
   "cell_type": "code",
   "execution_count": 8,
   "outputs": [],
   "source": [
    "# Min-Max Scaler 초기화\n",
    "scaler = MinMaxScaler()\n",
    "\n",
    "# Min-Max Scaling을 적용할 컬럼들 선택\n",
    "columns_to_scale = ['최고기온', '최저기온', '강수량', '평균습도', '평균풍속', '일조합', '일사합', '일조율', '평균기온', '년']\n",
    "\n",
    "# Scaling 적용\n",
    "train[columns_to_scale] = scaler.fit_transform(train[columns_to_scale])"
   ],
   "metadata": {
    "collapsed": false,
    "ExecuteTime": {
     "end_time": "2023-12-26T03:59:10.722349600Z",
     "start_time": "2023-12-26T03:59:10.688440900Z"
    }
   },
   "id": "4048652799be8bca"
  },
  {
   "cell_type": "code",
   "execution_count": 9,
   "outputs": [],
   "source": [
    "train.drop('일시',axis = 1 , inplace = True)"
   ],
   "metadata": {
    "collapsed": false,
    "ExecuteTime": {
     "end_time": "2023-12-26T03:59:11.030659700Z",
     "start_time": "2023-12-26T03:59:11.013703900Z"
    }
   },
   "id": "ec78595142cbcd97"
  },
  {
   "cell_type": "code",
   "execution_count": 10,
   "outputs": [
    {
     "data": {
      "text/plain": "           최고기온      최저기온       강수량      평균습도      평균풍속       일조합       일사합  \\\n0      0.296992  0.297030  0.348803  0.615385  0.207792  0.489051  0.375213   \n1      0.278195  0.289109  0.057907  0.852259  0.155844  0.000000  0.135650   \n2      0.419173  0.358416  0.000000  0.774115  0.376623  0.000000  0.171414   \n3      0.458647  0.423762  0.000000  0.754579  0.558442  0.189781  0.251568   \n4      0.280075  0.237624  0.324366  0.318681  0.649351  0.598540  0.446421   \n...         ...       ...       ...       ...       ...       ...       ...   \n23006  0.317669  0.255446  0.349368  0.633700  0.220779  0.642336  0.306153   \n23007  0.257519  0.281188  0.016403  0.490842  0.311688  0.635036  0.324373   \n23008  0.295113  0.245545  0.000000  0.468864  0.207792  0.656934  0.324970   \n23009  0.298872  0.312871  0.000000  0.582418  0.233766  0.576642  0.323775   \n23010  0.295113  0.299010  0.000000  0.581197  0.168831  0.080292  0.124253   \n\n            일조율      평균기온    년         월_sin     월_cos         일_sin     일_cos  \n0      0.554015  0.295409  0.0  5.000000e-01  0.866025  2.012985e-01  0.979530  \n1      0.020426  0.289421  0.0  5.000000e-01  0.866025  3.943559e-01  0.918958  \n2      0.020426  0.407186  0.0  5.000000e-01  0.866025  5.712682e-01  0.820763  \n3      0.227490  0.477046  0.0  5.000000e-01  0.866025  7.247928e-01  0.688967  \n4      0.673475  0.235529  0.0  5.000000e-01  0.866025  8.486443e-01  0.528964  \n...         ...       ...  ...           ...       ...           ...       ...  \n23006  0.918044  0.275449  1.0 -2.449294e-16  1.000000 -7.247928e-01  0.688967  \n23007  0.907032  0.261477  1.0 -2.449294e-16  1.000000 -5.712682e-01  0.820763  \n23008  0.939068  0.269461  1.0 -2.449294e-16  1.000000 -3.943559e-01  0.918958  \n23009  0.823937  0.291417  1.0 -2.449294e-16  1.000000 -2.012985e-01  0.979530  \n23010  0.115131  0.303393  1.0 -2.449294e-16  1.000000 -2.449294e-16  1.000000  \n\n[23011 rows x 14 columns]",
      "text/html": "<div>\n<style scoped>\n    .dataframe tbody tr th:only-of-type {\n        vertical-align: middle;\n    }\n\n    .dataframe tbody tr th {\n        vertical-align: top;\n    }\n\n    .dataframe thead th {\n        text-align: right;\n    }\n</style>\n<table border=\"1\" class=\"dataframe\">\n  <thead>\n    <tr style=\"text-align: right;\">\n      <th></th>\n      <th>최고기온</th>\n      <th>최저기온</th>\n      <th>강수량</th>\n      <th>평균습도</th>\n      <th>평균풍속</th>\n      <th>일조합</th>\n      <th>일사합</th>\n      <th>일조율</th>\n      <th>평균기온</th>\n      <th>년</th>\n      <th>월_sin</th>\n      <th>월_cos</th>\n      <th>일_sin</th>\n      <th>일_cos</th>\n    </tr>\n  </thead>\n  <tbody>\n    <tr>\n      <th>0</th>\n      <td>0.296992</td>\n      <td>0.297030</td>\n      <td>0.348803</td>\n      <td>0.615385</td>\n      <td>0.207792</td>\n      <td>0.489051</td>\n      <td>0.375213</td>\n      <td>0.554015</td>\n      <td>0.295409</td>\n      <td>0.0</td>\n      <td>5.000000e-01</td>\n      <td>0.866025</td>\n      <td>2.012985e-01</td>\n      <td>0.979530</td>\n    </tr>\n    <tr>\n      <th>1</th>\n      <td>0.278195</td>\n      <td>0.289109</td>\n      <td>0.057907</td>\n      <td>0.852259</td>\n      <td>0.155844</td>\n      <td>0.000000</td>\n      <td>0.135650</td>\n      <td>0.020426</td>\n      <td>0.289421</td>\n      <td>0.0</td>\n      <td>5.000000e-01</td>\n      <td>0.866025</td>\n      <td>3.943559e-01</td>\n      <td>0.918958</td>\n    </tr>\n    <tr>\n      <th>2</th>\n      <td>0.419173</td>\n      <td>0.358416</td>\n      <td>0.000000</td>\n      <td>0.774115</td>\n      <td>0.376623</td>\n      <td>0.000000</td>\n      <td>0.171414</td>\n      <td>0.020426</td>\n      <td>0.407186</td>\n      <td>0.0</td>\n      <td>5.000000e-01</td>\n      <td>0.866025</td>\n      <td>5.712682e-01</td>\n      <td>0.820763</td>\n    </tr>\n    <tr>\n      <th>3</th>\n      <td>0.458647</td>\n      <td>0.423762</td>\n      <td>0.000000</td>\n      <td>0.754579</td>\n      <td>0.558442</td>\n      <td>0.189781</td>\n      <td>0.251568</td>\n      <td>0.227490</td>\n      <td>0.477046</td>\n      <td>0.0</td>\n      <td>5.000000e-01</td>\n      <td>0.866025</td>\n      <td>7.247928e-01</td>\n      <td>0.688967</td>\n    </tr>\n    <tr>\n      <th>4</th>\n      <td>0.280075</td>\n      <td>0.237624</td>\n      <td>0.324366</td>\n      <td>0.318681</td>\n      <td>0.649351</td>\n      <td>0.598540</td>\n      <td>0.446421</td>\n      <td>0.673475</td>\n      <td>0.235529</td>\n      <td>0.0</td>\n      <td>5.000000e-01</td>\n      <td>0.866025</td>\n      <td>8.486443e-01</td>\n      <td>0.528964</td>\n    </tr>\n    <tr>\n      <th>...</th>\n      <td>...</td>\n      <td>...</td>\n      <td>...</td>\n      <td>...</td>\n      <td>...</td>\n      <td>...</td>\n      <td>...</td>\n      <td>...</td>\n      <td>...</td>\n      <td>...</td>\n      <td>...</td>\n      <td>...</td>\n      <td>...</td>\n      <td>...</td>\n    </tr>\n    <tr>\n      <th>23006</th>\n      <td>0.317669</td>\n      <td>0.255446</td>\n      <td>0.349368</td>\n      <td>0.633700</td>\n      <td>0.220779</td>\n      <td>0.642336</td>\n      <td>0.306153</td>\n      <td>0.918044</td>\n      <td>0.275449</td>\n      <td>1.0</td>\n      <td>-2.449294e-16</td>\n      <td>1.000000</td>\n      <td>-7.247928e-01</td>\n      <td>0.688967</td>\n    </tr>\n    <tr>\n      <th>23007</th>\n      <td>0.257519</td>\n      <td>0.281188</td>\n      <td>0.016403</td>\n      <td>0.490842</td>\n      <td>0.311688</td>\n      <td>0.635036</td>\n      <td>0.324373</td>\n      <td>0.907032</td>\n      <td>0.261477</td>\n      <td>1.0</td>\n      <td>-2.449294e-16</td>\n      <td>1.000000</td>\n      <td>-5.712682e-01</td>\n      <td>0.820763</td>\n    </tr>\n    <tr>\n      <th>23008</th>\n      <td>0.295113</td>\n      <td>0.245545</td>\n      <td>0.000000</td>\n      <td>0.468864</td>\n      <td>0.207792</td>\n      <td>0.656934</td>\n      <td>0.324970</td>\n      <td>0.939068</td>\n      <td>0.269461</td>\n      <td>1.0</td>\n      <td>-2.449294e-16</td>\n      <td>1.000000</td>\n      <td>-3.943559e-01</td>\n      <td>0.918958</td>\n    </tr>\n    <tr>\n      <th>23009</th>\n      <td>0.298872</td>\n      <td>0.312871</td>\n      <td>0.000000</td>\n      <td>0.582418</td>\n      <td>0.233766</td>\n      <td>0.576642</td>\n      <td>0.323775</td>\n      <td>0.823937</td>\n      <td>0.291417</td>\n      <td>1.0</td>\n      <td>-2.449294e-16</td>\n      <td>1.000000</td>\n      <td>-2.012985e-01</td>\n      <td>0.979530</td>\n    </tr>\n    <tr>\n      <th>23010</th>\n      <td>0.295113</td>\n      <td>0.299010</td>\n      <td>0.000000</td>\n      <td>0.581197</td>\n      <td>0.168831</td>\n      <td>0.080292</td>\n      <td>0.124253</td>\n      <td>0.115131</td>\n      <td>0.303393</td>\n      <td>1.0</td>\n      <td>-2.449294e-16</td>\n      <td>1.000000</td>\n      <td>-2.449294e-16</td>\n      <td>1.000000</td>\n    </tr>\n  </tbody>\n</table>\n<p>23011 rows × 14 columns</p>\n</div>"
     },
     "execution_count": 10,
     "metadata": {},
     "output_type": "execute_result"
    }
   ],
   "source": [
    "train"
   ],
   "metadata": {
    "collapsed": false,
    "ExecuteTime": {
     "end_time": "2023-12-26T03:59:11.431312500Z",
     "start_time": "2023-12-26T03:59:11.388428300Z"
    }
   },
   "id": "b681c7d16786026f"
  },
  {
   "cell_type": "code",
   "execution_count": 11,
   "outputs": [],
   "source": [
    "window_size = 358*2\n",
    "prediction_length = 358\n",
    "X_train = []\n",
    "y_train = []\n",
    "\n",
    "# 윈도우에 따른 데이터 분할\n",
    "for i in range(window_size, len(train)-357):\n",
    "    X_train.append(train.iloc[i-window_size:i])\n",
    "    y_train.append(train['평균기온'].iloc[i:i+358].values)  # 358일치 평균기온을 배열로 추가"
   ],
   "metadata": {
    "collapsed": false,
    "ExecuteTime": {
     "end_time": "2023-12-26T03:59:14.650008500Z",
     "start_time": "2023-12-26T03:59:12.659442500Z"
    }
   },
   "id": "b2ff8f87ab212d2d"
  },
  {
   "cell_type": "code",
   "execution_count": 12,
   "outputs": [],
   "source": [
    "X_train, y_train = np.array(X_train), np.array(y_train)"
   ],
   "metadata": {
    "collapsed": false,
    "ExecuteTime": {
     "end_time": "2023-12-26T03:59:17.687113200Z",
     "start_time": "2023-12-26T03:59:14.651006400Z"
    }
   },
   "id": "3542641d4b95fa18"
  },
  {
   "cell_type": "code",
   "execution_count": 13,
   "outputs": [
    {
     "name": "stdout",
     "output_type": "stream",
     "text": [
      "(21938, 716, 14) (21938, 358)\n"
     ]
    }
   ],
   "source": [
    "print(X_train.shape,y_train.shape)"
   ],
   "metadata": {
    "collapsed": false,
    "ExecuteTime": {
     "end_time": "2023-12-26T03:59:17.706062500Z",
     "start_time": "2023-12-26T03:59:17.688110900Z"
    }
   },
   "id": "f05088f2ceb6e434"
  },
  {
   "cell_type": "code",
   "execution_count": 14,
   "outputs": [],
   "source": [
    "early_stopping = EarlyStopping(monitor='val_loss', patience=5, restore_best_weights=True,verbose=1)\n",
    "\n",
    "reduce_lr = ReduceLROnPlateau(monitor='val_loss', factor=0.5,\n",
    "                              patience=3, min_lr=0.00001,verbose=1)\n",
    "\n",
    "class LearningRateTracker(Callback):\n",
    "    def on_epoch_begin(self, epoch, logs=None):\n",
    "        lr = self.model.optimizer.lr\n",
    "        # 학습률을 실제 값으로 변환하고 float 타입으로 캐스팅\n",
    "        current_lr = float(K.eval(lr))\n",
    "        # 반올림\n",
    "        rounded_lr = round(current_lr, 6)\n",
    "        print(f'에포크 {epoch + 1}: 현재 학습률 = {rounded_lr}')\n",
    "\n",
    "# 콜백 인스턴스 생성\n",
    "lr_tracker = LearningRateTracker()\n",
    "\n",
    "class CustomCallback(Callback):\n",
    "    def on_epoch_end(self, epoch, logs=None):\n",
    "        val_loss = logs.get('val_loss')\n",
    "        print(f\"에포크 {epoch + 1}: 검증 손실 = {val_loss:.5f}\")\n",
    "\n",
    "custom_callback = CustomCallback()\n"
   ],
   "metadata": {
    "collapsed": false,
    "ExecuteTime": {
     "end_time": "2023-12-26T03:59:18.497375600Z",
     "start_time": "2023-12-26T03:59:18.474374900Z"
    }
   },
   "id": "ccb6054608bfb299"
  },
  {
   "cell_type": "code",
   "execution_count": 15,
   "outputs": [
    {
     "name": "stdout",
     "output_type": "stream",
     "text": [
      "Model: \"sequential\"\n",
      "_________________________________________________________________\n",
      "Layer (type)                 Output Shape              Param #   \n",
      "=================================================================\n",
      "gru (GRU)                    (None, 716, 64)           15360     \n",
      "_________________________________________________________________\n",
      "gru_1 (GRU)                  (None, 64)                24960     \n",
      "_________________________________________________________________\n",
      "dense (Dense)                (None, 358)               23270     \n",
      "=================================================================\n",
      "Total params: 63,590\n",
      "Trainable params: 63,590\n",
      "Non-trainable params: 0\n",
      "_________________________________________________________________\n"
     ]
    }
   ],
   "source": [
    "# 모델 구축\n",
    "model = Sequential()\n",
    "model.add(GRU(units=64 , return_sequences=True, input_shape=(X_train.shape[1], X_train.shape[2])))\n",
    "model.add(GRU(units=64 ))\n",
    "model.add(Dense(units=358 ))\n",
    "\n",
    "# 모델 컴파일\n",
    "model.compile(optimizer=Adam(learning_rate=0.001), loss='mean_squared_error')\n",
    "\n",
    "# 모델 요약 출력\n",
    "model.summary()"
   ],
   "metadata": {
    "collapsed": false,
    "ExecuteTime": {
     "end_time": "2023-12-26T03:59:20.288168900Z",
     "start_time": "2023-12-26T03:59:19.300154700Z"
    }
   },
   "id": "242538113ba42f41"
  },
  {
   "cell_type": "code",
   "execution_count": 22,
   "outputs": [
    {
     "name": "stdout",
     "output_type": "stream",
     "text": [
      "Epoch 1/10\n",
      "343/343 - 16s - loss: 0.0223\n",
      "Epoch 2/10\n",
      "343/343 - 12s - loss: 0.0045\n",
      "Epoch 3/10\n",
      "343/343 - 12s - loss: 0.0043\n",
      "Epoch 4/10\n",
      "343/343 - 11s - loss: 0.0042\n",
      "Epoch 5/10\n",
      "343/343 - 12s - loss: 0.0042\n",
      "Epoch 6/10\n",
      "343/343 - 18s - loss: 0.0042\n",
      "Epoch 7/10\n",
      "343/343 - 29s - loss: 0.0042\n",
      "Epoch 8/10\n",
      "343/343 - 29s - loss: 0.0042\n",
      "Epoch 9/10\n",
      "343/343 - 28s - loss: 0.0042\n",
      "Epoch 10/10\n",
      "343/343 - 29s - loss: 0.0042\n"
     ]
    }
   ],
   "source": [
    "# 모델 훈련\n",
    "history = model.fit(X_train, y_train, epochs=10, batch_size=64, verbose=2)"
   ],
   "metadata": {
    "collapsed": false,
    "ExecuteTime": {
     "end_time": "2023-12-25T15:41:00.514782300Z",
     "start_time": "2023-12-25T15:37:43.702315Z"
    }
   },
   "id": "a27ffbb07b07dbb7"
  },
  {
   "cell_type": "code",
   "execution_count": 28,
   "outputs": [],
   "source": [
    "predict_data = X_train[-1].reshape(1, -1, 14)"
   ],
   "metadata": {
    "collapsed": false,
    "ExecuteTime": {
     "end_time": "2023-12-25T15:41:10.644458Z",
     "start_time": "2023-12-25T15:41:10.626506600Z"
    }
   },
   "id": "5b74be8b57cafcbb"
  },
  {
   "cell_type": "code",
   "execution_count": 29,
   "outputs": [],
   "source": [
    "pred = model.predict(predict_data)"
   ],
   "metadata": {
    "collapsed": false,
    "ExecuteTime": {
     "end_time": "2023-12-25T15:41:11.031287600Z",
     "start_time": "2023-12-25T15:41:10.880690500Z"
    }
   },
   "id": "88af11eae2710e7b"
  },
  {
   "cell_type": "code",
   "execution_count": 32,
   "outputs": [],
   "source": [
    "# MinMaxScaler의 역변환을 수행하는 함수 정의\n",
    "def inverse_minmax_scaling(scaled_data, min_val, max_val):\n",
    "    return (scaled_data * (max_val - min_val)) + min_val\n",
    "\n",
    "# 최소값과 최대값 정의\n",
    "min_val = -16.4\n",
    "max_val = 33.7\n",
    "\n",
    "# 역변환 수행\n",
    "pred = inverse_minmax_scaling(pred, min_val, max_val)"
   ],
   "metadata": {
    "collapsed": false,
    "ExecuteTime": {
     "end_time": "2023-12-25T15:41:12.585491900Z",
     "start_time": "2023-12-25T15:41:12.565545300Z"
    }
   },
   "id": "accc095c2fa9d95b"
  },
  {
   "cell_type": "code",
   "execution_count": 35,
   "outputs": [],
   "source": [
    "pred = pred[-1].reshape(-1,)"
   ],
   "metadata": {
    "collapsed": false,
    "ExecuteTime": {
     "end_time": "2023-12-25T15:41:14.320239800Z",
     "start_time": "2023-12-25T15:41:14.300294300Z"
    }
   },
   "id": "f95c2310cb08bf67"
  },
  {
   "cell_type": "code",
   "execution_count": 36,
   "outputs": [
    {
     "data": {
      "text/plain": "array([-1.62975979e+00, -2.42167091e+00, -2.64010525e+00, -2.07753277e+00,\n       -1.96482182e+00, -2.30061626e+00, -2.17037106e+00, -2.76130199e+00,\n       -2.16042042e+00, -2.51419067e+00, -1.45598698e+00, -1.71022224e+00,\n       -1.93765831e+00, -1.42480659e+00, -1.45634842e+00, -1.21176529e+00,\n       -1.34633350e+00, -4.43724632e-01, -9.07169342e-01, -8.82151604e-01,\n       -1.51637554e+00, -1.09581470e+00, -1.73556423e+00, -1.96206188e+00,\n       -4.86636162e-01, -9.53734398e-01, -1.06801796e+00, -8.88735771e-01,\n       -1.26280880e+00, -8.89013290e-01, -7.87449837e-01, -5.93544960e-01,\n       -6.21835709e-01, -7.12805748e-01, -4.43025589e-01,  2.85074234e-01,\n       -3.22343826e-01,  7.40642548e-02,  2.36642838e-01, -1.20512009e-01,\n        6.13533020e-01,  1.31278038e+00,  1.23839569e+00,  1.49338341e+00,\n        1.86752510e+00,  2.25302124e+00,  1.96625328e+00,  2.70798874e+00,\n        2.16410065e+00,  1.88938713e+00,  2.13765335e+00,  2.97152519e+00,\n        2.50451851e+00,  2.82722855e+00,  2.77009773e+00,  3.20146370e+00,\n        4.38199806e+00,  4.92113686e+00,  4.99065590e+00,  5.05918503e+00,\n        5.03423500e+00,  5.03179169e+00,  4.94323349e+00,  4.89448166e+00,\n        5.70902634e+00,  6.17598152e+00,  5.88779449e+00,  6.08950806e+00,\n        6.57225609e+00,  6.17775726e+00,  6.57585144e+00,  6.66204453e+00,\n        7.54589462e+00,  7.34691811e+00,  7.58466721e+00,  8.15131950e+00,\n        8.09377861e+00,  8.18411827e+00,  8.19688225e+00,  8.58530617e+00,\n        9.08387566e+00,  8.99903107e+00,  8.82125473e+00,  9.75690269e+00,\n        1.00698395e+01,  9.98342133e+00,  1.02762318e+01,  1.03218040e+01,\n        1.06535282e+01,  1.11702652e+01,  1.18455334e+01,  1.22387695e+01,\n        1.23091507e+01,  1.25318565e+01,  1.23446598e+01,  1.25264206e+01,\n        1.30941200e+01,  1.32238789e+01,  1.32867775e+01,  1.32757187e+01,\n        1.44716301e+01,  1.39908504e+01,  1.40394287e+01,  1.37573566e+01,\n        1.50678539e+01,  1.54037380e+01,  1.60523052e+01,  1.56096745e+01,\n        1.51919708e+01,  1.56986866e+01,  1.52793388e+01,  1.62240849e+01,\n        1.64418621e+01,  1.59684048e+01,  1.72266331e+01,  1.72534122e+01,\n        1.72736263e+01,  1.72215099e+01,  1.65346966e+01,  1.72165966e+01,\n        1.76268864e+01,  1.78237667e+01,  1.84471111e+01,  1.79953213e+01,\n        1.74165897e+01,  1.81919727e+01,  1.88478374e+01,  1.81307697e+01,\n        1.79537144e+01,  1.83912144e+01,  1.89668064e+01,  2.01019306e+01,\n        1.97868633e+01,  1.98293629e+01,  1.98283443e+01,  2.08111057e+01,\n        2.11393642e+01,  2.04386196e+01,  2.08263378e+01,  2.11324863e+01,\n        2.21770496e+01,  2.14883442e+01,  2.09576550e+01,  2.13323193e+01,\n        2.10378513e+01,  2.12267399e+01,  2.15773869e+01,  2.13074207e+01,\n        2.11733341e+01,  2.14535885e+01,  2.16136875e+01,  2.26353970e+01,\n        2.27724133e+01,  2.29109936e+01,  2.27598362e+01,  2.28053951e+01,\n        2.26584492e+01,  2.31750355e+01,  2.33240528e+01,  2.34057255e+01,\n        2.29501743e+01,  2.35085506e+01,  2.33343678e+01,  2.39030933e+01,\n        2.34160480e+01,  2.34929028e+01,  2.42074413e+01,  2.49164104e+01,\n        2.39053631e+01,  2.34351139e+01,  2.43388004e+01,  2.37201443e+01,\n        2.40344906e+01,  2.37510662e+01,  2.39217548e+01,  2.45448704e+01,\n        2.54787426e+01,  2.49178410e+01,  2.48475552e+01,  2.53133144e+01,\n        2.53867970e+01,  2.61775684e+01,  2.64279652e+01,  2.64145031e+01,\n        2.64009762e+01,  2.60420094e+01,  2.54901295e+01,  2.61296215e+01,\n        2.56845112e+01,  2.57450504e+01,  2.56438465e+01,  2.64641209e+01,\n        2.60787449e+01,  2.63543148e+01,  2.65573063e+01,  2.69190197e+01,\n        2.66317425e+01,  2.72033710e+01,  2.76722927e+01,  2.67273808e+01,\n        2.70235767e+01,  2.71388645e+01,  2.68729343e+01,  2.73214664e+01,\n        2.68931293e+01,  2.69502048e+01,  2.75080280e+01,  2.66509724e+01,\n        2.68869495e+01,  2.68198948e+01,  2.67118702e+01,  2.71418018e+01,\n        2.65119762e+01,  2.70357876e+01,  2.71299915e+01,  2.71510563e+01,\n        2.69157658e+01,  2.63024654e+01,  2.63345814e+01,  2.57514095e+01,\n        2.66396122e+01,  2.63594723e+01,  2.55188007e+01,  2.59680004e+01,\n        2.56996288e+01,  2.56981945e+01,  2.50299587e+01,  2.50184231e+01,\n        2.52516270e+01,  2.56796055e+01,  2.52701931e+01,  2.52458134e+01,\n        2.52392712e+01,  2.49575253e+01,  2.54913387e+01,  2.48430843e+01,\n        2.49961224e+01,  2.48576870e+01,  2.50195065e+01,  2.46471996e+01,\n        2.38824978e+01,  2.41486340e+01,  2.37025089e+01,  2.36738529e+01,\n        2.36095638e+01,  2.36349125e+01,  2.41786900e+01,  2.38302631e+01,\n        2.34423199e+01,  2.32236347e+01,  2.30199604e+01,  2.27113132e+01,\n        2.23364353e+01,  2.11666317e+01,  2.06329746e+01,  2.10506611e+01,\n        2.12457485e+01,  1.99470501e+01,  2.07460651e+01,  2.07019024e+01,\n        1.99204693e+01,  2.01885509e+01,  1.96710949e+01,  2.01362667e+01,\n        2.03559513e+01,  1.95286884e+01,  1.92891216e+01,  1.86495380e+01,\n        1.87908802e+01,  1.86334782e+01,  1.85563107e+01,  1.74722576e+01,\n        1.79872608e+01,  1.79313526e+01,  1.74540043e+01,  1.76423893e+01,\n        1.75150242e+01,  1.66195126e+01,  1.60688343e+01,  1.57753582e+01,\n        1.58789845e+01,  1.53192749e+01,  1.53706646e+01,  1.44235706e+01,\n        1.49233150e+01,  1.47742558e+01,  1.38952236e+01,  1.38204670e+01,\n        1.42110157e+01,  1.31068859e+01,  1.25472260e+01,  1.21680450e+01,\n        1.27779903e+01,  1.32745552e+01,  1.26218948e+01,  1.14463062e+01,\n        1.12582188e+01,  1.13286209e+01,  1.20618496e+01,  1.10470695e+01,\n        1.09987030e+01,  1.05744572e+01,  1.03465958e+01,  1.04385014e+01,\n        1.03047771e+01,  9.73592949e+00,  9.23196602e+00,  9.01366425e+00,\n        8.77401352e+00,  8.50149536e+00,  8.44527817e+00,  7.98089027e+00,\n        7.65651894e+00,  7.23425484e+00,  7.34163094e+00,  6.82403564e+00,\n        6.29199791e+00,  5.60752296e+00,  5.57748604e+00,  5.59701538e+00,\n        5.57299805e+00,  5.34241867e+00,  5.54507065e+00,  4.87448311e+00,\n        5.10339928e+00,  4.59973335e+00,  3.74035454e+00,  2.83863068e+00,\n        3.14694023e+00,  2.83969498e+00,  2.47664642e+00,  2.73679161e+00,\n        2.58473206e+00,  2.08246613e+00,  1.96649933e+00,  1.73757362e+00,\n        1.89463234e+00,  1.17398643e+00,  6.63568497e-01,  3.76029968e-01,\n        2.63210297e-01,  2.21250534e-01,  3.10707092e-01, -3.30888748e-01,\n       -2.44531631e-01, -1.13906860e-02,  1.82415009e-01, -7.79168129e-01,\n        1.74413681e-01, -7.05472946e-01, -2.71722794e-01, -7.04672813e-01,\n       -1.02532387e+00, -1.28499126e+00, -1.24418640e+00, -7.08816528e-01,\n       -9.34209824e-01, -9.28629875e-01], dtype=float32)"
     },
     "execution_count": 36,
     "metadata": {},
     "output_type": "execute_result"
    }
   ],
   "source": [
    "pred"
   ],
   "metadata": {
    "collapsed": false,
    "ExecuteTime": {
     "end_time": "2023-12-25T15:41:14.743487100Z",
     "start_time": "2023-12-25T15:41:14.721475200Z"
    }
   },
   "id": "f1d5753fc4ee6f6"
  },
  {
   "cell_type": "code",
   "execution_count": 37,
   "outputs": [],
   "source": [
    "sub = pd.read_csv('../data/sample_submission.csv')\n",
    "sub['평균기온'] = pred\n",
    "\n",
    "sub.to_csv('../submission/GRU_10.csv', index=False)"
   ],
   "metadata": {
    "collapsed": false,
    "ExecuteTime": {
     "end_time": "2023-12-25T15:41:19.045274100Z",
     "start_time": "2023-12-25T15:41:19.026039800Z"
    }
   },
   "id": "a9c7e04b62915a93"
  }
 ],
 "metadata": {
  "kernelspec": {
   "display_name": "Python 3",
   "language": "python",
   "name": "python3"
  },
  "language_info": {
   "codemirror_mode": {
    "name": "ipython",
    "version": 2
   },
   "file_extension": ".py",
   "mimetype": "text/x-python",
   "name": "python",
   "nbconvert_exporter": "python",
   "pygments_lexer": "ipython2",
   "version": "2.7.6"
  }
 },
 "nbformat": 4,
 "nbformat_minor": 5
}

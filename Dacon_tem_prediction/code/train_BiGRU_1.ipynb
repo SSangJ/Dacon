{
 "cells": [
  {
   "cell_type": "code",
   "execution_count": 176,
   "outputs": [],
   "source": [
    "import os\n",
    "os.environ['KMP_DUPLICATE_LIB_OK']='True'\n",
    "import warnings\n",
    "warnings.filterwarnings('ignore', category=FutureWarning)\n",
    "\n",
    "# import package\n",
    "\n",
    "# model\n",
    "import torch\n",
    "import torch.nn as nn\n",
    "import torch.nn.functional as F\n",
    "from torchsummary import summary\n",
    "from torch import optim\n",
    "from torch.optim.lr_scheduler import StepLR\n",
    "from sklearn.linear_model import LinearRegression\n",
    "from sklearn.ensemble import RandomForestRegressor\n",
    "from xgboost import XGBRegressor\n",
    "from catboost import CatBoostRegressor\n",
    "from sklearn.model_selection import train_test_split\n",
    "from sklearn.metrics import mean_absolute_error, r2_score\n",
    "from sklearn.model_selection import GridSearchCV\n",
    "from lightgbm import LGBMRegressor\n",
    "from sklearn.preprocessing import MinMaxScaler\n",
    "from tensorflow.keras.callbacks import LearningRateScheduler\n",
    "from tensorflow.keras.callbacks import ReduceLROnPlateau\n",
    "\n",
    "# dataset and transformation\n",
    "from torchvision import datasets\n",
    "import torchvision.transforms as transforms\n",
    "from torch.utils.data import DataLoader\n",
    "from torchvision import models\n",
    "import torch.nn as nn\n",
    "import torch.nn.functional as F\n",
    "import torchvision\n",
    "\n",
    "from tensorflow.keras.models import Sequential\n",
    "from tensorflow.keras.layers import GRU, Dense, LSTM, Dropout, ConvLSTM2D, Flatten, TimeDistributed,Bidirectional\n",
    "from tensorflow.keras.optimizers import Adam\n",
    "from tensorflow.keras.callbacks import EarlyStopping\n",
    "import tensorflow.keras.backend as K\n",
    "from tensorflow.keras.callbacks import Callback\n",
    "from keras.regularizers import l2\n",
    "from tensorflow.keras.optimizers import Nadam\n",
    "\n",
    "# display images\n",
    "from torchvision import utils\n",
    "import matplotlib.pyplot as plt\n",
    "%matplotlib inline\n",
    "\n",
    "# utils\n",
    "import numpy as np\n",
    "from torchsummary import summary\n",
    "import time\n",
    "import copy\n",
    "import pandas as pd\n",
    "\n",
    "\n",
    "from warnings import filterwarnings\n",
    "filterwarnings('ignore')\n",
    "\n",
    "import torch\n",
    "from torch import nn, optim\n",
    "from torch.backends import cudnn\n",
    "cudnn.benchmark = True\n",
    "from randaugment import RandAugment, ImageNetPolicy\n",
    "\n",
    "import seaborn as sns\n",
    "plt.rcParams['font.family'] = 'Malgun Gothic'\n",
    "\n",
    "import tensorflow as tf"
   ],
   "metadata": {
    "collapsed": false,
    "ExecuteTime": {
     "end_time": "2023-12-29T08:36:02.594799800Z",
     "start_time": "2023-12-29T08:36:02.572828300Z"
    }
   },
   "id": "923f45687f336a83"
  },
  {
   "cell_type": "code",
   "execution_count": 116,
   "outputs": [
    {
     "name": "stdout",
     "output_type": "stream",
     "text": [
      "cuda:0\n"
     ]
    }
   ],
   "source": [
    "import torch\n",
    "device = torch.device('cuda:0' if torch.cuda.is_available() else 'cpu')\n",
    "\n",
    "print(device)"
   ],
   "metadata": {
    "collapsed": false,
    "ExecuteTime": {
     "end_time": "2023-12-29T07:23:00.186638300Z",
     "start_time": "2023-12-29T07:23:00.148739800Z"
    }
   },
   "id": "ff0198d1e7e926bf"
  },
  {
   "cell_type": "code",
   "execution_count": 117,
   "outputs": [
    {
     "data": {
      "text/plain": "True"
     },
     "execution_count": 117,
     "metadata": {},
     "output_type": "execute_result"
    }
   ],
   "source": [
    "tf.test.is_gpu_available(cuda_only=False, min_cuda_compute_capability=None )"
   ],
   "metadata": {
    "collapsed": false,
    "ExecuteTime": {
     "end_time": "2023-12-29T07:23:00.573884500Z",
     "start_time": "2023-12-29T07:23:00.343352400Z"
    }
   },
   "id": "d579faef2c2ba207"
  },
  {
   "cell_type": "code",
   "execution_count": 118,
   "outputs": [],
   "source": [
    "train =pd.read_csv(\"../data/train_preprocessing2.csv\")\n",
    "submission = pd.read_csv(\"../data/sample_submission.csv\")"
   ],
   "metadata": {
    "collapsed": false,
    "ExecuteTime": {
     "end_time": "2023-12-29T07:23:01.058319500Z",
     "start_time": "2023-12-29T07:23:00.572887Z"
    }
   },
   "id": "35e4ec692beb6562"
  },
  {
   "cell_type": "code",
   "execution_count": 119,
   "outputs": [],
   "source": [
    "train.drop('일교차',inplace=True, axis = 1)\n",
    "train.loc[train['강수량'] < 0 , '강수량'] = 0\n",
    "\n",
    "import math\n",
    "train['강수량'] = train['강수량'].apply(lambda x :  math.log(x+1))"
   ],
   "metadata": {
    "collapsed": false,
    "ExecuteTime": {
     "end_time": "2023-12-29T07:23:01.416329200Z",
     "start_time": "2023-12-29T07:23:01.344522Z"
    }
   },
   "id": "3e9abac864ce6b7c"
  },
  {
   "cell_type": "code",
   "execution_count": 120,
   "outputs": [
    {
     "data": {
      "text/plain": "               일시  최고기온  최저기온       강수량  평균습도  평균풍속  일조합        일사합  \\\n0      1960-01-01   2.2  -5.2  2.026732  68.3   1.7  6.7  12.562132   \n1      1960-01-02   1.2  -5.6  0.336472  87.7   1.3  0.0   4.541569   \n2      1960-01-03   8.7  -2.1  0.000000  81.3   3.0  0.0   5.738938   \n3      1960-01-04  10.8   1.2  0.000000  79.7   4.4  2.6   8.422487   \n4      1960-01-05   1.3  -8.2  1.884740  44.0   5.1  8.2  14.946189   \n...           ...   ...   ...       ...   ...   ...  ...        ...   \n23006  2022-12-27   3.3  -7.3  2.030017  69.8   1.8  8.8  10.250000   \n23007  2022-12-28   0.1  -6.0  0.095310  58.1   2.5  8.7  10.860000   \n23008  2022-12-29   2.1  -7.8  0.000000  56.3   1.7  9.0  10.880000   \n23009  2022-12-30   2.3  -4.4  0.000000  65.6   1.9  7.9  10.840000   \n23010  2022-12-31   2.1  -5.1  0.000000  65.5   1.4  1.1   4.160000   \n\n             일조율  평균기온     년         월_sin     월_cos         일_sin     일_cos  \n0      55.338502  -1.6  1960  5.000000e-01  0.866025  2.012985e-01  0.979530  \n1       2.040280  -1.9  1960  5.000000e-01  0.866025  3.943559e-01  0.918958  \n2       2.040280   4.0  1960  5.000000e-01  0.866025  5.712682e-01  0.820763  \n3      22.723172   7.5  1960  5.000000e-01  0.866025  7.247928e-01  0.688967  \n4      67.270939  -4.6  1960  5.000000e-01  0.866025  8.486443e-01  0.528964  \n...          ...   ...   ...           ...       ...           ...       ...  \n23006  91.700000  -2.6  2022 -2.449294e-16  1.000000 -7.247928e-01  0.688967  \n23007  90.600000  -3.3  2022 -2.449294e-16  1.000000 -5.712682e-01  0.820763  \n23008  93.800000  -2.9  2022 -2.449294e-16  1.000000 -3.943559e-01  0.918958  \n23009  82.300000  -1.8  2022 -2.449294e-16  1.000000 -2.012985e-01  0.979530  \n23010  11.500000  -1.2  2022 -2.449294e-16  1.000000 -2.449294e-16  1.000000  \n\n[23011 rows x 15 columns]",
      "text/html": "<div>\n<style scoped>\n    .dataframe tbody tr th:only-of-type {\n        vertical-align: middle;\n    }\n\n    .dataframe tbody tr th {\n        vertical-align: top;\n    }\n\n    .dataframe thead th {\n        text-align: right;\n    }\n</style>\n<table border=\"1\" class=\"dataframe\">\n  <thead>\n    <tr style=\"text-align: right;\">\n      <th></th>\n      <th>일시</th>\n      <th>최고기온</th>\n      <th>최저기온</th>\n      <th>강수량</th>\n      <th>평균습도</th>\n      <th>평균풍속</th>\n      <th>일조합</th>\n      <th>일사합</th>\n      <th>일조율</th>\n      <th>평균기온</th>\n      <th>년</th>\n      <th>월_sin</th>\n      <th>월_cos</th>\n      <th>일_sin</th>\n      <th>일_cos</th>\n    </tr>\n  </thead>\n  <tbody>\n    <tr>\n      <th>0</th>\n      <td>1960-01-01</td>\n      <td>2.2</td>\n      <td>-5.2</td>\n      <td>2.026732</td>\n      <td>68.3</td>\n      <td>1.7</td>\n      <td>6.7</td>\n      <td>12.562132</td>\n      <td>55.338502</td>\n      <td>-1.6</td>\n      <td>1960</td>\n      <td>5.000000e-01</td>\n      <td>0.866025</td>\n      <td>2.012985e-01</td>\n      <td>0.979530</td>\n    </tr>\n    <tr>\n      <th>1</th>\n      <td>1960-01-02</td>\n      <td>1.2</td>\n      <td>-5.6</td>\n      <td>0.336472</td>\n      <td>87.7</td>\n      <td>1.3</td>\n      <td>0.0</td>\n      <td>4.541569</td>\n      <td>2.040280</td>\n      <td>-1.9</td>\n      <td>1960</td>\n      <td>5.000000e-01</td>\n      <td>0.866025</td>\n      <td>3.943559e-01</td>\n      <td>0.918958</td>\n    </tr>\n    <tr>\n      <th>2</th>\n      <td>1960-01-03</td>\n      <td>8.7</td>\n      <td>-2.1</td>\n      <td>0.000000</td>\n      <td>81.3</td>\n      <td>3.0</td>\n      <td>0.0</td>\n      <td>5.738938</td>\n      <td>2.040280</td>\n      <td>4.0</td>\n      <td>1960</td>\n      <td>5.000000e-01</td>\n      <td>0.866025</td>\n      <td>5.712682e-01</td>\n      <td>0.820763</td>\n    </tr>\n    <tr>\n      <th>3</th>\n      <td>1960-01-04</td>\n      <td>10.8</td>\n      <td>1.2</td>\n      <td>0.000000</td>\n      <td>79.7</td>\n      <td>4.4</td>\n      <td>2.6</td>\n      <td>8.422487</td>\n      <td>22.723172</td>\n      <td>7.5</td>\n      <td>1960</td>\n      <td>5.000000e-01</td>\n      <td>0.866025</td>\n      <td>7.247928e-01</td>\n      <td>0.688967</td>\n    </tr>\n    <tr>\n      <th>4</th>\n      <td>1960-01-05</td>\n      <td>1.3</td>\n      <td>-8.2</td>\n      <td>1.884740</td>\n      <td>44.0</td>\n      <td>5.1</td>\n      <td>8.2</td>\n      <td>14.946189</td>\n      <td>67.270939</td>\n      <td>-4.6</td>\n      <td>1960</td>\n      <td>5.000000e-01</td>\n      <td>0.866025</td>\n      <td>8.486443e-01</td>\n      <td>0.528964</td>\n    </tr>\n    <tr>\n      <th>...</th>\n      <td>...</td>\n      <td>...</td>\n      <td>...</td>\n      <td>...</td>\n      <td>...</td>\n      <td>...</td>\n      <td>...</td>\n      <td>...</td>\n      <td>...</td>\n      <td>...</td>\n      <td>...</td>\n      <td>...</td>\n      <td>...</td>\n      <td>...</td>\n      <td>...</td>\n    </tr>\n    <tr>\n      <th>23006</th>\n      <td>2022-12-27</td>\n      <td>3.3</td>\n      <td>-7.3</td>\n      <td>2.030017</td>\n      <td>69.8</td>\n      <td>1.8</td>\n      <td>8.8</td>\n      <td>10.250000</td>\n      <td>91.700000</td>\n      <td>-2.6</td>\n      <td>2022</td>\n      <td>-2.449294e-16</td>\n      <td>1.000000</td>\n      <td>-7.247928e-01</td>\n      <td>0.688967</td>\n    </tr>\n    <tr>\n      <th>23007</th>\n      <td>2022-12-28</td>\n      <td>0.1</td>\n      <td>-6.0</td>\n      <td>0.095310</td>\n      <td>58.1</td>\n      <td>2.5</td>\n      <td>8.7</td>\n      <td>10.860000</td>\n      <td>90.600000</td>\n      <td>-3.3</td>\n      <td>2022</td>\n      <td>-2.449294e-16</td>\n      <td>1.000000</td>\n      <td>-5.712682e-01</td>\n      <td>0.820763</td>\n    </tr>\n    <tr>\n      <th>23008</th>\n      <td>2022-12-29</td>\n      <td>2.1</td>\n      <td>-7.8</td>\n      <td>0.000000</td>\n      <td>56.3</td>\n      <td>1.7</td>\n      <td>9.0</td>\n      <td>10.880000</td>\n      <td>93.800000</td>\n      <td>-2.9</td>\n      <td>2022</td>\n      <td>-2.449294e-16</td>\n      <td>1.000000</td>\n      <td>-3.943559e-01</td>\n      <td>0.918958</td>\n    </tr>\n    <tr>\n      <th>23009</th>\n      <td>2022-12-30</td>\n      <td>2.3</td>\n      <td>-4.4</td>\n      <td>0.000000</td>\n      <td>65.6</td>\n      <td>1.9</td>\n      <td>7.9</td>\n      <td>10.840000</td>\n      <td>82.300000</td>\n      <td>-1.8</td>\n      <td>2022</td>\n      <td>-2.449294e-16</td>\n      <td>1.000000</td>\n      <td>-2.012985e-01</td>\n      <td>0.979530</td>\n    </tr>\n    <tr>\n      <th>23010</th>\n      <td>2022-12-31</td>\n      <td>2.1</td>\n      <td>-5.1</td>\n      <td>0.000000</td>\n      <td>65.5</td>\n      <td>1.4</td>\n      <td>1.1</td>\n      <td>4.160000</td>\n      <td>11.500000</td>\n      <td>-1.2</td>\n      <td>2022</td>\n      <td>-2.449294e-16</td>\n      <td>1.000000</td>\n      <td>-2.449294e-16</td>\n      <td>1.000000</td>\n    </tr>\n  </tbody>\n</table>\n<p>23011 rows × 15 columns</p>\n</div>"
     },
     "execution_count": 120,
     "metadata": {},
     "output_type": "execute_result"
    }
   ],
   "source": [
    "train"
   ],
   "metadata": {
    "collapsed": false,
    "ExecuteTime": {
     "end_time": "2023-12-29T07:23:01.633262Z",
     "start_time": "2023-12-29T07:23:01.585391400Z"
    }
   },
   "id": "5a88aeb55207e0ea"
  },
  {
   "cell_type": "code",
   "execution_count": 121,
   "outputs": [
    {
     "name": "stdout",
     "output_type": "stream",
     "text": [
      "33.7 -16.4\n"
     ]
    }
   ],
   "source": [
    "print(train['평균기온'].max(),train['평균기온'].min())"
   ],
   "metadata": {
    "collapsed": false,
    "ExecuteTime": {
     "end_time": "2023-12-29T07:23:02.079867200Z",
     "start_time": "2023-12-29T07:23:02.060918600Z"
    }
   },
   "id": "6d0a5e8d66c6d5c7"
  },
  {
   "cell_type": "code",
   "execution_count": 122,
   "outputs": [],
   "source": [
    "# Min-Max Scaler 초기화\n",
    "scaler = MinMaxScaler()\n",
    "\n",
    "# Min-Max Scaling을 적용할 컬럼들 선택\n",
    "columns_to_scale = ['최고기온', '최저기온', '강수량', '평균습도', '평균풍속', '일조합', '일사합', '일조율', '평균기온', '년']\n",
    "\n",
    "# Scaling 적용\n",
    "train[columns_to_scale] = scaler.fit_transform(train[columns_to_scale])"
   ],
   "metadata": {
    "collapsed": false,
    "ExecuteTime": {
     "end_time": "2023-12-29T07:23:02.659768Z",
     "start_time": "2023-12-29T07:23:02.584968300Z"
    }
   },
   "id": "4048652799be8bca"
  },
  {
   "cell_type": "code",
   "execution_count": 123,
   "outputs": [],
   "source": [
    "train.drop('일시',axis = 1 , inplace = True)"
   ],
   "metadata": {
    "collapsed": false,
    "ExecuteTime": {
     "end_time": "2023-12-29T07:23:03.441079700Z",
     "start_time": "2023-12-29T07:23:03.414955500Z"
    }
   },
   "id": "ec78595142cbcd97"
  },
  {
   "cell_type": "code",
   "execution_count": 124,
   "outputs": [
    {
     "data": {
      "text/plain": "           최고기온      최저기온       강수량      평균습도      평균풍속       일조합       일사합  \\\n0      0.296992  0.297030  0.348803  0.615385  0.207792  0.489051  0.375213   \n1      0.278195  0.289109  0.057907  0.852259  0.155844  0.000000  0.135650   \n2      0.419173  0.358416  0.000000  0.774115  0.376623  0.000000  0.171414   \n3      0.458647  0.423762  0.000000  0.754579  0.558442  0.189781  0.251568   \n4      0.280075  0.237624  0.324366  0.318681  0.649351  0.598540  0.446421   \n...         ...       ...       ...       ...       ...       ...       ...   \n23006  0.317669  0.255446  0.349368  0.633700  0.220779  0.642336  0.306153   \n23007  0.257519  0.281188  0.016403  0.490842  0.311688  0.635036  0.324373   \n23008  0.295113  0.245545  0.000000  0.468864  0.207792  0.656934  0.324970   \n23009  0.298872  0.312871  0.000000  0.582418  0.233766  0.576642  0.323775   \n23010  0.295113  0.299010  0.000000  0.581197  0.168831  0.080292  0.124253   \n\n            일조율      평균기온    년         월_sin     월_cos         일_sin     일_cos  \n0      0.554015  0.295409  0.0  5.000000e-01  0.866025  2.012985e-01  0.979530  \n1      0.020426  0.289421  0.0  5.000000e-01  0.866025  3.943559e-01  0.918958  \n2      0.020426  0.407186  0.0  5.000000e-01  0.866025  5.712682e-01  0.820763  \n3      0.227490  0.477046  0.0  5.000000e-01  0.866025  7.247928e-01  0.688967  \n4      0.673475  0.235529  0.0  5.000000e-01  0.866025  8.486443e-01  0.528964  \n...         ...       ...  ...           ...       ...           ...       ...  \n23006  0.918044  0.275449  1.0 -2.449294e-16  1.000000 -7.247928e-01  0.688967  \n23007  0.907032  0.261477  1.0 -2.449294e-16  1.000000 -5.712682e-01  0.820763  \n23008  0.939068  0.269461  1.0 -2.449294e-16  1.000000 -3.943559e-01  0.918958  \n23009  0.823937  0.291417  1.0 -2.449294e-16  1.000000 -2.012985e-01  0.979530  \n23010  0.115131  0.303393  1.0 -2.449294e-16  1.000000 -2.449294e-16  1.000000  \n\n[23011 rows x 14 columns]",
      "text/html": "<div>\n<style scoped>\n    .dataframe tbody tr th:only-of-type {\n        vertical-align: middle;\n    }\n\n    .dataframe tbody tr th {\n        vertical-align: top;\n    }\n\n    .dataframe thead th {\n        text-align: right;\n    }\n</style>\n<table border=\"1\" class=\"dataframe\">\n  <thead>\n    <tr style=\"text-align: right;\">\n      <th></th>\n      <th>최고기온</th>\n      <th>최저기온</th>\n      <th>강수량</th>\n      <th>평균습도</th>\n      <th>평균풍속</th>\n      <th>일조합</th>\n      <th>일사합</th>\n      <th>일조율</th>\n      <th>평균기온</th>\n      <th>년</th>\n      <th>월_sin</th>\n      <th>월_cos</th>\n      <th>일_sin</th>\n      <th>일_cos</th>\n    </tr>\n  </thead>\n  <tbody>\n    <tr>\n      <th>0</th>\n      <td>0.296992</td>\n      <td>0.297030</td>\n      <td>0.348803</td>\n      <td>0.615385</td>\n      <td>0.207792</td>\n      <td>0.489051</td>\n      <td>0.375213</td>\n      <td>0.554015</td>\n      <td>0.295409</td>\n      <td>0.0</td>\n      <td>5.000000e-01</td>\n      <td>0.866025</td>\n      <td>2.012985e-01</td>\n      <td>0.979530</td>\n    </tr>\n    <tr>\n      <th>1</th>\n      <td>0.278195</td>\n      <td>0.289109</td>\n      <td>0.057907</td>\n      <td>0.852259</td>\n      <td>0.155844</td>\n      <td>0.000000</td>\n      <td>0.135650</td>\n      <td>0.020426</td>\n      <td>0.289421</td>\n      <td>0.0</td>\n      <td>5.000000e-01</td>\n      <td>0.866025</td>\n      <td>3.943559e-01</td>\n      <td>0.918958</td>\n    </tr>\n    <tr>\n      <th>2</th>\n      <td>0.419173</td>\n      <td>0.358416</td>\n      <td>0.000000</td>\n      <td>0.774115</td>\n      <td>0.376623</td>\n      <td>0.000000</td>\n      <td>0.171414</td>\n      <td>0.020426</td>\n      <td>0.407186</td>\n      <td>0.0</td>\n      <td>5.000000e-01</td>\n      <td>0.866025</td>\n      <td>5.712682e-01</td>\n      <td>0.820763</td>\n    </tr>\n    <tr>\n      <th>3</th>\n      <td>0.458647</td>\n      <td>0.423762</td>\n      <td>0.000000</td>\n      <td>0.754579</td>\n      <td>0.558442</td>\n      <td>0.189781</td>\n      <td>0.251568</td>\n      <td>0.227490</td>\n      <td>0.477046</td>\n      <td>0.0</td>\n      <td>5.000000e-01</td>\n      <td>0.866025</td>\n      <td>7.247928e-01</td>\n      <td>0.688967</td>\n    </tr>\n    <tr>\n      <th>4</th>\n      <td>0.280075</td>\n      <td>0.237624</td>\n      <td>0.324366</td>\n      <td>0.318681</td>\n      <td>0.649351</td>\n      <td>0.598540</td>\n      <td>0.446421</td>\n      <td>0.673475</td>\n      <td>0.235529</td>\n      <td>0.0</td>\n      <td>5.000000e-01</td>\n      <td>0.866025</td>\n      <td>8.486443e-01</td>\n      <td>0.528964</td>\n    </tr>\n    <tr>\n      <th>...</th>\n      <td>...</td>\n      <td>...</td>\n      <td>...</td>\n      <td>...</td>\n      <td>...</td>\n      <td>...</td>\n      <td>...</td>\n      <td>...</td>\n      <td>...</td>\n      <td>...</td>\n      <td>...</td>\n      <td>...</td>\n      <td>...</td>\n      <td>...</td>\n    </tr>\n    <tr>\n      <th>23006</th>\n      <td>0.317669</td>\n      <td>0.255446</td>\n      <td>0.349368</td>\n      <td>0.633700</td>\n      <td>0.220779</td>\n      <td>0.642336</td>\n      <td>0.306153</td>\n      <td>0.918044</td>\n      <td>0.275449</td>\n      <td>1.0</td>\n      <td>-2.449294e-16</td>\n      <td>1.000000</td>\n      <td>-7.247928e-01</td>\n      <td>0.688967</td>\n    </tr>\n    <tr>\n      <th>23007</th>\n      <td>0.257519</td>\n      <td>0.281188</td>\n      <td>0.016403</td>\n      <td>0.490842</td>\n      <td>0.311688</td>\n      <td>0.635036</td>\n      <td>0.324373</td>\n      <td>0.907032</td>\n      <td>0.261477</td>\n      <td>1.0</td>\n      <td>-2.449294e-16</td>\n      <td>1.000000</td>\n      <td>-5.712682e-01</td>\n      <td>0.820763</td>\n    </tr>\n    <tr>\n      <th>23008</th>\n      <td>0.295113</td>\n      <td>0.245545</td>\n      <td>0.000000</td>\n      <td>0.468864</td>\n      <td>0.207792</td>\n      <td>0.656934</td>\n      <td>0.324970</td>\n      <td>0.939068</td>\n      <td>0.269461</td>\n      <td>1.0</td>\n      <td>-2.449294e-16</td>\n      <td>1.000000</td>\n      <td>-3.943559e-01</td>\n      <td>0.918958</td>\n    </tr>\n    <tr>\n      <th>23009</th>\n      <td>0.298872</td>\n      <td>0.312871</td>\n      <td>0.000000</td>\n      <td>0.582418</td>\n      <td>0.233766</td>\n      <td>0.576642</td>\n      <td>0.323775</td>\n      <td>0.823937</td>\n      <td>0.291417</td>\n      <td>1.0</td>\n      <td>-2.449294e-16</td>\n      <td>1.000000</td>\n      <td>-2.012985e-01</td>\n      <td>0.979530</td>\n    </tr>\n    <tr>\n      <th>23010</th>\n      <td>0.295113</td>\n      <td>0.299010</td>\n      <td>0.000000</td>\n      <td>0.581197</td>\n      <td>0.168831</td>\n      <td>0.080292</td>\n      <td>0.124253</td>\n      <td>0.115131</td>\n      <td>0.303393</td>\n      <td>1.0</td>\n      <td>-2.449294e-16</td>\n      <td>1.000000</td>\n      <td>-2.449294e-16</td>\n      <td>1.000000</td>\n    </tr>\n  </tbody>\n</table>\n<p>23011 rows × 14 columns</p>\n</div>"
     },
     "execution_count": 124,
     "metadata": {},
     "output_type": "execute_result"
    }
   ],
   "source": [
    "train"
   ],
   "metadata": {
    "collapsed": false,
    "ExecuteTime": {
     "end_time": "2023-12-29T07:23:04.113068Z",
     "start_time": "2023-12-29T07:23:04.074171900Z"
    }
   },
   "id": "b681c7d16786026f"
  },
  {
   "cell_type": "code",
   "execution_count": 125,
   "outputs": [],
   "source": [
    "window_size = 358*2\n",
    "prediction_length = 358\n",
    "X_train = []\n",
    "y_train = []\n",
    "\n",
    "# 윈도우에 따른 데이터 분할\n",
    "for i in range(window_size, len(train)-357):\n",
    "    X_train.append(train.iloc[i-window_size:i])\n",
    "    y_train.append(train['평균기온'].iloc[i:i+358].values)  # 358일치 평균기온을 배열로 추가"
   ],
   "metadata": {
    "collapsed": false,
    "ExecuteTime": {
     "end_time": "2023-12-29T07:23:14.095201300Z",
     "start_time": "2023-12-29T07:23:06.464974900Z"
    }
   },
   "id": "b2ff8f87ab212d2d"
  },
  {
   "cell_type": "code",
   "execution_count": 126,
   "outputs": [],
   "source": [
    "X_train, y_train = np.array(X_train), np.array(y_train)"
   ],
   "metadata": {
    "collapsed": false,
    "ExecuteTime": {
     "end_time": "2023-12-29T07:23:22.281587300Z",
     "start_time": "2023-12-29T07:23:18.498822900Z"
    }
   },
   "id": "3542641d4b95fa18"
  },
  {
   "cell_type": "code",
   "execution_count": 127,
   "outputs": [
    {
     "name": "stdout",
     "output_type": "stream",
     "text": [
      "(21938, 716, 14) (21938, 358)\n"
     ]
    }
   ],
   "source": [
    "print(X_train.shape,y_train.shape)"
   ],
   "metadata": {
    "collapsed": false,
    "ExecuteTime": {
     "end_time": "2023-12-29T07:23:22.829352200Z",
     "start_time": "2023-12-29T07:23:22.819169100Z"
    }
   },
   "id": "f05088f2ceb6e434"
  },
  {
   "cell_type": "code",
   "execution_count": 160,
   "outputs": [],
   "source": [
    "early_stopping = EarlyStopping(monitor='val_loss', patience=5, restore_best_weights=True, verbose=1)\n",
    "\n",
    "reduce_lr = ReduceLROnPlateau(monitor='val_loss', factor=0.5,\n",
    "                              patience=3, min_lr=0.00001,verbose=1)\n",
    "\n",
    "class LearningRateTracker(Callback):\n",
    "    def on_epoch_begin(self, epoch, logs=None):\n",
    "        lr = self.model.optimizer.lr\n",
    "        # 학습률을 실제 값으로 변환하고 float 타입으로 캐스팅\n",
    "        current_lr = float(K.eval(lr))\n",
    "        # 반올림\n",
    "        rounded_lr = round(current_lr, 6)\n",
    "        print(f'에포크 {epoch + 1}: 현재 학습률 = {rounded_lr}')\n",
    "\n",
    "# 콜백 인스턴스 생성\n",
    "lr_tracker = LearningRateTracker()\n",
    "\n",
    "class CustomCallback(Callback):\n",
    "    def on_epoch_end(self, epoch, logs=None):\n",
    "        val_loss = logs.get('val_loss')\n",
    "        print(f\"에포크 {epoch + 1}: 검증 손실 = {val_loss:.5f}\")\n",
    "\n",
    "custom_callback = CustomCallback()\n"
   ],
   "metadata": {
    "collapsed": false,
    "ExecuteTime": {
     "end_time": "2023-12-29T08:17:32.478882100Z",
     "start_time": "2023-12-29T08:17:32.457937400Z"
    }
   },
   "id": "ccb6054608bfb299"
  },
  {
   "cell_type": "code",
   "execution_count": 193,
   "outputs": [
    {
     "name": "stdout",
     "output_type": "stream",
     "text": [
      "Model: \"sequential_20\"\n",
      "_________________________________________________________________\n",
      "Layer (type)                 Output Shape              Param #   \n",
      "=================================================================\n",
      "bidirectional_4 (Bidirection (None, 716, 64)           9216      \n",
      "_________________________________________________________________\n",
      "bidirectional_5 (Bidirection (None, 64)                18816     \n",
      "_________________________________________________________________\n",
      "dense_18 (Dense)             (None, 358)               23270     \n",
      "=================================================================\n",
      "Total params: 51,302\n",
      "Trainable params: 51,302\n",
      "Non-trainable params: 0\n",
      "_________________________________________________________________\n"
     ]
    }
   ],
   "source": [
    "# 모델 구축\n",
    "model = Sequential()\n",
    "model.add(Bidirectional(GRU(units=32, return_sequences=True), input_shape=(X_train.shape[1], X_train.shape[2])))\n",
    "model.add(Bidirectional(GRU(units=32)))\n",
    "model.add(Dense(units=358))\n",
    "\n",
    "# 모델 컴파일\n",
    "model.compile(optimizer=Adam(learning_rate=0.0002), loss='mean_squared_error')\n",
    "\n",
    "# 모델 요약 출력\n",
    "model.summary()"
   ],
   "metadata": {
    "collapsed": false,
    "ExecuteTime": {
     "end_time": "2023-12-29T09:11:35.012274Z",
     "start_time": "2023-12-29T09:11:34.028197100Z"
    }
   },
   "id": "242538113ba42f41"
  },
  {
   "cell_type": "code",
   "execution_count": 194,
   "outputs": [
    {
     "name": "stdout",
     "output_type": "stream",
     "text": [
      "Epoch 1/10\n",
      "686/686 - 94s - loss: 0.0438\n",
      "Epoch 2/10\n",
      "686/686 - 92s - loss: 0.0048\n",
      "Epoch 3/10\n",
      "686/686 - 93s - loss: 0.0046\n",
      "Epoch 4/10\n",
      "686/686 - 98s - loss: 0.0045\n",
      "Epoch 5/10\n",
      "686/686 - 103s - loss: 0.0044\n",
      "Epoch 6/10\n",
      "686/686 - 104s - loss: 0.0043\n",
      "Epoch 7/10\n",
      "686/686 - 105s - loss: 0.0042\n",
      "Epoch 8/10\n",
      "686/686 - 105s - loss: 0.0042\n",
      "Epoch 9/10\n",
      "686/686 - 104s - loss: 0.0042\n",
      "Epoch 10/10\n",
      "686/686 - 103s - loss: 0.0042\n"
     ]
    }
   ],
   "source": [
    "# 모델 훈련\n",
    "history = model.fit(X_train, y_train,epochs=10, batch_size=32, verbose=2,workers=6)"
   ],
   "metadata": {
    "collapsed": false,
    "ExecuteTime": {
     "end_time": "2023-12-29T09:28:16.914087500Z",
     "start_time": "2023-12-29T09:11:35.075160Z"
    }
   },
   "id": "a27ffbb07b07dbb7"
  },
  {
   "cell_type": "code",
   "execution_count": 195,
   "outputs": [],
   "source": [
    "predict_data = X_train[-1].reshape(1, -1, 14)"
   ],
   "metadata": {
    "collapsed": false,
    "ExecuteTime": {
     "end_time": "2023-12-29T09:33:57.124565800Z",
     "start_time": "2023-12-29T09:33:57.106614200Z"
    }
   },
   "id": "5b74be8b57cafcbb"
  },
  {
   "cell_type": "code",
   "execution_count": 196,
   "outputs": [],
   "source": [
    "pred = model.predict(predict_data)"
   ],
   "metadata": {
    "collapsed": false,
    "ExecuteTime": {
     "end_time": "2023-12-29T09:33:58.794934Z",
     "start_time": "2023-12-29T09:33:57.422454700Z"
    }
   },
   "id": "88af11eae2710e7b"
  },
  {
   "cell_type": "code",
   "execution_count": 197,
   "outputs": [],
   "source": [
    "# MinMaxScaler의 역변환을 수행하는 함수 정의\n",
    "def inverse_minmax_scaling(scaled_data, min_val, max_val):\n",
    "    return (scaled_data * (max_val - min_val)) + min_val\n",
    "\n",
    "# 최소값과 최대값 정의\n",
    "min_val = -16.4\n",
    "max_val = 33.7\n",
    "\n",
    "# 역변환 수행\n",
    "pred = inverse_minmax_scaling(pred, min_val, max_val)"
   ],
   "metadata": {
    "collapsed": false,
    "ExecuteTime": {
     "end_time": "2023-12-29T09:33:58.884142Z",
     "start_time": "2023-12-29T09:33:58.857788400Z"
    }
   },
   "id": "accc095c2fa9d95b"
  },
  {
   "cell_type": "code",
   "execution_count": 198,
   "outputs": [],
   "source": [
    "pred = pred[-1].reshape(-1,)"
   ],
   "metadata": {
    "collapsed": false,
    "ExecuteTime": {
     "end_time": "2023-12-29T09:33:59.118559300Z",
     "start_time": "2023-12-29T09:33:59.091528100Z"
    }
   },
   "id": "f95c2310cb08bf67"
  },
  {
   "cell_type": "code",
   "execution_count": 199,
   "outputs": [
    {
     "data": {
      "text/plain": "array([-3.23397827e+00, -1.86255550e+00, -1.52338791e+00, -1.71996498e+00,\n       -1.93726826e+00, -2.38850307e+00, -2.10128403e+00, -1.64516544e+00,\n       -1.65165138e+00, -1.47793102e+00, -1.64198780e+00, -1.23384571e+00,\n       -1.50688839e+00, -1.33997822e+00, -1.45185852e+00, -1.49444771e+00,\n       -1.06869888e+00, -1.63847446e+00, -1.19088745e+00, -9.25667763e-01,\n       -7.73042679e-01, -1.27964020e+00, -1.19408989e+00, -1.28328228e+00,\n       -9.85093117e-01, -1.22547817e+00, -6.50426865e-01, -5.13263702e-01,\n       -1.75064754e+00, -8.34344864e-01, -1.04347229e-01, -3.95103455e-01,\n       -5.82758904e-01, -9.11547661e-01,  4.36113358e-01,  1.24931335e-03,\n        7.81448364e-01,  5.20452499e-01,  9.78450775e-01,  9.52989578e-01,\n        1.32740974e+00,  1.12363243e+00,  1.04484177e+00,  1.60214996e+00,\n        1.25073242e+00,  1.66740417e+00,  2.73576164e+00,  2.94528008e+00,\n        2.99255371e+00,  3.50020409e+00,  2.80494499e+00,  2.65245819e+00,\n        3.50481796e+00,  3.45256042e+00,  3.22250557e+00,  3.22965050e+00,\n        3.36255646e+00,  4.03016472e+00,  4.25159645e+00,  4.00875664e+00,\n        4.95574379e+00,  5.48872948e+00,  4.94098282e+00,  4.91507149e+00,\n        5.46498871e+00,  5.25131607e+00,  5.42391586e+00,  6.62237930e+00,\n        6.16929626e+00,  6.48680687e+00,  7.37772560e+00,  6.75096703e+00,\n        7.25928116e+00,  7.75293159e+00,  6.88944817e+00,  7.64030647e+00,\n        8.07543755e+00,  8.05880356e+00,  7.98758507e+00,  8.82659912e+00,\n        1.00106525e+01,  9.77002716e+00,  9.93698502e+00,  1.01630974e+01,\n        9.74221992e+00,  9.75554276e+00,  9.75306892e+00,  1.03255558e+01,\n        1.07587795e+01,  1.09300060e+01,  1.14720078e+01,  1.20589333e+01,\n        1.19580193e+01,  1.17731037e+01,  1.24744873e+01,  1.32728348e+01,\n        1.28547859e+01,  1.33615398e+01,  1.36198730e+01,  1.46888866e+01,\n        1.38680687e+01,  1.35265026e+01,  1.41611404e+01,  1.51884022e+01,\n        1.47061977e+01,  1.49361057e+01,  1.50936089e+01,  1.49434776e+01,\n        1.51343288e+01,  1.52216873e+01,  1.52320213e+01,  1.59523602e+01,\n        1.59891453e+01,  1.62792301e+01,  1.60889225e+01,  1.66152706e+01,\n        1.68246098e+01,  1.75742321e+01,  1.77139530e+01,  1.74799023e+01,\n        1.66213512e+01,  1.77505436e+01,  1.84308414e+01,  1.82375813e+01,\n        1.84872723e+01,  1.83299236e+01,  1.88546238e+01,  1.87743168e+01,\n        1.83325367e+01,  1.90193844e+01,  1.88798923e+01,  1.99240932e+01,\n        1.94097347e+01,  1.97330341e+01,  2.02376270e+01,  2.09592838e+01,\n        2.11672726e+01,  2.12955952e+01,  2.08173695e+01,  2.10066891e+01,\n        2.10839329e+01,  2.11890621e+01,  2.09320812e+01,  2.17000217e+01,\n        2.09345684e+01,  2.17195644e+01,  2.22715244e+01,  2.14425602e+01,\n        2.20277538e+01,  2.22165432e+01,  2.21425877e+01,  2.25005054e+01,\n        2.35968647e+01,  2.26983318e+01,  2.28357944e+01,  2.33429279e+01,\n        2.34474010e+01,  2.36181545e+01,  2.34636784e+01,  2.42917004e+01,\n        2.38243542e+01,  2.38843708e+01,  2.38572102e+01,  2.36257305e+01,\n        2.46784649e+01,  2.43538647e+01,  2.41498661e+01,  2.39344883e+01,\n        2.43683605e+01,  2.42177639e+01,  2.44712086e+01,  2.54942837e+01,\n        2.47978420e+01,  2.52882023e+01,  2.48116627e+01,  2.53380108e+01,\n        2.46760120e+01,  2.54682827e+01,  2.51402111e+01,  2.51389980e+01,\n        2.52255650e+01,  2.52152195e+01,  2.55079975e+01,  2.50674267e+01,\n        2.56291790e+01,  2.53773746e+01,  2.52630672e+01,  2.66555882e+01,\n        2.63144207e+01,  2.72235165e+01,  2.74974689e+01,  2.71535702e+01,\n        2.72240276e+01,  2.72230740e+01,  2.71196117e+01,  2.72240429e+01,\n        2.65939159e+01,  2.67690830e+01,  2.63495731e+01,  2.68730679e+01,\n        2.63612652e+01,  2.64324665e+01,  2.65990849e+01,  2.69826488e+01,\n        2.66688519e+01,  2.68831501e+01,  2.63366184e+01,  2.68659763e+01,\n        2.70904942e+01,  2.70352306e+01,  2.76303310e+01,  2.67803020e+01,\n        2.65598087e+01,  2.62953053e+01,  2.71717548e+01,  2.69226704e+01,\n        2.62555408e+01,  2.64464130e+01,  2.63860531e+01,  2.56743870e+01,\n        2.61037197e+01,  2.60120106e+01,  2.60848331e+01,  2.64458294e+01,\n        2.51846523e+01,  2.61193943e+01,  2.53458157e+01,  2.56716938e+01,\n        2.52199421e+01,  2.58867855e+01,  2.58591137e+01,  2.53966427e+01,\n        2.52392673e+01,  2.56653271e+01,  2.49297886e+01,  2.46683483e+01,\n        2.54122486e+01,  2.50887280e+01,  2.48427448e+01,  2.51769772e+01,\n        2.45885601e+01,  2.44800625e+01,  2.49039745e+01,  2.46958981e+01,\n        2.43763103e+01,  2.37726231e+01,  2.37069683e+01,  2.35165081e+01,\n        2.38783474e+01,  2.35445995e+01,  2.26532688e+01,  2.26902752e+01,\n        2.23218594e+01,  2.21095829e+01,  2.23157978e+01,  2.20574055e+01,\n        2.16703434e+01,  2.12954769e+01,  2.14184818e+01,  2.14328060e+01,\n        2.18368778e+01,  2.11139622e+01,  2.12363033e+01,  2.09165058e+01,\n        2.11437054e+01,  2.04658413e+01,  1.98780270e+01,  1.98425961e+01,\n        1.98936367e+01,  1.93852978e+01,  1.94493809e+01,  1.90076885e+01,\n        1.87941113e+01,  1.86929836e+01,  1.76402760e+01,  1.77497540e+01,\n        1.78352757e+01,  1.73689518e+01,  1.77637272e+01,  1.64272861e+01,\n        1.71008282e+01,  1.65890675e+01,  1.67046986e+01,  1.59023151e+01,\n        1.52472630e+01,  1.54046211e+01,  1.52497120e+01,  1.45031433e+01,\n        1.40022659e+01,  1.40421410e+01,  1.38122959e+01,  1.35960236e+01,\n        1.32748718e+01,  1.29040585e+01,  1.21497459e+01,  1.19498291e+01,\n        1.13852959e+01,  1.13427753e+01,  1.12716026e+01,  1.08859024e+01,\n        1.08040695e+01,  1.00670013e+01,  1.05893936e+01,  1.03157635e+01,\n        9.47788811e+00,  9.48906517e+00,  9.50025749e+00,  9.63853073e+00,\n        9.30984879e+00,  8.65988922e+00,  7.39477539e+00,  7.68815422e+00,\n        7.44721794e+00,  7.46875954e+00,  7.66159630e+00,  6.62409019e+00,\n        7.01312256e+00,  6.44680595e+00,  6.06812477e+00,  5.34034348e+00,\n        5.18105888e+00,  4.41956711e+00,  4.50946045e+00,  4.55767632e+00,\n        3.87850952e+00,  3.70372009e+00,  4.30120277e+00,  3.92917252e+00,\n        3.28533363e+00,  2.72203827e+00,  3.15227318e+00,  2.47080994e+00,\n        2.19253159e+00,  2.08623314e+00,  1.70324707e+00,  1.59144592e+00,\n        1.83342743e+00,  1.66756248e+00,  2.12296104e+00,  1.43900681e+00,\n        1.33468246e+00,  3.84437561e-01,  9.83545303e-01,  7.92728424e-01,\n        6.36455536e-01, -5.01098633e-02, -1.27548218e-01,  1.67182922e-01,\n       -3.17382812e-03,  1.86155319e-01, -7.86638260e-01, -3.50023270e-01,\n       -8.87354851e-01, -1.20175457e+00, -4.22474861e-01, -6.21806145e-01,\n       -6.45590782e-01, -6.68907166e-01], dtype=float32)"
     },
     "execution_count": 199,
     "metadata": {},
     "output_type": "execute_result"
    }
   ],
   "source": [
    "pred"
   ],
   "metadata": {
    "collapsed": false,
    "ExecuteTime": {
     "end_time": "2023-12-29T09:33:59.338596400Z",
     "start_time": "2023-12-29T09:33:59.325631600Z"
    }
   },
   "id": "f1d5753fc4ee6f6"
  },
  {
   "cell_type": "code",
   "execution_count": 200,
   "outputs": [],
   "source": [
    "sub = pd.read_csv('../data/sample_submission.csv')\n",
    "sub['평균기온'] = pred\n",
    "\n",
    "sub.to_csv('../submission/BiGRU_3.csv', index=False)"
   ],
   "metadata": {
    "collapsed": false,
    "ExecuteTime": {
     "end_time": "2023-12-29T09:34:04.355184400Z",
     "start_time": "2023-12-29T09:34:04.332232900Z"
    }
   },
   "id": "a9c7e04b62915a93"
  },
  {
   "cell_type": "code",
   "execution_count": null,
   "outputs": [],
   "source": [],
   "metadata": {
    "collapsed": false
   },
   "id": "986ebfe6c78187f3"
  }
 ],
 "metadata": {
  "kernelspec": {
   "display_name": "Python 3",
   "language": "python",
   "name": "python3"
  },
  "language_info": {
   "codemirror_mode": {
    "name": "ipython",
    "version": 2
   },
   "file_extension": ".py",
   "mimetype": "text/x-python",
   "name": "python",
   "nbconvert_exporter": "python",
   "pygments_lexer": "ipython2",
   "version": "2.7.6"
  }
 },
 "nbformat": 4,
 "nbformat_minor": 5
}

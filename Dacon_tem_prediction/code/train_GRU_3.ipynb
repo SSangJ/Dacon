{
 "cells": [
  {
   "cell_type": "code",
   "execution_count": 1,
   "outputs": [],
   "source": [
    "import os\n",
    "os.environ['KMP_DUPLICATE_LIB_OK']='True'\n",
    "import warnings\n",
    "warnings.filterwarnings('ignore', category=FutureWarning)\n",
    "\n",
    "# import package\n",
    "\n",
    "# model\n",
    "import torch\n",
    "import torch.nn as nn\n",
    "import torch.nn.functional as F\n",
    "from torchsummary import summary\n",
    "from torch import optim\n",
    "from torch.optim.lr_scheduler import StepLR\n",
    "from sklearn.linear_model import LinearRegression\n",
    "from sklearn.ensemble import RandomForestRegressor\n",
    "from xgboost import XGBRegressor\n",
    "from catboost import CatBoostRegressor\n",
    "from sklearn.model_selection import train_test_split\n",
    "from sklearn.metrics import mean_absolute_error, r2_score\n",
    "from sklearn.model_selection import GridSearchCV\n",
    "from lightgbm import LGBMRegressor\n",
    "from sklearn.preprocessing import MinMaxScaler\n",
    "from tensorflow.keras.callbacks import LearningRateScheduler\n",
    "from tensorflow.keras.callbacks import ReduceLROnPlateau\n",
    "\n",
    "# dataset and transformation\n",
    "from torchvision import datasets\n",
    "import torchvision.transforms as transforms\n",
    "from torch.utils.data import DataLoader\n",
    "from torchvision import models\n",
    "import torch.nn as nn\n",
    "import torch.nn.functional as F\n",
    "import torchvision\n",
    "\n",
    "from tensorflow.keras.models import Sequential\n",
    "from tensorflow.keras.layers import GRU, Dense, LSTM, Dropout, ConvLSTM2D, Flatten\n",
    "from tensorflow.keras.optimizers import Adam\n",
    "from tensorflow.keras.callbacks import EarlyStopping\n",
    "import tensorflow.keras.backend as K\n",
    "from tensorflow.keras.callbacks import Callback\n",
    "from keras.regularizers import l2\n",
    "\n",
    "# display images\n",
    "from torchvision import utils\n",
    "import matplotlib.pyplot as plt\n",
    "%matplotlib inline\n",
    "\n",
    "# utils\n",
    "import numpy as np\n",
    "from torchsummary import summary\n",
    "import time\n",
    "import copy\n",
    "import pandas as pd\n",
    "\n",
    "\n",
    "from warnings import filterwarnings\n",
    "filterwarnings('ignore')\n",
    "\n",
    "import torch\n",
    "from torch import nn, optim\n",
    "from torch.backends import cudnn\n",
    "cudnn.benchmark = True\n",
    "from randaugment import RandAugment, ImageNetPolicy\n",
    "\n",
    "import seaborn as sns\n",
    "plt.rcParams['font.family'] = 'Malgun Gothic'\n",
    "\n",
    "import tensorflow as tf"
   ],
   "metadata": {
    "collapsed": false,
    "ExecuteTime": {
     "end_time": "2023-12-29T10:18:12.339898900Z",
     "start_time": "2023-12-29T10:17:56.718716900Z"
    }
   },
   "id": "923f45687f336a83"
  },
  {
   "cell_type": "code",
   "execution_count": 2,
   "outputs": [
    {
     "name": "stdout",
     "output_type": "stream",
     "text": [
      "cuda:0\n"
     ]
    }
   ],
   "source": [
    "import torch\n",
    "device = torch.device('cuda:0' if torch.cuda.is_available() else 'cpu')\n",
    "\n",
    "print(device)"
   ],
   "metadata": {
    "collapsed": false,
    "ExecuteTime": {
     "end_time": "2023-12-29T10:18:12.387384200Z",
     "start_time": "2023-12-29T10:18:12.338900800Z"
    }
   },
   "id": "ff0198d1e7e926bf"
  },
  {
   "cell_type": "code",
   "execution_count": 3,
   "outputs": [
    {
     "name": "stdout",
     "output_type": "stream",
     "text": [
      "WARNING:tensorflow:From C:\\Users\\SJ\\AppData\\Local\\Temp\\ipykernel_35792\\3227166453.py:1: is_gpu_available (from tensorflow.python.framework.test_util) is deprecated and will be removed in a future version.\n",
      "Instructions for updating:\n",
      "Use `tf.config.list_physical_devices('GPU')` instead.\n"
     ]
    },
    {
     "data": {
      "text/plain": "True"
     },
     "execution_count": 3,
     "metadata": {},
     "output_type": "execute_result"
    }
   ],
   "source": [
    "tf.test.is_gpu_available(cuda_only=False, min_cuda_compute_capability=None )"
   ],
   "metadata": {
    "collapsed": false,
    "ExecuteTime": {
     "end_time": "2023-12-29T10:18:12.994656400Z",
     "start_time": "2023-12-29T10:18:12.385396300Z"
    }
   },
   "id": "d579faef2c2ba207"
  },
  {
   "cell_type": "code",
   "execution_count": 4,
   "outputs": [],
   "source": [
    "train =pd.read_csv(\"../data/train_preprocessing2.csv\")\n",
    "submission = pd.read_csv(\"../data/sample_submission.csv\")"
   ],
   "metadata": {
    "collapsed": false,
    "ExecuteTime": {
     "end_time": "2023-12-29T10:18:13.071139Z",
     "start_time": "2023-12-29T10:18:12.994656400Z"
    }
   },
   "id": "35e4ec692beb6562"
  },
  {
   "cell_type": "code",
   "execution_count": 5,
   "outputs": [],
   "source": [
    "train.drop('일교차',inplace=True, axis = 1)\n",
    "train.loc[train['강수량'] < 0 , '강수량'] = 0\n",
    "\n",
    "import math\n",
    "train['강수량'] = train['강수량'].apply(lambda x :  math.log(x+1))"
   ],
   "metadata": {
    "collapsed": false,
    "ExecuteTime": {
     "end_time": "2023-12-29T10:18:13.103053400Z",
     "start_time": "2023-12-29T10:18:13.071139Z"
    }
   },
   "id": "3e9abac864ce6b7c"
  },
  {
   "cell_type": "code",
   "execution_count": 6,
   "outputs": [
    {
     "data": {
      "text/plain": "               일시  최고기온  최저기온       강수량  평균습도  평균풍속  일조합        일사합  \\\n0      1960-01-01   2.2  -5.2  2.026732  68.3   1.7  6.7  12.562132   \n1      1960-01-02   1.2  -5.6  0.336472  87.7   1.3  0.0   4.541569   \n2      1960-01-03   8.7  -2.1  0.000000  81.3   3.0  0.0   5.738938   \n3      1960-01-04  10.8   1.2  0.000000  79.7   4.4  2.6   8.422487   \n4      1960-01-05   1.3  -8.2  1.884740  44.0   5.1  8.2  14.946189   \n...           ...   ...   ...       ...   ...   ...  ...        ...   \n23006  2022-12-27   3.3  -7.3  2.030017  69.8   1.8  8.8  10.250000   \n23007  2022-12-28   0.1  -6.0  0.095310  58.1   2.5  8.7  10.860000   \n23008  2022-12-29   2.1  -7.8  0.000000  56.3   1.7  9.0  10.880000   \n23009  2022-12-30   2.3  -4.4  0.000000  65.6   1.9  7.9  10.840000   \n23010  2022-12-31   2.1  -5.1  0.000000  65.5   1.4  1.1   4.160000   \n\n             일조율  평균기온     년         월_sin     월_cos         일_sin     일_cos  \n0      55.338502  -1.6  1960  5.000000e-01  0.866025  2.012985e-01  0.979530  \n1       2.040280  -1.9  1960  5.000000e-01  0.866025  3.943559e-01  0.918958  \n2       2.040280   4.0  1960  5.000000e-01  0.866025  5.712682e-01  0.820763  \n3      22.723172   7.5  1960  5.000000e-01  0.866025  7.247928e-01  0.688967  \n4      67.270939  -4.6  1960  5.000000e-01  0.866025  8.486443e-01  0.528964  \n...          ...   ...   ...           ...       ...           ...       ...  \n23006  91.700000  -2.6  2022 -2.449294e-16  1.000000 -7.247928e-01  0.688967  \n23007  90.600000  -3.3  2022 -2.449294e-16  1.000000 -5.712682e-01  0.820763  \n23008  93.800000  -2.9  2022 -2.449294e-16  1.000000 -3.943559e-01  0.918958  \n23009  82.300000  -1.8  2022 -2.449294e-16  1.000000 -2.012985e-01  0.979530  \n23010  11.500000  -1.2  2022 -2.449294e-16  1.000000 -2.449294e-16  1.000000  \n\n[23011 rows x 15 columns]",
      "text/html": "<div>\n<style scoped>\n    .dataframe tbody tr th:only-of-type {\n        vertical-align: middle;\n    }\n\n    .dataframe tbody tr th {\n        vertical-align: top;\n    }\n\n    .dataframe thead th {\n        text-align: right;\n    }\n</style>\n<table border=\"1\" class=\"dataframe\">\n  <thead>\n    <tr style=\"text-align: right;\">\n      <th></th>\n      <th>일시</th>\n      <th>최고기온</th>\n      <th>최저기온</th>\n      <th>강수량</th>\n      <th>평균습도</th>\n      <th>평균풍속</th>\n      <th>일조합</th>\n      <th>일사합</th>\n      <th>일조율</th>\n      <th>평균기온</th>\n      <th>년</th>\n      <th>월_sin</th>\n      <th>월_cos</th>\n      <th>일_sin</th>\n      <th>일_cos</th>\n    </tr>\n  </thead>\n  <tbody>\n    <tr>\n      <th>0</th>\n      <td>1960-01-01</td>\n      <td>2.2</td>\n      <td>-5.2</td>\n      <td>2.026732</td>\n      <td>68.3</td>\n      <td>1.7</td>\n      <td>6.7</td>\n      <td>12.562132</td>\n      <td>55.338502</td>\n      <td>-1.6</td>\n      <td>1960</td>\n      <td>5.000000e-01</td>\n      <td>0.866025</td>\n      <td>2.012985e-01</td>\n      <td>0.979530</td>\n    </tr>\n    <tr>\n      <th>1</th>\n      <td>1960-01-02</td>\n      <td>1.2</td>\n      <td>-5.6</td>\n      <td>0.336472</td>\n      <td>87.7</td>\n      <td>1.3</td>\n      <td>0.0</td>\n      <td>4.541569</td>\n      <td>2.040280</td>\n      <td>-1.9</td>\n      <td>1960</td>\n      <td>5.000000e-01</td>\n      <td>0.866025</td>\n      <td>3.943559e-01</td>\n      <td>0.918958</td>\n    </tr>\n    <tr>\n      <th>2</th>\n      <td>1960-01-03</td>\n      <td>8.7</td>\n      <td>-2.1</td>\n      <td>0.000000</td>\n      <td>81.3</td>\n      <td>3.0</td>\n      <td>0.0</td>\n      <td>5.738938</td>\n      <td>2.040280</td>\n      <td>4.0</td>\n      <td>1960</td>\n      <td>5.000000e-01</td>\n      <td>0.866025</td>\n      <td>5.712682e-01</td>\n      <td>0.820763</td>\n    </tr>\n    <tr>\n      <th>3</th>\n      <td>1960-01-04</td>\n      <td>10.8</td>\n      <td>1.2</td>\n      <td>0.000000</td>\n      <td>79.7</td>\n      <td>4.4</td>\n      <td>2.6</td>\n      <td>8.422487</td>\n      <td>22.723172</td>\n      <td>7.5</td>\n      <td>1960</td>\n      <td>5.000000e-01</td>\n      <td>0.866025</td>\n      <td>7.247928e-01</td>\n      <td>0.688967</td>\n    </tr>\n    <tr>\n      <th>4</th>\n      <td>1960-01-05</td>\n      <td>1.3</td>\n      <td>-8.2</td>\n      <td>1.884740</td>\n      <td>44.0</td>\n      <td>5.1</td>\n      <td>8.2</td>\n      <td>14.946189</td>\n      <td>67.270939</td>\n      <td>-4.6</td>\n      <td>1960</td>\n      <td>5.000000e-01</td>\n      <td>0.866025</td>\n      <td>8.486443e-01</td>\n      <td>0.528964</td>\n    </tr>\n    <tr>\n      <th>...</th>\n      <td>...</td>\n      <td>...</td>\n      <td>...</td>\n      <td>...</td>\n      <td>...</td>\n      <td>...</td>\n      <td>...</td>\n      <td>...</td>\n      <td>...</td>\n      <td>...</td>\n      <td>...</td>\n      <td>...</td>\n      <td>...</td>\n      <td>...</td>\n      <td>...</td>\n    </tr>\n    <tr>\n      <th>23006</th>\n      <td>2022-12-27</td>\n      <td>3.3</td>\n      <td>-7.3</td>\n      <td>2.030017</td>\n      <td>69.8</td>\n      <td>1.8</td>\n      <td>8.8</td>\n      <td>10.250000</td>\n      <td>91.700000</td>\n      <td>-2.6</td>\n      <td>2022</td>\n      <td>-2.449294e-16</td>\n      <td>1.000000</td>\n      <td>-7.247928e-01</td>\n      <td>0.688967</td>\n    </tr>\n    <tr>\n      <th>23007</th>\n      <td>2022-12-28</td>\n      <td>0.1</td>\n      <td>-6.0</td>\n      <td>0.095310</td>\n      <td>58.1</td>\n      <td>2.5</td>\n      <td>8.7</td>\n      <td>10.860000</td>\n      <td>90.600000</td>\n      <td>-3.3</td>\n      <td>2022</td>\n      <td>-2.449294e-16</td>\n      <td>1.000000</td>\n      <td>-5.712682e-01</td>\n      <td>0.820763</td>\n    </tr>\n    <tr>\n      <th>23008</th>\n      <td>2022-12-29</td>\n      <td>2.1</td>\n      <td>-7.8</td>\n      <td>0.000000</td>\n      <td>56.3</td>\n      <td>1.7</td>\n      <td>9.0</td>\n      <td>10.880000</td>\n      <td>93.800000</td>\n      <td>-2.9</td>\n      <td>2022</td>\n      <td>-2.449294e-16</td>\n      <td>1.000000</td>\n      <td>-3.943559e-01</td>\n      <td>0.918958</td>\n    </tr>\n    <tr>\n      <th>23009</th>\n      <td>2022-12-30</td>\n      <td>2.3</td>\n      <td>-4.4</td>\n      <td>0.000000</td>\n      <td>65.6</td>\n      <td>1.9</td>\n      <td>7.9</td>\n      <td>10.840000</td>\n      <td>82.300000</td>\n      <td>-1.8</td>\n      <td>2022</td>\n      <td>-2.449294e-16</td>\n      <td>1.000000</td>\n      <td>-2.012985e-01</td>\n      <td>0.979530</td>\n    </tr>\n    <tr>\n      <th>23010</th>\n      <td>2022-12-31</td>\n      <td>2.1</td>\n      <td>-5.1</td>\n      <td>0.000000</td>\n      <td>65.5</td>\n      <td>1.4</td>\n      <td>1.1</td>\n      <td>4.160000</td>\n      <td>11.500000</td>\n      <td>-1.2</td>\n      <td>2022</td>\n      <td>-2.449294e-16</td>\n      <td>1.000000</td>\n      <td>-2.449294e-16</td>\n      <td>1.000000</td>\n    </tr>\n  </tbody>\n</table>\n<p>23011 rows × 15 columns</p>\n</div>"
     },
     "execution_count": 6,
     "metadata": {},
     "output_type": "execute_result"
    }
   ],
   "source": [
    "train"
   ],
   "metadata": {
    "collapsed": false,
    "ExecuteTime": {
     "end_time": "2023-12-29T10:18:13.135965500Z",
     "start_time": "2023-12-29T10:18:13.102055Z"
    }
   },
   "id": "5a88aeb55207e0ea"
  },
  {
   "cell_type": "code",
   "execution_count": 7,
   "outputs": [
    {
     "name": "stdout",
     "output_type": "stream",
     "text": [
      "33.7 -16.4\n"
     ]
    }
   ],
   "source": [
    "print(train['평균기온'].max(),train['평균기온'].min())"
   ],
   "metadata": {
    "collapsed": false,
    "ExecuteTime": {
     "end_time": "2023-12-29T10:18:13.148929500Z",
     "start_time": "2023-12-29T10:18:13.134967500Z"
    }
   },
   "id": "6d0a5e8d66c6d5c7"
  },
  {
   "cell_type": "code",
   "execution_count": 8,
   "outputs": [],
   "source": [
    "# Min-Max Scaler 초기화\n",
    "scaler = MinMaxScaler()\n",
    "\n",
    "# Min-Max Scaling을 적용할 컬럼들 선택\n",
    "columns_to_scale = ['최고기온', '최저기온', '강수량', '평균습도', '평균풍속', '일조합', '일사합', '일조율', '평균기온', '년']\n",
    "\n",
    "# Scaling 적용\n",
    "train[columns_to_scale] = scaler.fit_transform(train[columns_to_scale])"
   ],
   "metadata": {
    "collapsed": false,
    "ExecuteTime": {
     "end_time": "2023-12-29T10:18:13.216750400Z",
     "start_time": "2023-12-29T10:18:13.150924600Z"
    }
   },
   "id": "4048652799be8bca"
  },
  {
   "cell_type": "code",
   "execution_count": 9,
   "outputs": [],
   "source": [
    "train.drop('일시',axis = 1 , inplace = True)"
   ],
   "metadata": {
    "collapsed": false,
    "ExecuteTime": {
     "end_time": "2023-12-29T10:18:13.250927Z",
     "start_time": "2023-12-29T10:18:13.165887200Z"
    }
   },
   "id": "ec78595142cbcd97"
  },
  {
   "cell_type": "code",
   "execution_count": 10,
   "outputs": [
    {
     "data": {
      "text/plain": "           최고기온      최저기온       강수량      평균습도      평균풍속       일조합       일사합  \\\n0      0.296992  0.297030  0.348803  0.615385  0.207792  0.489051  0.375213   \n1      0.278195  0.289109  0.057907  0.852259  0.155844  0.000000  0.135650   \n2      0.419173  0.358416  0.000000  0.774115  0.376623  0.000000  0.171414   \n3      0.458647  0.423762  0.000000  0.754579  0.558442  0.189781  0.251568   \n4      0.280075  0.237624  0.324366  0.318681  0.649351  0.598540  0.446421   \n...         ...       ...       ...       ...       ...       ...       ...   \n23006  0.317669  0.255446  0.349368  0.633700  0.220779  0.642336  0.306153   \n23007  0.257519  0.281188  0.016403  0.490842  0.311688  0.635036  0.324373   \n23008  0.295113  0.245545  0.000000  0.468864  0.207792  0.656934  0.324970   \n23009  0.298872  0.312871  0.000000  0.582418  0.233766  0.576642  0.323775   \n23010  0.295113  0.299010  0.000000  0.581197  0.168831  0.080292  0.124253   \n\n            일조율      평균기온    년         월_sin     월_cos         일_sin     일_cos  \n0      0.554015  0.295409  0.0  5.000000e-01  0.866025  2.012985e-01  0.979530  \n1      0.020426  0.289421  0.0  5.000000e-01  0.866025  3.943559e-01  0.918958  \n2      0.020426  0.407186  0.0  5.000000e-01  0.866025  5.712682e-01  0.820763  \n3      0.227490  0.477046  0.0  5.000000e-01  0.866025  7.247928e-01  0.688967  \n4      0.673475  0.235529  0.0  5.000000e-01  0.866025  8.486443e-01  0.528964  \n...         ...       ...  ...           ...       ...           ...       ...  \n23006  0.918044  0.275449  1.0 -2.449294e-16  1.000000 -7.247928e-01  0.688967  \n23007  0.907032  0.261477  1.0 -2.449294e-16  1.000000 -5.712682e-01  0.820763  \n23008  0.939068  0.269461  1.0 -2.449294e-16  1.000000 -3.943559e-01  0.918958  \n23009  0.823937  0.291417  1.0 -2.449294e-16  1.000000 -2.012985e-01  0.979530  \n23010  0.115131  0.303393  1.0 -2.449294e-16  1.000000 -2.449294e-16  1.000000  \n\n[23011 rows x 14 columns]",
      "text/html": "<div>\n<style scoped>\n    .dataframe tbody tr th:only-of-type {\n        vertical-align: middle;\n    }\n\n    .dataframe tbody tr th {\n        vertical-align: top;\n    }\n\n    .dataframe thead th {\n        text-align: right;\n    }\n</style>\n<table border=\"1\" class=\"dataframe\">\n  <thead>\n    <tr style=\"text-align: right;\">\n      <th></th>\n      <th>최고기온</th>\n      <th>최저기온</th>\n      <th>강수량</th>\n      <th>평균습도</th>\n      <th>평균풍속</th>\n      <th>일조합</th>\n      <th>일사합</th>\n      <th>일조율</th>\n      <th>평균기온</th>\n      <th>년</th>\n      <th>월_sin</th>\n      <th>월_cos</th>\n      <th>일_sin</th>\n      <th>일_cos</th>\n    </tr>\n  </thead>\n  <tbody>\n    <tr>\n      <th>0</th>\n      <td>0.296992</td>\n      <td>0.297030</td>\n      <td>0.348803</td>\n      <td>0.615385</td>\n      <td>0.207792</td>\n      <td>0.489051</td>\n      <td>0.375213</td>\n      <td>0.554015</td>\n      <td>0.295409</td>\n      <td>0.0</td>\n      <td>5.000000e-01</td>\n      <td>0.866025</td>\n      <td>2.012985e-01</td>\n      <td>0.979530</td>\n    </tr>\n    <tr>\n      <th>1</th>\n      <td>0.278195</td>\n      <td>0.289109</td>\n      <td>0.057907</td>\n      <td>0.852259</td>\n      <td>0.155844</td>\n      <td>0.000000</td>\n      <td>0.135650</td>\n      <td>0.020426</td>\n      <td>0.289421</td>\n      <td>0.0</td>\n      <td>5.000000e-01</td>\n      <td>0.866025</td>\n      <td>3.943559e-01</td>\n      <td>0.918958</td>\n    </tr>\n    <tr>\n      <th>2</th>\n      <td>0.419173</td>\n      <td>0.358416</td>\n      <td>0.000000</td>\n      <td>0.774115</td>\n      <td>0.376623</td>\n      <td>0.000000</td>\n      <td>0.171414</td>\n      <td>0.020426</td>\n      <td>0.407186</td>\n      <td>0.0</td>\n      <td>5.000000e-01</td>\n      <td>0.866025</td>\n      <td>5.712682e-01</td>\n      <td>0.820763</td>\n    </tr>\n    <tr>\n      <th>3</th>\n      <td>0.458647</td>\n      <td>0.423762</td>\n      <td>0.000000</td>\n      <td>0.754579</td>\n      <td>0.558442</td>\n      <td>0.189781</td>\n      <td>0.251568</td>\n      <td>0.227490</td>\n      <td>0.477046</td>\n      <td>0.0</td>\n      <td>5.000000e-01</td>\n      <td>0.866025</td>\n      <td>7.247928e-01</td>\n      <td>0.688967</td>\n    </tr>\n    <tr>\n      <th>4</th>\n      <td>0.280075</td>\n      <td>0.237624</td>\n      <td>0.324366</td>\n      <td>0.318681</td>\n      <td>0.649351</td>\n      <td>0.598540</td>\n      <td>0.446421</td>\n      <td>0.673475</td>\n      <td>0.235529</td>\n      <td>0.0</td>\n      <td>5.000000e-01</td>\n      <td>0.866025</td>\n      <td>8.486443e-01</td>\n      <td>0.528964</td>\n    </tr>\n    <tr>\n      <th>...</th>\n      <td>...</td>\n      <td>...</td>\n      <td>...</td>\n      <td>...</td>\n      <td>...</td>\n      <td>...</td>\n      <td>...</td>\n      <td>...</td>\n      <td>...</td>\n      <td>...</td>\n      <td>...</td>\n      <td>...</td>\n      <td>...</td>\n      <td>...</td>\n    </tr>\n    <tr>\n      <th>23006</th>\n      <td>0.317669</td>\n      <td>0.255446</td>\n      <td>0.349368</td>\n      <td>0.633700</td>\n      <td>0.220779</td>\n      <td>0.642336</td>\n      <td>0.306153</td>\n      <td>0.918044</td>\n      <td>0.275449</td>\n      <td>1.0</td>\n      <td>-2.449294e-16</td>\n      <td>1.000000</td>\n      <td>-7.247928e-01</td>\n      <td>0.688967</td>\n    </tr>\n    <tr>\n      <th>23007</th>\n      <td>0.257519</td>\n      <td>0.281188</td>\n      <td>0.016403</td>\n      <td>0.490842</td>\n      <td>0.311688</td>\n      <td>0.635036</td>\n      <td>0.324373</td>\n      <td>0.907032</td>\n      <td>0.261477</td>\n      <td>1.0</td>\n      <td>-2.449294e-16</td>\n      <td>1.000000</td>\n      <td>-5.712682e-01</td>\n      <td>0.820763</td>\n    </tr>\n    <tr>\n      <th>23008</th>\n      <td>0.295113</td>\n      <td>0.245545</td>\n      <td>0.000000</td>\n      <td>0.468864</td>\n      <td>0.207792</td>\n      <td>0.656934</td>\n      <td>0.324970</td>\n      <td>0.939068</td>\n      <td>0.269461</td>\n      <td>1.0</td>\n      <td>-2.449294e-16</td>\n      <td>1.000000</td>\n      <td>-3.943559e-01</td>\n      <td>0.918958</td>\n    </tr>\n    <tr>\n      <th>23009</th>\n      <td>0.298872</td>\n      <td>0.312871</td>\n      <td>0.000000</td>\n      <td>0.582418</td>\n      <td>0.233766</td>\n      <td>0.576642</td>\n      <td>0.323775</td>\n      <td>0.823937</td>\n      <td>0.291417</td>\n      <td>1.0</td>\n      <td>-2.449294e-16</td>\n      <td>1.000000</td>\n      <td>-2.012985e-01</td>\n      <td>0.979530</td>\n    </tr>\n    <tr>\n      <th>23010</th>\n      <td>0.295113</td>\n      <td>0.299010</td>\n      <td>0.000000</td>\n      <td>0.581197</td>\n      <td>0.168831</td>\n      <td>0.080292</td>\n      <td>0.124253</td>\n      <td>0.115131</td>\n      <td>0.303393</td>\n      <td>1.0</td>\n      <td>-2.449294e-16</td>\n      <td>1.000000</td>\n      <td>-2.449294e-16</td>\n      <td>1.000000</td>\n    </tr>\n  </tbody>\n</table>\n<p>23011 rows × 14 columns</p>\n</div>"
     },
     "execution_count": 10,
     "metadata": {},
     "output_type": "execute_result"
    }
   ],
   "source": [
    "train"
   ],
   "metadata": {
    "collapsed": false,
    "ExecuteTime": {
     "end_time": "2023-12-29T10:18:13.253651300Z",
     "start_time": "2023-12-29T10:18:13.198798300Z"
    }
   },
   "id": "b681c7d16786026f"
  },
  {
   "cell_type": "code",
   "execution_count": 11,
   "outputs": [],
   "source": [
    "window_size = 358*2\n",
    "prediction_length = 358\n",
    "X_train = []\n",
    "y_train = []\n",
    "\n",
    "# 윈도우에 따른 데이터 분할\n",
    "for i in range(window_size, len(train)-357):\n",
    "    X_train.append(train.iloc[i-window_size:i])\n",
    "    y_train.append(train['평균기온'].iloc[i:i+358].values)  # 358일치 평균기온을 배열로 추가"
   ],
   "metadata": {
    "collapsed": false,
    "ExecuteTime": {
     "end_time": "2023-12-29T10:18:15.398523800Z",
     "start_time": "2023-12-29T10:18:13.228718600Z"
    }
   },
   "id": "b2ff8f87ab212d2d"
  },
  {
   "cell_type": "code",
   "execution_count": 12,
   "outputs": [],
   "source": [
    "X_train, y_train = np.array(X_train), np.array(y_train)"
   ],
   "metadata": {
    "collapsed": false,
    "ExecuteTime": {
     "end_time": "2023-12-29T10:18:18.608709900Z",
     "start_time": "2023-12-29T10:18:15.398523800Z"
    }
   },
   "id": "3542641d4b95fa18"
  },
  {
   "cell_type": "code",
   "execution_count": 13,
   "outputs": [
    {
     "name": "stdout",
     "output_type": "stream",
     "text": [
      "(21938, 716, 14) (21938, 358)\n"
     ]
    }
   ],
   "source": [
    "print(X_train.shape,y_train.shape)"
   ],
   "metadata": {
    "collapsed": false,
    "ExecuteTime": {
     "end_time": "2023-12-29T10:18:18.624669100Z",
     "start_time": "2023-12-29T10:18:18.608709900Z"
    }
   },
   "id": "f05088f2ceb6e434"
  },
  {
   "cell_type": "code",
   "execution_count": 89,
   "outputs": [],
   "source": [
    "early_stopping = EarlyStopping(monitor='val_loss', patience=5, restore_best_weights=True,verbose=1)\n",
    "\n",
    "reduce_lr = ReduceLROnPlateau(monitor='val_loss', factor=0.5,\n",
    "                              patience=3, min_lr=0.00001,verbose=1)\n",
    "\n",
    "class LearningRateTracker(Callback):\n",
    "    def on_epoch_begin(self, epoch, logs=None):\n",
    "        lr = self.model.optimizer.lr\n",
    "        # 학습률을 실제 값으로 변환하고 float 타입으로 캐스팅\n",
    "        current_lr = float(K.eval(lr))\n",
    "        # 반올림\n",
    "        rounded_lr = round(current_lr, 6)\n",
    "        print(f'에포크 {epoch + 1}: 현재 학습률 = {rounded_lr}')\n",
    "\n",
    "# 콜백 인스턴스 생성\n",
    "lr_tracker = LearningRateTracker()\n",
    "\n",
    "class CustomCallback(Callback):\n",
    "    def on_epoch_end(self, epoch, logs=None):\n",
    "        val_loss = logs.get('val_loss')\n",
    "        print(f\"에포크 {epoch + 1}: 검증 손실 = {val_loss:.5f}\")\n",
    "\n",
    "custom_callback = CustomCallback()\n"
   ],
   "metadata": {
    "collapsed": false,
    "ExecuteTime": {
     "end_time": "2023-12-29T12:03:33.983852900Z",
     "start_time": "2023-12-29T12:03:33.961912Z"
    }
   },
   "id": "ccb6054608bfb299"
  },
  {
   "cell_type": "code",
   "execution_count": 90,
   "outputs": [
    {
     "name": "stdout",
     "output_type": "stream",
     "text": [
      "Model: \"sequential_9\"\n",
      "_________________________________________________________________\n",
      "Layer (type)                 Output Shape              Param #   \n",
      "=================================================================\n",
      "gru_20 (GRU)                 (None, 716, 64)           15360     \n",
      "_________________________________________________________________\n",
      "gru_21 (GRU)                 (None, 716, 64)           24960     \n",
      "_________________________________________________________________\n",
      "gru_22 (GRU)                 (None, 64)                24960     \n",
      "_________________________________________________________________\n",
      "dense_9 (Dense)              (None, 358)               23270     \n",
      "=================================================================\n",
      "Total params: 88,550\n",
      "Trainable params: 88,550\n",
      "Non-trainable params: 0\n",
      "_________________________________________________________________\n"
     ]
    }
   ],
   "source": [
    "# 모델 구축\n",
    "model = Sequential()\n",
    "model.add(GRU(units=64, return_sequences=True, input_shape=(X_train.shape[1], X_train.shape[2])))\n",
    "model.add(GRU(units=64 ,return_sequences=True))\n",
    "model.add(GRU(units=64 ))\n",
    "model.add(Dense(units=358 ))\n",
    "\n",
    "# 모델 컴파일\n",
    "model.compile(optimizer=Adam(learning_rate=0.0002), loss='mean_squared_error')\n",
    "\n",
    "# 모델 요약 출력\n",
    "model.summary()"
   ],
   "metadata": {
    "collapsed": false,
    "ExecuteTime": {
     "end_time": "2023-12-29T12:03:34.785328800Z",
     "start_time": "2023-12-29T12:03:34.135021900Z"
    }
   },
   "id": "242538113ba42f41"
  },
  {
   "cell_type": "code",
   "execution_count": 91,
   "outputs": [
    {
     "name": "stdout",
     "output_type": "stream",
     "text": [
      "Epoch 1/10\n",
      "686/686 - 38s - loss: 0.0385\n",
      "Epoch 2/10\n",
      "686/686 - 32s - loss: 0.0046\n",
      "Epoch 3/10\n",
      "686/686 - 32s - loss: 0.0045\n",
      "Epoch 4/10\n",
      "686/686 - 32s - loss: 0.0044\n",
      "Epoch 5/10\n",
      "686/686 - 32s - loss: 0.0043\n",
      "Epoch 6/10\n",
      "686/686 - 32s - loss: 0.0042\n",
      "Epoch 7/10\n",
      "686/686 - 32s - loss: 0.0042\n",
      "Epoch 8/10\n",
      "686/686 - 32s - loss: 0.0042\n",
      "Epoch 9/10\n",
      "686/686 - 32s - loss: 0.0042\n",
      "Epoch 10/10\n",
      "686/686 - 32s - loss: 0.0042\n"
     ]
    }
   ],
   "source": [
    "# 모델 훈련\n",
    "history = model.fit(X_train, y_train, epochs=10, batch_size=32, verbose=2, workers=6)"
   ],
   "metadata": {
    "collapsed": false,
    "ExecuteTime": {
     "end_time": "2023-12-29T12:09:03.121252200Z",
     "start_time": "2023-12-29T12:03:34.787324400Z"
    }
   },
   "id": "a27ffbb07b07dbb7"
  },
  {
   "cell_type": "code",
   "execution_count": 92,
   "outputs": [],
   "source": [
    "predict_data = X_train[-1].reshape(1, -1, 14)"
   ],
   "metadata": {
    "collapsed": false,
    "ExecuteTime": {
     "end_time": "2023-12-29T12:09:03.139264500Z",
     "start_time": "2023-12-29T12:09:03.122248700Z"
    }
   },
   "id": "5b74be8b57cafcbb"
  },
  {
   "cell_type": "code",
   "execution_count": 93,
   "outputs": [],
   "source": [
    "pred = model.predict(predict_data)"
   ],
   "metadata": {
    "collapsed": false,
    "ExecuteTime": {
     "end_time": "2023-12-29T12:09:03.893431400Z",
     "start_time": "2023-12-29T12:09:03.138266900Z"
    }
   },
   "id": "88af11eae2710e7b"
  },
  {
   "cell_type": "code",
   "execution_count": 94,
   "outputs": [],
   "source": [
    "# MinMaxScaler의 역변환을 수행하는 함수 정의\n",
    "def inverse_minmax_scaling(scaled_data, min_val, max_val):\n",
    "    return (scaled_data * (max_val - min_val)) + min_val\n",
    "\n",
    "# 최소값과 최대값 정의\n",
    "min_val = -16.4\n",
    "max_val = 33.7\n",
    "\n",
    "# 역변환 수행\n",
    "pred = inverse_minmax_scaling(pred, min_val, max_val)"
   ],
   "metadata": {
    "collapsed": false,
    "ExecuteTime": {
     "end_time": "2023-12-29T12:09:03.910430600Z",
     "start_time": "2023-12-29T12:09:03.896423Z"
    }
   },
   "id": "accc095c2fa9d95b"
  },
  {
   "cell_type": "code",
   "execution_count": 95,
   "outputs": [],
   "source": [
    "pred = pred[-1].reshape(-1,)"
   ],
   "metadata": {
    "collapsed": false,
    "ExecuteTime": {
     "end_time": "2023-12-29T12:09:03.929311500Z",
     "start_time": "2023-12-29T12:09:03.911427500Z"
    }
   },
   "id": "f95c2310cb08bf67"
  },
  {
   "cell_type": "code",
   "execution_count": 96,
   "outputs": [
    {
     "data": {
      "text/plain": "array([-1.99339962e+00, -1.34718323e+00, -1.90944767e+00, -1.21374226e+00,\n       -1.47844410e+00, -1.69936752e+00, -2.24826241e+00, -1.98721123e+00,\n       -2.15509319e+00, -2.33009338e+00, -1.75677967e+00, -1.64237881e+00,\n       -2.40931129e+00, -2.28436089e+00, -2.05847549e+00, -2.40781975e+00,\n       -1.97411633e+00, -2.31323338e+00, -2.08143139e+00, -2.20594692e+00,\n       -1.78476524e+00, -1.49482822e+00, -2.37300491e+00, -2.09207439e+00,\n       -8.22341919e-01, -1.01686096e+00, -8.84950638e-01, -8.46887589e-01,\n       -1.00914192e+00, -1.19625187e+00, -9.30237770e-01, -1.10060883e+00,\n       -6.87824249e-01, -2.81740189e-01, -1.30224228e-01, -4.26807404e-02,\n        3.26801300e-01,  2.39728928e-01, -8.32138062e-02,  2.69010544e-01,\n        7.12545395e-01,  1.06921768e+00,  1.48562241e+00,  8.17321777e-01,\n        9.97331619e-01,  1.67772293e+00,  1.93629837e+00,  1.20836258e+00,\n        1.64289284e+00,  2.17366409e+00,  3.61262321e+00,  2.87977600e+00,\n        2.99304390e+00,  2.64562988e+00,  3.56253433e+00,  3.86755180e+00,\n        4.06132126e+00,  3.87018013e+00,  4.59885788e+00,  5.00599861e+00,\n        4.31918716e+00,  4.67468262e+00,  4.12117004e+00,  4.39579582e+00,\n        5.20946693e+00,  4.50734138e+00,  5.15226555e+00,  6.00072479e+00,\n        5.99570656e+00,  6.32199860e+00,  6.08138084e+00,  6.47040176e+00,\n        7.12058830e+00,  7.61008263e+00,  7.25638199e+00,  7.34272003e+00,\n        8.67251587e+00,  8.37397957e+00,  8.26849556e+00,  8.18130493e+00,\n        8.55360413e+00,  8.71829987e+00,  9.06797791e+00,  9.72246933e+00,\n        1.01981373e+01,  9.98532295e+00,  1.06343956e+01,  1.10257244e+01,\n        1.09095917e+01,  1.11853161e+01,  1.12377930e+01,  1.16203442e+01,\n        1.14782314e+01,  1.18556271e+01,  1.17778492e+01,  1.16371803e+01,\n        1.19027309e+01,  1.24385700e+01,  1.23434868e+01,  1.34379883e+01,\n        1.25618706e+01,  1.30912590e+01,  1.30385323e+01,  1.37615185e+01,\n        1.37088642e+01,  1.41102104e+01,  1.47848701e+01,  1.46156425e+01,\n        1.45187969e+01,  1.50116177e+01,  1.56548862e+01,  1.55446205e+01,\n        1.55623913e+01,  1.58907566e+01,  1.58080616e+01,  1.62322521e+01,\n        1.59657269e+01,  1.58548870e+01,  1.64950047e+01,  1.67804737e+01,\n        1.69167843e+01,  1.71300831e+01,  1.81250744e+01,  1.81225071e+01,\n        1.82585354e+01,  1.75601101e+01,  1.79442539e+01,  1.76800938e+01,\n        1.79839497e+01,  1.81412144e+01,  1.86312046e+01,  1.87780895e+01,\n        1.91735859e+01,  1.94401188e+01,  1.95915661e+01,  2.03767376e+01,\n        1.98926678e+01,  2.00205135e+01,  2.03362980e+01,  2.03144932e+01,\n        2.05552883e+01,  2.07813320e+01,  2.07870808e+01,  2.09445591e+01,\n        2.09686260e+01,  2.15618038e+01,  2.11458035e+01,  2.15109577e+01,\n        2.17721233e+01,  2.16470585e+01,  2.17875919e+01,  2.20426693e+01,\n        2.26072330e+01,  2.23398495e+01,  2.27301350e+01,  2.27900181e+01,\n        2.33230495e+01,  2.31113148e+01,  2.29108677e+01,  2.28092098e+01,\n        2.33011456e+01,  2.33001041e+01,  2.37524433e+01,  2.36858807e+01,\n        2.37545452e+01,  2.37400684e+01,  2.40231953e+01,  2.35211201e+01,\n        2.38491230e+01,  2.33366833e+01,  2.33910275e+01,  2.39666309e+01,\n        2.40906048e+01,  2.36005993e+01,  2.39308376e+01,  2.43059711e+01,\n        2.40913906e+01,  2.42039356e+01,  2.41790562e+01,  2.48479939e+01,\n        2.42507229e+01,  2.48020802e+01,  2.44381924e+01,  2.50646267e+01,\n        2.61257305e+01,  2.63672543e+01,  2.61263714e+01,  2.59341145e+01,\n        2.54834805e+01,  2.63721066e+01,  2.67859859e+01,  2.64266567e+01,\n        2.67760258e+01,  2.69085293e+01,  2.65237637e+01,  2.66154499e+01,\n        2.61718159e+01,  2.65695896e+01,  2.64476376e+01,  2.62781010e+01,\n        2.59755001e+01,  2.61895237e+01,  2.61392689e+01,  2.64182987e+01,\n        2.70772724e+01,  2.63872242e+01,  2.60914783e+01,  2.64111462e+01,\n        2.60912075e+01,  2.68297100e+01,  2.71413059e+01,  2.71924839e+01,\n        2.69710636e+01,  2.70106068e+01,  2.64821453e+01,  2.55921345e+01,\n        2.64034061e+01,  2.66488857e+01,  2.65807171e+01,  2.59805202e+01,\n        2.62215061e+01,  2.68427563e+01,  2.72354374e+01,  2.61908855e+01,\n        2.61831112e+01,  2.64773197e+01,  2.67018757e+01,  2.64752789e+01,\n        2.60852222e+01,  2.56223011e+01,  2.61585560e+01,  2.60213528e+01,\n        2.54995022e+01,  2.54034023e+01,  2.54679699e+01,  2.50523281e+01,\n        2.50192661e+01,  2.49013691e+01,  2.45963383e+01,  2.39215946e+01,\n        2.45990887e+01,  2.37958965e+01,  2.41592045e+01,  2.41173878e+01,\n        2.43966427e+01,  2.39140797e+01,  2.36667156e+01,  2.30672131e+01,\n        2.32925053e+01,  2.29917545e+01,  2.21273060e+01,  2.27961788e+01,\n        2.29163761e+01,  2.21120663e+01,  2.27085705e+01,  2.24355946e+01,\n        2.15774517e+01,  2.16645870e+01,  2.10094318e+01,  2.10850620e+01,\n        2.07408581e+01,  2.03133602e+01,  2.03836613e+01,  2.01848316e+01,\n        2.02092342e+01,  1.97074451e+01,  1.87580662e+01,  1.85688877e+01,\n        1.91931934e+01,  1.90580921e+01,  1.84586391e+01,  1.79657955e+01,\n        1.82559948e+01,  1.71928005e+01,  1.71552677e+01,  1.76863537e+01,\n        1.70033550e+01,  1.65736866e+01,  1.75604000e+01,  1.60763111e+01,\n        1.65117741e+01,  1.57391376e+01,  1.51111259e+01,  1.47348385e+01,\n        1.51215115e+01,  1.48806038e+01,  1.46199207e+01,  1.43432693e+01,\n        1.38694649e+01,  1.31967525e+01,  1.30211353e+01,  1.32982082e+01,\n        1.31802425e+01,  1.24604568e+01,  1.25002823e+01,  1.22631950e+01,\n        1.19907856e+01,  1.18612137e+01,  1.16062355e+01,  1.15380459e+01,\n        1.03953629e+01,  9.89188194e+00,  9.82559204e+00,  9.38708115e+00,\n        9.17820358e+00,  8.88628769e+00,  9.00027466e+00,  8.35398102e+00,\n        8.97989655e+00,  8.26227760e+00,  7.74252319e+00,  8.09435081e+00,\n        7.00515556e+00,  7.58102608e+00,  7.02796936e+00,  6.35984421e+00,\n        6.44122124e+00,  6.12838745e+00,  5.04749107e+00,  5.62740326e+00,\n        4.96217918e+00,  4.08338928e+00,  4.36139107e+00,  4.10431671e+00,\n        4.40581894e+00,  3.53143311e+00,  4.56865883e+00,  3.45192909e+00,\n        4.00236511e+00,  3.08302879e+00,  2.49213982e+00,  3.08750725e+00,\n        2.24719620e+00,  1.41753578e+00,  1.92379570e+00,  9.08824921e-01,\n        1.11388779e+00,  7.68615723e-01,  8.70641708e-01,  1.16009712e+00,\n        1.21459770e+00,  1.03902817e+00, -1.11331940e-01,  3.40080261e-03,\n        2.90626526e-01,  3.26061249e-02,  6.10103607e-01,  7.28574753e-01,\n        2.54842758e-01, -4.01162148e-01, -5.84989548e-01, -1.06928349e+00,\n       -6.22143745e-01, -8.36323738e-01, -1.02838612e+00, -1.19626617e+00,\n       -1.41749477e+00, -1.12243843e+00], dtype=float32)"
     },
     "execution_count": 96,
     "metadata": {},
     "output_type": "execute_result"
    }
   ],
   "source": [
    "pred"
   ],
   "metadata": {
    "collapsed": false,
    "ExecuteTime": {
     "end_time": "2023-12-29T12:09:03.943272600Z",
     "start_time": "2023-12-29T12:09:03.928315200Z"
    }
   },
   "id": "f1d5753fc4ee6f6"
  },
  {
   "cell_type": "code",
   "execution_count": 97,
   "outputs": [],
   "source": [
    "sub = pd.read_csv('../data/sample_submission.csv')\n",
    "sub['평균기온'] = pred\n",
    "\n",
    "sub.to_csv('../submission/GRU_26.csv', index=False)"
   ],
   "metadata": {
    "collapsed": false,
    "ExecuteTime": {
     "end_time": "2023-12-29T12:09:03.963166500Z",
     "start_time": "2023-12-29T12:09:03.943272600Z"
    }
   },
   "id": "a9c7e04b62915a93"
  },
  {
   "cell_type": "code",
   "execution_count": null,
   "outputs": [],
   "source": [],
   "metadata": {
    "collapsed": false
   },
   "id": "986ebfe6c78187f3"
  }
 ],
 "metadata": {
  "kernelspec": {
   "display_name": "Python 3",
   "language": "python",
   "name": "python3"
  },
  "language_info": {
   "codemirror_mode": {
    "name": "ipython",
    "version": 2
   },
   "file_extension": ".py",
   "mimetype": "text/x-python",
   "name": "python",
   "nbconvert_exporter": "python",
   "pygments_lexer": "ipython2",
   "version": "2.7.6"
  }
 },
 "nbformat": 4,
 "nbformat_minor": 5
}

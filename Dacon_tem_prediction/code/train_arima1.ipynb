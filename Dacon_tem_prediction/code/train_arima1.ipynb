{
 "cells": [
  {
   "cell_type": "code",
   "execution_count": 1,
   "id": "initial_id",
   "metadata": {
    "collapsed": true,
    "ExecuteTime": {
     "end_time": "2023-12-22T09:18:15.576904500Z",
     "start_time": "2023-12-22T09:18:15.563939200Z"
    }
   },
   "outputs": [],
   "source": [
    "import os\n",
    "os.environ['KMP_DUPLICATE_LIB_OK']='True'\n",
    "import warnings\n",
    "warnings.filterwarnings('ignore', category=FutureWarning)\n"
   ]
  },
  {
   "cell_type": "code",
   "execution_count": 10,
   "outputs": [],
   "source": [
    "# import package\n",
    "\n",
    "# model\n",
    "import torch\n",
    "import torch.nn as nn\n",
    "import torch.nn.functional as F\n",
    "from torchsummary import summary\n",
    "from torch import optim\n",
    "from torch.optim.lr_scheduler import StepLR\n",
    "\n",
    "# dataset and transformation\n",
    "from torchvision import datasets\n",
    "import torchvision.transforms as transforms\n",
    "from torch.utils.data import DataLoader\n",
    "from torchvision import models\n",
    "import torch.nn as nn\n",
    "import torch.nn.functional as F\n",
    "import torchvision\n",
    "\n",
    "# display images\n",
    "from torchvision import utils\n",
    "import matplotlib.pyplot as plt\n",
    "%matplotlib inline\n",
    "\n",
    "\n",
    "# utils\n",
    "import numpy as np\n",
    "from torchsummary import summary\n",
    "import time\n",
    "import copy\n",
    "import pandas as pd \n",
    "\n",
    "import os\n",
    "from warnings import filterwarnings\n",
    "filterwarnings('ignore')\n",
    "\n",
    "import torch\n",
    "from torch import nn, optim\n",
    "from torch.backends import cudnn\n",
    "cudnn.benchmark = True\n",
    "from randaugment import RandAugment, ImageNetPolicy\n",
    "\n",
    "import seaborn as sns\n",
    "plt.rcParams['font.family'] = 'Malgun Gothic'\n",
    "\n",
    "import tensorflow as tf"
   ],
   "metadata": {
    "collapsed": false,
    "ExecuteTime": {
     "end_time": "2023-12-22T09:19:28.464478300Z",
     "start_time": "2023-12-22T09:19:28.452511Z"
    }
   },
   "id": "598fd40638681fee"
  },
  {
   "cell_type": "code",
   "execution_count": 7,
   "outputs": [
    {
     "name": "stdout",
     "output_type": "stream",
     "text": [
      "cuda:0\n"
     ]
    }
   ],
   "source": [
    "import torch\n",
    "device = torch.device('cuda:0' if torch.cuda.is_available() else 'cpu')\n",
    "\n",
    "print(device)"
   ],
   "metadata": {
    "collapsed": false,
    "ExecuteTime": {
     "end_time": "2023-12-22T09:18:52.247896600Z",
     "start_time": "2023-12-22T09:18:52.232937800Z"
    }
   },
   "id": "868fb8c5d4fd5de8"
  },
  {
   "cell_type": "code",
   "execution_count": 8,
   "outputs": [
    {
     "name": "stdout",
     "output_type": "stream",
     "text": [
      "WARNING:tensorflow:From C:\\Users\\SJ\\AppData\\Local\\Temp\\ipykernel_35668\\365831625.py:1: is_gpu_available (from tensorflow.python.framework.test_util) is deprecated and will be removed in a future version.\n",
      "Instructions for updating:\n",
      "Use `tf.config.list_physical_devices('GPU')` instead.\n"
     ]
    },
    {
     "data": {
      "text/plain": "True"
     },
     "execution_count": 8,
     "metadata": {},
     "output_type": "execute_result"
    }
   ],
   "source": [
    "tf.test.is_gpu_available(cuda_only=False, min_cuda_compute_capability=None )"
   ],
   "metadata": {
    "collapsed": false,
    "ExecuteTime": {
     "end_time": "2023-12-22T09:18:52.905248600Z",
     "start_time": "2023-12-22T09:18:52.397518Z"
    }
   },
   "id": "d231a3057bdb769d"
  },
  {
   "cell_type": "code",
   "execution_count": 17,
   "outputs": [],
   "source": [
    "train_df =pd.read_csv(\"../data/train.csv\")\n",
    "submission_df = pd.read_csv(\"../data/sample_submission.csv\")"
   ],
   "metadata": {
    "collapsed": false,
    "ExecuteTime": {
     "end_time": "2023-12-22T09:22:15.845344600Z",
     "start_time": "2023-12-22T09:22:15.797471800Z"
    }
   },
   "id": "4a4aa404946db710"
  },
  {
   "cell_type": "code",
   "execution_count": 18,
   "outputs": [
    {
     "data": {
      "text/plain": "            최고기온  최저기온   일교차  강수량  평균습도  평균풍속  일조합  일사합  일조율  평균기온\n일시                                                                \n1960-01-01   2.2  -5.2   7.4  NaN  68.3   1.7  6.7  NaN  NaN  -1.6\n1960-01-02   1.2  -5.6   6.8  0.4  87.7   1.3  0.0  NaN  NaN  -1.9\n1960-01-03   8.7  -2.1  10.8  0.0  81.3   3.0  0.0  NaN  NaN   4.0\n1960-01-04  10.8   1.2   9.6  0.0  79.7   4.4  2.6  NaN  NaN   7.5\n1960-01-05   1.3  -8.2   9.5  NaN  44.0   5.1  8.2  NaN  NaN  -4.6",
      "text/html": "<div>\n<style scoped>\n    .dataframe tbody tr th:only-of-type {\n        vertical-align: middle;\n    }\n\n    .dataframe tbody tr th {\n        vertical-align: top;\n    }\n\n    .dataframe thead th {\n        text-align: right;\n    }\n</style>\n<table border=\"1\" class=\"dataframe\">\n  <thead>\n    <tr style=\"text-align: right;\">\n      <th></th>\n      <th>최고기온</th>\n      <th>최저기온</th>\n      <th>일교차</th>\n      <th>강수량</th>\n      <th>평균습도</th>\n      <th>평균풍속</th>\n      <th>일조합</th>\n      <th>일사합</th>\n      <th>일조율</th>\n      <th>평균기온</th>\n    </tr>\n    <tr>\n      <th>일시</th>\n      <th></th>\n      <th></th>\n      <th></th>\n      <th></th>\n      <th></th>\n      <th></th>\n      <th></th>\n      <th></th>\n      <th></th>\n      <th></th>\n    </tr>\n  </thead>\n  <tbody>\n    <tr>\n      <th>1960-01-01</th>\n      <td>2.2</td>\n      <td>-5.2</td>\n      <td>7.4</td>\n      <td>NaN</td>\n      <td>68.3</td>\n      <td>1.7</td>\n      <td>6.7</td>\n      <td>NaN</td>\n      <td>NaN</td>\n      <td>-1.6</td>\n    </tr>\n    <tr>\n      <th>1960-01-02</th>\n      <td>1.2</td>\n      <td>-5.6</td>\n      <td>6.8</td>\n      <td>0.4</td>\n      <td>87.7</td>\n      <td>1.3</td>\n      <td>0.0</td>\n      <td>NaN</td>\n      <td>NaN</td>\n      <td>-1.9</td>\n    </tr>\n    <tr>\n      <th>1960-01-03</th>\n      <td>8.7</td>\n      <td>-2.1</td>\n      <td>10.8</td>\n      <td>0.0</td>\n      <td>81.3</td>\n      <td>3.0</td>\n      <td>0.0</td>\n      <td>NaN</td>\n      <td>NaN</td>\n      <td>4.0</td>\n    </tr>\n    <tr>\n      <th>1960-01-04</th>\n      <td>10.8</td>\n      <td>1.2</td>\n      <td>9.6</td>\n      <td>0.0</td>\n      <td>79.7</td>\n      <td>4.4</td>\n      <td>2.6</td>\n      <td>NaN</td>\n      <td>NaN</td>\n      <td>7.5</td>\n    </tr>\n    <tr>\n      <th>1960-01-05</th>\n      <td>1.3</td>\n      <td>-8.2</td>\n      <td>9.5</td>\n      <td>NaN</td>\n      <td>44.0</td>\n      <td>5.1</td>\n      <td>8.2</td>\n      <td>NaN</td>\n      <td>NaN</td>\n      <td>-4.6</td>\n    </tr>\n  </tbody>\n</table>\n</div>"
     },
     "execution_count": 18,
     "metadata": {},
     "output_type": "execute_result"
    }
   ],
   "source": [
    "# 날짜 데이터 변환\n",
    "train_df['일시'] = pd.to_datetime(train_df['일시'])\n",
    "train_df = train_df.set_index('일시')\n",
    "\n",
    "# 데이터의 시간 간격 지정\n",
    "train_df.index.freq = 'D'\n",
    "\n",
    "# 일시 컬럼이 인덱스로 할당됩니다.  \n",
    "train_df.head()"
   ],
   "metadata": {
    "collapsed": false,
    "ExecuteTime": {
     "end_time": "2023-12-22T09:22:18.631804600Z",
     "start_time": "2023-12-22T09:22:18.590993700Z"
    }
   },
   "id": "36e6af542177dfee"
  },
  {
   "cell_type": "code",
   "execution_count": 19,
   "outputs": [
    {
     "name": "stderr",
     "output_type": "stream",
     "text": [
      "C:\\Users\\SJ\\anaconda3\\envs\\study\\lib\\site-packages\\statsmodels\\base\\model.py:607: ConvergenceWarning: Maximum Likelihood optimization failed to converge. Check mle_retvals\n",
      "  warnings.warn(\"Maximum Likelihood optimization failed to \"\n"
     ]
    }
   ],
   "source": [
    "from statsmodels.tsa.arima.model import ARIMA\n",
    "\n",
    "# ARIMA 모델 훈련\n",
    "model = ARIMA(train_df['평균기온'], order=(2, 1, 3))  # p, d, q 값은 조정 필요\n",
    "model_fit = model.fit()"
   ],
   "metadata": {
    "collapsed": false,
    "ExecuteTime": {
     "end_time": "2023-12-22T09:22:29.784929600Z",
     "start_time": "2023-12-22T09:22:18.898510200Z"
    }
   },
   "id": "4d6a25f8fb4cf6b1"
  },
  {
   "cell_type": "code",
   "execution_count": 20,
   "outputs": [],
   "source": [
    "submission_df['일시'] = pd.to_datetime(submission_df['일시'])\n",
    "\n",
    "# 예측할 기간 설정\n",
    "start_date = submission_df['일시'].min()\n",
    "end_date = submission_df['일시'].max()\n",
    "\n",
    "# ARIMA 모델을 사용하여 예측\n",
    "forecast = model_fit.predict(start=start_date, end=end_date, typ='levels')"
   ],
   "metadata": {
    "collapsed": false,
    "ExecuteTime": {
     "end_time": "2023-12-22T09:22:29.817840Z",
     "start_time": "2023-12-22T09:22:29.785926900Z"
    }
   },
   "id": "766c6d91a7fd35ca"
  },
  {
   "cell_type": "code",
   "execution_count": 21,
   "outputs": [
    {
     "data": {
      "text/plain": "          일시      평균기온\n0 2023-01-01 -2.923024\n1 2023-01-02 -4.701587\n2 2023-01-03 -5.781790\n3 2023-01-04 -6.478484\n4 2023-01-05 -6.963896",
      "text/html": "<div>\n<style scoped>\n    .dataframe tbody tr th:only-of-type {\n        vertical-align: middle;\n    }\n\n    .dataframe tbody tr th {\n        vertical-align: top;\n    }\n\n    .dataframe thead th {\n        text-align: right;\n    }\n</style>\n<table border=\"1\" class=\"dataframe\">\n  <thead>\n    <tr style=\"text-align: right;\">\n      <th></th>\n      <th>일시</th>\n      <th>평균기온</th>\n    </tr>\n  </thead>\n  <tbody>\n    <tr>\n      <th>0</th>\n      <td>2023-01-01</td>\n      <td>-2.923024</td>\n    </tr>\n    <tr>\n      <th>1</th>\n      <td>2023-01-02</td>\n      <td>-4.701587</td>\n    </tr>\n    <tr>\n      <th>2</th>\n      <td>2023-01-03</td>\n      <td>-5.781790</td>\n    </tr>\n    <tr>\n      <th>3</th>\n      <td>2023-01-04</td>\n      <td>-6.478484</td>\n    </tr>\n    <tr>\n      <th>4</th>\n      <td>2023-01-05</td>\n      <td>-6.963896</td>\n    </tr>\n  </tbody>\n</table>\n</div>"
     },
     "metadata": {},
     "output_type": "display_data"
    }
   ],
   "source": [
    "submission_df['평균기온'] = forecast.values\n",
    "display(submission_df.head())"
   ],
   "metadata": {
    "collapsed": false,
    "ExecuteTime": {
     "end_time": "2023-12-22T09:22:35.020092400Z",
     "start_time": "2023-12-22T09:22:34.995159800Z"
    }
   },
   "id": "9458ea747136b474"
  },
  {
   "cell_type": "code",
   "execution_count": 22,
   "outputs": [],
   "source": [
    "# 예측 결과 저장\n",
    "submission_df.to_csv('../submission/baseline_submit.csv', index=False)"
   ],
   "metadata": {
    "collapsed": false,
    "ExecuteTime": {
     "end_time": "2023-12-22T09:23:22.845476500Z",
     "start_time": "2023-12-22T09:23:22.822538500Z"
    }
   },
   "id": "2636e15ba8cbcc33"
  }
 ],
 "metadata": {
  "kernelspec": {
   "display_name": "Python 3",
   "language": "python",
   "name": "python3"
  },
  "language_info": {
   "codemirror_mode": {
    "name": "ipython",
    "version": 2
   },
   "file_extension": ".py",
   "mimetype": "text/x-python",
   "name": "python",
   "nbconvert_exporter": "python",
   "pygments_lexer": "ipython2",
   "version": "2.7.6"
  }
 },
 "nbformat": 4,
 "nbformat_minor": 5
}
